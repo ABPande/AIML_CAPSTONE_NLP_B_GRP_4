{
  "nbformat": 4,
  "nbformat_minor": 0,
  "metadata": {
    "kernelspec": {
      "display_name": "Python 3",
      "language": "python",
      "name": "python3"
    },
    "language_info": {
      "codemirror_mode": {
        "name": "ipython",
        "version": 3
      },
      "file_extension": ".py",
      "mimetype": "text/x-python",
      "name": "python",
      "nbconvert_exporter": "python",
      "pygments_lexer": "ipython3",
      "version": "3.7.3"
    },
    "colab": {
      "name": "Capstone Project.ipynb",
      "provenance": [],
      "collapsed_sections": []
    }
  },
  "cells": [
    {
      "cell_type": "markdown",
      "metadata": {
        "id": "f6oi-KsRq_gU"
      },
      "source": [
        "# **Capstone Project GRP4 NLP B**"
      ]
    },
    {
      "cell_type": "code",
      "metadata": {
        "colab": {
          "base_uri": "https://localhost:8080/",
          "height": 35
        },
        "id": "OFTNmGjVq_gU",
        "outputId": "4b89ce01-fde2-42da-87f0-f58f94e0a317"
      },
      "source": [
        "from google.colab import drive\n",
        "\n",
        "import tensorflow as tf\n",
        "\n",
        "from tensorflow.keras.preprocessing.text import Tokenizer\n",
        "from tensorflow.keras.preprocessing.sequence import pad_sequences\n",
        "from tensorflow.keras.utils import to_categorical\n",
        "from tensorflow.keras.models import Model, Sequential\n",
        "from tensorflow.keras.layers import LSTM, Embedding, Dense, TimeDistributed, Dropout, Bidirectional, Input, Flatten, GlobalMaxPool1D, SpatialDropout1D\n",
        "\n",
        "from keras.preprocessing import sequence\n",
        "from keras.callbacks import EarlyStopping\n",
        "\n",
        "from gensim.test.utils import datapath, get_tmpfile\n",
        "from gensim.models import KeyedVectors # Gensim contains word2vec models and processing tools\n",
        "from gensim.scripts.glove2word2vec import glove2word2vec\n",
        "\n",
        "from sklearn.model_selection import train_test_split\n",
        "from sklearn.metrics import confusion_matrix, classification_report\n",
        "from sklearn.preprocessing import binarize\n",
        "\n",
        "from nltk import word_tokenize\n",
        "from nltk.corpus import wordnet \n",
        "\n",
        "import os\n",
        "import nltk\n",
        "import string\n",
        "import re\n",
        "\n",
        "from collections import Counter\n",
        "from nltk.corpus import stopwords\n",
        "from translate import Translator\n",
        "from langdetect import detect\n",
        "from langdetect import detect_langs\n",
        "from langdetect import DetectorFactory\n",
        "DetectorFactory.seed = 0\n",
        "\n",
        "import random\n",
        "random.seed(0)\n",
        "import warnings\n",
        "warnings.filterwarnings(\"ignore\")\n",
        "\n",
        "import random as rnd\n",
        "import pandas as pd\n",
        "import matplotlib.pyplot as plt\n",
        "import seaborn as sns\n",
        "import numpy as np\n",
        "from IPython.display import display\n",
        "\n",
        "from textblob import Word\n",
        "from ftfy import fix_text\n",
        "tf.__version__\n",
        "#from googletrans import Translator\n",
        "#translator = Translator(service_urls=['translate.googleapis.com'])\n",
        "#!{sys.executable} -m pip install pypdf2\n",
        "#!{sys.executable} -m pip install python-docx\n",
        "#!{sys.executable} -m pip install python-docx2txt"
      ],
      "execution_count": 61,
      "outputs": [
        {
          "output_type": "execute_result",
          "data": {
            "application/vnd.google.colaboratory.intrinsic+json": {
              "type": "string"
            },
            "text/plain": [
              "'2.3.0'"
            ]
          },
          "metadata": {
            "tags": []
          },
          "execution_count": 61
        }
      ]
    },
    {
      "cell_type": "code",
      "metadata": {
        "colab": {
          "base_uri": "https://localhost:8080/"
        },
        "id": "qoWxoxmSjAVw",
        "outputId": "c9230f4c-beda-4213-972a-fe087d6132a3"
      },
      "source": [
        "nltk.download('stopwords')\n",
        "nltk.download('wordnet')"
      ],
      "execution_count": 68,
      "outputs": [
        {
          "output_type": "stream",
          "text": [
            "[nltk_data] Downloading package stopwords to /root/nltk_data...\n",
            "[nltk_data]   Package stopwords is already up-to-date!\n",
            "[nltk_data] Downloading package wordnet to /root/nltk_data...\n",
            "[nltk_data]   Unzipping corpora/wordnet.zip.\n"
          ],
          "name": "stdout"
        },
        {
          "output_type": "execute_result",
          "data": {
            "text/plain": [
              "True"
            ]
          },
          "metadata": {
            "tags": []
          },
          "execution_count": 68
        }
      ]
    },
    {
      "cell_type": "code",
      "metadata": {
        "colab": {
          "base_uri": "https://localhost:8080/"
        },
        "id": "ZpvwcjP0ZqzW",
        "outputId": "6f79c39a-7ed1-445a-8967-52132a700b71"
      },
      "source": [
        "!pip install -U textblob\n",
        "!pip install translators\n",
        "!pip install goslate\n",
        "import goslate\n",
        "!pip install translate\n",
        "!pip install googletrans\n",
        "import googletrans\n",
        "from googletrans import Translator\n",
        "!pip install langdetect\n",
        "!pip install ftfy"
      ],
      "execution_count": 34,
      "outputs": [
        {
          "output_type": "stream",
          "text": [
            "Requirement already up-to-date: textblob in /usr/local/lib/python3.6/dist-packages (0.15.3)\n",
            "Requirement already satisfied, skipping upgrade: nltk>=3.1 in /usr/local/lib/python3.6/dist-packages (from textblob) (3.2.5)\n",
            "Requirement already satisfied, skipping upgrade: six in /usr/local/lib/python3.6/dist-packages (from nltk>=3.1->textblob) (1.15.0)\n",
            "Requirement already satisfied: translators in /usr/local/lib/python3.6/dist-packages (4.7.11)\n",
            "Requirement already satisfied: loguru>=0.4.1 in /usr/local/lib/python3.6/dist-packages (from translators) (0.5.3)\n",
            "Requirement already satisfied: requests>=2.23.0 in /usr/local/lib/python3.6/dist-packages (from translators) (2.23.0)\n",
            "Requirement already satisfied: lxml>=4.5.0 in /usr/local/lib/python3.6/dist-packages (from translators) (4.6.2)\n",
            "Requirement already satisfied: PyExecJS>=1.5.1 in /usr/local/lib/python3.6/dist-packages (from translators) (1.5.1)\n",
            "Requirement already satisfied: aiocontextvars>=0.2.0; python_version < \"3.7\" in /usr/local/lib/python3.6/dist-packages (from loguru>=0.4.1->translators) (0.2.2)\n",
            "Requirement already satisfied: urllib3!=1.25.0,!=1.25.1,<1.26,>=1.21.1 in /usr/local/lib/python3.6/dist-packages (from requests>=2.23.0->translators) (1.24.3)\n",
            "Requirement already satisfied: chardet<4,>=3.0.2 in /usr/local/lib/python3.6/dist-packages (from requests>=2.23.0->translators) (3.0.4)\n",
            "Requirement already satisfied: idna<3,>=2.5 in /usr/local/lib/python3.6/dist-packages (from requests>=2.23.0->translators) (2.10)\n",
            "Requirement already satisfied: certifi>=2017.4.17 in /usr/local/lib/python3.6/dist-packages (from requests>=2.23.0->translators) (2020.11.8)\n",
            "Requirement already satisfied: six>=1.10.0 in /usr/local/lib/python3.6/dist-packages (from PyExecJS>=1.5.1->translators) (1.15.0)\n",
            "Requirement already satisfied: contextvars==2.4; python_version < \"3.7\" in /usr/local/lib/python3.6/dist-packages (from aiocontextvars>=0.2.0; python_version < \"3.7\"->loguru>=0.4.1->translators) (2.4)\n",
            "Requirement already satisfied: immutables>=0.9 in /usr/local/lib/python3.6/dist-packages (from contextvars==2.4; python_version < \"3.7\"->aiocontextvars>=0.2.0; python_version < \"3.7\"->loguru>=0.4.1->translators) (0.14)\n",
            "Requirement already satisfied: goslate in /usr/local/lib/python3.6/dist-packages (1.5.1)\n",
            "Requirement already satisfied: futures in /usr/local/lib/python3.6/dist-packages (from goslate) (3.1.1)\n",
            "Requirement already satisfied: translate in /usr/local/lib/python3.6/dist-packages (3.5.0)\n",
            "Requirement already satisfied: tox in /usr/local/lib/python3.6/dist-packages (from translate) (3.20.1)\n",
            "Requirement already satisfied: pre-commit in /usr/local/lib/python3.6/dist-packages (from translate) (2.9.2)\n",
            "Requirement already satisfied: lxml in /usr/local/lib/python3.6/dist-packages (from translate) (4.6.2)\n",
            "Requirement already satisfied: requests in /usr/local/lib/python3.6/dist-packages (from translate) (2.23.0)\n",
            "Requirement already satisfied: click in /usr/local/lib/python3.6/dist-packages (from translate) (7.1.2)\n",
            "Requirement already satisfied: virtualenv!=20.0.0,!=20.0.1,!=20.0.2,!=20.0.3,!=20.0.4,!=20.0.5,!=20.0.6,!=20.0.7,>=16.0.0 in /usr/local/lib/python3.6/dist-packages (from tox->translate) (20.2.1)\n",
            "Requirement already satisfied: packaging>=14 in /usr/local/lib/python3.6/dist-packages (from tox->translate) (20.4)\n",
            "Requirement already satisfied: filelock>=3.0.0 in /usr/local/lib/python3.6/dist-packages (from tox->translate) (3.0.12)\n",
            "Requirement already satisfied: importlib-metadata<3,>=0.12; python_version < \"3.8\" in /usr/local/lib/python3.6/dist-packages (from tox->translate) (2.0.0)\n",
            "Requirement already satisfied: six>=1.14.0 in /usr/local/lib/python3.6/dist-packages (from tox->translate) (1.15.0)\n",
            "Requirement already satisfied: py>=1.4.17 in /usr/local/lib/python3.6/dist-packages (from tox->translate) (1.9.0)\n",
            "Requirement already satisfied: toml>=0.9.4 in /usr/local/lib/python3.6/dist-packages (from tox->translate) (0.10.2)\n",
            "Requirement already satisfied: pluggy>=0.12.0 in /usr/local/lib/python3.6/dist-packages (from tox->translate) (0.13.1)\n",
            "Requirement already satisfied: identify>=1.0.0 in /usr/local/lib/python3.6/dist-packages (from pre-commit->translate) (1.5.10)\n",
            "Requirement already satisfied: nodeenv>=0.11.1 in /usr/local/lib/python3.6/dist-packages (from pre-commit->translate) (1.5.0)\n",
            "Requirement already satisfied: importlib-resources; python_version < \"3.7\" in /usr/local/lib/python3.6/dist-packages (from pre-commit->translate) (3.3.0)\n",
            "Requirement already satisfied: cfgv>=2.0.0 in /usr/local/lib/python3.6/dist-packages (from pre-commit->translate) (3.2.0)\n",
            "Requirement already satisfied: pyyaml>=5.1 in /usr/local/lib/python3.6/dist-packages (from pre-commit->translate) (5.3.1)\n",
            "Requirement already satisfied: chardet<4,>=3.0.2 in /usr/local/lib/python3.6/dist-packages (from requests->translate) (3.0.4)\n",
            "Requirement already satisfied: idna<3,>=2.5 in /usr/local/lib/python3.6/dist-packages (from requests->translate) (2.10)\n",
            "Requirement already satisfied: certifi>=2017.4.17 in /usr/local/lib/python3.6/dist-packages (from requests->translate) (2020.11.8)\n",
            "Requirement already satisfied: urllib3!=1.25.0,!=1.25.1,<1.26,>=1.21.1 in /usr/local/lib/python3.6/dist-packages (from requests->translate) (1.24.3)\n",
            "Requirement already satisfied: appdirs<2,>=1.4.3 in /usr/local/lib/python3.6/dist-packages (from virtualenv!=20.0.0,!=20.0.1,!=20.0.2,!=20.0.3,!=20.0.4,!=20.0.5,!=20.0.6,!=20.0.7,>=16.0.0->tox->translate) (1.4.4)\n",
            "Requirement already satisfied: distlib<1,>=0.3.1 in /usr/local/lib/python3.6/dist-packages (from virtualenv!=20.0.0,!=20.0.1,!=20.0.2,!=20.0.3,!=20.0.4,!=20.0.5,!=20.0.6,!=20.0.7,>=16.0.0->tox->translate) (0.3.1)\n",
            "Requirement already satisfied: pyparsing>=2.0.2 in /usr/local/lib/python3.6/dist-packages (from packaging>=14->tox->translate) (2.4.7)\n",
            "Requirement already satisfied: zipp>=0.5 in /usr/local/lib/python3.6/dist-packages (from importlib-metadata<3,>=0.12; python_version < \"3.8\"->tox->translate) (3.4.0)\n",
            "Requirement already satisfied: googletrans in /usr/local/lib/python3.6/dist-packages (3.0.0)\n",
            "Requirement already satisfied: httpx==0.13.3 in /usr/local/lib/python3.6/dist-packages (from googletrans) (0.13.3)\n",
            "Requirement already satisfied: httpcore==0.9.* in /usr/local/lib/python3.6/dist-packages (from httpx==0.13.3->googletrans) (0.9.1)\n",
            "Requirement already satisfied: chardet==3.* in /usr/local/lib/python3.6/dist-packages (from httpx==0.13.3->googletrans) (3.0.4)\n",
            "Requirement already satisfied: certifi in /usr/local/lib/python3.6/dist-packages (from httpx==0.13.3->googletrans) (2020.11.8)\n",
            "Requirement already satisfied: rfc3986<2,>=1.3 in /usr/local/lib/python3.6/dist-packages (from httpx==0.13.3->googletrans) (1.4.0)\n",
            "Requirement already satisfied: hstspreload in /usr/local/lib/python3.6/dist-packages (from httpx==0.13.3->googletrans) (2020.11.21)\n",
            "Requirement already satisfied: idna==2.* in /usr/local/lib/python3.6/dist-packages (from httpx==0.13.3->googletrans) (2.10)\n",
            "Requirement already satisfied: sniffio in /usr/local/lib/python3.6/dist-packages (from httpx==0.13.3->googletrans) (1.2.0)\n",
            "Requirement already satisfied: h11<0.10,>=0.8 in /usr/local/lib/python3.6/dist-packages (from httpcore==0.9.*->httpx==0.13.3->googletrans) (0.9.0)\n",
            "Requirement already satisfied: h2==3.* in /usr/local/lib/python3.6/dist-packages (from httpcore==0.9.*->httpx==0.13.3->googletrans) (3.2.0)\n",
            "Requirement already satisfied: contextvars>=2.1; python_version < \"3.7\" in /usr/local/lib/python3.6/dist-packages (from sniffio->httpx==0.13.3->googletrans) (2.4)\n",
            "Requirement already satisfied: hyperframe<6,>=5.2.0 in /usr/local/lib/python3.6/dist-packages (from h2==3.*->httpcore==0.9.*->httpx==0.13.3->googletrans) (5.2.0)\n",
            "Requirement already satisfied: hpack<4,>=3.0 in /usr/local/lib/python3.6/dist-packages (from h2==3.*->httpcore==0.9.*->httpx==0.13.3->googletrans) (3.0.0)\n",
            "Requirement already satisfied: immutables>=0.9 in /usr/local/lib/python3.6/dist-packages (from contextvars>=2.1; python_version < \"3.7\"->sniffio->httpx==0.13.3->googletrans) (0.14)\n",
            "Requirement already satisfied: langdetect in /usr/local/lib/python3.6/dist-packages (1.0.8)\n",
            "Requirement already satisfied: six in /usr/local/lib/python3.6/dist-packages (from langdetect) (1.15.0)\n"
          ],
          "name": "stdout"
        }
      ]
    },
    {
      "cell_type": "code",
      "metadata": {
        "colab": {
          "base_uri": "https://localhost:8080/"
        },
        "id": "7hQKJKTBrRli",
        "outputId": "2c6fd350-038a-4221-99dc-06a29a62874a"
      },
      "source": [
        "#### mounting google drive ####\n",
        "drive.mount(\"/content/drive/\")\n",
        "folder_path = (\"/content/drive/My Drive/\") "
      ],
      "execution_count": 35,
      "outputs": [
        {
          "output_type": "stream",
          "text": [
            "Drive already mounted at /content/drive/; to attempt to forcibly remount, call drive.mount(\"/content/drive/\", force_remount=True).\n"
          ],
          "name": "stdout"
        }
      ]
    },
    {
      "cell_type": "code",
      "metadata": {
        "id": "CtKETyHxq_gW"
      },
      "source": [
        "ticket_data = pd.read_excel(folder_path+ \"/input_data.xlsx\")"
      ],
      "execution_count": 36,
      "outputs": []
    },
    {
      "cell_type": "code",
      "metadata": {
        "colab": {
          "base_uri": "https://localhost:8080/"
        },
        "id": "EsoD9CbFNAvV",
        "outputId": "f2501e66-345f-421a-9e4d-8e9fdff93fa6"
      },
      "source": [
        "ticket_data.info()"
      ],
      "execution_count": 37,
      "outputs": [
        {
          "output_type": "stream",
          "text": [
            "<class 'pandas.core.frame.DataFrame'>\n",
            "RangeIndex: 8500 entries, 0 to 8499\n",
            "Data columns (total 4 columns):\n",
            " #   Column             Non-Null Count  Dtype \n",
            "---  ------             --------------  ----- \n",
            " 0   Short description  8492 non-null   object\n",
            " 1   Description        8499 non-null   object\n",
            " 2   Caller             8500 non-null   object\n",
            " 3   Assignment group   8500 non-null   object\n",
            "dtypes: object(4)\n",
            "memory usage: 265.8+ KB\n"
          ],
          "name": "stdout"
        }
      ]
    },
    {
      "cell_type": "code",
      "metadata": {
        "colab": {
          "base_uri": "https://localhost:8080/",
          "height": 204
        },
        "id": "WW4oJJbVq_gW",
        "outputId": "862ed991-434d-440e-830a-7d6c40e171eb"
      },
      "source": [
        "ticket_data.head()"
      ],
      "execution_count": 38,
      "outputs": [
        {
          "output_type": "execute_result",
          "data": {
            "text/html": [
              "<div>\n",
              "<style scoped>\n",
              "    .dataframe tbody tr th:only-of-type {\n",
              "        vertical-align: middle;\n",
              "    }\n",
              "\n",
              "    .dataframe tbody tr th {\n",
              "        vertical-align: top;\n",
              "    }\n",
              "\n",
              "    .dataframe thead th {\n",
              "        text-align: right;\n",
              "    }\n",
              "</style>\n",
              "<table border=\"1\" class=\"dataframe\">\n",
              "  <thead>\n",
              "    <tr style=\"text-align: right;\">\n",
              "      <th></th>\n",
              "      <th>Short description</th>\n",
              "      <th>Description</th>\n",
              "      <th>Caller</th>\n",
              "      <th>Assignment group</th>\n",
              "    </tr>\n",
              "  </thead>\n",
              "  <tbody>\n",
              "    <tr>\n",
              "      <th>0</th>\n",
              "      <td>login issue</td>\n",
              "      <td>-verified user details.(employee# &amp; manager na...</td>\n",
              "      <td>spxjnwir pjlcoqds</td>\n",
              "      <td>GRP_0</td>\n",
              "    </tr>\n",
              "    <tr>\n",
              "      <th>1</th>\n",
              "      <td>outlook</td>\n",
              "      <td>\\r\\n\\r\\nreceived from: hmjdrvpb.komuaywn@gmail...</td>\n",
              "      <td>hmjdrvpb komuaywn</td>\n",
              "      <td>GRP_0</td>\n",
              "    </tr>\n",
              "    <tr>\n",
              "      <th>2</th>\n",
              "      <td>cant log in to vpn</td>\n",
              "      <td>\\r\\n\\r\\nreceived from: eylqgodm.ybqkwiam@gmail...</td>\n",
              "      <td>eylqgodm ybqkwiam</td>\n",
              "      <td>GRP_0</td>\n",
              "    </tr>\n",
              "    <tr>\n",
              "      <th>3</th>\n",
              "      <td>unable to access hr_tool page</td>\n",
              "      <td>unable to access hr_tool page</td>\n",
              "      <td>xbkucsvz gcpydteq</td>\n",
              "      <td>GRP_0</td>\n",
              "    </tr>\n",
              "    <tr>\n",
              "      <th>4</th>\n",
              "      <td>skype error</td>\n",
              "      <td>skype error</td>\n",
              "      <td>owlgqjme qhcozdfx</td>\n",
              "      <td>GRP_0</td>\n",
              "    </tr>\n",
              "  </tbody>\n",
              "</table>\n",
              "</div>"
            ],
            "text/plain": [
              "               Short description  ... Assignment group\n",
              "0                    login issue  ...            GRP_0\n",
              "1                        outlook  ...            GRP_0\n",
              "2             cant log in to vpn  ...            GRP_0\n",
              "3  unable to access hr_tool page  ...            GRP_0\n",
              "4                   skype error   ...            GRP_0\n",
              "\n",
              "[5 rows x 4 columns]"
            ]
          },
          "metadata": {
            "tags": []
          },
          "execution_count": 38
        }
      ]
    },
    {
      "cell_type": "code",
      "metadata": {
        "colab": {
          "base_uri": "https://localhost:8080/"
        },
        "id": "nbaDXIl2ob3L",
        "outputId": "b0100f56-95f9-4036-f821-bdbd424ae88f"
      },
      "source": [
        "unique_callers = ticket_data['Caller'].unique()\n",
        "unique_callers.shape"
      ],
      "execution_count": 83,
      "outputs": [
        {
          "output_type": "execute_result",
          "data": {
            "text/plain": [
              "(2950,)"
            ]
          },
          "metadata": {
            "tags": []
          },
          "execution_count": 83
        }
      ]
    },
    {
      "cell_type": "code",
      "metadata": {
        "colab": {
          "base_uri": "https://localhost:8080/"
        },
        "id": "xtbjKO-6odK4",
        "outputId": "18adb151-a11c-410c-fef7-27d9e578051b"
      },
      "source": [
        "Func_group = ticket_data['Assignment group'].unique()\n",
        "Func_group.shape"
      ],
      "execution_count": 84,
      "outputs": [
        {
          "output_type": "execute_result",
          "data": {
            "text/plain": [
              "(74,)"
            ]
          },
          "metadata": {
            "tags": []
          },
          "execution_count": 84
        }
      ]
    },
    {
      "cell_type": "code",
      "metadata": {
        "colab": {
          "base_uri": "https://localhost:8080/"
        },
        "id": "MpnNzVVTogt-",
        "outputId": "8cbecf06-14ca-4d8a-b273-21cb15e1f685"
      },
      "source": [
        "TargetGroupCnt=ticket_data['Assignment group'].value_counts()\n",
        "TargetGroupCnt.describe()"
      ],
      "execution_count": 85,
      "outputs": [
        {
          "output_type": "execute_result",
          "data": {
            "text/plain": [
              "count      74.000000\n",
              "mean      114.864865\n",
              "std       465.747516\n",
              "min         1.000000\n",
              "25%         5.250000\n",
              "50%        26.000000\n",
              "75%        84.000000\n",
              "max      3976.000000\n",
              "Name: Assignment group, dtype: float64"
            ]
          },
          "metadata": {
            "tags": []
          },
          "execution_count": 85
        }
      ]
    },
    {
      "cell_type": "code",
      "metadata": {
        "colab": {
          "base_uri": "https://localhost:8080/"
        },
        "id": "T97JvIZmoji9",
        "outputId": "9edcc531-8e54-4acc-c956-152c7a884d67"
      },
      "source": [
        "ticket_data.Caller.value_counts()"
      ],
      "execution_count": 86,
      "outputs": [
        {
          "output_type": "execute_result",
          "data": {
            "text/plain": [
              "bpctwhsn kzqsbmtp    810\n",
              "ZkBogxib QsEJzdZO    151\n",
              "fumkcsji sarmtlhy    134\n",
              "rbozivdq gmlhrtvp     87\n",
              "rkupnshb gsmzfojw     71\n",
              "                    ... \n",
              "epjwqaru mikoszpv      1\n",
              "fduinmtw yofhirjs      1\n",
              "kwyozxgd gasxctph      1\n",
              "cieagtub vwyzjlqm      1\n",
              "sgaczfvo wxmkrzfu      1\n",
              "Name: Caller, Length: 2950, dtype: int64"
            ]
          },
          "metadata": {
            "tags": []
          },
          "execution_count": 86
        }
      ]
    },
    {
      "cell_type": "code",
      "metadata": {
        "colab": {
          "base_uri": "https://localhost:8080/",
          "height": 302
        },
        "id": "-S2pu-RXomXF",
        "outputId": "9002d23a-bfc8-4bc8-c49c-1905cc9f9af8"
      },
      "source": [
        "sns.distplot(ticket_data['Assignment group'].value_counts())"
      ],
      "execution_count": 87,
      "outputs": [
        {
          "output_type": "execute_result",
          "data": {
            "text/plain": [
              "<matplotlib.axes._subplots.AxesSubplot at 0x7f3dbe546898>"
            ]
          },
          "metadata": {
            "tags": []
          },
          "execution_count": 87
        },
        {
          "output_type": "display_data",
          "data": {
            "image/png": "[encoded data removed]",
            "text/plain": [
              "<Figure size 432x288 with 1 Axes>"
            ]
          },
          "metadata": {
            "tags": []
          }
        }
      ]
    },
    {
      "cell_type": "code",
      "metadata": {
        "colab": {
          "base_uri": "https://localhost:8080/",
          "height": 302
        },
        "id": "lmK8Hve7opzJ",
        "outputId": "65e8a653-5036-4a5a-8c09-cb6ab6346c2f"
      },
      "source": [
        "sns.distplot(ticket_data['Caller'].value_counts())"
      ],
      "execution_count": 88,
      "outputs": [
        {
          "output_type": "execute_result",
          "data": {
            "text/plain": [
              "<matplotlib.axes._subplots.AxesSubplot at 0x7f3dbf039c50>"
            ]
          },
          "metadata": {
            "tags": []
          },
          "execution_count": 88
        },
        {
          "output_type": "display_data",
          "data": {
            "image/png": "[encoded data removed]",
            "text/plain": [
              "<Figure size 432x288 with 1 Axes>"
            ]
          },
          "metadata": {
            "tags": []
          }
        }
      ]
    },
    {
      "cell_type": "code",
      "metadata": {
        "colab": {
          "base_uri": "https://localhost:8080/",
          "height": 302
        },
        "id": "XGoDC6HMosLQ",
        "outputId": "82e4234e-bad0-41bb-b876-bbc7702e329c"
      },
      "source": [
        "sns.boxplot(ticket_data['Assignment group'].value_counts())"
      ],
      "execution_count": 89,
      "outputs": [
        {
          "output_type": "execute_result",
          "data": {
            "text/plain": [
              "<matplotlib.axes._subplots.AxesSubplot at 0x7f3dbe4182e8>"
            ]
          },
          "metadata": {
            "tags": []
          },
          "execution_count": 89
        },
        {
          "output_type": "display_data",
          "data": {
            "image/png": "[encoded data removed]",
            "text/plain": [
              "<Figure size 432x288 with 1 Axes>"
            ]
          },
          "metadata": {
            "tags": []
          }
        }
      ]
    },
    {
      "cell_type": "code",
      "metadata": {
        "colab": {
          "base_uri": "https://localhost:8080/",
          "height": 304
        },
        "id": "14SezMT4otzJ",
        "outputId": "32e75fd4-81cd-4c31-87de-31b6a27c4a34"
      },
      "source": [
        "sns.countplot(y=\"Assignment group\", data=ticket_data, order=ticket_data['Assignment group'].value_counts().index )"
      ],
      "execution_count": 90,
      "outputs": [
        {
          "output_type": "execute_result",
          "data": {
            "text/plain": [
              "<matplotlib.axes._subplots.AxesSubplot at 0x7f3dbe3f1710>"
            ]
          },
          "metadata": {
            "tags": []
          },
          "execution_count": 90
        },
        {
          "output_type": "display_data",
          "data": {
            "image/png": "[encoded data removed]",
            "text/plain": [
              "<Figure size 432x288 with 1 Axes>"
            ]
          },
          "metadata": {
            "tags": []
          }
        }
      ]
    },
    {
      "cell_type": "code",
      "metadata": {
        "colab": {
          "base_uri": "https://localhost:8080/",
          "height": 295
        },
        "id": "1CHidQR8owsE",
        "outputId": "56267049-42ba-4921-89a0-790472d0b45f"
      },
      "source": [
        "plt.style.use('ggplot')\n",
        "%matplotlib inline\n",
        "\n",
        "descending_order = ticket_data['Assignment group'].value_counts().sort_values(ascending=False).index\n",
        "plt.subplots(figsize=(22,5))\n",
        "#added code for x label rotate \n",
        "ax=sns.countplot(x='Assignment group', data=ticket_data, color='royalblue',order=descending_order)\n",
        "ax.set_xticklabels(ax.get_xticklabels(), rotation=45, ha=\"right\")\n",
        "plt.tight_layout()\n",
        "plt.show()"
      ],
      "execution_count": 91,
      "outputs": [
        {
          "output_type": "display_data",
          "data": {
            "image/png": "[encoded data removed]",
            "text/plain": [
              "<Figure size 1584x360 with 1 Axes>"
            ]
          },
          "metadata": {
            "tags": [],
            "needs_background": "light"
          }
        }
      ]
    },
    {
      "cell_type": "code",
      "metadata": {
        "colab": {
          "base_uri": "https://localhost:8080/"
        },
        "id": "SIlX4Xu9o3FM",
        "outputId": "27edc72c-17cd-4bee-eb06-8fcefe2ae182"
      },
      "source": [
        "ticket_data.isnull().values.any()"
      ],
      "execution_count": 93,
      "outputs": [
        {
          "output_type": "execute_result",
          "data": {
            "text/plain": [
              "False"
            ]
          },
          "metadata": {
            "tags": []
          },
          "execution_count": 93
        }
      ]
    },
    {
      "cell_type": "code",
      "metadata": {
        "colab": {
          "base_uri": "https://localhost:8080/",
          "height": 379
        },
        "id": "05F6GdQxo5CD",
        "outputId": "823fd60b-c0f1-4eab-fe45-052c3ad5977b"
      },
      "source": [
        "sns.heatmap(ticket_data.isnull(), yticklabels=False, cmap=\"Wistia\")"
      ],
      "execution_count": 96,
      "outputs": [
        {
          "output_type": "execute_result",
          "data": {
            "text/plain": [
              "<matplotlib.axes._subplots.AxesSubplot at 0x7f3dbe1166a0>"
            ]
          },
          "metadata": {
            "tags": []
          },
          "execution_count": 96
        },
        {
          "output_type": "display_data",
          "data": {
            "image/png": "[encoded data removed]",
            "text/plain": [
              "<Figure size 432x288 with 2 Axes>"
            ]
          },
          "metadata": {
            "tags": [],
            "needs_background": "light"
          }
        }
      ]
    },
    {
      "cell_type": "code",
      "metadata": {
        "colab": {
          "base_uri": "https://localhost:8080/"
        },
        "id": "cnsE0yU_o9Am",
        "outputId": "4023265c-65c7-43a7-b86a-c526cc017d8f"
      },
      "source": [
        "ticket_data['Description'].fillna(value=' ', inplace=True)\n",
        "ticket_data['Short description'].fillna(value=' ', inplace=True)\n",
        "ticket_data.isnull().values.any()"
      ],
      "execution_count": 95,
      "outputs": [
        {
          "output_type": "execute_result",
          "data": {
            "text/plain": [
              "False"
            ]
          },
          "metadata": {
            "tags": []
          },
          "execution_count": 95
        }
      ]
    },
    {
      "cell_type": "code",
      "metadata": {
        "colab": {
          "base_uri": "https://localhost:8080/",
          "height": 196
        },
        "id": "CKmCCbhOq_gW",
        "outputId": "045f98e6-6102-4e30-ad55-c246ee4885a2"
      },
      "source": [
        "summary_data=ticket_data.pivot_table(columns = \"Assignment group\",aggfunc='count')\n",
        "summary_data"
      ],
      "execution_count": 39,
      "outputs": [
        {
          "output_type": "execute_result",
          "data": {
            "text/html": [
              "<div>\n",
              "<style scoped>\n",
              "    .dataframe tbody tr th:only-of-type {\n",
              "        vertical-align: middle;\n",
              "    }\n",
              "\n",
              "    .dataframe tbody tr th {\n",
              "        vertical-align: top;\n",
              "    }\n",
              "\n",
              "    .dataframe thead th {\n",
              "        text-align: right;\n",
              "    }\n",
              "</style>\n",
              "<table border=\"1\" class=\"dataframe\">\n",
              "  <thead>\n",
              "    <tr style=\"text-align: right;\">\n",
              "      <th>Assignment group</th>\n",
              "      <th>GRP_0</th>\n",
              "      <th>GRP_1</th>\n",
              "      <th>GRP_10</th>\n",
              "      <th>GRP_11</th>\n",
              "      <th>GRP_12</th>\n",
              "      <th>GRP_13</th>\n",
              "      <th>GRP_14</th>\n",
              "      <th>GRP_15</th>\n",
              "      <th>GRP_16</th>\n",
              "      <th>GRP_17</th>\n",
              "      <th>GRP_18</th>\n",
              "      <th>GRP_19</th>\n",
              "      <th>GRP_2</th>\n",
              "      <th>GRP_20</th>\n",
              "      <th>GRP_21</th>\n",
              "      <th>GRP_22</th>\n",
              "      <th>GRP_23</th>\n",
              "      <th>GRP_24</th>\n",
              "      <th>GRP_25</th>\n",
              "      <th>GRP_26</th>\n",
              "      <th>GRP_27</th>\n",
              "      <th>GRP_28</th>\n",
              "      <th>GRP_29</th>\n",
              "      <th>GRP_3</th>\n",
              "      <th>GRP_30</th>\n",
              "      <th>GRP_31</th>\n",
              "      <th>GRP_32</th>\n",
              "      <th>GRP_33</th>\n",
              "      <th>GRP_34</th>\n",
              "      <th>GRP_35</th>\n",
              "      <th>GRP_36</th>\n",
              "      <th>GRP_37</th>\n",
              "      <th>GRP_38</th>\n",
              "      <th>GRP_39</th>\n",
              "      <th>GRP_4</th>\n",
              "      <th>GRP_40</th>\n",
              "      <th>GRP_41</th>\n",
              "      <th>GRP_42</th>\n",
              "      <th>GRP_43</th>\n",
              "      <th>GRP_44</th>\n",
              "      <th>GRP_45</th>\n",
              "      <th>GRP_46</th>\n",
              "      <th>GRP_47</th>\n",
              "      <th>GRP_48</th>\n",
              "      <th>GRP_49</th>\n",
              "      <th>GRP_5</th>\n",
              "      <th>GRP_50</th>\n",
              "      <th>GRP_51</th>\n",
              "      <th>GRP_52</th>\n",
              "      <th>GRP_53</th>\n",
              "      <th>GRP_54</th>\n",
              "      <th>GRP_55</th>\n",
              "      <th>GRP_56</th>\n",
              "      <th>GRP_57</th>\n",
              "      <th>GRP_58</th>\n",
              "      <th>GRP_59</th>\n",
              "      <th>GRP_6</th>\n",
              "      <th>GRP_60</th>\n",
              "      <th>GRP_61</th>\n",
              "      <th>GRP_62</th>\n",
              "      <th>GRP_63</th>\n",
              "      <th>GRP_64</th>\n",
              "      <th>GRP_65</th>\n",
              "      <th>GRP_66</th>\n",
              "      <th>GRP_67</th>\n",
              "      <th>GRP_68</th>\n",
              "      <th>GRP_69</th>\n",
              "      <th>GRP_7</th>\n",
              "      <th>GRP_70</th>\n",
              "      <th>GRP_71</th>\n",
              "      <th>GRP_72</th>\n",
              "      <th>GRP_73</th>\n",
              "      <th>GRP_8</th>\n",
              "      <th>GRP_9</th>\n",
              "    </tr>\n",
              "  </thead>\n",
              "  <tbody>\n",
              "    <tr>\n",
              "      <th>Caller</th>\n",
              "      <td>3976</td>\n",
              "      <td>31</td>\n",
              "      <td>140</td>\n",
              "      <td>30</td>\n",
              "      <td>257</td>\n",
              "      <td>145</td>\n",
              "      <td>118</td>\n",
              "      <td>39</td>\n",
              "      <td>85</td>\n",
              "      <td>81</td>\n",
              "      <td>88</td>\n",
              "      <td>215</td>\n",
              "      <td>241</td>\n",
              "      <td>36</td>\n",
              "      <td>29</td>\n",
              "      <td>31</td>\n",
              "      <td>25</td>\n",
              "      <td>289</td>\n",
              "      <td>116</td>\n",
              "      <td>56</td>\n",
              "      <td>18</td>\n",
              "      <td>44</td>\n",
              "      <td>97</td>\n",
              "      <td>200</td>\n",
              "      <td>39</td>\n",
              "      <td>69</td>\n",
              "      <td>4</td>\n",
              "      <td>107</td>\n",
              "      <td>62</td>\n",
              "      <td>1</td>\n",
              "      <td>15</td>\n",
              "      <td>16</td>\n",
              "      <td>3</td>\n",
              "      <td>19</td>\n",
              "      <td>100</td>\n",
              "      <td>45</td>\n",
              "      <td>40</td>\n",
              "      <td>37</td>\n",
              "      <td>5</td>\n",
              "      <td>15</td>\n",
              "      <td>35</td>\n",
              "      <td>6</td>\n",
              "      <td>27</td>\n",
              "      <td>25</td>\n",
              "      <td>6</td>\n",
              "      <td>129</td>\n",
              "      <td>14</td>\n",
              "      <td>8</td>\n",
              "      <td>9</td>\n",
              "      <td>11</td>\n",
              "      <td>2</td>\n",
              "      <td>8</td>\n",
              "      <td>3</td>\n",
              "      <td>2</td>\n",
              "      <td>3</td>\n",
              "      <td>6</td>\n",
              "      <td>184</td>\n",
              "      <td>20</td>\n",
              "      <td>1</td>\n",
              "      <td>25</td>\n",
              "      <td>3</td>\n",
              "      <td>1</td>\n",
              "      <td>11</td>\n",
              "      <td>4</td>\n",
              "      <td>1</td>\n",
              "      <td>3</td>\n",
              "      <td>2</td>\n",
              "      <td>68</td>\n",
              "      <td>1</td>\n",
              "      <td>2</td>\n",
              "      <td>2</td>\n",
              "      <td>1</td>\n",
              "      <td>661</td>\n",
              "      <td>252</td>\n",
              "    </tr>\n",
              "    <tr>\n",
              "      <th>Description</th>\n",
              "      <td>3975</td>\n",
              "      <td>31</td>\n",
              "      <td>140</td>\n",
              "      <td>30</td>\n",
              "      <td>257</td>\n",
              "      <td>145</td>\n",
              "      <td>118</td>\n",
              "      <td>39</td>\n",
              "      <td>85</td>\n",
              "      <td>81</td>\n",
              "      <td>88</td>\n",
              "      <td>215</td>\n",
              "      <td>241</td>\n",
              "      <td>36</td>\n",
              "      <td>29</td>\n",
              "      <td>31</td>\n",
              "      <td>25</td>\n",
              "      <td>289</td>\n",
              "      <td>116</td>\n",
              "      <td>56</td>\n",
              "      <td>18</td>\n",
              "      <td>44</td>\n",
              "      <td>97</td>\n",
              "      <td>200</td>\n",
              "      <td>39</td>\n",
              "      <td>69</td>\n",
              "      <td>4</td>\n",
              "      <td>107</td>\n",
              "      <td>62</td>\n",
              "      <td>1</td>\n",
              "      <td>15</td>\n",
              "      <td>16</td>\n",
              "      <td>3</td>\n",
              "      <td>19</td>\n",
              "      <td>100</td>\n",
              "      <td>45</td>\n",
              "      <td>40</td>\n",
              "      <td>37</td>\n",
              "      <td>5</td>\n",
              "      <td>15</td>\n",
              "      <td>35</td>\n",
              "      <td>6</td>\n",
              "      <td>27</td>\n",
              "      <td>25</td>\n",
              "      <td>6</td>\n",
              "      <td>129</td>\n",
              "      <td>14</td>\n",
              "      <td>8</td>\n",
              "      <td>9</td>\n",
              "      <td>11</td>\n",
              "      <td>2</td>\n",
              "      <td>8</td>\n",
              "      <td>3</td>\n",
              "      <td>2</td>\n",
              "      <td>3</td>\n",
              "      <td>6</td>\n",
              "      <td>184</td>\n",
              "      <td>20</td>\n",
              "      <td>1</td>\n",
              "      <td>25</td>\n",
              "      <td>3</td>\n",
              "      <td>1</td>\n",
              "      <td>11</td>\n",
              "      <td>4</td>\n",
              "      <td>1</td>\n",
              "      <td>3</td>\n",
              "      <td>2</td>\n",
              "      <td>68</td>\n",
              "      <td>1</td>\n",
              "      <td>2</td>\n",
              "      <td>2</td>\n",
              "      <td>1</td>\n",
              "      <td>661</td>\n",
              "      <td>252</td>\n",
              "    </tr>\n",
              "    <tr>\n",
              "      <th>Short description</th>\n",
              "      <td>3969</td>\n",
              "      <td>31</td>\n",
              "      <td>140</td>\n",
              "      <td>30</td>\n",
              "      <td>257</td>\n",
              "      <td>145</td>\n",
              "      <td>118</td>\n",
              "      <td>39</td>\n",
              "      <td>85</td>\n",
              "      <td>81</td>\n",
              "      <td>88</td>\n",
              "      <td>215</td>\n",
              "      <td>241</td>\n",
              "      <td>36</td>\n",
              "      <td>29</td>\n",
              "      <td>31</td>\n",
              "      <td>25</td>\n",
              "      <td>289</td>\n",
              "      <td>116</td>\n",
              "      <td>56</td>\n",
              "      <td>18</td>\n",
              "      <td>44</td>\n",
              "      <td>97</td>\n",
              "      <td>200</td>\n",
              "      <td>39</td>\n",
              "      <td>69</td>\n",
              "      <td>4</td>\n",
              "      <td>107</td>\n",
              "      <td>61</td>\n",
              "      <td>1</td>\n",
              "      <td>15</td>\n",
              "      <td>16</td>\n",
              "      <td>3</td>\n",
              "      <td>19</td>\n",
              "      <td>100</td>\n",
              "      <td>45</td>\n",
              "      <td>40</td>\n",
              "      <td>37</td>\n",
              "      <td>5</td>\n",
              "      <td>15</td>\n",
              "      <td>35</td>\n",
              "      <td>6</td>\n",
              "      <td>27</td>\n",
              "      <td>25</td>\n",
              "      <td>6</td>\n",
              "      <td>129</td>\n",
              "      <td>14</td>\n",
              "      <td>8</td>\n",
              "      <td>9</td>\n",
              "      <td>11</td>\n",
              "      <td>2</td>\n",
              "      <td>8</td>\n",
              "      <td>3</td>\n",
              "      <td>2</td>\n",
              "      <td>3</td>\n",
              "      <td>6</td>\n",
              "      <td>184</td>\n",
              "      <td>20</td>\n",
              "      <td>1</td>\n",
              "      <td>25</td>\n",
              "      <td>3</td>\n",
              "      <td>1</td>\n",
              "      <td>11</td>\n",
              "      <td>4</td>\n",
              "      <td>1</td>\n",
              "      <td>3</td>\n",
              "      <td>2</td>\n",
              "      <td>68</td>\n",
              "      <td>1</td>\n",
              "      <td>2</td>\n",
              "      <td>2</td>\n",
              "      <td>1</td>\n",
              "      <td>661</td>\n",
              "      <td>252</td>\n",
              "    </tr>\n",
              "  </tbody>\n",
              "</table>\n",
              "</div>"
            ],
            "text/plain": [
              "Assignment group   GRP_0  GRP_1  GRP_10  GRP_11  ...  GRP_72  GRP_73  GRP_8  GRP_9\n",
              "Caller              3976     31     140      30  ...       2       1    661    252\n",
              "Description         3975     31     140      30  ...       2       1    661    252\n",
              "Short description   3969     31     140      30  ...       2       1    661    252\n",
              "\n",
              "[3 rows x 74 columns]"
            ]
          },
          "metadata": {
            "tags": []
          },
          "execution_count": 39
        }
      ]
    },
    {
      "cell_type": "code",
      "metadata": {
        "colab": {
          "base_uri": "https://localhost:8080/"
        },
        "id": "G85yq5Gyq_gW",
        "outputId": "3b83b997-d41d-412b-b7eb-893e4fb52f09"
      },
      "source": [
        "ticket_data['Assignment group'].unique()"
      ],
      "execution_count": 40,
      "outputs": [
        {
          "output_type": "execute_result",
          "data": {
            "text/plain": [
              "array(['GRP_0', 'GRP_1', 'GRP_3', 'GRP_4', 'GRP_5', 'GRP_6', 'GRP_7',\n",
              "       'GRP_8', 'GRP_9', 'GRP_10', 'GRP_11', 'GRP_12', 'GRP_13', 'GRP_14',\n",
              "       'GRP_15', 'GRP_16', 'GRP_17', 'GRP_18', 'GRP_19', 'GRP_2',\n",
              "       'GRP_20', 'GRP_21', 'GRP_22', 'GRP_23', 'GRP_24', 'GRP_25',\n",
              "       'GRP_26', 'GRP_27', 'GRP_28', 'GRP_29', 'GRP_30', 'GRP_31',\n",
              "       'GRP_33', 'GRP_34', 'GRP_35', 'GRP_36', 'GRP_37', 'GRP_38',\n",
              "       'GRP_39', 'GRP_40', 'GRP_41', 'GRP_42', 'GRP_43', 'GRP_44',\n",
              "       'GRP_45', 'GRP_46', 'GRP_47', 'GRP_48', 'GRP_49', 'GRP_50',\n",
              "       'GRP_51', 'GRP_52', 'GRP_53', 'GRP_54', 'GRP_55', 'GRP_56',\n",
              "       'GRP_57', 'GRP_58', 'GRP_59', 'GRP_60', 'GRP_61', 'GRP_32',\n",
              "       'GRP_62', 'GRP_63', 'GRP_64', 'GRP_65', 'GRP_66', 'GRP_67',\n",
              "       'GRP_68', 'GRP_69', 'GRP_70', 'GRP_71', 'GRP_72', 'GRP_73'],\n",
              "      dtype=object)"
            ]
          },
          "metadata": {
            "tags": []
          },
          "execution_count": 40
        }
      ]
    },
    {
      "cell_type": "code",
      "metadata": {
        "colab": {
          "base_uri": "https://localhost:8080/"
        },
        "id": "y8a25a1vNNb1",
        "outputId": "c199acdb-8847-42f8-c430-b67cddb44c0f"
      },
      "source": [
        "len(ticket_data['Assignment group'].unique())"
      ],
      "execution_count": 41,
      "outputs": [
        {
          "output_type": "execute_result",
          "data": {
            "text/plain": [
              "74"
            ]
          },
          "metadata": {
            "tags": []
          },
          "execution_count": 41
        }
      ]
    },
    {
      "cell_type": "code",
      "metadata": {
        "colab": {
          "base_uri": "https://localhost:8080/",
          "height": 204
        },
        "id": "7XpZJeumNP0e",
        "outputId": "1c571ec3-4989-471e-e469-8455e929bfc8"
      },
      "source": [
        "df_assg = ticket_data['Assignment group'].value_counts().reset_index()\n",
        "df_assg['percentage'] = (df_assg['Assignment group']/df_assg['Assignment group'].sum())*100\n",
        "df_assg.head()"
      ],
      "execution_count": 42,
      "outputs": [
        {
          "output_type": "execute_result",
          "data": {
            "text/html": [
              "<div>\n",
              "<style scoped>\n",
              "    .dataframe tbody tr th:only-of-type {\n",
              "        vertical-align: middle;\n",
              "    }\n",
              "\n",
              "    .dataframe tbody tr th {\n",
              "        vertical-align: top;\n",
              "    }\n",
              "\n",
              "    .dataframe thead th {\n",
              "        text-align: right;\n",
              "    }\n",
              "</style>\n",
              "<table border=\"1\" class=\"dataframe\">\n",
              "  <thead>\n",
              "    <tr style=\"text-align: right;\">\n",
              "      <th></th>\n",
              "      <th>index</th>\n",
              "      <th>Assignment group</th>\n",
              "      <th>percentage</th>\n",
              "    </tr>\n",
              "  </thead>\n",
              "  <tbody>\n",
              "    <tr>\n",
              "      <th>0</th>\n",
              "      <td>GRP_0</td>\n",
              "      <td>3976</td>\n",
              "      <td>46.776471</td>\n",
              "    </tr>\n",
              "    <tr>\n",
              "      <th>1</th>\n",
              "      <td>GRP_8</td>\n",
              "      <td>661</td>\n",
              "      <td>7.776471</td>\n",
              "    </tr>\n",
              "    <tr>\n",
              "      <th>2</th>\n",
              "      <td>GRP_24</td>\n",
              "      <td>289</td>\n",
              "      <td>3.400000</td>\n",
              "    </tr>\n",
              "    <tr>\n",
              "      <th>3</th>\n",
              "      <td>GRP_12</td>\n",
              "      <td>257</td>\n",
              "      <td>3.023529</td>\n",
              "    </tr>\n",
              "    <tr>\n",
              "      <th>4</th>\n",
              "      <td>GRP_9</td>\n",
              "      <td>252</td>\n",
              "      <td>2.964706</td>\n",
              "    </tr>\n",
              "  </tbody>\n",
              "</table>\n",
              "</div>"
            ],
            "text/plain": [
              "    index  Assignment group  percentage\n",
              "0   GRP_0              3976   46.776471\n",
              "1   GRP_8               661    7.776471\n",
              "2  GRP_24               289    3.400000\n",
              "3  GRP_12               257    3.023529\n",
              "4   GRP_9               252    2.964706"
            ]
          },
          "metadata": {
            "tags": []
          },
          "execution_count": 42
        }
      ]
    },
    {
      "cell_type": "code",
      "metadata": {
        "colab": {
          "base_uri": "https://localhost:8080/",
          "height": 414
        },
        "id": "mipLZ-dGNUK-",
        "outputId": "78e48f04-32b7-4c9b-ec5c-0e242e0a972b"
      },
      "source": [
        "sns.set(style=\"whitegrid\")\n",
        "plt.figure(figsize=(20,5))\n",
        "ax = sns.countplot(x=\"Assignment group\", data=ticket_data, order=ticket_data[\"Assignment group\"].value_counts().index)\n",
        "ax.set_xticklabels(ax.get_xticklabels(), rotation=90)\n",
        "for p in ax.patches:\n",
        "    ax.annotate(str(format(p.get_height()/len(ticket_data.index)*100, '.2f')+\"%\"), (p.get_x() + p.get_width() / 2., p.get_height()), ha = 'center', va = 'bottom', rotation=90, xytext = (0, 10), textcoords = 'offset points')"
      ],
      "execution_count": 43,
      "outputs": [
        {
          "output_type": "display_data",
          "data": {
            "image/png": "[encoded data removed]",
            "text/plain": [
              "<Figure size 1440x360 with 1 Axes>"
            ]
          },
          "metadata": {
            "tags": []
          }
        }
      ]
    },
    {
      "cell_type": "markdown",
      "metadata": {
        "id": "62046fzVNbAW"
      },
      "source": [
        "#### Top 20 Assignment groups with highest number of tickets"
      ]
    },
    {
      "cell_type": "code",
      "metadata": {
        "colab": {
          "base_uri": "https://localhost:8080/",
          "height": 669
        },
        "id": "wEDNKbryNY1C",
        "outputId": "66cf61be-fa8e-4028-96e8-b4d732bcfd5b"
      },
      "source": [
        "df_top_assg = ticket_data['Assignment group'].value_counts().nlargest(20).reset_index()\n",
        "df_top_assg"
      ],
      "execution_count": 44,
      "outputs": [
        {
          "output_type": "execute_result",
          "data": {
            "text/html": [
              "<div>\n",
              "<style scoped>\n",
              "    .dataframe tbody tr th:only-of-type {\n",
              "        vertical-align: middle;\n",
              "    }\n",
              "\n",
              "    .dataframe tbody tr th {\n",
              "        vertical-align: top;\n",
              "    }\n",
              "\n",
              "    .dataframe thead th {\n",
              "        text-align: right;\n",
              "    }\n",
              "</style>\n",
              "<table border=\"1\" class=\"dataframe\">\n",
              "  <thead>\n",
              "    <tr style=\"text-align: right;\">\n",
              "      <th></th>\n",
              "      <th>index</th>\n",
              "      <th>Assignment group</th>\n",
              "    </tr>\n",
              "  </thead>\n",
              "  <tbody>\n",
              "    <tr>\n",
              "      <th>0</th>\n",
              "      <td>GRP_0</td>\n",
              "      <td>3976</td>\n",
              "    </tr>\n",
              "    <tr>\n",
              "      <th>1</th>\n",
              "      <td>GRP_8</td>\n",
              "      <td>661</td>\n",
              "    </tr>\n",
              "    <tr>\n",
              "      <th>2</th>\n",
              "      <td>GRP_24</td>\n",
              "      <td>289</td>\n",
              "    </tr>\n",
              "    <tr>\n",
              "      <th>3</th>\n",
              "      <td>GRP_12</td>\n",
              "      <td>257</td>\n",
              "    </tr>\n",
              "    <tr>\n",
              "      <th>4</th>\n",
              "      <td>GRP_9</td>\n",
              "      <td>252</td>\n",
              "    </tr>\n",
              "    <tr>\n",
              "      <th>5</th>\n",
              "      <td>GRP_2</td>\n",
              "      <td>241</td>\n",
              "    </tr>\n",
              "    <tr>\n",
              "      <th>6</th>\n",
              "      <td>GRP_19</td>\n",
              "      <td>215</td>\n",
              "    </tr>\n",
              "    <tr>\n",
              "      <th>7</th>\n",
              "      <td>GRP_3</td>\n",
              "      <td>200</td>\n",
              "    </tr>\n",
              "    <tr>\n",
              "      <th>8</th>\n",
              "      <td>GRP_6</td>\n",
              "      <td>184</td>\n",
              "    </tr>\n",
              "    <tr>\n",
              "      <th>9</th>\n",
              "      <td>GRP_13</td>\n",
              "      <td>145</td>\n",
              "    </tr>\n",
              "    <tr>\n",
              "      <th>10</th>\n",
              "      <td>GRP_10</td>\n",
              "      <td>140</td>\n",
              "    </tr>\n",
              "    <tr>\n",
              "      <th>11</th>\n",
              "      <td>GRP_5</td>\n",
              "      <td>129</td>\n",
              "    </tr>\n",
              "    <tr>\n",
              "      <th>12</th>\n",
              "      <td>GRP_14</td>\n",
              "      <td>118</td>\n",
              "    </tr>\n",
              "    <tr>\n",
              "      <th>13</th>\n",
              "      <td>GRP_25</td>\n",
              "      <td>116</td>\n",
              "    </tr>\n",
              "    <tr>\n",
              "      <th>14</th>\n",
              "      <td>GRP_33</td>\n",
              "      <td>107</td>\n",
              "    </tr>\n",
              "    <tr>\n",
              "      <th>15</th>\n",
              "      <td>GRP_4</td>\n",
              "      <td>100</td>\n",
              "    </tr>\n",
              "    <tr>\n",
              "      <th>16</th>\n",
              "      <td>GRP_29</td>\n",
              "      <td>97</td>\n",
              "    </tr>\n",
              "    <tr>\n",
              "      <th>17</th>\n",
              "      <td>GRP_18</td>\n",
              "      <td>88</td>\n",
              "    </tr>\n",
              "    <tr>\n",
              "      <th>18</th>\n",
              "      <td>GRP_16</td>\n",
              "      <td>85</td>\n",
              "    </tr>\n",
              "    <tr>\n",
              "      <th>19</th>\n",
              "      <td>GRP_17</td>\n",
              "      <td>81</td>\n",
              "    </tr>\n",
              "  </tbody>\n",
              "</table>\n",
              "</div>"
            ],
            "text/plain": [
              "     index  Assignment group\n",
              "0    GRP_0              3976\n",
              "1    GRP_8               661\n",
              "2   GRP_24               289\n",
              "3   GRP_12               257\n",
              "4    GRP_9               252\n",
              "5    GRP_2               241\n",
              "6   GRP_19               215\n",
              "7    GRP_3               200\n",
              "8    GRP_6               184\n",
              "9   GRP_13               145\n",
              "10  GRP_10               140\n",
              "11   GRP_5               129\n",
              "12  GRP_14               118\n",
              "13  GRP_25               116\n",
              "14  GRP_33               107\n",
              "15   GRP_4               100\n",
              "16  GRP_29                97\n",
              "17  GRP_18                88\n",
              "18  GRP_16                85\n",
              "19  GRP_17                81"
            ]
          },
          "metadata": {
            "tags": []
          },
          "execution_count": 44
        }
      ]
    },
    {
      "cell_type": "code",
      "metadata": {
        "colab": {
          "base_uri": "https://localhost:8080/",
          "height": 437
        },
        "id": "wC2bA7DqNmwG",
        "outputId": "1a07efa3-1632-4401-d27f-b3e321a2dfc6"
      },
      "source": [
        "plt.figure(figsize=(12,6))\n",
        "bars = plt.bar(df_top_assg['index'],df_top_assg['Assignment group'])\n",
        "plt.title('Top 20 Assignment groups with highest number of Tickets')\n",
        "plt.xlabel('Assignment Group')\n",
        "plt.xticks(rotation=90)\n",
        "plt.ylabel('Number of Tickets')\n",
        "\n",
        "for bar in bars:\n",
        "    yval = bar.get_height()\n",
        "    plt.text(bar.get_x(), yval + .005, yval)\n",
        "plt.tight_layout()\n",
        "plt.show()"
      ],
      "execution_count": 45,
      "outputs": [
        {
          "output_type": "display_data",
          "data": {
            "image/png": "[encoded data removed]",
            "text/plain": [
              "<Figure size 864x432 with 1 Axes>"
            ]
          },
          "metadata": {
            "tags": []
          }
        }
      ]
    },
    {
      "cell_type": "markdown",
      "metadata": {
        "id": "tm87CX3zNfo1"
      },
      "source": [
        "#### Visualize the percentage of incidents per assignment group"
      ]
    },
    {
      "cell_type": "code",
      "metadata": {
        "colab": {
          "base_uri": "https://localhost:8080/",
          "height": 669
        },
        "id": "2y-Tsu2_N0iU",
        "outputId": "78560fb4-b3bb-4621-f7a0-6553ffa74fcc"
      },
      "source": [
        "df_bottom_assg = ticket_data['Assignment group'].value_counts().nsmallest(20).reset_index()\n",
        "df_bottom_assg"
      ],
      "execution_count": 46,
      "outputs": [
        {
          "output_type": "execute_result",
          "data": {
            "text/html": [
              "<div>\n",
              "<style scoped>\n",
              "    .dataframe tbody tr th:only-of-type {\n",
              "        vertical-align: middle;\n",
              "    }\n",
              "\n",
              "    .dataframe tbody tr th {\n",
              "        vertical-align: top;\n",
              "    }\n",
              "\n",
              "    .dataframe thead th {\n",
              "        text-align: right;\n",
              "    }\n",
              "</style>\n",
              "<table border=\"1\" class=\"dataframe\">\n",
              "  <thead>\n",
              "    <tr style=\"text-align: right;\">\n",
              "      <th></th>\n",
              "      <th>index</th>\n",
              "      <th>Assignment group</th>\n",
              "    </tr>\n",
              "  </thead>\n",
              "  <tbody>\n",
              "    <tr>\n",
              "      <th>0</th>\n",
              "      <td>GRP_67</td>\n",
              "      <td>1</td>\n",
              "    </tr>\n",
              "    <tr>\n",
              "      <th>1</th>\n",
              "      <td>GRP_70</td>\n",
              "      <td>1</td>\n",
              "    </tr>\n",
              "    <tr>\n",
              "      <th>2</th>\n",
              "      <td>GRP_61</td>\n",
              "      <td>1</td>\n",
              "    </tr>\n",
              "    <tr>\n",
              "      <th>3</th>\n",
              "      <td>GRP_35</td>\n",
              "      <td>1</td>\n",
              "    </tr>\n",
              "    <tr>\n",
              "      <th>4</th>\n",
              "      <td>GRP_64</td>\n",
              "      <td>1</td>\n",
              "    </tr>\n",
              "    <tr>\n",
              "      <th>5</th>\n",
              "      <td>GRP_73</td>\n",
              "      <td>1</td>\n",
              "    </tr>\n",
              "    <tr>\n",
              "      <th>6</th>\n",
              "      <td>GRP_57</td>\n",
              "      <td>2</td>\n",
              "    </tr>\n",
              "    <tr>\n",
              "      <th>7</th>\n",
              "      <td>GRP_69</td>\n",
              "      <td>2</td>\n",
              "    </tr>\n",
              "    <tr>\n",
              "      <th>8</th>\n",
              "      <td>GRP_54</td>\n",
              "      <td>2</td>\n",
              "    </tr>\n",
              "    <tr>\n",
              "      <th>9</th>\n",
              "      <td>GRP_71</td>\n",
              "      <td>2</td>\n",
              "    </tr>\n",
              "    <tr>\n",
              "      <th>10</th>\n",
              "      <td>GRP_72</td>\n",
              "      <td>2</td>\n",
              "    </tr>\n",
              "    <tr>\n",
              "      <th>11</th>\n",
              "      <td>GRP_38</td>\n",
              "      <td>3</td>\n",
              "    </tr>\n",
              "    <tr>\n",
              "      <th>12</th>\n",
              "      <td>GRP_56</td>\n",
              "      <td>3</td>\n",
              "    </tr>\n",
              "    <tr>\n",
              "      <th>13</th>\n",
              "      <td>GRP_63</td>\n",
              "      <td>3</td>\n",
              "    </tr>\n",
              "    <tr>\n",
              "      <th>14</th>\n",
              "      <td>GRP_68</td>\n",
              "      <td>3</td>\n",
              "    </tr>\n",
              "    <tr>\n",
              "      <th>15</th>\n",
              "      <td>GRP_58</td>\n",
              "      <td>3</td>\n",
              "    </tr>\n",
              "    <tr>\n",
              "      <th>16</th>\n",
              "      <td>GRP_66</td>\n",
              "      <td>4</td>\n",
              "    </tr>\n",
              "    <tr>\n",
              "      <th>17</th>\n",
              "      <td>GRP_32</td>\n",
              "      <td>4</td>\n",
              "    </tr>\n",
              "    <tr>\n",
              "      <th>18</th>\n",
              "      <td>GRP_43</td>\n",
              "      <td>5</td>\n",
              "    </tr>\n",
              "    <tr>\n",
              "      <th>19</th>\n",
              "      <td>GRP_59</td>\n",
              "      <td>6</td>\n",
              "    </tr>\n",
              "  </tbody>\n",
              "</table>\n",
              "</div>"
            ],
            "text/plain": [
              "     index  Assignment group\n",
              "0   GRP_67                 1\n",
              "1   GRP_70                 1\n",
              "2   GRP_61                 1\n",
              "3   GRP_35                 1\n",
              "4   GRP_64                 1\n",
              "5   GRP_73                 1\n",
              "6   GRP_57                 2\n",
              "7   GRP_69                 2\n",
              "8   GRP_54                 2\n",
              "9   GRP_71                 2\n",
              "10  GRP_72                 2\n",
              "11  GRP_38                 3\n",
              "12  GRP_56                 3\n",
              "13  GRP_63                 3\n",
              "14  GRP_68                 3\n",
              "15  GRP_58                 3\n",
              "16  GRP_66                 4\n",
              "17  GRP_32                 4\n",
              "18  GRP_43                 5\n",
              "19  GRP_59                 6"
            ]
          },
          "metadata": {
            "tags": []
          },
          "execution_count": 46
        }
      ]
    },
    {
      "cell_type": "code",
      "metadata": {
        "colab": {
          "base_uri": "https://localhost:8080/",
          "height": 437
        },
        "id": "Ce58DZ33N2OJ",
        "outputId": "b7854338-89f5-42ba-ebef-2e2dccb570d6"
      },
      "source": [
        "plt.figure(figsize=(12,6))\n",
        "bars = plt.bar(df_bottom_assg['index'],df_bottom_assg['Assignment group'])\n",
        "plt.title('Bottom 20 Assignment groups with small number of Tickets')\n",
        "plt.xlabel('Assignment Group')\n",
        "plt.xticks(rotation=90)\n",
        "plt.ylabel('Number of Tickets')\n",
        "for bar in bars:\n",
        "    yval = bar.get_height()\n",
        "    plt.text(bar.get_x(), yval + .005, yval)\n",
        "plt.tight_layout()\n",
        "plt.show()"
      ],
      "execution_count": 47,
      "outputs": [
        {
          "output_type": "display_data",
          "data": {
            "image/png": "[encoded data removed]",
            "text/plain": [
              "<Figure size 864x432 with 1 Axes>"
            ]
          },
          "metadata": {
            "tags": []
          }
        }
      ]
    },
    {
      "cell_type": "code",
      "metadata": {
        "colab": {
          "base_uri": "https://localhost:8080/",
          "height": 266
        },
        "id": "LQHy7WYcPc8q",
        "outputId": "5394f038-3640-40b1-c5d5-ed3d0cbe94a6"
      },
      "source": [
        "df_tickets = pd.DataFrame(columns=['Description','Ticket Count'])\n",
        "one_ticket = {'Description':'1','Ticket Count':len(df_assg[df_assg['Assignment group'] < 2])}\n",
        "_2_5_ticket = {'Description':'2-5',\n",
        "              'Ticket Count':len(df_assg[(df_assg['Assignment group'] > 1)& (df_assg['Assignment group'] < 6) ])}\n",
        "_10_ticket = {'Description':' 6-10',\n",
        "              'Ticket Count':len(df_assg[(df_assg['Assignment group'] > 5)& (df_assg['Assignment group'] < 11)])}\n",
        "_10_20_ticket = {'Description':' 11-20',\n",
        "              'Ticket Count':len(df_assg[(df_assg['Assignment group'] > 10)& (df_assg['Assignment group'] < 21)])}\n",
        "_20_50_ticket = {'Description':' 21-50',\n",
        "              'Ticket Count':len(df_assg[(df_assg['Assignment group'] > 20)& (df_assg['Assignment group'] < 51)])}\n",
        "_51_100_ticket = {'Description':' 51-100',\n",
        "              'Ticket Count':len(df_assg[(df_assg['Assignment group'] > 50)& (df_assg['Assignment group'] < 101)])}\n",
        "_100_ticket = {'Description':' >100',\n",
        "              'Ticket Count':len(df_assg[(df_assg['Assignment group'] > 100)])}\n",
        "#append row to the dataframe\n",
        "df_tickets = df_tickets.append([one_ticket,_2_5_ticket,_10_ticket,\n",
        "                          _10_20_ticket,_20_50_ticket,_51_100_ticket,_100_ticket], ignore_index=True)\n",
        "\n",
        "df_tickets"
      ],
      "execution_count": 48,
      "outputs": [
        {
          "output_type": "execute_result",
          "data": {
            "text/html": [
              "<div>\n",
              "<style scoped>\n",
              "    .dataframe tbody tr th:only-of-type {\n",
              "        vertical-align: middle;\n",
              "    }\n",
              "\n",
              "    .dataframe tbody tr th {\n",
              "        vertical-align: top;\n",
              "    }\n",
              "\n",
              "    .dataframe thead th {\n",
              "        text-align: right;\n",
              "    }\n",
              "</style>\n",
              "<table border=\"1\" class=\"dataframe\">\n",
              "  <thead>\n",
              "    <tr style=\"text-align: right;\">\n",
              "      <th></th>\n",
              "      <th>Description</th>\n",
              "      <th>Ticket Count</th>\n",
              "    </tr>\n",
              "  </thead>\n",
              "  <tbody>\n",
              "    <tr>\n",
              "      <th>0</th>\n",
              "      <td>1</td>\n",
              "      <td>6</td>\n",
              "    </tr>\n",
              "    <tr>\n",
              "      <th>1</th>\n",
              "      <td>2-5</td>\n",
              "      <td>13</td>\n",
              "    </tr>\n",
              "    <tr>\n",
              "      <th>2</th>\n",
              "      <td>6-10</td>\n",
              "      <td>6</td>\n",
              "    </tr>\n",
              "    <tr>\n",
              "      <th>3</th>\n",
              "      <td>11-20</td>\n",
              "      <td>9</td>\n",
              "    </tr>\n",
              "    <tr>\n",
              "      <th>4</th>\n",
              "      <td>21-50</td>\n",
              "      <td>16</td>\n",
              "    </tr>\n",
              "    <tr>\n",
              "      <th>5</th>\n",
              "      <td>51-100</td>\n",
              "      <td>9</td>\n",
              "    </tr>\n",
              "    <tr>\n",
              "      <th>6</th>\n",
              "      <td>&gt;100</td>\n",
              "      <td>15</td>\n",
              "    </tr>\n",
              "  </tbody>\n",
              "</table>\n",
              "</div>"
            ],
            "text/plain": [
              "  Description Ticket Count\n",
              "0           1            6\n",
              "1         2-5           13\n",
              "2        6-10            6\n",
              "3       11-20            9\n",
              "4       21-50           16\n",
              "5      51-100            9\n",
              "6        >100           15"
            ]
          },
          "metadata": {
            "tags": []
          },
          "execution_count": 48
        }
      ]
    },
    {
      "cell_type": "code",
      "metadata": {
        "colab": {
          "base_uri": "https://localhost:8080/",
          "height": 482
        },
        "id": "wXwo2grYQAhk",
        "outputId": "e6bd6a32-bd38-400c-8ebb-1bb282ab5f4a"
      },
      "source": [
        "plt.figure(figsize=(10, 8))\n",
        "plt.pie(df_tickets['Ticket Count'],labels=df_tickets['Description'],autopct='%1.1f%%', startangle=15, shadow = True);\n",
        "plt.title('Assignment Groups Distribution')\n",
        "plt.axis('equal');"
      ],
      "execution_count": 49,
      "outputs": [
        {
          "output_type": "display_data",
          "data": {
            "image/png": "[encoded data removed]",
            "text/plain": [
              "<Figure size 720x576 with 1 Axes>"
            ]
          },
          "metadata": {
            "tags": []
          }
        }
      ]
    },
    {
      "cell_type": "code",
      "metadata": {
        "colab": {
          "base_uri": "https://localhost:8080/",
          "height": 297
        },
        "id": "omvC15x2QG5v",
        "outputId": "da781400-5e0d-4aa4-93a8-28b6caf6d9ce"
      },
      "source": [
        "ticket_data[ticket_data['Short description'].isnull()]"
      ],
      "execution_count": 50,
      "outputs": [
        {
          "output_type": "execute_result",
          "data": {
            "text/html": [
              "<div>\n",
              "<style scoped>\n",
              "    .dataframe tbody tr th:only-of-type {\n",
              "        vertical-align: middle;\n",
              "    }\n",
              "\n",
              "    .dataframe tbody tr th {\n",
              "        vertical-align: top;\n",
              "    }\n",
              "\n",
              "    .dataframe thead th {\n",
              "        text-align: right;\n",
              "    }\n",
              "</style>\n",
              "<table border=\"1\" class=\"dataframe\">\n",
              "  <thead>\n",
              "    <tr style=\"text-align: right;\">\n",
              "      <th></th>\n",
              "      <th>Short description</th>\n",
              "      <th>Description</th>\n",
              "      <th>Caller</th>\n",
              "      <th>Assignment group</th>\n",
              "    </tr>\n",
              "  </thead>\n",
              "  <tbody>\n",
              "    <tr>\n",
              "      <th>2604</th>\n",
              "      <td>NaN</td>\n",
              "      <td>\\r\\n\\r\\nreceived from: ohdrnswl.rezuibdt@gmail...</td>\n",
              "      <td>ohdrnswl rezuibdt</td>\n",
              "      <td>GRP_34</td>\n",
              "    </tr>\n",
              "    <tr>\n",
              "      <th>3383</th>\n",
              "      <td>NaN</td>\n",
              "      <td>\\r\\n-connected to the user system using teamvi...</td>\n",
              "      <td>qftpazns fxpnytmk</td>\n",
              "      <td>GRP_0</td>\n",
              "    </tr>\n",
              "    <tr>\n",
              "      <th>3906</th>\n",
              "      <td>NaN</td>\n",
              "      <td>-user unable  tologin to vpn.\\r\\n-connected to...</td>\n",
              "      <td>awpcmsey ctdiuqwe</td>\n",
              "      <td>GRP_0</td>\n",
              "    </tr>\n",
              "    <tr>\n",
              "      <th>3910</th>\n",
              "      <td>NaN</td>\n",
              "      <td>-user unable  tologin to vpn.\\r\\n-connected to...</td>\n",
              "      <td>rhwsmefo tvphyura</td>\n",
              "      <td>GRP_0</td>\n",
              "    </tr>\n",
              "    <tr>\n",
              "      <th>3915</th>\n",
              "      <td>NaN</td>\n",
              "      <td>-user unable  tologin to vpn.\\r\\n-connected to...</td>\n",
              "      <td>hxripljo efzounig</td>\n",
              "      <td>GRP_0</td>\n",
              "    </tr>\n",
              "    <tr>\n",
              "      <th>3921</th>\n",
              "      <td>NaN</td>\n",
              "      <td>-user unable  tologin to vpn.\\r\\n-connected to...</td>\n",
              "      <td>cziadygo veiosxby</td>\n",
              "      <td>GRP_0</td>\n",
              "    </tr>\n",
              "    <tr>\n",
              "      <th>3924</th>\n",
              "      <td>NaN</td>\n",
              "      <td>name:wvqgbdhm fwchqjor\\nlanguage:\\nbrowser:mic...</td>\n",
              "      <td>wvqgbdhm fwchqjor</td>\n",
              "      <td>GRP_0</td>\n",
              "    </tr>\n",
              "    <tr>\n",
              "      <th>4341</th>\n",
              "      <td>NaN</td>\n",
              "      <td>\\r\\n\\r\\nreceived from: eqmuniov.ehxkcbgj@gmail...</td>\n",
              "      <td>eqmuniov ehxkcbgj</td>\n",
              "      <td>GRP_0</td>\n",
              "    </tr>\n",
              "  </tbody>\n",
              "</table>\n",
              "</div>"
            ],
            "text/plain": [
              "     Short description  ... Assignment group\n",
              "2604               NaN  ...           GRP_34\n",
              "3383               NaN  ...            GRP_0\n",
              "3906               NaN  ...            GRP_0\n",
              "3910               NaN  ...            GRP_0\n",
              "3915               NaN  ...            GRP_0\n",
              "3921               NaN  ...            GRP_0\n",
              "3924               NaN  ...            GRP_0\n",
              "4341               NaN  ...            GRP_0\n",
              "\n",
              "[8 rows x 4 columns]"
            ]
          },
          "metadata": {
            "tags": []
          },
          "execution_count": 50
        }
      ]
    },
    {
      "cell_type": "code",
      "metadata": {
        "colab": {
          "base_uri": "https://localhost:8080/",
          "height": 80
        },
        "id": "i1zNPIqGQLHR",
        "outputId": "7cb6cbe0-f795-459b-9648-3c5481292862"
      },
      "source": [
        "ticket_data[ticket_data['Description'].isnull()]"
      ],
      "execution_count": 51,
      "outputs": [
        {
          "output_type": "execute_result",
          "data": {
            "text/html": [
              "<div>\n",
              "<style scoped>\n",
              "    .dataframe tbody tr th:only-of-type {\n",
              "        vertical-align: middle;\n",
              "    }\n",
              "\n",
              "    .dataframe tbody tr th {\n",
              "        vertical-align: top;\n",
              "    }\n",
              "\n",
              "    .dataframe thead th {\n",
              "        text-align: right;\n",
              "    }\n",
              "</style>\n",
              "<table border=\"1\" class=\"dataframe\">\n",
              "  <thead>\n",
              "    <tr style=\"text-align: right;\">\n",
              "      <th></th>\n",
              "      <th>Short description</th>\n",
              "      <th>Description</th>\n",
              "      <th>Caller</th>\n",
              "      <th>Assignment group</th>\n",
              "    </tr>\n",
              "  </thead>\n",
              "  <tbody>\n",
              "    <tr>\n",
              "      <th>4395</th>\n",
              "      <td>i am locked out of skype</td>\n",
              "      <td>NaN</td>\n",
              "      <td>viyglzfo ajtfzpkb</td>\n",
              "      <td>GRP_0</td>\n",
              "    </tr>\n",
              "  </tbody>\n",
              "</table>\n",
              "</div>"
            ],
            "text/plain": [
              "             Short description Description             Caller Assignment group\n",
              "4395  i am locked out of skype         NaN  viyglzfo ajtfzpkb            GRP_0"
            ]
          },
          "metadata": {
            "tags": []
          },
          "execution_count": 51
        }
      ]
    },
    {
      "cell_type": "code",
      "metadata": {
        "id": "9-SpMzDvQZkM"
      },
      "source": [
        "#Replace NaN values in Short Description and Description columns\n",
        "ticket_data['Short description'] = ticket_data['Short description'].replace(np.nan, '', regex=True)\n",
        "ticket_data['Description'] = ticket_data['Description'].replace(np.nan, '', regex=True)"
      ],
      "execution_count": 52,
      "outputs": []
    },
    {
      "cell_type": "code",
      "metadata": {
        "id": "qDKj9B3eQl_C"
      },
      "source": [
        "#Lets encode the string, to make it easier to be passed to language detection api.\n",
        "def fn_decode_to_ascii(df):\n",
        "  text = df.encode().decode('utf-8').encode('ascii', 'ignore')\n",
        "  return text.decode(\"utf-8\") \n",
        "\n",
        "ticket_data['Description'] = ticket_data['Description'].apply(fn_decode_to_ascii)\n",
        "ticket_data['Short description'] = ticket_data['Short description'].apply(fn_decode_to_ascii)\n",
        "\n",
        "ftfy_ShortDescription = []\n",
        "for Short_Description in Ticket_df['Short description']:\n",
        "  ftfy_ShortDescription.append(fix_text(Short_Description))\n",
        "Ticket_df['Short description']= ftfy_ShortDescription\n",
        "ftfy_Description = []\n",
        "for Description in Ticket_df['Description']:\n",
        "  ftfy_Description.append(fix_text(Description))\n",
        "Ticket_df['Description']= ftfy_Description"
      ],
      "execution_count": 53,
      "outputs": []
    },
    {
      "cell_type": "code",
      "metadata": {
        "id": "2cmcq-dBm6Iy"
      },
      "source": [
        "#As different lines are of different length. We need to pad the our sequences using the max length\n",
        "contractions = { \n",
        "\"ain't\": \"am not / are not / is not / has not / have not\",\n",
        "\"aren't\": \"are not / am not\",\n",
        "\"can't\": \"cannot\",\n",
        "\"can't've\": \"cannot have\",\n",
        "\"'cause\": \"because\",\n",
        "\"could've\": \"could have\",\n",
        "\"couldn't\": \"could not\",\n",
        "\"couldn't've\": \"could not have\",\n",
        "\"didn't\": \"did not\",\n",
        "\"doesn't\": \"does not\",\n",
        "\"don't\": \"do not\",\n",
        "\"hadn't\": \"had not\",\n",
        "\"hadn't've\": \"had not have\",\n",
        "\"hasn't\": \"has not\",\n",
        "\"haven't\": \"have not\",\n",
        "\"he'd\": \"he had / he would\",\n",
        "\"he'd've\": \"he would have\",\n",
        "\"he'll\": \"he shall / he will\",\n",
        "\"he'll've\": \"he shall have / he will have\",\n",
        "\"he's\": \"he has / he is\",\n",
        "\"how'd\": \"how did\",\n",
        "\"how'd'y\": \"how do you\",\n",
        "\"how'll\": \"how will\",\n",
        "\"how's\": \"how has / how is / how does\",\n",
        "\"I'd\": \"I had / I would\",\n",
        "\"I'd've\": \"I would have\",\n",
        "\"I'll\": \"I shall / I will\",\n",
        "\"I'll've\": \"I shall have / I will have\",\n",
        "\"I'm\": \"I am\",\n",
        "\"I've\": \"I have\",\n",
        "\"isn't\": \"is not\",\n",
        "\"it'd\": \"it had / it would\",\n",
        "\"it'd've\": \"it would have\",\n",
        "\"it'll\": \"it shall / it will\",\n",
        "\"it'll've\": \"it shall have / it will have\",\n",
        "\"it's\": \"it has / it is\",\n",
        "\"let's\": \"let us\",\n",
        "\"ma'am\": \"madam\",\n",
        "\"mayn't\": \"may not\",\n",
        "\"might've\": \"might have\",\n",
        "\"mightn't\": \"might not\",\n",
        "\"mightn't've\": \"might not have\",\n",
        "\"must've\": \"must have\",\n",
        "\"mustn't\": \"must not\",\n",
        "\"mustn't've\": \"must not have\",\n",
        "\"needn't\": \"need not\",\n",
        "\"needn't've\": \"need not have\",\n",
        "\"o'clock\": \"of the clock\",\n",
        "\"oughtn't\": \"ought not\",\n",
        "\"oughtn't've\": \"ought not have\",\n",
        "\"shan't\": \"shall not\",\n",
        "\"sha'n't\": \"shall not\",\n",
        "\"shan't've\": \"shall not have\",\n",
        "\"she'd\": \"she had / she would\",\n",
        "\"she'd've\": \"she would have\",\n",
        "\"she'll\": \"she shall / she will\",\n",
        "\"she'll've\": \"she shall have / she will have\",\n",
        "\"she's\": \"she has / she is\",\n",
        "\"should've\": \"should have\",\n",
        "\"shouldn't\": \"should not\",\n",
        "\"shouldn't've\": \"should not have\",\n",
        "\"so've\": \"so have\",\n",
        "\"so's\": \"so as / so is\",\n",
        "\"that'd\": \"that would / that had\",\n",
        "\"that'd've\": \"that would have\",\n",
        "\"that's\": \"that has / that is\",\n",
        "\"there'd\": \"there had / there would\",\n",
        "\"there'd've\": \"there would have\",\n",
        "\"there's\": \"there has / there is\",\n",
        "\"they'd\": \"they had / they would\",\n",
        "\"they'd've\": \"they would have\",\n",
        "\"they'll\": \"they shall / they will\",\n",
        "\"they'll've\": \"they shall have / they will have\",\n",
        "\"they're\": \"they are\",\n",
        "\"they've\": \"they have\",\n",
        "\"to've\": \"to have\",\n",
        "\"wasn't\": \"was not\",\n",
        "\"we'd\": \"we had / we would\",\n",
        "\"we'd've\": \"we would have\",\n",
        "\"we'll\": \"we will\",\n",
        "\"we'll've\": \"we will have\",\n",
        "\"we're\": \"we are\",\n",
        "\"we've\": \"we have\",\n",
        "\"weren't\": \"were not\",\n",
        "\"what'll\": \"what shall / what will\",\n",
        "\"what'll've\": \"what shall have / what will have\",\n",
        "\"what're\": \"what are\",\n",
        "\"what's\": \"what has / what is\",\n",
        "\"what've\": \"what have\",\n",
        "\"when's\": \"when has / when is\",\n",
        "\"when've\": \"when have\",\n",
        "\"where'd\": \"where did\",\n",
        "\"where's\": \"where has / where is\",\n",
        "\"where've\": \"where have\",\n",
        "\"who'll\": \"who shall / who will\",\n",
        "\"who'll've\": \"who shall have / who will have\",\n",
        "\"who's\": \"who has / who is\",\n",
        "\"who've\": \"who have\",\n",
        "\"why's\": \"why has / why is\",\n",
        "\"why've\": \"why have\",\n",
        "\"will've\": \"will have\",\n",
        "\"won't\": \"will not\",\n",
        "\"won't've\": \"will not have\",\n",
        "\"would've\": \"would have\",\n",
        "\"wouldn't\": \"would not\",\n",
        "\"wouldn't've\": \"would not have\",\n",
        "\"y'all\": \"you all\",\n",
        "\"y'all'd\": \"you all would\",\n",
        "\"y'all'd've\": \"you all would have\",\n",
        "\"y'all're\": \"you all are\",\n",
        "\"y'all've\": \"you all have\",\n",
        "\"you'd\": \"you had / you would\",\n",
        "\"you'd've\": \"you would have\",\n",
        "\"you'll\": \"you shall / you will\",\n",
        "\"you'll've\": \"you shall have / you will have\",\n",
        "\"you're\": \"you are\",\n",
        "\"you've\": \"you have\"\n",
        "}"
      ],
      "execution_count": null,
      "outputs": []
    },
    {
      "cell_type": "code",
      "metadata": {
        "id": "xhMeOyYd5HVu"
      },
      "source": [
        "def get_text_from_translation(translation):\n",
        "  print (translation.text)\n",
        "  translated_text = translation.text.split(\"text\")[1]\n",
        "  translated_text = translated_text.split(\"Pronunciation\")[0]\n",
        "  translated_text = translated_text.split(\"=\")[1]\n",
        "  translated_text = translated_text.strip()\n",
        "  translated_text = translated_text.replace(translated_text[len(translated_text)-1],\"\")\n",
        "  return translated_text\n",
        "def translate_word_by_word(sentence):\n",
        "  words = sentence.split(\" \")\n",
        "  new_words = []\n",
        "  for word in words:\n",
        "    lang = detect(word)\n",
        "    translator = Translator(provider='mymemory', to_lang=\"en\", from_lang = lang, secret_access_key=None)\n",
        "    new_word = translator.translate(word)\n",
        "    new_words.append(new_word)\n",
        "  return \" \".join(new_words)\n",
        "def translate_sentence(sentence):\n",
        "  lang = detect(sentence)\n",
        "  translator = Translator(provider='mymemory', to_lang=\"en\", from_lang = lang, secret_access_key=None)\n",
        "  return translator.translate(sentence)"
      ],
      "execution_count": 54,
      "outputs": []
    },
    {
      "cell_type": "code",
      "metadata": {
        "id": "mphg922fQ6Dj"
      },
      "source": [
        "def translate_column(columnvalue):  \n",
        "  try:                                                          \n",
        "    sentence_translated = translate_sentence(columnvalue)\n",
        "    return sentence_translated\n",
        "  except:                                                       \n",
        "    return columnvalue                                                  \n",
        "\n",
        "ticket_data['Description'] = ticket_data['Description'].apply(translate_column)"
      ],
      "execution_count": 55,
      "outputs": []
    },
    {
      "cell_type": "code",
      "metadata": {
        "id": "UxTovBIxfn0H"
      },
      "source": [
        "def detect_lang(desc):\n",
        "  try:\n",
        "    if desc != \"\":\n",
        "      return detect(desc)\n",
        "    else:\n",
        "      return \"en\"\n",
        "  except:\n",
        "    return \"en\"\n",
        "ticket_data['language'] = ticket_data['Description'].apply(detect_lang)"
      ],
      "execution_count": 56,
      "outputs": []
    },
    {
      "cell_type": "code",
      "metadata": {
        "colab": {
          "base_uri": "https://localhost:8080/"
        },
        "id": "IJWPUVRKRuUl",
        "outputId": "f5de0a7b-769b-4c84-c8a8-34c52ef88ad0"
      },
      "source": [
        "ticket_data[\"language\"].value_counts()"
      ],
      "execution_count": 57,
      "outputs": [
        {
          "output_type": "execute_result",
          "data": {
            "text/plain": [
              "en    7079\n",
              "de     397\n",
              "af     265\n",
              "it     142\n",
              "fr     111\n",
              "no      74\n",
              "ca      64\n",
              "sv      58\n",
              "es      58\n",
              "nl      55\n",
              "da      33\n",
              "pl      31\n",
              "pt      20\n",
              "sl      19\n",
              "tl      14\n",
              "cy      14\n",
              "ro      13\n",
              "sq       9\n",
              "et       9\n",
              "hr       7\n",
              "fi       5\n",
              "id       5\n",
              "so       5\n",
              "lt       3\n",
              "lv       3\n",
              "sk       2\n",
              "cs       2\n",
              "sw       2\n",
              "vi       1\n",
              "Name: language, dtype: int64"
            ]
          },
          "metadata": {
            "tags": []
          },
          "execution_count": 57
        }
      ]
    },
    {
      "cell_type": "code",
      "metadata": {
        "colab": {
          "base_uri": "https://localhost:8080/",
          "height": 410
        },
        "id": "TPPet5FARwpJ",
        "outputId": "a42061db-afd4-4dac-9533-782ce0048e11"
      },
      "source": [
        "x = ticket_data[\"language\"].value_counts()\n",
        "x=x.sort_index()\n",
        "plt.figure(figsize=(10,6))\n",
        "ax= sns.barplot(x.index, x.values, alpha=0.8)\n",
        "plt.title(\"Distribution of text by language\")\n",
        "plt.ylabel('number of records')\n",
        "plt.xlabel('Language')\n",
        "rects = ax.patches\n",
        "labels = x.values\n",
        "for rect, label in zip(rects, labels):\n",
        "    height = rect.get_height()\n",
        "    ax.text(rect.get_x() + rect.get_width()/2, height + 5, label, ha='center', va='bottom')\n",
        "plt.show();"
      ],
      "execution_count": 58,
      "outputs": [
        {
          "output_type": "display_data",
          "data": {
            "image/png": "[encoded data removed]",
            "text/plain": [
              "<Figure size 720x432 with 1 Axes>"
            ]
          },
          "metadata": {
            "tags": []
          }
        }
      ]
    },
    {
      "cell_type": "code",
      "metadata": {
        "colab": {
          "base_uri": "https://localhost:8080/",
          "height": 204
        },
        "id": "bSGtwrpxq_gW",
        "outputId": "afcd156f-9495-4786-ea04-a5b47dee3f54"
      },
      "source": [
        "max_features = 10000\n",
        "MAX_LENGTH = 300\n",
        "embedding_size = 200\n",
        "\n",
        "def clean_text(text):\n",
        "    if text != \"\":          \n",
        "      '''Make text lowercase, remove text in square brackets,remove links,remove punctuation\n",
        "      and remove words containing numbers.'''\n",
        "      text=text.replace(('first name: ').lower(),'firstname')\n",
        "      text=text.replace(('last name: ').lower(),'lastname')\n",
        "      text=text.replace(('received from:').lower(),'')\n",
        "      text=text.replace('email:','')\n",
        "      text=text.replace('email address:','') \n",
        "      index1=text.find('from:')\n",
        "      index2=text.find('\\nsddubject:')\n",
        "      text=text.replace(text[index1:index2],'')\n",
        "      index3=text.find('[cid:image')\n",
        "      index4=text.find(']')\n",
        "      text=text.replace(text[index3:index4],'')\n",
        "      text=text.replace('subject:','')\n",
        "      text=text.replace('received from:','')\n",
        "      text=text.replace('this message was sent from an unmonitored email address', '')\n",
        "      text=text.replace('please do not reply to this message', '')\n",
        "      text=text.replace('monitoring_tool@company.com','MonitoringTool')\n",
        "      text=text.replace('select the following link to view the disclaimer in an alternate language','')\n",
        "      text=text.replace('description problem', '') \n",
        "      text=text.replace('steps taken far', '')\n",
        "      text=text.replace('customer job title', '')\n",
        "      text=text.replace('sales engineer contact', '')\n",
        "      text=text.replace('description of problem:', '')\n",
        "      text=text.replace('steps taken so far', '')\n",
        "      text=text.replace('please do the needful', '')\n",
        "      text=text.replace('please note that ', '')\n",
        "      text=text.replace('please find below', '')\n",
        "      text=text.replace('date and time', '')\n",
        "      text=text.replace('kindly refer mail', '')\n",
        "      text=text.replace('name:', '')\n",
        "      text=text.replace('language:', '')\n",
        "      text=text.replace('customer number:', '')\n",
        "      text=text.replace('telephone:', '')\n",
        "      text=text.replace('summary:', '')\n",
        "      text=text.replace('sincerely', '')\n",
        "      text=text.replace('company inc', '')\n",
        "      text=text.replace('importance:', '')\n",
        "      text=text.replace('gmail.com', '')\n",
        "      text=text.replace('company.com', '')\n",
        "      text=text.replace('microsoftonline.com', '')\n",
        "      text=text.replace('company.onmicrosoft.com', '')\n",
        "      text=text.replace('hello', '')\n",
        "      text=text.replace('hallo', '')\n",
        "      text=text.replace('hi it team', '')\n",
        "      text=text.replace('hi team', '')\n",
        "      text=text.replace('hi', '')\n",
        "      text=text.replace('best', '')\n",
        "      text=text.replace('kind', '')\n",
        "      text=text.replace('regards', '')\n",
        "      text=text.replace('good morning', '')\n",
        "      text=text.replace('please', '')\n",
        "      text=text.replace('regards', '')\n",
        "      text = re.sub(r'\\<a href', ' ', text)\n",
        "      text = re.sub(r'&amp;', '', text)\n",
        "      text = re.sub(r'<br />', ' ', text)    \n",
        "      if remove_stopwords:\n",
        "        text = text.split()\n",
        "        stops = set(stopwords.words(\"english\"))\n",
        "        text = [w for w in text if not w in stops]\n",
        "        text = \" \".join(text)\n",
        "      text = re.sub(r'\\S+@\\S+', '', text)\n",
        "      text = re.sub(r'\\d+','' ,text)\n",
        "      text = re.sub(r'#','', text)\n",
        "      text = re.sub(r'&;?', 'and',text)\n",
        "      text = re.sub(r'\\&\\w*;', '', text)\n",
        "      text = re.sub(r'https?:\\/\\/.*\\/\\w*', '', text)\n",
        "      custom_punctuation='!\"#$%&\\'()*+,-./:;<=>?@[\\\\]^`{|}~'\n",
        "      text = re.sub(r'\\w*\\d\\w*', '', text)\n",
        "      text = re.sub(r'\\[.*?\\]', '', text)\n",
        "      text = re.sub(r'https?://\\S+|www\\.\\S+', '', text)\n",
        "      text = re.sub(r'<.*?>+', '', text)\n",
        "      text= ''.join(c for c in text if c <= '\\uFFFF') \n",
        "      text = text.strip()      \n",
        "      text = re.sub(r'[%s]' % re.escape(string.punctuation), '', text)\n",
        "      text = ' '.join(re.sub(\"[^\\u0030-\\u0039\\u0041-\\u005a\\u0061-\\u007a]\", \" \", text).split())\n",
        "      text = re.sub(r'\\r\\n', '', text)\n",
        "      text = re.sub(r'\\n', '', text)\n",
        "      text = re.sub(r'\\S+@\\S+', '', text)\n",
        "\n",
        "      text = text.lower()\n",
        "    return text\n",
        "\n",
        "ticket_data[\"Description\"] = ticket_data[\"Description\"].apply(clean_text)\n",
        "ticket_data[\"Short description\"] = ticket_data[\"Short description\"].apply(clean_text)\n",
        "ticket_data.head()"
      ],
      "execution_count": 59,
      "outputs": [
        {
          "output_type": "execute_result",
          "data": {
            "text/html": [
              "<div>\n",
              "<style scoped>\n",
              "    .dataframe tbody tr th:only-of-type {\n",
              "        vertical-align: middle;\n",
              "    }\n",
              "\n",
              "    .dataframe tbody tr th {\n",
              "        vertical-align: top;\n",
              "    }\n",
              "\n",
              "    .dataframe thead th {\n",
              "        text-align: right;\n",
              "    }\n",
              "</style>\n",
              "<table border=\"1\" class=\"dataframe\">\n",
              "  <thead>\n",
              "    <tr style=\"text-align: right;\">\n",
              "      <th></th>\n",
              "      <th>Short description</th>\n",
              "      <th>Description</th>\n",
              "      <th>Caller</th>\n",
              "      <th>Assignment group</th>\n",
              "      <th>language</th>\n",
              "    </tr>\n",
              "  </thead>\n",
              "  <tbody>\n",
              "    <tr>\n",
              "      <th>0</th>\n",
              "      <td>login issue</td>\n",
              "      <td>verified user detailsemployee  manager nameche...</td>\n",
              "      <td>spxjnwir pjlcoqds</td>\n",
              "      <td>GRP_0</td>\n",
              "      <td>en</td>\n",
              "    </tr>\n",
              "    <tr>\n",
              "      <th>1</th>\n",
              "      <td>outlook</td>\n",
              "      <td>hmjdrvpbkomuaywn teammy meetingsskype meeting...</td>\n",
              "      <td>hmjdrvpb komuaywn</td>\n",
              "      <td>GRP_0</td>\n",
              "      <td>en</td>\n",
              "    </tr>\n",
              "    <tr>\n",
              "      <th>2</th>\n",
              "      <td>cant log in to vpn</td>\n",
              "      <td>eylqgodmybqkwiami cannot log on to vpn</td>\n",
              "      <td>eylqgodm ybqkwiam</td>\n",
              "      <td>GRP_0</td>\n",
              "      <td>en</td>\n",
              "    </tr>\n",
              "    <tr>\n",
              "      <th>3</th>\n",
              "      <td>unable to access hrtool page</td>\n",
              "      <td>unable to access hrtool page</td>\n",
              "      <td>xbkucsvz gcpydteq</td>\n",
              "      <td>GRP_0</td>\n",
              "      <td>en</td>\n",
              "    </tr>\n",
              "    <tr>\n",
              "      <th>4</th>\n",
              "      <td>skype error</td>\n",
              "      <td>skype error</td>\n",
              "      <td>owlgqjme qhcozdfx</td>\n",
              "      <td>GRP_0</td>\n",
              "      <td>no</td>\n",
              "    </tr>\n",
              "  </tbody>\n",
              "</table>\n",
              "</div>"
            ],
            "text/plain": [
              "              Short description  ... language\n",
              "0                   login issue  ...       en\n",
              "1                       outlook  ...       en\n",
              "2            cant log in to vpn  ...       en\n",
              "3  unable to access hrtool page  ...       en\n",
              "4                  skype error   ...       no\n",
              "\n",
              "[5 rows x 5 columns]"
            ]
          },
          "metadata": {
            "tags": []
          },
          "execution_count": 59
        }
      ]
    },
    {
      "cell_type": "code",
      "metadata": {
        "id": "gUw8fWWHZa1L"
      },
      "source": [
        "stop = stopwords.words('english')\n",
        "ticket_data[\"Description\"] = ticket_data[\"Description\"].apply(lambda x: \" \".join(x for x in str(x).split() if x not in stop))\n",
        "ticket_data[\"Short description\"] = ticket_data[\"Short description\"].apply(lambda x: \" \".join(x for x in str(x).split() if x not in stop))"
      ],
      "execution_count": 64,
      "outputs": []
    },
    {
      "cell_type": "markdown",
      "metadata": {
        "id": "H2DaUppJq_gW"
      },
      "source": [
        "add a filter for blank SD and D"
      ]
    },
    {
      "cell_type": "code",
      "metadata": {
        "id": "YLo8ls2aMlYj"
      },
      "source": [
        "# Function to translate the text to english.\n",
        "def fn_translate(df,lang):\n",
        "  try:\n",
        "    if lang == 'en':\n",
        "        return df\n",
        "    else:\n",
        "        return translator.translate(df).text\n",
        "  except:\n",
        "    return df\n",
        "\n",
        "#ticket_data['Description'] = ticket_data.apply(lambda x: fn_translate(x['Description'], detect(x['language'])), axis=1)\n",
        "#ticket_data['Short description'] = ticket_data.apply(lambda x: fn_translate(x['Short description'], detect(x['language'])), axis=1)"
      ],
      "execution_count": 65,
      "outputs": []
    },
    {
      "cell_type": "code",
      "metadata": {
        "colab": {
          "base_uri": "https://localhost:8080/",
          "height": 204
        },
        "id": "kKOgzvuQYuS4",
        "outputId": "d89a57ff-e77b-4720-e3a0-8e5aa991ceac"
      },
      "source": [
        "ticket_data.head()"
      ],
      "execution_count": 66,
      "outputs": [
        {
          "output_type": "execute_result",
          "data": {
            "text/html": [
              "<div>\n",
              "<style scoped>\n",
              "    .dataframe tbody tr th:only-of-type {\n",
              "        vertical-align: middle;\n",
              "    }\n",
              "\n",
              "    .dataframe tbody tr th {\n",
              "        vertical-align: top;\n",
              "    }\n",
              "\n",
              "    .dataframe thead th {\n",
              "        text-align: right;\n",
              "    }\n",
              "</style>\n",
              "<table border=\"1\" class=\"dataframe\">\n",
              "  <thead>\n",
              "    <tr style=\"text-align: right;\">\n",
              "      <th></th>\n",
              "      <th>Short description</th>\n",
              "      <th>Description</th>\n",
              "      <th>Caller</th>\n",
              "      <th>Assignment group</th>\n",
              "      <th>language</th>\n",
              "    </tr>\n",
              "  </thead>\n",
              "  <tbody>\n",
              "    <tr>\n",
              "      <th>0</th>\n",
              "      <td>login issue</td>\n",
              "      <td>verified user detailsemployee manager namechec...</td>\n",
              "      <td>spxjnwir pjlcoqds</td>\n",
              "      <td>GRP_0</td>\n",
              "      <td>en</td>\n",
              "    </tr>\n",
              "    <tr>\n",
              "      <th>1</th>\n",
              "      <td>outlook</td>\n",
              "      <td>hmjdrvpbkomuaywn teammy meetingsskype meetings...</td>\n",
              "      <td>hmjdrvpb komuaywn</td>\n",
              "      <td>GRP_0</td>\n",
              "      <td>en</td>\n",
              "    </tr>\n",
              "    <tr>\n",
              "      <th>2</th>\n",
              "      <td>cant log vpn</td>\n",
              "      <td>eylqgodmybqkwiami cannot log vpn</td>\n",
              "      <td>eylqgodm ybqkwiam</td>\n",
              "      <td>GRP_0</td>\n",
              "      <td>en</td>\n",
              "    </tr>\n",
              "    <tr>\n",
              "      <th>3</th>\n",
              "      <td>unable access hrtool page</td>\n",
              "      <td>unable access hrtool page</td>\n",
              "      <td>xbkucsvz gcpydteq</td>\n",
              "      <td>GRP_0</td>\n",
              "      <td>en</td>\n",
              "    </tr>\n",
              "    <tr>\n",
              "      <th>4</th>\n",
              "      <td>skype error</td>\n",
              "      <td>skype error</td>\n",
              "      <td>owlgqjme qhcozdfx</td>\n",
              "      <td>GRP_0</td>\n",
              "      <td>no</td>\n",
              "    </tr>\n",
              "  </tbody>\n",
              "</table>\n",
              "</div>"
            ],
            "text/plain": [
              "           Short description  ... language\n",
              "0                login issue  ...       en\n",
              "1                    outlook  ...       en\n",
              "2               cant log vpn  ...       en\n",
              "3  unable access hrtool page  ...       en\n",
              "4                skype error  ...       no\n",
              "\n",
              "[5 rows x 5 columns]"
            ]
          },
          "metadata": {
            "tags": []
          },
          "execution_count": 66
        }
      ]
    },
    {
      "cell_type": "code",
      "metadata": {
        "id": "mNrGYW0iZTjf"
      },
      "source": [
        "ticket_data['Short description']= ticket_data['Short description'].apply(lambda x: \" \".join([Word(word).lemmatize() for word in str(x).split()]))\n",
        "ticket_data['Description']= ticket_data['Description'].apply(lambda x: \" \".join([Word(word).lemmatize() for word in str(x).split()]))"
      ],
      "execution_count": 69,
      "outputs": []
    },
    {
      "cell_type": "code",
      "metadata": {
        "colab": {
          "base_uri": "https://localhost:8080/"
        },
        "id": "UujZQZVkaq1X",
        "outputId": "e81e80a8-98c0-4345-8fc0-944bb734d119"
      },
      "source": [
        "ticket_data['Description_New'] = ticket_data['Short description'] + ticket_data['Description']\n",
        "ticket_data['num_wds'] = ticket_data['Description_New'].apply(lambda x: len(x.split()))\n",
        "ticket_data['num_wds'].mean()"
      ],
      "execution_count": 70,
      "outputs": [
        {
          "output_type": "execute_result",
          "data": {
            "text/plain": [
              "16.378470588235295"
            ]
          },
          "metadata": {
            "tags": []
          },
          "execution_count": 70
        }
      ]
    },
    {
      "cell_type": "code",
      "metadata": {
        "colab": {
          "base_uri": "https://localhost:8080/"
        },
        "id": "bQpPVzr9bJYv",
        "outputId": "123c1d22-e698-4339-9779-306cce344e76"
      },
      "source": [
        "print(ticket_data['num_wds'].max())\n",
        "print(ticket_data['num_wds'].min())"
      ],
      "execution_count": 71,
      "outputs": [
        {
          "output_type": "stream",
          "text": [
            "619\n",
            "0\n"
          ],
          "name": "stdout"
        }
      ]
    },
    {
      "cell_type": "code",
      "metadata": {
        "colab": {
          "base_uri": "https://localhost:8080/"
        },
        "id": "BHPc3RWebOhH",
        "outputId": "0019d0dc-5b8a-4088-f725-b02ebe79a53d"
      },
      "source": [
        "len(ticket_data[ticket_data['num_wds']==0])"
      ],
      "execution_count": 72,
      "outputs": [
        {
          "output_type": "execute_result",
          "data": {
            "text/plain": [
              "46"
            ]
          },
          "metadata": {
            "tags": []
          },
          "execution_count": 72
        }
      ]
    },
    {
      "cell_type": "code",
      "metadata": {
        "colab": {
          "base_uri": "https://localhost:8080/"
        },
        "id": "nB7oIhpbbWNW",
        "outputId": "394a07e5-9875-4fd9-dae8-ef71fd4bbaac"
      },
      "source": [
        "ticket_data['uniq_wds'] = ticket_data['Description_New'].str.split().apply(lambda x: len(set(x)))\n",
        "ticket_data['uniq_wds'].head()"
      ],
      "execution_count": 73,
      "outputs": [
        {
          "output_type": "execute_result",
          "data": {
            "text/plain": [
              "0    15\n",
              "1    12\n",
              "2     5\n",
              "3     5\n",
              "4     3\n",
              "Name: uniq_wds, dtype: int64"
            ]
          },
          "metadata": {
            "tags": []
          },
          "execution_count": 73
        }
      ]
    },
    {
      "cell_type": "code",
      "metadata": {
        "colab": {
          "base_uri": "https://localhost:8080/",
          "height": 703
        },
        "id": "lL6DvrJ0bXka",
        "outputId": "3a0f91e7-41e6-4c5b-f771-162d79f1667d"
      },
      "source": [
        "assign_grps = ticket_data.groupby('Assignment group')\n",
        "ax=assign_grps['num_wds'].aggregate(np.mean).plot(kind='bar', fontsize=14, figsize=(20,10))\n",
        "ax.set_title('Mean Number of Words in tickets per Assignment Group\\n', fontsize=20)\n",
        "ax.set_ylabel('Mean Number of Words', fontsize=18)\n",
        "ax.set_xlabel('Assignment Group', fontsize=18);"
      ],
      "execution_count": 74,
      "outputs": [
        {
          "output_type": "display_data",
          "data": {
            "image/png": "[encoded data removed]",
            "text/plain": [
              "<Figure size 1440x720 with 1 Axes>"
            ]
          },
          "metadata": {
            "tags": []
          }
        }
      ]
    },
    {
      "cell_type": "code",
      "metadata": {
        "colab": {
          "base_uri": "https://localhost:8080/",
          "height": 703
        },
        "id": "f_yL2NJDbpu5",
        "outputId": "4b156d56-4189-4b4c-b837-d746056a926f"
      },
      "source": [
        "ax=assign_grps['uniq_wds'].aggregate(np.mean).plot(kind='bar', fontsize=14, figsize=(20,10))\n",
        "ax.set_title('Mean Number of Unique Words per tickets in Assignment Group\\n', fontsize=20)\n",
        "ax.set_ylabel('Mean Number of Unique Words', fontsize=18)\n",
        "ax.set_xlabel('Assignment Group', fontsize=18);"
      ],
      "execution_count": 75,
      "outputs": [
        {
          "output_type": "display_data",
          "data": {
            "image/png": "[encoded data removed]",
            "text/plain": [
              "<Figure size 1440x720 with 1 Axes>"
            ]
          },
          "metadata": {
            "tags": []
          }
        }
      ]
    },
    {
      "cell_type": "code",
      "metadata": {
        "colab": {
          "base_uri": "https://localhost:8080/"
        },
        "id": "a8zbimaYbvs8",
        "outputId": "9f0d540d-9674-4ca0-83dd-dad7325c50ca"
      },
      "source": [
        "word_counts = Counter()\n",
        "for i, row in ticket_data.iterrows():\n",
        "    word_counts.update(row['Description_New'].split())\n",
        "    \n",
        "word_counts.most_common(20)"
      ],
      "execution_count": 78,
      "outputs": [
        {
          "output_type": "execute_result",
          "data": {
            "text/plain": [
              "[('password', 1800),\n",
              " ('failed', 1701),\n",
              " ('yesnona', 1568),\n",
              " ('erp', 1521),\n",
              " ('user', 1266),\n",
              " ('t', 1227),\n",
              " ('job', 1198),\n",
              " ('reset', 1121),\n",
              " ('access', 1001),\n",
              " ('account', 983),\n",
              " ('jobscheduler', 971),\n",
              " ('unable', 938),\n",
              " ('issue', 839),\n",
              " ('company', 813),\n",
              " ('error', 808),\n",
              " ('jobschedulermonitoringtooljob', 781),\n",
              " ('site', 774),\n",
              " ('need', 732),\n",
              " ('login', 731),\n",
              " ('ticket', 683)]"
            ]
          },
          "metadata": {
            "tags": []
          },
          "execution_count": 78
        }
      ]
    },
    {
      "cell_type": "code",
      "metadata": {
        "colab": {
          "base_uri": "https://localhost:8080/"
        },
        "id": "lNZokN0Pb2cr",
        "outputId": "cbb30591-c9e5-499f-8a5c-ee77c39878fe"
      },
      "source": [
        "tokenizer = nltk.tokenize.RegexpTokenizer(r'\\w+')\n",
        "ticket_data['token_desc'] = ticket_data['Description_New'].apply(lambda x: tokenizer.tokenize(x))\n",
        "ticket_data['token_desc'].head()"
      ],
      "execution_count": 79,
      "outputs": [
        {
          "output_type": "execute_result",
          "data": {
            "text/plain": [
              "0    [login, issueverified, user, detailsemployee, ...\n",
              "1    [outlookhmjdrvpbkomuaywn, teammy, meetingsskyp...\n",
              "2    [cant, log, vpneylqgodmybqkwiami, cannot, log,...\n",
              "3    [unable, access, hrtool, pageunable, access, h...\n",
              "4                           [skype, errorskype, error]\n",
              "Name: token_desc, dtype: object"
            ]
          },
          "metadata": {
            "tags": []
          },
          "execution_count": 79
        }
      ]
    },
    {
      "cell_type": "code",
      "metadata": {
        "id": "6OzML9Cwq_gX"
      },
      "source": [
        "def replace_with_synonym(sentence, perc_words):\n",
        "    synonym = \"\"\n",
        "    words = sentence.split(\" \")\n",
        "    repl_num = rnd.randint(0,100)\n",
        "    repl_prob = False if repl_num > perc_words else True\n",
        "    for word in words:\n",
        "        if repl_prob:\n",
        "            syns = wordnet.synsets(word)\n",
        "            total = len(syns)\n",
        "            if total>0:\n",
        "                syn_idx = rnd.randint(0,total - 1)\n",
        "                synonym = syns[syn_idx].lemmas()[0].name()\n",
        "            if synonym != \"\":\n",
        "                sentence = sentence.replace(word, synonym)\n",
        "    return sentence\n",
        "def scatter_sentences(para):\n",
        "    sentences = para.split(\".\")\n",
        "    i=0\n",
        "    for sentence in sentences:\n",
        "        sentences[i] = sentence.strip()\n",
        "        i = i+1\n",
        "    total = len(sentences)\n",
        "    i = 0\n",
        "    new_order = []\n",
        "    while (len(new_order) < total):\n",
        "        num = rnd.randint(0,total-1)\n",
        "        if num not in new_order:\n",
        "            new_order.append(num)\n",
        "            i = i + 1\n",
        "    new_sentences = [sentences[i] for i in new_order]\n",
        "    return \". \".join(new_sentences)"
      ],
      "execution_count": 81,
      "outputs": []
    },
    {
      "cell_type": "code",
      "metadata": {
        "colab": {
          "base_uri": "https://localhost:8080/"
        },
        "id": "TOe2iQ_Ccn_a",
        "outputId": "308d88e1-c0a8-4a3b-eaeb-f953324a888d"
      },
      "source": [
        "print(scatter_sentences(\"Hi, I am abhijit. I work in Market Research. This is me trying to jumble sentences. A fourth sentence was added here for no reason.\"))\n",
        "translation = translate_word_by_word(\"Hello, I am trying to translate this satz and generate data. drucker em93 (bei frau zeilmann) defekt: das papier wird wÃ¤hrend des druck- kopiervorganges geknittert.\")\n",
        "print(translation)\n",
        "translation = translate_sentence(\"drucker em93 (bei frau zeilmann) defekt: das papier wird wÃ¤hrend des druck- kopiervorganges geknittert.\")\n",
        "print(translation)"
      ],
      "execution_count": 82,
      "outputs": [
        {
          "output_type": "stream",
          "text": [
            "A fourth sentence was added here for no reason. Hi, I am abhijit. This is me trying to jumble sentences. . I work in Market Research\n",
            "Hello, I am trying to translate this Satz and GENERATE personal Printer in93 (for parenteral use) brittle zeilmann) Defect of paper sprint While of the Pressure copy processes crackled.\n",
            "printer em93 (at Frau Zeilmann&#39;s) defective: the paper is creased during the print and copy process.\n"
          ],
          "name": "stdout"
        }
      ]
    },
    {
      "cell_type": "code",
      "metadata": {
        "colab": {
          "base_uri": "https://localhost:8080/"
        },
        "id": "pGd2Hw-qq_gW",
        "outputId": "b23cf383-5651-4f49-81ab-d6a2fed40dcb"
      },
      "source": [
        "def vocabularize(text, max_features):\n",
        "  x = text\n",
        "  vocabSize = max_features\n",
        "  tokenizer = Tokenizer(num_words=vocabSize, split=' ')\n",
        "  tokenizer.fit_on_texts(x)\n",
        "  x = tokenizer.texts_to_sequences(x)\n",
        "  x = pad_sequences(x,MAX_LENGTH)\n",
        "  return x\n",
        "x = vocabularize(ticket_data[\"Description_New\"], max_features)\n",
        "x"
      ],
      "execution_count": 80,
      "outputs": [
        {
          "output_type": "execute_result",
          "data": {
            "text/plain": [
              "array([[   0,    0,    0, ...,   34,  341,  186],\n",
              "       [   0,    0,    0, ...,  291,  284,    6],\n",
              "       [   0,    0,    0, ...,   55,   49,   50],\n",
              "       ...,\n",
              "       [   0,    0,    0, ...,    1,    8, 6967],\n",
              "       [   0,    0,    0, ..., 1673, 5518,   29],\n",
              "       [   0,    0,    0, ..., 1140, 2806, 2413]], dtype=int32)"
            ]
          },
          "metadata": {
            "tags": []
          },
          "execution_count": 80
        }
      ]
    }
  ]
}