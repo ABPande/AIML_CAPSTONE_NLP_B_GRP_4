{
  "nbformat": 4,
  "nbformat_minor": 0,
  "metadata": {
    "kernelspec": {
      "display_name": "Python 3",
      "language": "python",
      "name": "python3"
    },
    "language_info": {
      "codemirror_mode": {
        "name": "ipython",
        "version": 3
      },
      "file_extension": ".py",
      "mimetype": "text/x-python",
      "name": "python",
      "nbconvert_exporter": "python",
      "pygments_lexer": "ipython3",
      "version": "3.7.3"
    },
    "colab": {
      "name": "Capstone Project_9th Dec.ipynb",
      "provenance": [],
      "collapsed_sections": []
    }
  },
  "cells": [
    {
      "cell_type": "markdown",
      "metadata": {
        "id": "f6oi-KsRq_gU"
      },
      "source": [
        "# **Capstone Project GRP4 NLP B**"
      ]
    },
    {
      "cell_type": "markdown",
      "metadata": {
        "id": "6cX4-a6RipMH"
      },
      "source": [
        "## Installing Packages"
      ]
    },
    {
      "cell_type": "code",
      "metadata": {
        "colab": {
          "base_uri": "https://localhost:8080/"
        },
        "id": "ZpvwcjP0ZqzW",
        "outputId": "74b797b4-5df4-4776-a604-f6d965f7dbca"
      },
      "source": [
        "!pip install -U textblob\n",
        "!pip install translators\n",
        "!pip install goslate\n",
        "from goslate import Goslate\n",
        "!pip install translate\n",
        "!pip install googletrans==4.0.0-rc1\n",
        "import googletrans\n",
        "from googletrans import Translator\n",
        "!pip install langdetect\n",
        "!pip install ftfy\n",
        "!pip install rpy2\n",
        "!pip install googletrans\n",
        "!pip install -U spacy\n",
        "!pip install spacy-langdetect \n",
        "!python -m spacy validate\n",
        "!python -m spacy download xx_ent_wiki_sm"
      ],
      "execution_count": 1,
      "outputs": [
        {
          "output_type": "stream",
          "text": [
            "Requirement already up-to-date: textblob in /usr/local/lib/python3.6/dist-packages (0.15.3)\n",
            "Requirement already satisfied, skipping upgrade: nltk>=3.1 in /usr/local/lib/python3.6/dist-packages (from textblob) (3.2.5)\n",
            "Requirement already satisfied, skipping upgrade: six in /usr/local/lib/python3.6/dist-packages (from nltk>=3.1->textblob) (1.15.0)\n",
            "Requirement already satisfied: translators in /usr/local/lib/python3.6/dist-packages (4.7.11)\n",
            "Requirement already satisfied: PyExecJS>=1.5.1 in /usr/local/lib/python3.6/dist-packages (from translators) (1.5.1)\n",
            "Requirement already satisfied: lxml>=4.5.0 in /usr/local/lib/python3.6/dist-packages (from translators) (4.6.2)\n",
            "Requirement already satisfied: loguru>=0.4.1 in /usr/local/lib/python3.6/dist-packages (from translators) (0.5.3)\n",
            "Requirement already satisfied: requests>=2.23.0 in /usr/local/lib/python3.6/dist-packages (from translators) (2.23.0)\n",
            "Requirement already satisfied: six>=1.10.0 in /usr/local/lib/python3.6/dist-packages (from PyExecJS>=1.5.1->translators) (1.15.0)\n",
            "Requirement already satisfied: aiocontextvars>=0.2.0; python_version < \"3.7\" in /usr/local/lib/python3.6/dist-packages (from loguru>=0.4.1->translators) (0.2.2)\n",
            "Requirement already satisfied: idna<3,>=2.5 in /usr/local/lib/python3.6/dist-packages (from requests>=2.23.0->translators) (2.10)\n",
            "Requirement already satisfied: certifi>=2017.4.17 in /usr/local/lib/python3.6/dist-packages (from requests>=2.23.0->translators) (2020.12.5)\n",
            "Requirement already satisfied: urllib3!=1.25.0,!=1.25.1,<1.26,>=1.21.1 in /usr/local/lib/python3.6/dist-packages (from requests>=2.23.0->translators) (1.24.3)\n",
            "Requirement already satisfied: chardet<4,>=3.0.2 in /usr/local/lib/python3.6/dist-packages (from requests>=2.23.0->translators) (3.0.4)\n",
            "Requirement already satisfied: contextvars==2.4; python_version < \"3.7\" in /usr/local/lib/python3.6/dist-packages (from aiocontextvars>=0.2.0; python_version < \"3.7\"->loguru>=0.4.1->translators) (2.4)\n",
            "Requirement already satisfied: immutables>=0.9 in /usr/local/lib/python3.6/dist-packages (from contextvars==2.4; python_version < \"3.7\"->aiocontextvars>=0.2.0; python_version < \"3.7\"->loguru>=0.4.1->translators) (0.14)\n",
            "Requirement already satisfied: goslate in /usr/local/lib/python3.6/dist-packages (1.5.1)\n",
            "Requirement already satisfied: futures in /usr/local/lib/python3.6/dist-packages (from goslate) (3.1.1)\n",
            "Requirement already satisfied: translate in /usr/local/lib/python3.6/dist-packages (3.5.0)\n",
            "Requirement already satisfied: requests in /usr/local/lib/python3.6/dist-packages (from translate) (2.23.0)\n",
            "Requirement already satisfied: tox in /usr/local/lib/python3.6/dist-packages (from translate) (3.20.1)\n",
            "Requirement already satisfied: click in /usr/local/lib/python3.6/dist-packages (from translate) (7.1.2)\n",
            "Requirement already satisfied: pre-commit in /usr/local/lib/python3.6/dist-packages (from translate) (2.9.3)\n",
            "Requirement already satisfied: lxml in /usr/local/lib/python3.6/dist-packages (from translate) (4.6.2)\n",
            "Requirement already satisfied: chardet<4,>=3.0.2 in /usr/local/lib/python3.6/dist-packages (from requests->translate) (3.0.4)\n",
            "Requirement already satisfied: idna<3,>=2.5 in /usr/local/lib/python3.6/dist-packages (from requests->translate) (2.10)\n",
            "Requirement already satisfied: certifi>=2017.4.17 in /usr/local/lib/python3.6/dist-packages (from requests->translate) (2020.12.5)\n",
            "Requirement already satisfied: urllib3!=1.25.0,!=1.25.1,<1.26,>=1.21.1 in /usr/local/lib/python3.6/dist-packages (from requests->translate) (1.24.3)\n",
            "Requirement already satisfied: py>=1.4.17 in /usr/local/lib/python3.6/dist-packages (from tox->translate) (1.9.0)\n",
            "Requirement already satisfied: six>=1.14.0 in /usr/local/lib/python3.6/dist-packages (from tox->translate) (1.15.0)\n",
            "Requirement already satisfied: virtualenv!=20.0.0,!=20.0.1,!=20.0.2,!=20.0.3,!=20.0.4,!=20.0.5,!=20.0.6,!=20.0.7,>=16.0.0 in /usr/local/lib/python3.6/dist-packages (from tox->translate) (20.2.2)\n",
            "Requirement already satisfied: importlib-metadata<3,>=0.12; python_version < \"3.8\" in /usr/local/lib/python3.6/dist-packages (from tox->translate) (2.1.1)\n",
            "Requirement already satisfied: packaging>=14 in /usr/local/lib/python3.6/dist-packages (from tox->translate) (20.7)\n",
            "Requirement already satisfied: toml>=0.9.4 in /usr/local/lib/python3.6/dist-packages (from tox->translate) (0.10.2)\n",
            "Requirement already satisfied: filelock>=3.0.0 in /usr/local/lib/python3.6/dist-packages (from tox->translate) (3.0.12)\n",
            "Collecting pluggy>=0.12.0\n",
            "  Using cached https://files.pythonhosted.org/packages/a0/28/85c7aa31b80d150b772fbe4a229487bc6644da9ccb7e427dd8cc60cb8a62/pluggy-0.13.1-py2.py3-none-any.whl\n",
            "Requirement already satisfied: nodeenv>=0.11.1 in /usr/local/lib/python3.6/dist-packages (from pre-commit->translate) (1.5.0)\n",
            "Requirement already satisfied: cfgv>=2.0.0 in /usr/local/lib/python3.6/dist-packages (from pre-commit->translate) (3.2.0)\n",
            "Requirement already satisfied: identify>=1.0.0 in /usr/local/lib/python3.6/dist-packages (from pre-commit->translate) (1.5.10)\n",
            "Requirement already satisfied: importlib-resources; python_version < \"3.7\" in /usr/local/lib/python3.6/dist-packages (from pre-commit->translate) (3.3.0)\n",
            "Requirement already satisfied: pyyaml>=5.1 in /usr/local/lib/python3.6/dist-packages (from pre-commit->translate) (5.3.1)\n",
            "Requirement already satisfied: appdirs<2,>=1.4.3 in /usr/local/lib/python3.6/dist-packages (from virtualenv!=20.0.0,!=20.0.1,!=20.0.2,!=20.0.3,!=20.0.4,!=20.0.5,!=20.0.6,!=20.0.7,>=16.0.0->tox->translate) (1.4.4)\n",
            "Requirement already satisfied: distlib<1,>=0.3.1 in /usr/local/lib/python3.6/dist-packages (from virtualenv!=20.0.0,!=20.0.1,!=20.0.2,!=20.0.3,!=20.0.4,!=20.0.5,!=20.0.6,!=20.0.7,>=16.0.0->tox->translate) (0.3.1)\n",
            "Requirement already satisfied: zipp>=0.5 in /usr/local/lib/python3.6/dist-packages (from importlib-metadata<3,>=0.12; python_version < \"3.8\"->tox->translate) (3.4.0)\n",
            "Requirement already satisfied: pyparsing>=2.0.2 in /usr/local/lib/python3.6/dist-packages (from packaging>=14->tox->translate) (2.4.7)\n",
            "\u001b[31mERROR: pytest 3.6.4 has requirement pluggy<0.8,>=0.5, but you'll have pluggy 0.13.1 which is incompatible.\u001b[0m\n",
            "\u001b[31mERROR: datascience 0.10.6 has requirement folium==0.2.1, but you'll have folium 0.8.3 which is incompatible.\u001b[0m\n",
            "Installing collected packages: pluggy\n",
            "  Found existing installation: pluggy 0.7.1\n",
            "    Uninstalling pluggy-0.7.1:\n",
            "      Successfully uninstalled pluggy-0.7.1\n",
            "Successfully installed pluggy-0.13.1\n",
            "Requirement already satisfied: googletrans==4.0.0-rc1 in /usr/local/lib/python3.6/dist-packages (4.0.0rc1)\n",
            "Requirement already satisfied: httpx==0.13.3 in /usr/local/lib/python3.6/dist-packages (from googletrans==4.0.0-rc1) (0.13.3)\n",
            "Requirement already satisfied: idna==2.* in /usr/local/lib/python3.6/dist-packages (from httpx==0.13.3->googletrans==4.0.0-rc1) (2.10)\n",
            "Requirement already satisfied: chardet==3.* in /usr/local/lib/python3.6/dist-packages (from httpx==0.13.3->googletrans==4.0.0-rc1) (3.0.4)\n",
            "Requirement already satisfied: rfc3986<2,>=1.3 in /usr/local/lib/python3.6/dist-packages (from httpx==0.13.3->googletrans==4.0.0-rc1) (1.4.0)\n",
            "Requirement already satisfied: certifi in /usr/local/lib/python3.6/dist-packages (from httpx==0.13.3->googletrans==4.0.0-rc1) (2020.12.5)\n",
            "Requirement already satisfied: httpcore==0.9.* in /usr/local/lib/python3.6/dist-packages (from httpx==0.13.3->googletrans==4.0.0-rc1) (0.9.1)\n",
            "Requirement already satisfied: sniffio in /usr/local/lib/python3.6/dist-packages (from httpx==0.13.3->googletrans==4.0.0-rc1) (1.2.0)\n",
            "Requirement already satisfied: hstspreload in /usr/local/lib/python3.6/dist-packages (from httpx==0.13.3->googletrans==4.0.0-rc1) (2020.11.21)\n",
            "Requirement already satisfied: h2==3.* in /usr/local/lib/python3.6/dist-packages (from httpcore==0.9.*->httpx==0.13.3->googletrans==4.0.0-rc1) (3.2.0)\n",
            "Requirement already satisfied: h11<0.10,>=0.8 in /usr/local/lib/python3.6/dist-packages (from httpcore==0.9.*->httpx==0.13.3->googletrans==4.0.0-rc1) (0.9.0)\n",
            "Requirement already satisfied: contextvars>=2.1; python_version < \"3.7\" in /usr/local/lib/python3.6/dist-packages (from sniffio->httpx==0.13.3->googletrans==4.0.0-rc1) (2.4)\n",
            "Requirement already satisfied: hpack<4,>=3.0 in /usr/local/lib/python3.6/dist-packages (from h2==3.*->httpcore==0.9.*->httpx==0.13.3->googletrans==4.0.0-rc1) (3.0.0)\n",
            "Requirement already satisfied: hyperframe<6,>=5.2.0 in /usr/local/lib/python3.6/dist-packages (from h2==3.*->httpcore==0.9.*->httpx==0.13.3->googletrans==4.0.0-rc1) (5.2.0)\n",
            "Requirement already satisfied: immutables>=0.9 in /usr/local/lib/python3.6/dist-packages (from contextvars>=2.1; python_version < \"3.7\"->sniffio->httpx==0.13.3->googletrans==4.0.0-rc1) (0.14)\n",
            "Requirement already satisfied: langdetect in /usr/local/lib/python3.6/dist-packages (1.0.7)\n",
            "Requirement already satisfied: six in /usr/local/lib/python3.6/dist-packages (from langdetect) (1.15.0)\n",
            "Requirement already satisfied: ftfy in /usr/local/lib/python3.6/dist-packages (5.8)\n",
            "Requirement already satisfied: wcwidth in /usr/local/lib/python3.6/dist-packages (from ftfy) (0.2.5)\n",
            "Requirement already satisfied: rpy2 in /usr/local/lib/python3.6/dist-packages (3.2.7)\n",
            "Requirement already satisfied: pytest in /usr/local/lib/python3.6/dist-packages (from rpy2) (3.6.4)\n",
            "Requirement already satisfied: jinja2 in /usr/local/lib/python3.6/dist-packages (from rpy2) (2.11.2)\n",
            "Requirement already satisfied: tzlocal in /usr/local/lib/python3.6/dist-packages (from rpy2) (1.5.1)\n",
            "Requirement already satisfied: simplegeneric in /usr/local/lib/python3.6/dist-packages (from rpy2) (0.8.1)\n",
            "Requirement already satisfied: cffi>=1.13.1 in /usr/local/lib/python3.6/dist-packages (from rpy2) (1.14.4)\n",
            "Requirement already satisfied: pytz in /usr/local/lib/python3.6/dist-packages (from rpy2) (2018.9)\n",
            "Requirement already satisfied: attrs>=17.4.0 in /usr/local/lib/python3.6/dist-packages (from pytest->rpy2) (20.3.0)\n",
            "Requirement already satisfied: atomicwrites>=1.0 in /usr/local/lib/python3.6/dist-packages (from pytest->rpy2) (1.4.0)\n",
            "Requirement already satisfied: six>=1.10.0 in /usr/local/lib/python3.6/dist-packages (from pytest->rpy2) (1.15.0)\n",
            "Requirement already satisfied: py>=1.5.0 in /usr/local/lib/python3.6/dist-packages (from pytest->rpy2) (1.9.0)\n",
            "Requirement already satisfied: more-itertools>=4.0.0 in /usr/local/lib/python3.6/dist-packages (from pytest->rpy2) (8.6.0)\n",
            "Requirement already satisfied: setuptools in /usr/local/lib/python3.6/dist-packages (from pytest->rpy2) (50.3.2)\n",
            "Collecting pluggy<0.8,>=0.5\n",
            "  Using cached https://files.pythonhosted.org/packages/f5/f1/5a93c118663896d83f7bcbfb7f657ce1d0c0d617e6b4a443a53abcc658ca/pluggy-0.7.1-py2.py3-none-any.whl\n",
            "Requirement already satisfied: MarkupSafe>=0.23 in /usr/local/lib/python3.6/dist-packages (from jinja2->rpy2) (1.1.1)\n",
            "Requirement already satisfied: pycparser in /usr/local/lib/python3.6/dist-packages (from cffi>=1.13.1->rpy2) (2.20)\n",
            "\u001b[31mERROR: tox 3.20.1 has requirement pluggy>=0.12.0, but you'll have pluggy 0.7.1 which is incompatible.\u001b[0m\n",
            "\u001b[31mERROR: datascience 0.10.6 has requirement folium==0.2.1, but you'll have folium 0.8.3 which is incompatible.\u001b[0m\n",
            "Installing collected packages: pluggy\n",
            "  Found existing installation: pluggy 0.13.1\n",
            "    Uninstalling pluggy-0.13.1:\n",
            "      Successfully uninstalled pluggy-0.13.1\n",
            "Successfully installed pluggy-0.7.1\n",
            "Requirement already satisfied: googletrans in /usr/local/lib/python3.6/dist-packages (4.0.0rc1)\n",
            "Requirement already satisfied: httpx==0.13.3 in /usr/local/lib/python3.6/dist-packages (from googletrans) (0.13.3)\n",
            "Requirement already satisfied: httpcore==0.9.* in /usr/local/lib/python3.6/dist-packages (from httpx==0.13.3->googletrans) (0.9.1)\n",
            "Requirement already satisfied: certifi in /usr/local/lib/python3.6/dist-packages (from httpx==0.13.3->googletrans) (2020.12.5)\n",
            "Requirement already satisfied: chardet==3.* in /usr/local/lib/python3.6/dist-packages (from httpx==0.13.3->googletrans) (3.0.4)\n",
            "Requirement already satisfied: rfc3986<2,>=1.3 in /usr/local/lib/python3.6/dist-packages (from httpx==0.13.3->googletrans) (1.4.0)\n",
            "Requirement already satisfied: idna==2.* in /usr/local/lib/python3.6/dist-packages (from httpx==0.13.3->googletrans) (2.10)\n",
            "Requirement already satisfied: hstspreload in /usr/local/lib/python3.6/dist-packages (from httpx==0.13.3->googletrans) (2020.11.21)\n",
            "Requirement already satisfied: sniffio in /usr/local/lib/python3.6/dist-packages (from httpx==0.13.3->googletrans) (1.2.0)\n",
            "Requirement already satisfied: h2==3.* in /usr/local/lib/python3.6/dist-packages (from httpcore==0.9.*->httpx==0.13.3->googletrans) (3.2.0)\n",
            "Requirement already satisfied: h11<0.10,>=0.8 in /usr/local/lib/python3.6/dist-packages (from httpcore==0.9.*->httpx==0.13.3->googletrans) (0.9.0)\n",
            "Requirement already satisfied: contextvars>=2.1; python_version < \"3.7\" in /usr/local/lib/python3.6/dist-packages (from sniffio->httpx==0.13.3->googletrans) (2.4)\n",
            "Requirement already satisfied: hyperframe<6,>=5.2.0 in /usr/local/lib/python3.6/dist-packages (from h2==3.*->httpcore==0.9.*->httpx==0.13.3->googletrans) (5.2.0)\n",
            "Requirement already satisfied: hpack<4,>=3.0 in /usr/local/lib/python3.6/dist-packages (from h2==3.*->httpcore==0.9.*->httpx==0.13.3->googletrans) (3.0.0)\n",
            "Requirement already satisfied: immutables>=0.9 in /usr/local/lib/python3.6/dist-packages (from contextvars>=2.1; python_version < \"3.7\"->sniffio->httpx==0.13.3->googletrans) (0.14)\n",
            "Requirement already up-to-date: spacy in /usr/local/lib/python3.6/dist-packages (2.3.5)\n",
            "Requirement already satisfied, skipping upgrade: srsly<1.1.0,>=1.0.2 in /usr/local/lib/python3.6/dist-packages (from spacy) (1.0.5)\n",
            "Requirement already satisfied, skipping upgrade: thinc<7.5.0,>=7.4.1 in /usr/local/lib/python3.6/dist-packages (from spacy) (7.4.5)\n",
            "Requirement already satisfied, skipping upgrade: catalogue<1.1.0,>=0.0.7 in /usr/local/lib/python3.6/dist-packages (from spacy) (1.0.0)\n",
            "Requirement already satisfied, skipping upgrade: tqdm<5.0.0,>=4.38.0 in /usr/local/lib/python3.6/dist-packages (from spacy) (4.41.1)\n",
            "Requirement already satisfied, skipping upgrade: murmurhash<1.1.0,>=0.28.0 in /usr/local/lib/python3.6/dist-packages (from spacy) (1.0.5)\n",
            "Requirement already satisfied, skipping upgrade: blis<0.8.0,>=0.4.0 in /usr/local/lib/python3.6/dist-packages (from spacy) (0.4.1)\n",
            "Requirement already satisfied, skipping upgrade: setuptools in /usr/local/lib/python3.6/dist-packages (from spacy) (50.3.2)\n",
            "Requirement already satisfied, skipping upgrade: numpy>=1.15.0 in /usr/local/lib/python3.6/dist-packages (from spacy) (1.18.5)\n",
            "Requirement already satisfied, skipping upgrade: plac<1.2.0,>=0.9.6 in /usr/local/lib/python3.6/dist-packages (from spacy) (1.1.3)\n",
            "Requirement already satisfied, skipping upgrade: requests<3.0.0,>=2.13.0 in /usr/local/lib/python3.6/dist-packages (from spacy) (2.23.0)\n",
            "Requirement already satisfied, skipping upgrade: wasabi<1.1.0,>=0.4.0 in /usr/local/lib/python3.6/dist-packages (from spacy) (0.8.0)\n",
            "Requirement already satisfied, skipping upgrade: preshed<3.1.0,>=3.0.2 in /usr/local/lib/python3.6/dist-packages (from spacy) (3.0.5)\n",
            "Requirement already satisfied, skipping upgrade: cymem<2.1.0,>=2.0.2 in /usr/local/lib/python3.6/dist-packages (from spacy) (2.0.5)\n",
            "Requirement already satisfied, skipping upgrade: importlib-metadata>=0.20; python_version < \"3.8\" in /usr/local/lib/python3.6/dist-packages (from catalogue<1.1.0,>=0.0.7->spacy) (2.1.1)\n",
            "Requirement already satisfied, skipping upgrade: idna<3,>=2.5 in /usr/local/lib/python3.6/dist-packages (from requests<3.0.0,>=2.13.0->spacy) (2.10)\n",
            "Requirement already satisfied, skipping upgrade: certifi>=2017.4.17 in /usr/local/lib/python3.6/dist-packages (from requests<3.0.0,>=2.13.0->spacy) (2020.12.5)\n",
            "Requirement already satisfied, skipping upgrade: chardet<4,>=3.0.2 in /usr/local/lib/python3.6/dist-packages (from requests<3.0.0,>=2.13.0->spacy) (3.0.4)\n",
            "Requirement already satisfied, skipping upgrade: urllib3!=1.25.0,!=1.25.1,<1.26,>=1.21.1 in /usr/local/lib/python3.6/dist-packages (from requests<3.0.0,>=2.13.0->spacy) (1.24.3)\n",
            "Requirement already satisfied, skipping upgrade: zipp>=0.5 in /usr/local/lib/python3.6/dist-packages (from importlib-metadata>=0.20; python_version < \"3.8\"->catalogue<1.1.0,>=0.0.7->spacy) (3.4.0)\n",
            "Requirement already satisfied: spacy-langdetect in /usr/local/lib/python3.6/dist-packages (0.1.2)\n",
            "Requirement already satisfied: pytest in /usr/local/lib/python3.6/dist-packages (from spacy-langdetect) (3.6.4)\n",
            "Requirement already satisfied: langdetect==1.0.7 in /usr/local/lib/python3.6/dist-packages (from spacy-langdetect) (1.0.7)\n",
            "Requirement already satisfied: six>=1.10.0 in /usr/local/lib/python3.6/dist-packages (from pytest->spacy-langdetect) (1.15.0)\n",
            "Requirement already satisfied: pluggy<0.8,>=0.5 in /usr/local/lib/python3.6/dist-packages (from pytest->spacy-langdetect) (0.7.1)\n",
            "Requirement already satisfied: more-itertools>=4.0.0 in /usr/local/lib/python3.6/dist-packages (from pytest->spacy-langdetect) (8.6.0)\n",
            "Requirement already satisfied: attrs>=17.4.0 in /usr/local/lib/python3.6/dist-packages (from pytest->spacy-langdetect) (20.3.0)\n",
            "Requirement already satisfied: py>=1.5.0 in /usr/local/lib/python3.6/dist-packages (from pytest->spacy-langdetect) (1.9.0)\n",
            "Requirement already satisfied: atomicwrites>=1.0 in /usr/local/lib/python3.6/dist-packages (from pytest->spacy-langdetect) (1.4.0)\n",
            "Requirement already satisfied: setuptools in /usr/local/lib/python3.6/dist-packages (from pytest->spacy-langdetect) (50.3.2)\n",
            "\u001b[2K\u001b[38;5;2m✔ Loaded compatibility table\u001b[0m\n",
            "\u001b[1m\n",
            "====================== Installed models (spaCy v2.3.5) ======================\u001b[0m\n",
            "\u001b[38;5;4mℹ spaCy installation: /usr/local/lib/python3.6/dist-packages/spacy\u001b[0m\n",
            "\n",
            "TYPE      NAME             MODEL            VERSION                            \n",
            "package   xx-ent-wiki-sm   xx_ent_wiki_sm   \u001b[38;5;2m2.3.0\u001b[0m   \u001b[38;5;2m✔\u001b[0m\n",
            "package   en-core-web-sm   en_core_web_sm   \u001b[38;5;1m2.2.5\u001b[0m   --> 2.3.1     \n",
            "\n",
            "\u001b[1m\n",
            "============================== Install updates ==============================\u001b[0m\n",
            "Use the following commands to update the model packages:\n",
            "python -m spacy download en_core_web_sm\n",
            "\n",
            "Requirement already satisfied: xx_ent_wiki_sm==2.3.0 from https://github.com/explosion/spacy-models/releases/download/xx_ent_wiki_sm-2.3.0/xx_ent_wiki_sm-2.3.0.tar.gz#egg=xx_ent_wiki_sm==2.3.0 in /usr/local/lib/python3.6/dist-packages (2.3.0)\n",
            "Requirement already satisfied: spacy<2.4.0,>=2.3.0 in /usr/local/lib/python3.6/dist-packages (from xx_ent_wiki_sm==2.3.0) (2.3.5)\n",
            "Requirement already satisfied: blis<0.8.0,>=0.4.0 in /usr/local/lib/python3.6/dist-packages (from spacy<2.4.0,>=2.3.0->xx_ent_wiki_sm==2.3.0) (0.4.1)\n",
            "Requirement already satisfied: requests<3.0.0,>=2.13.0 in /usr/local/lib/python3.6/dist-packages (from spacy<2.4.0,>=2.3.0->xx_ent_wiki_sm==2.3.0) (2.23.0)\n",
            "Requirement already satisfied: plac<1.2.0,>=0.9.6 in /usr/local/lib/python3.6/dist-packages (from spacy<2.4.0,>=2.3.0->xx_ent_wiki_sm==2.3.0) (1.1.3)\n",
            "Requirement already satisfied: cymem<2.1.0,>=2.0.2 in /usr/local/lib/python3.6/dist-packages (from spacy<2.4.0,>=2.3.0->xx_ent_wiki_sm==2.3.0) (2.0.5)\n",
            "Requirement already satisfied: catalogue<1.1.0,>=0.0.7 in /usr/local/lib/python3.6/dist-packages (from spacy<2.4.0,>=2.3.0->xx_ent_wiki_sm==2.3.0) (1.0.0)\n",
            "Requirement already satisfied: wasabi<1.1.0,>=0.4.0 in /usr/local/lib/python3.6/dist-packages (from spacy<2.4.0,>=2.3.0->xx_ent_wiki_sm==2.3.0) (0.8.0)\n",
            "Requirement already satisfied: setuptools in /usr/local/lib/python3.6/dist-packages (from spacy<2.4.0,>=2.3.0->xx_ent_wiki_sm==2.3.0) (50.3.2)\n",
            "Requirement already satisfied: preshed<3.1.0,>=3.0.2 in /usr/local/lib/python3.6/dist-packages (from spacy<2.4.0,>=2.3.0->xx_ent_wiki_sm==2.3.0) (3.0.5)\n",
            "Requirement already satisfied: thinc<7.5.0,>=7.4.1 in /usr/local/lib/python3.6/dist-packages (from spacy<2.4.0,>=2.3.0->xx_ent_wiki_sm==2.3.0) (7.4.5)\n",
            "Requirement already satisfied: murmurhash<1.1.0,>=0.28.0 in /usr/local/lib/python3.6/dist-packages (from spacy<2.4.0,>=2.3.0->xx_ent_wiki_sm==2.3.0) (1.0.5)\n",
            "Requirement already satisfied: numpy>=1.15.0 in /usr/local/lib/python3.6/dist-packages (from spacy<2.4.0,>=2.3.0->xx_ent_wiki_sm==2.3.0) (1.18.5)\n",
            "Requirement already satisfied: srsly<1.1.0,>=1.0.2 in /usr/local/lib/python3.6/dist-packages (from spacy<2.4.0,>=2.3.0->xx_ent_wiki_sm==2.3.0) (1.0.5)\n",
            "Requirement already satisfied: tqdm<5.0.0,>=4.38.0 in /usr/local/lib/python3.6/dist-packages (from spacy<2.4.0,>=2.3.0->xx_ent_wiki_sm==2.3.0) (4.41.1)\n",
            "Requirement already satisfied: certifi>=2017.4.17 in /usr/local/lib/python3.6/dist-packages (from requests<3.0.0,>=2.13.0->spacy<2.4.0,>=2.3.0->xx_ent_wiki_sm==2.3.0) (2020.12.5)\n",
            "Requirement already satisfied: urllib3!=1.25.0,!=1.25.1,<1.26,>=1.21.1 in /usr/local/lib/python3.6/dist-packages (from requests<3.0.0,>=2.13.0->spacy<2.4.0,>=2.3.0->xx_ent_wiki_sm==2.3.0) (1.24.3)\n",
            "Requirement already satisfied: chardet<4,>=3.0.2 in /usr/local/lib/python3.6/dist-packages (from requests<3.0.0,>=2.13.0->spacy<2.4.0,>=2.3.0->xx_ent_wiki_sm==2.3.0) (3.0.4)\n",
            "Requirement already satisfied: idna<3,>=2.5 in /usr/local/lib/python3.6/dist-packages (from requests<3.0.0,>=2.13.0->spacy<2.4.0,>=2.3.0->xx_ent_wiki_sm==2.3.0) (2.10)\n",
            "Requirement already satisfied: importlib-metadata>=0.20; python_version < \"3.8\" in /usr/local/lib/python3.6/dist-packages (from catalogue<1.1.0,>=0.0.7->spacy<2.4.0,>=2.3.0->xx_ent_wiki_sm==2.3.0) (2.1.1)\n",
            "Requirement already satisfied: zipp>=0.5 in /usr/local/lib/python3.6/dist-packages (from importlib-metadata>=0.20; python_version < \"3.8\"->catalogue<1.1.0,>=0.0.7->spacy<2.4.0,>=2.3.0->xx_ent_wiki_sm==2.3.0) (3.4.0)\n",
            "\u001b[38;5;2m✔ Download and installation successful\u001b[0m\n",
            "You can now load the model via spacy.load('xx_ent_wiki_sm')\n"
          ],
          "name": "stdout"
        }
      ]
    },
    {
      "cell_type": "markdown",
      "metadata": {
        "id": "Nlm1nNrSiu7d"
      },
      "source": [
        "## Importing libraries"
      ]
    },
    {
      "cell_type": "code",
      "metadata": {
        "id": "OFTNmGjVq_gU",
        "colab": {
          "base_uri": "https://localhost:8080/"
        },
        "outputId": "76374793-99f7-461f-b026-8b045cd1746c"
      },
      "source": [
        "from google.colab import drive\n",
        "import gc \n",
        "\n",
        "import tensorflow as tf\n",
        "\n",
        "from tensorflow.keras.preprocessing.text import Tokenizer\n",
        "from tensorflow.keras.preprocessing.sequence import pad_sequences\n",
        "from tensorflow.keras.utils import to_categorical\n",
        "from tensorflow.keras.models import Model, Sequential\n",
        "from tensorflow.keras.layers import Embedding, Dense, Dropout, Input, Flatten, GlobalMaxPool1D, SpatialDropout1D, Conv1D,MaxPooling1D\n",
        "from tensorflow.keras.layers import GRU, RNN, LSTM, TimeDistributed, Bidirectional\n",
        "from keras.preprocessing import sequence\n",
        "from keras.callbacks import EarlyStopping\n",
        "\n",
        "from gensim.test.utils import datapath, get_tmpfile\n",
        "from gensim.models import KeyedVectors # Gensim contains word2vec models and processing tools\n",
        "from gensim.scripts.glove2word2vec import glove2word2vec\n",
        "\n",
        "from sklearn.model_selection import train_test_split\n",
        "from sklearn.metrics import confusion_matrix, classification_report\n",
        "from sklearn.preprocessing import binarize\n",
        "\n",
        "from nltk import word_tokenize\n",
        "from nltk.corpus import wordnet \n",
        "\n",
        "import os\n",
        "import nltk\n",
        "import string\n",
        "import re\n",
        "\n",
        "import spacy\n",
        "from translate import Translator\n",
        "from spacy_langdetect import LanguageDetector\n",
        "\n",
        "from collections import Counter\n",
        "from nltk.corpus import stopwords\n",
        "from translate import Translator\n",
        "from langdetect import detect\n",
        "from langdetect import detect_langs\n",
        "from langdetect import DetectorFactory\n",
        "DetectorFactory.seed = 0\n",
        "\n",
        "import random\n",
        "random.seed(0)\n",
        "import warnings\n",
        "warnings.filterwarnings(\"ignore\")\n",
        "%load_ext rpy2.ipython\n",
        "import random as rnd\n",
        "import pandas as pd\n",
        "import matplotlib.pyplot as plt\n",
        "import seaborn as sns\n",
        "import numpy as np\n",
        "from IPython.display import display\n",
        "\n",
        "from textblob import Word\n",
        "from ftfy import fix_text\n",
        "tf.__version__\n",
        "from googletrans import Translator"
      ],
      "execution_count": 141,
      "outputs": [
        {
          "output_type": "stream",
          "text": [
            "The rpy2.ipython extension is already loaded. To reload it, use:\n",
            "  %reload_ext rpy2.ipython\n"
          ],
          "name": "stdout"
        }
      ]
    },
    {
      "cell_type": "code",
      "metadata": {
        "colab": {
          "base_uri": "https://localhost:8080/",
          "height": 69
        },
        "id": "ylKIvAL81y9l",
        "outputId": "d1573336-5279-45d2-e4fe-ea08985938be"
      },
      "source": [
        "'''nlp = spacy.load(\"xx_ent_wiki_sm\")\r\n",
        "'nlp.add_pipe(LanguageDetector(), name='language_detector', last=True)\r\n",
        "\r\n",
        "def translate_spacy(para):\r\n",
        "  doc = nlp(para)\r\n",
        "  sentences = []\r\n",
        "  for sent in doc.sents:\r\n",
        "    translator = Translator(from_lang=sent._.language, to_lang='en')\r\n",
        "    sentences.append(translator.translate(sent))\r\n",
        "  return \".\".join(sentences)'''"
      ],
      "execution_count": 3,
      "outputs": [
        {
          "output_type": "execute_result",
          "data": {
            "application/vnd.google.colaboratory.intrinsic+json": {
              "type": "string"
            },
            "text/plain": [
              "'nlp = spacy.load(\"xx_ent_wiki_sm\")\\n\\'nlp.add_pipe(LanguageDetector(), name=\\'language_detector\\', last=True)\\n\\ndef translate_spacy(para):\\n  doc = nlp(para)\\n  sentences = []\\n  for sent in doc.sents:\\n    translator = Translator(from_lang=sent._.language, to_lang=\\'en\\')\\n    sentences.append(translator.translate(sent))\\n  return \".\".join(sentences)'"
            ]
          },
          "metadata": {
            "tags": []
          },
          "execution_count": 3
        }
      ]
    },
    {
      "cell_type": "markdown",
      "metadata": {
        "id": "_tJsiIAXiyhw"
      },
      "source": [
        "## Downloading NLTK data"
      ]
    },
    {
      "cell_type": "code",
      "metadata": {
        "colab": {
          "base_uri": "https://localhost:8080/"
        },
        "id": "qoWxoxmSjAVw",
        "outputId": "24cdd1fe-59f1-461e-cece-b6e23be85031"
      },
      "source": [
        "nltk.download('stopwords')\n",
        "nltk.download('wordnet')\n",
        "nltk.download('punkt')"
      ],
      "execution_count": 4,
      "outputs": [
        {
          "output_type": "stream",
          "text": [
            "[nltk_data] Downloading package stopwords to /root/nltk_data...\n",
            "[nltk_data]   Package stopwords is already up-to-date!\n",
            "[nltk_data] Downloading package wordnet to /root/nltk_data...\n",
            "[nltk_data]   Package wordnet is already up-to-date!\n",
            "[nltk_data] Downloading package punkt to /root/nltk_data...\n",
            "[nltk_data]   Package punkt is already up-to-date!\n"
          ],
          "name": "stdout"
        },
        {
          "output_type": "execute_result",
          "data": {
            "text/plain": [
              "True"
            ]
          },
          "metadata": {
            "tags": []
          },
          "execution_count": 4
        }
      ]
    },
    {
      "cell_type": "code",
      "metadata": {
        "colab": {
          "base_uri": "https://localhost:8080/"
        },
        "id": "fLmvaGJkdEyw",
        "outputId": "40230f7e-ebb5-4139-9559-3c10aaee8a79"
      },
      "source": [
        "from google.colab import drive\n",
        "drive.mount('/content/drive')"
      ],
      "execution_count": 5,
      "outputs": [
        {
          "output_type": "stream",
          "text": [
            "Drive already mounted at /content/drive; to attempt to forcibly remount, call drive.mount(\"/content/drive\", force_remount=True).\n"
          ],
          "name": "stdout"
        }
      ]
    },
    {
      "cell_type": "markdown",
      "metadata": {
        "id": "8VaziMJji2D7"
      },
      "source": [
        "## Mount your Google Drive"
      ]
    },
    {
      "cell_type": "code",
      "metadata": {
        "colab": {
          "base_uri": "https://localhost:8080/"
        },
        "id": "7hQKJKTBrRli",
        "outputId": "d2e821a9-8f10-4651-8411-92ef73b707d3"
      },
      "source": [
        "#### mounting google drive ####\n",
        "drive.mount(\"/content/drive/\")\n",
        "folder_path = (\"/content/drive/MyDrive/Capstone Project - Ticket Routing NLP\") "
      ],
      "execution_count": 6,
      "outputs": [
        {
          "output_type": "stream",
          "text": [
            "Drive already mounted at /content/drive/; to attempt to forcibly remount, call drive.mount(\"/content/drive/\", force_remount=True).\n"
          ],
          "name": "stdout"
        }
      ]
    },
    {
      "cell_type": "markdown",
      "metadata": {
        "id": "DP8ALe3ri6sP"
      },
      "source": [
        "## Loading data and creating a pickle function"
      ]
    },
    {
      "cell_type": "code",
      "metadata": {
        "id": "CtKETyHxq_gW",
        "colab": {
          "base_uri": "https://localhost:8080/"
        },
        "outputId": "2c6e013c-c8ff-4026-d5d2-03d673173d5f"
      },
      "source": [
        "ticket_data = \"\"\n",
        "import pickle\n",
        "pickle_flag = False\n",
        "\n",
        "## Get Pickle Data\n",
        "def get_pickle_data(filename):\n",
        "  pickle_data = open(folder_path + \"/\" + filename,'rb')\n",
        "  return pickle.load(pickle_data)\n",
        "\n",
        "## Dump Pickle Data\n",
        "def pickle_dump(data_to_dump, filename):\n",
        "  filehandler = open((folder_path+ \"/\" + filename),\"wb\")\n",
        "  pickle.dump(data_to_dump,filehandler)\n",
        "\n",
        "if not os.path.exists(folder_path + \"/input_data.pickle\"):\n",
        "  ticket_data = pd.read_excel(folder_path + \"/input_data.xlsx\")\n",
        "  print(\"picking from excel\")\n",
        "else:\n",
        "  ticket_data = get_pickle_data(\"input_data.pickle\")\n",
        "  print(\"picking from pickle\")\n",
        "  print(len(ticket_data))\n",
        "\n",
        "pickle_dump(ticket_data, \"input_data.pickle\")"
      ],
      "execution_count": 7,
      "outputs": [
        {
          "output_type": "stream",
          "text": [
            "picking from pickle\n",
            "8500\n"
          ],
          "name": "stdout"
        }
      ]
    },
    {
      "cell_type": "markdown",
      "metadata": {
        "id": "3e_YqAw4jISk"
      },
      "source": [
        "## Data Analysis Begins"
      ]
    },
    {
      "cell_type": "code",
      "metadata": {
        "colab": {
          "base_uri": "https://localhost:8080/"
        },
        "id": "EsoD9CbFNAvV",
        "outputId": "1f905e28-ba54-49ae-c6c1-6998e96b0319"
      },
      "source": [
        "ticket_data.info()"
      ],
      "execution_count": 8,
      "outputs": [
        {
          "output_type": "stream",
          "text": [
            "<class 'pandas.core.frame.DataFrame'>\n",
            "RangeIndex: 8500 entries, 0 to 8499\n",
            "Data columns (total 4 columns):\n",
            " #   Column             Non-Null Count  Dtype \n",
            "---  ------             --------------  ----- \n",
            " 0   Short description  8492 non-null   object\n",
            " 1   Description        8499 non-null   object\n",
            " 2   Caller             8500 non-null   object\n",
            " 3   Assignment group   8500 non-null   object\n",
            "dtypes: object(4)\n",
            "memory usage: 265.8+ KB\n"
          ],
          "name": "stdout"
        }
      ]
    },
    {
      "cell_type": "code",
      "metadata": {
        "colab": {
          "base_uri": "https://localhost:8080/",
          "height": 204
        },
        "id": "WW4oJJbVq_gW",
        "outputId": "c66fdd30-fa15-4244-a614-55e3292fa896"
      },
      "source": [
        "ticket_data.head()"
      ],
      "execution_count": 9,
      "outputs": [
        {
          "output_type": "execute_result",
          "data": {
            "text/html": [
              "<div>\n",
              "<style scoped>\n",
              "    .dataframe tbody tr th:only-of-type {\n",
              "        vertical-align: middle;\n",
              "    }\n",
              "\n",
              "    .dataframe tbody tr th {\n",
              "        vertical-align: top;\n",
              "    }\n",
              "\n",
              "    .dataframe thead th {\n",
              "        text-align: right;\n",
              "    }\n",
              "</style>\n",
              "<table border=\"1\" class=\"dataframe\">\n",
              "  <thead>\n",
              "    <tr style=\"text-align: right;\">\n",
              "      <th></th>\n",
              "      <th>Short description</th>\n",
              "      <th>Description</th>\n",
              "      <th>Caller</th>\n",
              "      <th>Assignment group</th>\n",
              "    </tr>\n",
              "  </thead>\n",
              "  <tbody>\n",
              "    <tr>\n",
              "      <th>0</th>\n",
              "      <td>login issue</td>\n",
              "      <td>-verified user details.(employee# &amp; manager na...</td>\n",
              "      <td>spxjnwir pjlcoqds</td>\n",
              "      <td>GRP_0</td>\n",
              "    </tr>\n",
              "    <tr>\n",
              "      <th>1</th>\n",
              "      <td>outlook</td>\n",
              "      <td>\\r\\n\\r\\nreceived from: hmjdrvpb.komuaywn@gmail...</td>\n",
              "      <td>hmjdrvpb komuaywn</td>\n",
              "      <td>GRP_0</td>\n",
              "    </tr>\n",
              "    <tr>\n",
              "      <th>2</th>\n",
              "      <td>cant log in to vpn</td>\n",
              "      <td>\\r\\n\\r\\nreceived from: eylqgodm.ybqkwiam@gmail...</td>\n",
              "      <td>eylqgodm ybqkwiam</td>\n",
              "      <td>GRP_0</td>\n",
              "    </tr>\n",
              "    <tr>\n",
              "      <th>3</th>\n",
              "      <td>unable to access hr_tool page</td>\n",
              "      <td>unable to access hr_tool page</td>\n",
              "      <td>xbkucsvz gcpydteq</td>\n",
              "      <td>GRP_0</td>\n",
              "    </tr>\n",
              "    <tr>\n",
              "      <th>4</th>\n",
              "      <td>skype error</td>\n",
              "      <td>skype error</td>\n",
              "      <td>owlgqjme qhcozdfx</td>\n",
              "      <td>GRP_0</td>\n",
              "    </tr>\n",
              "  </tbody>\n",
              "</table>\n",
              "</div>"
            ],
            "text/plain": [
              "               Short description  ... Assignment group\n",
              "0                    login issue  ...            GRP_0\n",
              "1                        outlook  ...            GRP_0\n",
              "2             cant log in to vpn  ...            GRP_0\n",
              "3  unable to access hr_tool page  ...            GRP_0\n",
              "4                   skype error   ...            GRP_0\n",
              "\n",
              "[5 rows x 4 columns]"
            ]
          },
          "metadata": {
            "tags": []
          },
          "execution_count": 9
        }
      ]
    },
    {
      "cell_type": "code",
      "metadata": {
        "colab": {
          "base_uri": "https://localhost:8080/"
        },
        "id": "nbaDXIl2ob3L",
        "outputId": "c7917ede-ebd7-4753-df3f-cf530bda9926"
      },
      "source": [
        "unique_callers = ticket_data['Caller'].unique()\n",
        "unique_callers.shape"
      ],
      "execution_count": 10,
      "outputs": [
        {
          "output_type": "execute_result",
          "data": {
            "text/plain": [
              "(2950,)"
            ]
          },
          "metadata": {
            "tags": []
          },
          "execution_count": 10
        }
      ]
    },
    {
      "cell_type": "code",
      "metadata": {
        "colab": {
          "base_uri": "https://localhost:8080/"
        },
        "id": "xtbjKO-6odK4",
        "outputId": "b523cc9b-f78c-471e-fde1-028226a9aaff"
      },
      "source": [
        "Func_group = ticket_data['Assignment group'].unique()\n",
        "Func_group.shape"
      ],
      "execution_count": 11,
      "outputs": [
        {
          "output_type": "execute_result",
          "data": {
            "text/plain": [
              "(74,)"
            ]
          },
          "metadata": {
            "tags": []
          },
          "execution_count": 11
        }
      ]
    },
    {
      "cell_type": "code",
      "metadata": {
        "colab": {
          "base_uri": "https://localhost:8080/"
        },
        "id": "MpnNzVVTogt-",
        "outputId": "8073aef8-7bc3-414d-c7f2-35b6b2ae8e58"
      },
      "source": [
        "TargetGroupCnt=ticket_data['Assignment group'].value_counts()\n",
        "TargetGroupCnt.describe()"
      ],
      "execution_count": 12,
      "outputs": [
        {
          "output_type": "execute_result",
          "data": {
            "text/plain": [
              "count      74.000000\n",
              "mean      114.864865\n",
              "std       465.747516\n",
              "min         1.000000\n",
              "25%         5.250000\n",
              "50%        26.000000\n",
              "75%        84.000000\n",
              "max      3976.000000\n",
              "Name: Assignment group, dtype: float64"
            ]
          },
          "metadata": {
            "tags": []
          },
          "execution_count": 12
        }
      ]
    },
    {
      "cell_type": "code",
      "metadata": {
        "colab": {
          "base_uri": "https://localhost:8080/"
        },
        "id": "T97JvIZmoji9",
        "outputId": "69808b8e-29cc-4e8e-d62b-f3f77735e45a"
      },
      "source": [
        "ticket_data.Caller.value_counts()"
      ],
      "execution_count": 13,
      "outputs": [
        {
          "output_type": "execute_result",
          "data": {
            "text/plain": [
              "bpctwhsn kzqsbmtp    810\n",
              "ZkBogxib QsEJzdZO    151\n",
              "fumkcsji sarmtlhy    134\n",
              "rbozivdq gmlhrtvp     87\n",
              "rkupnshb gsmzfojw     71\n",
              "                    ... \n",
              "dwflzqyn uinpgbym      1\n",
              "yfqoaepn xnezhsit      1\n",
              "eahkpnbm uptiveok      1\n",
              "gimkwnvs wpjmocut      1\n",
              "cdbaoqts wqbsodni      1\n",
              "Name: Caller, Length: 2950, dtype: int64"
            ]
          },
          "metadata": {
            "tags": []
          },
          "execution_count": 13
        }
      ]
    },
    {
      "cell_type": "code",
      "metadata": {
        "colab": {
          "base_uri": "https://localhost:8080/",
          "height": 405
        },
        "id": "-S2pu-RXomXF",
        "outputId": "4ac956ed-d985-4711-d56d-cdbc1825ca3a"
      },
      "source": [
        "plt.figure(figsize=(10,6))\r\n",
        "sns.distplot(ticket_data['Assignment group'].value_counts())"
      ],
      "execution_count": 14,
      "outputs": [
        {
          "output_type": "execute_result",
          "data": {
            "text/plain": [
              "<matplotlib.axes._subplots.AxesSubplot at 0x7f9aed6e45f8>"
            ]
          },
          "metadata": {
            "tags": []
          },
          "execution_count": 14
        },
        {
          "output_type": "display_data",
          "data": {
            "image/png": "[encoded data removed]",
            "text/plain": [
              "<Figure size 720x432 with 1 Axes>"
            ]
          },
          "metadata": {
            "tags": [],
            "needs_background": "light"
          }
        }
      ]
    },
    {
      "cell_type": "code",
      "metadata": {
        "colab": {
          "base_uri": "https://localhost:8080/",
          "height": 405
        },
        "id": "lmK8Hve7opzJ",
        "outputId": "3575cd84-8410-410d-936d-37a75ef20fbc"
      },
      "source": [
        "plt.figure(figsize=(10,6))\r\n",
        "sns.distplot(ticket_data['Caller'].value_counts())"
      ],
      "execution_count": 15,
      "outputs": [
        {
          "output_type": "execute_result",
          "data": {
            "text/plain": [
              "<matplotlib.axes._subplots.AxesSubplot at 0x7f9aed64f160>"
            ]
          },
          "metadata": {
            "tags": []
          },
          "execution_count": 15
        },
        {
          "output_type": "display_data",
          "data": {
            "image/png": "[encoded data removed]",
            "text/plain": [
              "<Figure size 720x432 with 1 Axes>"
            ]
          },
          "metadata": {
            "tags": [],
            "needs_background": "light"
          }
        }
      ]
    },
    {
      "cell_type": "code",
      "metadata": {
        "colab": {
          "base_uri": "https://localhost:8080/",
          "height": 405
        },
        "id": "XGoDC6HMosLQ",
        "outputId": "7c05143c-2576-43a2-9787-133b8c83931c"
      },
      "source": [
        "plt.figure(figsize=(10,6))\r\n",
        "sns.boxplot(ticket_data['Assignment group'].value_counts())"
      ],
      "execution_count": 16,
      "outputs": [
        {
          "output_type": "execute_result",
          "data": {
            "text/plain": [
              "<matplotlib.axes._subplots.AxesSubplot at 0x7f9aec5e7ef0>"
            ]
          },
          "metadata": {
            "tags": []
          },
          "execution_count": 16
        },
        {
          "output_type": "display_data",
          "data": {
            "image/png": "[encoded data removed]",
            "text/plain": [
              "<Figure size 720x432 with 1 Axes>"
            ]
          },
          "metadata": {
            "tags": [],
            "needs_background": "light"
          }
        }
      ]
    },
    {
      "cell_type": "code",
      "metadata": {
        "colab": {
          "base_uri": "https://localhost:8080/",
          "height": 894
        },
        "id": "14SezMT4otzJ",
        "outputId": "95a6e7b1-df88-486a-c420-4c99ccdfc8ec"
      },
      "source": [
        "plt.figure(figsize=(20,15))\r\n",
        "sns.countplot(y=\"Assignment group\", data=ticket_data, order=ticket_data['Assignment group'].value_counts().index )"
      ],
      "execution_count": 17,
      "outputs": [
        {
          "output_type": "execute_result",
          "data": {
            "text/plain": [
              "<matplotlib.axes._subplots.AxesSubplot at 0x7f9aec5e7358>"
            ]
          },
          "metadata": {
            "tags": []
          },
          "execution_count": 17
        },
        {
          "output_type": "display_data",
          "data": {
            "image/png": "[encoded data removed]",
            "text/plain": [
              "<Figure size 1440x1080 with 1 Axes>"
            ]
          },
          "metadata": {
            "tags": [],
            "needs_background": "light"
          }
        }
      ]
    },
    {
      "cell_type": "code",
      "metadata": {
        "colab": {
          "base_uri": "https://localhost:8080/",
          "height": 295
        },
        "id": "1CHidQR8owsE",
        "outputId": "0b78eeeb-4692-4a59-9499-1ba67bd48d43"
      },
      "source": [
        "plt.style.use('ggplot')\n",
        "%matplotlib inline\n",
        "\n",
        "descending_order = ticket_data['Assignment group'].value_counts().sort_values(ascending=False).index\n",
        "plt.subplots(figsize=(22,5))\n",
        "#added code for x label rotate \n",
        "ax=sns.countplot(x='Assignment group', data=ticket_data, color='royalblue',order=descending_order)\n",
        "ax.set_xticklabels(ax.get_xticklabels(), rotation=45, ha=\"right\")\n",
        "plt.tight_layout()\n",
        "plt.show()"
      ],
      "execution_count": 18,
      "outputs": [
        {
          "output_type": "display_data",
          "data": {
            "image/png": "[encoded data removed]",
            "text/plain": [
              "<Figure size 1584x360 with 1 Axes>"
            ]
          },
          "metadata": {
            "tags": [],
            "needs_background": "light"
          }
        }
      ]
    },
    {
      "cell_type": "code",
      "metadata": {
        "colab": {
          "base_uri": "https://localhost:8080/"
        },
        "id": "SIlX4Xu9o3FM",
        "outputId": "dfbbfab3-9eae-4734-f6ec-2a6ad4d1ba4d"
      },
      "source": [
        "ticket_data.isnull().values.any()"
      ],
      "execution_count": 19,
      "outputs": [
        {
          "output_type": "execute_result",
          "data": {
            "text/plain": [
              "True"
            ]
          },
          "metadata": {
            "tags": []
          },
          "execution_count": 19
        }
      ]
    },
    {
      "cell_type": "code",
      "metadata": {
        "colab": {
          "base_uri": "https://localhost:8080/",
          "height": 367
        },
        "id": "05F6GdQxo5CD",
        "outputId": "2c0f0a65-57c8-41e1-8325-0fe43c07ffa8"
      },
      "source": [
        "sns.heatmap(ticket_data.isnull(), yticklabels=False, cmap=\"Wistia\")"
      ],
      "execution_count": 20,
      "outputs": [
        {
          "output_type": "execute_result",
          "data": {
            "text/plain": [
              "<matplotlib.axes._subplots.AxesSubplot at 0x7f9aec360e80>"
            ]
          },
          "metadata": {
            "tags": []
          },
          "execution_count": 20
        },
        {
          "output_type": "display_data",
          "data": {
            "image/png": "[encoded data removed]",
            "text/plain": [
              "<Figure size 432x288 with 2 Axes>"
            ]
          },
          "metadata": {
            "tags": [],
            "needs_background": "light"
          }
        }
      ]
    },
    {
      "cell_type": "code",
      "metadata": {
        "colab": {
          "base_uri": "https://localhost:8080/"
        },
        "id": "cnsE0yU_o9Am",
        "outputId": "e9217bad-1942-4e42-a03f-bb10055a062c"
      },
      "source": [
        "ticket_data['Description'].fillna(value=' ', inplace=True)\n",
        "ticket_data['Short description'].fillna(value=' ', inplace=True)\n",
        "ticket_data.isnull().values.any()"
      ],
      "execution_count": 21,
      "outputs": [
        {
          "output_type": "execute_result",
          "data": {
            "text/plain": [
              "False"
            ]
          },
          "metadata": {
            "tags": []
          },
          "execution_count": 21
        }
      ]
    },
    {
      "cell_type": "markdown",
      "metadata": {
        "id": "H2DaUppJq_gW"
      },
      "source": [
        "## TODO: Somewhere in the initial EDA, We must remove the records where both Short desc and Desc are blank. While there is no such record in the data, we should still have this"
      ]
    },
    {
      "cell_type": "code",
      "metadata": {
        "colab": {
          "base_uri": "https://localhost:8080/",
          "height": 196
        },
        "id": "CKmCCbhOq_gW",
        "outputId": "744cb7ec-8247-4956-a839-d4ef50bb723c"
      },
      "source": [
        "summary_data=ticket_data.pivot_table(columns = \"Assignment group\",aggfunc='count')\n",
        "summary_data"
      ],
      "execution_count": 22,
      "outputs": [
        {
          "output_type": "execute_result",
          "data": {
            "text/html": [
              "<div>\n",
              "<style scoped>\n",
              "    .dataframe tbody tr th:only-of-type {\n",
              "        vertical-align: middle;\n",
              "    }\n",
              "\n",
              "    .dataframe tbody tr th {\n",
              "        vertical-align: top;\n",
              "    }\n",
              "\n",
              "    .dataframe thead th {\n",
              "        text-align: right;\n",
              "    }\n",
              "</style>\n",
              "<table border=\"1\" class=\"dataframe\">\n",
              "  <thead>\n",
              "    <tr style=\"text-align: right;\">\n",
              "      <th>Assignment group</th>\n",
              "      <th>GRP_0</th>\n",
              "      <th>GRP_1</th>\n",
              "      <th>GRP_10</th>\n",
              "      <th>GRP_11</th>\n",
              "      <th>GRP_12</th>\n",
              "      <th>GRP_13</th>\n",
              "      <th>GRP_14</th>\n",
              "      <th>GRP_15</th>\n",
              "      <th>GRP_16</th>\n",
              "      <th>GRP_17</th>\n",
              "      <th>GRP_18</th>\n",
              "      <th>GRP_19</th>\n",
              "      <th>GRP_2</th>\n",
              "      <th>GRP_20</th>\n",
              "      <th>GRP_21</th>\n",
              "      <th>GRP_22</th>\n",
              "      <th>GRP_23</th>\n",
              "      <th>GRP_24</th>\n",
              "      <th>GRP_25</th>\n",
              "      <th>GRP_26</th>\n",
              "      <th>GRP_27</th>\n",
              "      <th>GRP_28</th>\n",
              "      <th>GRP_29</th>\n",
              "      <th>GRP_3</th>\n",
              "      <th>GRP_30</th>\n",
              "      <th>GRP_31</th>\n",
              "      <th>GRP_32</th>\n",
              "      <th>GRP_33</th>\n",
              "      <th>GRP_34</th>\n",
              "      <th>GRP_35</th>\n",
              "      <th>GRP_36</th>\n",
              "      <th>GRP_37</th>\n",
              "      <th>GRP_38</th>\n",
              "      <th>GRP_39</th>\n",
              "      <th>GRP_4</th>\n",
              "      <th>GRP_40</th>\n",
              "      <th>GRP_41</th>\n",
              "      <th>GRP_42</th>\n",
              "      <th>GRP_43</th>\n",
              "      <th>GRP_44</th>\n",
              "      <th>GRP_45</th>\n",
              "      <th>GRP_46</th>\n",
              "      <th>GRP_47</th>\n",
              "      <th>GRP_48</th>\n",
              "      <th>GRP_49</th>\n",
              "      <th>GRP_5</th>\n",
              "      <th>GRP_50</th>\n",
              "      <th>GRP_51</th>\n",
              "      <th>GRP_52</th>\n",
              "      <th>GRP_53</th>\n",
              "      <th>GRP_54</th>\n",
              "      <th>GRP_55</th>\n",
              "      <th>GRP_56</th>\n",
              "      <th>GRP_57</th>\n",
              "      <th>GRP_58</th>\n",
              "      <th>GRP_59</th>\n",
              "      <th>GRP_6</th>\n",
              "      <th>GRP_60</th>\n",
              "      <th>GRP_61</th>\n",
              "      <th>GRP_62</th>\n",
              "      <th>GRP_63</th>\n",
              "      <th>GRP_64</th>\n",
              "      <th>GRP_65</th>\n",
              "      <th>GRP_66</th>\n",
              "      <th>GRP_67</th>\n",
              "      <th>GRP_68</th>\n",
              "      <th>GRP_69</th>\n",
              "      <th>GRP_7</th>\n",
              "      <th>GRP_70</th>\n",
              "      <th>GRP_71</th>\n",
              "      <th>GRP_72</th>\n",
              "      <th>GRP_73</th>\n",
              "      <th>GRP_8</th>\n",
              "      <th>GRP_9</th>\n",
              "    </tr>\n",
              "  </thead>\n",
              "  <tbody>\n",
              "    <tr>\n",
              "      <th>Caller</th>\n",
              "      <td>3976</td>\n",
              "      <td>31</td>\n",
              "      <td>140</td>\n",
              "      <td>30</td>\n",
              "      <td>257</td>\n",
              "      <td>145</td>\n",
              "      <td>118</td>\n",
              "      <td>39</td>\n",
              "      <td>85</td>\n",
              "      <td>81</td>\n",
              "      <td>88</td>\n",
              "      <td>215</td>\n",
              "      <td>241</td>\n",
              "      <td>36</td>\n",
              "      <td>29</td>\n",
              "      <td>31</td>\n",
              "      <td>25</td>\n",
              "      <td>289</td>\n",
              "      <td>116</td>\n",
              "      <td>56</td>\n",
              "      <td>18</td>\n",
              "      <td>44</td>\n",
              "      <td>97</td>\n",
              "      <td>200</td>\n",
              "      <td>39</td>\n",
              "      <td>69</td>\n",
              "      <td>4</td>\n",
              "      <td>107</td>\n",
              "      <td>62</td>\n",
              "      <td>1</td>\n",
              "      <td>15</td>\n",
              "      <td>16</td>\n",
              "      <td>3</td>\n",
              "      <td>19</td>\n",
              "      <td>100</td>\n",
              "      <td>45</td>\n",
              "      <td>40</td>\n",
              "      <td>37</td>\n",
              "      <td>5</td>\n",
              "      <td>15</td>\n",
              "      <td>35</td>\n",
              "      <td>6</td>\n",
              "      <td>27</td>\n",
              "      <td>25</td>\n",
              "      <td>6</td>\n",
              "      <td>129</td>\n",
              "      <td>14</td>\n",
              "      <td>8</td>\n",
              "      <td>9</td>\n",
              "      <td>11</td>\n",
              "      <td>2</td>\n",
              "      <td>8</td>\n",
              "      <td>3</td>\n",
              "      <td>2</td>\n",
              "      <td>3</td>\n",
              "      <td>6</td>\n",
              "      <td>184</td>\n",
              "      <td>20</td>\n",
              "      <td>1</td>\n",
              "      <td>25</td>\n",
              "      <td>3</td>\n",
              "      <td>1</td>\n",
              "      <td>11</td>\n",
              "      <td>4</td>\n",
              "      <td>1</td>\n",
              "      <td>3</td>\n",
              "      <td>2</td>\n",
              "      <td>68</td>\n",
              "      <td>1</td>\n",
              "      <td>2</td>\n",
              "      <td>2</td>\n",
              "      <td>1</td>\n",
              "      <td>661</td>\n",
              "      <td>252</td>\n",
              "    </tr>\n",
              "    <tr>\n",
              "      <th>Description</th>\n",
              "      <td>3976</td>\n",
              "      <td>31</td>\n",
              "      <td>140</td>\n",
              "      <td>30</td>\n",
              "      <td>257</td>\n",
              "      <td>145</td>\n",
              "      <td>118</td>\n",
              "      <td>39</td>\n",
              "      <td>85</td>\n",
              "      <td>81</td>\n",
              "      <td>88</td>\n",
              "      <td>215</td>\n",
              "      <td>241</td>\n",
              "      <td>36</td>\n",
              "      <td>29</td>\n",
              "      <td>31</td>\n",
              "      <td>25</td>\n",
              "      <td>289</td>\n",
              "      <td>116</td>\n",
              "      <td>56</td>\n",
              "      <td>18</td>\n",
              "      <td>44</td>\n",
              "      <td>97</td>\n",
              "      <td>200</td>\n",
              "      <td>39</td>\n",
              "      <td>69</td>\n",
              "      <td>4</td>\n",
              "      <td>107</td>\n",
              "      <td>62</td>\n",
              "      <td>1</td>\n",
              "      <td>15</td>\n",
              "      <td>16</td>\n",
              "      <td>3</td>\n",
              "      <td>19</td>\n",
              "      <td>100</td>\n",
              "      <td>45</td>\n",
              "      <td>40</td>\n",
              "      <td>37</td>\n",
              "      <td>5</td>\n",
              "      <td>15</td>\n",
              "      <td>35</td>\n",
              "      <td>6</td>\n",
              "      <td>27</td>\n",
              "      <td>25</td>\n",
              "      <td>6</td>\n",
              "      <td>129</td>\n",
              "      <td>14</td>\n",
              "      <td>8</td>\n",
              "      <td>9</td>\n",
              "      <td>11</td>\n",
              "      <td>2</td>\n",
              "      <td>8</td>\n",
              "      <td>3</td>\n",
              "      <td>2</td>\n",
              "      <td>3</td>\n",
              "      <td>6</td>\n",
              "      <td>184</td>\n",
              "      <td>20</td>\n",
              "      <td>1</td>\n",
              "      <td>25</td>\n",
              "      <td>3</td>\n",
              "      <td>1</td>\n",
              "      <td>11</td>\n",
              "      <td>4</td>\n",
              "      <td>1</td>\n",
              "      <td>3</td>\n",
              "      <td>2</td>\n",
              "      <td>68</td>\n",
              "      <td>1</td>\n",
              "      <td>2</td>\n",
              "      <td>2</td>\n",
              "      <td>1</td>\n",
              "      <td>661</td>\n",
              "      <td>252</td>\n",
              "    </tr>\n",
              "    <tr>\n",
              "      <th>Short description</th>\n",
              "      <td>3976</td>\n",
              "      <td>31</td>\n",
              "      <td>140</td>\n",
              "      <td>30</td>\n",
              "      <td>257</td>\n",
              "      <td>145</td>\n",
              "      <td>118</td>\n",
              "      <td>39</td>\n",
              "      <td>85</td>\n",
              "      <td>81</td>\n",
              "      <td>88</td>\n",
              "      <td>215</td>\n",
              "      <td>241</td>\n",
              "      <td>36</td>\n",
              "      <td>29</td>\n",
              "      <td>31</td>\n",
              "      <td>25</td>\n",
              "      <td>289</td>\n",
              "      <td>116</td>\n",
              "      <td>56</td>\n",
              "      <td>18</td>\n",
              "      <td>44</td>\n",
              "      <td>97</td>\n",
              "      <td>200</td>\n",
              "      <td>39</td>\n",
              "      <td>69</td>\n",
              "      <td>4</td>\n",
              "      <td>107</td>\n",
              "      <td>62</td>\n",
              "      <td>1</td>\n",
              "      <td>15</td>\n",
              "      <td>16</td>\n",
              "      <td>3</td>\n",
              "      <td>19</td>\n",
              "      <td>100</td>\n",
              "      <td>45</td>\n",
              "      <td>40</td>\n",
              "      <td>37</td>\n",
              "      <td>5</td>\n",
              "      <td>15</td>\n",
              "      <td>35</td>\n",
              "      <td>6</td>\n",
              "      <td>27</td>\n",
              "      <td>25</td>\n",
              "      <td>6</td>\n",
              "      <td>129</td>\n",
              "      <td>14</td>\n",
              "      <td>8</td>\n",
              "      <td>9</td>\n",
              "      <td>11</td>\n",
              "      <td>2</td>\n",
              "      <td>8</td>\n",
              "      <td>3</td>\n",
              "      <td>2</td>\n",
              "      <td>3</td>\n",
              "      <td>6</td>\n",
              "      <td>184</td>\n",
              "      <td>20</td>\n",
              "      <td>1</td>\n",
              "      <td>25</td>\n",
              "      <td>3</td>\n",
              "      <td>1</td>\n",
              "      <td>11</td>\n",
              "      <td>4</td>\n",
              "      <td>1</td>\n",
              "      <td>3</td>\n",
              "      <td>2</td>\n",
              "      <td>68</td>\n",
              "      <td>1</td>\n",
              "      <td>2</td>\n",
              "      <td>2</td>\n",
              "      <td>1</td>\n",
              "      <td>661</td>\n",
              "      <td>252</td>\n",
              "    </tr>\n",
              "  </tbody>\n",
              "</table>\n",
              "</div>"
            ],
            "text/plain": [
              "Assignment group   GRP_0  GRP_1  GRP_10  GRP_11  ...  GRP_72  GRP_73  GRP_8  GRP_9\n",
              "Caller              3976     31     140      30  ...       2       1    661    252\n",
              "Description         3976     31     140      30  ...       2       1    661    252\n",
              "Short description   3976     31     140      30  ...       2       1    661    252\n",
              "\n",
              "[3 rows x 74 columns]"
            ]
          },
          "metadata": {
            "tags": []
          },
          "execution_count": 22
        }
      ]
    },
    {
      "cell_type": "code",
      "metadata": {
        "colab": {
          "base_uri": "https://localhost:8080/"
        },
        "id": "G85yq5Gyq_gW",
        "outputId": "ba92bfad-49c0-498f-f49a-f9fad05ca842"
      },
      "source": [
        "ticket_data['Assignment group'].unique()"
      ],
      "execution_count": 23,
      "outputs": [
        {
          "output_type": "execute_result",
          "data": {
            "text/plain": [
              "array(['GRP_0', 'GRP_1', 'GRP_3', 'GRP_4', 'GRP_5', 'GRP_6', 'GRP_7',\n",
              "       'GRP_8', 'GRP_9', 'GRP_10', 'GRP_11', 'GRP_12', 'GRP_13', 'GRP_14',\n",
              "       'GRP_15', 'GRP_16', 'GRP_17', 'GRP_18', 'GRP_19', 'GRP_2',\n",
              "       'GRP_20', 'GRP_21', 'GRP_22', 'GRP_23', 'GRP_24', 'GRP_25',\n",
              "       'GRP_26', 'GRP_27', 'GRP_28', 'GRP_29', 'GRP_30', 'GRP_31',\n",
              "       'GRP_33', 'GRP_34', 'GRP_35', 'GRP_36', 'GRP_37', 'GRP_38',\n",
              "       'GRP_39', 'GRP_40', 'GRP_41', 'GRP_42', 'GRP_43', 'GRP_44',\n",
              "       'GRP_45', 'GRP_46', 'GRP_47', 'GRP_48', 'GRP_49', 'GRP_50',\n",
              "       'GRP_51', 'GRP_52', 'GRP_53', 'GRP_54', 'GRP_55', 'GRP_56',\n",
              "       'GRP_57', 'GRP_58', 'GRP_59', 'GRP_60', 'GRP_61', 'GRP_32',\n",
              "       'GRP_62', 'GRP_63', 'GRP_64', 'GRP_65', 'GRP_66', 'GRP_67',\n",
              "       'GRP_68', 'GRP_69', 'GRP_70', 'GRP_71', 'GRP_72', 'GRP_73'],\n",
              "      dtype=object)"
            ]
          },
          "metadata": {
            "tags": []
          },
          "execution_count": 23
        }
      ]
    },
    {
      "cell_type": "code",
      "metadata": {
        "colab": {
          "base_uri": "https://localhost:8080/"
        },
        "id": "y8a25a1vNNb1",
        "outputId": "ea4dbc04-b6c2-4c7e-ece6-0a6d4e6153dd"
      },
      "source": [
        "len(ticket_data['Assignment group'].unique())"
      ],
      "execution_count": 24,
      "outputs": [
        {
          "output_type": "execute_result",
          "data": {
            "text/plain": [
              "74"
            ]
          },
          "metadata": {
            "tags": []
          },
          "execution_count": 24
        }
      ]
    },
    {
      "cell_type": "code",
      "metadata": {
        "colab": {
          "base_uri": "https://localhost:8080/",
          "height": 204
        },
        "id": "7XpZJeumNP0e",
        "outputId": "367960c6-c657-4fec-d593-4f1a2f40b791"
      },
      "source": [
        "df_assg = ticket_data['Assignment group'].value_counts().reset_index()\n",
        "df_assg['percentage'] = (df_assg['Assignment group']/df_assg['Assignment group'].sum())*100\n",
        "df_assg.head()"
      ],
      "execution_count": 25,
      "outputs": [
        {
          "output_type": "execute_result",
          "data": {
            "text/html": [
              "<div>\n",
              "<style scoped>\n",
              "    .dataframe tbody tr th:only-of-type {\n",
              "        vertical-align: middle;\n",
              "    }\n",
              "\n",
              "    .dataframe tbody tr th {\n",
              "        vertical-align: top;\n",
              "    }\n",
              "\n",
              "    .dataframe thead th {\n",
              "        text-align: right;\n",
              "    }\n",
              "</style>\n",
              "<table border=\"1\" class=\"dataframe\">\n",
              "  <thead>\n",
              "    <tr style=\"text-align: right;\">\n",
              "      <th></th>\n",
              "      <th>index</th>\n",
              "      <th>Assignment group</th>\n",
              "      <th>percentage</th>\n",
              "    </tr>\n",
              "  </thead>\n",
              "  <tbody>\n",
              "    <tr>\n",
              "      <th>0</th>\n",
              "      <td>GRP_0</td>\n",
              "      <td>3976</td>\n",
              "      <td>46.776471</td>\n",
              "    </tr>\n",
              "    <tr>\n",
              "      <th>1</th>\n",
              "      <td>GRP_8</td>\n",
              "      <td>661</td>\n",
              "      <td>7.776471</td>\n",
              "    </tr>\n",
              "    <tr>\n",
              "      <th>2</th>\n",
              "      <td>GRP_24</td>\n",
              "      <td>289</td>\n",
              "      <td>3.400000</td>\n",
              "    </tr>\n",
              "    <tr>\n",
              "      <th>3</th>\n",
              "      <td>GRP_12</td>\n",
              "      <td>257</td>\n",
              "      <td>3.023529</td>\n",
              "    </tr>\n",
              "    <tr>\n",
              "      <th>4</th>\n",
              "      <td>GRP_9</td>\n",
              "      <td>252</td>\n",
              "      <td>2.964706</td>\n",
              "    </tr>\n",
              "  </tbody>\n",
              "</table>\n",
              "</div>"
            ],
            "text/plain": [
              "    index  Assignment group  percentage\n",
              "0   GRP_0              3976   46.776471\n",
              "1   GRP_8               661    7.776471\n",
              "2  GRP_24               289    3.400000\n",
              "3  GRP_12               257    3.023529\n",
              "4   GRP_9               252    2.964706"
            ]
          },
          "metadata": {
            "tags": []
          },
          "execution_count": 25
        }
      ]
    },
    {
      "cell_type": "code",
      "metadata": {
        "colab": {
          "base_uri": "https://localhost:8080/",
          "height": 414
        },
        "id": "mipLZ-dGNUK-",
        "outputId": "c6aa118e-0dd6-4ffc-ad3a-ddc55e8b4b48"
      },
      "source": [
        "sns.set(style=\"whitegrid\")\n",
        "plt.figure(figsize=(20,5))\n",
        "ax = sns.countplot(x=\"Assignment group\", data=ticket_data, order=ticket_data[\"Assignment group\"].value_counts().index)\n",
        "ax.set_xticklabels(ax.get_xticklabels(), rotation=90)\n",
        "for p in ax.patches:\n",
        "    ax.annotate(str(format(p.get_height()/len(ticket_data.index)*100, '.2f')+\"%\"), (p.get_x() + p.get_width() / 2., p.get_height()), ha = 'center', va = 'bottom', rotation=90, xytext = (0, 10), textcoords = 'offset points')"
      ],
      "execution_count": 26,
      "outputs": [
        {
          "output_type": "display_data",
          "data": {
            "image/png": "[encoded data removed]",
            "text/plain": [
              "<Figure size 1440x360 with 1 Axes>"
            ]
          },
          "metadata": {
            "tags": []
          }
        }
      ]
    },
    {
      "cell_type": "markdown",
      "metadata": {
        "id": "62046fzVNbAW"
      },
      "source": [
        "#### Top 20 Assignment groups with highest number of tickets"
      ]
    },
    {
      "cell_type": "code",
      "metadata": {
        "colab": {
          "base_uri": "https://localhost:8080/",
          "height": 669
        },
        "id": "wEDNKbryNY1C",
        "outputId": "216759c9-94ab-4cdc-ffc0-1c40be5707d4"
      },
      "source": [
        "df_top_assg = ticket_data['Assignment group'].value_counts().nlargest(20).reset_index()\n",
        "df_top_assg"
      ],
      "execution_count": 27,
      "outputs": [
        {
          "output_type": "execute_result",
          "data": {
            "text/html": [
              "<div>\n",
              "<style scoped>\n",
              "    .dataframe tbody tr th:only-of-type {\n",
              "        vertical-align: middle;\n",
              "    }\n",
              "\n",
              "    .dataframe tbody tr th {\n",
              "        vertical-align: top;\n",
              "    }\n",
              "\n",
              "    .dataframe thead th {\n",
              "        text-align: right;\n",
              "    }\n",
              "</style>\n",
              "<table border=\"1\" class=\"dataframe\">\n",
              "  <thead>\n",
              "    <tr style=\"text-align: right;\">\n",
              "      <th></th>\n",
              "      <th>index</th>\n",
              "      <th>Assignment group</th>\n",
              "    </tr>\n",
              "  </thead>\n",
              "  <tbody>\n",
              "    <tr>\n",
              "      <th>0</th>\n",
              "      <td>GRP_0</td>\n",
              "      <td>3976</td>\n",
              "    </tr>\n",
              "    <tr>\n",
              "      <th>1</th>\n",
              "      <td>GRP_8</td>\n",
              "      <td>661</td>\n",
              "    </tr>\n",
              "    <tr>\n",
              "      <th>2</th>\n",
              "      <td>GRP_24</td>\n",
              "      <td>289</td>\n",
              "    </tr>\n",
              "    <tr>\n",
              "      <th>3</th>\n",
              "      <td>GRP_12</td>\n",
              "      <td>257</td>\n",
              "    </tr>\n",
              "    <tr>\n",
              "      <th>4</th>\n",
              "      <td>GRP_9</td>\n",
              "      <td>252</td>\n",
              "    </tr>\n",
              "    <tr>\n",
              "      <th>5</th>\n",
              "      <td>GRP_2</td>\n",
              "      <td>241</td>\n",
              "    </tr>\n",
              "    <tr>\n",
              "      <th>6</th>\n",
              "      <td>GRP_19</td>\n",
              "      <td>215</td>\n",
              "    </tr>\n",
              "    <tr>\n",
              "      <th>7</th>\n",
              "      <td>GRP_3</td>\n",
              "      <td>200</td>\n",
              "    </tr>\n",
              "    <tr>\n",
              "      <th>8</th>\n",
              "      <td>GRP_6</td>\n",
              "      <td>184</td>\n",
              "    </tr>\n",
              "    <tr>\n",
              "      <th>9</th>\n",
              "      <td>GRP_13</td>\n",
              "      <td>145</td>\n",
              "    </tr>\n",
              "    <tr>\n",
              "      <th>10</th>\n",
              "      <td>GRP_10</td>\n",
              "      <td>140</td>\n",
              "    </tr>\n",
              "    <tr>\n",
              "      <th>11</th>\n",
              "      <td>GRP_5</td>\n",
              "      <td>129</td>\n",
              "    </tr>\n",
              "    <tr>\n",
              "      <th>12</th>\n",
              "      <td>GRP_14</td>\n",
              "      <td>118</td>\n",
              "    </tr>\n",
              "    <tr>\n",
              "      <th>13</th>\n",
              "      <td>GRP_25</td>\n",
              "      <td>116</td>\n",
              "    </tr>\n",
              "    <tr>\n",
              "      <th>14</th>\n",
              "      <td>GRP_33</td>\n",
              "      <td>107</td>\n",
              "    </tr>\n",
              "    <tr>\n",
              "      <th>15</th>\n",
              "      <td>GRP_4</td>\n",
              "      <td>100</td>\n",
              "    </tr>\n",
              "    <tr>\n",
              "      <th>16</th>\n",
              "      <td>GRP_29</td>\n",
              "      <td>97</td>\n",
              "    </tr>\n",
              "    <tr>\n",
              "      <th>17</th>\n",
              "      <td>GRP_18</td>\n",
              "      <td>88</td>\n",
              "    </tr>\n",
              "    <tr>\n",
              "      <th>18</th>\n",
              "      <td>GRP_16</td>\n",
              "      <td>85</td>\n",
              "    </tr>\n",
              "    <tr>\n",
              "      <th>19</th>\n",
              "      <td>GRP_17</td>\n",
              "      <td>81</td>\n",
              "    </tr>\n",
              "  </tbody>\n",
              "</table>\n",
              "</div>"
            ],
            "text/plain": [
              "     index  Assignment group\n",
              "0    GRP_0              3976\n",
              "1    GRP_8               661\n",
              "2   GRP_24               289\n",
              "3   GRP_12               257\n",
              "4    GRP_9               252\n",
              "5    GRP_2               241\n",
              "6   GRP_19               215\n",
              "7    GRP_3               200\n",
              "8    GRP_6               184\n",
              "9   GRP_13               145\n",
              "10  GRP_10               140\n",
              "11   GRP_5               129\n",
              "12  GRP_14               118\n",
              "13  GRP_25               116\n",
              "14  GRP_33               107\n",
              "15   GRP_4               100\n",
              "16  GRP_29                97\n",
              "17  GRP_18                88\n",
              "18  GRP_16                85\n",
              "19  GRP_17                81"
            ]
          },
          "metadata": {
            "tags": []
          },
          "execution_count": 27
        }
      ]
    },
    {
      "cell_type": "code",
      "metadata": {
        "colab": {
          "base_uri": "https://localhost:8080/",
          "height": 437
        },
        "id": "wC2bA7DqNmwG",
        "outputId": "47317252-62f4-47d8-98de-2985a9b40e83"
      },
      "source": [
        "plt.figure(figsize=(12,6))\n",
        "bars = plt.bar(df_top_assg['index'],df_top_assg['Assignment group'])\n",
        "plt.title('Top 20 Assignment groups with highest number of Tickets')\n",
        "plt.xlabel('Assignment Group')\n",
        "plt.xticks(rotation=90)\n",
        "plt.ylabel('Number of Tickets')\n",
        "\n",
        "for bar in bars:\n",
        "    yval = bar.get_height()\n",
        "    plt.text(bar.get_x(), yval + .005, yval)\n",
        "plt.tight_layout()\n",
        "plt.show()"
      ],
      "execution_count": 28,
      "outputs": [
        {
          "output_type": "display_data",
          "data": {
            "image/png": "[encoded data removed]",
            "text/plain": [
              "<Figure size 864x432 with 1 Axes>"
            ]
          },
          "metadata": {
            "tags": []
          }
        }
      ]
    },
    {
      "cell_type": "markdown",
      "metadata": {
        "id": "tm87CX3zNfo1"
      },
      "source": [
        "#### Visualize the percentage of incidents per assignment group"
      ]
    },
    {
      "cell_type": "code",
      "metadata": {
        "colab": {
          "base_uri": "https://localhost:8080/",
          "height": 669
        },
        "id": "2y-Tsu2_N0iU",
        "outputId": "2f56470e-2f36-4bef-96b2-4814d1872308"
      },
      "source": [
        "df_bottom_assg = ticket_data['Assignment group'].value_counts().nsmallest(20).reset_index()\n",
        "df_bottom_assg"
      ],
      "execution_count": 29,
      "outputs": [
        {
          "output_type": "execute_result",
          "data": {
            "text/html": [
              "<div>\n",
              "<style scoped>\n",
              "    .dataframe tbody tr th:only-of-type {\n",
              "        vertical-align: middle;\n",
              "    }\n",
              "\n",
              "    .dataframe tbody tr th {\n",
              "        vertical-align: top;\n",
              "    }\n",
              "\n",
              "    .dataframe thead th {\n",
              "        text-align: right;\n",
              "    }\n",
              "</style>\n",
              "<table border=\"1\" class=\"dataframe\">\n",
              "  <thead>\n",
              "    <tr style=\"text-align: right;\">\n",
              "      <th></th>\n",
              "      <th>index</th>\n",
              "      <th>Assignment group</th>\n",
              "    </tr>\n",
              "  </thead>\n",
              "  <tbody>\n",
              "    <tr>\n",
              "      <th>0</th>\n",
              "      <td>GRP_67</td>\n",
              "      <td>1</td>\n",
              "    </tr>\n",
              "    <tr>\n",
              "      <th>1</th>\n",
              "      <td>GRP_73</td>\n",
              "      <td>1</td>\n",
              "    </tr>\n",
              "    <tr>\n",
              "      <th>2</th>\n",
              "      <td>GRP_35</td>\n",
              "      <td>1</td>\n",
              "    </tr>\n",
              "    <tr>\n",
              "      <th>3</th>\n",
              "      <td>GRP_64</td>\n",
              "      <td>1</td>\n",
              "    </tr>\n",
              "    <tr>\n",
              "      <th>4</th>\n",
              "      <td>GRP_61</td>\n",
              "      <td>1</td>\n",
              "    </tr>\n",
              "    <tr>\n",
              "      <th>5</th>\n",
              "      <td>GRP_70</td>\n",
              "      <td>1</td>\n",
              "    </tr>\n",
              "    <tr>\n",
              "      <th>6</th>\n",
              "      <td>GRP_72</td>\n",
              "      <td>2</td>\n",
              "    </tr>\n",
              "    <tr>\n",
              "      <th>7</th>\n",
              "      <td>GRP_57</td>\n",
              "      <td>2</td>\n",
              "    </tr>\n",
              "    <tr>\n",
              "      <th>8</th>\n",
              "      <td>GRP_54</td>\n",
              "      <td>2</td>\n",
              "    </tr>\n",
              "    <tr>\n",
              "      <th>9</th>\n",
              "      <td>GRP_71</td>\n",
              "      <td>2</td>\n",
              "    </tr>\n",
              "    <tr>\n",
              "      <th>10</th>\n",
              "      <td>GRP_69</td>\n",
              "      <td>2</td>\n",
              "    </tr>\n",
              "    <tr>\n",
              "      <th>11</th>\n",
              "      <td>GRP_63</td>\n",
              "      <td>3</td>\n",
              "    </tr>\n",
              "    <tr>\n",
              "      <th>12</th>\n",
              "      <td>GRP_58</td>\n",
              "      <td>3</td>\n",
              "    </tr>\n",
              "    <tr>\n",
              "      <th>13</th>\n",
              "      <td>GRP_56</td>\n",
              "      <td>3</td>\n",
              "    </tr>\n",
              "    <tr>\n",
              "      <th>14</th>\n",
              "      <td>GRP_38</td>\n",
              "      <td>3</td>\n",
              "    </tr>\n",
              "    <tr>\n",
              "      <th>15</th>\n",
              "      <td>GRP_68</td>\n",
              "      <td>3</td>\n",
              "    </tr>\n",
              "    <tr>\n",
              "      <th>16</th>\n",
              "      <td>GRP_66</td>\n",
              "      <td>4</td>\n",
              "    </tr>\n",
              "    <tr>\n",
              "      <th>17</th>\n",
              "      <td>GRP_32</td>\n",
              "      <td>4</td>\n",
              "    </tr>\n",
              "    <tr>\n",
              "      <th>18</th>\n",
              "      <td>GRP_43</td>\n",
              "      <td>5</td>\n",
              "    </tr>\n",
              "    <tr>\n",
              "      <th>19</th>\n",
              "      <td>GRP_49</td>\n",
              "      <td>6</td>\n",
              "    </tr>\n",
              "  </tbody>\n",
              "</table>\n",
              "</div>"
            ],
            "text/plain": [
              "     index  Assignment group\n",
              "0   GRP_67                 1\n",
              "1   GRP_73                 1\n",
              "2   GRP_35                 1\n",
              "3   GRP_64                 1\n",
              "4   GRP_61                 1\n",
              "5   GRP_70                 1\n",
              "6   GRP_72                 2\n",
              "7   GRP_57                 2\n",
              "8   GRP_54                 2\n",
              "9   GRP_71                 2\n",
              "10  GRP_69                 2\n",
              "11  GRP_63                 3\n",
              "12  GRP_58                 3\n",
              "13  GRP_56                 3\n",
              "14  GRP_38                 3\n",
              "15  GRP_68                 3\n",
              "16  GRP_66                 4\n",
              "17  GRP_32                 4\n",
              "18  GRP_43                 5\n",
              "19  GRP_49                 6"
            ]
          },
          "metadata": {
            "tags": []
          },
          "execution_count": 29
        }
      ]
    },
    {
      "cell_type": "code",
      "metadata": {
        "colab": {
          "base_uri": "https://localhost:8080/",
          "height": 437
        },
        "id": "Ce58DZ33N2OJ",
        "outputId": "07303efd-5a60-4852-83b4-70909ca1e07f"
      },
      "source": [
        "plt.figure(figsize=(12,6))\n",
        "bars = plt.bar(df_bottom_assg['index'],df_bottom_assg['Assignment group'])\n",
        "plt.title('Bottom 20 Assignment groups with small number of Tickets')\n",
        "plt.xlabel('Assignment Group')\n",
        "plt.xticks(rotation=90)\n",
        "plt.ylabel('Number of Tickets')\n",
        "for bar in bars:\n",
        "    yval = bar.get_height()\n",
        "    plt.text(bar.get_x(), yval + .005, yval)\n",
        "plt.tight_layout()\n",
        "plt.show()"
      ],
      "execution_count": 30,
      "outputs": [
        {
          "output_type": "display_data",
          "data": {
            "image/png": "[encoded data removed]",
            "text/plain": [
              "<Figure size 864x432 with 1 Axes>"
            ]
          },
          "metadata": {
            "tags": []
          }
        }
      ]
    },
    {
      "cell_type": "code",
      "metadata": {
        "colab": {
          "base_uri": "https://localhost:8080/",
          "height": 266
        },
        "id": "LQHy7WYcPc8q",
        "outputId": "55ba6f15-b196-49b7-a4ce-4e225e15720e"
      },
      "source": [
        "df_tickets = pd.DataFrame(columns=['Description','Ticket Count'])\n",
        "one_ticket = {'Description':'1','Ticket Count':len(df_assg[df_assg['Assignment group'] < 2])}\n",
        "_2_5_ticket = {'Description':'2-5',\n",
        "              'Ticket Count':len(df_assg[(df_assg['Assignment group'] > 1)& (df_assg['Assignment group'] < 6) ])}\n",
        "_10_ticket = {'Description':' 6-10',\n",
        "              'Ticket Count':len(df_assg[(df_assg['Assignment group'] > 5)& (df_assg['Assignment group'] < 11)])}\n",
        "_10_20_ticket = {'Description':' 11-20',\n",
        "              'Ticket Count':len(df_assg[(df_assg['Assignment group'] > 10)& (df_assg['Assignment group'] < 21)])}\n",
        "_20_50_ticket = {'Description':' 21-50',\n",
        "              'Ticket Count':len(df_assg[(df_assg['Assignment group'] > 20)& (df_assg['Assignment group'] < 51)])}\n",
        "_51_100_ticket = {'Description':' 51-100',\n",
        "              'Ticket Count':len(df_assg[(df_assg['Assignment group'] > 50)& (df_assg['Assignment group'] < 101)])}\n",
        "_100_ticket = {'Description':' >100',\n",
        "              'Ticket Count':len(df_assg[(df_assg['Assignment group'] > 100)])}\n",
        "#append row to the dataframe\n",
        "df_tickets = df_tickets.append([one_ticket,_2_5_ticket,_10_ticket,\n",
        "                          _10_20_ticket,_20_50_ticket,_51_100_ticket,_100_ticket], ignore_index=True)\n",
        "\n",
        "df_tickets"
      ],
      "execution_count": 31,
      "outputs": [
        {
          "output_type": "execute_result",
          "data": {
            "text/html": [
              "<div>\n",
              "<style scoped>\n",
              "    .dataframe tbody tr th:only-of-type {\n",
              "        vertical-align: middle;\n",
              "    }\n",
              "\n",
              "    .dataframe tbody tr th {\n",
              "        vertical-align: top;\n",
              "    }\n",
              "\n",
              "    .dataframe thead th {\n",
              "        text-align: right;\n",
              "    }\n",
              "</style>\n",
              "<table border=\"1\" class=\"dataframe\">\n",
              "  <thead>\n",
              "    <tr style=\"text-align: right;\">\n",
              "      <th></th>\n",
              "      <th>Description</th>\n",
              "      <th>Ticket Count</th>\n",
              "    </tr>\n",
              "  </thead>\n",
              "  <tbody>\n",
              "    <tr>\n",
              "      <th>0</th>\n",
              "      <td>1</td>\n",
              "      <td>6</td>\n",
              "    </tr>\n",
              "    <tr>\n",
              "      <th>1</th>\n",
              "      <td>2-5</td>\n",
              "      <td>13</td>\n",
              "    </tr>\n",
              "    <tr>\n",
              "      <th>2</th>\n",
              "      <td>6-10</td>\n",
              "      <td>6</td>\n",
              "    </tr>\n",
              "    <tr>\n",
              "      <th>3</th>\n",
              "      <td>11-20</td>\n",
              "      <td>9</td>\n",
              "    </tr>\n",
              "    <tr>\n",
              "      <th>4</th>\n",
              "      <td>21-50</td>\n",
              "      <td>16</td>\n",
              "    </tr>\n",
              "    <tr>\n",
              "      <th>5</th>\n",
              "      <td>51-100</td>\n",
              "      <td>9</td>\n",
              "    </tr>\n",
              "    <tr>\n",
              "      <th>6</th>\n",
              "      <td>&gt;100</td>\n",
              "      <td>15</td>\n",
              "    </tr>\n",
              "  </tbody>\n",
              "</table>\n",
              "</div>"
            ],
            "text/plain": [
              "  Description Ticket Count\n",
              "0           1            6\n",
              "1         2-5           13\n",
              "2        6-10            6\n",
              "3       11-20            9\n",
              "4       21-50           16\n",
              "5      51-100            9\n",
              "6        >100           15"
            ]
          },
          "metadata": {
            "tags": []
          },
          "execution_count": 31
        }
      ]
    },
    {
      "cell_type": "code",
      "metadata": {
        "colab": {
          "base_uri": "https://localhost:8080/",
          "height": 550
        },
        "id": "wXwo2grYQAhk",
        "outputId": "2db5a3c1-50bd-4ff6-c0b5-b71db1614c6e"
      },
      "source": [
        "plt.figure(figsize=(10, 8))\n",
        "plt.pie(df_tickets['Ticket Count'],labels=df_tickets['Description'],autopct='%1.1f%%', startangle=15, shadow = True);\n",
        "plt.title('Assignment Groups Distribution')\n",
        "plt.axis('equal')"
      ],
      "execution_count": 32,
      "outputs": [
        {
          "output_type": "execute_result",
          "data": {
            "text/plain": [
              "(-1.1019890551483629,\n",
              " 1.1224353061977401,\n",
              " -1.1079626168723997,\n",
              " 1.1159579389457492)"
            ]
          },
          "metadata": {
            "tags": []
          },
          "execution_count": 32
        },
        {
          "output_type": "display_data",
          "data": {
            "image/png": "[encoded data removed]",
            "text/plain": [
              "<Figure size 720x576 with 1 Axes>"
            ]
          },
          "metadata": {
            "tags": []
          }
        }
      ]
    },
    {
      "cell_type": "code",
      "metadata": {
        "colab": {
          "base_uri": "https://localhost:8080/",
          "height": 49
        },
        "id": "omvC15x2QG5v",
        "outputId": "aa7a3466-27ce-4bc1-c1c5-486fa0e57c6e"
      },
      "source": [
        "ticket_data[ticket_data['Short description'].isnull()]"
      ],
      "execution_count": 33,
      "outputs": [
        {
          "output_type": "execute_result",
          "data": {
            "text/html": [
              "<div>\n",
              "<style scoped>\n",
              "    .dataframe tbody tr th:only-of-type {\n",
              "        vertical-align: middle;\n",
              "    }\n",
              "\n",
              "    .dataframe tbody tr th {\n",
              "        vertical-align: top;\n",
              "    }\n",
              "\n",
              "    .dataframe thead th {\n",
              "        text-align: right;\n",
              "    }\n",
              "</style>\n",
              "<table border=\"1\" class=\"dataframe\">\n",
              "  <thead>\n",
              "    <tr style=\"text-align: right;\">\n",
              "      <th></th>\n",
              "      <th>Short description</th>\n",
              "      <th>Description</th>\n",
              "      <th>Caller</th>\n",
              "      <th>Assignment group</th>\n",
              "    </tr>\n",
              "  </thead>\n",
              "  <tbody>\n",
              "  </tbody>\n",
              "</table>\n",
              "</div>"
            ],
            "text/plain": [
              "Empty DataFrame\n",
              "Columns: [Short description, Description, Caller, Assignment group]\n",
              "Index: []"
            ]
          },
          "metadata": {
            "tags": []
          },
          "execution_count": 33
        }
      ]
    },
    {
      "cell_type": "code",
      "metadata": {
        "colab": {
          "base_uri": "https://localhost:8080/",
          "height": 49
        },
        "id": "i1zNPIqGQLHR",
        "outputId": "c29c1d89-1567-496a-fe86-18c6b9c90bed"
      },
      "source": [
        "ticket_data[ticket_data['Description'].isnull()]"
      ],
      "execution_count": 34,
      "outputs": [
        {
          "output_type": "execute_result",
          "data": {
            "text/html": [
              "<div>\n",
              "<style scoped>\n",
              "    .dataframe tbody tr th:only-of-type {\n",
              "        vertical-align: middle;\n",
              "    }\n",
              "\n",
              "    .dataframe tbody tr th {\n",
              "        vertical-align: top;\n",
              "    }\n",
              "\n",
              "    .dataframe thead th {\n",
              "        text-align: right;\n",
              "    }\n",
              "</style>\n",
              "<table border=\"1\" class=\"dataframe\">\n",
              "  <thead>\n",
              "    <tr style=\"text-align: right;\">\n",
              "      <th></th>\n",
              "      <th>Short description</th>\n",
              "      <th>Description</th>\n",
              "      <th>Caller</th>\n",
              "      <th>Assignment group</th>\n",
              "    </tr>\n",
              "  </thead>\n",
              "  <tbody>\n",
              "  </tbody>\n",
              "</table>\n",
              "</div>"
            ],
            "text/plain": [
              "Empty DataFrame\n",
              "Columns: [Short description, Description, Caller, Assignment group]\n",
              "Index: []"
            ]
          },
          "metadata": {
            "tags": []
          },
          "execution_count": 34
        }
      ]
    },
    {
      "cell_type": "markdown",
      "metadata": {
        "id": "ozH-YaiOjRLc"
      },
      "source": [
        "## Begin Data Cleaning"
      ]
    },
    {
      "cell_type": "markdown",
      "metadata": {
        "id": "qBMtyLPwjRFg"
      },
      "source": [
        "### Replacing NaN"
      ]
    },
    {
      "cell_type": "code",
      "metadata": {
        "id": "9-SpMzDvQZkM"
      },
      "source": [
        "#Replace NaN values in Short Description and Description columns\n",
        "ticket_data['Short description'] = ticket_data['Short description'].replace(np.nan, '', regex=True)\n",
        "ticket_data['Description'] = ticket_data['Description'].replace(np.nan, '', regex=True)"
      ],
      "execution_count": 35,
      "outputs": []
    },
    {
      "cell_type": "markdown",
      "metadata": {
        "id": "1ufXNJhHjYhL"
      },
      "source": [
        "### Decoding the data"
      ]
    },
    {
      "cell_type": "code",
      "metadata": {
        "id": "qDKj9B3eQl_C"
      },
      "source": [
        "#Lets encode the string, to make it easier to be passed to language detection api.\n",
        "def fn_decode_to_ascii(df):\n",
        "  text = df.encode().decode('utf-8').encode('ascii', 'ignore')\n",
        "  return text.decode(\"utf-8\") "
      ],
      "execution_count": 36,
      "outputs": []
    },
    {
      "cell_type": "markdown",
      "metadata": {
        "id": "m_gB5r9IjcoN"
      },
      "source": [
        "### Prepping potential boilerplate text for removal"
      ]
    },
    {
      "cell_type": "code",
      "metadata": {
        "id": "2cmcq-dBm6Iy"
      },
      "source": [
        "#As different lines are of different length. We need to pad the our sequences using the max length\n",
        "contractions = { \n",
        "\"ain't\": \"am not / are not / is not / has not / have not\",\n",
        "\"aren't\": \"are not / am not\",\n",
        "\"can't\": \"cannot\",\n",
        "\"can't've\": \"cannot have\",\n",
        "\"'cause\": \"because\",\n",
        "\"could've\": \"could have\",\n",
        "\"couldn't\": \"could not\",\n",
        "\"couldn't've\": \"could not have\",\n",
        "\"didn't\": \"did not\",\n",
        "\"doesn't\": \"does not\",\n",
        "\"don't\": \"do not\",\n",
        "\"hadn't\": \"had not\",\n",
        "\"hadn't've\": \"had not have\",\n",
        "\"hasn't\": \"has not\",\n",
        "\"haven't\": \"have not\",\n",
        "\"he'd\": \"he had / he would\",\n",
        "\"he'd've\": \"he would have\",\n",
        "\"he'll\": \"he shall / he will\",\n",
        "\"he'll've\": \"he shall have / he will have\",\n",
        "\"he's\": \"he has / he is\",\n",
        "\"how'd\": \"how did\",\n",
        "\"how'd'y\": \"how do you\",\n",
        "\"how'll\": \"how will\",\n",
        "\"how's\": \"how has / how is / how does\",\n",
        "\"I'd\": \"I had / I would\",\n",
        "\"I'd've\": \"I would have\",\n",
        "\"I'll\": \"I shall / I will\",\n",
        "\"I'll've\": \"I shall have / I will have\",\n",
        "\"I'm\": \"I am\",\n",
        "\"I've\": \"I have\",\n",
        "\"isn't\": \"is not\",\n",
        "\"it'd\": \"it had / it would\",\n",
        "\"it'd've\": \"it would have\",\n",
        "\"it'll\": \"it shall / it will\",\n",
        "\"it'll've\": \"it shall have / it will have\",\n",
        "\"it's\": \"it has / it is\",\n",
        "\"let's\": \"let us\",\n",
        "\"ma'am\": \"madam\",\n",
        "\"mayn't\": \"may not\",\n",
        "\"might've\": \"might have\",\n",
        "\"mightn't\": \"might not\",\n",
        "\"mightn't've\": \"might not have\",\n",
        "\"must've\": \"must have\",\n",
        "\"mustn't\": \"must not\",\n",
        "\"mustn't've\": \"must not have\",\n",
        "\"needn't\": \"need not\",\n",
        "\"needn't've\": \"need not have\",\n",
        "\"o'clock\": \"of the clock\",\n",
        "\"oughtn't\": \"ought not\",\n",
        "\"oughtn't've\": \"ought not have\",\n",
        "\"shan't\": \"shall not\",\n",
        "\"sha'n't\": \"shall not\",\n",
        "\"shan't've\": \"shall not have\",\n",
        "\"she'd\": \"she had / she would\",\n",
        "\"she'd've\": \"she would have\",\n",
        "\"she'll\": \"she shall / she will\",\n",
        "\"she'll've\": \"she shall have / she will have\",\n",
        "\"she's\": \"she has / she is\",\n",
        "\"should've\": \"should have\",\n",
        "\"shouldn't\": \"should not\",\n",
        "\"shouldn't've\": \"should not have\",\n",
        "\"so've\": \"so have\",\n",
        "\"so's\": \"so as / so is\",\n",
        "\"that'd\": \"that would / that had\",\n",
        "\"that'd've\": \"that would have\",\n",
        "\"that's\": \"that has / that is\",\n",
        "\"there'd\": \"there had / there would\",\n",
        "\"there'd've\": \"there would have\",\n",
        "\"there's\": \"there has / there is\",\n",
        "\"they'd\": \"they had / they would\",\n",
        "\"they'd've\": \"they would have\",\n",
        "\"they'll\": \"they shall / they will\",\n",
        "\"they'll've\": \"they shall have / they will have\",\n",
        "\"they're\": \"they are\",\n",
        "\"they've\": \"they have\",\n",
        "\"to've\": \"to have\",\n",
        "\"wasn't\": \"was not\",\n",
        "\"we'd\": \"we had / we would\",\n",
        "\"we'd've\": \"we would have\",\n",
        "\"we'll\": \"we will\",\n",
        "\"we'll've\": \"we will have\",\n",
        "\"we're\": \"we are\",\n",
        "\"we've\": \"we have\",\n",
        "\"weren't\": \"were not\",\n",
        "\"what'll\": \"what shall / what will\",\n",
        "\"what'll've\": \"what shall have / what will have\",\n",
        "\"what're\": \"what are\",\n",
        "\"what's\": \"what has / what is\",\n",
        "\"what've\": \"what have\",\n",
        "\"when's\": \"when has / when is\",\n",
        "\"when've\": \"when have\",\n",
        "\"where'd\": \"where did\",\n",
        "\"where's\": \"where has / where is\",\n",
        "\"where've\": \"where have\",\n",
        "\"who'll\": \"who shall / who will\",\n",
        "\"who'll've\": \"who shall have / who will have\",\n",
        "\"who's\": \"who has / who is\",\n",
        "\"who've\": \"who have\",\n",
        "\"why's\": \"why has / why is\",\n",
        "\"why've\": \"why have\",\n",
        "\"will've\": \"will have\",\n",
        "\"won't\": \"will not\",\n",
        "\"won't've\": \"will not have\",\n",
        "\"would've\": \"would have\",\n",
        "\"wouldn't\": \"would not\",\n",
        "\"wouldn't've\": \"would not have\",\n",
        "\"y'all\": \"you all\",\n",
        "\"y'all'd\": \"you all would\",\n",
        "\"y'all'd've\": \"you all would have\",\n",
        "\"y'all're\": \"you all are\",\n",
        "\"y'all've\": \"you all have\",\n",
        "\"you'd\": \"you had / you would\",\n",
        "\"you'd've\": \"you would have\",\n",
        "\"you'll\": \"you shall / you will\",\n",
        "\"you'll've\": \"you shall have / you will have\",\n",
        "\"you're\": \"you are\",\n",
        "\"you've\": \"you have\"\n",
        "}"
      ],
      "execution_count": 37,
      "outputs": []
    },
    {
      "cell_type": "markdown",
      "metadata": {
        "id": "JnI-XmtjJeJD"
      },
      "source": [
        "## Cleaning the encoding"
      ]
    },
    {
      "cell_type": "code",
      "metadata": {
        "id": "yhp4wK31903c"
      },
      "source": [
        "ticket_data['Description'] = ticket_data['Description'].apply(fn_decode_to_ascii)\r\n",
        "ticket_data['Short description'] = ticket_data['Short description'].apply(fn_decode_to_ascii)\r\n",
        "ftfy_ShortDescription = []\r\n",
        "for Short_Description in ticket_data['Short description']:\r\n",
        "  ftfy_ShortDescription.append(fix_text(Short_Description))\r\n",
        "ticket_data['Short description']= ftfy_ShortDescription\r\n",
        "ftfy_Description = []\r\n",
        "for Description in ticket_data['Description']:\r\n",
        "  ftfy_Description.append(fix_text(Description))\r\n",
        "ticket_data['Description']= ftfy_Description"
      ],
      "execution_count": 38,
      "outputs": []
    },
    {
      "cell_type": "code",
      "metadata": {
        "id": "Ci0-WWmE9KPh"
      },
      "source": [
        "svc_domains = ['.com','.com.au','.com.ar','.co.kr','.co.in','.co.jp','.at','.de','.ru','.ch','.fr','.es','.ae']\r\n",
        "svc_urls = ['http://translate.google' + domain for domain in svc_domains]\r\n",
        "import time"
      ],
      "execution_count": 39,
      "outputs": []
    },
    {
      "cell_type": "code",
      "metadata": {
        "colab": {
          "base_uri": "https://localhost:8080/",
          "height": 204
        },
        "id": "p51H-1Rt_igx",
        "outputId": "11618e7b-733f-401f-d13a-d8a7ebb5e8e0"
      },
      "source": [
        "test_data = ticket_data.copy()\r\n",
        "test_data.head()"
      ],
      "execution_count": 40,
      "outputs": [
        {
          "output_type": "execute_result",
          "data": {
            "text/html": [
              "<div>\n",
              "<style scoped>\n",
              "    .dataframe tbody tr th:only-of-type {\n",
              "        vertical-align: middle;\n",
              "    }\n",
              "\n",
              "    .dataframe tbody tr th {\n",
              "        vertical-align: top;\n",
              "    }\n",
              "\n",
              "    .dataframe thead th {\n",
              "        text-align: right;\n",
              "    }\n",
              "</style>\n",
              "<table border=\"1\" class=\"dataframe\">\n",
              "  <thead>\n",
              "    <tr style=\"text-align: right;\">\n",
              "      <th></th>\n",
              "      <th>Short description</th>\n",
              "      <th>Description</th>\n",
              "      <th>Caller</th>\n",
              "      <th>Assignment group</th>\n",
              "    </tr>\n",
              "  </thead>\n",
              "  <tbody>\n",
              "    <tr>\n",
              "      <th>0</th>\n",
              "      <td>login issue</td>\n",
              "      <td>-verified user details.(employee# &amp; manager na...</td>\n",
              "      <td>spxjnwir pjlcoqds</td>\n",
              "      <td>GRP_0</td>\n",
              "    </tr>\n",
              "    <tr>\n",
              "      <th>1</th>\n",
              "      <td>outlook</td>\n",
              "      <td>\\n\\nreceived from: hmjdrvpb.komuaywn@gmail.com...</td>\n",
              "      <td>hmjdrvpb komuaywn</td>\n",
              "      <td>GRP_0</td>\n",
              "    </tr>\n",
              "    <tr>\n",
              "      <th>2</th>\n",
              "      <td>cant log in to vpn</td>\n",
              "      <td>\\n\\nreceived from: eylqgodm.ybqkwiam@gmail.com...</td>\n",
              "      <td>eylqgodm ybqkwiam</td>\n",
              "      <td>GRP_0</td>\n",
              "    </tr>\n",
              "    <tr>\n",
              "      <th>3</th>\n",
              "      <td>unable to access hr_tool page</td>\n",
              "      <td>unable to access hr_tool page</td>\n",
              "      <td>xbkucsvz gcpydteq</td>\n",
              "      <td>GRP_0</td>\n",
              "    </tr>\n",
              "    <tr>\n",
              "      <th>4</th>\n",
              "      <td>skype error</td>\n",
              "      <td>skype error</td>\n",
              "      <td>owlgqjme qhcozdfx</td>\n",
              "      <td>GRP_0</td>\n",
              "    </tr>\n",
              "  </tbody>\n",
              "</table>\n",
              "</div>"
            ],
            "text/plain": [
              "               Short description  ... Assignment group\n",
              "0                    login issue  ...            GRP_0\n",
              "1                        outlook  ...            GRP_0\n",
              "2             cant log in to vpn  ...            GRP_0\n",
              "3  unable to access hr_tool page  ...            GRP_0\n",
              "4                   skype error   ...            GRP_0\n",
              "\n",
              "[5 rows x 4 columns]"
            ]
          },
          "metadata": {
            "tags": []
          },
          "execution_count": 40
        }
      ]
    },
    {
      "cell_type": "code",
      "metadata": {
        "colab": {
          "base_uri": "https://localhost:8080/",
          "height": 137
        },
        "id": "SuljFtCy6NpB",
        "outputId": "7111f7a4-eb69-4d0e-bed4-2e834557f958"
      },
      "source": [
        "'''test_data = ticket_data.copy()\r\n",
        "total_size = len (test_data)\r\n",
        "# List of column data to consider for translation\r\n",
        "trans_cols = ['Short description','Description']\r\n",
        "# Add a new column to store the detected language\r\n",
        "test_data.insert(loc=2, column='lang_short_desc', value=np.nan, allow_duplicates=True)\r\n",
        "test_data.insert(loc=2, column='lang_desc', value=np.nan, allow_duplicates=True)\r\n",
        "start = 0\r\n",
        "stop = 100\r\n",
        "i = 0\r\n",
        "while (stop < total_size):\r\n",
        "  gs = Goslate(service_urls=svc_urls)\r\n",
        "  for idx in range(100):\r\n",
        "    print(idx)\r\n",
        "    lang = gs.detect(' '.join(test_data.loc[idx + start, trans_cols].tolist()))\r\n",
        "    row_iter = gs.translate(test_data.loc[idx + start, trans_cols].tolist(), \r\n",
        "                            target_language='en', \r\n",
        "                            source_language='auto')\r\n",
        "    test_data.loc[idx + start, trans_cols] = list(row_iter)\r\n",
        "    test_data.lang_desc = lang\r\n",
        "\r\n",
        "  start = start + 100\r\n",
        "  stop = total_size if total_size - stop < 100 else stop + 100\r\n",
        "  if start > total_size:\r\n",
        "    break\r\n",
        "  print(\"iter\", start/100)\r\n",
        "  time.sleep(1)'''"
      ],
      "execution_count": 41,
      "outputs": [
        {
          "output_type": "execute_result",
          "data": {
            "application/vnd.google.colaboratory.intrinsic+json": {
              "type": "string"
            },
            "text/plain": [
              "'test_data = ticket_data.copy()\\ntotal_size = len (test_data)\\n# List of column data to consider for translation\\ntrans_cols = [\\'Short description\\',\\'Description\\']\\n# Add a new column to store the detected language\\ntest_data.insert(loc=2, column=\\'lang_short_desc\\', value=np.nan, allow_duplicates=True)\\ntest_data.insert(loc=2, column=\\'lang_desc\\', value=np.nan, allow_duplicates=True)\\nstart = 0\\nstop = 100\\ni = 0\\nwhile (stop < total_size):\\n  gs = Goslate(service_urls=svc_urls)\\n  for idx in range(100):\\n    print(idx)\\n    lang = gs.detect(\\' \\'.join(test_data.loc[idx + start, trans_cols].tolist()))\\n    row_iter = gs.translate(test_data.loc[idx + start, trans_cols].tolist(), \\n                            target_language=\\'en\\', \\n                            source_language=\\'auto\\')\\n    test_data.loc[idx + start, trans_cols] = list(row_iter)\\n    test_data.lang_desc = lang\\n\\n  start = start + 100\\n  stop = total_size if total_size - stop < 100 else stop + 100\\n  if start > total_size:\\n    break\\n  print(\"iter\", start/100)\\n  time.sleep(1)'"
            ]
          },
          "metadata": {
            "tags": []
          },
          "execution_count": 41
        }
      ]
    },
    {
      "cell_type": "markdown",
      "metadata": {
        "id": "kOYu29zjjgwV"
      },
      "source": [
        "### Defining Translation functions"
      ]
    },
    {
      "cell_type": "code",
      "metadata": {
        "id": "xhMeOyYd5HVu"
      },
      "source": [
        "from googletrans import Translator\n",
        "translator = Translator(service_urls=[\n",
        "      'translate.google.com'\n",
        "    ])\n",
        "\n",
        "##Translating word by word using Google and MyMemory\n",
        "def translate_word_by_word(sentence):\n",
        "  words = sentence.split(\" \")\n",
        "  new_words = []\n",
        "  for word in words:\n",
        "    lang = detect(word)\n",
        "    translator = Translator(provider='translate.google.com', to_lang=\"en\", from_lang = lang, secret_access_key=None)\n",
        "    new_word = translator.translate(word)\n",
        "    new_words.append(new_word)\n",
        "  return \" \".join(new_words)\n",
        "\n",
        "def get_lang(para):\n",
        "  para = para.strip()\n",
        "  if para == \"\":\n",
        "    return \"en\"\n",
        "  \n",
        "  lang = \"en\"\n",
        "  try:\n",
        "    lang = detect(para)\n",
        "  except:\n",
        "    attempts = 0\n",
        "    lang = \"en\"\n",
        "    while attempts < 3:\n",
        "      try:\n",
        "        lang = translator.detect(para).text\n",
        "        break\n",
        "      except:\n",
        "        lang = \"en\"\n",
        "        attempts = attempts + 1\n",
        "        time.sleep(2)\n",
        "  if lang == \"\":\n",
        "    lang = \"en\"\n",
        "  return lang \n",
        "\n",
        "## translating using googletranslate\n",
        "def translate_sentence(para, lang, num):\n",
        "  para = para.strip()\n",
        "  if para == \"\":\n",
        "    return para\n",
        "  attempts = 0\n",
        "  while attempts < 3:\n",
        "    try:\n",
        "      if lang != \"en\":\n",
        "        translated_text = translator.translate(para, src = lang, dest = \"en\").text\n",
        "        return translated_text\n",
        "      else:\n",
        "        return (para)\n",
        "    except: \n",
        "      time.sleep(1) #adding a wait\n",
        "      attempts = attempts + 1\n",
        "\n",
        "  print(\"failed\", \" \", lang, \" \", num)\n",
        "  return para\n",
        "\n",
        "def translate_sentence_no_wait(para, lang, num):\n",
        "  para = para.strip()\n",
        "  if para == \"\":\n",
        "    return para\n",
        "  try:\n",
        "    if lang != \"en\":\n",
        "      translated_text = translator.translate(para, src = lang, dest = \"en\").text\n",
        "      return translated_text\n",
        "    else:\n",
        "      return (para)\n",
        "  except: \n",
        "    print(\"failed\", \" \", lang, \" \", num)\n",
        "  return para"
      ],
      "execution_count": 42,
      "outputs": []
    },
    {
      "cell_type": "code",
      "metadata": {
        "colab": {
          "base_uri": "https://localhost:8080/"
        },
        "id": "UU43YvGDsmfV",
        "outputId": "a0bcc6b0-f8a1-47c4-84ba-73cc8b4b78c2"
      },
      "source": [
        "if os.path.exists(folder_path + \"/\" + \"translated_data.pickle\"):\r\n",
        "  ticket_data = get_pickle_data(\"translated_data.pickle\")\r\n",
        "  print(\"picking from pickle\")\r\n",
        "else:\r\n",
        "  ticket_data[\"lang_short_desc\"] = ticket_data[\"Short description\"].apply(get_lang)\r\n",
        "  ticket_data[\"lang_desc\"] = ticket_data[\"Description\"].apply(get_lang)\r\n",
        "  ticket_data[\"SD_translated_lang\"] = ticket_data[\"lang_short_desc\"]\r\n",
        "  ticket_data[\"D_translated_lang\"] = ticket_data[\"lang_desc\"]\r\n",
        "  ticket_data[\"SD_translated\"] = ticket_data[\"Short description\"]\r\n",
        "  ticket_data[\"D_translated\"] = ticket_data[\"Description\"]\r\n",
        "  j = 0\r\n",
        "  counter = len(ticket_data)\r\n",
        "  while ((np.sum(ticket_data[\"SD_translated_lang\"] != \"en\") != 0) & (np.sum(ticket_data[\"D_translated_lang\"] != \"en\") != 0)):\r\n",
        "    for i in range(counter):\r\n",
        "      if ticket_data[\"SD_translated_lang\"][i] != \"en\":\r\n",
        "        ticket_data[\"SD_translated\"][i] = translate_sentence(ticket_data[\"SD_translated\"][i], ticket_data[\"SD_translated_lang\"][i],i)\r\n",
        "        if ticket_data[\"SD_translated\"][i] != ticket_data[\"Short description\"][i]:\r\n",
        "          ticket_data[\"SD_translated_lang\"][i] = \"en\"\r\n",
        "      if ticket_data[\"D_translated_lang\"][i] != \"en\":\r\n",
        "        ticket_data[\"D_translated\"][i] = translate_sentence(ticket_data[\"D_translated\"][i], ticket_data[\"D_translated_lang\"][i],i)\r\n",
        "        if ticket_data[\"D_translated\"][i] != ticket_data[\"Description\"][i]:\r\n",
        "          ticket_data[\"D_translated_lang\"][i] = \"en\"\r\n",
        "    j = j + 1\r\n",
        "    time.sleep(5)\r\n",
        "    print(\"iteration\", j, \" SD remaining: \", np.sum(ticket_data[\"SD_translated_lang\"] != \"en\"), \"D remaining: \", np.sum(ticket_data[\"D_translated_lang\"] != \"en\"))\r\n",
        "    if j == 3:\r\n",
        "      break"
      ],
      "execution_count": 43,
      "outputs": [
        {
          "output_type": "stream",
          "text": [
            "picking from pickle\n"
          ],
          "name": "stdout"
        }
      ]
    },
    {
      "cell_type": "code",
      "metadata": {
        "colab": {
          "base_uri": "https://localhost:8080/"
        },
        "id": "X1hQFXtuZKRL",
        "outputId": "d40c8dcb-63b2-406a-911d-f637f2c08551"
      },
      "source": [
        "np.sum(ticket_data[\"D_translated_lang\"] != \"en\")"
      ],
      "execution_count": 44,
      "outputs": [
        {
          "output_type": "execute_result",
          "data": {
            "text/plain": [
              "573"
            ]
          },
          "metadata": {
            "tags": []
          },
          "execution_count": 44
        }
      ]
    },
    {
      "cell_type": "code",
      "metadata": {
        "id": "63vvCfDb6R4-"
      },
      "source": [
        "pickle_dump(ticket_data, \"translated_data.pickle\")"
      ],
      "execution_count": 45,
      "outputs": []
    },
    {
      "cell_type": "markdown",
      "metadata": {
        "id": "PnKdnHjzjugu"
      },
      "source": [
        "### Function for cleaning data"
      ]
    },
    {
      "cell_type": "code",
      "metadata": {
        "id": "bSGtwrpxq_gW"
      },
      "source": [
        "max_features = 10000\n",
        "MAX_LENGTH = 250\n",
        "\n",
        "def clean_text(text):\n",
        "    if text != \"\":          \n",
        "      '''Make text lowercase, remove text in square brackets,remove links,remove punctuation\n",
        "      and remove words containing numbers.'''\n",
        "      '''text=text.replace(('first name: ').lower(),'firstname')\n",
        "      text=text.replace(('last name: ').lower(),'lastname')\n",
        "      text=text.replace(('received from:').lower(),'')\n",
        "      text=text.replace('email:','')\n",
        "      text=text.replace('email address:','') \n",
        "      index1=text.find('from:')\n",
        "      index2=text.find('\\nsddubject:')\n",
        "      text=text.replace(text[index1:index2],'')\n",
        "      index3=text.find('[cid:image')\n",
        "      index4=text.find(']')\n",
        "      text=text.replace(text[index3:index4],'')\n",
        "      text=text.replace('subject:','')\n",
        "      text=text.replace('received from:','')\n",
        "      text=text.replace('this message was sent from an unmonitored email address', '')\n",
        "      text=text.replace('please do not reply to this message', '')\n",
        "      text=text.replace('monitoring_tool@company.com','MonitoringTool')\n",
        "      text=text.replace('select the following link to view the disclaimer in an alternate language','')\n",
        "      text=text.replace('description problem', '') \n",
        "      text=text.replace('steps taken far', '')\n",
        "      text=text.replace('customer job title', '')\n",
        "      text=text.replace('sales engineer contact', '')\n",
        "      text=text.replace('description of problem:', '')\n",
        "      text=text.replace('steps taken so far', '')\n",
        "      text=text.replace('please do the needful', '')\n",
        "      text=text.replace('please note that ', '')\n",
        "      text=text.replace('please find below', '')\n",
        "      text=text.replace('date and time', '')\n",
        "      text=text.replace('kindly refer mail', '')\n",
        "      text=text.replace('name:', '')\n",
        "      text=text.replace('language:', '')\n",
        "      text=text.replace('customer number:', '')\n",
        "      text=text.replace('telephone:', '')\n",
        "      text=text.replace('summary:', '')\n",
        "      text=text.replace('sincerely', '')\n",
        "      text=text.replace('company inc', '')\n",
        "      text=text.replace('importance:', '')\n",
        "      text=text.replace('gmail.com', '')\n",
        "      text=text.replace('company.com', '')\n",
        "      text=text.replace('microsoftonline.com', '')\n",
        "      text=text.replace('company.onmicrosoft.com', '')\n",
        "      text=text.replace('hello', '')\n",
        "      text=text.replace('hallo', '')\n",
        "      text=text.replace('hi it team', '')\n",
        "      text=text.replace('hi team', '')\n",
        "      text=text.replace('hi', '')\n",
        "      text=text.replace('best', '')\n",
        "      text=text.replace('kind', '')\n",
        "      text=text.replace('regards', '')\n",
        "      text=text.replace('good morning', '')\n",
        "      text=text.replace('please', '')\n",
        "      text=text.replace('regards', '')'''\n",
        "      text = re.sub(r'\\<a href', ' ', text)\n",
        "      text = re.sub(r'&amp;', '', text)\n",
        "      text = re.sub(r'<br />', ' ', text)    \n",
        "      text = re.sub(r'\\S+@\\S+', '', text)\n",
        "      text = re.sub(r'\\d+','' ,text)\n",
        "      text = re.sub(r'#','', text)\n",
        "      text = re.sub(r'&;?', 'and',text)\n",
        "      text = re.sub(r'\\&\\w*;', '', text)\n",
        "      text = re.sub(r'https?:\\/\\/.*\\/\\w*', '', text)\n",
        "      custom_punctuation='!\"#$%&\\'()*+,-./:;<=>?@[\\\\]^`{|}~'\n",
        "      text = re.sub(r'\\w*\\d\\w*', '', text)\n",
        "      text = re.sub(r'\\[.*?\\]', '', text)\n",
        "      text = re.sub(r'https?://\\S+|www\\.\\S+', '', text)\n",
        "      text = re.sub(r'<.*?>+', '', text)\n",
        "      text= ''.join(c for c in text if c <= '\\uFFFF') \n",
        "      text = text.strip()      \n",
        "      text = re.sub(r'[%s]' % re.escape(string.punctuation), '', text)\n",
        "      text = ' '.join(re.sub(\"[^\\u0030-\\u0039\\u0041-\\u005a\\u0061-\\u007a]\", \" \", text).split())\n",
        "      text = re.sub(r'\\r\\n', '', text)\n",
        "      text = re.sub(r'\\n', '', text)\n",
        "      text = re.sub(r'\\S+@\\S+', '', text)\n",
        "\n",
        "      text = text.lower()\n",
        "    return text"
      ],
      "execution_count": 46,
      "outputs": []
    },
    {
      "cell_type": "markdown",
      "metadata": {
        "id": "8Jfi5zUhkXCB"
      },
      "source": [
        "### Data cleaning, stop word removal and lemmatization"
      ]
    },
    {
      "cell_type": "code",
      "metadata": {
        "id": "ZrHGC1XQ6Bj9",
        "colab": {
          "base_uri": "https://localhost:8080/"
        },
        "outputId": "5f7671b9-a9a4-403a-9192-faddd080f34a"
      },
      "source": [
        "#ticket_data['lang_desc'] = ticket_data['Description'].apply(detect_lang)\n",
        "#ticket_data['lang_short_desc'] = ticket_data['Short description'].apply(detect_lang)\n",
        "#ticket_data['Description'] = ticket_data.apply(lambda x: fn_translate(x['Description']), axis=1)\n",
        "#ticket_data['Short description'] = ticket_data.apply(lambda x: fn_translate(x['Short description']), axis=1)\n",
        "ticket_data[\"Description\"] = ticket_data[\"Description\"].apply(clean_text)\n",
        "ticket_data[\"Short description\"] = ticket_data[\"Short description\"].apply(clean_text)\n",
        "print(len(ticket_data))"
      ],
      "execution_count": 47,
      "outputs": [
        {
          "output_type": "stream",
          "text": [
            "8500\n"
          ],
          "name": "stdout"
        }
      ]
    },
    {
      "cell_type": "code",
      "metadata": {
        "id": "kxd288rS6nbJ"
      },
      "source": [
        "ticket_pivot = ticket_data.pivot_table(aggfunc=\"count\",columns =\"Assignment group\", values=\"Caller\")\n",
        "ticket_nums = np.array(ticket_pivot)\n",
        "ticket_cols = ticket_pivot.columns\n",
        "ticket_pivot_df = pd.DataFrame(data = ticket_nums, columns = ticket_cols, index = [\"Number of tickets\"])\n",
        "ticket_pivot_df = ticket_pivot_df.transpose()\n",
        "ticket_pivot_df.reset_index(inplace=True)"
      ],
      "execution_count": 48,
      "outputs": []
    },
    {
      "cell_type": "code",
      "metadata": {
        "id": "Fr779NDF3Joz"
      },
      "source": [
        "def filter_group_augment (groupname):\r\n",
        "  if groupname in list(ticket_pivot_df[(ticket_pivot_df[\"Number of tickets\"]>20) & (ticket_pivot_df[\"Number of tickets\"]<1000)][\"Assignment group\"]):\r\n",
        "    return True\r\n",
        "  else:\r\n",
        "    return False\r\n",
        "\r\n",
        "def filter_group_large (groupname):\r\n",
        "  if groupname in list(ticket_pivot_df[(ticket_pivot_df[\"Number of tickets\"]>=1000)][\"Assignment group\"]):\r\n",
        "    return True\r\n",
        "  else:\r\n",
        "    return False\r\n",
        "\r\n",
        "def filter_group_small (groupname):\r\n",
        "  if groupname in list(ticket_pivot_df[(ticket_pivot_df[\"Number of tickets\"]<=20)][\"Assignment group\"]):\r\n",
        "    return True\r\n",
        "  else:\r\n",
        "    return False\r\n",
        "\r\n",
        "def filter_group_AI (groupname):\r\n",
        "  if groupname in list(ticket_pivot_df[(ticket_pivot_df[\"Number of tickets\"]>20)][\"Assignment group\"]):\r\n",
        "    return True\r\n",
        "  else:\r\n",
        "    return False"
      ],
      "execution_count": 49,
      "outputs": []
    },
    {
      "cell_type": "code",
      "metadata": {
        "id": "b07zGykt8T_5"
      },
      "source": [
        "data_to_be_augmented = ticket_data[ticket_data[\"Assignment group\"].apply(filter_group_augment)]\r\n",
        "data_large_tickets = ticket_data[ticket_data[\"Assignment group\"].apply(filter_group_large)]\r\n",
        "data_small_tickets = ticket_data[ticket_data[\"Assignment group\"].apply(filter_group_small)]"
      ],
      "execution_count": 50,
      "outputs": []
    },
    {
      "cell_type": "code",
      "metadata": {
        "colab": {
          "base_uri": "https://localhost:8080/"
        },
        "id": "XWVGXzu0rnDd",
        "outputId": "ec50611f-4c52-4128-caf2-ebe0f76f71ea"
      },
      "source": [
        "data_to_be_augmented.shape"
      ],
      "execution_count": 51,
      "outputs": [
        {
          "output_type": "execute_result",
          "data": {
            "text/plain": [
              "(4298, 10)"
            ]
          },
          "metadata": {
            "tags": []
          },
          "execution_count": 51
        }
      ]
    },
    {
      "cell_type": "code",
      "metadata": {
        "colab": {
          "base_uri": "https://localhost:8080/"
        },
        "id": "rk_BHBBgrooe",
        "outputId": "10736675-0167-4bda-9b79-e2b45cb21a77"
      },
      "source": [
        "data_large_tickets.shape"
      ],
      "execution_count": 52,
      "outputs": [
        {
          "output_type": "execute_result",
          "data": {
            "text/plain": [
              "(3976, 10)"
            ]
          },
          "metadata": {
            "tags": []
          },
          "execution_count": 52
        }
      ]
    },
    {
      "cell_type": "code",
      "metadata": {
        "colab": {
          "base_uri": "https://localhost:8080/"
        },
        "id": "-1yvT4HRrpw6",
        "outputId": "e193db50-cad2-4e64-e926-ac40e5649079"
      },
      "source": [
        "data_small_tickets.shape"
      ],
      "execution_count": 53,
      "outputs": [
        {
          "output_type": "execute_result",
          "data": {
            "text/plain": [
              "(226, 10)"
            ]
          },
          "metadata": {
            "tags": []
          },
          "execution_count": 53
        }
      ]
    },
    {
      "cell_type": "code",
      "metadata": {
        "id": "nPgdH7r-81JM"
      },
      "source": [
        "def replace_with_synonym(sentence):\n",
        "  if sentence != \"\":\n",
        "    synonym = \"\"\n",
        "    words = sentence.split(\" \")    \n",
        "    repl_num = 0\n",
        "    syn_idx = 0\n",
        "    for i in range(5):\n",
        "      if len(words) > 1:\n",
        "        repl_num = rnd.randint(0,len(words)-1)\n",
        "      elif len(words) == 1:\n",
        "        repl_num = 0\n",
        "      else:\n",
        "        return sentence\n",
        "      syns = wordnet.synsets(words[repl_num])\n",
        "      if len(syns) > 1:\n",
        "        syn_idx = rnd.randint(0,len(syns)-1)\n",
        "        synonym = syns[syn_idx].lemmas()[0].name()\n",
        "      elif len(syns) == 1:\n",
        "        syn_idx = 0\n",
        "        synonym = syns[syn_idx].lemmas()[0].name()\n",
        "      else:\n",
        "        synonym = \"\"\n",
        "      if synonym != \"\":\n",
        "        sentence = sentence.replace(words[repl_num], synonym)\n",
        "  return sentence\n",
        "\n",
        "def drop_words(sentence):\n",
        "  if sentence != \"\":\n",
        "    words = sentence.split(\" \")    \n",
        "    repl_num = 0\n",
        "    for i in range(5):\n",
        "      if len(words) > 1:\n",
        "        repl_num = rnd.randint(0,len(words)-1)\n",
        "      elif len(words) == 1:\n",
        "        repl_num = 0\n",
        "      else:\n",
        "        return sentence\n",
        "      words[repl_num] = \"\"\n",
        "    sentence = \" \".join(words)\n",
        "  return sentence\n",
        "\n",
        "def scatter_sentences(para):\n",
        "  sentences = para.split(\".\")\n",
        "  i=0\n",
        "  for sentence in sentences:\n",
        "      sentences[i] = sentence.strip()\n",
        "      i = i+1\n",
        "  total = len(sentences)\n",
        "  i = 0\n",
        "  new_order = []\n",
        "  while (len(new_order) < total):\n",
        "      num = rnd.randint(0,total-1)\n",
        "      if num not in new_order:\n",
        "          new_order.append(num)\n",
        "          i = i + 1\n",
        "  new_sentences = [sentences[i] for i in new_order]\n",
        "  total_sentences = len(new_sentences)\n",
        "  return_para = \"\"\n",
        "  for i in range(total_sentences):\n",
        "    if not new_sentences[i] == \"\":\n",
        "      if return_para == \"\":\n",
        "        return_para = new_sentences[i]\n",
        "      else:\n",
        "        return_para = return_para + \".\" + new_sentences[i]\n",
        "  return return_para"
      ],
      "execution_count": 54,
      "outputs": []
    },
    {
      "cell_type": "code",
      "metadata": {
        "id": "WCsw40H64Zov"
      },
      "source": [
        "ticket_pivot_df_augment = ticket_pivot_df[(ticket_pivot_df[\"Number of tickets\"]>20) & (ticket_pivot_df[\"Number of tickets\"]<1000)]"
      ],
      "execution_count": 55,
      "outputs": []
    },
    {
      "cell_type": "code",
      "metadata": {
        "id": "pkhafUX947VW"
      },
      "source": [
        "ticket_pivot_df_augment = ticket_pivot_df_augment.reset_index()\r\n",
        "ticket_pivot_df_augment.drop([\"index\"], axis = 1, inplace = True)"
      ],
      "execution_count": 56,
      "outputs": []
    },
    {
      "cell_type": "code",
      "metadata": {
        "id": "6OzML9Cwq_gX",
        "colab": {
          "base_uri": "https://localhost:8080/",
          "height": 360
        },
        "outputId": "0edcb59a-e1b3-4f5e-a7b5-1cc9553142fb"
      },
      "source": [
        "def augment_data(df):\n",
        "  total_grps = len(ticket_pivot_df_augment)\n",
        "  ticket_data_updated = df.copy()\n",
        "  list_to_add = []\n",
        "  list_df = []\n",
        "  col_names = ticket_data_updated.columns.values.tolist()\n",
        "  for i in range(total_grps):\n",
        "    grpname = ticket_pivot_df_augment[\"Assignment group\"][i]\n",
        "    group_df = ticket_data_updated[ticket_data_updated[\"Assignment group\"]==grpname]\n",
        "    list_df = group_df.values.tolist()\n",
        "    group_df = None\n",
        "    records_added = ticket_pivot_df_augment[\"Number of tickets\"][i]\n",
        "    while records_added < 500:\n",
        "      list_df = list_df + list_df\n",
        "      records_added = records_added + records_added\n",
        "    list_to_add = list_to_add + list_df\n",
        "    list_df = []\n",
        "    gc.collect()\n",
        "  #ticket_data_updated.info()\n",
        "  #ticket_data_updated = pd.DataFrame(data = final_df, columns= col_names)\n",
        "  df_to_add = pd.DataFrame(data = list_to_add, columns = ticket_data.columns)\n",
        "  df_to_add[\"Description\"] = df_to_add[\"Description\"].apply(replace_with_synonym)\n",
        "  df_to_add[\"Short description\"] = df_to_add[\"Short description\"].apply(replace_with_synonym)\n",
        "  ticket_data_updated = pd.concat([ticket_data_updated, df_to_add],axis = 0)\n",
        "  print(\"first\", gc.collect())\n",
        "\n",
        "  '''df_to_add = pd.DataFrame(data = list_to_add, columns = ticket_data.columns)\n",
        "  df_to_add[\"Description\"] = df_to_add[\"Description\"].apply(scatter_sentences)\n",
        "  df_to_add[\"Short description\"] = df_to_add[\"Short description\"].apply(scatter_sentences)\n",
        "  ticket_data_updated = pd.concat([ticket_data_updated, df_to_add],axis = 0) \n",
        "  print(\"second:\", gc.collect())\n",
        "\n",
        "  df_to_add = pd.DataFrame(data = list_to_add, columns = ticket_data.columns)\n",
        "  df_to_add[\"Description\"] = df_to_add[\"Description\"].apply(drop_words)\n",
        "  df_to_add[\"Short description\"] = df_to_add[\"Short description\"].apply(drop_words)\n",
        "  ticket_data_updated = pd.concat([ticket_data_updated, df_to_add],axis = 0)\n",
        "  print(\"third\", gc.collect())'''\n",
        "  return ticket_data_updated\n",
        "\n",
        "### Augment the data here\n",
        "augmented_data = \"\"\n",
        "if os.path.exists(folder_path + \"/\" + \"augmented_data.pickle\"):\n",
        "  augmented_data = get_pickle_data(\"augmented_data.pickle\")\n",
        "  print(\"picking from pickle\")\n",
        "else:\n",
        "  augmented_data = augment_data(data_to_be_augmented)\n",
        "  print(\"augmented\")\n",
        "  augmented_data = pd.concat([augmented_data,data_large_tickets], axis = 0)\n",
        "  augmented_data = pd.concat([augmented_data,data_small_tickets], axis = 0)\n",
        "\n",
        "augmented_data = augmented_data.reset_index()\n",
        "augmented_data.drop([\"index\"], axis = 1, inplace = True)\n",
        "\n",
        "pickle_dump(augmented_data, \"augmented_data.pickle\")\n",
        "augmented_data.head()"
      ],
      "execution_count": 57,
      "outputs": [
        {
          "output_type": "stream",
          "text": [
            "picking from pickle\n"
          ],
          "name": "stdout"
        },
        {
          "output_type": "execute_result",
          "data": {
            "text/html": [
              "<div>\n",
              "<style scoped>\n",
              "    .dataframe tbody tr th:only-of-type {\n",
              "        vertical-align: middle;\n",
              "    }\n",
              "\n",
              "    .dataframe tbody tr th {\n",
              "        vertical-align: top;\n",
              "    }\n",
              "\n",
              "    .dataframe thead th {\n",
              "        text-align: right;\n",
              "    }\n",
              "</style>\n",
              "<table border=\"1\" class=\"dataframe\">\n",
              "  <thead>\n",
              "    <tr style=\"text-align: right;\">\n",
              "      <th></th>\n",
              "      <th>Short description</th>\n",
              "      <th>Description</th>\n",
              "      <th>Caller</th>\n",
              "      <th>Assignment group</th>\n",
              "      <th>lang_short_desc</th>\n",
              "      <th>lang_desc</th>\n",
              "      <th>SD_translated_lang</th>\n",
              "      <th>D_translated_lang</th>\n",
              "      <th>SD_translated</th>\n",
              "      <th>D_translated</th>\n",
              "    </tr>\n",
              "  </thead>\n",
              "  <tbody>\n",
              "    <tr>\n",
              "      <th>0</th>\n",
              "      <td>event criticalhostnamecompanycom the value of ...</td>\n",
              "      <td>event criticalhostnamecompanycom the value of ...</td>\n",
              "      <td>jyoqwxhz clhxsoqy</td>\n",
              "      <td>GRP_1</td>\n",
              "      <td>en</td>\n",
              "      <td>en</td>\n",
              "      <td>en</td>\n",
              "      <td>en</td>\n",
              "      <td>event: critical:HostName_221.company.com the v...</td>\n",
              "      <td>event: critical:HostName_221.company.com the v...</td>\n",
              "    </tr>\n",
              "    <tr>\n",
              "      <th>1</th>\n",
              "      <td>when undocking pc screen will not come back</td>\n",
              "      <td>when undocking pc screen will not come back</td>\n",
              "      <td>sigfdwcj reofwzlm</td>\n",
              "      <td>GRP_3</td>\n",
              "      <td>en</td>\n",
              "      <td>en</td>\n",
              "      <td>en</td>\n",
              "      <td>en</td>\n",
              "      <td>when undocking pc , screen will not come back</td>\n",
              "      <td>when undocking pc , screen will not come back</td>\n",
              "    </tr>\n",
              "    <tr>\n",
              "      <th>2</th>\n",
              "      <td>duplication of network address</td>\n",
              "      <td>received from gentles i have two devices that ...</td>\n",
              "      <td>kxsceyzo naokumlb</td>\n",
              "      <td>GRP_4</td>\n",
              "      <td>en</td>\n",
              "      <td>en</td>\n",
              "      <td>en</td>\n",
              "      <td>en</td>\n",
              "      <td>duplication of network address.</td>\n",
              "      <td>\\n\\nreceived from: kxsceyzo.naokumlb@gmail.com...</td>\n",
              "    </tr>\n",
              "    <tr>\n",
              "      <th>3</th>\n",
              "      <td>please reroute jobs on printer to printer issu...</td>\n",
              "      <td>received from hi the printer printer is not wo...</td>\n",
              "      <td>yisohglr uvteflgb</td>\n",
              "      <td>GRP_5</td>\n",
              "      <td>en</td>\n",
              "      <td>en</td>\n",
              "      <td>en</td>\n",
              "      <td>en</td>\n",
              "      <td>please reroute jobs on printer01 to printer02 ...</td>\n",
              "      <td>\\n\\nreceived from: yisohglr.uvteflgb@gmail.com...</td>\n",
              "    </tr>\n",
              "    <tr>\n",
              "      <th>4</th>\n",
              "      <td>job job failed in jobscheduler at</td>\n",
              "      <td>received from job job failed in jobscheduler at</td>\n",
              "      <td>bpctwhsn kzqsbmtp</td>\n",
              "      <td>GRP_6</td>\n",
              "      <td>en</td>\n",
              "      <td>en</td>\n",
              "      <td>en</td>\n",
              "      <td>en</td>\n",
              "      <td>job Job_1424 failed in job_scheduler at: 10/31...</td>\n",
              "      <td>received from: monitoring_tool@company.com\\n\\n...</td>\n",
              "    </tr>\n",
              "  </tbody>\n",
              "</table>\n",
              "</div>"
            ],
            "text/plain": [
              "                                   Short description  ...                                       D_translated\n",
              "0  event criticalhostnamecompanycom the value of ...  ...  event: critical:HostName_221.company.com the v...\n",
              "1        when undocking pc screen will not come back  ...      when undocking pc , screen will not come back\n",
              "2                     duplication of network address  ...  \\n\\nreceived from: kxsceyzo.naokumlb@gmail.com...\n",
              "3  please reroute jobs on printer to printer issu...  ...  \\n\\nreceived from: yisohglr.uvteflgb@gmail.com...\n",
              "4                  job job failed in jobscheduler at  ...  received from: monitoring_tool@company.com\\n\\n...\n",
              "\n",
              "[5 rows x 10 columns]"
            ]
          },
          "metadata": {
            "tags": []
          },
          "execution_count": 57
        }
      ]
    },
    {
      "cell_type": "code",
      "metadata": {
        "colab": {
          "base_uri": "https://localhost:8080/"
        },
        "id": "iiFZvzRyTFLJ",
        "outputId": "e0a42c66-b469-419c-d1d5-1f2b5919befd"
      },
      "source": [
        "augmented_data.shape"
      ],
      "execution_count": 58,
      "outputs": [
        {
          "output_type": "execute_result",
          "data": {
            "text/plain": [
              "(37269, 10)"
            ]
          },
          "metadata": {
            "tags": []
          },
          "execution_count": 58
        }
      ]
    },
    {
      "cell_type": "code",
      "metadata": {
        "id": "oObVt4pS9js_"
      },
      "source": [
        "deep_learning_df = \" \"\r\n",
        "if os.path.exists(folder_path + \"/deep_learning_df.pickle\"):\r\n",
        "  deep_learning_df = get_pickle_data(\"deep_learning_df.pickle\")\r\n",
        "else:\r\n",
        "  deep_learning_df = augmented_data[augmented_data[\"Assignment group\"].apply(filter_group_AI)]\r\n",
        "deep_learning_df = deep_learning_df.reset_index()\r\n",
        "deep_learning_df.drop([\"index\"], axis = 1, inplace = True)\r\n",
        "deep_learning_df[\"Description_New\"] = deep_learning_df[\"Short description\"] + deep_learning_df[\"Description\"]\r\n",
        "pickle_dump(deep_learning_df, \"deep_learning_df.pickle\")"
      ],
      "execution_count": 59,
      "outputs": []
    },
    {
      "cell_type": "code",
      "metadata": {
        "colab": {
          "base_uri": "https://localhost:8080/"
        },
        "id": "e_tRlKSc70RL",
        "outputId": "217037a1-640a-45c8-fcb6-46e68e65fb07"
      },
      "source": [
        "deep_learning_df.shape"
      ],
      "execution_count": 60,
      "outputs": [
        {
          "output_type": "execute_result",
          "data": {
            "text/plain": [
              "(37043, 11)"
            ]
          },
          "metadata": {
            "tags": []
          },
          "execution_count": 60
        }
      ]
    },
    {
      "cell_type": "code",
      "metadata": {
        "colab": {
          "base_uri": "https://localhost:8080/"
        },
        "id": "7gyFRP6d719O",
        "outputId": "442e6b6d-d9e9-43b1-f76f-273d1f92824b"
      },
      "source": [
        "augmented_data.shape"
      ],
      "execution_count": 61,
      "outputs": [
        {
          "output_type": "execute_result",
          "data": {
            "text/plain": [
              "(37269, 10)"
            ]
          },
          "metadata": {
            "tags": []
          },
          "execution_count": 61
        }
      ]
    },
    {
      "cell_type": "code",
      "metadata": {
        "colab": {
          "base_uri": "https://localhost:8080/",
          "height": 343
        },
        "id": "e6ZHNucmfuSp",
        "outputId": "a7688dca-9184-4398-9315-2296b82c93b9"
      },
      "source": [
        "stop = stopwords.words('english')\n",
        "augmented_data[\"Description\"] = augmented_data[\"Description\"].apply(lambda x: \" \".join(x for x in str(x).split() if x not in stop))\n",
        "augmented_data[\"Short description\"] = augmented_data[\"Short description\"].apply(lambda x: \" \".join(x for x in str(x).split() if x not in stop))\n",
        "augmented_data['Short description']= augmented_data['Short description'].apply(lambda x: \" \".join([Word(word).lemmatize() for word in str(x).split()]))\n",
        "augmented_data['Description']= augmented_data['Description'].apply(lambda x: \" \".join([Word(word).lemmatize() for word in str(x).split()]))\n",
        "\n",
        "pickle_dump(augmented_data, \"lemmatized_data.pickle\")\n",
        "augmented_data.head()"
      ],
      "execution_count": 62,
      "outputs": [
        {
          "output_type": "execute_result",
          "data": {
            "text/html": [
              "<div>\n",
              "<style scoped>\n",
              "    .dataframe tbody tr th:only-of-type {\n",
              "        vertical-align: middle;\n",
              "    }\n",
              "\n",
              "    .dataframe tbody tr th {\n",
              "        vertical-align: top;\n",
              "    }\n",
              "\n",
              "    .dataframe thead th {\n",
              "        text-align: right;\n",
              "    }\n",
              "</style>\n",
              "<table border=\"1\" class=\"dataframe\">\n",
              "  <thead>\n",
              "    <tr style=\"text-align: right;\">\n",
              "      <th></th>\n",
              "      <th>Short description</th>\n",
              "      <th>Description</th>\n",
              "      <th>Caller</th>\n",
              "      <th>Assignment group</th>\n",
              "      <th>lang_short_desc</th>\n",
              "      <th>lang_desc</th>\n",
              "      <th>SD_translated_lang</th>\n",
              "      <th>D_translated_lang</th>\n",
              "      <th>SD_translated</th>\n",
              "      <th>D_translated</th>\n",
              "    </tr>\n",
              "  </thead>\n",
              "  <tbody>\n",
              "    <tr>\n",
              "      <th>0</th>\n",
              "      <td>event criticalhostnamecompanycom value mountpo...</td>\n",
              "      <td>event criticalhostnamecompanycom value mountpo...</td>\n",
              "      <td>jyoqwxhz clhxsoqy</td>\n",
              "      <td>GRP_1</td>\n",
              "      <td>en</td>\n",
              "      <td>en</td>\n",
              "      <td>en</td>\n",
              "      <td>en</td>\n",
              "      <td>event: critical:HostName_221.company.com the v...</td>\n",
              "      <td>event: critical:HostName_221.company.com the v...</td>\n",
              "    </tr>\n",
              "    <tr>\n",
              "      <th>1</th>\n",
              "      <td>undocking pc screen come back</td>\n",
              "      <td>undocking pc screen come back</td>\n",
              "      <td>sigfdwcj reofwzlm</td>\n",
              "      <td>GRP_3</td>\n",
              "      <td>en</td>\n",
              "      <td>en</td>\n",
              "      <td>en</td>\n",
              "      <td>en</td>\n",
              "      <td>when undocking pc , screen will not come back</td>\n",
              "      <td>when undocking pc , screen will not come back</td>\n",
              "    </tr>\n",
              "    <tr>\n",
              "      <th>2</th>\n",
              "      <td>duplication network address</td>\n",
              "      <td>received gentles two device trying share ip ad...</td>\n",
              "      <td>kxsceyzo naokumlb</td>\n",
              "      <td>GRP_4</td>\n",
              "      <td>en</td>\n",
              "      <td>en</td>\n",
              "      <td>en</td>\n",
              "      <td>en</td>\n",
              "      <td>duplication of network address.</td>\n",
              "      <td>\\n\\nreceived from: kxsceyzo.naokumlb@gmail.com...</td>\n",
              "    </tr>\n",
              "    <tr>\n",
              "      <th>3</th>\n",
              "      <td>please reroute job printer printer issue need ...</td>\n",
              "      <td>received hi printer printer working need part ...</td>\n",
              "      <td>yisohglr uvteflgb</td>\n",
              "      <td>GRP_5</td>\n",
              "      <td>en</td>\n",
              "      <td>en</td>\n",
              "      <td>en</td>\n",
              "      <td>en</td>\n",
              "      <td>please reroute jobs on printer01 to printer02 ...</td>\n",
              "      <td>\\n\\nreceived from: yisohglr.uvteflgb@gmail.com...</td>\n",
              "    </tr>\n",
              "    <tr>\n",
              "      <th>4</th>\n",
              "      <td>job job failed jobscheduler</td>\n",
              "      <td>received job job failed jobscheduler</td>\n",
              "      <td>bpctwhsn kzqsbmtp</td>\n",
              "      <td>GRP_6</td>\n",
              "      <td>en</td>\n",
              "      <td>en</td>\n",
              "      <td>en</td>\n",
              "      <td>en</td>\n",
              "      <td>job Job_1424 failed in job_scheduler at: 10/31...</td>\n",
              "      <td>received from: monitoring_tool@company.com\\n\\n...</td>\n",
              "    </tr>\n",
              "  </tbody>\n",
              "</table>\n",
              "</div>"
            ],
            "text/plain": [
              "                                   Short description  ...                                       D_translated\n",
              "0  event criticalhostnamecompanycom value mountpo...  ...  event: critical:HostName_221.company.com the v...\n",
              "1                      undocking pc screen come back  ...      when undocking pc , screen will not come back\n",
              "2                        duplication network address  ...  \\n\\nreceived from: kxsceyzo.naokumlb@gmail.com...\n",
              "3  please reroute job printer printer issue need ...  ...  \\n\\nreceived from: yisohglr.uvteflgb@gmail.com...\n",
              "4                        job job failed jobscheduler  ...  received from: monitoring_tool@company.com\\n\\n...\n",
              "\n",
              "[5 rows x 10 columns]"
            ]
          },
          "metadata": {
            "tags": []
          },
          "execution_count": 62
        }
      ]
    },
    {
      "cell_type": "code",
      "metadata": {
        "colab": {
          "base_uri": "https://localhost:8080/"
        },
        "id": "IJWPUVRKRuUl",
        "outputId": "10ec854b-9277-4624-bdd6-4d3cdd507dae"
      },
      "source": [
        "ticket_data[\"lang_desc\"].value_counts()"
      ],
      "execution_count": 63,
      "outputs": [
        {
          "output_type": "execute_result",
          "data": {
            "text/plain": [
              "en    7075\n",
              "de     396\n",
              "af     262\n",
              "it     150\n",
              "fr     107\n",
              "no      71\n",
              "ca      66\n",
              "es      62\n",
              "sv      59\n",
              "nl      55\n",
              "pl      31\n",
              "da      30\n",
              "pt      21\n",
              "sl      19\n",
              "ro      14\n",
              "cy      14\n",
              "tl      14\n",
              "sq       9\n",
              "et       7\n",
              "hr       7\n",
              "fi       7\n",
              "so       5\n",
              "id       5\n",
              "lv       4\n",
              "lt       3\n",
              "sk       2\n",
              "cs       2\n",
              "sw       1\n",
              "tr       1\n",
              "vi       1\n",
              "Name: lang_desc, dtype: int64"
            ]
          },
          "metadata": {
            "tags": []
          },
          "execution_count": 63
        }
      ]
    },
    {
      "cell_type": "code",
      "metadata": {
        "colab": {
          "base_uri": "https://localhost:8080/"
        },
        "id": "JAM6-3XM2gIb",
        "outputId": "30e40b08-cddd-465c-fd02-c4983d87b734"
      },
      "source": [
        "ticket_data[\"lang_short_desc\"].value_counts()"
      ],
      "execution_count": 64,
      "outputs": [
        {
          "output_type": "execute_result",
          "data": {
            "text/plain": [
              "en    6032\n",
              "af     508\n",
              "de     404\n",
              "it     279\n",
              "fr     262\n",
              "no     161\n",
              "nl     145\n",
              "ca     120\n",
              "es     104\n",
              "da      90\n",
              "sv      83\n",
              "pl      50\n",
              "ro      38\n",
              "pt      33\n",
              "cy      26\n",
              "sl      25\n",
              "tl      25\n",
              "sq      16\n",
              "sk      14\n",
              "et      14\n",
              "id      14\n",
              "fi      13\n",
              "lv       9\n",
              "cs       8\n",
              "lt       8\n",
              "hr       7\n",
              "so       5\n",
              "vi       4\n",
              "tr       2\n",
              "sw       1\n",
              "Name: lang_short_desc, dtype: int64"
            ]
          },
          "metadata": {
            "tags": []
          },
          "execution_count": 64
        }
      ]
    },
    {
      "cell_type": "code",
      "metadata": {
        "colab": {
          "base_uri": "https://localhost:8080/",
          "height": 410
        },
        "id": "TPPet5FARwpJ",
        "outputId": "4f078f62-781c-44cd-94e3-d8751f60f17b"
      },
      "source": [
        "x = ticket_data[\"lang_desc\"].value_counts()\n",
        "x=x.sort_index()\n",
        "plt.figure(figsize=(10,6))\n",
        "ax= sns.barplot(x.index, x.values, alpha=0.8)\n",
        "plt.title(\"Distribution of text by language\")\n",
        "plt.ylabel('number of records')\n",
        "plt.xlabel('Language')\n",
        "rects = ax.patches\n",
        "labels = x.values\n",
        "for rect, label in zip(rects, labels):\n",
        "    height = rect.get_height()\n",
        "    ax.text(rect.get_x() + rect.get_width()/2, height + 5, label, ha='center', va='bottom')\n",
        "plt.show();"
      ],
      "execution_count": 65,
      "outputs": [
        {
          "output_type": "display_data",
          "data": {
            "image/png": "[encoded data removed]",
            "text/plain": [
              "<Figure size 720x432 with 1 Axes>"
            ]
          },
          "metadata": {
            "tags": []
          }
        }
      ]
    },
    {
      "cell_type": "code",
      "metadata": {
        "colab": {
          "base_uri": "https://localhost:8080/",
          "height": 410
        },
        "id": "nqq0iWIH5bYu",
        "outputId": "a2784799-2ee1-42ff-dedd-f1c0d4cf4daf"
      },
      "source": [
        "x = ticket_data[\"lang_short_desc\"].value_counts()\n",
        "x=x.sort_index()\n",
        "plt.figure(figsize=(10,6))\n",
        "ax= sns.barplot(x.index, x.values, alpha=0.8)\n",
        "plt.title(\"Distribution of text by language\")\n",
        "plt.ylabel('number of records')\n",
        "plt.xlabel('Language')\n",
        "rects = ax.patches\n",
        "labels = x.values\n",
        "for rect, label in zip(rects, labels):\n",
        "    height = rect.get_height()\n",
        "    ax.text(rect.get_x() + rect.get_width()/2, height + 5, label, ha='center', va='bottom')\n",
        "plt.show();"
      ],
      "execution_count": 66,
      "outputs": [
        {
          "output_type": "display_data",
          "data": {
            "image/png": "[encoded data removed]",
            "text/plain": [
              "<Figure size 720x432 with 1 Axes>"
            ]
          },
          "metadata": {
            "tags": []
          }
        }
      ]
    },
    {
      "cell_type": "markdown",
      "metadata": {
        "id": "bOD_SIFgkjk-"
      },
      "source": [
        "## Feature Engineering"
      ]
    },
    {
      "cell_type": "code",
      "metadata": {
        "colab": {
          "base_uri": "https://localhost:8080/"
        },
        "id": "UujZQZVkaq1X",
        "outputId": "9781e6eb-7636-4667-e109-a9acfd67c1aa"
      },
      "source": [
        "augmented_data['Description_New'] = augmented_data['Short description'] + augmented_data['Description']\n",
        "augmented_data['num_wds'] = augmented_data['Description_New'].apply(lambda x: len(x.split()))\n",
        "augmented_data['num_wds'].mean()"
      ],
      "execution_count": 67,
      "outputs": [
        {
          "output_type": "execute_result",
          "data": {
            "text/plain": [
              "24.940835546969332"
            ]
          },
          "metadata": {
            "tags": []
          },
          "execution_count": 67
        }
      ]
    },
    {
      "cell_type": "code",
      "metadata": {
        "colab": {
          "base_uri": "https://localhost:8080/"
        },
        "id": "bQpPVzr9bJYv",
        "outputId": "ad9de793-b36d-4256-b522-1d6f461502c9"
      },
      "source": [
        "print(augmented_data['num_wds'].max())\n",
        "print(augmented_data['num_wds'].min())"
      ],
      "execution_count": 68,
      "outputs": [
        {
          "output_type": "stream",
          "text": [
            "972\n",
            "0\n"
          ],
          "name": "stdout"
        }
      ]
    },
    {
      "cell_type": "code",
      "metadata": {
        "colab": {
          "base_uri": "https://localhost:8080/"
        },
        "id": "BHPc3RWebOhH",
        "outputId": "89fe4cd9-de0a-495b-be0d-3726a47ba57a"
      },
      "source": [
        "len(augmented_data[augmented_data['num_wds']==0])"
      ],
      "execution_count": 69,
      "outputs": [
        {
          "output_type": "execute_result",
          "data": {
            "text/plain": [
              "828"
            ]
          },
          "metadata": {
            "tags": []
          },
          "execution_count": 69
        }
      ]
    },
    {
      "cell_type": "code",
      "metadata": {
        "colab": {
          "base_uri": "https://localhost:8080/"
        },
        "id": "nB7oIhpbbWNW",
        "outputId": "4c4e8d12-0a3f-4071-c2d0-7a86a29e2ab3"
      },
      "source": [
        "augmented_data['uniq_wds'] = augmented_data['Description_New'].str.split().apply(lambda x: len(set(x)))\n",
        "augmented_data['uniq_wds'].head()"
      ],
      "execution_count": 70,
      "outputs": [
        {
          "output_type": "execute_result",
          "data": {
            "text/plain": [
              "0     7\n",
              "1     6\n",
              "2    30\n",
              "3    39\n",
              "4     4\n",
              "Name: uniq_wds, dtype: int64"
            ]
          },
          "metadata": {
            "tags": []
          },
          "execution_count": 70
        }
      ]
    },
    {
      "cell_type": "code",
      "metadata": {
        "colab": {
          "base_uri": "https://localhost:8080/",
          "height": 703
        },
        "id": "lL6DvrJ0bXka",
        "outputId": "919a06b6-a1f2-4f86-eff9-73c2adaa24c8"
      },
      "source": [
        "assign_grps = augmented_data.groupby('Assignment group')\n",
        "ax=assign_grps['num_wds'].aggregate(np.mean).plot(kind='bar', fontsize=14, figsize=(20,10))\n",
        "ax.set_title('Mean Number of Words in tickets per Assignment Group\\n', fontsize=20)\n",
        "ax.set_ylabel('Mean Number of Words', fontsize=18)\n",
        "ax.set_xlabel('Assignment Group', fontsize=18);"
      ],
      "execution_count": 71,
      "outputs": [
        {
          "output_type": "display_data",
          "data": {
            "image/png": "[encoded data removed]",
            "text/plain": [
              "<Figure size 1440x720 with 1 Axes>"
            ]
          },
          "metadata": {
            "tags": []
          }
        }
      ]
    },
    {
      "cell_type": "code",
      "metadata": {
        "colab": {
          "base_uri": "https://localhost:8080/",
          "height": 720
        },
        "id": "f_yL2NJDbpu5",
        "outputId": "a31a0f34-eeef-4aab-bd0d-696f2432bb74"
      },
      "source": [
        "ax=assign_grps['uniq_wds'].aggregate(np.mean).plot(kind='bar', fontsize=14, figsize=(20,10))\n",
        "ax.set_title('Mean Number of Unique Words per tickets in Assignment Group\\n', fontsize=20)\n",
        "ax.set_ylabel('Mean Number of Unique Words', fontsize=18)\n",
        "ax.set_xlabel('Assignment Group', fontsize=18)"
      ],
      "execution_count": 72,
      "outputs": [
        {
          "output_type": "execute_result",
          "data": {
            "text/plain": [
              "Text(0.5, 0, 'Assignment Group')"
            ]
          },
          "metadata": {
            "tags": []
          },
          "execution_count": 72
        },
        {
          "output_type": "display_data",
          "data": {
            "image/png": "[encoded data removed]",
            "text/plain": [
              "<Figure size 1440x720 with 1 Axes>"
            ]
          },
          "metadata": {
            "tags": []
          }
        }
      ]
    },
    {
      "cell_type": "code",
      "metadata": {
        "colab": {
          "base_uri": "https://localhost:8080/"
        },
        "id": "a8zbimaYbvs8",
        "outputId": "e84daabf-aa6d-40bd-c33e-b10b411af8af"
      },
      "source": [
        "word_counts = Counter()\n",
        "for i, row in augmented_data.iterrows():\n",
        "    word_counts.update(row['Description_New'].split())\n",
        "    \n",
        "word_counts.most_common(20)"
      ],
      "execution_count": 73,
      "outputs": [
        {
          "output_type": "execute_result",
          "data": {
            "text/plain": [
              "[('please', 9686),\n",
              " ('job', 7889),\n",
              " ('erp', 6734),\n",
              " ('user', 5775),\n",
              " ('error', 5102),\n",
              " ('access', 5102),\n",
              " ('password', 4510),\n",
              " ('issue', 4237),\n",
              " ('company', 4091),\n",
              " ('failed', 3989),\n",
              " ('e', 3931),\n",
              " ('need', 3923),\n",
              " ('jobscheduler', 3766),\n",
              " ('crm', 3730),\n",
              " ('sid', 3526),\n",
              " ('system', 3426),\n",
              " ('yesnona', 3368),\n",
              " ('email', 3254),\n",
              " ('account', 3200),\n",
              " ('server', 3149)]"
            ]
          },
          "metadata": {
            "tags": []
          },
          "execution_count": 73
        }
      ]
    },
    {
      "cell_type": "code",
      "metadata": {
        "colab": {
          "base_uri": "https://localhost:8080/"
        },
        "id": "lNZokN0Pb2cr",
        "outputId": "1d85e4a1-c3f3-4c6e-924f-7af1ed12bc5e"
      },
      "source": [
        "tokenizer = nltk.tokenize.RegexpTokenizer(r'\\w+')\n",
        "augmented_data['token_desc'] = augmented_data['Description_New'].apply(lambda x: tokenizer.tokenize(x))\n",
        "augmented_data['token_desc'].head()"
      ],
      "execution_count": 74,
      "outputs": [
        {
          "output_type": "execute_result",
          "data": {
            "text/plain": [
              "0    [event, criticalhostnamecompanycom, value, mou...\n",
              "1    [undocking, pc, screen, come, backundocking, p...\n",
              "2    [duplication, network, addressreceived, gentle...\n",
              "3    [please, reroute, job, printer, printer, issue...\n",
              "4    [job, job, failed, jobschedulerreceived, job, ...\n",
              "Name: token_desc, dtype: object"
            ]
          },
          "metadata": {
            "tags": []
          },
          "execution_count": 74
        }
      ]
    },
    {
      "cell_type": "code",
      "metadata": {
        "colab": {
          "base_uri": "https://localhost:8080/",
          "height": 360
        },
        "id": "UB4kGCjFPs0h",
        "outputId": "17764179-5e88-4409-a3c2-d04cc2617f2f"
      },
      "source": [
        "augmented_data.head()"
      ],
      "execution_count": 75,
      "outputs": [
        {
          "output_type": "execute_result",
          "data": {
            "text/html": [
              "<div>\n",
              "<style scoped>\n",
              "    .dataframe tbody tr th:only-of-type {\n",
              "        vertical-align: middle;\n",
              "    }\n",
              "\n",
              "    .dataframe tbody tr th {\n",
              "        vertical-align: top;\n",
              "    }\n",
              "\n",
              "    .dataframe thead th {\n",
              "        text-align: right;\n",
              "    }\n",
              "</style>\n",
              "<table border=\"1\" class=\"dataframe\">\n",
              "  <thead>\n",
              "    <tr style=\"text-align: right;\">\n",
              "      <th></th>\n",
              "      <th>Short description</th>\n",
              "      <th>Description</th>\n",
              "      <th>Caller</th>\n",
              "      <th>Assignment group</th>\n",
              "      <th>lang_short_desc</th>\n",
              "      <th>lang_desc</th>\n",
              "      <th>SD_translated_lang</th>\n",
              "      <th>D_translated_lang</th>\n",
              "      <th>SD_translated</th>\n",
              "      <th>D_translated</th>\n",
              "      <th>Description_New</th>\n",
              "      <th>num_wds</th>\n",
              "      <th>uniq_wds</th>\n",
              "      <th>token_desc</th>\n",
              "    </tr>\n",
              "  </thead>\n",
              "  <tbody>\n",
              "    <tr>\n",
              "      <th>0</th>\n",
              "      <td>event criticalhostnamecompanycom value mountpo...</td>\n",
              "      <td>event criticalhostnamecompanycom value mountpo...</td>\n",
              "      <td>jyoqwxhz clhxsoqy</td>\n",
              "      <td>GRP_1</td>\n",
              "      <td>en</td>\n",
              "      <td>en</td>\n",
              "      <td>en</td>\n",
              "      <td>en</td>\n",
              "      <td>event: critical:HostName_221.company.com the v...</td>\n",
              "      <td>event: critical:HostName_221.company.com the v...</td>\n",
              "      <td>event criticalhostnamecompanycom value mountpo...</td>\n",
              "      <td>11</td>\n",
              "      <td>7</td>\n",
              "      <td>[event, criticalhostnamecompanycom, value, mou...</td>\n",
              "    </tr>\n",
              "    <tr>\n",
              "      <th>1</th>\n",
              "      <td>undocking pc screen come back</td>\n",
              "      <td>undocking pc screen come back</td>\n",
              "      <td>sigfdwcj reofwzlm</td>\n",
              "      <td>GRP_3</td>\n",
              "      <td>en</td>\n",
              "      <td>en</td>\n",
              "      <td>en</td>\n",
              "      <td>en</td>\n",
              "      <td>when undocking pc , screen will not come back</td>\n",
              "      <td>when undocking pc , screen will not come back</td>\n",
              "      <td>undocking pc screen come backundocking pc scre...</td>\n",
              "      <td>9</td>\n",
              "      <td>6</td>\n",
              "      <td>[undocking, pc, screen, come, backundocking, p...</td>\n",
              "    </tr>\n",
              "    <tr>\n",
              "      <th>2</th>\n",
              "      <td>duplication network address</td>\n",
              "      <td>received gentles two device trying share ip ad...</td>\n",
              "      <td>kxsceyzo naokumlb</td>\n",
              "      <td>GRP_4</td>\n",
              "      <td>en</td>\n",
              "      <td>en</td>\n",
              "      <td>en</td>\n",
              "      <td>en</td>\n",
              "      <td>duplication of network address.</td>\n",
              "      <td>\\n\\nreceived from: kxsceyzo.naokumlb@gmail.com...</td>\n",
              "      <td>duplication network addressreceived gentles tw...</td>\n",
              "      <td>41</td>\n",
              "      <td>30</td>\n",
              "      <td>[duplication, network, addressreceived, gentle...</td>\n",
              "    </tr>\n",
              "    <tr>\n",
              "      <th>3</th>\n",
              "      <td>please reroute job printer printer issue need ...</td>\n",
              "      <td>received hi printer printer working need part ...</td>\n",
              "      <td>yisohglr uvteflgb</td>\n",
              "      <td>GRP_5</td>\n",
              "      <td>en</td>\n",
              "      <td>en</td>\n",
              "      <td>en</td>\n",
              "      <td>en</td>\n",
              "      <td>please reroute jobs on printer01 to printer02 ...</td>\n",
              "      <td>\\n\\nreceived from: yisohglr.uvteflgb@gmail.com...</td>\n",
              "      <td>please reroute job printer printer issue need ...</td>\n",
              "      <td>57</td>\n",
              "      <td>39</td>\n",
              "      <td>[please, reroute, job, printer, printer, issue...</td>\n",
              "    </tr>\n",
              "    <tr>\n",
              "      <th>4</th>\n",
              "      <td>job job failed jobscheduler</td>\n",
              "      <td>received job job failed jobscheduler</td>\n",
              "      <td>bpctwhsn kzqsbmtp</td>\n",
              "      <td>GRP_6</td>\n",
              "      <td>en</td>\n",
              "      <td>en</td>\n",
              "      <td>en</td>\n",
              "      <td>en</td>\n",
              "      <td>job Job_1424 failed in job_scheduler at: 10/31...</td>\n",
              "      <td>received from: monitoring_tool@company.com\\n\\n...</td>\n",
              "      <td>job job failed jobschedulerreceived job job fa...</td>\n",
              "      <td>8</td>\n",
              "      <td>4</td>\n",
              "      <td>[job, job, failed, jobschedulerreceived, job, ...</td>\n",
              "    </tr>\n",
              "  </tbody>\n",
              "</table>\n",
              "</div>"
            ],
            "text/plain": [
              "                                   Short description  ...                                         token_desc\n",
              "0  event criticalhostnamecompanycom value mountpo...  ...  [event, criticalhostnamecompanycom, value, mou...\n",
              "1                      undocking pc screen come back  ...  [undocking, pc, screen, come, backundocking, p...\n",
              "2                        duplication network address  ...  [duplication, network, addressreceived, gentle...\n",
              "3  please reroute job printer printer issue need ...  ...  [please, reroute, job, printer, printer, issue...\n",
              "4                        job job failed jobscheduler  ...  [job, job, failed, jobschedulerreceived, job, ...\n",
              "\n",
              "[5 rows x 14 columns]"
            ]
          },
          "metadata": {
            "tags": []
          },
          "execution_count": 75
        }
      ]
    },
    {
      "cell_type": "markdown",
      "metadata": {
        "id": "1Yp9Ky7CkszC"
      },
      "source": [
        "## Splitting the data into rule based and Machine learning based processing"
      ]
    },
    {
      "cell_type": "code",
      "metadata": {
        "id": "MowvH-85eRZj"
      },
      "source": [
        "rule_based_df = \" \"\n",
        "machine_learning_df = \" \"\n",
        "if os.path.exists(folder_path + \"/rule_based_df.pickle\"):\n",
        "  rule_based_df = get_pickle_data(\"rule_based_df.pickle\")\n",
        "else:\n",
        "  rule_based_df = augmented_data[augmented_data[\"Assignment group\"].apply(filter_group_small)]\n",
        "\n",
        "if os.path.exists(folder_path + \"/machine_learning_df.pickle\"):\n",
        "  machine_learning_df = get_pickle_data(\"machine_learning_df.pickle\")\n",
        "else:\n",
        "  machine_learning_df = augmented_data[augmented_data[\"Assignment group\"].apply(filter_group_AI)]"
      ],
      "execution_count": 76,
      "outputs": []
    },
    {
      "cell_type": "code",
      "metadata": {
        "colab": {
          "base_uri": "https://localhost:8080/"
        },
        "id": "wQF9JolH-4vO",
        "outputId": "16145676-341a-4ebf-d6a6-eb7db7b6a79e"
      },
      "source": [
        "machine_learning_df.shape"
      ],
      "execution_count": 77,
      "outputs": [
        {
          "output_type": "execute_result",
          "data": {
            "text/plain": [
              "(37043, 14)"
            ]
          },
          "metadata": {
            "tags": []
          },
          "execution_count": 77
        }
      ]
    },
    {
      "cell_type": "code",
      "metadata": {
        "colab": {
          "base_uri": "https://localhost:8080/"
        },
        "id": "NULUrR0sDKkW",
        "outputId": "d19c1b6a-a579-457c-c67f-8f00afcb6530"
      },
      "source": [
        "deep_learning_df.shape"
      ],
      "execution_count": 78,
      "outputs": [
        {
          "output_type": "execute_result",
          "data": {
            "text/plain": [
              "(37043, 11)"
            ]
          },
          "metadata": {
            "tags": []
          },
          "execution_count": 78
        }
      ]
    },
    {
      "cell_type": "code",
      "metadata": {
        "colab": {
          "base_uri": "https://localhost:8080/"
        },
        "id": "vB3C9dP8-5_X",
        "outputId": "f10e2337-0b7a-472d-f0e5-25ccc0653168"
      },
      "source": [
        "rule_based_df.shape"
      ],
      "execution_count": 79,
      "outputs": [
        {
          "output_type": "execute_result",
          "data": {
            "text/plain": [
              "(226, 14)"
            ]
          },
          "metadata": {
            "tags": []
          },
          "execution_count": 79
        }
      ]
    },
    {
      "cell_type": "code",
      "metadata": {
        "colab": {
          "base_uri": "https://localhost:8080/"
        },
        "id": "vkZG5na-_KG6",
        "outputId": "78b26763-ceb4-459c-943f-67bf7db3cf7b"
      },
      "source": [
        "augmented_data.shape"
      ],
      "execution_count": 80,
      "outputs": [
        {
          "output_type": "execute_result",
          "data": {
            "text/plain": [
              "(37269, 14)"
            ]
          },
          "metadata": {
            "tags": []
          },
          "execution_count": 80
        }
      ]
    },
    {
      "cell_type": "code",
      "metadata": {
        "id": "xq-Wi5u3ltsP"
      },
      "source": [
        "machine_learning_df = machine_learning_df.reset_index()\n",
        "machine_learning_df.drop([\"index\"], axis = 1, inplace = True)\n",
        "rule_based_df = rule_based_df.reset_index()\n",
        "rule_based_df.drop([\"index\"], axis = 1, inplace = True)\n",
        "pickle_dump(rule_based_df, \"rule_based_df.pickle\")\n",
        "pickle_dump(machine_learning_df, \"machine_learning_df.pickle\")"
      ],
      "execution_count": 81,
      "outputs": []
    },
    {
      "cell_type": "code",
      "metadata": {
        "colab": {
          "base_uri": "https://localhost:8080/"
        },
        "id": "TY9_al-Jk-Zw",
        "outputId": "e07d39be-608f-43e7-eb42-4751503a7c31"
      },
      "source": [
        "# build the vocabulary in one pass\n",
        "from string import punctuation\n",
        "from nltk import word_tokenize\n",
        "stop_words = []\n",
        "vocabulary = set()\n",
        "def tokenize(text):\n",
        "    words = word_tokenize(text)\n",
        "    words = [w.lower() for w in words]\n",
        "    return [w for w in words if w not in stop_words and not w.isdigit()]\n",
        "\n",
        "if os.path.exists(folder_path + \"/vocabulary.pickle\"):\n",
        "  vocabulary = get_pickle_data(\"vocabulary.pickle\")\n",
        "else:\n",
        "  stop_words = stopwords.words('english') + list(punctuation)\n",
        "  counter = len(machine_learning_df[\"token_desc\"])\n",
        "  for  i in range(counter):\n",
        "      words = tokenize(str(machine_learning_df[\"Description_New\"][i]))\n",
        "      vocabulary.update(words)\n",
        "\n",
        "  vocabulary = list(vocabulary) \n",
        "VOCABULARY_SIZE = len(vocabulary)\n",
        "  \n",
        "print(VOCABULARY_SIZE)\n",
        "\n",
        "pickle_dump(vocabulary, \"vocabulary.pickle\")"
      ],
      "execution_count": 82,
      "outputs": [
        {
          "output_type": "stream",
          "text": [
            "40911\n"
          ],
          "name": "stdout"
        }
      ]
    },
    {
      "cell_type": "code",
      "metadata": {
        "id": "yjnHe8MtcqhY"
      },
      "source": [
        "from sklearn.feature_extraction.text import TfidfVectorizer\n",
        "tfidf = TfidfVectorizer(stop_words=stop_words, tokenizer=tokenize, max_features = 2000, analyzer = 'word', ngram_range=(1, 2))\n",
        "inc_tfidf = tfidf.fit_transform(machine_learning_df['Description_New'])"
      ],
      "execution_count": 83,
      "outputs": []
    },
    {
      "cell_type": "code",
      "metadata": {
        "colab": {
          "base_uri": "https://localhost:8080/"
        },
        "id": "X8BT-NBWC4rG",
        "outputId": "bad26f7f-4ff5-4b8c-cc0d-1169b196ba2a"
      },
      "source": [
        "inc_tfidf.shape"
      ],
      "execution_count": 84,
      "outputs": [
        {
          "output_type": "execute_result",
          "data": {
            "text/plain": [
              "(37043, 2000)"
            ]
          },
          "metadata": {
            "tags": []
          },
          "execution_count": 84
        }
      ]
    },
    {
      "cell_type": "code",
      "metadata": {
        "id": "2qICPBxaeZ5_",
        "colab": {
          "base_uri": "https://localhost:8080/",
          "height": 52
        },
        "outputId": "f29d9019-7935-4620-8ddd-9bff0b7b9300"
      },
      "source": [
        "#  create a dictionary mapping the tokens to their tfidf values\n",
        "'''tfidf = dict(zip(tfidf.get_feature_names(), tfidf.idf_))\n",
        "tfidf = pd.DataFrame(columns=['tfidf']).from_dict(\n",
        "                    dict(tfidf), orient='index')\n",
        "tfidf.columns = ['tfidf']'''"
      ],
      "execution_count": 85,
      "outputs": [
        {
          "output_type": "execute_result",
          "data": {
            "application/vnd.google.colaboratory.intrinsic+json": {
              "type": "string"
            },
            "text/plain": [
              "\"tfidf = dict(zip(tfidf.get_feature_names(), tfidf.idf_))\\ntfidf = pd.DataFrame(columns=['tfidf']).from_dict(\\n                    dict(tfidf), orient='index')\\ntfidf.columns = ['tfidf']\""
            ]
          },
          "metadata": {
            "tags": []
          },
          "execution_count": 85
        }
      ]
    },
    {
      "cell_type": "markdown",
      "metadata": {
        "id": "6FUa7XbKfF_j"
      },
      "source": [
        "Top 20 Words with highest tfidf score"
      ]
    },
    {
      "cell_type": "code",
      "metadata": {
        "id": "bVdpecgkegAY",
        "colab": {
          "base_uri": "https://localhost:8080/",
          "height": 35
        },
        "outputId": "259434dd-4967-4eae-dcf2-d39f969a3c91"
      },
      "source": [
        "'''tfidf.sort_values(by=['tfidf'], ascending=False).head(20)'''"
      ],
      "execution_count": 86,
      "outputs": [
        {
          "output_type": "execute_result",
          "data": {
            "application/vnd.google.colaboratory.intrinsic+json": {
              "type": "string"
            },
            "text/plain": [
              "\"tfidf.sort_values(by=['tfidf'], ascending=False).head(20)\""
            ]
          },
          "metadata": {
            "tags": []
          },
          "execution_count": 86
        }
      ]
    },
    {
      "cell_type": "markdown",
      "metadata": {
        "id": "l1_YrMRPe_iQ"
      },
      "source": [
        "Bottom 10 words with lowest tfidf score"
      ]
    },
    {
      "cell_type": "code",
      "metadata": {
        "id": "-ad8R1AUeyRC",
        "colab": {
          "base_uri": "https://localhost:8080/",
          "height": 35
        },
        "outputId": "6775ab90-4b8f-4672-d14e-a2363227cf9f"
      },
      "source": [
        "''' tfidf.sort_values(by=['tfidf'], ascending=True).head(10)'''"
      ],
      "execution_count": 87,
      "outputs": [
        {
          "output_type": "execute_result",
          "data": {
            "application/vnd.google.colaboratory.intrinsic+json": {
              "type": "string"
            },
            "text/plain": [
              "\" tfidf.sort_values(by=['tfidf'], ascending=True).head(10)\""
            ]
          },
          "metadata": {
            "tags": []
          },
          "execution_count": 87
        }
      ]
    },
    {
      "cell_type": "markdown",
      "metadata": {
        "id": "50EjwBhbfcNd"
      },
      "source": [
        "Dimentionality Reduction"
      ]
    },
    {
      "cell_type": "code",
      "metadata": {
        "id": "aLm63M-Ue9Xb",
        "colab": {
          "base_uri": "https://localhost:8080/",
          "height": 52
        },
        "outputId": "d4257c69-d9a1-4cc2-acfe-0b1ecd2d90e4"
      },
      "source": [
        "'''from sklearn.decomposition import TruncatedSVD\n",
        "\n",
        "n_comp=10\n",
        "svd = TruncatedSVD(n_components=n_comp, random_state=42)\n",
        "svd_tfidf = svd.fit_transform(inc_tfidf)'''"
      ],
      "execution_count": 88,
      "outputs": [
        {
          "output_type": "execute_result",
          "data": {
            "application/vnd.google.colaboratory.intrinsic+json": {
              "type": "string"
            },
            "text/plain": [
              "'from sklearn.decomposition import TruncatedSVD\\n\\nn_comp=10\\nsvd = TruncatedSVD(n_components=n_comp, random_state=42)\\nsvd_tfidf = svd.fit_transform(inc_tfidf)'"
            ]
          },
          "metadata": {
            "tags": []
          },
          "execution_count": 88
        }
      ]
    },
    {
      "cell_type": "code",
      "metadata": {
        "id": "5HJI2e4GfhP5",
        "colab": {
          "base_uri": "https://localhost:8080/",
          "height": 52
        },
        "outputId": "394b972d-818d-4c9d-9aaf-26de2a4aa462"
      },
      "source": [
        "'''from sklearn.manifold import TSNE\n",
        "tsne_model = TSNE(n_components=2, verbose=1, random_state=42, n_iter=500)\n",
        "tsne_tfidf = tsne_model.fit_transform(svd_tfidf)'''"
      ],
      "execution_count": 89,
      "outputs": [
        {
          "output_type": "execute_result",
          "data": {
            "application/vnd.google.colaboratory.intrinsic+json": {
              "type": "string"
            },
            "text/plain": [
              "'from sklearn.manifold import TSNE\\ntsne_model = TSNE(n_components=2, verbose=1, random_state=42, n_iter=500)\\ntsne_tfidf = tsne_model.fit_transform(svd_tfidf)'"
            ]
          },
          "metadata": {
            "tags": []
          },
          "execution_count": 89
        }
      ]
    },
    {
      "cell_type": "code",
      "metadata": {
        "id": "khxT-AkkfkPs",
        "colab": {
          "base_uri": "https://localhost:8080/",
          "height": 86
        },
        "outputId": "be5b3350-b976-4f45-c75e-f2c44ee15374"
      },
      "source": [
        "'''from sklearn.decomposition import LatentDirichletAllocation\n",
        "from sklearn.feature_extraction.text import CountVectorizer\n",
        "# create count vectorizer first\n",
        "cvectorizer = CountVectorizer(min_df=4, max_features=4000, ngram_range=(1,2))\n",
        "cvz = cvectorizer.fit_transform(machine_learning_df['Description_New'])\n",
        "\n",
        "# generate topic models using Latent Dirichlet Allocation\n",
        "lda_model = LatentDirichletAllocation(n_components=10, learning_method='online', max_iter=20, random_state=42)\n",
        "X_topics = lda_model.fit_transform(cvz)'''"
      ],
      "execution_count": 90,
      "outputs": [
        {
          "output_type": "execute_result",
          "data": {
            "application/vnd.google.colaboratory.intrinsic+json": {
              "type": "string"
            },
            "text/plain": [
              "\"from sklearn.decomposition import LatentDirichletAllocation\\nfrom sklearn.feature_extraction.text import CountVectorizer\\n# create count vectorizer first\\ncvectorizer = CountVectorizer(min_df=4, max_features=4000, ngram_range=(1,2))\\ncvz = cvectorizer.fit_transform(machine_learning_df['Description_New'])\\n\\n# generate topic models using Latent Dirichlet Allocation\\nlda_model = LatentDirichletAllocation(n_components=10, learning_method='online', max_iter=20, random_state=42)\\nX_topics = lda_model.fit_transform(cvz)\""
            ]
          },
          "metadata": {
            "tags": []
          },
          "execution_count": 90
        }
      ]
    },
    {
      "cell_type": "code",
      "metadata": {
        "id": "qoQfTlxJgq6P",
        "colab": {
          "base_uri": "https://localhost:8080/",
          "height": 69
        },
        "outputId": "f785ade0-2f74-43fe-a166-cf17f33984e0"
      },
      "source": [
        "'''n_top_words = 10\n",
        "topic_summaries = []\n",
        "\n",
        "# get topics and topic terms\n",
        "topic_word = lda_model.components_ \n",
        "vocab = cvectorizer.get_feature_names()\n",
        "\n",
        "for i, topic_dist in enumerate(topic_word):\n",
        "    topic_words = np.array(vocab)[np.argsort(topic_dist)][:-(n_top_words+1):-1]\n",
        "    topic_summaries.append(' '.join(topic_words))\n",
        "    print('Topic {}: {}'.format(i, ' | '.join(topic_words)))'''"
      ],
      "execution_count": 91,
      "outputs": [
        {
          "output_type": "execute_result",
          "data": {
            "application/vnd.google.colaboratory.intrinsic+json": {
              "type": "string"
            },
            "text/plain": [
              "\"n_top_words = 10\\ntopic_summaries = []\\n\\n# get topics and topic terms\\ntopic_word = lda_model.components_ \\nvocab = cvectorizer.get_feature_names()\\n\\nfor i, topic_dist in enumerate(topic_word):\\n    topic_words = np.array(vocab)[np.argsort(topic_dist)][:-(n_top_words+1):-1]\\n    topic_summaries.append(' '.join(topic_words))\\n    print('Topic {}: {}'.format(i, ' | '.join(topic_words)))\""
            ]
          },
          "metadata": {
            "tags": []
          },
          "execution_count": 91
        }
      ]
    },
    {
      "cell_type": "code",
      "metadata": {
        "id": "XjbGc-uKhGwM",
        "colab": {
          "base_uri": "https://localhost:8080/"
        },
        "outputId": "bd7a550d-bacd-4a3f-b6a3-82dfaffb4f54"
      },
      "source": [
        "# collect the tfid matrix in numpy array\n",
        "#array = inc_tfidf.todense()\n",
        "array = inc_tfidf.todense()\n",
        "inc_tfidf = None\n",
        "# store the tf-idf array into pandas dataframe\n",
        "df_inc = pd.DataFrame(array)\n",
        "array = None\n",
        "gc.collect()\n",
        "df_inc.head(10)\n",
        "df_inc.shape"
      ],
      "execution_count": 92,
      "outputs": [
        {
          "output_type": "execute_result",
          "data": {
            "text/plain": [
              "(37043, 2000)"
            ]
          },
          "metadata": {
            "tags": []
          },
          "execution_count": 92
        }
      ]
    },
    {
      "cell_type": "code",
      "metadata": {
        "id": "bpPoF3DgdKZX",
        "colab": {
          "base_uri": "https://localhost:8080/",
          "height": 360
        },
        "outputId": "8439324b-57b5-404f-b7bd-e9e28f129a3d"
      },
      "source": [
        "machine_learning_df.head()"
      ],
      "execution_count": 93,
      "outputs": [
        {
          "output_type": "execute_result",
          "data": {
            "text/html": [
              "<div>\n",
              "<style scoped>\n",
              "    .dataframe tbody tr th:only-of-type {\n",
              "        vertical-align: middle;\n",
              "    }\n",
              "\n",
              "    .dataframe tbody tr th {\n",
              "        vertical-align: top;\n",
              "    }\n",
              "\n",
              "    .dataframe thead th {\n",
              "        text-align: right;\n",
              "    }\n",
              "</style>\n",
              "<table border=\"1\" class=\"dataframe\">\n",
              "  <thead>\n",
              "    <tr style=\"text-align: right;\">\n",
              "      <th></th>\n",
              "      <th>Short description</th>\n",
              "      <th>Description</th>\n",
              "      <th>Caller</th>\n",
              "      <th>Assignment group</th>\n",
              "      <th>lang_short_desc</th>\n",
              "      <th>lang_desc</th>\n",
              "      <th>SD_translated_lang</th>\n",
              "      <th>D_translated_lang</th>\n",
              "      <th>SD_translated</th>\n",
              "      <th>D_translated</th>\n",
              "      <th>Description_New</th>\n",
              "      <th>num_wds</th>\n",
              "      <th>uniq_wds</th>\n",
              "      <th>token_desc</th>\n",
              "    </tr>\n",
              "  </thead>\n",
              "  <tbody>\n",
              "    <tr>\n",
              "      <th>0</th>\n",
              "      <td>event criticalhostnamecompanycom value mountpo...</td>\n",
              "      <td>event criticalhostnamecompanycom value mountpo...</td>\n",
              "      <td>jyoqwxhz clhxsoqy</td>\n",
              "      <td>GRP_1</td>\n",
              "      <td>en</td>\n",
              "      <td>en</td>\n",
              "      <td>en</td>\n",
              "      <td>en</td>\n",
              "      <td>event: critical:HostName_221.company.com the v...</td>\n",
              "      <td>event: critical:HostName_221.company.com the v...</td>\n",
              "      <td>event criticalhostnamecompanycom value mountpo...</td>\n",
              "      <td>11</td>\n",
              "      <td>7</td>\n",
              "      <td>[event, criticalhostnamecompanycom, value, mou...</td>\n",
              "    </tr>\n",
              "    <tr>\n",
              "      <th>1</th>\n",
              "      <td>undocking pc screen come back</td>\n",
              "      <td>undocking pc screen come back</td>\n",
              "      <td>sigfdwcj reofwzlm</td>\n",
              "      <td>GRP_3</td>\n",
              "      <td>en</td>\n",
              "      <td>en</td>\n",
              "      <td>en</td>\n",
              "      <td>en</td>\n",
              "      <td>when undocking pc , screen will not come back</td>\n",
              "      <td>when undocking pc , screen will not come back</td>\n",
              "      <td>undocking pc screen come backundocking pc scre...</td>\n",
              "      <td>9</td>\n",
              "      <td>6</td>\n",
              "      <td>[undocking, pc, screen, come, backundocking, p...</td>\n",
              "    </tr>\n",
              "    <tr>\n",
              "      <th>2</th>\n",
              "      <td>duplication network address</td>\n",
              "      <td>received gentles two device trying share ip ad...</td>\n",
              "      <td>kxsceyzo naokumlb</td>\n",
              "      <td>GRP_4</td>\n",
              "      <td>en</td>\n",
              "      <td>en</td>\n",
              "      <td>en</td>\n",
              "      <td>en</td>\n",
              "      <td>duplication of network address.</td>\n",
              "      <td>\\n\\nreceived from: kxsceyzo.naokumlb@gmail.com...</td>\n",
              "      <td>duplication network addressreceived gentles tw...</td>\n",
              "      <td>41</td>\n",
              "      <td>30</td>\n",
              "      <td>[duplication, network, addressreceived, gentle...</td>\n",
              "    </tr>\n",
              "    <tr>\n",
              "      <th>3</th>\n",
              "      <td>please reroute job printer printer issue need ...</td>\n",
              "      <td>received hi printer printer working need part ...</td>\n",
              "      <td>yisohglr uvteflgb</td>\n",
              "      <td>GRP_5</td>\n",
              "      <td>en</td>\n",
              "      <td>en</td>\n",
              "      <td>en</td>\n",
              "      <td>en</td>\n",
              "      <td>please reroute jobs on printer01 to printer02 ...</td>\n",
              "      <td>\\n\\nreceived from: yisohglr.uvteflgb@gmail.com...</td>\n",
              "      <td>please reroute job printer printer issue need ...</td>\n",
              "      <td>57</td>\n",
              "      <td>39</td>\n",
              "      <td>[please, reroute, job, printer, printer, issue...</td>\n",
              "    </tr>\n",
              "    <tr>\n",
              "      <th>4</th>\n",
              "      <td>job job failed jobscheduler</td>\n",
              "      <td>received job job failed jobscheduler</td>\n",
              "      <td>bpctwhsn kzqsbmtp</td>\n",
              "      <td>GRP_6</td>\n",
              "      <td>en</td>\n",
              "      <td>en</td>\n",
              "      <td>en</td>\n",
              "      <td>en</td>\n",
              "      <td>job Job_1424 failed in job_scheduler at: 10/31...</td>\n",
              "      <td>received from: monitoring_tool@company.com\\n\\n...</td>\n",
              "      <td>job job failed jobschedulerreceived job job fa...</td>\n",
              "      <td>8</td>\n",
              "      <td>4</td>\n",
              "      <td>[job, job, failed, jobschedulerreceived, job, ...</td>\n",
              "    </tr>\n",
              "  </tbody>\n",
              "</table>\n",
              "</div>"
            ],
            "text/plain": [
              "                                   Short description  ...                                         token_desc\n",
              "0  event criticalhostnamecompanycom value mountpo...  ...  [event, criticalhostnamecompanycom, value, mou...\n",
              "1                      undocking pc screen come back  ...  [undocking, pc, screen, come, backundocking, p...\n",
              "2                        duplication network address  ...  [duplication, network, addressreceived, gentle...\n",
              "3  please reroute job printer printer issue need ...  ...  [please, reroute, job, printer, printer, issue...\n",
              "4                        job job failed jobscheduler  ...  [job, job, failed, jobschedulerreceived, job, ...\n",
              "\n",
              "[5 rows x 14 columns]"
            ]
          },
          "metadata": {
            "tags": []
          },
          "execution_count": 93
        }
      ]
    },
    {
      "cell_type": "code",
      "metadata": {
        "id": "utccmJi-eKAt"
      },
      "source": [
        "df_inc = df_inc.reset_index()\n",
        "df_inc.drop(['index'],axis=1, inplace = True)"
      ],
      "execution_count": 94,
      "outputs": []
    },
    {
      "cell_type": "code",
      "metadata": {
        "id": "oUdbnqWCWQp0",
        "colab": {
          "base_uri": "https://localhost:8080/",
          "height": 253
        },
        "outputId": "8e1ce92f-e90c-494e-b2dd-7ef44e6c2079"
      },
      "source": [
        "df_inc.head()"
      ],
      "execution_count": 95,
      "outputs": [
        {
          "output_type": "execute_result",
          "data": {
            "text/html": [
              "<div>\n",
              "<style scoped>\n",
              "    .dataframe tbody tr th:only-of-type {\n",
              "        vertical-align: middle;\n",
              "    }\n",
              "\n",
              "    .dataframe tbody tr th {\n",
              "        vertical-align: top;\n",
              "    }\n",
              "\n",
              "    .dataframe thead th {\n",
              "        text-align: right;\n",
              "    }\n",
              "</style>\n",
              "<table border=\"1\" class=\"dataframe\">\n",
              "  <thead>\n",
              "    <tr style=\"text-align: right;\">\n",
              "      <th></th>\n",
              "      <th>0</th>\n",
              "      <th>1</th>\n",
              "      <th>2</th>\n",
              "      <th>3</th>\n",
              "      <th>4</th>\n",
              "      <th>5</th>\n",
              "      <th>6</th>\n",
              "      <th>7</th>\n",
              "      <th>8</th>\n",
              "      <th>9</th>\n",
              "      <th>10</th>\n",
              "      <th>11</th>\n",
              "      <th>12</th>\n",
              "      <th>13</th>\n",
              "      <th>14</th>\n",
              "      <th>15</th>\n",
              "      <th>16</th>\n",
              "      <th>17</th>\n",
              "      <th>18</th>\n",
              "      <th>19</th>\n",
              "      <th>20</th>\n",
              "      <th>21</th>\n",
              "      <th>22</th>\n",
              "      <th>23</th>\n",
              "      <th>24</th>\n",
              "      <th>25</th>\n",
              "      <th>26</th>\n",
              "      <th>27</th>\n",
              "      <th>28</th>\n",
              "      <th>29</th>\n",
              "      <th>30</th>\n",
              "      <th>31</th>\n",
              "      <th>32</th>\n",
              "      <th>33</th>\n",
              "      <th>34</th>\n",
              "      <th>35</th>\n",
              "      <th>36</th>\n",
              "      <th>37</th>\n",
              "      <th>38</th>\n",
              "      <th>39</th>\n",
              "      <th>...</th>\n",
              "      <th>1960</th>\n",
              "      <th>1961</th>\n",
              "      <th>1962</th>\n",
              "      <th>1963</th>\n",
              "      <th>1964</th>\n",
              "      <th>1965</th>\n",
              "      <th>1966</th>\n",
              "      <th>1967</th>\n",
              "      <th>1968</th>\n",
              "      <th>1969</th>\n",
              "      <th>1970</th>\n",
              "      <th>1971</th>\n",
              "      <th>1972</th>\n",
              "      <th>1973</th>\n",
              "      <th>1974</th>\n",
              "      <th>1975</th>\n",
              "      <th>1976</th>\n",
              "      <th>1977</th>\n",
              "      <th>1978</th>\n",
              "      <th>1979</th>\n",
              "      <th>1980</th>\n",
              "      <th>1981</th>\n",
              "      <th>1982</th>\n",
              "      <th>1983</th>\n",
              "      <th>1984</th>\n",
              "      <th>1985</th>\n",
              "      <th>1986</th>\n",
              "      <th>1987</th>\n",
              "      <th>1988</th>\n",
              "      <th>1989</th>\n",
              "      <th>1990</th>\n",
              "      <th>1991</th>\n",
              "      <th>1992</th>\n",
              "      <th>1993</th>\n",
              "      <th>1994</th>\n",
              "      <th>1995</th>\n",
              "      <th>1996</th>\n",
              "      <th>1997</th>\n",
              "      <th>1998</th>\n",
              "      <th>1999</th>\n",
              "    </tr>\n",
              "  </thead>\n",
              "  <tbody>\n",
              "    <tr>\n",
              "      <th>0</th>\n",
              "      <td>0.0</td>\n",
              "      <td>0.0</td>\n",
              "      <td>0.0</td>\n",
              "      <td>0.0</td>\n",
              "      <td>0.0</td>\n",
              "      <td>0.0</td>\n",
              "      <td>0.0</td>\n",
              "      <td>0.0</td>\n",
              "      <td>0.0</td>\n",
              "      <td>0.0</td>\n",
              "      <td>0.0</td>\n",
              "      <td>0.0</td>\n",
              "      <td>0.0</td>\n",
              "      <td>0.0</td>\n",
              "      <td>0.0</td>\n",
              "      <td>0.0</td>\n",
              "      <td>0.0</td>\n",
              "      <td>0.0</td>\n",
              "      <td>0.0</td>\n",
              "      <td>0.0</td>\n",
              "      <td>0.0</td>\n",
              "      <td>0.0</td>\n",
              "      <td>0.0</td>\n",
              "      <td>0.0</td>\n",
              "      <td>0.0</td>\n",
              "      <td>0.0</td>\n",
              "      <td>0.0</td>\n",
              "      <td>0.0</td>\n",
              "      <td>0.0</td>\n",
              "      <td>0.0</td>\n",
              "      <td>0.0</td>\n",
              "      <td>0.0</td>\n",
              "      <td>0.0</td>\n",
              "      <td>0.0</td>\n",
              "      <td>0.0</td>\n",
              "      <td>0.000000</td>\n",
              "      <td>0.0</td>\n",
              "      <td>0.0</td>\n",
              "      <td>0.0</td>\n",
              "      <td>0.0</td>\n",
              "      <td>...</td>\n",
              "      <td>0.0</td>\n",
              "      <td>0.0</td>\n",
              "      <td>0.0</td>\n",
              "      <td>0.0</td>\n",
              "      <td>0.0</td>\n",
              "      <td>0.0</td>\n",
              "      <td>0.0</td>\n",
              "      <td>0.0</td>\n",
              "      <td>0.0</td>\n",
              "      <td>0.0</td>\n",
              "      <td>0.0</td>\n",
              "      <td>0.0</td>\n",
              "      <td>0.0</td>\n",
              "      <td>0.0</td>\n",
              "      <td>0.0</td>\n",
              "      <td>0.0</td>\n",
              "      <td>0.0</td>\n",
              "      <td>0.0</td>\n",
              "      <td>0.0</td>\n",
              "      <td>0.0</td>\n",
              "      <td>0.0</td>\n",
              "      <td>0.0</td>\n",
              "      <td>0.0</td>\n",
              "      <td>0.0</td>\n",
              "      <td>0.0</td>\n",
              "      <td>0.0</td>\n",
              "      <td>0.0</td>\n",
              "      <td>0.0</td>\n",
              "      <td>0.0</td>\n",
              "      <td>0.0</td>\n",
              "      <td>0.0</td>\n",
              "      <td>0.0</td>\n",
              "      <td>0.0</td>\n",
              "      <td>0.0</td>\n",
              "      <td>0.0</td>\n",
              "      <td>0.0</td>\n",
              "      <td>0.0</td>\n",
              "      <td>0.0</td>\n",
              "      <td>0.0</td>\n",
              "      <td>0.0</td>\n",
              "    </tr>\n",
              "    <tr>\n",
              "      <th>1</th>\n",
              "      <td>0.0</td>\n",
              "      <td>0.0</td>\n",
              "      <td>0.0</td>\n",
              "      <td>0.0</td>\n",
              "      <td>0.0</td>\n",
              "      <td>0.0</td>\n",
              "      <td>0.0</td>\n",
              "      <td>0.0</td>\n",
              "      <td>0.0</td>\n",
              "      <td>0.0</td>\n",
              "      <td>0.0</td>\n",
              "      <td>0.0</td>\n",
              "      <td>0.0</td>\n",
              "      <td>0.0</td>\n",
              "      <td>0.0</td>\n",
              "      <td>0.0</td>\n",
              "      <td>0.0</td>\n",
              "      <td>0.0</td>\n",
              "      <td>0.0</td>\n",
              "      <td>0.0</td>\n",
              "      <td>0.0</td>\n",
              "      <td>0.0</td>\n",
              "      <td>0.0</td>\n",
              "      <td>0.0</td>\n",
              "      <td>0.0</td>\n",
              "      <td>0.0</td>\n",
              "      <td>0.0</td>\n",
              "      <td>0.0</td>\n",
              "      <td>0.0</td>\n",
              "      <td>0.0</td>\n",
              "      <td>0.0</td>\n",
              "      <td>0.0</td>\n",
              "      <td>0.0</td>\n",
              "      <td>0.0</td>\n",
              "      <td>0.0</td>\n",
              "      <td>0.000000</td>\n",
              "      <td>0.0</td>\n",
              "      <td>0.0</td>\n",
              "      <td>0.0</td>\n",
              "      <td>0.0</td>\n",
              "      <td>...</td>\n",
              "      <td>0.0</td>\n",
              "      <td>0.0</td>\n",
              "      <td>0.0</td>\n",
              "      <td>0.0</td>\n",
              "      <td>0.0</td>\n",
              "      <td>0.0</td>\n",
              "      <td>0.0</td>\n",
              "      <td>0.0</td>\n",
              "      <td>0.0</td>\n",
              "      <td>0.0</td>\n",
              "      <td>0.0</td>\n",
              "      <td>0.0</td>\n",
              "      <td>0.0</td>\n",
              "      <td>0.0</td>\n",
              "      <td>0.0</td>\n",
              "      <td>0.0</td>\n",
              "      <td>0.0</td>\n",
              "      <td>0.0</td>\n",
              "      <td>0.0</td>\n",
              "      <td>0.0</td>\n",
              "      <td>0.0</td>\n",
              "      <td>0.0</td>\n",
              "      <td>0.0</td>\n",
              "      <td>0.0</td>\n",
              "      <td>0.0</td>\n",
              "      <td>0.0</td>\n",
              "      <td>0.0</td>\n",
              "      <td>0.0</td>\n",
              "      <td>0.0</td>\n",
              "      <td>0.0</td>\n",
              "      <td>0.0</td>\n",
              "      <td>0.0</td>\n",
              "      <td>0.0</td>\n",
              "      <td>0.0</td>\n",
              "      <td>0.0</td>\n",
              "      <td>0.0</td>\n",
              "      <td>0.0</td>\n",
              "      <td>0.0</td>\n",
              "      <td>0.0</td>\n",
              "      <td>0.0</td>\n",
              "    </tr>\n",
              "    <tr>\n",
              "      <th>2</th>\n",
              "      <td>0.0</td>\n",
              "      <td>0.0</td>\n",
              "      <td>0.0</td>\n",
              "      <td>0.0</td>\n",
              "      <td>0.0</td>\n",
              "      <td>0.0</td>\n",
              "      <td>0.0</td>\n",
              "      <td>0.0</td>\n",
              "      <td>0.0</td>\n",
              "      <td>0.0</td>\n",
              "      <td>0.0</td>\n",
              "      <td>0.0</td>\n",
              "      <td>0.0</td>\n",
              "      <td>0.0</td>\n",
              "      <td>0.0</td>\n",
              "      <td>0.0</td>\n",
              "      <td>0.0</td>\n",
              "      <td>0.0</td>\n",
              "      <td>0.0</td>\n",
              "      <td>0.0</td>\n",
              "      <td>0.0</td>\n",
              "      <td>0.0</td>\n",
              "      <td>0.0</td>\n",
              "      <td>0.0</td>\n",
              "      <td>0.0</td>\n",
              "      <td>0.0</td>\n",
              "      <td>0.0</td>\n",
              "      <td>0.0</td>\n",
              "      <td>0.0</td>\n",
              "      <td>0.0</td>\n",
              "      <td>0.0</td>\n",
              "      <td>0.0</td>\n",
              "      <td>0.0</td>\n",
              "      <td>0.0</td>\n",
              "      <td>0.0</td>\n",
              "      <td>0.552744</td>\n",
              "      <td>0.0</td>\n",
              "      <td>0.0</td>\n",
              "      <td>0.0</td>\n",
              "      <td>0.0</td>\n",
              "      <td>...</td>\n",
              "      <td>0.0</td>\n",
              "      <td>0.0</td>\n",
              "      <td>0.0</td>\n",
              "      <td>0.0</td>\n",
              "      <td>0.0</td>\n",
              "      <td>0.0</td>\n",
              "      <td>0.0</td>\n",
              "      <td>0.0</td>\n",
              "      <td>0.0</td>\n",
              "      <td>0.0</td>\n",
              "      <td>0.0</td>\n",
              "      <td>0.0</td>\n",
              "      <td>0.0</td>\n",
              "      <td>0.0</td>\n",
              "      <td>0.0</td>\n",
              "      <td>0.0</td>\n",
              "      <td>0.0</td>\n",
              "      <td>0.0</td>\n",
              "      <td>0.0</td>\n",
              "      <td>0.0</td>\n",
              "      <td>0.0</td>\n",
              "      <td>0.0</td>\n",
              "      <td>0.0</td>\n",
              "      <td>0.0</td>\n",
              "      <td>0.0</td>\n",
              "      <td>0.0</td>\n",
              "      <td>0.0</td>\n",
              "      <td>0.0</td>\n",
              "      <td>0.0</td>\n",
              "      <td>0.0</td>\n",
              "      <td>0.0</td>\n",
              "      <td>0.0</td>\n",
              "      <td>0.0</td>\n",
              "      <td>0.0</td>\n",
              "      <td>0.0</td>\n",
              "      <td>0.0</td>\n",
              "      <td>0.0</td>\n",
              "      <td>0.0</td>\n",
              "      <td>0.0</td>\n",
              "      <td>0.0</td>\n",
              "    </tr>\n",
              "    <tr>\n",
              "      <th>3</th>\n",
              "      <td>0.0</td>\n",
              "      <td>0.0</td>\n",
              "      <td>0.0</td>\n",
              "      <td>0.0</td>\n",
              "      <td>0.0</td>\n",
              "      <td>0.0</td>\n",
              "      <td>0.0</td>\n",
              "      <td>0.0</td>\n",
              "      <td>0.0</td>\n",
              "      <td>0.0</td>\n",
              "      <td>0.0</td>\n",
              "      <td>0.0</td>\n",
              "      <td>0.0</td>\n",
              "      <td>0.0</td>\n",
              "      <td>0.0</td>\n",
              "      <td>0.0</td>\n",
              "      <td>0.0</td>\n",
              "      <td>0.0</td>\n",
              "      <td>0.0</td>\n",
              "      <td>0.0</td>\n",
              "      <td>0.0</td>\n",
              "      <td>0.0</td>\n",
              "      <td>0.0</td>\n",
              "      <td>0.0</td>\n",
              "      <td>0.0</td>\n",
              "      <td>0.0</td>\n",
              "      <td>0.0</td>\n",
              "      <td>0.0</td>\n",
              "      <td>0.0</td>\n",
              "      <td>0.0</td>\n",
              "      <td>0.0</td>\n",
              "      <td>0.0</td>\n",
              "      <td>0.0</td>\n",
              "      <td>0.0</td>\n",
              "      <td>0.0</td>\n",
              "      <td>0.000000</td>\n",
              "      <td>0.0</td>\n",
              "      <td>0.0</td>\n",
              "      <td>0.0</td>\n",
              "      <td>0.0</td>\n",
              "      <td>...</td>\n",
              "      <td>0.0</td>\n",
              "      <td>0.0</td>\n",
              "      <td>0.0</td>\n",
              "      <td>0.0</td>\n",
              "      <td>0.0</td>\n",
              "      <td>0.0</td>\n",
              "      <td>0.0</td>\n",
              "      <td>0.0</td>\n",
              "      <td>0.0</td>\n",
              "      <td>0.0</td>\n",
              "      <td>0.0</td>\n",
              "      <td>0.0</td>\n",
              "      <td>0.0</td>\n",
              "      <td>0.0</td>\n",
              "      <td>0.0</td>\n",
              "      <td>0.0</td>\n",
              "      <td>0.0</td>\n",
              "      <td>0.0</td>\n",
              "      <td>0.0</td>\n",
              "      <td>0.0</td>\n",
              "      <td>0.0</td>\n",
              "      <td>0.0</td>\n",
              "      <td>0.0</td>\n",
              "      <td>0.0</td>\n",
              "      <td>0.0</td>\n",
              "      <td>0.0</td>\n",
              "      <td>0.0</td>\n",
              "      <td>0.0</td>\n",
              "      <td>0.0</td>\n",
              "      <td>0.0</td>\n",
              "      <td>0.0</td>\n",
              "      <td>0.0</td>\n",
              "      <td>0.0</td>\n",
              "      <td>0.0</td>\n",
              "      <td>0.0</td>\n",
              "      <td>0.0</td>\n",
              "      <td>0.0</td>\n",
              "      <td>0.0</td>\n",
              "      <td>0.0</td>\n",
              "      <td>0.0</td>\n",
              "    </tr>\n",
              "    <tr>\n",
              "      <th>4</th>\n",
              "      <td>0.0</td>\n",
              "      <td>0.0</td>\n",
              "      <td>0.0</td>\n",
              "      <td>0.0</td>\n",
              "      <td>0.0</td>\n",
              "      <td>0.0</td>\n",
              "      <td>0.0</td>\n",
              "      <td>0.0</td>\n",
              "      <td>0.0</td>\n",
              "      <td>0.0</td>\n",
              "      <td>0.0</td>\n",
              "      <td>0.0</td>\n",
              "      <td>0.0</td>\n",
              "      <td>0.0</td>\n",
              "      <td>0.0</td>\n",
              "      <td>0.0</td>\n",
              "      <td>0.0</td>\n",
              "      <td>0.0</td>\n",
              "      <td>0.0</td>\n",
              "      <td>0.0</td>\n",
              "      <td>0.0</td>\n",
              "      <td>0.0</td>\n",
              "      <td>0.0</td>\n",
              "      <td>0.0</td>\n",
              "      <td>0.0</td>\n",
              "      <td>0.0</td>\n",
              "      <td>0.0</td>\n",
              "      <td>0.0</td>\n",
              "      <td>0.0</td>\n",
              "      <td>0.0</td>\n",
              "      <td>0.0</td>\n",
              "      <td>0.0</td>\n",
              "      <td>0.0</td>\n",
              "      <td>0.0</td>\n",
              "      <td>0.0</td>\n",
              "      <td>0.000000</td>\n",
              "      <td>0.0</td>\n",
              "      <td>0.0</td>\n",
              "      <td>0.0</td>\n",
              "      <td>0.0</td>\n",
              "      <td>...</td>\n",
              "      <td>0.0</td>\n",
              "      <td>0.0</td>\n",
              "      <td>0.0</td>\n",
              "      <td>0.0</td>\n",
              "      <td>0.0</td>\n",
              "      <td>0.0</td>\n",
              "      <td>0.0</td>\n",
              "      <td>0.0</td>\n",
              "      <td>0.0</td>\n",
              "      <td>0.0</td>\n",
              "      <td>0.0</td>\n",
              "      <td>0.0</td>\n",
              "      <td>0.0</td>\n",
              "      <td>0.0</td>\n",
              "      <td>0.0</td>\n",
              "      <td>0.0</td>\n",
              "      <td>0.0</td>\n",
              "      <td>0.0</td>\n",
              "      <td>0.0</td>\n",
              "      <td>0.0</td>\n",
              "      <td>0.0</td>\n",
              "      <td>0.0</td>\n",
              "      <td>0.0</td>\n",
              "      <td>0.0</td>\n",
              "      <td>0.0</td>\n",
              "      <td>0.0</td>\n",
              "      <td>0.0</td>\n",
              "      <td>0.0</td>\n",
              "      <td>0.0</td>\n",
              "      <td>0.0</td>\n",
              "      <td>0.0</td>\n",
              "      <td>0.0</td>\n",
              "      <td>0.0</td>\n",
              "      <td>0.0</td>\n",
              "      <td>0.0</td>\n",
              "      <td>0.0</td>\n",
              "      <td>0.0</td>\n",
              "      <td>0.0</td>\n",
              "      <td>0.0</td>\n",
              "      <td>0.0</td>\n",
              "    </tr>\n",
              "  </tbody>\n",
              "</table>\n",
              "<p>5 rows × 2000 columns</p>\n",
              "</div>"
            ],
            "text/plain": [
              "   0     1     2     3     4     5     ...  1994  1995  1996  1997  1998  1999\n",
              "0   0.0   0.0   0.0   0.0   0.0   0.0  ...   0.0   0.0   0.0   0.0   0.0   0.0\n",
              "1   0.0   0.0   0.0   0.0   0.0   0.0  ...   0.0   0.0   0.0   0.0   0.0   0.0\n",
              "2   0.0   0.0   0.0   0.0   0.0   0.0  ...   0.0   0.0   0.0   0.0   0.0   0.0\n",
              "3   0.0   0.0   0.0   0.0   0.0   0.0  ...   0.0   0.0   0.0   0.0   0.0   0.0\n",
              "4   0.0   0.0   0.0   0.0   0.0   0.0  ...   0.0   0.0   0.0   0.0   0.0   0.0\n",
              "\n",
              "[5 rows x 2000 columns]"
            ]
          },
          "metadata": {
            "tags": []
          },
          "execution_count": 95
        }
      ]
    },
    {
      "cell_type": "code",
      "metadata": {
        "id": "3FCYJ1U-LE0r",
        "colab": {
          "base_uri": "https://localhost:8080/",
          "height": 69
        },
        "outputId": "ce623df9-d1df-4916-9f4a-ba37f27be2fd"
      },
      "source": [
        "'''from sklearn.preprocessing import MinMaxScaler\r\n",
        "min_max_scaler = MinMaxScaler()\r\n",
        "new_features_df = machine_learning_df[[\"num_wds\",\"uniq_wds\"]]\r\n",
        "new_features_scaled = min_max_scaler.fit_transform(new_features_df)\r\n",
        "col_names = new_features_df.columns\r\n",
        "new_features_df = pd.DataFrame(new_features_scaled, columns = col_names)'''"
      ],
      "execution_count": 96,
      "outputs": [
        {
          "output_type": "execute_result",
          "data": {
            "application/vnd.google.colaboratory.intrinsic+json": {
              "type": "string"
            },
            "text/plain": [
              "'from sklearn.preprocessing import MinMaxScaler\\nmin_max_scaler = MinMaxScaler()\\nnew_features_df = machine_learning_df[[\"num_wds\",\"uniq_wds\"]]\\nnew_features_scaled = min_max_scaler.fit_transform(new_features_df)\\ncol_names = new_features_df.columns\\nnew_features_df = pd.DataFrame(new_features_scaled, columns = col_names)'"
            ]
          },
          "metadata": {
            "tags": []
          },
          "execution_count": 96
        }
      ]
    },
    {
      "cell_type": "code",
      "metadata": {
        "id": "sg8LFwTZMJPw"
      },
      "source": [
        "#new_features_df"
      ],
      "execution_count": 97,
      "outputs": []
    },
    {
      "cell_type": "code",
      "metadata": {
        "id": "hXoW-f7nhRAS",
        "colab": {
          "base_uri": "https://localhost:8080/",
          "height": 270
        },
        "outputId": "fbb3de2c-5c1b-48c7-ca5c-7b6d776cf64c"
      },
      "source": [
        "#df_inc['num_wds']= new_features_df['num_wds']\n",
        "#df_inc['uniq_wds']= new_features_df['uniq_wds']\n",
        "df_inc['Assignment group']= machine_learning_df['Assignment group']\n",
        "df_inc.head()"
      ],
      "execution_count": 98,
      "outputs": [
        {
          "output_type": "execute_result",
          "data": {
            "text/html": [
              "<div>\n",
              "<style scoped>\n",
              "    .dataframe tbody tr th:only-of-type {\n",
              "        vertical-align: middle;\n",
              "    }\n",
              "\n",
              "    .dataframe tbody tr th {\n",
              "        vertical-align: top;\n",
              "    }\n",
              "\n",
              "    .dataframe thead th {\n",
              "        text-align: right;\n",
              "    }\n",
              "</style>\n",
              "<table border=\"1\" class=\"dataframe\">\n",
              "  <thead>\n",
              "    <tr style=\"text-align: right;\">\n",
              "      <th></th>\n",
              "      <th>0</th>\n",
              "      <th>1</th>\n",
              "      <th>2</th>\n",
              "      <th>3</th>\n",
              "      <th>4</th>\n",
              "      <th>5</th>\n",
              "      <th>6</th>\n",
              "      <th>7</th>\n",
              "      <th>8</th>\n",
              "      <th>9</th>\n",
              "      <th>10</th>\n",
              "      <th>11</th>\n",
              "      <th>12</th>\n",
              "      <th>13</th>\n",
              "      <th>14</th>\n",
              "      <th>15</th>\n",
              "      <th>16</th>\n",
              "      <th>17</th>\n",
              "      <th>18</th>\n",
              "      <th>19</th>\n",
              "      <th>20</th>\n",
              "      <th>21</th>\n",
              "      <th>22</th>\n",
              "      <th>23</th>\n",
              "      <th>24</th>\n",
              "      <th>25</th>\n",
              "      <th>26</th>\n",
              "      <th>27</th>\n",
              "      <th>28</th>\n",
              "      <th>29</th>\n",
              "      <th>30</th>\n",
              "      <th>31</th>\n",
              "      <th>32</th>\n",
              "      <th>33</th>\n",
              "      <th>34</th>\n",
              "      <th>35</th>\n",
              "      <th>36</th>\n",
              "      <th>37</th>\n",
              "      <th>38</th>\n",
              "      <th>39</th>\n",
              "      <th>...</th>\n",
              "      <th>1961</th>\n",
              "      <th>1962</th>\n",
              "      <th>1963</th>\n",
              "      <th>1964</th>\n",
              "      <th>1965</th>\n",
              "      <th>1966</th>\n",
              "      <th>1967</th>\n",
              "      <th>1968</th>\n",
              "      <th>1969</th>\n",
              "      <th>1970</th>\n",
              "      <th>1971</th>\n",
              "      <th>1972</th>\n",
              "      <th>1973</th>\n",
              "      <th>1974</th>\n",
              "      <th>1975</th>\n",
              "      <th>1976</th>\n",
              "      <th>1977</th>\n",
              "      <th>1978</th>\n",
              "      <th>1979</th>\n",
              "      <th>1980</th>\n",
              "      <th>1981</th>\n",
              "      <th>1982</th>\n",
              "      <th>1983</th>\n",
              "      <th>1984</th>\n",
              "      <th>1985</th>\n",
              "      <th>1986</th>\n",
              "      <th>1987</th>\n",
              "      <th>1988</th>\n",
              "      <th>1989</th>\n",
              "      <th>1990</th>\n",
              "      <th>1991</th>\n",
              "      <th>1992</th>\n",
              "      <th>1993</th>\n",
              "      <th>1994</th>\n",
              "      <th>1995</th>\n",
              "      <th>1996</th>\n",
              "      <th>1997</th>\n",
              "      <th>1998</th>\n",
              "      <th>1999</th>\n",
              "      <th>Assignment group</th>\n",
              "    </tr>\n",
              "  </thead>\n",
              "  <tbody>\n",
              "    <tr>\n",
              "      <th>0</th>\n",
              "      <td>0.0</td>\n",
              "      <td>0.0</td>\n",
              "      <td>0.0</td>\n",
              "      <td>0.0</td>\n",
              "      <td>0.0</td>\n",
              "      <td>0.0</td>\n",
              "      <td>0.0</td>\n",
              "      <td>0.0</td>\n",
              "      <td>0.0</td>\n",
              "      <td>0.0</td>\n",
              "      <td>0.0</td>\n",
              "      <td>0.0</td>\n",
              "      <td>0.0</td>\n",
              "      <td>0.0</td>\n",
              "      <td>0.0</td>\n",
              "      <td>0.0</td>\n",
              "      <td>0.0</td>\n",
              "      <td>0.0</td>\n",
              "      <td>0.0</td>\n",
              "      <td>0.0</td>\n",
              "      <td>0.0</td>\n",
              "      <td>0.0</td>\n",
              "      <td>0.0</td>\n",
              "      <td>0.0</td>\n",
              "      <td>0.0</td>\n",
              "      <td>0.0</td>\n",
              "      <td>0.0</td>\n",
              "      <td>0.0</td>\n",
              "      <td>0.0</td>\n",
              "      <td>0.0</td>\n",
              "      <td>0.0</td>\n",
              "      <td>0.0</td>\n",
              "      <td>0.0</td>\n",
              "      <td>0.0</td>\n",
              "      <td>0.0</td>\n",
              "      <td>0.000000</td>\n",
              "      <td>0.0</td>\n",
              "      <td>0.0</td>\n",
              "      <td>0.0</td>\n",
              "      <td>0.0</td>\n",
              "      <td>...</td>\n",
              "      <td>0.0</td>\n",
              "      <td>0.0</td>\n",
              "      <td>0.0</td>\n",
              "      <td>0.0</td>\n",
              "      <td>0.0</td>\n",
              "      <td>0.0</td>\n",
              "      <td>0.0</td>\n",
              "      <td>0.0</td>\n",
              "      <td>0.0</td>\n",
              "      <td>0.0</td>\n",
              "      <td>0.0</td>\n",
              "      <td>0.0</td>\n",
              "      <td>0.0</td>\n",
              "      <td>0.0</td>\n",
              "      <td>0.0</td>\n",
              "      <td>0.0</td>\n",
              "      <td>0.0</td>\n",
              "      <td>0.0</td>\n",
              "      <td>0.0</td>\n",
              "      <td>0.0</td>\n",
              "      <td>0.0</td>\n",
              "      <td>0.0</td>\n",
              "      <td>0.0</td>\n",
              "      <td>0.0</td>\n",
              "      <td>0.0</td>\n",
              "      <td>0.0</td>\n",
              "      <td>0.0</td>\n",
              "      <td>0.0</td>\n",
              "      <td>0.0</td>\n",
              "      <td>0.0</td>\n",
              "      <td>0.0</td>\n",
              "      <td>0.0</td>\n",
              "      <td>0.0</td>\n",
              "      <td>0.0</td>\n",
              "      <td>0.0</td>\n",
              "      <td>0.0</td>\n",
              "      <td>0.0</td>\n",
              "      <td>0.0</td>\n",
              "      <td>0.0</td>\n",
              "      <td>GRP_1</td>\n",
              "    </tr>\n",
              "    <tr>\n",
              "      <th>1</th>\n",
              "      <td>0.0</td>\n",
              "      <td>0.0</td>\n",
              "      <td>0.0</td>\n",
              "      <td>0.0</td>\n",
              "      <td>0.0</td>\n",
              "      <td>0.0</td>\n",
              "      <td>0.0</td>\n",
              "      <td>0.0</td>\n",
              "      <td>0.0</td>\n",
              "      <td>0.0</td>\n",
              "      <td>0.0</td>\n",
              "      <td>0.0</td>\n",
              "      <td>0.0</td>\n",
              "      <td>0.0</td>\n",
              "      <td>0.0</td>\n",
              "      <td>0.0</td>\n",
              "      <td>0.0</td>\n",
              "      <td>0.0</td>\n",
              "      <td>0.0</td>\n",
              "      <td>0.0</td>\n",
              "      <td>0.0</td>\n",
              "      <td>0.0</td>\n",
              "      <td>0.0</td>\n",
              "      <td>0.0</td>\n",
              "      <td>0.0</td>\n",
              "      <td>0.0</td>\n",
              "      <td>0.0</td>\n",
              "      <td>0.0</td>\n",
              "      <td>0.0</td>\n",
              "      <td>0.0</td>\n",
              "      <td>0.0</td>\n",
              "      <td>0.0</td>\n",
              "      <td>0.0</td>\n",
              "      <td>0.0</td>\n",
              "      <td>0.0</td>\n",
              "      <td>0.000000</td>\n",
              "      <td>0.0</td>\n",
              "      <td>0.0</td>\n",
              "      <td>0.0</td>\n",
              "      <td>0.0</td>\n",
              "      <td>...</td>\n",
              "      <td>0.0</td>\n",
              "      <td>0.0</td>\n",
              "      <td>0.0</td>\n",
              "      <td>0.0</td>\n",
              "      <td>0.0</td>\n",
              "      <td>0.0</td>\n",
              "      <td>0.0</td>\n",
              "      <td>0.0</td>\n",
              "      <td>0.0</td>\n",
              "      <td>0.0</td>\n",
              "      <td>0.0</td>\n",
              "      <td>0.0</td>\n",
              "      <td>0.0</td>\n",
              "      <td>0.0</td>\n",
              "      <td>0.0</td>\n",
              "      <td>0.0</td>\n",
              "      <td>0.0</td>\n",
              "      <td>0.0</td>\n",
              "      <td>0.0</td>\n",
              "      <td>0.0</td>\n",
              "      <td>0.0</td>\n",
              "      <td>0.0</td>\n",
              "      <td>0.0</td>\n",
              "      <td>0.0</td>\n",
              "      <td>0.0</td>\n",
              "      <td>0.0</td>\n",
              "      <td>0.0</td>\n",
              "      <td>0.0</td>\n",
              "      <td>0.0</td>\n",
              "      <td>0.0</td>\n",
              "      <td>0.0</td>\n",
              "      <td>0.0</td>\n",
              "      <td>0.0</td>\n",
              "      <td>0.0</td>\n",
              "      <td>0.0</td>\n",
              "      <td>0.0</td>\n",
              "      <td>0.0</td>\n",
              "      <td>0.0</td>\n",
              "      <td>0.0</td>\n",
              "      <td>GRP_3</td>\n",
              "    </tr>\n",
              "    <tr>\n",
              "      <th>2</th>\n",
              "      <td>0.0</td>\n",
              "      <td>0.0</td>\n",
              "      <td>0.0</td>\n",
              "      <td>0.0</td>\n",
              "      <td>0.0</td>\n",
              "      <td>0.0</td>\n",
              "      <td>0.0</td>\n",
              "      <td>0.0</td>\n",
              "      <td>0.0</td>\n",
              "      <td>0.0</td>\n",
              "      <td>0.0</td>\n",
              "      <td>0.0</td>\n",
              "      <td>0.0</td>\n",
              "      <td>0.0</td>\n",
              "      <td>0.0</td>\n",
              "      <td>0.0</td>\n",
              "      <td>0.0</td>\n",
              "      <td>0.0</td>\n",
              "      <td>0.0</td>\n",
              "      <td>0.0</td>\n",
              "      <td>0.0</td>\n",
              "      <td>0.0</td>\n",
              "      <td>0.0</td>\n",
              "      <td>0.0</td>\n",
              "      <td>0.0</td>\n",
              "      <td>0.0</td>\n",
              "      <td>0.0</td>\n",
              "      <td>0.0</td>\n",
              "      <td>0.0</td>\n",
              "      <td>0.0</td>\n",
              "      <td>0.0</td>\n",
              "      <td>0.0</td>\n",
              "      <td>0.0</td>\n",
              "      <td>0.0</td>\n",
              "      <td>0.0</td>\n",
              "      <td>0.552744</td>\n",
              "      <td>0.0</td>\n",
              "      <td>0.0</td>\n",
              "      <td>0.0</td>\n",
              "      <td>0.0</td>\n",
              "      <td>...</td>\n",
              "      <td>0.0</td>\n",
              "      <td>0.0</td>\n",
              "      <td>0.0</td>\n",
              "      <td>0.0</td>\n",
              "      <td>0.0</td>\n",
              "      <td>0.0</td>\n",
              "      <td>0.0</td>\n",
              "      <td>0.0</td>\n",
              "      <td>0.0</td>\n",
              "      <td>0.0</td>\n",
              "      <td>0.0</td>\n",
              "      <td>0.0</td>\n",
              "      <td>0.0</td>\n",
              "      <td>0.0</td>\n",
              "      <td>0.0</td>\n",
              "      <td>0.0</td>\n",
              "      <td>0.0</td>\n",
              "      <td>0.0</td>\n",
              "      <td>0.0</td>\n",
              "      <td>0.0</td>\n",
              "      <td>0.0</td>\n",
              "      <td>0.0</td>\n",
              "      <td>0.0</td>\n",
              "      <td>0.0</td>\n",
              "      <td>0.0</td>\n",
              "      <td>0.0</td>\n",
              "      <td>0.0</td>\n",
              "      <td>0.0</td>\n",
              "      <td>0.0</td>\n",
              "      <td>0.0</td>\n",
              "      <td>0.0</td>\n",
              "      <td>0.0</td>\n",
              "      <td>0.0</td>\n",
              "      <td>0.0</td>\n",
              "      <td>0.0</td>\n",
              "      <td>0.0</td>\n",
              "      <td>0.0</td>\n",
              "      <td>0.0</td>\n",
              "      <td>0.0</td>\n",
              "      <td>GRP_4</td>\n",
              "    </tr>\n",
              "    <tr>\n",
              "      <th>3</th>\n",
              "      <td>0.0</td>\n",
              "      <td>0.0</td>\n",
              "      <td>0.0</td>\n",
              "      <td>0.0</td>\n",
              "      <td>0.0</td>\n",
              "      <td>0.0</td>\n",
              "      <td>0.0</td>\n",
              "      <td>0.0</td>\n",
              "      <td>0.0</td>\n",
              "      <td>0.0</td>\n",
              "      <td>0.0</td>\n",
              "      <td>0.0</td>\n",
              "      <td>0.0</td>\n",
              "      <td>0.0</td>\n",
              "      <td>0.0</td>\n",
              "      <td>0.0</td>\n",
              "      <td>0.0</td>\n",
              "      <td>0.0</td>\n",
              "      <td>0.0</td>\n",
              "      <td>0.0</td>\n",
              "      <td>0.0</td>\n",
              "      <td>0.0</td>\n",
              "      <td>0.0</td>\n",
              "      <td>0.0</td>\n",
              "      <td>0.0</td>\n",
              "      <td>0.0</td>\n",
              "      <td>0.0</td>\n",
              "      <td>0.0</td>\n",
              "      <td>0.0</td>\n",
              "      <td>0.0</td>\n",
              "      <td>0.0</td>\n",
              "      <td>0.0</td>\n",
              "      <td>0.0</td>\n",
              "      <td>0.0</td>\n",
              "      <td>0.0</td>\n",
              "      <td>0.000000</td>\n",
              "      <td>0.0</td>\n",
              "      <td>0.0</td>\n",
              "      <td>0.0</td>\n",
              "      <td>0.0</td>\n",
              "      <td>...</td>\n",
              "      <td>0.0</td>\n",
              "      <td>0.0</td>\n",
              "      <td>0.0</td>\n",
              "      <td>0.0</td>\n",
              "      <td>0.0</td>\n",
              "      <td>0.0</td>\n",
              "      <td>0.0</td>\n",
              "      <td>0.0</td>\n",
              "      <td>0.0</td>\n",
              "      <td>0.0</td>\n",
              "      <td>0.0</td>\n",
              "      <td>0.0</td>\n",
              "      <td>0.0</td>\n",
              "      <td>0.0</td>\n",
              "      <td>0.0</td>\n",
              "      <td>0.0</td>\n",
              "      <td>0.0</td>\n",
              "      <td>0.0</td>\n",
              "      <td>0.0</td>\n",
              "      <td>0.0</td>\n",
              "      <td>0.0</td>\n",
              "      <td>0.0</td>\n",
              "      <td>0.0</td>\n",
              "      <td>0.0</td>\n",
              "      <td>0.0</td>\n",
              "      <td>0.0</td>\n",
              "      <td>0.0</td>\n",
              "      <td>0.0</td>\n",
              "      <td>0.0</td>\n",
              "      <td>0.0</td>\n",
              "      <td>0.0</td>\n",
              "      <td>0.0</td>\n",
              "      <td>0.0</td>\n",
              "      <td>0.0</td>\n",
              "      <td>0.0</td>\n",
              "      <td>0.0</td>\n",
              "      <td>0.0</td>\n",
              "      <td>0.0</td>\n",
              "      <td>0.0</td>\n",
              "      <td>GRP_5</td>\n",
              "    </tr>\n",
              "    <tr>\n",
              "      <th>4</th>\n",
              "      <td>0.0</td>\n",
              "      <td>0.0</td>\n",
              "      <td>0.0</td>\n",
              "      <td>0.0</td>\n",
              "      <td>0.0</td>\n",
              "      <td>0.0</td>\n",
              "      <td>0.0</td>\n",
              "      <td>0.0</td>\n",
              "      <td>0.0</td>\n",
              "      <td>0.0</td>\n",
              "      <td>0.0</td>\n",
              "      <td>0.0</td>\n",
              "      <td>0.0</td>\n",
              "      <td>0.0</td>\n",
              "      <td>0.0</td>\n",
              "      <td>0.0</td>\n",
              "      <td>0.0</td>\n",
              "      <td>0.0</td>\n",
              "      <td>0.0</td>\n",
              "      <td>0.0</td>\n",
              "      <td>0.0</td>\n",
              "      <td>0.0</td>\n",
              "      <td>0.0</td>\n",
              "      <td>0.0</td>\n",
              "      <td>0.0</td>\n",
              "      <td>0.0</td>\n",
              "      <td>0.0</td>\n",
              "      <td>0.0</td>\n",
              "      <td>0.0</td>\n",
              "      <td>0.0</td>\n",
              "      <td>0.0</td>\n",
              "      <td>0.0</td>\n",
              "      <td>0.0</td>\n",
              "      <td>0.0</td>\n",
              "      <td>0.0</td>\n",
              "      <td>0.000000</td>\n",
              "      <td>0.0</td>\n",
              "      <td>0.0</td>\n",
              "      <td>0.0</td>\n",
              "      <td>0.0</td>\n",
              "      <td>...</td>\n",
              "      <td>0.0</td>\n",
              "      <td>0.0</td>\n",
              "      <td>0.0</td>\n",
              "      <td>0.0</td>\n",
              "      <td>0.0</td>\n",
              "      <td>0.0</td>\n",
              "      <td>0.0</td>\n",
              "      <td>0.0</td>\n",
              "      <td>0.0</td>\n",
              "      <td>0.0</td>\n",
              "      <td>0.0</td>\n",
              "      <td>0.0</td>\n",
              "      <td>0.0</td>\n",
              "      <td>0.0</td>\n",
              "      <td>0.0</td>\n",
              "      <td>0.0</td>\n",
              "      <td>0.0</td>\n",
              "      <td>0.0</td>\n",
              "      <td>0.0</td>\n",
              "      <td>0.0</td>\n",
              "      <td>0.0</td>\n",
              "      <td>0.0</td>\n",
              "      <td>0.0</td>\n",
              "      <td>0.0</td>\n",
              "      <td>0.0</td>\n",
              "      <td>0.0</td>\n",
              "      <td>0.0</td>\n",
              "      <td>0.0</td>\n",
              "      <td>0.0</td>\n",
              "      <td>0.0</td>\n",
              "      <td>0.0</td>\n",
              "      <td>0.0</td>\n",
              "      <td>0.0</td>\n",
              "      <td>0.0</td>\n",
              "      <td>0.0</td>\n",
              "      <td>0.0</td>\n",
              "      <td>0.0</td>\n",
              "      <td>0.0</td>\n",
              "      <td>0.0</td>\n",
              "      <td>GRP_6</td>\n",
              "    </tr>\n",
              "  </tbody>\n",
              "</table>\n",
              "<p>5 rows × 2001 columns</p>\n",
              "</div>"
            ],
            "text/plain": [
              "     0    1    2    3    4    5  ...  1995  1996  1997  1998  1999  Assignment group\n",
              "0  0.0  0.0  0.0  0.0  0.0  0.0  ...   0.0   0.0   0.0   0.0   0.0             GRP_1\n",
              "1  0.0  0.0  0.0  0.0  0.0  0.0  ...   0.0   0.0   0.0   0.0   0.0             GRP_3\n",
              "2  0.0  0.0  0.0  0.0  0.0  0.0  ...   0.0   0.0   0.0   0.0   0.0             GRP_4\n",
              "3  0.0  0.0  0.0  0.0  0.0  0.0  ...   0.0   0.0   0.0   0.0   0.0             GRP_5\n",
              "4  0.0  0.0  0.0  0.0  0.0  0.0  ...   0.0   0.0   0.0   0.0   0.0             GRP_6\n",
              "\n",
              "[5 rows x 2001 columns]"
            ]
          },
          "metadata": {
            "tags": []
          },
          "execution_count": 98
        }
      ]
    },
    {
      "cell_type": "code",
      "metadata": {
        "id": "6it1AKw1hWR0"
      },
      "source": [
        "features = df_inc.columns.tolist()\n",
        "output = 'Assignment group'\n",
        "# removing the output and the id from features\n",
        "features.remove(output)"
      ],
      "execution_count": 99,
      "outputs": []
    },
    {
      "cell_type": "code",
      "metadata": {
        "id": "_RNgXjehhY3b"
      },
      "source": [
        "df_inc_sample = df_inc[df_inc['Assignment group'].map(df_inc['Assignment group'].value_counts()) > 100]"
      ],
      "execution_count": 100,
      "outputs": []
    },
    {
      "cell_type": "code",
      "metadata": {
        "id": "poRLhWf2h2b2"
      },
      "source": [
        "def multiclass_logloss(actual, predicted, eps=1e-15):\n",
        "    \"\"\"Multi class version of Logarithmic Loss metric.\n",
        "    :param actual: Array containing the actual target classes\n",
        "    :param predicted: Matrix with class predictions, one probability per class\n",
        "    \"\"\"\n",
        "    # Convert 'actual' to a binary array if it's not already:\n",
        "    if len(actual.shape) == 1:\n",
        "        actual2 = np.zeros((actual.shape[0], predicted.shape[1]))\n",
        "        for i, val in enumerate(actual):\n",
        "            actual2[i, val] = 1\n",
        "        actual = actual2\n",
        "\n",
        "    clip = np.clip(predicted, eps, 1 - eps)\n",
        "    rows = actual.shape[0]\n",
        "    vsota = np.sum(actual * np.log(clip))\n",
        "    return -1.0 / rows * vsota"
      ],
      "execution_count": 101,
      "outputs": []
    },
    {
      "cell_type": "code",
      "metadata": {
        "id": "wIXX7g2Qh8C0",
        "colab": {
          "base_uri": "https://localhost:8080/",
          "height": 250
        },
        "outputId": "9435dfbb-9f10-4efd-d30f-f0980a55fd71"
      },
      "source": [
        "non_eng_text=machine_learning_df.loc[machine_learning_df['Caller']==\"gusyjcer lvbxfimr\"]\n",
        "non_eng_text"
      ],
      "execution_count": 102,
      "outputs": [
        {
          "output_type": "execute_result",
          "data": {
            "text/html": [
              "<div>\n",
              "<style scoped>\n",
              "    .dataframe tbody tr th:only-of-type {\n",
              "        vertical-align: middle;\n",
              "    }\n",
              "\n",
              "    .dataframe tbody tr th {\n",
              "        vertical-align: top;\n",
              "    }\n",
              "\n",
              "    .dataframe thead th {\n",
              "        text-align: right;\n",
              "    }\n",
              "</style>\n",
              "<table border=\"1\" class=\"dataframe\">\n",
              "  <thead>\n",
              "    <tr style=\"text-align: right;\">\n",
              "      <th></th>\n",
              "      <th>Short description</th>\n",
              "      <th>Description</th>\n",
              "      <th>Caller</th>\n",
              "      <th>Assignment group</th>\n",
              "      <th>lang_short_desc</th>\n",
              "      <th>lang_desc</th>\n",
              "      <th>SD_translated_lang</th>\n",
              "      <th>D_translated_lang</th>\n",
              "      <th>SD_translated</th>\n",
              "      <th>D_translated</th>\n",
              "      <th>Description_New</th>\n",
              "      <th>num_wds</th>\n",
              "      <th>uniq_wds</th>\n",
              "      <th>token_desc</th>\n",
              "    </tr>\n",
              "  </thead>\n",
              "  <tbody>\n",
              "    <tr>\n",
              "      <th>36638</th>\n",
              "      <td>aenderungsantrag kann nicht geloescht werden</td>\n",
              "      <td>aenderungsantrag kann nicht geloescht werden</td>\n",
              "      <td>gusyjcer lvbxfimr</td>\n",
              "      <td>GRP_0</td>\n",
              "      <td>de</td>\n",
              "      <td>de</td>\n",
              "      <td>en</td>\n",
              "      <td>en</td>\n",
              "      <td>Change request cannot be deleted.</td>\n",
              "      <td>Change request cannot be deleted.</td>\n",
              "      <td>aenderungsantrag kann nicht geloescht werdenae...</td>\n",
              "      <td>9</td>\n",
              "      <td>6</td>\n",
              "      <td>[aenderungsantrag, kann, nicht, geloescht, wer...</td>\n",
              "    </tr>\n",
              "    <tr>\n",
              "      <th>36639</th>\n",
              "      <td>net weaver business client work</td>\n",
              "      <td>net weaver business client work error m net fr...</td>\n",
              "      <td>gusyjcer lvbxfimr</td>\n",
              "      <td>GRP_0</td>\n",
              "      <td>af</td>\n",
              "      <td>af</td>\n",
              "      <td>en</td>\n",
              "      <td>en</td>\n",
              "      <td>netweaver business client does not work.</td>\n",
              "      <td>net weaver business client does not work.\\nerr...</td>\n",
              "      <td>net weaver business client worknet weaver busi...</td>\n",
              "      <td>13</td>\n",
              "      <td>9</td>\n",
              "      <td>[net, weaver, business, client, worknet, weave...</td>\n",
              "    </tr>\n",
              "  </tbody>\n",
              "</table>\n",
              "</div>"
            ],
            "text/plain": [
              "                                  Short description  ...                                         token_desc\n",
              "36638  aenderungsantrag kann nicht geloescht werden  ...  [aenderungsantrag, kann, nicht, geloescht, wer...\n",
              "36639               net weaver business client work  ...  [net, weaver, business, client, worknet, weave...\n",
              "\n",
              "[2 rows x 14 columns]"
            ]
          },
          "metadata": {
            "tags": []
          },
          "execution_count": 102
        }
      ]
    },
    {
      "cell_type": "code",
      "metadata": {
        "id": "ef_LNUa0gDOQ",
        "colab": {
          "base_uri": "https://localhost:8080/"
        },
        "outputId": "16268727-e2ef-4603-ce0e-7fc6707f1fcf"
      },
      "source": [
        "Func_group = df_inc['Assignment group'].unique()\r\n",
        "Func_group"
      ],
      "execution_count": 103,
      "outputs": [
        {
          "output_type": "execute_result",
          "data": {
            "text/plain": [
              "array(['GRP_1', 'GRP_3', 'GRP_4', 'GRP_5', 'GRP_6', 'GRP_7', 'GRP_8',\n",
              "       'GRP_9', 'GRP_10', 'GRP_11', 'GRP_12', 'GRP_13', 'GRP_14',\n",
              "       'GRP_15', 'GRP_16', 'GRP_17', 'GRP_18', 'GRP_19', 'GRP_2',\n",
              "       'GRP_20', 'GRP_21', 'GRP_22', 'GRP_23', 'GRP_24', 'GRP_25',\n",
              "       'GRP_26', 'GRP_28', 'GRP_29', 'GRP_30', 'GRP_31', 'GRP_33',\n",
              "       'GRP_34', 'GRP_40', 'GRP_41', 'GRP_42', 'GRP_45', 'GRP_47',\n",
              "       'GRP_48', 'GRP_62', 'GRP_0'], dtype=object)"
            ]
          },
          "metadata": {
            "tags": []
          },
          "execution_count": 103
        }
      ]
    },
    {
      "cell_type": "code",
      "metadata": {
        "id": "ZUqWq17QfRW0"
      },
      "source": [
        "replaceStruct = {\r\n",
        "                \"Assignment group\":{\r\n",
        "                \"GRP_0\":0, \"GRP_1\":1, \"GRP_3\":3, \"GRP_4\":4, \"GRP_5\":5, \"GRP_6\":6, \"GRP_7\":7,\r\n",
        "                \"GRP_8\":8, \"GRP_9\":9, \"GRP_10\":10, \"GRP_11\":11, \"GRP_12\":12, \"GRP_13\":13, \"GRP_14\":14,\r\n",
        "                \"GRP_15\":15, \"GRP_16\":16, \"GRP_17\":17, \"GRP_18\":18, \"GRP_19\":19, \"GRP_2\":2,\r\n",
        "                \"GRP_20\":20, \"GRP_21\":21, \"GRP_22\":22, \"GRP_23\":23, \"GRP_24\":24, \"GRP_25\":25,\r\n",
        "                \"GRP_26\":26, \"GRP_27\":27, \"GRP_28\":28, \"GRP_29\":29, \"GRP_30\":30, \"GRP_31\":31,\r\n",
        "                \"GRP_33\":33, \"GRP_34\":34, \"GRP_35\":35, \"GRP_36\":36, \"GRP_37\":37, \"GRP_38\":38,\r\n",
        "                \"GRP_39\":39, \"GRP_40\":40, \"GRP_41\":41, \"GRP_42\":42, \"GRP_43\":43, \"GRP_44\":44,\r\n",
        "                \"GRP_45\":45, \"GRP_46\":46, \"GRP_47\":47, \"GRP_48\":48, \"GRP_49\":49, \"GRP_50\":50,\r\n",
        "                \"GRP_51\":51, \"GRP_52\":52, \"GRP_53\":53, \"GRP_54\":54, \"GRP_55\":55, \"GRP_56\":56,\r\n",
        "                \"GRP_57\":57, \"GRP_58\":58, \"GRP_59\":59, \"GRP_60\":60, \"GRP_61\":61, \"GRP_32\":32,\r\n",
        "                \"GRP_62\":62, \"GRP_63\":63, \"GRP_64\":64, \"GRP_65\":65, \"GRP_66\":66, \"GRP_67\":67,\r\n",
        "                \"GRP_68\":68, \"GRP_69\":69, \"GRP_70\":70, \"GRP_71\":71, \"GRP_72\":72, \"GRP_73\":73}          \r\n",
        "                 } "
      ],
      "execution_count": 104,
      "outputs": []
    },
    {
      "cell_type": "code",
      "metadata": {
        "colab": {
          "base_uri": "https://localhost:8080/",
          "height": 425
        },
        "id": "Lrgc7vEEfUgz",
        "outputId": "41deaae0-a01b-4336-a41a-9aa96985fde2"
      },
      "source": [
        "df_inc_target=df_inc.replace(replaceStruct)\r\n",
        "df_inc_target.head(10)"
      ],
      "execution_count": 105,
      "outputs": [
        {
          "output_type": "execute_result",
          "data": {
            "text/html": [
              "<div>\n",
              "<style scoped>\n",
              "    .dataframe tbody tr th:only-of-type {\n",
              "        vertical-align: middle;\n",
              "    }\n",
              "\n",
              "    .dataframe tbody tr th {\n",
              "        vertical-align: top;\n",
              "    }\n",
              "\n",
              "    .dataframe thead th {\n",
              "        text-align: right;\n",
              "    }\n",
              "</style>\n",
              "<table border=\"1\" class=\"dataframe\">\n",
              "  <thead>\n",
              "    <tr style=\"text-align: right;\">\n",
              "      <th></th>\n",
              "      <th>0</th>\n",
              "      <th>1</th>\n",
              "      <th>2</th>\n",
              "      <th>3</th>\n",
              "      <th>4</th>\n",
              "      <th>5</th>\n",
              "      <th>6</th>\n",
              "      <th>7</th>\n",
              "      <th>8</th>\n",
              "      <th>9</th>\n",
              "      <th>10</th>\n",
              "      <th>11</th>\n",
              "      <th>12</th>\n",
              "      <th>13</th>\n",
              "      <th>14</th>\n",
              "      <th>15</th>\n",
              "      <th>16</th>\n",
              "      <th>17</th>\n",
              "      <th>18</th>\n",
              "      <th>19</th>\n",
              "      <th>20</th>\n",
              "      <th>21</th>\n",
              "      <th>22</th>\n",
              "      <th>23</th>\n",
              "      <th>24</th>\n",
              "      <th>25</th>\n",
              "      <th>26</th>\n",
              "      <th>27</th>\n",
              "      <th>28</th>\n",
              "      <th>29</th>\n",
              "      <th>30</th>\n",
              "      <th>31</th>\n",
              "      <th>32</th>\n",
              "      <th>33</th>\n",
              "      <th>34</th>\n",
              "      <th>35</th>\n",
              "      <th>36</th>\n",
              "      <th>37</th>\n",
              "      <th>38</th>\n",
              "      <th>39</th>\n",
              "      <th>...</th>\n",
              "      <th>1961</th>\n",
              "      <th>1962</th>\n",
              "      <th>1963</th>\n",
              "      <th>1964</th>\n",
              "      <th>1965</th>\n",
              "      <th>1966</th>\n",
              "      <th>1967</th>\n",
              "      <th>1968</th>\n",
              "      <th>1969</th>\n",
              "      <th>1970</th>\n",
              "      <th>1971</th>\n",
              "      <th>1972</th>\n",
              "      <th>1973</th>\n",
              "      <th>1974</th>\n",
              "      <th>1975</th>\n",
              "      <th>1976</th>\n",
              "      <th>1977</th>\n",
              "      <th>1978</th>\n",
              "      <th>1979</th>\n",
              "      <th>1980</th>\n",
              "      <th>1981</th>\n",
              "      <th>1982</th>\n",
              "      <th>1983</th>\n",
              "      <th>1984</th>\n",
              "      <th>1985</th>\n",
              "      <th>1986</th>\n",
              "      <th>1987</th>\n",
              "      <th>1988</th>\n",
              "      <th>1989</th>\n",
              "      <th>1990</th>\n",
              "      <th>1991</th>\n",
              "      <th>1992</th>\n",
              "      <th>1993</th>\n",
              "      <th>1994</th>\n",
              "      <th>1995</th>\n",
              "      <th>1996</th>\n",
              "      <th>1997</th>\n",
              "      <th>1998</th>\n",
              "      <th>1999</th>\n",
              "      <th>Assignment group</th>\n",
              "    </tr>\n",
              "  </thead>\n",
              "  <tbody>\n",
              "    <tr>\n",
              "      <th>0</th>\n",
              "      <td>0.0</td>\n",
              "      <td>0.0</td>\n",
              "      <td>0.0</td>\n",
              "      <td>0.0</td>\n",
              "      <td>0.0</td>\n",
              "      <td>0.0</td>\n",
              "      <td>0.0</td>\n",
              "      <td>0.0</td>\n",
              "      <td>0.0</td>\n",
              "      <td>0.0</td>\n",
              "      <td>0.0</td>\n",
              "      <td>0.0</td>\n",
              "      <td>0.0</td>\n",
              "      <td>0.0</td>\n",
              "      <td>0.0</td>\n",
              "      <td>0.0</td>\n",
              "      <td>0.0</td>\n",
              "      <td>0.0</td>\n",
              "      <td>0.0</td>\n",
              "      <td>0.0</td>\n",
              "      <td>0.0</td>\n",
              "      <td>0.0</td>\n",
              "      <td>0.0</td>\n",
              "      <td>0.0</td>\n",
              "      <td>0.0</td>\n",
              "      <td>0.0</td>\n",
              "      <td>0.0</td>\n",
              "      <td>0.0</td>\n",
              "      <td>0.0</td>\n",
              "      <td>0.0</td>\n",
              "      <td>0.0</td>\n",
              "      <td>0.0</td>\n",
              "      <td>0.0</td>\n",
              "      <td>0.0</td>\n",
              "      <td>0.0</td>\n",
              "      <td>0.000000</td>\n",
              "      <td>0.0</td>\n",
              "      <td>0.0</td>\n",
              "      <td>0.0</td>\n",
              "      <td>0.0</td>\n",
              "      <td>...</td>\n",
              "      <td>0.0</td>\n",
              "      <td>0.0</td>\n",
              "      <td>0.0</td>\n",
              "      <td>0.0</td>\n",
              "      <td>0.0</td>\n",
              "      <td>0.0</td>\n",
              "      <td>0.0</td>\n",
              "      <td>0.0</td>\n",
              "      <td>0.0</td>\n",
              "      <td>0.0</td>\n",
              "      <td>0.0</td>\n",
              "      <td>0.0</td>\n",
              "      <td>0.0</td>\n",
              "      <td>0.0</td>\n",
              "      <td>0.0</td>\n",
              "      <td>0.0</td>\n",
              "      <td>0.0</td>\n",
              "      <td>0.0</td>\n",
              "      <td>0.0</td>\n",
              "      <td>0.0</td>\n",
              "      <td>0.0</td>\n",
              "      <td>0.0</td>\n",
              "      <td>0.0</td>\n",
              "      <td>0.0</td>\n",
              "      <td>0.0</td>\n",
              "      <td>0.0</td>\n",
              "      <td>0.0</td>\n",
              "      <td>0.0</td>\n",
              "      <td>0.0</td>\n",
              "      <td>0.0</td>\n",
              "      <td>0.0</td>\n",
              "      <td>0.0</td>\n",
              "      <td>0.0</td>\n",
              "      <td>0.0</td>\n",
              "      <td>0.0</td>\n",
              "      <td>0.0</td>\n",
              "      <td>0.0</td>\n",
              "      <td>0.0</td>\n",
              "      <td>0.0</td>\n",
              "      <td>1</td>\n",
              "    </tr>\n",
              "    <tr>\n",
              "      <th>1</th>\n",
              "      <td>0.0</td>\n",
              "      <td>0.0</td>\n",
              "      <td>0.0</td>\n",
              "      <td>0.0</td>\n",
              "      <td>0.0</td>\n",
              "      <td>0.0</td>\n",
              "      <td>0.0</td>\n",
              "      <td>0.0</td>\n",
              "      <td>0.0</td>\n",
              "      <td>0.0</td>\n",
              "      <td>0.0</td>\n",
              "      <td>0.0</td>\n",
              "      <td>0.0</td>\n",
              "      <td>0.0</td>\n",
              "      <td>0.0</td>\n",
              "      <td>0.0</td>\n",
              "      <td>0.0</td>\n",
              "      <td>0.0</td>\n",
              "      <td>0.0</td>\n",
              "      <td>0.0</td>\n",
              "      <td>0.0</td>\n",
              "      <td>0.0</td>\n",
              "      <td>0.0</td>\n",
              "      <td>0.0</td>\n",
              "      <td>0.0</td>\n",
              "      <td>0.0</td>\n",
              "      <td>0.0</td>\n",
              "      <td>0.0</td>\n",
              "      <td>0.0</td>\n",
              "      <td>0.0</td>\n",
              "      <td>0.0</td>\n",
              "      <td>0.0</td>\n",
              "      <td>0.0</td>\n",
              "      <td>0.0</td>\n",
              "      <td>0.0</td>\n",
              "      <td>0.000000</td>\n",
              "      <td>0.0</td>\n",
              "      <td>0.0</td>\n",
              "      <td>0.0</td>\n",
              "      <td>0.0</td>\n",
              "      <td>...</td>\n",
              "      <td>0.0</td>\n",
              "      <td>0.0</td>\n",
              "      <td>0.0</td>\n",
              "      <td>0.0</td>\n",
              "      <td>0.0</td>\n",
              "      <td>0.0</td>\n",
              "      <td>0.0</td>\n",
              "      <td>0.0</td>\n",
              "      <td>0.0</td>\n",
              "      <td>0.0</td>\n",
              "      <td>0.0</td>\n",
              "      <td>0.0</td>\n",
              "      <td>0.0</td>\n",
              "      <td>0.0</td>\n",
              "      <td>0.0</td>\n",
              "      <td>0.0</td>\n",
              "      <td>0.0</td>\n",
              "      <td>0.0</td>\n",
              "      <td>0.0</td>\n",
              "      <td>0.0</td>\n",
              "      <td>0.0</td>\n",
              "      <td>0.0</td>\n",
              "      <td>0.0</td>\n",
              "      <td>0.0</td>\n",
              "      <td>0.0</td>\n",
              "      <td>0.0</td>\n",
              "      <td>0.0</td>\n",
              "      <td>0.0</td>\n",
              "      <td>0.0</td>\n",
              "      <td>0.0</td>\n",
              "      <td>0.0</td>\n",
              "      <td>0.0</td>\n",
              "      <td>0.0</td>\n",
              "      <td>0.0</td>\n",
              "      <td>0.0</td>\n",
              "      <td>0.0</td>\n",
              "      <td>0.0</td>\n",
              "      <td>0.0</td>\n",
              "      <td>0.0</td>\n",
              "      <td>3</td>\n",
              "    </tr>\n",
              "    <tr>\n",
              "      <th>2</th>\n",
              "      <td>0.0</td>\n",
              "      <td>0.0</td>\n",
              "      <td>0.0</td>\n",
              "      <td>0.0</td>\n",
              "      <td>0.0</td>\n",
              "      <td>0.0</td>\n",
              "      <td>0.0</td>\n",
              "      <td>0.0</td>\n",
              "      <td>0.0</td>\n",
              "      <td>0.0</td>\n",
              "      <td>0.0</td>\n",
              "      <td>0.0</td>\n",
              "      <td>0.0</td>\n",
              "      <td>0.0</td>\n",
              "      <td>0.0</td>\n",
              "      <td>0.0</td>\n",
              "      <td>0.0</td>\n",
              "      <td>0.0</td>\n",
              "      <td>0.0</td>\n",
              "      <td>0.0</td>\n",
              "      <td>0.0</td>\n",
              "      <td>0.0</td>\n",
              "      <td>0.0</td>\n",
              "      <td>0.0</td>\n",
              "      <td>0.0</td>\n",
              "      <td>0.0</td>\n",
              "      <td>0.0</td>\n",
              "      <td>0.0</td>\n",
              "      <td>0.0</td>\n",
              "      <td>0.0</td>\n",
              "      <td>0.0</td>\n",
              "      <td>0.0</td>\n",
              "      <td>0.0</td>\n",
              "      <td>0.0</td>\n",
              "      <td>0.0</td>\n",
              "      <td>0.552744</td>\n",
              "      <td>0.0</td>\n",
              "      <td>0.0</td>\n",
              "      <td>0.0</td>\n",
              "      <td>0.0</td>\n",
              "      <td>...</td>\n",
              "      <td>0.0</td>\n",
              "      <td>0.0</td>\n",
              "      <td>0.0</td>\n",
              "      <td>0.0</td>\n",
              "      <td>0.0</td>\n",
              "      <td>0.0</td>\n",
              "      <td>0.0</td>\n",
              "      <td>0.0</td>\n",
              "      <td>0.0</td>\n",
              "      <td>0.0</td>\n",
              "      <td>0.0</td>\n",
              "      <td>0.0</td>\n",
              "      <td>0.0</td>\n",
              "      <td>0.0</td>\n",
              "      <td>0.0</td>\n",
              "      <td>0.0</td>\n",
              "      <td>0.0</td>\n",
              "      <td>0.0</td>\n",
              "      <td>0.0</td>\n",
              "      <td>0.0</td>\n",
              "      <td>0.0</td>\n",
              "      <td>0.0</td>\n",
              "      <td>0.0</td>\n",
              "      <td>0.0</td>\n",
              "      <td>0.0</td>\n",
              "      <td>0.0</td>\n",
              "      <td>0.0</td>\n",
              "      <td>0.0</td>\n",
              "      <td>0.0</td>\n",
              "      <td>0.0</td>\n",
              "      <td>0.0</td>\n",
              "      <td>0.0</td>\n",
              "      <td>0.0</td>\n",
              "      <td>0.0</td>\n",
              "      <td>0.0</td>\n",
              "      <td>0.0</td>\n",
              "      <td>0.0</td>\n",
              "      <td>0.0</td>\n",
              "      <td>0.0</td>\n",
              "      <td>4</td>\n",
              "    </tr>\n",
              "    <tr>\n",
              "      <th>3</th>\n",
              "      <td>0.0</td>\n",
              "      <td>0.0</td>\n",
              "      <td>0.0</td>\n",
              "      <td>0.0</td>\n",
              "      <td>0.0</td>\n",
              "      <td>0.0</td>\n",
              "      <td>0.0</td>\n",
              "      <td>0.0</td>\n",
              "      <td>0.0</td>\n",
              "      <td>0.0</td>\n",
              "      <td>0.0</td>\n",
              "      <td>0.0</td>\n",
              "      <td>0.0</td>\n",
              "      <td>0.0</td>\n",
              "      <td>0.0</td>\n",
              "      <td>0.0</td>\n",
              "      <td>0.0</td>\n",
              "      <td>0.0</td>\n",
              "      <td>0.0</td>\n",
              "      <td>0.0</td>\n",
              "      <td>0.0</td>\n",
              "      <td>0.0</td>\n",
              "      <td>0.0</td>\n",
              "      <td>0.0</td>\n",
              "      <td>0.0</td>\n",
              "      <td>0.0</td>\n",
              "      <td>0.0</td>\n",
              "      <td>0.0</td>\n",
              "      <td>0.0</td>\n",
              "      <td>0.0</td>\n",
              "      <td>0.0</td>\n",
              "      <td>0.0</td>\n",
              "      <td>0.0</td>\n",
              "      <td>0.0</td>\n",
              "      <td>0.0</td>\n",
              "      <td>0.000000</td>\n",
              "      <td>0.0</td>\n",
              "      <td>0.0</td>\n",
              "      <td>0.0</td>\n",
              "      <td>0.0</td>\n",
              "      <td>...</td>\n",
              "      <td>0.0</td>\n",
              "      <td>0.0</td>\n",
              "      <td>0.0</td>\n",
              "      <td>0.0</td>\n",
              "      <td>0.0</td>\n",
              "      <td>0.0</td>\n",
              "      <td>0.0</td>\n",
              "      <td>0.0</td>\n",
              "      <td>0.0</td>\n",
              "      <td>0.0</td>\n",
              "      <td>0.0</td>\n",
              "      <td>0.0</td>\n",
              "      <td>0.0</td>\n",
              "      <td>0.0</td>\n",
              "      <td>0.0</td>\n",
              "      <td>0.0</td>\n",
              "      <td>0.0</td>\n",
              "      <td>0.0</td>\n",
              "      <td>0.0</td>\n",
              "      <td>0.0</td>\n",
              "      <td>0.0</td>\n",
              "      <td>0.0</td>\n",
              "      <td>0.0</td>\n",
              "      <td>0.0</td>\n",
              "      <td>0.0</td>\n",
              "      <td>0.0</td>\n",
              "      <td>0.0</td>\n",
              "      <td>0.0</td>\n",
              "      <td>0.0</td>\n",
              "      <td>0.0</td>\n",
              "      <td>0.0</td>\n",
              "      <td>0.0</td>\n",
              "      <td>0.0</td>\n",
              "      <td>0.0</td>\n",
              "      <td>0.0</td>\n",
              "      <td>0.0</td>\n",
              "      <td>0.0</td>\n",
              "      <td>0.0</td>\n",
              "      <td>0.0</td>\n",
              "      <td>5</td>\n",
              "    </tr>\n",
              "    <tr>\n",
              "      <th>4</th>\n",
              "      <td>0.0</td>\n",
              "      <td>0.0</td>\n",
              "      <td>0.0</td>\n",
              "      <td>0.0</td>\n",
              "      <td>0.0</td>\n",
              "      <td>0.0</td>\n",
              "      <td>0.0</td>\n",
              "      <td>0.0</td>\n",
              "      <td>0.0</td>\n",
              "      <td>0.0</td>\n",
              "      <td>0.0</td>\n",
              "      <td>0.0</td>\n",
              "      <td>0.0</td>\n",
              "      <td>0.0</td>\n",
              "      <td>0.0</td>\n",
              "      <td>0.0</td>\n",
              "      <td>0.0</td>\n",
              "      <td>0.0</td>\n",
              "      <td>0.0</td>\n",
              "      <td>0.0</td>\n",
              "      <td>0.0</td>\n",
              "      <td>0.0</td>\n",
              "      <td>0.0</td>\n",
              "      <td>0.0</td>\n",
              "      <td>0.0</td>\n",
              "      <td>0.0</td>\n",
              "      <td>0.0</td>\n",
              "      <td>0.0</td>\n",
              "      <td>0.0</td>\n",
              "      <td>0.0</td>\n",
              "      <td>0.0</td>\n",
              "      <td>0.0</td>\n",
              "      <td>0.0</td>\n",
              "      <td>0.0</td>\n",
              "      <td>0.0</td>\n",
              "      <td>0.000000</td>\n",
              "      <td>0.0</td>\n",
              "      <td>0.0</td>\n",
              "      <td>0.0</td>\n",
              "      <td>0.0</td>\n",
              "      <td>...</td>\n",
              "      <td>0.0</td>\n",
              "      <td>0.0</td>\n",
              "      <td>0.0</td>\n",
              "      <td>0.0</td>\n",
              "      <td>0.0</td>\n",
              "      <td>0.0</td>\n",
              "      <td>0.0</td>\n",
              "      <td>0.0</td>\n",
              "      <td>0.0</td>\n",
              "      <td>0.0</td>\n",
              "      <td>0.0</td>\n",
              "      <td>0.0</td>\n",
              "      <td>0.0</td>\n",
              "      <td>0.0</td>\n",
              "      <td>0.0</td>\n",
              "      <td>0.0</td>\n",
              "      <td>0.0</td>\n",
              "      <td>0.0</td>\n",
              "      <td>0.0</td>\n",
              "      <td>0.0</td>\n",
              "      <td>0.0</td>\n",
              "      <td>0.0</td>\n",
              "      <td>0.0</td>\n",
              "      <td>0.0</td>\n",
              "      <td>0.0</td>\n",
              "      <td>0.0</td>\n",
              "      <td>0.0</td>\n",
              "      <td>0.0</td>\n",
              "      <td>0.0</td>\n",
              "      <td>0.0</td>\n",
              "      <td>0.0</td>\n",
              "      <td>0.0</td>\n",
              "      <td>0.0</td>\n",
              "      <td>0.0</td>\n",
              "      <td>0.0</td>\n",
              "      <td>0.0</td>\n",
              "      <td>0.0</td>\n",
              "      <td>0.0</td>\n",
              "      <td>0.0</td>\n",
              "      <td>6</td>\n",
              "    </tr>\n",
              "    <tr>\n",
              "      <th>5</th>\n",
              "      <td>0.0</td>\n",
              "      <td>0.0</td>\n",
              "      <td>0.0</td>\n",
              "      <td>0.0</td>\n",
              "      <td>0.0</td>\n",
              "      <td>0.0</td>\n",
              "      <td>0.0</td>\n",
              "      <td>0.0</td>\n",
              "      <td>0.0</td>\n",
              "      <td>0.0</td>\n",
              "      <td>0.0</td>\n",
              "      <td>0.0</td>\n",
              "      <td>0.0</td>\n",
              "      <td>0.0</td>\n",
              "      <td>0.0</td>\n",
              "      <td>0.0</td>\n",
              "      <td>0.0</td>\n",
              "      <td>0.0</td>\n",
              "      <td>0.0</td>\n",
              "      <td>0.0</td>\n",
              "      <td>0.0</td>\n",
              "      <td>0.0</td>\n",
              "      <td>0.0</td>\n",
              "      <td>0.0</td>\n",
              "      <td>0.0</td>\n",
              "      <td>0.0</td>\n",
              "      <td>0.0</td>\n",
              "      <td>0.0</td>\n",
              "      <td>0.0</td>\n",
              "      <td>0.0</td>\n",
              "      <td>0.0</td>\n",
              "      <td>0.0</td>\n",
              "      <td>0.0</td>\n",
              "      <td>0.0</td>\n",
              "      <td>0.0</td>\n",
              "      <td>0.000000</td>\n",
              "      <td>0.0</td>\n",
              "      <td>0.0</td>\n",
              "      <td>0.0</td>\n",
              "      <td>0.0</td>\n",
              "      <td>...</td>\n",
              "      <td>0.0</td>\n",
              "      <td>0.0</td>\n",
              "      <td>0.0</td>\n",
              "      <td>0.0</td>\n",
              "      <td>0.0</td>\n",
              "      <td>0.0</td>\n",
              "      <td>0.0</td>\n",
              "      <td>0.0</td>\n",
              "      <td>0.0</td>\n",
              "      <td>0.0</td>\n",
              "      <td>0.0</td>\n",
              "      <td>0.0</td>\n",
              "      <td>0.0</td>\n",
              "      <td>0.0</td>\n",
              "      <td>0.0</td>\n",
              "      <td>0.0</td>\n",
              "      <td>0.0</td>\n",
              "      <td>0.0</td>\n",
              "      <td>0.0</td>\n",
              "      <td>0.0</td>\n",
              "      <td>0.0</td>\n",
              "      <td>0.0</td>\n",
              "      <td>0.0</td>\n",
              "      <td>0.0</td>\n",
              "      <td>0.0</td>\n",
              "      <td>0.0</td>\n",
              "      <td>0.0</td>\n",
              "      <td>0.0</td>\n",
              "      <td>0.0</td>\n",
              "      <td>0.0</td>\n",
              "      <td>0.0</td>\n",
              "      <td>0.0</td>\n",
              "      <td>0.0</td>\n",
              "      <td>0.0</td>\n",
              "      <td>0.0</td>\n",
              "      <td>0.0</td>\n",
              "      <td>0.0</td>\n",
              "      <td>0.0</td>\n",
              "      <td>0.0</td>\n",
              "      <td>7</td>\n",
              "    </tr>\n",
              "    <tr>\n",
              "      <th>6</th>\n",
              "      <td>0.0</td>\n",
              "      <td>0.0</td>\n",
              "      <td>0.0</td>\n",
              "      <td>0.0</td>\n",
              "      <td>0.0</td>\n",
              "      <td>0.0</td>\n",
              "      <td>0.0</td>\n",
              "      <td>0.0</td>\n",
              "      <td>0.0</td>\n",
              "      <td>0.0</td>\n",
              "      <td>0.0</td>\n",
              "      <td>0.0</td>\n",
              "      <td>0.0</td>\n",
              "      <td>0.0</td>\n",
              "      <td>0.0</td>\n",
              "      <td>0.0</td>\n",
              "      <td>0.0</td>\n",
              "      <td>0.0</td>\n",
              "      <td>0.0</td>\n",
              "      <td>0.0</td>\n",
              "      <td>0.0</td>\n",
              "      <td>0.0</td>\n",
              "      <td>0.0</td>\n",
              "      <td>0.0</td>\n",
              "      <td>0.0</td>\n",
              "      <td>0.0</td>\n",
              "      <td>0.0</td>\n",
              "      <td>0.0</td>\n",
              "      <td>0.0</td>\n",
              "      <td>0.0</td>\n",
              "      <td>0.0</td>\n",
              "      <td>0.0</td>\n",
              "      <td>0.0</td>\n",
              "      <td>0.0</td>\n",
              "      <td>0.0</td>\n",
              "      <td>0.000000</td>\n",
              "      <td>0.0</td>\n",
              "      <td>0.0</td>\n",
              "      <td>0.0</td>\n",
              "      <td>0.0</td>\n",
              "      <td>...</td>\n",
              "      <td>0.0</td>\n",
              "      <td>0.0</td>\n",
              "      <td>0.0</td>\n",
              "      <td>0.0</td>\n",
              "      <td>0.0</td>\n",
              "      <td>0.0</td>\n",
              "      <td>0.0</td>\n",
              "      <td>0.0</td>\n",
              "      <td>0.0</td>\n",
              "      <td>0.0</td>\n",
              "      <td>0.0</td>\n",
              "      <td>0.0</td>\n",
              "      <td>0.0</td>\n",
              "      <td>0.0</td>\n",
              "      <td>0.0</td>\n",
              "      <td>0.0</td>\n",
              "      <td>0.0</td>\n",
              "      <td>0.0</td>\n",
              "      <td>0.0</td>\n",
              "      <td>0.0</td>\n",
              "      <td>0.0</td>\n",
              "      <td>0.0</td>\n",
              "      <td>0.0</td>\n",
              "      <td>0.0</td>\n",
              "      <td>0.0</td>\n",
              "      <td>0.0</td>\n",
              "      <td>0.0</td>\n",
              "      <td>0.0</td>\n",
              "      <td>0.0</td>\n",
              "      <td>0.0</td>\n",
              "      <td>0.0</td>\n",
              "      <td>0.0</td>\n",
              "      <td>0.0</td>\n",
              "      <td>0.0</td>\n",
              "      <td>0.0</td>\n",
              "      <td>0.0</td>\n",
              "      <td>0.0</td>\n",
              "      <td>0.0</td>\n",
              "      <td>0.0</td>\n",
              "      <td>8</td>\n",
              "    </tr>\n",
              "    <tr>\n",
              "      <th>7</th>\n",
              "      <td>0.0</td>\n",
              "      <td>0.0</td>\n",
              "      <td>0.0</td>\n",
              "      <td>0.0</td>\n",
              "      <td>0.0</td>\n",
              "      <td>0.0</td>\n",
              "      <td>0.0</td>\n",
              "      <td>0.0</td>\n",
              "      <td>0.0</td>\n",
              "      <td>0.0</td>\n",
              "      <td>0.0</td>\n",
              "      <td>0.0</td>\n",
              "      <td>0.0</td>\n",
              "      <td>0.0</td>\n",
              "      <td>0.0</td>\n",
              "      <td>0.0</td>\n",
              "      <td>0.0</td>\n",
              "      <td>0.0</td>\n",
              "      <td>0.0</td>\n",
              "      <td>0.0</td>\n",
              "      <td>0.0</td>\n",
              "      <td>0.0</td>\n",
              "      <td>0.0</td>\n",
              "      <td>0.0</td>\n",
              "      <td>0.0</td>\n",
              "      <td>0.0</td>\n",
              "      <td>0.0</td>\n",
              "      <td>0.0</td>\n",
              "      <td>0.0</td>\n",
              "      <td>0.0</td>\n",
              "      <td>0.0</td>\n",
              "      <td>0.0</td>\n",
              "      <td>0.0</td>\n",
              "      <td>0.0</td>\n",
              "      <td>0.0</td>\n",
              "      <td>0.000000</td>\n",
              "      <td>0.0</td>\n",
              "      <td>0.0</td>\n",
              "      <td>0.0</td>\n",
              "      <td>0.0</td>\n",
              "      <td>...</td>\n",
              "      <td>0.0</td>\n",
              "      <td>0.0</td>\n",
              "      <td>0.0</td>\n",
              "      <td>0.0</td>\n",
              "      <td>0.0</td>\n",
              "      <td>0.0</td>\n",
              "      <td>0.0</td>\n",
              "      <td>0.0</td>\n",
              "      <td>0.0</td>\n",
              "      <td>0.0</td>\n",
              "      <td>0.0</td>\n",
              "      <td>0.0</td>\n",
              "      <td>0.0</td>\n",
              "      <td>0.0</td>\n",
              "      <td>0.0</td>\n",
              "      <td>0.0</td>\n",
              "      <td>0.0</td>\n",
              "      <td>0.0</td>\n",
              "      <td>0.0</td>\n",
              "      <td>0.0</td>\n",
              "      <td>0.0</td>\n",
              "      <td>0.0</td>\n",
              "      <td>0.0</td>\n",
              "      <td>0.0</td>\n",
              "      <td>0.0</td>\n",
              "      <td>0.0</td>\n",
              "      <td>0.0</td>\n",
              "      <td>0.0</td>\n",
              "      <td>0.0</td>\n",
              "      <td>0.0</td>\n",
              "      <td>0.0</td>\n",
              "      <td>0.0</td>\n",
              "      <td>0.0</td>\n",
              "      <td>0.0</td>\n",
              "      <td>0.0</td>\n",
              "      <td>0.0</td>\n",
              "      <td>0.0</td>\n",
              "      <td>0.0</td>\n",
              "      <td>0.0</td>\n",
              "      <td>6</td>\n",
              "    </tr>\n",
              "    <tr>\n",
              "      <th>8</th>\n",
              "      <td>0.0</td>\n",
              "      <td>0.0</td>\n",
              "      <td>0.0</td>\n",
              "      <td>0.0</td>\n",
              "      <td>0.0</td>\n",
              "      <td>0.0</td>\n",
              "      <td>0.0</td>\n",
              "      <td>0.0</td>\n",
              "      <td>0.0</td>\n",
              "      <td>0.0</td>\n",
              "      <td>0.0</td>\n",
              "      <td>0.0</td>\n",
              "      <td>0.0</td>\n",
              "      <td>0.0</td>\n",
              "      <td>0.0</td>\n",
              "      <td>0.0</td>\n",
              "      <td>0.0</td>\n",
              "      <td>0.0</td>\n",
              "      <td>0.0</td>\n",
              "      <td>0.0</td>\n",
              "      <td>0.0</td>\n",
              "      <td>0.0</td>\n",
              "      <td>0.0</td>\n",
              "      <td>0.0</td>\n",
              "      <td>0.0</td>\n",
              "      <td>0.0</td>\n",
              "      <td>0.0</td>\n",
              "      <td>0.0</td>\n",
              "      <td>0.0</td>\n",
              "      <td>0.0</td>\n",
              "      <td>0.0</td>\n",
              "      <td>0.0</td>\n",
              "      <td>0.0</td>\n",
              "      <td>0.0</td>\n",
              "      <td>0.0</td>\n",
              "      <td>0.000000</td>\n",
              "      <td>0.0</td>\n",
              "      <td>0.0</td>\n",
              "      <td>0.0</td>\n",
              "      <td>0.0</td>\n",
              "      <td>...</td>\n",
              "      <td>0.0</td>\n",
              "      <td>0.0</td>\n",
              "      <td>0.0</td>\n",
              "      <td>0.0</td>\n",
              "      <td>0.0</td>\n",
              "      <td>0.0</td>\n",
              "      <td>0.0</td>\n",
              "      <td>0.0</td>\n",
              "      <td>0.0</td>\n",
              "      <td>0.0</td>\n",
              "      <td>0.0</td>\n",
              "      <td>0.0</td>\n",
              "      <td>0.0</td>\n",
              "      <td>0.0</td>\n",
              "      <td>0.0</td>\n",
              "      <td>0.0</td>\n",
              "      <td>0.0</td>\n",
              "      <td>0.0</td>\n",
              "      <td>0.0</td>\n",
              "      <td>0.0</td>\n",
              "      <td>0.0</td>\n",
              "      <td>0.0</td>\n",
              "      <td>0.0</td>\n",
              "      <td>0.0</td>\n",
              "      <td>0.0</td>\n",
              "      <td>0.0</td>\n",
              "      <td>0.0</td>\n",
              "      <td>0.0</td>\n",
              "      <td>0.0</td>\n",
              "      <td>0.0</td>\n",
              "      <td>0.0</td>\n",
              "      <td>0.0</td>\n",
              "      <td>0.0</td>\n",
              "      <td>0.0</td>\n",
              "      <td>0.0</td>\n",
              "      <td>0.0</td>\n",
              "      <td>0.0</td>\n",
              "      <td>0.0</td>\n",
              "      <td>0.0</td>\n",
              "      <td>8</td>\n",
              "    </tr>\n",
              "    <tr>\n",
              "      <th>9</th>\n",
              "      <td>0.0</td>\n",
              "      <td>0.0</td>\n",
              "      <td>0.0</td>\n",
              "      <td>0.0</td>\n",
              "      <td>0.0</td>\n",
              "      <td>0.0</td>\n",
              "      <td>0.0</td>\n",
              "      <td>0.0</td>\n",
              "      <td>0.0</td>\n",
              "      <td>0.0</td>\n",
              "      <td>0.0</td>\n",
              "      <td>0.0</td>\n",
              "      <td>0.0</td>\n",
              "      <td>0.0</td>\n",
              "      <td>0.0</td>\n",
              "      <td>0.0</td>\n",
              "      <td>0.0</td>\n",
              "      <td>0.0</td>\n",
              "      <td>0.0</td>\n",
              "      <td>0.0</td>\n",
              "      <td>0.0</td>\n",
              "      <td>0.0</td>\n",
              "      <td>0.0</td>\n",
              "      <td>0.0</td>\n",
              "      <td>0.0</td>\n",
              "      <td>0.0</td>\n",
              "      <td>0.0</td>\n",
              "      <td>0.0</td>\n",
              "      <td>0.0</td>\n",
              "      <td>0.0</td>\n",
              "      <td>0.0</td>\n",
              "      <td>0.0</td>\n",
              "      <td>0.0</td>\n",
              "      <td>0.0</td>\n",
              "      <td>0.0</td>\n",
              "      <td>0.000000</td>\n",
              "      <td>0.0</td>\n",
              "      <td>0.0</td>\n",
              "      <td>0.0</td>\n",
              "      <td>0.0</td>\n",
              "      <td>...</td>\n",
              "      <td>0.0</td>\n",
              "      <td>0.0</td>\n",
              "      <td>0.0</td>\n",
              "      <td>0.0</td>\n",
              "      <td>0.0</td>\n",
              "      <td>0.0</td>\n",
              "      <td>0.0</td>\n",
              "      <td>0.0</td>\n",
              "      <td>0.0</td>\n",
              "      <td>0.0</td>\n",
              "      <td>0.0</td>\n",
              "      <td>0.0</td>\n",
              "      <td>0.0</td>\n",
              "      <td>0.0</td>\n",
              "      <td>0.0</td>\n",
              "      <td>0.0</td>\n",
              "      <td>0.0</td>\n",
              "      <td>0.0</td>\n",
              "      <td>0.0</td>\n",
              "      <td>0.0</td>\n",
              "      <td>0.0</td>\n",
              "      <td>0.0</td>\n",
              "      <td>0.0</td>\n",
              "      <td>0.0</td>\n",
              "      <td>0.0</td>\n",
              "      <td>0.0</td>\n",
              "      <td>0.0</td>\n",
              "      <td>0.0</td>\n",
              "      <td>0.0</td>\n",
              "      <td>0.0</td>\n",
              "      <td>0.0</td>\n",
              "      <td>0.0</td>\n",
              "      <td>0.0</td>\n",
              "      <td>0.0</td>\n",
              "      <td>0.0</td>\n",
              "      <td>0.0</td>\n",
              "      <td>0.0</td>\n",
              "      <td>0.0</td>\n",
              "      <td>0.0</td>\n",
              "      <td>8</td>\n",
              "    </tr>\n",
              "  </tbody>\n",
              "</table>\n",
              "<p>10 rows × 2001 columns</p>\n",
              "</div>"
            ],
            "text/plain": [
              "     0    1    2    3    4    5  ...  1995  1996  1997  1998  1999  Assignment group\n",
              "0  0.0  0.0  0.0  0.0  0.0  0.0  ...   0.0   0.0   0.0   0.0   0.0                 1\n",
              "1  0.0  0.0  0.0  0.0  0.0  0.0  ...   0.0   0.0   0.0   0.0   0.0                 3\n",
              "2  0.0  0.0  0.0  0.0  0.0  0.0  ...   0.0   0.0   0.0   0.0   0.0                 4\n",
              "3  0.0  0.0  0.0  0.0  0.0  0.0  ...   0.0   0.0   0.0   0.0   0.0                 5\n",
              "4  0.0  0.0  0.0  0.0  0.0  0.0  ...   0.0   0.0   0.0   0.0   0.0                 6\n",
              "5  0.0  0.0  0.0  0.0  0.0  0.0  ...   0.0   0.0   0.0   0.0   0.0                 7\n",
              "6  0.0  0.0  0.0  0.0  0.0  0.0  ...   0.0   0.0   0.0   0.0   0.0                 8\n",
              "7  0.0  0.0  0.0  0.0  0.0  0.0  ...   0.0   0.0   0.0   0.0   0.0                 6\n",
              "8  0.0  0.0  0.0  0.0  0.0  0.0  ...   0.0   0.0   0.0   0.0   0.0                 8\n",
              "9  0.0  0.0  0.0  0.0  0.0  0.0  ...   0.0   0.0   0.0   0.0   0.0                 8\n",
              "\n",
              "[10 rows x 2001 columns]"
            ]
          },
          "metadata": {
            "tags": []
          },
          "execution_count": 105
        }
      ]
    },
    {
      "cell_type": "code",
      "metadata": {
        "colab": {
          "base_uri": "https://localhost:8080/",
          "height": 253
        },
        "id": "6QJ4_GLVfW9a",
        "outputId": "a9bb4198-af60-434b-aa9f-994e20d99472"
      },
      "source": [
        "# Split X and y into training and test set in 70:30 ratio\r\n",
        "\r\n",
        "from sklearn.model_selection import train_test_split\r\n",
        "\r\n",
        "X = df_inc_target.drop('Assignment group',axis=1)    \r\n",
        "Y = df_inc_target['Assignment group']   \r\n",
        "\r\n",
        "x_train, x_test, y_train, y_test = train_test_split(X, Y, test_size=0.3, random_state=10) \r\n",
        "\r\n",
        "x_train.head()"
      ],
      "execution_count": 106,
      "outputs": [
        {
          "output_type": "execute_result",
          "data": {
            "text/html": [
              "<div>\n",
              "<style scoped>\n",
              "    .dataframe tbody tr th:only-of-type {\n",
              "        vertical-align: middle;\n",
              "    }\n",
              "\n",
              "    .dataframe tbody tr th {\n",
              "        vertical-align: top;\n",
              "    }\n",
              "\n",
              "    .dataframe thead th {\n",
              "        text-align: right;\n",
              "    }\n",
              "</style>\n",
              "<table border=\"1\" class=\"dataframe\">\n",
              "  <thead>\n",
              "    <tr style=\"text-align: right;\">\n",
              "      <th></th>\n",
              "      <th>0</th>\n",
              "      <th>1</th>\n",
              "      <th>2</th>\n",
              "      <th>3</th>\n",
              "      <th>4</th>\n",
              "      <th>5</th>\n",
              "      <th>6</th>\n",
              "      <th>7</th>\n",
              "      <th>8</th>\n",
              "      <th>9</th>\n",
              "      <th>10</th>\n",
              "      <th>11</th>\n",
              "      <th>12</th>\n",
              "      <th>13</th>\n",
              "      <th>14</th>\n",
              "      <th>15</th>\n",
              "      <th>16</th>\n",
              "      <th>17</th>\n",
              "      <th>18</th>\n",
              "      <th>19</th>\n",
              "      <th>20</th>\n",
              "      <th>21</th>\n",
              "      <th>22</th>\n",
              "      <th>23</th>\n",
              "      <th>24</th>\n",
              "      <th>25</th>\n",
              "      <th>26</th>\n",
              "      <th>27</th>\n",
              "      <th>28</th>\n",
              "      <th>29</th>\n",
              "      <th>30</th>\n",
              "      <th>31</th>\n",
              "      <th>32</th>\n",
              "      <th>33</th>\n",
              "      <th>34</th>\n",
              "      <th>35</th>\n",
              "      <th>36</th>\n",
              "      <th>37</th>\n",
              "      <th>38</th>\n",
              "      <th>39</th>\n",
              "      <th>...</th>\n",
              "      <th>1960</th>\n",
              "      <th>1961</th>\n",
              "      <th>1962</th>\n",
              "      <th>1963</th>\n",
              "      <th>1964</th>\n",
              "      <th>1965</th>\n",
              "      <th>1966</th>\n",
              "      <th>1967</th>\n",
              "      <th>1968</th>\n",
              "      <th>1969</th>\n",
              "      <th>1970</th>\n",
              "      <th>1971</th>\n",
              "      <th>1972</th>\n",
              "      <th>1973</th>\n",
              "      <th>1974</th>\n",
              "      <th>1975</th>\n",
              "      <th>1976</th>\n",
              "      <th>1977</th>\n",
              "      <th>1978</th>\n",
              "      <th>1979</th>\n",
              "      <th>1980</th>\n",
              "      <th>1981</th>\n",
              "      <th>1982</th>\n",
              "      <th>1983</th>\n",
              "      <th>1984</th>\n",
              "      <th>1985</th>\n",
              "      <th>1986</th>\n",
              "      <th>1987</th>\n",
              "      <th>1988</th>\n",
              "      <th>1989</th>\n",
              "      <th>1990</th>\n",
              "      <th>1991</th>\n",
              "      <th>1992</th>\n",
              "      <th>1993</th>\n",
              "      <th>1994</th>\n",
              "      <th>1995</th>\n",
              "      <th>1996</th>\n",
              "      <th>1997</th>\n",
              "      <th>1998</th>\n",
              "      <th>1999</th>\n",
              "    </tr>\n",
              "  </thead>\n",
              "  <tbody>\n",
              "    <tr>\n",
              "      <th>28991</th>\n",
              "      <td>0.0</td>\n",
              "      <td>0.0</td>\n",
              "      <td>0.0</td>\n",
              "      <td>0.0</td>\n",
              "      <td>0.000000</td>\n",
              "      <td>0.0</td>\n",
              "      <td>0.0</td>\n",
              "      <td>0.0</td>\n",
              "      <td>0.0</td>\n",
              "      <td>0.0</td>\n",
              "      <td>0.0</td>\n",
              "      <td>0.0</td>\n",
              "      <td>0.0</td>\n",
              "      <td>0.0</td>\n",
              "      <td>0.0</td>\n",
              "      <td>0.0</td>\n",
              "      <td>0.0</td>\n",
              "      <td>0.0</td>\n",
              "      <td>0.0</td>\n",
              "      <td>0.0</td>\n",
              "      <td>0.0</td>\n",
              "      <td>0.0</td>\n",
              "      <td>0.0</td>\n",
              "      <td>0.0</td>\n",
              "      <td>0.0</td>\n",
              "      <td>0.0</td>\n",
              "      <td>0.0</td>\n",
              "      <td>0.0</td>\n",
              "      <td>0.0</td>\n",
              "      <td>0.0</td>\n",
              "      <td>0.0</td>\n",
              "      <td>0.00000</td>\n",
              "      <td>0.0</td>\n",
              "      <td>0.0</td>\n",
              "      <td>0.0</td>\n",
              "      <td>0.0</td>\n",
              "      <td>0.0</td>\n",
              "      <td>0.0</td>\n",
              "      <td>0.0</td>\n",
              "      <td>0.0</td>\n",
              "      <td>...</td>\n",
              "      <td>0.0</td>\n",
              "      <td>0.0</td>\n",
              "      <td>0.0</td>\n",
              "      <td>0.0</td>\n",
              "      <td>0.0</td>\n",
              "      <td>0.0</td>\n",
              "      <td>0.0</td>\n",
              "      <td>0.0</td>\n",
              "      <td>0.0</td>\n",
              "      <td>0.0</td>\n",
              "      <td>0.0</td>\n",
              "      <td>0.0</td>\n",
              "      <td>0.0</td>\n",
              "      <td>0.0</td>\n",
              "      <td>0.0</td>\n",
              "      <td>0.0</td>\n",
              "      <td>0.0</td>\n",
              "      <td>0.0</td>\n",
              "      <td>0.0</td>\n",
              "      <td>0.0</td>\n",
              "      <td>0.0</td>\n",
              "      <td>0.0</td>\n",
              "      <td>0.0</td>\n",
              "      <td>0.0</td>\n",
              "      <td>0.0</td>\n",
              "      <td>0.0</td>\n",
              "      <td>0.0</td>\n",
              "      <td>0.0</td>\n",
              "      <td>0.0</td>\n",
              "      <td>0.0</td>\n",
              "      <td>0.0</td>\n",
              "      <td>0.00000</td>\n",
              "      <td>0.0</td>\n",
              "      <td>0.0</td>\n",
              "      <td>0.0</td>\n",
              "      <td>0.0</td>\n",
              "      <td>0.0</td>\n",
              "      <td>0.0</td>\n",
              "      <td>0.000000</td>\n",
              "      <td>0.0</td>\n",
              "    </tr>\n",
              "    <tr>\n",
              "      <th>20179</th>\n",
              "      <td>0.0</td>\n",
              "      <td>0.0</td>\n",
              "      <td>0.0</td>\n",
              "      <td>0.0</td>\n",
              "      <td>0.000000</td>\n",
              "      <td>0.0</td>\n",
              "      <td>0.0</td>\n",
              "      <td>0.0</td>\n",
              "      <td>0.0</td>\n",
              "      <td>0.0</td>\n",
              "      <td>0.0</td>\n",
              "      <td>0.0</td>\n",
              "      <td>0.0</td>\n",
              "      <td>0.0</td>\n",
              "      <td>0.0</td>\n",
              "      <td>0.0</td>\n",
              "      <td>0.0</td>\n",
              "      <td>0.0</td>\n",
              "      <td>0.0</td>\n",
              "      <td>0.0</td>\n",
              "      <td>0.0</td>\n",
              "      <td>0.0</td>\n",
              "      <td>0.0</td>\n",
              "      <td>0.0</td>\n",
              "      <td>0.0</td>\n",
              "      <td>0.0</td>\n",
              "      <td>0.0</td>\n",
              "      <td>0.0</td>\n",
              "      <td>0.0</td>\n",
              "      <td>0.0</td>\n",
              "      <td>0.0</td>\n",
              "      <td>0.00000</td>\n",
              "      <td>0.0</td>\n",
              "      <td>0.0</td>\n",
              "      <td>0.0</td>\n",
              "      <td>0.0</td>\n",
              "      <td>0.0</td>\n",
              "      <td>0.0</td>\n",
              "      <td>0.0</td>\n",
              "      <td>0.0</td>\n",
              "      <td>...</td>\n",
              "      <td>0.0</td>\n",
              "      <td>0.0</td>\n",
              "      <td>0.0</td>\n",
              "      <td>0.0</td>\n",
              "      <td>0.0</td>\n",
              "      <td>0.0</td>\n",
              "      <td>0.0</td>\n",
              "      <td>0.0</td>\n",
              "      <td>0.0</td>\n",
              "      <td>0.0</td>\n",
              "      <td>0.0</td>\n",
              "      <td>0.0</td>\n",
              "      <td>0.0</td>\n",
              "      <td>0.0</td>\n",
              "      <td>0.0</td>\n",
              "      <td>0.0</td>\n",
              "      <td>0.0</td>\n",
              "      <td>0.0</td>\n",
              "      <td>0.0</td>\n",
              "      <td>0.0</td>\n",
              "      <td>0.0</td>\n",
              "      <td>0.0</td>\n",
              "      <td>0.0</td>\n",
              "      <td>0.0</td>\n",
              "      <td>0.0</td>\n",
              "      <td>0.0</td>\n",
              "      <td>0.0</td>\n",
              "      <td>0.0</td>\n",
              "      <td>0.0</td>\n",
              "      <td>0.0</td>\n",
              "      <td>0.0</td>\n",
              "      <td>0.18982</td>\n",
              "      <td>0.0</td>\n",
              "      <td>0.0</td>\n",
              "      <td>0.0</td>\n",
              "      <td>0.0</td>\n",
              "      <td>0.0</td>\n",
              "      <td>0.0</td>\n",
              "      <td>0.000000</td>\n",
              "      <td>0.0</td>\n",
              "    </tr>\n",
              "    <tr>\n",
              "      <th>26679</th>\n",
              "      <td>0.0</td>\n",
              "      <td>0.0</td>\n",
              "      <td>0.0</td>\n",
              "      <td>0.0</td>\n",
              "      <td>0.000000</td>\n",
              "      <td>0.0</td>\n",
              "      <td>0.0</td>\n",
              "      <td>0.0</td>\n",
              "      <td>0.0</td>\n",
              "      <td>0.0</td>\n",
              "      <td>0.0</td>\n",
              "      <td>0.0</td>\n",
              "      <td>0.0</td>\n",
              "      <td>0.0</td>\n",
              "      <td>0.0</td>\n",
              "      <td>0.0</td>\n",
              "      <td>0.0</td>\n",
              "      <td>0.0</td>\n",
              "      <td>0.0</td>\n",
              "      <td>0.0</td>\n",
              "      <td>0.0</td>\n",
              "      <td>0.0</td>\n",
              "      <td>0.0</td>\n",
              "      <td>0.0</td>\n",
              "      <td>0.0</td>\n",
              "      <td>0.0</td>\n",
              "      <td>0.0</td>\n",
              "      <td>0.0</td>\n",
              "      <td>0.0</td>\n",
              "      <td>0.0</td>\n",
              "      <td>0.0</td>\n",
              "      <td>0.00000</td>\n",
              "      <td>0.0</td>\n",
              "      <td>0.0</td>\n",
              "      <td>0.0</td>\n",
              "      <td>0.0</td>\n",
              "      <td>0.0</td>\n",
              "      <td>0.0</td>\n",
              "      <td>0.0</td>\n",
              "      <td>0.0</td>\n",
              "      <td>...</td>\n",
              "      <td>0.0</td>\n",
              "      <td>0.0</td>\n",
              "      <td>0.0</td>\n",
              "      <td>0.0</td>\n",
              "      <td>0.0</td>\n",
              "      <td>0.0</td>\n",
              "      <td>0.0</td>\n",
              "      <td>0.0</td>\n",
              "      <td>0.0</td>\n",
              "      <td>0.0</td>\n",
              "      <td>0.0</td>\n",
              "      <td>0.0</td>\n",
              "      <td>0.0</td>\n",
              "      <td>0.0</td>\n",
              "      <td>0.0</td>\n",
              "      <td>0.0</td>\n",
              "      <td>0.0</td>\n",
              "      <td>0.0</td>\n",
              "      <td>0.0</td>\n",
              "      <td>0.0</td>\n",
              "      <td>0.0</td>\n",
              "      <td>0.0</td>\n",
              "      <td>0.0</td>\n",
              "      <td>0.0</td>\n",
              "      <td>0.0</td>\n",
              "      <td>0.0</td>\n",
              "      <td>0.0</td>\n",
              "      <td>0.0</td>\n",
              "      <td>0.0</td>\n",
              "      <td>0.0</td>\n",
              "      <td>0.0</td>\n",
              "      <td>0.00000</td>\n",
              "      <td>0.0</td>\n",
              "      <td>0.0</td>\n",
              "      <td>0.0</td>\n",
              "      <td>0.0</td>\n",
              "      <td>0.0</td>\n",
              "      <td>0.0</td>\n",
              "      <td>0.652093</td>\n",
              "      <td>0.0</td>\n",
              "    </tr>\n",
              "    <tr>\n",
              "      <th>12273</th>\n",
              "      <td>0.0</td>\n",
              "      <td>0.0</td>\n",
              "      <td>0.0</td>\n",
              "      <td>0.0</td>\n",
              "      <td>0.248979</td>\n",
              "      <td>0.0</td>\n",
              "      <td>0.0</td>\n",
              "      <td>0.0</td>\n",
              "      <td>0.0</td>\n",
              "      <td>0.0</td>\n",
              "      <td>0.0</td>\n",
              "      <td>0.0</td>\n",
              "      <td>0.0</td>\n",
              "      <td>0.0</td>\n",
              "      <td>0.0</td>\n",
              "      <td>0.0</td>\n",
              "      <td>0.0</td>\n",
              "      <td>0.0</td>\n",
              "      <td>0.0</td>\n",
              "      <td>0.0</td>\n",
              "      <td>0.0</td>\n",
              "      <td>0.0</td>\n",
              "      <td>0.0</td>\n",
              "      <td>0.0</td>\n",
              "      <td>0.0</td>\n",
              "      <td>0.0</td>\n",
              "      <td>0.0</td>\n",
              "      <td>0.0</td>\n",
              "      <td>0.0</td>\n",
              "      <td>0.0</td>\n",
              "      <td>0.0</td>\n",
              "      <td>0.28859</td>\n",
              "      <td>0.0</td>\n",
              "      <td>0.0</td>\n",
              "      <td>0.0</td>\n",
              "      <td>0.0</td>\n",
              "      <td>0.0</td>\n",
              "      <td>0.0</td>\n",
              "      <td>0.0</td>\n",
              "      <td>0.0</td>\n",
              "      <td>...</td>\n",
              "      <td>0.0</td>\n",
              "      <td>0.0</td>\n",
              "      <td>0.0</td>\n",
              "      <td>0.0</td>\n",
              "      <td>0.0</td>\n",
              "      <td>0.0</td>\n",
              "      <td>0.0</td>\n",
              "      <td>0.0</td>\n",
              "      <td>0.0</td>\n",
              "      <td>0.0</td>\n",
              "      <td>0.0</td>\n",
              "      <td>0.0</td>\n",
              "      <td>0.0</td>\n",
              "      <td>0.0</td>\n",
              "      <td>0.0</td>\n",
              "      <td>0.0</td>\n",
              "      <td>0.0</td>\n",
              "      <td>0.0</td>\n",
              "      <td>0.0</td>\n",
              "      <td>0.0</td>\n",
              "      <td>0.0</td>\n",
              "      <td>0.0</td>\n",
              "      <td>0.0</td>\n",
              "      <td>0.0</td>\n",
              "      <td>0.0</td>\n",
              "      <td>0.0</td>\n",
              "      <td>0.0</td>\n",
              "      <td>0.0</td>\n",
              "      <td>0.0</td>\n",
              "      <td>0.0</td>\n",
              "      <td>0.0</td>\n",
              "      <td>0.00000</td>\n",
              "      <td>0.0</td>\n",
              "      <td>0.0</td>\n",
              "      <td>0.0</td>\n",
              "      <td>0.0</td>\n",
              "      <td>0.0</td>\n",
              "      <td>0.0</td>\n",
              "      <td>0.000000</td>\n",
              "      <td>0.0</td>\n",
              "    </tr>\n",
              "    <tr>\n",
              "      <th>18174</th>\n",
              "      <td>0.0</td>\n",
              "      <td>0.0</td>\n",
              "      <td>0.0</td>\n",
              "      <td>0.0</td>\n",
              "      <td>0.000000</td>\n",
              "      <td>0.0</td>\n",
              "      <td>0.0</td>\n",
              "      <td>0.0</td>\n",
              "      <td>0.0</td>\n",
              "      <td>0.0</td>\n",
              "      <td>0.0</td>\n",
              "      <td>0.0</td>\n",
              "      <td>0.0</td>\n",
              "      <td>0.0</td>\n",
              "      <td>0.0</td>\n",
              "      <td>0.0</td>\n",
              "      <td>0.0</td>\n",
              "      <td>0.0</td>\n",
              "      <td>0.0</td>\n",
              "      <td>0.0</td>\n",
              "      <td>0.0</td>\n",
              "      <td>0.0</td>\n",
              "      <td>0.0</td>\n",
              "      <td>0.0</td>\n",
              "      <td>0.0</td>\n",
              "      <td>0.0</td>\n",
              "      <td>0.0</td>\n",
              "      <td>0.0</td>\n",
              "      <td>0.0</td>\n",
              "      <td>0.0</td>\n",
              "      <td>0.0</td>\n",
              "      <td>0.00000</td>\n",
              "      <td>0.0</td>\n",
              "      <td>0.0</td>\n",
              "      <td>0.0</td>\n",
              "      <td>0.0</td>\n",
              "      <td>0.0</td>\n",
              "      <td>0.0</td>\n",
              "      <td>0.0</td>\n",
              "      <td>0.0</td>\n",
              "      <td>...</td>\n",
              "      <td>0.0</td>\n",
              "      <td>0.0</td>\n",
              "      <td>0.0</td>\n",
              "      <td>0.0</td>\n",
              "      <td>0.0</td>\n",
              "      <td>0.0</td>\n",
              "      <td>0.0</td>\n",
              "      <td>0.0</td>\n",
              "      <td>0.0</td>\n",
              "      <td>0.0</td>\n",
              "      <td>0.0</td>\n",
              "      <td>0.0</td>\n",
              "      <td>0.0</td>\n",
              "      <td>0.0</td>\n",
              "      <td>0.0</td>\n",
              "      <td>0.0</td>\n",
              "      <td>0.0</td>\n",
              "      <td>0.0</td>\n",
              "      <td>0.0</td>\n",
              "      <td>0.0</td>\n",
              "      <td>0.0</td>\n",
              "      <td>0.0</td>\n",
              "      <td>0.0</td>\n",
              "      <td>0.0</td>\n",
              "      <td>0.0</td>\n",
              "      <td>0.0</td>\n",
              "      <td>0.0</td>\n",
              "      <td>0.0</td>\n",
              "      <td>0.0</td>\n",
              "      <td>0.0</td>\n",
              "      <td>0.0</td>\n",
              "      <td>0.00000</td>\n",
              "      <td>0.0</td>\n",
              "      <td>0.0</td>\n",
              "      <td>0.0</td>\n",
              "      <td>0.0</td>\n",
              "      <td>0.0</td>\n",
              "      <td>0.0</td>\n",
              "      <td>0.000000</td>\n",
              "      <td>0.0</td>\n",
              "    </tr>\n",
              "  </tbody>\n",
              "</table>\n",
              "<p>5 rows × 2000 columns</p>\n",
              "</div>"
            ],
            "text/plain": [
              "       0     1     2     3         4     ...  1995  1996  1997      1998  1999\n",
              "28991   0.0   0.0   0.0   0.0  0.000000  ...   0.0   0.0   0.0  0.000000   0.0\n",
              "20179   0.0   0.0   0.0   0.0  0.000000  ...   0.0   0.0   0.0  0.000000   0.0\n",
              "26679   0.0   0.0   0.0   0.0  0.000000  ...   0.0   0.0   0.0  0.652093   0.0\n",
              "12273   0.0   0.0   0.0   0.0  0.248979  ...   0.0   0.0   0.0  0.000000   0.0\n",
              "18174   0.0   0.0   0.0   0.0  0.000000  ...   0.0   0.0   0.0  0.000000   0.0\n",
              "\n",
              "[5 rows x 2000 columns]"
            ]
          },
          "metadata": {
            "tags": []
          },
          "execution_count": 106
        }
      ]
    },
    {
      "cell_type": "code",
      "metadata": {
        "colab": {
          "base_uri": "https://localhost:8080/"
        },
        "id": "s4NCJgr2fW4W",
        "outputId": "6057f6df-f374-4569-fabc-2254a41010a0"
      },
      "source": [
        "#Logistic Regression\r\n",
        "from sklearn.linear_model import LogisticRegression\r\n",
        "from sklearn import metrics\r\n",
        "\r\n",
        "# Fit the model on train\r\n",
        "model = LogisticRegression(solver=\"liblinear\")\r\n",
        "model.fit(x_train, y_train)\r\n",
        "\r\n",
        "#predict on training data\r\n",
        "y_predict1 = model.predict(x_train)\r\n",
        "\r\n",
        "#predict on test data\r\n",
        "y_predict2 = model.predict(x_test)\r\n",
        "\r\n",
        "# Use score method to get accuracy of model\r\n",
        "print(\"Model Accuracy on Training Data: {0:.4f}\".format(metrics.accuracy_score(y_train, y_predict1)))\r\n",
        "print(\"Model Accuracy on Test Data: {0:.4f}\".format(metrics.accuracy_score(y_test, y_predict2)))"
      ],
      "execution_count": 107,
      "outputs": [
        {
          "output_type": "stream",
          "text": [
            "Model Accuracy on Training Data: 0.8179\n",
            "Model Accuracy on Test Data: 0.7794\n"
          ],
          "name": "stdout"
        }
      ]
    },
    {
      "cell_type": "code",
      "metadata": {
        "colab": {
          "base_uri": "https://localhost:8080/",
          "height": 348
        },
        "id": "MZMuJvYDfr4p",
        "outputId": "cdfe41c4-ed5e-4038-a2ad-47c3403fadb0"
      },
      "source": [
        "# Confusion Matrix for Logistic Regression\r\n",
        "\r\n",
        "y_predict = model.predict(x_test)\r\n",
        "cm=metrics.confusion_matrix(y_test, y_predict, labels=[1, 0])\r\n",
        "df_cm = pd.DataFrame(cm, index = [i for i in [\"1\",\"0\"]],columns = [i for i in [\"Predict 1\",\"Predict 0\"]])\r\n",
        "plt.figure(figsize = (10,5))\r\n",
        "sns.set(font_scale=1.8)\r\n",
        "ax=sns.heatmap(df_cm, annot=True)\r\n",
        "bottom,top=ax.get_ylim()\r\n",
        "ax.set_ylim(bottom +0.5, top-0.5)"
      ],
      "execution_count": 108,
      "outputs": [
        {
          "output_type": "execute_result",
          "data": {
            "text/plain": [
              "(2.5, -0.5)"
            ]
          },
          "metadata": {
            "tags": []
          },
          "execution_count": 108
        },
        {
          "output_type": "display_data",
          "data": {
            "image/png": "[encoded data removed]",
            "text/plain": [
              "<Figure size 720x360 with 2 Axes>"
            ]
          },
          "metadata": {
            "tags": []
          }
        }
      ]
    },
    {
      "cell_type": "code",
      "metadata": {
        "colab": {
          "base_uri": "https://localhost:8080/"
        },
        "id": "s8vprdijfzxk",
        "outputId": "87014d11-a5a2-45a5-f89a-cd3d0e155e68"
      },
      "source": [
        "#xgboost\r\n",
        "import xgboost as xgb\r\n",
        "\r\n",
        "# Fit the model on train\r\n",
        "model = xgb.XGBRegressor(objective ='reg:linear', colsample_bytree = 0.3, learning_rate = 0.003, max_depth = 10, alpha = 5, n_estimators = 10)\r\n",
        "model.fit(x_train, y_train)"
      ],
      "execution_count": 109,
      "outputs": [
        {
          "output_type": "stream",
          "text": [
            "[16:36:22] WARNING: /workspace/src/objective/regression_obj.cu:152: reg:linear is now deprecated in favor of reg:squarederror.\n"
          ],
          "name": "stdout"
        },
        {
          "output_type": "execute_result",
          "data": {
            "text/plain": [
              "XGBRegressor(alpha=5, base_score=0.5, booster='gbtree', colsample_bylevel=1,\n",
              "             colsample_bynode=1, colsample_bytree=0.3, gamma=0,\n",
              "             importance_type='gain', learning_rate=0.003, max_delta_step=0,\n",
              "             max_depth=10, min_child_weight=1, missing=None, n_estimators=10,\n",
              "             n_jobs=1, nthread=None, objective='reg:linear', random_state=0,\n",
              "             reg_alpha=0, reg_lambda=1, scale_pos_weight=1, seed=None,\n",
              "             silent=None, subsample=1, verbosity=1)"
            ]
          },
          "metadata": {
            "tags": []
          },
          "execution_count": 109
        }
      ]
    },
    {
      "cell_type": "code",
      "metadata": {
        "colab": {
          "base_uri": "https://localhost:8080/"
        },
        "id": "RN8rGgcUf7u5",
        "outputId": "82e66d12-726b-451d-c979-f8659f8d161c"
      },
      "source": [
        "from sklearn.metrics import mean_squared_error\r\n",
        "\r\n",
        "rmse = np.sqrt(mean_squared_error(y_test, y_predict2))\r\n",
        "print(\"RMSE: %f\" % (rmse))"
      ],
      "execution_count": 110,
      "outputs": [
        {
          "output_type": "stream",
          "text": [
            "RMSE: 9.605875\n"
          ],
          "name": "stdout"
        }
      ]
    },
    {
      "cell_type": "code",
      "metadata": {
        "colab": {
          "base_uri": "https://localhost:8080/"
        },
        "id": "OhF6CDjDf-0W",
        "outputId": "08321f61-a922-46d8-91eb-a78e4b73212d"
      },
      "source": [
        "data_dmatrix = xgb.DMatrix(data=X,label=Y)\r\n",
        "params = {\"objective\":\"reg:linear\",'colsample_bytree': 0.3,'learning_rate': 0.1,'max_depth': 5, 'alpha': 10}\r\n",
        "\r\n",
        "xg_reg = xgb.train(params=params, dtrain=data_dmatrix, num_boost_round=10)"
      ],
      "execution_count": 111,
      "outputs": [
        {
          "output_type": "stream",
          "text": [
            "[16:36:35] WARNING: /workspace/src/objective/regression_obj.cu:152: reg:linear is now deprecated in favor of reg:squarederror.\n"
          ],
          "name": "stdout"
        }
      ]
    },
    {
      "cell_type": "code",
      "metadata": {
        "colab": {
          "base_uri": "https://localhost:8080/",
          "height": 340
        },
        "id": "EruG3xm0gCiL",
        "outputId": "1df54604-18bf-4344-dd51-71b848df506a"
      },
      "source": [
        "plt.figure(figsize=(20,12))\r\n",
        "xgb.plot_importance(xg_reg)\r\n",
        "plt.show()"
      ],
      "execution_count": 112,
      "outputs": [
        {
          "output_type": "display_data",
          "data": {
            "text/plain": [
              "<Figure size 1440x864 with 0 Axes>"
            ]
          },
          "metadata": {
            "tags": []
          }
        },
        {
          "output_type": "display_data",
          "data": {
            "image/png": "[encoded data removed]",
            "text/plain": [
              "<Figure size 432x288 with 1 Axes>"
            ]
          },
          "metadata": {
            "tags": []
          }
        }
      ]
    },
    {
      "cell_type": "markdown",
      "metadata": {
        "id": "cOtAcWPckzsw"
      },
      "source": [
        "## Vocabularizing the Deep Learning Df"
      ]
    },
    {
      "cell_type": "code",
      "metadata": {
        "colab": {
          "base_uri": "https://localhost:8080/"
        },
        "id": "IwEOG-fRVF0X",
        "outputId": "47ce312c-a12c-4028-8642-b4760fe6d74b"
      },
      "source": [
        "deep_learning_df.shape"
      ],
      "execution_count": 113,
      "outputs": [
        {
          "output_type": "execute_result",
          "data": {
            "text/plain": [
              "(37043, 11)"
            ]
          },
          "metadata": {
            "tags": []
          },
          "execution_count": 113
        }
      ]
    },
    {
      "cell_type": "code",
      "metadata": {
        "colab": {
          "base_uri": "https://localhost:8080/"
        },
        "id": "pGd2Hw-qq_gW",
        "outputId": "a52c7a90-2858-4a48-d410-a259d05454e1"
      },
      "source": [
        "def vocabularize(text, max_features):\n",
        "  x = text\n",
        "  vocabSize = max_features\n",
        "  tokenizer = Tokenizer(num_words=vocabSize, split=' ')\n",
        "  tokenizer.fit_on_texts(x)\n",
        "  x = tokenizer.texts_to_sequences(x)\n",
        "  x = pad_sequences(x,MAX_LENGTH)\n",
        "  return x\n",
        "x = vocabularize(deep_learning_df[\"Description_New\"], max_features)\n",
        "x"
      ],
      "execution_count": 114,
      "outputs": [
        {
          "output_type": "execute_result",
          "data": {
            "text/plain": [
              "array([[   0,    0,    0, ...,    8, 3788,    5],\n",
              "       [   0,    0,    0, ...,    7,  622,  252],\n",
              "       [   0,    0,    0, ...,   83,  473,  113],\n",
              "       ...,\n",
              "       [   0,    0,    0, ..., 1964,  804,    7],\n",
              "       [   0,    0,    0, ...,    0,  267,   39],\n",
              "       [   0,    0,    0, ...,   34,   71,    8]], dtype=int32)"
            ]
          },
          "metadata": {
            "tags": []
          },
          "execution_count": 114
        }
      ]
    },
    {
      "cell_type": "code",
      "metadata": {
        "id": "2d56Pd5Rs9fS"
      },
      "source": [
        "updated_deep_learning_df = deep_learning_df.replace(replaceStruct)\r\n",
        "y = updated_deep_learning_df[\"Assignment group\"]\r\n",
        "y = np.array(y)\r\n",
        "x_train, x_test, y_train, y_test = train_test_split(x, y, test_size=0.3, random_state = 100)"
      ],
      "execution_count": 115,
      "outputs": []
    },
    {
      "cell_type": "code",
      "metadata": {
        "id": "B55lMw_y0Ucr"
      },
      "source": [
        "from sklearn.utils import class_weight\r\n",
        "class_weights = class_weight.compute_class_weight('balanced',\r\n",
        "                                                 np.unique(y_train),\r\n",
        "                                                 y_train)"
      ],
      "execution_count": 117,
      "outputs": []
    },
    {
      "cell_type": "code",
      "metadata": {
        "colab": {
          "base_uri": "https://localhost:8080/"
        },
        "id": "5uOwD8us6kjy",
        "outputId": "a9c89445-4502-4dfa-d3e4-923b64441214"
      },
      "source": [
        "len(np.unique(y_train))\r\n",
        "mapping = dict(zip([i for i in range(40)],np.unique(y_train)))\r\n",
        "class_weights = dict(zip([i for i in range(40)],class_weights))\r\n",
        "class_weights"
      ],
      "execution_count": 118,
      "outputs": [
        {
          "output_type": "execute_result",
          "data": {
            "text/plain": [
              "{0: 0.22963159759121501,\n",
              " 1: 0.8807744565217391,\n",
              " 2: 0.7485565819861432,\n",
              " 3: 0.9143159379407616,\n",
              " 4: 1.03060413354531,\n",
              " 5: 1.427863436123348,\n",
              " 6: 1.016065830721003,\n",
              " 7: 1.5146028037383177,\n",
              " 8: 0.6970430107526882,\n",
              " 9: 1.256298449612403,\n",
              " 10: 1.3821961620469083,\n",
              " 11: 0.9561209439528023,\n",
              " 12: 1.2026901669758812,\n",
              " 13: 1.2965,\n",
              " 14: 0.8966113416320886,\n",
              " 15: 1.379255319148936,\n",
              " 16: 1.2094216417910448,\n",
              " 17: 1.2913346613545817,\n",
              " 18: 1.1960332103321034,\n",
              " 19: 0.8597480106100795,\n",
              " 20: 1.5508373205741626,\n",
              " 21: 0.9505131964809385,\n",
              " 22: 0.8978531855955678,\n",
              " 23: 1.1119210977701544,\n",
              " 24: 1.0679571663920921,\n",
              " 25: 0.9003472222222222,\n",
              " 26: 0.974812030075188,\n",
              " 27: 1.2887673956262427,\n",
              " 28: 1.0858458961474038,\n",
              " 29: 1.4341814159292035,\n",
              " 30: 1.4469866071428572,\n",
              " 31: 0.9367774566473989,\n",
              " 32: 0.8843792633015006,\n",
              " 33: 1.2208097928436912,\n",
              " 34: 1.3421325051759834,\n",
              " 35: 1.4341814159292035,\n",
              " 36: 1.5288915094339623,\n",
              " 37: 1.0176609105180534,\n",
              " 38: 1.1534697508896796,\n",
              " 39: 1.1234835355285961}"
            ]
          },
          "metadata": {
            "tags": []
          },
          "execution_count": 118
        }
      ]
    },
    {
      "cell_type": "code",
      "metadata": {
        "colab": {
          "base_uri": "https://localhost:8080/"
        },
        "id": "GgRtTXxg_LJb",
        "outputId": "0b547479-2660-46a8-c8f0-607ab97d4f65"
      },
      "source": [
        "mapping"
      ],
      "execution_count": 119,
      "outputs": [
        {
          "output_type": "execute_result",
          "data": {
            "text/plain": [
              "{0: 0,\n",
              " 1: 1,\n",
              " 2: 2,\n",
              " 3: 3,\n",
              " 4: 4,\n",
              " 5: 5,\n",
              " 6: 6,\n",
              " 7: 7,\n",
              " 8: 8,\n",
              " 9: 9,\n",
              " 10: 10,\n",
              " 11: 11,\n",
              " 12: 12,\n",
              " 13: 13,\n",
              " 14: 14,\n",
              " 15: 15,\n",
              " 16: 16,\n",
              " 17: 17,\n",
              " 18: 18,\n",
              " 19: 19,\n",
              " 20: 20,\n",
              " 21: 21,\n",
              " 22: 22,\n",
              " 23: 23,\n",
              " 24: 24,\n",
              " 25: 25,\n",
              " 26: 26,\n",
              " 27: 28,\n",
              " 28: 29,\n",
              " 29: 30,\n",
              " 30: 31,\n",
              " 31: 33,\n",
              " 32: 34,\n",
              " 33: 40,\n",
              " 34: 41,\n",
              " 35: 42,\n",
              " 36: 45,\n",
              " 37: 47,\n",
              " 38: 48,\n",
              " 39: 62}"
            ]
          },
          "metadata": {
            "tags": []
          },
          "execution_count": 119
        }
      ]
    },
    {
      "cell_type": "code",
      "metadata": {
        "colab": {
          "base_uri": "https://localhost:8080/"
        },
        "id": "t_3aaEmV_UEB",
        "outputId": "4e07378c-a0e0-4ecb-f57e-5734a0d61020"
      },
      "source": [
        "reversemapping = dict(zip([mapping[i] for i in mapping], [i for i in mapping]))\r\n",
        "reversemapping"
      ],
      "execution_count": 120,
      "outputs": [
        {
          "output_type": "execute_result",
          "data": {
            "text/plain": [
              "{0: 0,\n",
              " 1: 1,\n",
              " 2: 2,\n",
              " 3: 3,\n",
              " 4: 4,\n",
              " 5: 5,\n",
              " 6: 6,\n",
              " 7: 7,\n",
              " 8: 8,\n",
              " 9: 9,\n",
              " 10: 10,\n",
              " 11: 11,\n",
              " 12: 12,\n",
              " 13: 13,\n",
              " 14: 14,\n",
              " 15: 15,\n",
              " 16: 16,\n",
              " 17: 17,\n",
              " 18: 18,\n",
              " 19: 19,\n",
              " 20: 20,\n",
              " 21: 21,\n",
              " 22: 22,\n",
              " 23: 23,\n",
              " 24: 24,\n",
              " 25: 25,\n",
              " 26: 26,\n",
              " 28: 27,\n",
              " 29: 28,\n",
              " 30: 29,\n",
              " 31: 30,\n",
              " 33: 31,\n",
              " 34: 32,\n",
              " 40: 33,\n",
              " 41: 34,\n",
              " 42: 35,\n",
              " 45: 36,\n",
              " 47: 37,\n",
              " 48: 38,\n",
              " 62: 39}"
            ]
          },
          "metadata": {
            "tags": []
          },
          "execution_count": 120
        }
      ]
    },
    {
      "cell_type": "code",
      "metadata": {
        "id": "F2XfqZlACRm9"
      },
      "source": [
        "count = len(y_train)\r\n",
        "y_train_new = []\r\n",
        "for i in range(count):\r\n",
        "  y_train_new.append(reversemapping[y_train[i]])\r\n",
        "\r\n",
        "count = len(y_test)\r\n",
        "y_test_new = []\r\n",
        "for i in range(count):\r\n",
        "  y_test_new.append(reversemapping[y_test[i]])\r\n",
        "\r\n",
        "y_train_new = np.array(y_train_new)\r\n",
        "y_test_new = np.array(y_test_new)"
      ],
      "execution_count": 121,
      "outputs": []
    },
    {
      "cell_type": "code",
      "metadata": {
        "id": "_L2mdjrQNfhV"
      },
      "source": [
        "y_train_final = np.zeros((y_train_new.size, y_train_new.max()+1))\r\n",
        "y_train_final[np.arange(y_train_new.size),y_train_new] = 1\r\n",
        "y_test_final = np.zeros((y_test_new.size, y_test_new.max()+1))\r\n",
        "y_test_final[np.arange(y_test_new.size),y_test_new] = 1"
      ],
      "execution_count": 122,
      "outputs": []
    },
    {
      "cell_type": "code",
      "metadata": {
        "colab": {
          "base_uri": "https://localhost:8080/"
        },
        "id": "JwSn4u07Ng6G",
        "outputId": "51fac813-3d5f-40b5-cd6b-f0ae0b95028b"
      },
      "source": [
        "y_train_final"
      ],
      "execution_count": 123,
      "outputs": [
        {
          "output_type": "execute_result",
          "data": {
            "text/plain": [
              "array([[0., 0., 0., ..., 0., 0., 0.],\n",
              "       [0., 0., 0., ..., 0., 0., 0.],\n",
              "       [0., 0., 1., ..., 0., 0., 0.],\n",
              "       ...,\n",
              "       [0., 0., 0., ..., 0., 0., 0.],\n",
              "       [0., 0., 0., ..., 0., 0., 0.],\n",
              "       [0., 0., 0., ..., 0., 0., 0.]])"
            ]
          },
          "metadata": {
            "tags": []
          },
          "execution_count": 123
        }
      ]
    },
    {
      "cell_type": "code",
      "metadata": {
        "colab": {
          "base_uri": "https://localhost:8080/"
        },
        "id": "TVs-FwDJO2Sm",
        "outputId": "702d091a-d0df-4625-a0ce-1a06d20b13f4"
      },
      "source": [
        "y_train_final.shape"
      ],
      "execution_count": 124,
      "outputs": [
        {
          "output_type": "execute_result",
          "data": {
            "text/plain": [
              "(25930, 40)"
            ]
          },
          "metadata": {
            "tags": []
          },
          "execution_count": 124
        }
      ]
    },
    {
      "cell_type": "code",
      "metadata": {
        "colab": {
          "base_uri": "https://localhost:8080/"
        },
        "id": "_p3dDdPRNsnH",
        "outputId": "9dbf37d6-07dd-406c-b59d-71900162d728"
      },
      "source": [
        "y_test_final"
      ],
      "execution_count": 125,
      "outputs": [
        {
          "output_type": "execute_result",
          "data": {
            "text/plain": [
              "array([[0., 0., 0., ..., 0., 0., 0.],\n",
              "       [0., 0., 0., ..., 0., 0., 0.],\n",
              "       [0., 0., 0., ..., 0., 0., 0.],\n",
              "       ...,\n",
              "       [0., 0., 0., ..., 0., 1., 0.],\n",
              "       [0., 0., 0., ..., 0., 0., 0.],\n",
              "       [0., 0., 0., ..., 0., 0., 0.]])"
            ]
          },
          "metadata": {
            "tags": []
          },
          "execution_count": 125
        }
      ]
    },
    {
      "cell_type": "code",
      "metadata": {
        "colab": {
          "base_uri": "https://localhost:8080/"
        },
        "id": "Dm2lfqOdN3VU",
        "outputId": "ee2b4855-775b-4116-90fe-aa5215715d48"
      },
      "source": [
        "y_test_final.shape"
      ],
      "execution_count": 126,
      "outputs": [
        {
          "output_type": "execute_result",
          "data": {
            "text/plain": [
              "(11113, 40)"
            ]
          },
          "metadata": {
            "tags": []
          },
          "execution_count": 126
        }
      ]
    },
    {
      "cell_type": "code",
      "metadata": {
        "id": "ROPKZu76cjTT"
      },
      "source": [
        "es = EarlyStopping(monitor='val_accuracy', mode='auto', verbose=1, patience = 5)"
      ],
      "execution_count": 127,
      "outputs": []
    },
    {
      "cell_type": "code",
      "metadata": {
        "id": "zgDUvOMswox-"
      },
      "source": [
        "#### Add your code here ####\r\n",
        "VOCAB_SIZE = max_features\r\n",
        "model = \" \"\r\n",
        "fitted_model = \" \"\r\n",
        "if os.path.exists(folder_path + \"/\" + \"model_LSTM_trained.pickle\"):\r\n",
        "  model = get_pickle_data(\"model_LSTM_trained.pickle\")\r\n",
        "  fitted_model = get_pickle_data(\"model_LSTM_fitted.pickle\")\r\n",
        "else:\r\n",
        "  model = Sequential() #creating sequential model\r\n",
        "  model.add(Embedding(input_dim = VOCAB_SIZE, output_dim = 300, input_length = MAX_LENGTH)) #adding embedding layer\r\n",
        "  model.add(SpatialDropout1D(0.2)) #added for robustness\r\n",
        "  model.add(LSTM(units = 300, return_sequences = True, recurrent_dropout = 0.1)) #adding LSTM layer\r\n",
        "  #model.add(TimeDistributed(Dense(100, activation = \"relu\"))) # timedistributed layer\r\n",
        "  model.add(Flatten())\r\n",
        "  model.add(Dense(len(np.unique(y)),activation=\"softmax\")) #Dense layer\r\n",
        "\r\n",
        "  #### Add your code here ####\r\n",
        "  model.compile(optimizer= \"adam\", loss =\"binary_crossentropy\",metrics =[\"accuracy\"])\r\n",
        "  fitted_model = model.fit(x_train, y_train_final, batch_size = 64, epochs=5, verbose=1, validation_split=0.2, class_weight = class_weights,callbacks = [es])\r\n",
        "  pickle_dump(fitted_model, \"model_LSTM_fitted.pickle\")\r\n",
        "  pickle_dump(model_LSTM, \"model_LSTM_trained.pickle\")\r\n",
        "score, acc = model.evaluate(x_test, y_test_final,verbose = 1)"
      ],
      "execution_count": 116,
      "outputs": []
    },
    {
      "cell_type": "code",
      "metadata": {
        "colab": {
          "base_uri": "https://localhost:8080/"
        },
        "id": "aPLgiKOibl5h",
        "outputId": "1de7144f-a753-43ad-a553-4c973cd8de41"
      },
      "source": [
        "print(\"accuracy\", acc)"
      ],
      "execution_count": 129,
      "outputs": [
        {
          "output_type": "stream",
          "text": [
            "accuracy 0.8918383717536926\n"
          ],
          "name": "stdout"
        }
      ]
    },
    {
      "cell_type": "code",
      "metadata": {
        "colab": {
          "base_uri": "https://localhost:8080/",
          "height": 318
        },
        "id": "GTVo6e7vbd9F",
        "outputId": "7b5f9397-3cba-4a05-cf88-e5d56a869bbe"
      },
      "source": [
        "plt.xlabel(\"accuracy\")\r\n",
        "plt.ylabel(\"val_accuracy\")\r\n",
        "plt.plot(fitted_model.history[\"accuracy\"],fitted_model.history[\"val_accuracy\"], ls = \"-\", marker = \".\", markersize = \"10\")"
      ],
      "execution_count": 130,
      "outputs": [
        {
          "output_type": "execute_result",
          "data": {
            "text/plain": [
              "[<matplotlib.lines.Line2D at 0x7f9ad5d8a5c0>]"
            ]
          },
          "metadata": {
            "tags": []
          },
          "execution_count": 130
        },
        {
          "output_type": "display_data",
          "data": {
            "image/png": "[encoded data removed]",
            "text/plain": [
              "<Figure size 432x288 with 1 Axes>"
            ]
          },
          "metadata": {
            "tags": []
          }
        }
      ]
    },
    {
      "cell_type": "code",
      "metadata": {
        "id": "kGjKNH8Z57UZ"
      },
      "source": [
        "#### Add your code here ####\r\n",
        "VOCAB_SIZE = max_features\r\n",
        "model_GRU = \" \"\r\n",
        "fitted_model = \" \"\r\n",
        "if os.path.exists(folder_path + \"/\" + \"model_GRU_trained.pickle\"):\r\n",
        "  model_GRU = get_pickle_data(\"model_GRU_trained.pickle\")\r\n",
        "  fitted_model = get_pickle_data(\"model_GRU_fitted.pickle\")\r\n",
        "else:\r\n",
        "  model_GRU = Sequential() #creating sequential model\r\n",
        "  model_GRU.add(Embedding(input_dim = VOCAB_SIZE, output_dim = 300, input_length = MAX_LENGTH)) #adding embedding layer\r\n",
        "  model_GRU.add(SpatialDropout1D(0.2)) #added for robustness\r\n",
        "  model_GRU.add(GRU(units=MAX_LENGTH, return_sequences=True, input_shape=(MAX_LENGTH,1), activation='tanh'))\r\n",
        "  #model_GRU.add(TimeDistributed(Dense(100, activation = \"relu\"))) # timedistributed layer\r\n",
        "  model_GRU.add(Flatten())\r\n",
        "  model_GRU.add(Dense(len(np.unique(y)),activation=\"softmax\")) #Dense layer\r\n",
        "\r\n",
        "  #### Add your code here ####\r\n",
        "  model_GRU.compile(optimizer= \"adam\", loss =\"binary_crossentropy\",metrics =[\"accuracy\"])\r\n",
        "  fitted_model = model_GRU.fit(x_train, y_train_final, batch_size = 64, epochs=5, verbose=1, validation_split=0.2, class_weight = class_weights,callbacks = [es])\r\n",
        "  pickle_dump(fitted_model, \"model_GRU_fitted.pickle\")\r\n",
        "  pickle_dump(model_GRU, \"model_GRU_trained.pickle\")\r\n",
        "score, acc = model_GRU.evaluate(x_test, y_test_final,verbose = 1)"
      ],
      "execution_count": 134,
      "outputs": []
    },
    {
      "cell_type": "code",
      "metadata": {
        "colab": {
          "base_uri": "https://localhost:8080/"
        },
        "id": "iO7Iet9A-JiW",
        "outputId": "f93348a4-14e6-44ba-d97f-e50b475fa300"
      },
      "source": [
        "print(\"accuracy\", acc)"
      ],
      "execution_count": 136,
      "outputs": [
        {
          "output_type": "stream",
          "text": [
            "accuracy 0.8909385204315186\n"
          ],
          "name": "stdout"
        }
      ]
    },
    {
      "cell_type": "code",
      "metadata": {
        "colab": {
          "base_uri": "https://localhost:8080/",
          "height": 318
        },
        "id": "RnltF3zf-LLS",
        "outputId": "8262a034-d9ae-400b-9e21-1e19511eeced"
      },
      "source": [
        "plt.xlabel(\"accuracy\")\r\n",
        "plt.ylabel(\"val_accuracy\")\r\n",
        "plt.plot(fitted_model.history[\"accuracy\"],fitted_model.history[\"val_accuracy\"], ls = \"-\", marker = \".\", markersize = \"10\")"
      ],
      "execution_count": 137,
      "outputs": [
        {
          "output_type": "execute_result",
          "data": {
            "text/plain": [
              "[<matplotlib.lines.Line2D at 0x7f9ad5a98080>]"
            ]
          },
          "metadata": {
            "tags": []
          },
          "execution_count": 137
        },
        {
          "output_type": "display_data",
          "data": {
            "image/png": "[encoded data removed]",
            "text/plain": [
              "<Figure size 432x288 with 1 Axes>"
            ]
          },
          "metadata": {
            "tags": []
          }
        }
      ]
    },
    {
      "cell_type": "code",
      "metadata": {
        "id": "O7gxGTMTeK1T"
      },
      "source": [
        "#### Add your code here ####\r\n",
        "VOCAB_SIZE = max_features\r\n",
        "fitted_model = \" \"\r\n",
        "model_bi_LSTM = \" \"\r\n",
        "if os.path.exists(folder_path + \"/\" + \"model_bi_LSTM_trained.pickle\"):\r\n",
        "  model_bi_LSTM = get_pickle_data(\"model_bi_LSTM_trained.pickle\")\r\n",
        "  fitted_model = get_pickle_data(\"model_bi_LSTM_fitted.pickle\")\r\n",
        "else:\r\n",
        "  model_bi_LSTM = Sequential() #creating sequential model\r\n",
        "  model_bi_LSTM.add(Embedding(input_dim = VOCAB_SIZE, output_dim = 300, input_length = MAX_LENGTH)) #adding embedding layer\r\n",
        "  model_bi_LSTM.add(SpatialDropout1D(0.3)) #added for robustness\r\n",
        "  model_bi_LSTM.add(Bidirectional(LSTM(units = 300, return_sequences = True, recurrent_dropout = 0.1))) #adding LSTM layer\r\n",
        "  #model.add(TimeDistributed(Dense(100, activation = \"relu\"))) # timedistributed layer\r\n",
        "  model_bi_LSTM.add(Flatten())\r\n",
        "  model_bi_LSTM.add(Dense(len(np.unique(y)),activation=\"softmax\")) #Dense layer\r\n",
        "#### Add your code here ####\r\n",
        "  model_bi_LSTM.compile(optimizer= \"adam\", loss =\"binary_crossentropy\",metrics =[\"accuracy\"])\r\n",
        "  fitted_model = model_bi_LSTM.fit(x_train, y_train_final, batch_size = 64, epochs=5, verbose=1, validation_split=0.2, class_weight = class_weights,callbacks = [es])\r\n",
        "  pickle_dump(fitted_model, \"model_bi_LSTM_fitted.pickle\")\r\n",
        "  pickle_dump(model_bi_LSTM, \"model_bi_LSTM_trained.pickle\")\r\n",
        "score, acc = model_bi_LSTM.evaluate(x_test, y_test_final,verbose = 1)"
      ],
      "execution_count": 153,
      "outputs": []
    },
    {
      "cell_type": "code",
      "metadata": {
        "id": "hnEEENm2eqFM"
      },
      "source": [
        "print(\"accuracy\", acc)"
      ],
      "execution_count": null,
      "outputs": []
    },
    {
      "cell_type": "code",
      "metadata": {
        "id": "TtbC_9oaeq4Z"
      },
      "source": [
        "plt.xlabel(\"accuracy\")\r\n",
        "plt.ylabel(\"val_accuracy\")\r\n",
        "plt.plot(fitted_model.history[\"accuracy\"],fitted_model.history[\"val_accuracy\"], ls = \"-\", marker = \".\", markersize = \"10\")"
      ],
      "execution_count": null,
      "outputs": []
    }
  ]
}