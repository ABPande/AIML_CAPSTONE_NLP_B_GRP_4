{
  "nbformat": 4,
  "nbformat_minor": 0,
  "metadata": {
    "kernelspec": {
      "display_name": "Python 3",
      "language": "python",
      "name": "python3"
    },
    "language_info": {
      "codemirror_mode": {
        "name": "ipython",
        "version": 3
      },
      "file_extension": ".py",
      "mimetype": "text/x-python",
      "name": "python",
      "nbconvert_exporter": "python",
      "pygments_lexer": "ipython3",
      "version": "3.7.3"
    },
    "colab": {
      "name": "Capstone Project.ipynb",
      "provenance": [],
      "collapsed_sections": []
    }
  },
  "cells": [
    {
      "cell_type": "markdown",
      "metadata": {
        "id": "f6oi-KsRq_gU"
      },
      "source": [
        "# **Capstone Project GRP4 NLP B**"
      ]
    },
    {
      "cell_type": "markdown",
      "metadata": {
        "id": "6cX4-a6RipMH"
      },
      "source": [
        "## Installing Packages"
      ]
    },
    {
      "cell_type": "code",
      "metadata": {
        "colab": {
          "base_uri": "https://localhost:8080/"
        },
        "id": "ZpvwcjP0ZqzW",
        "outputId": "109af3d6-3902-46ef-9264-9bfa3e4be169"
      },
      "source": [
        "!pip install -U textblob\n",
        "!pip install translators\n",
        "!pip install goslate\n",
        "import goslate\n",
        "!pip install translate\n",
        "!pip install googletrans\n",
        "import googletrans\n",
        "from googletrans import Translator\n",
        "!pip install langdetect\n",
        "!pip install ftfy\n",
        "!pip install rpy2"
      ],
      "execution_count": 1,
      "outputs": [
        {
          "output_type": "stream",
          "text": [
            "Requirement already up-to-date: textblob in /usr/local/lib/python3.6/dist-packages (0.15.3)\n",
            "Requirement already satisfied, skipping upgrade: nltk>=3.1 in /usr/local/lib/python3.6/dist-packages (from textblob) (3.2.5)\n",
            "Requirement already satisfied, skipping upgrade: six in /usr/local/lib/python3.6/dist-packages (from nltk>=3.1->textblob) (1.15.0)\n",
            "Requirement already satisfied: translators in /usr/local/lib/python3.6/dist-packages (4.7.11)\n",
            "Requirement already satisfied: loguru>=0.4.1 in /usr/local/lib/python3.6/dist-packages (from translators) (0.5.3)\n",
            "Requirement already satisfied: requests>=2.23.0 in /usr/local/lib/python3.6/dist-packages (from translators) (2.23.0)\n",
            "Requirement already satisfied: PyExecJS>=1.5.1 in /usr/local/lib/python3.6/dist-packages (from translators) (1.5.1)\n",
            "Requirement already satisfied: lxml>=4.5.0 in /usr/local/lib/python3.6/dist-packages (from translators) (4.6.2)\n",
            "Requirement already satisfied: aiocontextvars>=0.2.0; python_version < \"3.7\" in /usr/local/lib/python3.6/dist-packages (from loguru>=0.4.1->translators) (0.2.2)\n",
            "Requirement already satisfied: idna<3,>=2.5 in /usr/local/lib/python3.6/dist-packages (from requests>=2.23.0->translators) (2.10)\n",
            "Requirement already satisfied: urllib3!=1.25.0,!=1.25.1,<1.26,>=1.21.1 in /usr/local/lib/python3.6/dist-packages (from requests>=2.23.0->translators) (1.24.3)\n",
            "Requirement already satisfied: certifi>=2017.4.17 in /usr/local/lib/python3.6/dist-packages (from requests>=2.23.0->translators) (2020.11.8)\n",
            "Requirement already satisfied: chardet<4,>=3.0.2 in /usr/local/lib/python3.6/dist-packages (from requests>=2.23.0->translators) (3.0.4)\n",
            "Requirement already satisfied: six>=1.10.0 in /usr/local/lib/python3.6/dist-packages (from PyExecJS>=1.5.1->translators) (1.15.0)\n",
            "Requirement already satisfied: contextvars==2.4; python_version < \"3.7\" in /usr/local/lib/python3.6/dist-packages (from aiocontextvars>=0.2.0; python_version < \"3.7\"->loguru>=0.4.1->translators) (2.4)\n",
            "Requirement already satisfied: immutables>=0.9 in /usr/local/lib/python3.6/dist-packages (from contextvars==2.4; python_version < \"3.7\"->aiocontextvars>=0.2.0; python_version < \"3.7\"->loguru>=0.4.1->translators) (0.14)\n",
            "Requirement already satisfied: goslate in /usr/local/lib/python3.6/dist-packages (1.5.1)\n",
            "Requirement already satisfied: futures in /usr/local/lib/python3.6/dist-packages (from goslate) (3.1.1)\n",
            "Requirement already satisfied: translate in /usr/local/lib/python3.6/dist-packages (3.5.0)\n",
            "Requirement already satisfied: tox in /usr/local/lib/python3.6/dist-packages (from translate) (3.20.1)\n",
            "Requirement already satisfied: lxml in /usr/local/lib/python3.6/dist-packages (from translate) (4.6.2)\n",
            "Requirement already satisfied: click in /usr/local/lib/python3.6/dist-packages (from translate) (7.1.2)\n",
            "Requirement already satisfied: pre-commit in /usr/local/lib/python3.6/dist-packages (from translate) (2.9.2)\n",
            "Requirement already satisfied: requests in /usr/local/lib/python3.6/dist-packages (from translate) (2.23.0)\n",
            "Requirement already satisfied: packaging>=14 in /usr/local/lib/python3.6/dist-packages (from tox->translate) (20.4)\n",
            "Collecting pluggy>=0.12.0\n",
            "  Using cached https://files.pythonhosted.org/packages/a0/28/85c7aa31b80d150b772fbe4a229487bc6644da9ccb7e427dd8cc60cb8a62/pluggy-0.13.1-py2.py3-none-any.whl\n",
            "Requirement already satisfied: filelock>=3.0.0 in /usr/local/lib/python3.6/dist-packages (from tox->translate) (3.0.12)\n",
            "Requirement already satisfied: virtualenv!=20.0.0,!=20.0.1,!=20.0.2,!=20.0.3,!=20.0.4,!=20.0.5,!=20.0.6,!=20.0.7,>=16.0.0 in /usr/local/lib/python3.6/dist-packages (from tox->translate) (20.2.2)\n",
            "Requirement already satisfied: six>=1.14.0 in /usr/local/lib/python3.6/dist-packages (from tox->translate) (1.15.0)\n",
            "Requirement already satisfied: toml>=0.9.4 in /usr/local/lib/python3.6/dist-packages (from tox->translate) (0.10.2)\n",
            "Requirement already satisfied: py>=1.4.17 in /usr/local/lib/python3.6/dist-packages (from tox->translate) (1.9.0)\n",
            "Requirement already satisfied: importlib-metadata<3,>=0.12; python_version < \"3.8\" in /usr/local/lib/python3.6/dist-packages (from tox->translate) (2.0.0)\n",
            "Requirement already satisfied: importlib-resources; python_version < \"3.7\" in /usr/local/lib/python3.6/dist-packages (from pre-commit->translate) (3.3.0)\n",
            "Requirement already satisfied: cfgv>=2.0.0 in /usr/local/lib/python3.6/dist-packages (from pre-commit->translate) (3.2.0)\n",
            "Requirement already satisfied: nodeenv>=0.11.1 in /usr/local/lib/python3.6/dist-packages (from pre-commit->translate) (1.5.0)\n",
            "Requirement already satisfied: pyyaml>=5.1 in /usr/local/lib/python3.6/dist-packages (from pre-commit->translate) (5.3.1)\n",
            "Requirement already satisfied: identify>=1.0.0 in /usr/local/lib/python3.6/dist-packages (from pre-commit->translate) (1.5.10)\n",
            "Requirement already satisfied: certifi>=2017.4.17 in /usr/local/lib/python3.6/dist-packages (from requests->translate) (2020.11.8)\n",
            "Requirement already satisfied: idna<3,>=2.5 in /usr/local/lib/python3.6/dist-packages (from requests->translate) (2.10)\n",
            "Requirement already satisfied: chardet<4,>=3.0.2 in /usr/local/lib/python3.6/dist-packages (from requests->translate) (3.0.4)\n",
            "Requirement already satisfied: urllib3!=1.25.0,!=1.25.1,<1.26,>=1.21.1 in /usr/local/lib/python3.6/dist-packages (from requests->translate) (1.24.3)\n",
            "Requirement already satisfied: pyparsing>=2.0.2 in /usr/local/lib/python3.6/dist-packages (from packaging>=14->tox->translate) (2.4.7)\n",
            "Requirement already satisfied: distlib<1,>=0.3.1 in /usr/local/lib/python3.6/dist-packages (from virtualenv!=20.0.0,!=20.0.1,!=20.0.2,!=20.0.3,!=20.0.4,!=20.0.5,!=20.0.6,!=20.0.7,>=16.0.0->tox->translate) (0.3.1)\n",
            "Requirement already satisfied: appdirs<2,>=1.4.3 in /usr/local/lib/python3.6/dist-packages (from virtualenv!=20.0.0,!=20.0.1,!=20.0.2,!=20.0.3,!=20.0.4,!=20.0.5,!=20.0.6,!=20.0.7,>=16.0.0->tox->translate) (1.4.4)\n",
            "Requirement already satisfied: zipp>=0.5 in /usr/local/lib/python3.6/dist-packages (from importlib-metadata<3,>=0.12; python_version < \"3.8\"->tox->translate) (3.4.0)\n",
            "\u001b[31mERROR: pytest 3.6.4 has requirement pluggy<0.8,>=0.5, but you'll have pluggy 0.13.1 which is incompatible.\u001b[0m\n",
            "\u001b[31mERROR: datascience 0.10.6 has requirement folium==0.2.1, but you'll have folium 0.8.3 which is incompatible.\u001b[0m\n",
            "Installing collected packages: pluggy\n",
            "  Found existing installation: pluggy 0.7.1\n",
            "    Uninstalling pluggy-0.7.1:\n",
            "      Successfully uninstalled pluggy-0.7.1\n",
            "Successfully installed pluggy-0.13.1\n",
            "Requirement already satisfied: googletrans in /usr/local/lib/python3.6/dist-packages (3.0.0)\n",
            "Requirement already satisfied: httpx==0.13.3 in /usr/local/lib/python3.6/dist-packages (from googletrans) (0.13.3)\n",
            "Requirement already satisfied: chardet==3.* in /usr/local/lib/python3.6/dist-packages (from httpx==0.13.3->googletrans) (3.0.4)\n",
            "Requirement already satisfied: hstspreload in /usr/local/lib/python3.6/dist-packages (from httpx==0.13.3->googletrans) (2020.11.21)\n",
            "Requirement already satisfied: idna==2.* in /usr/local/lib/python3.6/dist-packages (from httpx==0.13.3->googletrans) (2.10)\n",
            "Requirement already satisfied: sniffio in /usr/local/lib/python3.6/dist-packages (from httpx==0.13.3->googletrans) (1.2.0)\n",
            "Requirement already satisfied: httpcore==0.9.* in /usr/local/lib/python3.6/dist-packages (from httpx==0.13.3->googletrans) (0.9.1)\n",
            "Requirement already satisfied: rfc3986<2,>=1.3 in /usr/local/lib/python3.6/dist-packages (from httpx==0.13.3->googletrans) (1.4.0)\n",
            "Requirement already satisfied: certifi in /usr/local/lib/python3.6/dist-packages (from httpx==0.13.3->googletrans) (2020.11.8)\n",
            "Requirement already satisfied: contextvars>=2.1; python_version < \"3.7\" in /usr/local/lib/python3.6/dist-packages (from sniffio->httpx==0.13.3->googletrans) (2.4)\n",
            "Requirement already satisfied: h2==3.* in /usr/local/lib/python3.6/dist-packages (from httpcore==0.9.*->httpx==0.13.3->googletrans) (3.2.0)\n",
            "Requirement already satisfied: h11<0.10,>=0.8 in /usr/local/lib/python3.6/dist-packages (from httpcore==0.9.*->httpx==0.13.3->googletrans) (0.9.0)\n",
            "Requirement already satisfied: immutables>=0.9 in /usr/local/lib/python3.6/dist-packages (from contextvars>=2.1; python_version < \"3.7\"->sniffio->httpx==0.13.3->googletrans) (0.14)\n",
            "Requirement already satisfied: hpack<4,>=3.0 in /usr/local/lib/python3.6/dist-packages (from h2==3.*->httpcore==0.9.*->httpx==0.13.3->googletrans) (3.0.0)\n",
            "Requirement already satisfied: hyperframe<6,>=5.2.0 in /usr/local/lib/python3.6/dist-packages (from h2==3.*->httpcore==0.9.*->httpx==0.13.3->googletrans) (5.2.0)\n",
            "Requirement already satisfied: langdetect in /usr/local/lib/python3.6/dist-packages (1.0.8)\n",
            "Requirement already satisfied: six in /usr/local/lib/python3.6/dist-packages (from langdetect) (1.15.0)\n",
            "Requirement already satisfied: ftfy in /usr/local/lib/python3.6/dist-packages (5.8)\n",
            "Requirement already satisfied: wcwidth in /usr/local/lib/python3.6/dist-packages (from ftfy) (0.2.5)\n",
            "Requirement already satisfied: rpy2 in /usr/local/lib/python3.6/dist-packages (3.2.7)\n",
            "Requirement already satisfied: simplegeneric in /usr/local/lib/python3.6/dist-packages (from rpy2) (0.8.1)\n",
            "Requirement already satisfied: jinja2 in /usr/local/lib/python3.6/dist-packages (from rpy2) (2.11.2)\n",
            "Requirement already satisfied: pytz in /usr/local/lib/python3.6/dist-packages (from rpy2) (2018.9)\n",
            "Requirement already satisfied: pytest in /usr/local/lib/python3.6/dist-packages (from rpy2) (3.6.4)\n",
            "Requirement already satisfied: cffi>=1.13.1 in /usr/local/lib/python3.6/dist-packages (from rpy2) (1.14.3)\n",
            "Requirement already satisfied: tzlocal in /usr/local/lib/python3.6/dist-packages (from rpy2) (1.5.1)\n",
            "Requirement already satisfied: MarkupSafe>=0.23 in /usr/local/lib/python3.6/dist-packages (from jinja2->rpy2) (1.1.1)\n",
            "Requirement already satisfied: attrs>=17.4.0 in /usr/local/lib/python3.6/dist-packages (from pytest->rpy2) (20.3.0)\n",
            "Requirement already satisfied: py>=1.5.0 in /usr/local/lib/python3.6/dist-packages (from pytest->rpy2) (1.9.0)\n",
            "Requirement already satisfied: more-itertools>=4.0.0 in /usr/local/lib/python3.6/dist-packages (from pytest->rpy2) (8.6.0)\n",
            "Requirement already satisfied: atomicwrites>=1.0 in /usr/local/lib/python3.6/dist-packages (from pytest->rpy2) (1.4.0)\n",
            "Requirement already satisfied: setuptools in /usr/local/lib/python3.6/dist-packages (from pytest->rpy2) (50.3.2)\n",
            "Collecting pluggy<0.8,>=0.5\n",
            "  Using cached https://files.pythonhosted.org/packages/f5/f1/5a93c118663896d83f7bcbfb7f657ce1d0c0d617e6b4a443a53abcc658ca/pluggy-0.7.1-py2.py3-none-any.whl\n",
            "Requirement already satisfied: six>=1.10.0 in /usr/local/lib/python3.6/dist-packages (from pytest->rpy2) (1.15.0)\n",
            "Requirement already satisfied: pycparser in /usr/local/lib/python3.6/dist-packages (from cffi>=1.13.1->rpy2) (2.20)\n",
            "\u001b[31mERROR: tox 3.20.1 has requirement pluggy>=0.12.0, but you'll have pluggy 0.7.1 which is incompatible.\u001b[0m\n",
            "\u001b[31mERROR: datascience 0.10.6 has requirement folium==0.2.1, but you'll have folium 0.8.3 which is incompatible.\u001b[0m\n",
            "Installing collected packages: pluggy\n",
            "  Found existing installation: pluggy 0.13.1\n",
            "    Uninstalling pluggy-0.13.1:\n",
            "      Successfully uninstalled pluggy-0.13.1\n",
            "Successfully installed pluggy-0.7.1\n"
          ],
          "name": "stdout"
        }
      ]
    },
    {
      "cell_type": "markdown",
      "metadata": {
        "id": "Nlm1nNrSiu7d"
      },
      "source": [
        "## Importing libraries"
      ]
    },
    {
      "cell_type": "code",
      "metadata": {
        "colab": {
          "base_uri": "https://localhost:8080/",
          "height": 35
        },
        "id": "OFTNmGjVq_gU",
        "outputId": "01ad3114-92e6-4454-d645-6847bba0f8ff"
      },
      "source": [
        "from google.colab import drive\n",
        "import gc \n",
        "\n",
        "import tensorflow as tf\n",
        "\n",
        "from tensorflow.keras.preprocessing.text import Tokenizer\n",
        "from tensorflow.keras.preprocessing.sequence import pad_sequences\n",
        "from tensorflow.keras.utils import to_categorical\n",
        "from tensorflow.keras.models import Model, Sequential\n",
        "from tensorflow.keras.layers import LSTM, Embedding, Dense, TimeDistributed, Dropout, Bidirectional, Input, Flatten, GlobalMaxPool1D, SpatialDropout1D\n",
        "\n",
        "from keras.preprocessing import sequence\n",
        "from keras.callbacks import EarlyStopping\n",
        "\n",
        "from gensim.test.utils import datapath, get_tmpfile\n",
        "from gensim.models import KeyedVectors # Gensim contains word2vec models and processing tools\n",
        "from gensim.scripts.glove2word2vec import glove2word2vec\n",
        "\n",
        "from sklearn.model_selection import train_test_split\n",
        "from sklearn.metrics import confusion_matrix, classification_report\n",
        "from sklearn.preprocessing import binarize\n",
        "\n",
        "from nltk import word_tokenize\n",
        "from nltk.corpus import wordnet \n",
        "\n",
        "import os\n",
        "import nltk\n",
        "import string\n",
        "import re\n",
        "\n",
        "from collections import Counter\n",
        "from nltk.corpus import stopwords\n",
        "from translate import Translator\n",
        "from langdetect import detect\n",
        "from langdetect import detect_langs\n",
        "from langdetect import DetectorFactory\n",
        "DetectorFactory.seed = 0\n",
        "\n",
        "import random\n",
        "random.seed(0)\n",
        "import warnings\n",
        "warnings.filterwarnings(\"ignore\")\n",
        "%load_ext rpy2.ipython\n",
        "import random as rnd\n",
        "import pandas as pd\n",
        "import matplotlib.pyplot as plt\n",
        "import seaborn as sns\n",
        "import numpy as np\n",
        "from IPython.display import display\n",
        "\n",
        "from textblob import Word\n",
        "from ftfy import fix_text\n",
        "tf.__version__\n",
        "#from googletrans import Translator\n",
        "#translator = Translator(service_urls=['translate.googleapis.com'])"
      ],
      "execution_count": 2,
      "outputs": [
        {
          "output_type": "execute_result",
          "data": {
            "application/vnd.google.colaboratory.intrinsic+json": {
              "type": "string"
            },
            "text/plain": [
              "'2.3.0'"
            ]
          },
          "metadata": {
            "tags": []
          },
          "execution_count": 2
        }
      ]
    },
    {
      "cell_type": "markdown",
      "metadata": {
        "id": "_tJsiIAXiyhw"
      },
      "source": [
        "## Downloading NLTK data"
      ]
    },
    {
      "cell_type": "code",
      "metadata": {
        "colab": {
          "base_uri": "https://localhost:8080/"
        },
        "id": "qoWxoxmSjAVw",
        "outputId": "8863b1d2-57a8-418b-8bbf-d3fe50f6a2aa"
      },
      "source": [
        "nltk.download('stopwords')\n",
        "nltk.download('wordnet')"
      ],
      "execution_count": 3,
      "outputs": [
        {
          "output_type": "stream",
          "text": [
            "[nltk_data] Downloading package stopwords to /root/nltk_data...\n",
            "[nltk_data]   Package stopwords is already up-to-date!\n",
            "[nltk_data] Downloading package wordnet to /root/nltk_data...\n",
            "[nltk_data]   Package wordnet is already up-to-date!\n"
          ],
          "name": "stdout"
        },
        {
          "output_type": "execute_result",
          "data": {
            "text/plain": [
              "True"
            ]
          },
          "metadata": {
            "tags": []
          },
          "execution_count": 3
        }
      ]
    },
    {
      "cell_type": "markdown",
      "metadata": {
        "id": "8VaziMJji2D7"
      },
      "source": [
        "## Mount your Google Drive"
      ]
    },
    {
      "cell_type": "code",
      "metadata": {
        "colab": {
          "base_uri": "https://localhost:8080/"
        },
        "id": "7hQKJKTBrRli",
        "outputId": "eb0c1270-9123-4018-ada1-41d70a14ec00"
      },
      "source": [
        "#### mounting google drive ####\n",
        "drive.mount(\"/content/drive/\")\n",
        "folder_path = (\"/content/drive/My Drive/\") "
      ],
      "execution_count": 4,
      "outputs": [
        {
          "output_type": "stream",
          "text": [
            "Drive already mounted at /content/drive/; to attempt to forcibly remount, call drive.mount(\"/content/drive/\", force_remount=True).\n"
          ],
          "name": "stdout"
        }
      ]
    },
    {
      "cell_type": "markdown",
      "metadata": {
        "id": "DP8ALe3ri6sP"
      },
      "source": [
        "## Loading data and creating a pickle function"
      ]
    },
    {
      "cell_type": "code",
      "metadata": {
        "id": "CtKETyHxq_gW",
        "colab": {
          "base_uri": "https://localhost:8080/"
        },
        "outputId": "813dcdb5-e393-46cb-9eef-a507b1ea23f9"
      },
      "source": [
        "ticket_data = \"\"\n",
        "import pickle\n",
        "pickle_flag = False\n",
        "\n",
        "## Get Pickle Data\n",
        "def get_pickle_data(filename):\n",
        "  pickle_data = open(folder_path + \"/\" + filename,'rb')\n",
        "  return pickle.load(pickle_data)\n",
        "\n",
        "## Dump Pickle Data\n",
        "def pickle_dump(data_to_dump, filename):\n",
        "  filehandler = open((folder_path+ \"/\" + filename),\"wb\")\n",
        "  pickle.dump(data_to_dump,filehandler)\n",
        "\n",
        "if not os.path.exists(folder_path + \"/input_data.pickle\"):\n",
        "  ticket_data = pd.read_excel(folder_path+ \"/input_data.xlsx\")\n",
        "  print(\"picking from excel\")\n",
        "else:\n",
        "  ticket_data = get_pickle_data(\"input_data.pickle\")\n",
        "  print(\"picking from pickle\")\n",
        "  print(len(ticket_data))"
      ],
      "execution_count": 5,
      "outputs": [
        {
          "output_type": "stream",
          "text": [
            "picking from excel\n"
          ],
          "name": "stdout"
        }
      ]
    },
    {
      "cell_type": "markdown",
      "metadata": {
        "id": "3e_YqAw4jISk"
      },
      "source": [
        "## Data Analysis Begins"
      ]
    },
    {
      "cell_type": "code",
      "metadata": {
        "colab": {
          "base_uri": "https://localhost:8080/"
        },
        "id": "EsoD9CbFNAvV",
        "outputId": "04951b04-3ed6-4d59-849f-7411b7338baf"
      },
      "source": [
        "ticket_data.info()"
      ],
      "execution_count": 6,
      "outputs": [
        {
          "output_type": "stream",
          "text": [
            "<class 'pandas.core.frame.DataFrame'>\n",
            "RangeIndex: 8500 entries, 0 to 8499\n",
            "Data columns (total 4 columns):\n",
            " #   Column             Non-Null Count  Dtype \n",
            "---  ------             --------------  ----- \n",
            " 0   Short description  8492 non-null   object\n",
            " 1   Description        8499 non-null   object\n",
            " 2   Caller             8500 non-null   object\n",
            " 3   Assignment group   8500 non-null   object\n",
            "dtypes: object(4)\n",
            "memory usage: 265.8+ KB\n"
          ],
          "name": "stdout"
        }
      ]
    },
    {
      "cell_type": "code",
      "metadata": {
        "colab": {
          "base_uri": "https://localhost:8080/",
          "height": 204
        },
        "id": "WW4oJJbVq_gW",
        "outputId": "38e67f2c-18db-433a-871b-07951576145d"
      },
      "source": [
        "ticket_data.head()"
      ],
      "execution_count": 7,
      "outputs": [
        {
          "output_type": "execute_result",
          "data": {
            "text/html": [
              "<div>\n",
              "<style scoped>\n",
              "    .dataframe tbody tr th:only-of-type {\n",
              "        vertical-align: middle;\n",
              "    }\n",
              "\n",
              "    .dataframe tbody tr th {\n",
              "        vertical-align: top;\n",
              "    }\n",
              "\n",
              "    .dataframe thead th {\n",
              "        text-align: right;\n",
              "    }\n",
              "</style>\n",
              "<table border=\"1\" class=\"dataframe\">\n",
              "  <thead>\n",
              "    <tr style=\"text-align: right;\">\n",
              "      <th></th>\n",
              "      <th>Short description</th>\n",
              "      <th>Description</th>\n",
              "      <th>Caller</th>\n",
              "      <th>Assignment group</th>\n",
              "    </tr>\n",
              "  </thead>\n",
              "  <tbody>\n",
              "    <tr>\n",
              "      <th>0</th>\n",
              "      <td>login issue</td>\n",
              "      <td>-verified user details.(employee# &amp; manager na...</td>\n",
              "      <td>spxjnwir pjlcoqds</td>\n",
              "      <td>GRP_0</td>\n",
              "    </tr>\n",
              "    <tr>\n",
              "      <th>1</th>\n",
              "      <td>outlook</td>\n",
              "      <td>\\r\\n\\r\\nreceived from: hmjdrvpb.komuaywn@gmail...</td>\n",
              "      <td>hmjdrvpb komuaywn</td>\n",
              "      <td>GRP_0</td>\n",
              "    </tr>\n",
              "    <tr>\n",
              "      <th>2</th>\n",
              "      <td>cant log in to vpn</td>\n",
              "      <td>\\r\\n\\r\\nreceived from: eylqgodm.ybqkwiam@gmail...</td>\n",
              "      <td>eylqgodm ybqkwiam</td>\n",
              "      <td>GRP_0</td>\n",
              "    </tr>\n",
              "    <tr>\n",
              "      <th>3</th>\n",
              "      <td>unable to access hr_tool page</td>\n",
              "      <td>unable to access hr_tool page</td>\n",
              "      <td>xbkucsvz gcpydteq</td>\n",
              "      <td>GRP_0</td>\n",
              "    </tr>\n",
              "    <tr>\n",
              "      <th>4</th>\n",
              "      <td>skype error</td>\n",
              "      <td>skype error</td>\n",
              "      <td>owlgqjme qhcozdfx</td>\n",
              "      <td>GRP_0</td>\n",
              "    </tr>\n",
              "  </tbody>\n",
              "</table>\n",
              "</div>"
            ],
            "text/plain": [
              "               Short description  ... Assignment group\n",
              "0                    login issue  ...            GRP_0\n",
              "1                        outlook  ...            GRP_0\n",
              "2             cant log in to vpn  ...            GRP_0\n",
              "3  unable to access hr_tool page  ...            GRP_0\n",
              "4                   skype error   ...            GRP_0\n",
              "\n",
              "[5 rows x 4 columns]"
            ]
          },
          "metadata": {
            "tags": []
          },
          "execution_count": 7
        }
      ]
    },
    {
      "cell_type": "code",
      "metadata": {
        "colab": {
          "base_uri": "https://localhost:8080/"
        },
        "id": "nbaDXIl2ob3L",
        "outputId": "d79fa790-6358-408a-afef-dbb2ea273b2a"
      },
      "source": [
        "unique_callers = ticket_data['Caller'].unique()\n",
        "unique_callers.shape"
      ],
      "execution_count": 8,
      "outputs": [
        {
          "output_type": "execute_result",
          "data": {
            "text/plain": [
              "(2950,)"
            ]
          },
          "metadata": {
            "tags": []
          },
          "execution_count": 8
        }
      ]
    },
    {
      "cell_type": "code",
      "metadata": {
        "colab": {
          "base_uri": "https://localhost:8080/"
        },
        "id": "xtbjKO-6odK4",
        "outputId": "8bb0f3e3-d54f-4568-db4b-c1d8b2e06574"
      },
      "source": [
        "Func_group = ticket_data['Assignment group'].unique()\n",
        "Func_group.shape"
      ],
      "execution_count": 9,
      "outputs": [
        {
          "output_type": "execute_result",
          "data": {
            "text/plain": [
              "(74,)"
            ]
          },
          "metadata": {
            "tags": []
          },
          "execution_count": 9
        }
      ]
    },
    {
      "cell_type": "code",
      "metadata": {
        "colab": {
          "base_uri": "https://localhost:8080/"
        },
        "id": "MpnNzVVTogt-",
        "outputId": "c67d62f6-6931-44f1-f5fb-6157b1315ef7"
      },
      "source": [
        "TargetGroupCnt=ticket_data['Assignment group'].value_counts()\n",
        "TargetGroupCnt.describe()"
      ],
      "execution_count": 10,
      "outputs": [
        {
          "output_type": "execute_result",
          "data": {
            "text/plain": [
              "count      74.000000\n",
              "mean      114.864865\n",
              "std       465.747516\n",
              "min         1.000000\n",
              "25%         5.250000\n",
              "50%        26.000000\n",
              "75%        84.000000\n",
              "max      3976.000000\n",
              "Name: Assignment group, dtype: float64"
            ]
          },
          "metadata": {
            "tags": []
          },
          "execution_count": 10
        }
      ]
    },
    {
      "cell_type": "code",
      "metadata": {
        "colab": {
          "base_uri": "https://localhost:8080/"
        },
        "id": "T97JvIZmoji9",
        "outputId": "0fdd54fd-2d46-40c2-c1b5-e53e0861f25f"
      },
      "source": [
        "ticket_data.Caller.value_counts()"
      ],
      "execution_count": 11,
      "outputs": [
        {
          "output_type": "execute_result",
          "data": {
            "text/plain": [
              "bpctwhsn kzqsbmtp    810\n",
              "ZkBogxib QsEJzdZO    151\n",
              "fumkcsji sarmtlhy    134\n",
              "rbozivdq gmlhrtvp     87\n",
              "rkupnshb gsmzfojw     71\n",
              "                    ... \n",
              "bsmjflrp bvslpafi      1\n",
              "xzjlkfvc agfmpyhr      1\n",
              "dmvznstx jnpgzoxy      1\n",
              "otlqwuks bncsierm      1\n",
              "eluvxqhw gpbfkqeu      1\n",
              "Name: Caller, Length: 2950, dtype: int64"
            ]
          },
          "metadata": {
            "tags": []
          },
          "execution_count": 11
        }
      ]
    },
    {
      "cell_type": "code",
      "metadata": {
        "colab": {
          "base_uri": "https://localhost:8080/",
          "height": 296
        },
        "id": "-S2pu-RXomXF",
        "outputId": "067036ce-da46-468b-d958-6c73c2e5e5fc"
      },
      "source": [
        "sns.distplot(ticket_data['Assignment group'].value_counts())"
      ],
      "execution_count": 12,
      "outputs": [
        {
          "output_type": "execute_result",
          "data": {
            "text/plain": [
              "<matplotlib.axes._subplots.AxesSubplot at 0x7fcf34e65a58>"
            ]
          },
          "metadata": {
            "tags": []
          },
          "execution_count": 12
        },
        {
          "output_type": "display_data",
          "data": {
            "image/png": "[encoded data removed]",
            "text/plain": [
              "<Figure size 432x288 with 1 Axes>"
            ]
          },
          "metadata": {
            "tags": [],
            "needs_background": "light"
          }
        }
      ]
    },
    {
      "cell_type": "code",
      "metadata": {
        "colab": {
          "base_uri": "https://localhost:8080/",
          "height": 296
        },
        "id": "lmK8Hve7opzJ",
        "outputId": "3308a519-8a92-4e1d-abbb-172722b78771"
      },
      "source": [
        "sns.distplot(ticket_data['Caller'].value_counts())"
      ],
      "execution_count": 13,
      "outputs": [
        {
          "output_type": "execute_result",
          "data": {
            "text/plain": [
              "<matplotlib.axes._subplots.AxesSubplot at 0x7fcf349730b8>"
            ]
          },
          "metadata": {
            "tags": []
          },
          "execution_count": 13
        },
        {
          "output_type": "display_data",
          "data": {
            "image/png": "[encoded data removed]",
            "text/plain": [
              "<Figure size 432x288 with 1 Axes>"
            ]
          },
          "metadata": {
            "tags": [],
            "needs_background": "light"
          }
        }
      ]
    },
    {
      "cell_type": "code",
      "metadata": {
        "colab": {
          "base_uri": "https://localhost:8080/",
          "height": 296
        },
        "id": "XGoDC6HMosLQ",
        "outputId": "2a90783d-a5d3-4ea8-b425-9c6e0b3e1f2f"
      },
      "source": [
        "sns.boxplot(ticket_data['Assignment group'].value_counts())"
      ],
      "execution_count": 14,
      "outputs": [
        {
          "output_type": "execute_result",
          "data": {
            "text/plain": [
              "<matplotlib.axes._subplots.AxesSubplot at 0x7fcf33a377b8>"
            ]
          },
          "metadata": {
            "tags": []
          },
          "execution_count": 14
        },
        {
          "output_type": "display_data",
          "data": {
            "image/png": "[encoded data removed]",
            "text/plain": [
              "<Figure size 432x288 with 1 Axes>"
            ]
          },
          "metadata": {
            "tags": [],
            "needs_background": "light"
          }
        }
      ]
    },
    {
      "cell_type": "code",
      "metadata": {
        "colab": {
          "base_uri": "https://localhost:8080/",
          "height": 299
        },
        "id": "14SezMT4otzJ",
        "outputId": "a9987558-6b14-48af-e035-2e741d7c2b24"
      },
      "source": [
        "sns.countplot(y=\"Assignment group\", data=ticket_data, order=ticket_data['Assignment group'].value_counts().index )"
      ],
      "execution_count": 15,
      "outputs": [
        {
          "output_type": "execute_result",
          "data": {
            "text/plain": [
              "<matplotlib.axes._subplots.AxesSubplot at 0x7fcf3394e390>"
            ]
          },
          "metadata": {
            "tags": []
          },
          "execution_count": 15
        },
        {
          "output_type": "display_data",
          "data": {
            "image/png": "[encoded data removed]",
            "text/plain": [
              "<Figure size 432x288 with 1 Axes>"
            ]
          },
          "metadata": {
            "tags": [],
            "needs_background": "light"
          }
        }
      ]
    },
    {
      "cell_type": "code",
      "metadata": {
        "colab": {
          "base_uri": "https://localhost:8080/",
          "height": 295
        },
        "id": "1CHidQR8owsE",
        "outputId": "661a65e2-5ba7-41de-bd9d-156809be8ecc"
      },
      "source": [
        "plt.style.use('ggplot')\n",
        "%matplotlib inline\n",
        "\n",
        "descending_order = ticket_data['Assignment group'].value_counts().sort_values(ascending=False).index\n",
        "plt.subplots(figsize=(22,5))\n",
        "#added code for x label rotate \n",
        "ax=sns.countplot(x='Assignment group', data=ticket_data, color='royalblue',order=descending_order)\n",
        "ax.set_xticklabels(ax.get_xticklabels(), rotation=45, ha=\"right\")\n",
        "plt.tight_layout()\n",
        "plt.show()"
      ],
      "execution_count": 16,
      "outputs": [
        {
          "output_type": "display_data",
          "data": {
            "image/png": "[encoded data removed]",
            "text/plain": [
              "<Figure size 1584x360 with 1 Axes>"
            ]
          },
          "metadata": {
            "tags": [],
            "needs_background": "light"
          }
        }
      ]
    },
    {
      "cell_type": "code",
      "metadata": {
        "colab": {
          "base_uri": "https://localhost:8080/"
        },
        "id": "SIlX4Xu9o3FM",
        "outputId": "9a8e5e93-9500-4ea9-8324-cd86e58d90e2"
      },
      "source": [
        "ticket_data.isnull().values.any()"
      ],
      "execution_count": 17,
      "outputs": [
        {
          "output_type": "execute_result",
          "data": {
            "text/plain": [
              "True"
            ]
          },
          "metadata": {
            "tags": []
          },
          "execution_count": 17
        }
      ]
    },
    {
      "cell_type": "code",
      "metadata": {
        "colab": {
          "base_uri": "https://localhost:8080/",
          "height": 367
        },
        "id": "05F6GdQxo5CD",
        "outputId": "0deb3885-725d-43c1-a125-5e9f812b6bf8"
      },
      "source": [
        "sns.heatmap(ticket_data.isnull(), yticklabels=False, cmap=\"Wistia\")"
      ],
      "execution_count": 18,
      "outputs": [
        {
          "output_type": "execute_result",
          "data": {
            "text/plain": [
              "<matplotlib.axes._subplots.AxesSubplot at 0x7fcf34b040f0>"
            ]
          },
          "metadata": {
            "tags": []
          },
          "execution_count": 18
        },
        {
          "output_type": "display_data",
          "data": {
            "image/png": "[encoded data removed]",
            "text/plain": [
              "<Figure size 432x288 with 2 Axes>"
            ]
          },
          "metadata": {
            "tags": [],
            "needs_background": "light"
          }
        }
      ]
    },
    {
      "cell_type": "code",
      "metadata": {
        "colab": {
          "base_uri": "https://localhost:8080/"
        },
        "id": "cnsE0yU_o9Am",
        "outputId": "edf4fc3f-4ab3-4892-9ec7-f45463981e3d"
      },
      "source": [
        "ticket_data['Description'].fillna(value=' ', inplace=True)\n",
        "ticket_data['Short description'].fillna(value=' ', inplace=True)\n",
        "ticket_data.isnull().values.any()"
      ],
      "execution_count": 19,
      "outputs": [
        {
          "output_type": "execute_result",
          "data": {
            "text/plain": [
              "False"
            ]
          },
          "metadata": {
            "tags": []
          },
          "execution_count": 19
        }
      ]
    },
    {
      "cell_type": "markdown",
      "metadata": {
        "id": "H2DaUppJq_gW"
      },
      "source": [
        "## TODO: Somewhere in the initial EDA, We must remove the records where both Short desc and Desc are blank. While there is no such record in the data, we should still have this"
      ]
    },
    {
      "cell_type": "code",
      "metadata": {
        "colab": {
          "base_uri": "https://localhost:8080/",
          "height": 196
        },
        "id": "CKmCCbhOq_gW",
        "outputId": "b565cd35-b33f-4b49-a69b-89bcbf5dbe3b"
      },
      "source": [
        "summary_data=ticket_data.pivot_table(columns = \"Assignment group\",aggfunc='count')\n",
        "summary_data"
      ],
      "execution_count": 20,
      "outputs": [
        {
          "output_type": "execute_result",
          "data": {
            "text/html": [
              "<div>\n",
              "<style scoped>\n",
              "    .dataframe tbody tr th:only-of-type {\n",
              "        vertical-align: middle;\n",
              "    }\n",
              "\n",
              "    .dataframe tbody tr th {\n",
              "        vertical-align: top;\n",
              "    }\n",
              "\n",
              "    .dataframe thead th {\n",
              "        text-align: right;\n",
              "    }\n",
              "</style>\n",
              "<table border=\"1\" class=\"dataframe\">\n",
              "  <thead>\n",
              "    <tr style=\"text-align: right;\">\n",
              "      <th>Assignment group</th>\n",
              "      <th>GRP_0</th>\n",
              "      <th>GRP_1</th>\n",
              "      <th>GRP_10</th>\n",
              "      <th>GRP_11</th>\n",
              "      <th>GRP_12</th>\n",
              "      <th>GRP_13</th>\n",
              "      <th>GRP_14</th>\n",
              "      <th>GRP_15</th>\n",
              "      <th>GRP_16</th>\n",
              "      <th>GRP_17</th>\n",
              "      <th>GRP_18</th>\n",
              "      <th>GRP_19</th>\n",
              "      <th>GRP_2</th>\n",
              "      <th>GRP_20</th>\n",
              "      <th>GRP_21</th>\n",
              "      <th>GRP_22</th>\n",
              "      <th>GRP_23</th>\n",
              "      <th>GRP_24</th>\n",
              "      <th>GRP_25</th>\n",
              "      <th>GRP_26</th>\n",
              "      <th>GRP_27</th>\n",
              "      <th>GRP_28</th>\n",
              "      <th>GRP_29</th>\n",
              "      <th>GRP_3</th>\n",
              "      <th>GRP_30</th>\n",
              "      <th>GRP_31</th>\n",
              "      <th>GRP_32</th>\n",
              "      <th>GRP_33</th>\n",
              "      <th>GRP_34</th>\n",
              "      <th>GRP_35</th>\n",
              "      <th>GRP_36</th>\n",
              "      <th>GRP_37</th>\n",
              "      <th>GRP_38</th>\n",
              "      <th>GRP_39</th>\n",
              "      <th>GRP_4</th>\n",
              "      <th>GRP_40</th>\n",
              "      <th>GRP_41</th>\n",
              "      <th>GRP_42</th>\n",
              "      <th>GRP_43</th>\n",
              "      <th>GRP_44</th>\n",
              "      <th>GRP_45</th>\n",
              "      <th>GRP_46</th>\n",
              "      <th>GRP_47</th>\n",
              "      <th>GRP_48</th>\n",
              "      <th>GRP_49</th>\n",
              "      <th>GRP_5</th>\n",
              "      <th>GRP_50</th>\n",
              "      <th>GRP_51</th>\n",
              "      <th>GRP_52</th>\n",
              "      <th>GRP_53</th>\n",
              "      <th>GRP_54</th>\n",
              "      <th>GRP_55</th>\n",
              "      <th>GRP_56</th>\n",
              "      <th>GRP_57</th>\n",
              "      <th>GRP_58</th>\n",
              "      <th>GRP_59</th>\n",
              "      <th>GRP_6</th>\n",
              "      <th>GRP_60</th>\n",
              "      <th>GRP_61</th>\n",
              "      <th>GRP_62</th>\n",
              "      <th>GRP_63</th>\n",
              "      <th>GRP_64</th>\n",
              "      <th>GRP_65</th>\n",
              "      <th>GRP_66</th>\n",
              "      <th>GRP_67</th>\n",
              "      <th>GRP_68</th>\n",
              "      <th>GRP_69</th>\n",
              "      <th>GRP_7</th>\n",
              "      <th>GRP_70</th>\n",
              "      <th>GRP_71</th>\n",
              "      <th>GRP_72</th>\n",
              "      <th>GRP_73</th>\n",
              "      <th>GRP_8</th>\n",
              "      <th>GRP_9</th>\n",
              "    </tr>\n",
              "  </thead>\n",
              "  <tbody>\n",
              "    <tr>\n",
              "      <th>Caller</th>\n",
              "      <td>3976</td>\n",
              "      <td>31</td>\n",
              "      <td>140</td>\n",
              "      <td>30</td>\n",
              "      <td>257</td>\n",
              "      <td>145</td>\n",
              "      <td>118</td>\n",
              "      <td>39</td>\n",
              "      <td>85</td>\n",
              "      <td>81</td>\n",
              "      <td>88</td>\n",
              "      <td>215</td>\n",
              "      <td>241</td>\n",
              "      <td>36</td>\n",
              "      <td>29</td>\n",
              "      <td>31</td>\n",
              "      <td>25</td>\n",
              "      <td>289</td>\n",
              "      <td>116</td>\n",
              "      <td>56</td>\n",
              "      <td>18</td>\n",
              "      <td>44</td>\n",
              "      <td>97</td>\n",
              "      <td>200</td>\n",
              "      <td>39</td>\n",
              "      <td>69</td>\n",
              "      <td>4</td>\n",
              "      <td>107</td>\n",
              "      <td>62</td>\n",
              "      <td>1</td>\n",
              "      <td>15</td>\n",
              "      <td>16</td>\n",
              "      <td>3</td>\n",
              "      <td>19</td>\n",
              "      <td>100</td>\n",
              "      <td>45</td>\n",
              "      <td>40</td>\n",
              "      <td>37</td>\n",
              "      <td>5</td>\n",
              "      <td>15</td>\n",
              "      <td>35</td>\n",
              "      <td>6</td>\n",
              "      <td>27</td>\n",
              "      <td>25</td>\n",
              "      <td>6</td>\n",
              "      <td>129</td>\n",
              "      <td>14</td>\n",
              "      <td>8</td>\n",
              "      <td>9</td>\n",
              "      <td>11</td>\n",
              "      <td>2</td>\n",
              "      <td>8</td>\n",
              "      <td>3</td>\n",
              "      <td>2</td>\n",
              "      <td>3</td>\n",
              "      <td>6</td>\n",
              "      <td>184</td>\n",
              "      <td>20</td>\n",
              "      <td>1</td>\n",
              "      <td>25</td>\n",
              "      <td>3</td>\n",
              "      <td>1</td>\n",
              "      <td>11</td>\n",
              "      <td>4</td>\n",
              "      <td>1</td>\n",
              "      <td>3</td>\n",
              "      <td>2</td>\n",
              "      <td>68</td>\n",
              "      <td>1</td>\n",
              "      <td>2</td>\n",
              "      <td>2</td>\n",
              "      <td>1</td>\n",
              "      <td>661</td>\n",
              "      <td>252</td>\n",
              "    </tr>\n",
              "    <tr>\n",
              "      <th>Description</th>\n",
              "      <td>3976</td>\n",
              "      <td>31</td>\n",
              "      <td>140</td>\n",
              "      <td>30</td>\n",
              "      <td>257</td>\n",
              "      <td>145</td>\n",
              "      <td>118</td>\n",
              "      <td>39</td>\n",
              "      <td>85</td>\n",
              "      <td>81</td>\n",
              "      <td>88</td>\n",
              "      <td>215</td>\n",
              "      <td>241</td>\n",
              "      <td>36</td>\n",
              "      <td>29</td>\n",
              "      <td>31</td>\n",
              "      <td>25</td>\n",
              "      <td>289</td>\n",
              "      <td>116</td>\n",
              "      <td>56</td>\n",
              "      <td>18</td>\n",
              "      <td>44</td>\n",
              "      <td>97</td>\n",
              "      <td>200</td>\n",
              "      <td>39</td>\n",
              "      <td>69</td>\n",
              "      <td>4</td>\n",
              "      <td>107</td>\n",
              "      <td>62</td>\n",
              "      <td>1</td>\n",
              "      <td>15</td>\n",
              "      <td>16</td>\n",
              "      <td>3</td>\n",
              "      <td>19</td>\n",
              "      <td>100</td>\n",
              "      <td>45</td>\n",
              "      <td>40</td>\n",
              "      <td>37</td>\n",
              "      <td>5</td>\n",
              "      <td>15</td>\n",
              "      <td>35</td>\n",
              "      <td>6</td>\n",
              "      <td>27</td>\n",
              "      <td>25</td>\n",
              "      <td>6</td>\n",
              "      <td>129</td>\n",
              "      <td>14</td>\n",
              "      <td>8</td>\n",
              "      <td>9</td>\n",
              "      <td>11</td>\n",
              "      <td>2</td>\n",
              "      <td>8</td>\n",
              "      <td>3</td>\n",
              "      <td>2</td>\n",
              "      <td>3</td>\n",
              "      <td>6</td>\n",
              "      <td>184</td>\n",
              "      <td>20</td>\n",
              "      <td>1</td>\n",
              "      <td>25</td>\n",
              "      <td>3</td>\n",
              "      <td>1</td>\n",
              "      <td>11</td>\n",
              "      <td>4</td>\n",
              "      <td>1</td>\n",
              "      <td>3</td>\n",
              "      <td>2</td>\n",
              "      <td>68</td>\n",
              "      <td>1</td>\n",
              "      <td>2</td>\n",
              "      <td>2</td>\n",
              "      <td>1</td>\n",
              "      <td>661</td>\n",
              "      <td>252</td>\n",
              "    </tr>\n",
              "    <tr>\n",
              "      <th>Short description</th>\n",
              "      <td>3976</td>\n",
              "      <td>31</td>\n",
              "      <td>140</td>\n",
              "      <td>30</td>\n",
              "      <td>257</td>\n",
              "      <td>145</td>\n",
              "      <td>118</td>\n",
              "      <td>39</td>\n",
              "      <td>85</td>\n",
              "      <td>81</td>\n",
              "      <td>88</td>\n",
              "      <td>215</td>\n",
              "      <td>241</td>\n",
              "      <td>36</td>\n",
              "      <td>29</td>\n",
              "      <td>31</td>\n",
              "      <td>25</td>\n",
              "      <td>289</td>\n",
              "      <td>116</td>\n",
              "      <td>56</td>\n",
              "      <td>18</td>\n",
              "      <td>44</td>\n",
              "      <td>97</td>\n",
              "      <td>200</td>\n",
              "      <td>39</td>\n",
              "      <td>69</td>\n",
              "      <td>4</td>\n",
              "      <td>107</td>\n",
              "      <td>62</td>\n",
              "      <td>1</td>\n",
              "      <td>15</td>\n",
              "      <td>16</td>\n",
              "      <td>3</td>\n",
              "      <td>19</td>\n",
              "      <td>100</td>\n",
              "      <td>45</td>\n",
              "      <td>40</td>\n",
              "      <td>37</td>\n",
              "      <td>5</td>\n",
              "      <td>15</td>\n",
              "      <td>35</td>\n",
              "      <td>6</td>\n",
              "      <td>27</td>\n",
              "      <td>25</td>\n",
              "      <td>6</td>\n",
              "      <td>129</td>\n",
              "      <td>14</td>\n",
              "      <td>8</td>\n",
              "      <td>9</td>\n",
              "      <td>11</td>\n",
              "      <td>2</td>\n",
              "      <td>8</td>\n",
              "      <td>3</td>\n",
              "      <td>2</td>\n",
              "      <td>3</td>\n",
              "      <td>6</td>\n",
              "      <td>184</td>\n",
              "      <td>20</td>\n",
              "      <td>1</td>\n",
              "      <td>25</td>\n",
              "      <td>3</td>\n",
              "      <td>1</td>\n",
              "      <td>11</td>\n",
              "      <td>4</td>\n",
              "      <td>1</td>\n",
              "      <td>3</td>\n",
              "      <td>2</td>\n",
              "      <td>68</td>\n",
              "      <td>1</td>\n",
              "      <td>2</td>\n",
              "      <td>2</td>\n",
              "      <td>1</td>\n",
              "      <td>661</td>\n",
              "      <td>252</td>\n",
              "    </tr>\n",
              "  </tbody>\n",
              "</table>\n",
              "</div>"
            ],
            "text/plain": [
              "Assignment group   GRP_0  GRP_1  GRP_10  GRP_11  ...  GRP_72  GRP_73  GRP_8  GRP_9\n",
              "Caller              3976     31     140      30  ...       2       1    661    252\n",
              "Description         3976     31     140      30  ...       2       1    661    252\n",
              "Short description   3976     31     140      30  ...       2       1    661    252\n",
              "\n",
              "[3 rows x 74 columns]"
            ]
          },
          "metadata": {
            "tags": []
          },
          "execution_count": 20
        }
      ]
    },
    {
      "cell_type": "code",
      "metadata": {
        "colab": {
          "base_uri": "https://localhost:8080/"
        },
        "id": "G85yq5Gyq_gW",
        "outputId": "ba89e2cf-7db1-4abe-999b-7d7b09e2c613"
      },
      "source": [
        "ticket_data['Assignment group'].unique()"
      ],
      "execution_count": 21,
      "outputs": [
        {
          "output_type": "execute_result",
          "data": {
            "text/plain": [
              "array(['GRP_0', 'GRP_1', 'GRP_3', 'GRP_4', 'GRP_5', 'GRP_6', 'GRP_7',\n",
              "       'GRP_8', 'GRP_9', 'GRP_10', 'GRP_11', 'GRP_12', 'GRP_13', 'GRP_14',\n",
              "       'GRP_15', 'GRP_16', 'GRP_17', 'GRP_18', 'GRP_19', 'GRP_2',\n",
              "       'GRP_20', 'GRP_21', 'GRP_22', 'GRP_23', 'GRP_24', 'GRP_25',\n",
              "       'GRP_26', 'GRP_27', 'GRP_28', 'GRP_29', 'GRP_30', 'GRP_31',\n",
              "       'GRP_33', 'GRP_34', 'GRP_35', 'GRP_36', 'GRP_37', 'GRP_38',\n",
              "       'GRP_39', 'GRP_40', 'GRP_41', 'GRP_42', 'GRP_43', 'GRP_44',\n",
              "       'GRP_45', 'GRP_46', 'GRP_47', 'GRP_48', 'GRP_49', 'GRP_50',\n",
              "       'GRP_51', 'GRP_52', 'GRP_53', 'GRP_54', 'GRP_55', 'GRP_56',\n",
              "       'GRP_57', 'GRP_58', 'GRP_59', 'GRP_60', 'GRP_61', 'GRP_32',\n",
              "       'GRP_62', 'GRP_63', 'GRP_64', 'GRP_65', 'GRP_66', 'GRP_67',\n",
              "       'GRP_68', 'GRP_69', 'GRP_70', 'GRP_71', 'GRP_72', 'GRP_73'],\n",
              "      dtype=object)"
            ]
          },
          "metadata": {
            "tags": []
          },
          "execution_count": 21
        }
      ]
    },
    {
      "cell_type": "code",
      "metadata": {
        "colab": {
          "base_uri": "https://localhost:8080/"
        },
        "id": "y8a25a1vNNb1",
        "outputId": "bf8d60d6-6aa5-4f55-ad69-6168f80995e0"
      },
      "source": [
        "len(ticket_data['Assignment group'].unique())"
      ],
      "execution_count": 22,
      "outputs": [
        {
          "output_type": "execute_result",
          "data": {
            "text/plain": [
              "74"
            ]
          },
          "metadata": {
            "tags": []
          },
          "execution_count": 22
        }
      ]
    },
    {
      "cell_type": "code",
      "metadata": {
        "colab": {
          "base_uri": "https://localhost:8080/",
          "height": 204
        },
        "id": "7XpZJeumNP0e",
        "outputId": "443a93de-ffce-4f91-8f12-6103d5175378"
      },
      "source": [
        "df_assg = ticket_data['Assignment group'].value_counts().reset_index()\n",
        "df_assg['percentage'] = (df_assg['Assignment group']/df_assg['Assignment group'].sum())*100\n",
        "df_assg.head()"
      ],
      "execution_count": 23,
      "outputs": [
        {
          "output_type": "execute_result",
          "data": {
            "text/html": [
              "<div>\n",
              "<style scoped>\n",
              "    .dataframe tbody tr th:only-of-type {\n",
              "        vertical-align: middle;\n",
              "    }\n",
              "\n",
              "    .dataframe tbody tr th {\n",
              "        vertical-align: top;\n",
              "    }\n",
              "\n",
              "    .dataframe thead th {\n",
              "        text-align: right;\n",
              "    }\n",
              "</style>\n",
              "<table border=\"1\" class=\"dataframe\">\n",
              "  <thead>\n",
              "    <tr style=\"text-align: right;\">\n",
              "      <th></th>\n",
              "      <th>index</th>\n",
              "      <th>Assignment group</th>\n",
              "      <th>percentage</th>\n",
              "    </tr>\n",
              "  </thead>\n",
              "  <tbody>\n",
              "    <tr>\n",
              "      <th>0</th>\n",
              "      <td>GRP_0</td>\n",
              "      <td>3976</td>\n",
              "      <td>46.776471</td>\n",
              "    </tr>\n",
              "    <tr>\n",
              "      <th>1</th>\n",
              "      <td>GRP_8</td>\n",
              "      <td>661</td>\n",
              "      <td>7.776471</td>\n",
              "    </tr>\n",
              "    <tr>\n",
              "      <th>2</th>\n",
              "      <td>GRP_24</td>\n",
              "      <td>289</td>\n",
              "      <td>3.400000</td>\n",
              "    </tr>\n",
              "    <tr>\n",
              "      <th>3</th>\n",
              "      <td>GRP_12</td>\n",
              "      <td>257</td>\n",
              "      <td>3.023529</td>\n",
              "    </tr>\n",
              "    <tr>\n",
              "      <th>4</th>\n",
              "      <td>GRP_9</td>\n",
              "      <td>252</td>\n",
              "      <td>2.964706</td>\n",
              "    </tr>\n",
              "  </tbody>\n",
              "</table>\n",
              "</div>"
            ],
            "text/plain": [
              "    index  Assignment group  percentage\n",
              "0   GRP_0              3976   46.776471\n",
              "1   GRP_8               661    7.776471\n",
              "2  GRP_24               289    3.400000\n",
              "3  GRP_12               257    3.023529\n",
              "4   GRP_9               252    2.964706"
            ]
          },
          "metadata": {
            "tags": []
          },
          "execution_count": 23
        }
      ]
    },
    {
      "cell_type": "code",
      "metadata": {
        "colab": {
          "base_uri": "https://localhost:8080/",
          "height": 414
        },
        "id": "mipLZ-dGNUK-",
        "outputId": "d854e51d-8118-4a10-b6df-cd491970b836"
      },
      "source": [
        "sns.set(style=\"whitegrid\")\n",
        "plt.figure(figsize=(20,5))\n",
        "ax = sns.countplot(x=\"Assignment group\", data=ticket_data, order=ticket_data[\"Assignment group\"].value_counts().index)\n",
        "ax.set_xticklabels(ax.get_xticklabels(), rotation=90)\n",
        "for p in ax.patches:\n",
        "    ax.annotate(str(format(p.get_height()/len(ticket_data.index)*100, '.2f')+\"%\"), (p.get_x() + p.get_width() / 2., p.get_height()), ha = 'center', va = 'bottom', rotation=90, xytext = (0, 10), textcoords = 'offset points')"
      ],
      "execution_count": 24,
      "outputs": [
        {
          "output_type": "display_data",
          "data": {
            "image/png": "[encoded data removed]",
            "text/plain": [
              "<Figure size 1440x360 with 1 Axes>"
            ]
          },
          "metadata": {
            "tags": []
          }
        }
      ]
    },
    {
      "cell_type": "markdown",
      "metadata": {
        "id": "62046fzVNbAW"
      },
      "source": [
        "#### Top 20 Assignment groups with highest number of tickets"
      ]
    },
    {
      "cell_type": "code",
      "metadata": {
        "colab": {
          "base_uri": "https://localhost:8080/",
          "height": 669
        },
        "id": "wEDNKbryNY1C",
        "outputId": "02b2a219-9676-45a2-e778-5b2ea594ed46"
      },
      "source": [
        "df_top_assg = ticket_data['Assignment group'].value_counts().nlargest(20).reset_index()\n",
        "df_top_assg"
      ],
      "execution_count": 25,
      "outputs": [
        {
          "output_type": "execute_result",
          "data": {
            "text/html": [
              "<div>\n",
              "<style scoped>\n",
              "    .dataframe tbody tr th:only-of-type {\n",
              "        vertical-align: middle;\n",
              "    }\n",
              "\n",
              "    .dataframe tbody tr th {\n",
              "        vertical-align: top;\n",
              "    }\n",
              "\n",
              "    .dataframe thead th {\n",
              "        text-align: right;\n",
              "    }\n",
              "</style>\n",
              "<table border=\"1\" class=\"dataframe\">\n",
              "  <thead>\n",
              "    <tr style=\"text-align: right;\">\n",
              "      <th></th>\n",
              "      <th>index</th>\n",
              "      <th>Assignment group</th>\n",
              "    </tr>\n",
              "  </thead>\n",
              "  <tbody>\n",
              "    <tr>\n",
              "      <th>0</th>\n",
              "      <td>GRP_0</td>\n",
              "      <td>3976</td>\n",
              "    </tr>\n",
              "    <tr>\n",
              "      <th>1</th>\n",
              "      <td>GRP_8</td>\n",
              "      <td>661</td>\n",
              "    </tr>\n",
              "    <tr>\n",
              "      <th>2</th>\n",
              "      <td>GRP_24</td>\n",
              "      <td>289</td>\n",
              "    </tr>\n",
              "    <tr>\n",
              "      <th>3</th>\n",
              "      <td>GRP_12</td>\n",
              "      <td>257</td>\n",
              "    </tr>\n",
              "    <tr>\n",
              "      <th>4</th>\n",
              "      <td>GRP_9</td>\n",
              "      <td>252</td>\n",
              "    </tr>\n",
              "    <tr>\n",
              "      <th>5</th>\n",
              "      <td>GRP_2</td>\n",
              "      <td>241</td>\n",
              "    </tr>\n",
              "    <tr>\n",
              "      <th>6</th>\n",
              "      <td>GRP_19</td>\n",
              "      <td>215</td>\n",
              "    </tr>\n",
              "    <tr>\n",
              "      <th>7</th>\n",
              "      <td>GRP_3</td>\n",
              "      <td>200</td>\n",
              "    </tr>\n",
              "    <tr>\n",
              "      <th>8</th>\n",
              "      <td>GRP_6</td>\n",
              "      <td>184</td>\n",
              "    </tr>\n",
              "    <tr>\n",
              "      <th>9</th>\n",
              "      <td>GRP_13</td>\n",
              "      <td>145</td>\n",
              "    </tr>\n",
              "    <tr>\n",
              "      <th>10</th>\n",
              "      <td>GRP_10</td>\n",
              "      <td>140</td>\n",
              "    </tr>\n",
              "    <tr>\n",
              "      <th>11</th>\n",
              "      <td>GRP_5</td>\n",
              "      <td>129</td>\n",
              "    </tr>\n",
              "    <tr>\n",
              "      <th>12</th>\n",
              "      <td>GRP_14</td>\n",
              "      <td>118</td>\n",
              "    </tr>\n",
              "    <tr>\n",
              "      <th>13</th>\n",
              "      <td>GRP_25</td>\n",
              "      <td>116</td>\n",
              "    </tr>\n",
              "    <tr>\n",
              "      <th>14</th>\n",
              "      <td>GRP_33</td>\n",
              "      <td>107</td>\n",
              "    </tr>\n",
              "    <tr>\n",
              "      <th>15</th>\n",
              "      <td>GRP_4</td>\n",
              "      <td>100</td>\n",
              "    </tr>\n",
              "    <tr>\n",
              "      <th>16</th>\n",
              "      <td>GRP_29</td>\n",
              "      <td>97</td>\n",
              "    </tr>\n",
              "    <tr>\n",
              "      <th>17</th>\n",
              "      <td>GRP_18</td>\n",
              "      <td>88</td>\n",
              "    </tr>\n",
              "    <tr>\n",
              "      <th>18</th>\n",
              "      <td>GRP_16</td>\n",
              "      <td>85</td>\n",
              "    </tr>\n",
              "    <tr>\n",
              "      <th>19</th>\n",
              "      <td>GRP_17</td>\n",
              "      <td>81</td>\n",
              "    </tr>\n",
              "  </tbody>\n",
              "</table>\n",
              "</div>"
            ],
            "text/plain": [
              "     index  Assignment group\n",
              "0    GRP_0              3976\n",
              "1    GRP_8               661\n",
              "2   GRP_24               289\n",
              "3   GRP_12               257\n",
              "4    GRP_9               252\n",
              "5    GRP_2               241\n",
              "6   GRP_19               215\n",
              "7    GRP_3               200\n",
              "8    GRP_6               184\n",
              "9   GRP_13               145\n",
              "10  GRP_10               140\n",
              "11   GRP_5               129\n",
              "12  GRP_14               118\n",
              "13  GRP_25               116\n",
              "14  GRP_33               107\n",
              "15   GRP_4               100\n",
              "16  GRP_29                97\n",
              "17  GRP_18                88\n",
              "18  GRP_16                85\n",
              "19  GRP_17                81"
            ]
          },
          "metadata": {
            "tags": []
          },
          "execution_count": 25
        }
      ]
    },
    {
      "cell_type": "code",
      "metadata": {
        "colab": {
          "base_uri": "https://localhost:8080/",
          "height": 437
        },
        "id": "wC2bA7DqNmwG",
        "outputId": "4161c2b0-f176-4a40-db3d-8c74dcc551f6"
      },
      "source": [
        "plt.figure(figsize=(12,6))\n",
        "bars = plt.bar(df_top_assg['index'],df_top_assg['Assignment group'])\n",
        "plt.title('Top 20 Assignment groups with highest number of Tickets')\n",
        "plt.xlabel('Assignment Group')\n",
        "plt.xticks(rotation=90)\n",
        "plt.ylabel('Number of Tickets')\n",
        "\n",
        "for bar in bars:\n",
        "    yval = bar.get_height()\n",
        "    plt.text(bar.get_x(), yval + .005, yval)\n",
        "plt.tight_layout()\n",
        "plt.show()"
      ],
      "execution_count": 26,
      "outputs": [
        {
          "output_type": "display_data",
          "data": {
            "image/png": "[encoded data removed]",
            "text/plain": [
              "<Figure size 864x432 with 1 Axes>"
            ]
          },
          "metadata": {
            "tags": []
          }
        }
      ]
    },
    {
      "cell_type": "markdown",
      "metadata": {
        "id": "tm87CX3zNfo1"
      },
      "source": [
        "#### Visualize the percentage of incidents per assignment group"
      ]
    },
    {
      "cell_type": "code",
      "metadata": {
        "colab": {
          "base_uri": "https://localhost:8080/",
          "height": 669
        },
        "id": "2y-Tsu2_N0iU",
        "outputId": "f0749afe-c3be-43d2-bad5-7ebfe068f8e0"
      },
      "source": [
        "df_bottom_assg = ticket_data['Assignment group'].value_counts().nsmallest(20).reset_index()\n",
        "df_bottom_assg"
      ],
      "execution_count": 27,
      "outputs": [
        {
          "output_type": "execute_result",
          "data": {
            "text/html": [
              "<div>\n",
              "<style scoped>\n",
              "    .dataframe tbody tr th:only-of-type {\n",
              "        vertical-align: middle;\n",
              "    }\n",
              "\n",
              "    .dataframe tbody tr th {\n",
              "        vertical-align: top;\n",
              "    }\n",
              "\n",
              "    .dataframe thead th {\n",
              "        text-align: right;\n",
              "    }\n",
              "</style>\n",
              "<table border=\"1\" class=\"dataframe\">\n",
              "  <thead>\n",
              "    <tr style=\"text-align: right;\">\n",
              "      <th></th>\n",
              "      <th>index</th>\n",
              "      <th>Assignment group</th>\n",
              "    </tr>\n",
              "  </thead>\n",
              "  <tbody>\n",
              "    <tr>\n",
              "      <th>0</th>\n",
              "      <td>GRP_67</td>\n",
              "      <td>1</td>\n",
              "    </tr>\n",
              "    <tr>\n",
              "      <th>1</th>\n",
              "      <td>GRP_61</td>\n",
              "      <td>1</td>\n",
              "    </tr>\n",
              "    <tr>\n",
              "      <th>2</th>\n",
              "      <td>GRP_64</td>\n",
              "      <td>1</td>\n",
              "    </tr>\n",
              "    <tr>\n",
              "      <th>3</th>\n",
              "      <td>GRP_35</td>\n",
              "      <td>1</td>\n",
              "    </tr>\n",
              "    <tr>\n",
              "      <th>4</th>\n",
              "      <td>GRP_73</td>\n",
              "      <td>1</td>\n",
              "    </tr>\n",
              "    <tr>\n",
              "      <th>5</th>\n",
              "      <td>GRP_70</td>\n",
              "      <td>1</td>\n",
              "    </tr>\n",
              "    <tr>\n",
              "      <th>6</th>\n",
              "      <td>GRP_71</td>\n",
              "      <td>2</td>\n",
              "    </tr>\n",
              "    <tr>\n",
              "      <th>7</th>\n",
              "      <td>GRP_72</td>\n",
              "      <td>2</td>\n",
              "    </tr>\n",
              "    <tr>\n",
              "      <th>8</th>\n",
              "      <td>GRP_54</td>\n",
              "      <td>2</td>\n",
              "    </tr>\n",
              "    <tr>\n",
              "      <th>9</th>\n",
              "      <td>GRP_57</td>\n",
              "      <td>2</td>\n",
              "    </tr>\n",
              "    <tr>\n",
              "      <th>10</th>\n",
              "      <td>GRP_69</td>\n",
              "      <td>2</td>\n",
              "    </tr>\n",
              "    <tr>\n",
              "      <th>11</th>\n",
              "      <td>GRP_58</td>\n",
              "      <td>3</td>\n",
              "    </tr>\n",
              "    <tr>\n",
              "      <th>12</th>\n",
              "      <td>GRP_38</td>\n",
              "      <td>3</td>\n",
              "    </tr>\n",
              "    <tr>\n",
              "      <th>13</th>\n",
              "      <td>GRP_68</td>\n",
              "      <td>3</td>\n",
              "    </tr>\n",
              "    <tr>\n",
              "      <th>14</th>\n",
              "      <td>GRP_63</td>\n",
              "      <td>3</td>\n",
              "    </tr>\n",
              "    <tr>\n",
              "      <th>15</th>\n",
              "      <td>GRP_56</td>\n",
              "      <td>3</td>\n",
              "    </tr>\n",
              "    <tr>\n",
              "      <th>16</th>\n",
              "      <td>GRP_32</td>\n",
              "      <td>4</td>\n",
              "    </tr>\n",
              "    <tr>\n",
              "      <th>17</th>\n",
              "      <td>GRP_66</td>\n",
              "      <td>4</td>\n",
              "    </tr>\n",
              "    <tr>\n",
              "      <th>18</th>\n",
              "      <td>GRP_43</td>\n",
              "      <td>5</td>\n",
              "    </tr>\n",
              "    <tr>\n",
              "      <th>19</th>\n",
              "      <td>GRP_49</td>\n",
              "      <td>6</td>\n",
              "    </tr>\n",
              "  </tbody>\n",
              "</table>\n",
              "</div>"
            ],
            "text/plain": [
              "     index  Assignment group\n",
              "0   GRP_67                 1\n",
              "1   GRP_61                 1\n",
              "2   GRP_64                 1\n",
              "3   GRP_35                 1\n",
              "4   GRP_73                 1\n",
              "5   GRP_70                 1\n",
              "6   GRP_71                 2\n",
              "7   GRP_72                 2\n",
              "8   GRP_54                 2\n",
              "9   GRP_57                 2\n",
              "10  GRP_69                 2\n",
              "11  GRP_58                 3\n",
              "12  GRP_38                 3\n",
              "13  GRP_68                 3\n",
              "14  GRP_63                 3\n",
              "15  GRP_56                 3\n",
              "16  GRP_32                 4\n",
              "17  GRP_66                 4\n",
              "18  GRP_43                 5\n",
              "19  GRP_49                 6"
            ]
          },
          "metadata": {
            "tags": []
          },
          "execution_count": 27
        }
      ]
    },
    {
      "cell_type": "code",
      "metadata": {
        "colab": {
          "base_uri": "https://localhost:8080/",
          "height": 437
        },
        "id": "Ce58DZ33N2OJ",
        "outputId": "b0f20cdf-50b4-4785-ec46-27eb05a86109"
      },
      "source": [
        "plt.figure(figsize=(12,6))\n",
        "bars = plt.bar(df_bottom_assg['index'],df_bottom_assg['Assignment group'])\n",
        "plt.title('Bottom 20 Assignment groups with small number of Tickets')\n",
        "plt.xlabel('Assignment Group')\n",
        "plt.xticks(rotation=90)\n",
        "plt.ylabel('Number of Tickets')\n",
        "for bar in bars:\n",
        "    yval = bar.get_height()\n",
        "    plt.text(bar.get_x(), yval + .005, yval)\n",
        "plt.tight_layout()\n",
        "plt.show()"
      ],
      "execution_count": 28,
      "outputs": [
        {
          "output_type": "display_data",
          "data": {
            "image/png": "[encoded data removed]",
            "text/plain": [
              "<Figure size 864x432 with 1 Axes>"
            ]
          },
          "metadata": {
            "tags": []
          }
        }
      ]
    },
    {
      "cell_type": "code",
      "metadata": {
        "colab": {
          "base_uri": "https://localhost:8080/",
          "height": 266
        },
        "id": "LQHy7WYcPc8q",
        "outputId": "89107e4d-4b60-49b4-8526-bbc7c757a170"
      },
      "source": [
        "df_tickets = pd.DataFrame(columns=['Description','Ticket Count'])\n",
        "one_ticket = {'Description':'1','Ticket Count':len(df_assg[df_assg['Assignment group'] < 2])}\n",
        "_2_5_ticket = {'Description':'2-5',\n",
        "              'Ticket Count':len(df_assg[(df_assg['Assignment group'] > 1)& (df_assg['Assignment group'] < 6) ])}\n",
        "_10_ticket = {'Description':' 6-10',\n",
        "              'Ticket Count':len(df_assg[(df_assg['Assignment group'] > 5)& (df_assg['Assignment group'] < 11)])}\n",
        "_10_20_ticket = {'Description':' 11-20',\n",
        "              'Ticket Count':len(df_assg[(df_assg['Assignment group'] > 10)& (df_assg['Assignment group'] < 21)])}\n",
        "_20_50_ticket = {'Description':' 21-50',\n",
        "              'Ticket Count':len(df_assg[(df_assg['Assignment group'] > 20)& (df_assg['Assignment group'] < 51)])}\n",
        "_51_100_ticket = {'Description':' 51-100',\n",
        "              'Ticket Count':len(df_assg[(df_assg['Assignment group'] > 50)& (df_assg['Assignment group'] < 101)])}\n",
        "_100_ticket = {'Description':' >100',\n",
        "              'Ticket Count':len(df_assg[(df_assg['Assignment group'] > 100)])}\n",
        "#append row to the dataframe\n",
        "df_tickets = df_tickets.append([one_ticket,_2_5_ticket,_10_ticket,\n",
        "                          _10_20_ticket,_20_50_ticket,_51_100_ticket,_100_ticket], ignore_index=True)\n",
        "\n",
        "df_tickets"
      ],
      "execution_count": 29,
      "outputs": [
        {
          "output_type": "execute_result",
          "data": {
            "text/html": [
              "<div>\n",
              "<style scoped>\n",
              "    .dataframe tbody tr th:only-of-type {\n",
              "        vertical-align: middle;\n",
              "    }\n",
              "\n",
              "    .dataframe tbody tr th {\n",
              "        vertical-align: top;\n",
              "    }\n",
              "\n",
              "    .dataframe thead th {\n",
              "        text-align: right;\n",
              "    }\n",
              "</style>\n",
              "<table border=\"1\" class=\"dataframe\">\n",
              "  <thead>\n",
              "    <tr style=\"text-align: right;\">\n",
              "      <th></th>\n",
              "      <th>Description</th>\n",
              "      <th>Ticket Count</th>\n",
              "    </tr>\n",
              "  </thead>\n",
              "  <tbody>\n",
              "    <tr>\n",
              "      <th>0</th>\n",
              "      <td>1</td>\n",
              "      <td>6</td>\n",
              "    </tr>\n",
              "    <tr>\n",
              "      <th>1</th>\n",
              "      <td>2-5</td>\n",
              "      <td>13</td>\n",
              "    </tr>\n",
              "    <tr>\n",
              "      <th>2</th>\n",
              "      <td>6-10</td>\n",
              "      <td>6</td>\n",
              "    </tr>\n",
              "    <tr>\n",
              "      <th>3</th>\n",
              "      <td>11-20</td>\n",
              "      <td>9</td>\n",
              "    </tr>\n",
              "    <tr>\n",
              "      <th>4</th>\n",
              "      <td>21-50</td>\n",
              "      <td>16</td>\n",
              "    </tr>\n",
              "    <tr>\n",
              "      <th>5</th>\n",
              "      <td>51-100</td>\n",
              "      <td>9</td>\n",
              "    </tr>\n",
              "    <tr>\n",
              "      <th>6</th>\n",
              "      <td>&gt;100</td>\n",
              "      <td>15</td>\n",
              "    </tr>\n",
              "  </tbody>\n",
              "</table>\n",
              "</div>"
            ],
            "text/plain": [
              "  Description Ticket Count\n",
              "0           1            6\n",
              "1         2-5           13\n",
              "2        6-10            6\n",
              "3       11-20            9\n",
              "4       21-50           16\n",
              "5      51-100            9\n",
              "6        >100           15"
            ]
          },
          "metadata": {
            "tags": []
          },
          "execution_count": 29
        }
      ]
    },
    {
      "cell_type": "code",
      "metadata": {
        "colab": {
          "base_uri": "https://localhost:8080/",
          "height": 550
        },
        "id": "wXwo2grYQAhk",
        "outputId": "469d7ff5-9ffe-42c8-d05f-a1ee199f8a74"
      },
      "source": [
        "plt.figure(figsize=(10, 8))\n",
        "plt.pie(df_tickets['Ticket Count'],labels=df_tickets['Description'],autopct='%1.1f%%', startangle=15, shadow = True);\n",
        "plt.title('Assignment Groups Distribution')\n",
        "plt.axis('equal')"
      ],
      "execution_count": 30,
      "outputs": [
        {
          "output_type": "execute_result",
          "data": {
            "text/plain": [
              "(-1.1019890551483629,\n",
              " 1.1224353061977401,\n",
              " -1.1079626168723997,\n",
              " 1.1159579389457492)"
            ]
          },
          "metadata": {
            "tags": []
          },
          "execution_count": 30
        },
        {
          "output_type": "display_data",
          "data": {
            "image/png": "[encoded data removed]",
            "text/plain": [
              "<Figure size 720x576 with 1 Axes>"
            ]
          },
          "metadata": {
            "tags": []
          }
        }
      ]
    },
    {
      "cell_type": "code",
      "metadata": {
        "colab": {
          "base_uri": "https://localhost:8080/",
          "height": 49
        },
        "id": "omvC15x2QG5v",
        "outputId": "97a81194-be36-4119-bb75-149278d1d1fb"
      },
      "source": [
        "ticket_data[ticket_data['Short description'].isnull()]"
      ],
      "execution_count": 31,
      "outputs": [
        {
          "output_type": "execute_result",
          "data": {
            "text/html": [
              "<div>\n",
              "<style scoped>\n",
              "    .dataframe tbody tr th:only-of-type {\n",
              "        vertical-align: middle;\n",
              "    }\n",
              "\n",
              "    .dataframe tbody tr th {\n",
              "        vertical-align: top;\n",
              "    }\n",
              "\n",
              "    .dataframe thead th {\n",
              "        text-align: right;\n",
              "    }\n",
              "</style>\n",
              "<table border=\"1\" class=\"dataframe\">\n",
              "  <thead>\n",
              "    <tr style=\"text-align: right;\">\n",
              "      <th></th>\n",
              "      <th>Short description</th>\n",
              "      <th>Description</th>\n",
              "      <th>Caller</th>\n",
              "      <th>Assignment group</th>\n",
              "    </tr>\n",
              "  </thead>\n",
              "  <tbody>\n",
              "  </tbody>\n",
              "</table>\n",
              "</div>"
            ],
            "text/plain": [
              "Empty DataFrame\n",
              "Columns: [Short description, Description, Caller, Assignment group]\n",
              "Index: []"
            ]
          },
          "metadata": {
            "tags": []
          },
          "execution_count": 31
        }
      ]
    },
    {
      "cell_type": "code",
      "metadata": {
        "colab": {
          "base_uri": "https://localhost:8080/",
          "height": 49
        },
        "id": "i1zNPIqGQLHR",
        "outputId": "a1ccd238-9d32-4112-8433-cdeb3e7d1d85"
      },
      "source": [
        "ticket_data[ticket_data['Description'].isnull()]"
      ],
      "execution_count": 32,
      "outputs": [
        {
          "output_type": "execute_result",
          "data": {
            "text/html": [
              "<div>\n",
              "<style scoped>\n",
              "    .dataframe tbody tr th:only-of-type {\n",
              "        vertical-align: middle;\n",
              "    }\n",
              "\n",
              "    .dataframe tbody tr th {\n",
              "        vertical-align: top;\n",
              "    }\n",
              "\n",
              "    .dataframe thead th {\n",
              "        text-align: right;\n",
              "    }\n",
              "</style>\n",
              "<table border=\"1\" class=\"dataframe\">\n",
              "  <thead>\n",
              "    <tr style=\"text-align: right;\">\n",
              "      <th></th>\n",
              "      <th>Short description</th>\n",
              "      <th>Description</th>\n",
              "      <th>Caller</th>\n",
              "      <th>Assignment group</th>\n",
              "    </tr>\n",
              "  </thead>\n",
              "  <tbody>\n",
              "  </tbody>\n",
              "</table>\n",
              "</div>"
            ],
            "text/plain": [
              "Empty DataFrame\n",
              "Columns: [Short description, Description, Caller, Assignment group]\n",
              "Index: []"
            ]
          },
          "metadata": {
            "tags": []
          },
          "execution_count": 32
        }
      ]
    },
    {
      "cell_type": "markdown",
      "metadata": {
        "id": "ozH-YaiOjRLc"
      },
      "source": [
        "## Begin Data Cleaning"
      ]
    },
    {
      "cell_type": "markdown",
      "metadata": {
        "id": "qBMtyLPwjRFg"
      },
      "source": [
        "### Replacing NaN"
      ]
    },
    {
      "cell_type": "code",
      "metadata": {
        "id": "9-SpMzDvQZkM"
      },
      "source": [
        "#Replace NaN values in Short Description and Description columns\n",
        "ticket_data['Short description'] = ticket_data['Short description'].replace(np.nan, '', regex=True)\n",
        "ticket_data['Description'] = ticket_data['Description'].replace(np.nan, '', regex=True)"
      ],
      "execution_count": 33,
      "outputs": []
    },
    {
      "cell_type": "markdown",
      "metadata": {
        "id": "1ufXNJhHjYhL"
      },
      "source": [
        "### Decoding the data"
      ]
    },
    {
      "cell_type": "code",
      "metadata": {
        "id": "qDKj9B3eQl_C"
      },
      "source": [
        "#Lets encode the string, to make it easier to be passed to language detection api.\n",
        "def fn_decode_to_ascii(df):\n",
        "  text = df.encode().decode('utf-8').encode('ascii', 'ignore')\n",
        "  return text.decode(\"utf-8\") "
      ],
      "execution_count": 34,
      "outputs": []
    },
    {
      "cell_type": "markdown",
      "metadata": {
        "id": "m_gB5r9IjcoN"
      },
      "source": [
        "### Prepping potential boilerplate text for removal"
      ]
    },
    {
      "cell_type": "code",
      "metadata": {
        "id": "2cmcq-dBm6Iy"
      },
      "source": [
        "#As different lines are of different length. We need to pad the our sequences using the max length\n",
        "contractions = { \n",
        "\"ain't\": \"am not / are not / is not / has not / have not\",\n",
        "\"aren't\": \"are not / am not\",\n",
        "\"can't\": \"cannot\",\n",
        "\"can't've\": \"cannot have\",\n",
        "\"'cause\": \"because\",\n",
        "\"could've\": \"could have\",\n",
        "\"couldn't\": \"could not\",\n",
        "\"couldn't've\": \"could not have\",\n",
        "\"didn't\": \"did not\",\n",
        "\"doesn't\": \"does not\",\n",
        "\"don't\": \"do not\",\n",
        "\"hadn't\": \"had not\",\n",
        "\"hadn't've\": \"had not have\",\n",
        "\"hasn't\": \"has not\",\n",
        "\"haven't\": \"have not\",\n",
        "\"he'd\": \"he had / he would\",\n",
        "\"he'd've\": \"he would have\",\n",
        "\"he'll\": \"he shall / he will\",\n",
        "\"he'll've\": \"he shall have / he will have\",\n",
        "\"he's\": \"he has / he is\",\n",
        "\"how'd\": \"how did\",\n",
        "\"how'd'y\": \"how do you\",\n",
        "\"how'll\": \"how will\",\n",
        "\"how's\": \"how has / how is / how does\",\n",
        "\"I'd\": \"I had / I would\",\n",
        "\"I'd've\": \"I would have\",\n",
        "\"I'll\": \"I shall / I will\",\n",
        "\"I'll've\": \"I shall have / I will have\",\n",
        "\"I'm\": \"I am\",\n",
        "\"I've\": \"I have\",\n",
        "\"isn't\": \"is not\",\n",
        "\"it'd\": \"it had / it would\",\n",
        "\"it'd've\": \"it would have\",\n",
        "\"it'll\": \"it shall / it will\",\n",
        "\"it'll've\": \"it shall have / it will have\",\n",
        "\"it's\": \"it has / it is\",\n",
        "\"let's\": \"let us\",\n",
        "\"ma'am\": \"madam\",\n",
        "\"mayn't\": \"may not\",\n",
        "\"might've\": \"might have\",\n",
        "\"mightn't\": \"might not\",\n",
        "\"mightn't've\": \"might not have\",\n",
        "\"must've\": \"must have\",\n",
        "\"mustn't\": \"must not\",\n",
        "\"mustn't've\": \"must not have\",\n",
        "\"needn't\": \"need not\",\n",
        "\"needn't've\": \"need not have\",\n",
        "\"o'clock\": \"of the clock\",\n",
        "\"oughtn't\": \"ought not\",\n",
        "\"oughtn't've\": \"ought not have\",\n",
        "\"shan't\": \"shall not\",\n",
        "\"sha'n't\": \"shall not\",\n",
        "\"shan't've\": \"shall not have\",\n",
        "\"she'd\": \"she had / she would\",\n",
        "\"she'd've\": \"she would have\",\n",
        "\"she'll\": \"she shall / she will\",\n",
        "\"she'll've\": \"she shall have / she will have\",\n",
        "\"she's\": \"she has / she is\",\n",
        "\"should've\": \"should have\",\n",
        "\"shouldn't\": \"should not\",\n",
        "\"shouldn't've\": \"should not have\",\n",
        "\"so've\": \"so have\",\n",
        "\"so's\": \"so as / so is\",\n",
        "\"that'd\": \"that would / that had\",\n",
        "\"that'd've\": \"that would have\",\n",
        "\"that's\": \"that has / that is\",\n",
        "\"there'd\": \"there had / there would\",\n",
        "\"there'd've\": \"there would have\",\n",
        "\"there's\": \"there has / there is\",\n",
        "\"they'd\": \"they had / they would\",\n",
        "\"they'd've\": \"they would have\",\n",
        "\"they'll\": \"they shall / they will\",\n",
        "\"they'll've\": \"they shall have / they will have\",\n",
        "\"they're\": \"they are\",\n",
        "\"they've\": \"they have\",\n",
        "\"to've\": \"to have\",\n",
        "\"wasn't\": \"was not\",\n",
        "\"we'd\": \"we had / we would\",\n",
        "\"we'd've\": \"we would have\",\n",
        "\"we'll\": \"we will\",\n",
        "\"we'll've\": \"we will have\",\n",
        "\"we're\": \"we are\",\n",
        "\"we've\": \"we have\",\n",
        "\"weren't\": \"were not\",\n",
        "\"what'll\": \"what shall / what will\",\n",
        "\"what'll've\": \"what shall have / what will have\",\n",
        "\"what're\": \"what are\",\n",
        "\"what's\": \"what has / what is\",\n",
        "\"what've\": \"what have\",\n",
        "\"when's\": \"when has / when is\",\n",
        "\"when've\": \"when have\",\n",
        "\"where'd\": \"where did\",\n",
        "\"where's\": \"where has / where is\",\n",
        "\"where've\": \"where have\",\n",
        "\"who'll\": \"who shall / who will\",\n",
        "\"who'll've\": \"who shall have / who will have\",\n",
        "\"who's\": \"who has / who is\",\n",
        "\"who've\": \"who have\",\n",
        "\"why's\": \"why has / why is\",\n",
        "\"why've\": \"why have\",\n",
        "\"will've\": \"will have\",\n",
        "\"won't\": \"will not\",\n",
        "\"won't've\": \"will not have\",\n",
        "\"would've\": \"would have\",\n",
        "\"wouldn't\": \"would not\",\n",
        "\"wouldn't've\": \"would not have\",\n",
        "\"y'all\": \"you all\",\n",
        "\"y'all'd\": \"you all would\",\n",
        "\"y'all'd've\": \"you all would have\",\n",
        "\"y'all're\": \"you all are\",\n",
        "\"y'all've\": \"you all have\",\n",
        "\"you'd\": \"you had / you would\",\n",
        "\"you'd've\": \"you would have\",\n",
        "\"you'll\": \"you shall / you will\",\n",
        "\"you'll've\": \"you shall have / you will have\",\n",
        "\"you're\": \"you are\",\n",
        "\"you've\": \"you have\"\n",
        "}"
      ],
      "execution_count": 35,
      "outputs": []
    },
    {
      "cell_type": "markdown",
      "metadata": {
        "id": "kOYu29zjjgwV"
      },
      "source": [
        "### Defining Translation functions"
      ]
    },
    {
      "cell_type": "code",
      "metadata": {
        "id": "xhMeOyYd5HVu"
      },
      "source": [
        "##************************************************************************************************************\n",
        "### Getting data from Translation object\n",
        "def get_text_from_translation(translation):\n",
        "  print (translation.text)\n",
        "  translated_text = translation.text.split(\"text\")[1]\n",
        "  translated_text = translated_text.split(\"Pronunciation\")[0]\n",
        "  translated_text = translated_text.split(\"=\")[1]\n",
        "  translated_text = translated_text.strip()\n",
        "  translated_text = translated_text.replace(translated_text[len(translated_text)-1],\"\")\n",
        "  return translated_text\n",
        "\n",
        "##Translating word by word using Google and MyMemory\n",
        "##TODO: Change the detect function to translator.detect\n",
        "def translate_word_by_word(sentence):\n",
        "  words = sentence.split(\" \")\n",
        "  new_words = []\n",
        "  for word in words:\n",
        "    lang = detect(word)\n",
        "    translator = Translator(provider='mymemory', to_lang=\"en\", from_lang = lang, secret_access_key=None)\n",
        "    new_word = translator.translate(word)\n",
        "    new_words.append(new_word)\n",
        "  return \" \".join(new_words)\n",
        "\n",
        "##Translating entire sentences using mymemory (pypi)\n",
        "def translate_sentence(sentence):\n",
        "  lang = detect(sentence)\n",
        "  translator = Translator(provider='mymemory', to_lang=\"en\", from_lang = lang, secret_access_key=None)\n",
        "  return translator.translate(sentence)\n",
        "\n",
        "##Translating entire column using the above functions\n",
        "def translate_column(columnvalue):  \n",
        "  try:                                                          \n",
        "    sentence_translated = translate_sentence(columnvalue)\n",
        "    return sentence_translated\n",
        "  except:                                                       \n",
        "    return columnvalue    \n",
        "\n",
        "#### NOTE: THESE FUNCTIONS ABOVE ARE NOT IN USE. WE ARE LEVERAGING THE ONES BELOW\n",
        "##************************************************************************************************************\n",
        "\n",
        "## Detecting language using google\n",
        "def detect_lang(desc):\n",
        "  try:\n",
        "    if desc != \"\":\n",
        "      return translator.detect(desc)\n",
        "    else:\n",
        "      return \"en\"\n",
        "  except:\n",
        "    return \"en\"\n",
        "    \n",
        "# Function to translate the text to english.\n",
        "def fn_translate(sentence):\n",
        "  try:\n",
        "    if translator.detect(sentence) == \"en\":\n",
        "        return sentence\n",
        "    else:\n",
        "        return translator.translate(df, src = lang, dest = \"en\").text\n",
        "  except:\n",
        "    return sentence"
      ],
      "execution_count": 36,
      "outputs": []
    },
    {
      "cell_type": "code",
      "metadata": {
        "id": "9jBKOQpeX8Lm"
      },
      "source": [
        "#ticket_data['Description'] = ticket_data['Description'].apply(translate_column)\n",
        "#ticket_data['Short description'] = ticket_data['Short description'].apply(translate_column)"
      ],
      "execution_count": 37,
      "outputs": []
    },
    {
      "cell_type": "markdown",
      "metadata": {
        "id": "PnKdnHjzjugu"
      },
      "source": [
        "### Function for cleaning data"
      ]
    },
    {
      "cell_type": "code",
      "metadata": {
        "id": "bSGtwrpxq_gW"
      },
      "source": [
        "max_features = 10000\n",
        "MAX_LENGTH = 300\n",
        "embedding_size = 200\n",
        "\n",
        "def clean_text(text):\n",
        "    if text != \"\":          \n",
        "      '''Make text lowercase, remove text in square brackets,remove links,remove punctuation\n",
        "      and remove words containing numbers.'''\n",
        "      text=text.replace(('first name: ').lower(),'firstname')\n",
        "      text=text.replace(('last name: ').lower(),'lastname')\n",
        "      text=text.replace(('received from:').lower(),'')\n",
        "      text=text.replace('email:','')\n",
        "      text=text.replace('email address:','') \n",
        "      index1=text.find('from:')\n",
        "      index2=text.find('\\nsddubject:')\n",
        "      text=text.replace(text[index1:index2],'')\n",
        "      index3=text.find('[cid:image')\n",
        "      index4=text.find(']')\n",
        "      text=text.replace(text[index3:index4],'')\n",
        "      text=text.replace('subject:','')\n",
        "      text=text.replace('received from:','')\n",
        "      text=text.replace('this message was sent from an unmonitored email address', '')\n",
        "      text=text.replace('please do not reply to this message', '')\n",
        "      text=text.replace('monitoring_tool@company.com','MonitoringTool')\n",
        "      text=text.replace('select the following link to view the disclaimer in an alternate language','')\n",
        "      text=text.replace('description problem', '') \n",
        "      text=text.replace('steps taken far', '')\n",
        "      text=text.replace('customer job title', '')\n",
        "      text=text.replace('sales engineer contact', '')\n",
        "      text=text.replace('description of problem:', '')\n",
        "      text=text.replace('steps taken so far', '')\n",
        "      text=text.replace('please do the needful', '')\n",
        "      text=text.replace('please note that ', '')\n",
        "      text=text.replace('please find below', '')\n",
        "      text=text.replace('date and time', '')\n",
        "      text=text.replace('kindly refer mail', '')\n",
        "      text=text.replace('name:', '')\n",
        "      text=text.replace('language:', '')\n",
        "      text=text.replace('customer number:', '')\n",
        "      text=text.replace('telephone:', '')\n",
        "      text=text.replace('summary:', '')\n",
        "      text=text.replace('sincerely', '')\n",
        "      text=text.replace('company inc', '')\n",
        "      text=text.replace('importance:', '')\n",
        "      text=text.replace('gmail.com', '')\n",
        "      text=text.replace('company.com', '')\n",
        "      text=text.replace('microsoftonline.com', '')\n",
        "      text=text.replace('company.onmicrosoft.com', '')\n",
        "      text=text.replace('hello', '')\n",
        "      text=text.replace('hallo', '')\n",
        "      text=text.replace('hi it team', '')\n",
        "      text=text.replace('hi team', '')\n",
        "      text=text.replace('hi', '')\n",
        "      text=text.replace('best', '')\n",
        "      text=text.replace('kind', '')\n",
        "      text=text.replace('regards', '')\n",
        "      text=text.replace('good morning', '')\n",
        "      text=text.replace('please', '')\n",
        "      text=text.replace('regards', '')\n",
        "      text = re.sub(r'\\<a href', ' ', text)\n",
        "      text = re.sub(r'&amp;', '', text)\n",
        "      text = re.sub(r'<br />', ' ', text)    \n",
        "      text = re.sub(r'\\S+@\\S+', '', text)\n",
        "      text = re.sub(r'\\d+','' ,text)\n",
        "      text = re.sub(r'#','', text)\n",
        "      text = re.sub(r'&;?', 'and',text)\n",
        "      text = re.sub(r'\\&\\w*;', '', text)\n",
        "      text = re.sub(r'https?:\\/\\/.*\\/\\w*', '', text)\n",
        "      custom_punctuation='!\"#$%&\\'()*+,-./:;<=>?@[\\\\]^`{|}~'\n",
        "      text = re.sub(r'\\w*\\d\\w*', '', text)\n",
        "      text = re.sub(r'\\[.*?\\]', '', text)\n",
        "      text = re.sub(r'https?://\\S+|www\\.\\S+', '', text)\n",
        "      text = re.sub(r'<.*?>+', '', text)\n",
        "      text= ''.join(c for c in text if c <= '\\uFFFF') \n",
        "      text = text.strip()      \n",
        "      text = re.sub(r'[%s]' % re.escape(string.punctuation), '', text)\n",
        "      text = ' '.join(re.sub(\"[^\\u0030-\\u0039\\u0041-\\u005a\\u0061-\\u007a]\", \" \", text).split())\n",
        "      text = re.sub(r'\\r\\n', '', text)\n",
        "      text = re.sub(r'\\n', '', text)\n",
        "      text = re.sub(r'\\S+@\\S+', '', text)\n",
        "\n",
        "      text = text.lower()\n",
        "    return text"
      ],
      "execution_count": 38,
      "outputs": []
    },
    {
      "cell_type": "markdown",
      "metadata": {
        "id": "8Jfi5zUhkXCB"
      },
      "source": [
        "### Data cleaning, stop word removal and lemmatization"
      ]
    },
    {
      "cell_type": "code",
      "metadata": {
        "colab": {
          "base_uri": "https://localhost:8080/"
        },
        "id": "ZrHGC1XQ6Bj9",
        "outputId": "caedd58e-2e60-46cf-ee87-a469eefb7f5a"
      },
      "source": [
        "ticket_data['Description'] = ticket_data['Description'].apply(fn_decode_to_ascii)\n",
        "ticket_data['Short description'] = ticket_data['Short description'].apply(fn_decode_to_ascii)\n",
        "ftfy_ShortDescription = []\n",
        "for Short_Description in ticket_data['Short description']:\n",
        "  ftfy_ShortDescription.append(fix_text(Short_Description))\n",
        "ticket_data['Short description']= ftfy_ShortDescription\n",
        "ftfy_Description = []\n",
        "for Description in ticket_data['Description']:\n",
        "  ftfy_Description.append(fix_text(Description))\n",
        "ticket_data['Description']= ftfy_Description\n",
        "ticket_data['lang_desc'] = ticket_data['Description'].apply(detect_lang)\n",
        "ticket_data['lang_short_desc'] = ticket_data['Short description'].apply(detect_lang)\n",
        "ticket_data['Description'] = ticket_data.apply(lambda x: fn_translate(x['Description']), axis=1)\n",
        "ticket_data['Short description'] = ticket_data.apply(lambda x: fn_translate(x['Short description']), axis=1)\n",
        "ticket_data[\"Description\"] = ticket_data[\"Description\"].apply(clean_text)\n",
        "ticket_data[\"Short description\"] = ticket_data[\"Short description\"].apply(clean_text)\n",
        "print(len(ticket_data))"
      ],
      "execution_count": 39,
      "outputs": [
        {
          "output_type": "stream",
          "text": [
            "8500\n"
          ],
          "name": "stdout"
        }
      ]
    },
    {
      "cell_type": "code",
      "metadata": {
        "id": "kxd288rS6nbJ"
      },
      "source": [
        "ticket_pivot = ticket_data.pivot_table(aggfunc=\"count\",columns =\"Assignment group\", values=\"Caller\")\n",
        "ticket_nums = np.array(ticket_pivot)\n",
        "ticket_cols = ticket_pivot.columns\n",
        "ticket_pivot_df = pd.DataFrame(data = ticket_nums, columns = ticket_cols, index = [\"Number of tickets\"])\n",
        "ticket_pivot_df = ticket_pivot_df.transpose()\n",
        "ticket_pivot_df.reset_index(inplace=True)"
      ],
      "execution_count": 40,
      "outputs": []
    },
    {
      "cell_type": "code",
      "metadata": {
        "id": "nPgdH7r-81JM"
      },
      "source": [
        "def replace_with_synonym(sentence):\n",
        "  if sentence != \"\":\n",
        "    synonym = \"\"\n",
        "    words = sentence.split(\" \")    \n",
        "    repl_num = 0\n",
        "    syn_idx = 0\n",
        "    for i in range(5):\n",
        "      if len(words) > 1:\n",
        "        repl_num = rnd.randint(0,len(words)-1)\n",
        "      elif len(words) == 1:\n",
        "        repl_num = 0\n",
        "      else:\n",
        "        return sentence\n",
        "      syns = wordnet.synsets(words[repl_num])\n",
        "      if len(syns) > 1:\n",
        "        syn_idx = rnd.randint(0,len(syns)-1)\n",
        "        synonym = syns[syn_idx].lemmas()[0].name()\n",
        "      elif len(syns) == 1:\n",
        "        syn_idx = 0\n",
        "        synonym = syns[syn_idx].lemmas()[0].name()\n",
        "      else:\n",
        "        synonym = \"\"\n",
        "      if synonym != \"\":\n",
        "        sentence = sentence.replace(words[repl_num], synonym)\n",
        "  return sentence\n",
        "\n",
        "def drop_words(sentence):\n",
        "  if sentence != \"\":\n",
        "    words = sentence.split(\" \")    \n",
        "    repl_num = 0\n",
        "    for i in range(5):\n",
        "      if len(words) > 1:\n",
        "        repl_num = rnd.randint(0,len(words)-1)\n",
        "      elif len(words) == 1:\n",
        "        repl_num = 0\n",
        "      else:\n",
        "        return sentence\n",
        "      words[repl_num] = \"\"\n",
        "    sentence = \" \".join(words)\n",
        "  return sentence\n",
        "\n",
        "def scatter_sentences(para):\n",
        "  sentences = para.split(\".\")\n",
        "  i=0\n",
        "  for sentence in sentences:\n",
        "      sentences[i] = sentence.strip()\n",
        "      i = i+1\n",
        "  total = len(sentences)\n",
        "  i = 0\n",
        "  new_order = []\n",
        "  while (len(new_order) < total):\n",
        "      num = rnd.randint(0,total-1)\n",
        "      if num not in new_order:\n",
        "          new_order.append(num)\n",
        "          i = i + 1\n",
        "  new_sentences = [sentences[i] for i in new_order]\n",
        "  total_sentences = len(new_sentences)\n",
        "  return_para = \"\"\n",
        "  for i in range(total_sentences):\n",
        "    if not new_sentences[i] == \"\":\n",
        "      if return_para == \"\":\n",
        "        return_para = new_sentences[i]\n",
        "      else:\n",
        "        return_para = return_para + \".\" + new_sentences[i]\n",
        "  return return_para"
      ],
      "execution_count": 41,
      "outputs": []
    },
    {
      "cell_type": "code",
      "metadata": {
        "id": "6OzML9Cwq_gX",
        "colab": {
          "base_uri": "https://localhost:8080/"
        },
        "outputId": "743855a8-84c0-4d23-f408-9468b43e87ff"
      },
      "source": [
        "def augment_data(df):\n",
        "  total_grps = len(ticket_pivot_df)\n",
        "  ticket_data_updated = df.copy()\n",
        "  list_to_add = []\n",
        "  list_df = []\n",
        "  col_names = ticket_data_updated.columns.values.tolist()\n",
        "  for i in range(total_grps):\n",
        "    grpname = ticket_pivot_df[\"Assignment group\"][i]\n",
        "    if ticket_pivot_df[\"Number of tickets\"][i] < 1000 and ticket_pivot_df[\"Number of tickets\"][i] > 20:\n",
        "      group_df = ticket_data_updated[ticket_data_updated[\"Assignment group\"]==grpname]\n",
        "      list_df = group_df.values.tolist()\n",
        "      group_df = None\n",
        "      records_added = ticket_pivot_df[\"Number of tickets\"][i]\n",
        "      while records_added < 330:\n",
        "        list_df = list_df + list_df\n",
        "        records_added = records_added + records_added\n",
        "      list_to_add = list_to_add + list_df\n",
        "      list_df = []\n",
        "      gc.collect()\n",
        "  #ticket_data_updated.info()\n",
        "    print(i)\n",
        "  #ticket_data_updated = pd.DataFrame(data = final_df, columns= col_names)\n",
        "  df_to_add = pd.DataFrame(data = list_to_add, columns = ticket_data.columns)\n",
        "  df_to_add[\"Description\"] = df_to_add[\"Description\"].apply(replace_with_synonym)\n",
        "  df_to_add[\"Short description\"] = df_to_add[\"Short description\"].apply(replace_with_synonym)\n",
        "  ticket_data_updated = pd.concat([ticket_data_updated, df_to_add],axis = 0)\n",
        "  print(\"first\", gc.collect())\n",
        "\n",
        "  df_to_add = pd.DataFrame(data = list_to_add, columns = ticket_data.columns)\n",
        "  df_to_add[\"Description\"] = df_to_add[\"Description\"].apply(scatter_sentences)\n",
        "  df_to_add[\"Short description\"] = df_to_add[\"Short description\"].apply(scatter_sentences)\n",
        "  ticket_data_updated = pd.concat([ticket_data_updated, df_to_add],axis = 0) \n",
        "  print(\"second:\", gc.collect())\n",
        "\n",
        "  df_to_add = pd.DataFrame(data = list_to_add, columns = ticket_data.columns)\n",
        "  df_to_add[\"Description\"] = df_to_add[\"Description\"].apply(drop_words)\n",
        "  df_to_add[\"Short description\"] = df_to_add[\"Short description\"].apply(drop_words)\n",
        "  ticket_data_updated = pd.concat([ticket_data_updated, df_to_add],axis = 0)\n",
        "  print(\"third\", gc.collect())\n",
        "  return ticket_data_updated\n",
        "\n",
        "def check_small_group(grp):\n",
        "  if grp in list(ticket_pivot_df[ticket_pivot_df[\"Number of tickets\"] <= 20][\"Assignment group\"]):\n",
        "    return True\n",
        "  return False\n",
        "\n",
        "### Augment the data here\n",
        "augmented_data = \"\"\n",
        "if os.path.exists(folder_path + \"/\" + \"augmented_data.pickle\"):\n",
        "  augmented_data = get_pickle_data(\"augmented_data.pickle\")\n",
        "  print(\"picking from pickle\")\n",
        "else:\n",
        "  augmented_data = augment_data(ticket_data)\n",
        "  print(\"augmented\")\n",
        "\n",
        "pickle_dump(augmented_data, \"augmented_data.pickle\")\n",
        "augmented_data.head()\n",
        "\n",
        "deep_learning_df = \" \"\n",
        "if os.path.exists(folder_path + \"/deep_learning_df.pickle\"):\n",
        "  deep_learning_df = get_pickle_data(\"deep_learning_df.pickle\")\n",
        "else:\n",
        "  deep_learning_df = augmented_data[np.logical_not(augmented_data[\"Assignment group\"].apply(check_small_group))]\n",
        "deep_learning_df[\"Description_New\"] = deep_learning_df[\"Short description\"] + deep_learning_df[\"Description\"]\n",
        "pickle_dump(deep_learning_df, \"deep_learning_df.pickle\")"
      ],
      "execution_count": 42,
      "outputs": [
        {
          "output_type": "stream",
          "text": [
            "0\n",
            "1\n",
            "2\n",
            "3\n",
            "4\n",
            "5\n",
            "6\n",
            "7\n",
            "8\n",
            "9\n",
            "10\n",
            "11\n",
            "12\n",
            "13\n",
            "14\n",
            "15\n",
            "16\n",
            "17\n",
            "18\n",
            "19\n",
            "20\n",
            "21\n",
            "22\n",
            "23\n",
            "24\n",
            "25\n",
            "26\n",
            "27\n",
            "28\n",
            "29\n",
            "30\n",
            "31\n",
            "32\n",
            "33\n",
            "34\n",
            "35\n",
            "36\n",
            "37\n",
            "38\n",
            "39\n",
            "40\n",
            "41\n",
            "42\n",
            "43\n",
            "44\n",
            "45\n",
            "46\n",
            "47\n",
            "48\n",
            "49\n",
            "50\n",
            "51\n",
            "52\n",
            "53\n",
            "54\n",
            "55\n",
            "56\n",
            "57\n",
            "58\n",
            "59\n",
            "60\n",
            "61\n",
            "62\n",
            "63\n",
            "64\n",
            "65\n",
            "66\n",
            "67\n",
            "68\n",
            "69\n",
            "70\n",
            "71\n",
            "72\n",
            "73\n",
            "first 0\n",
            "second: 0\n",
            "third 0\n",
            "augmented\n"
          ],
          "name": "stdout"
        }
      ]
    },
    {
      "cell_type": "code",
      "metadata": {
        "colab": {
          "base_uri": "https://localhost:8080/",
          "height": 204
        },
        "id": "e6ZHNucmfuSp",
        "outputId": "3296a1f3-cefd-4f84-ed80-8893503b5654"
      },
      "source": [
        "stop = stopwords.words('english')\n",
        "augmented_data[\"Description\"] = augmented_data[\"Description\"].apply(lambda x: \" \".join(x for x in str(x).split() if x not in stop))\n",
        "augmented_data[\"Short description\"] = augmented_data[\"Short description\"].apply(lambda x: \" \".join(x for x in str(x).split() if x not in stop))\n",
        "augmented_data['Short description']= augmented_data['Short description'].apply(lambda x: \" \".join([Word(word).lemmatize() for word in str(x).split()]))\n",
        "augmented_data['Description']= augmented_data['Description'].apply(lambda x: \" \".join([Word(word).lemmatize() for word in str(x).split()]))\n",
        "\n",
        "pickle_dump(augmented_data, \"lemmatized_data.pickle\")\n",
        "augmented_data.head()"
      ],
      "execution_count": 43,
      "outputs": [
        {
          "output_type": "execute_result",
          "data": {
            "text/html": [
              "<div>\n",
              "<style scoped>\n",
              "    .dataframe tbody tr th:only-of-type {\n",
              "        vertical-align: middle;\n",
              "    }\n",
              "\n",
              "    .dataframe tbody tr th {\n",
              "        vertical-align: top;\n",
              "    }\n",
              "\n",
              "    .dataframe thead th {\n",
              "        text-align: right;\n",
              "    }\n",
              "</style>\n",
              "<table border=\"1\" class=\"dataframe\">\n",
              "  <thead>\n",
              "    <tr style=\"text-align: right;\">\n",
              "      <th></th>\n",
              "      <th>Short description</th>\n",
              "      <th>Description</th>\n",
              "      <th>Caller</th>\n",
              "      <th>Assignment group</th>\n",
              "      <th>lang_desc</th>\n",
              "      <th>lang_short_desc</th>\n",
              "    </tr>\n",
              "  </thead>\n",
              "  <tbody>\n",
              "    <tr>\n",
              "      <th>0</th>\n",
              "      <td>login issue</td>\n",
              "      <td>verified user detailsemployee manager name che...</td>\n",
              "      <td>spxjnwir pjlcoqds</td>\n",
              "      <td>GRP_0</td>\n",
              "      <td>en</td>\n",
              "      <td>en</td>\n",
              "    </tr>\n",
              "    <tr>\n",
              "      <th>1</th>\n",
              "      <td>outlook</td>\n",
              "      <td>hmjdrvpbkomuaywn team meetingsskype meeting et...</td>\n",
              "      <td>hmjdrvpb komuaywn</td>\n",
              "      <td>GRP_0</td>\n",
              "      <td>en</td>\n",
              "      <td>en</td>\n",
              "    </tr>\n",
              "    <tr>\n",
              "      <th>2</th>\n",
              "      <td>cant log vpn</td>\n",
              "      <td>eylqgodmybqkwiam cannot log vpn</td>\n",
              "      <td>eylqgodm ybqkwiam</td>\n",
              "      <td>GRP_0</td>\n",
              "      <td>en</td>\n",
              "      <td>en</td>\n",
              "    </tr>\n",
              "    <tr>\n",
              "      <th>3</th>\n",
              "      <td>unable access hrtool page</td>\n",
              "      <td>unable access hrtool page</td>\n",
              "      <td>xbkucsvz gcpydteq</td>\n",
              "      <td>GRP_0</td>\n",
              "      <td>en</td>\n",
              "      <td>en</td>\n",
              "    </tr>\n",
              "    <tr>\n",
              "      <th>4</th>\n",
              "      <td>skype error</td>\n",
              "      <td>skype error</td>\n",
              "      <td>owlgqjme qhcozdfx</td>\n",
              "      <td>GRP_0</td>\n",
              "      <td>en</td>\n",
              "      <td>en</td>\n",
              "    </tr>\n",
              "  </tbody>\n",
              "</table>\n",
              "</div>"
            ],
            "text/plain": [
              "           Short description  ... lang_short_desc\n",
              "0                login issue  ...              en\n",
              "1                    outlook  ...              en\n",
              "2               cant log vpn  ...              en\n",
              "3  unable access hrtool page  ...              en\n",
              "4                skype error  ...              en\n",
              "\n",
              "[5 rows x 6 columns]"
            ]
          },
          "metadata": {
            "tags": []
          },
          "execution_count": 43
        }
      ]
    },
    {
      "cell_type": "code",
      "metadata": {
        "colab": {
          "base_uri": "https://localhost:8080/"
        },
        "id": "IJWPUVRKRuUl",
        "outputId": "51ee32ed-e15b-49c1-f4ad-40694a84b964"
      },
      "source": [
        "ticket_data[\"lang_desc\"].value_counts()"
      ],
      "execution_count": 44,
      "outputs": [
        {
          "output_type": "execute_result",
          "data": {
            "text/plain": [
              "en    8500\n",
              "Name: lang_desc, dtype: int64"
            ]
          },
          "metadata": {
            "tags": []
          },
          "execution_count": 44
        }
      ]
    },
    {
      "cell_type": "code",
      "metadata": {
        "colab": {
          "base_uri": "https://localhost:8080/"
        },
        "id": "JAM6-3XM2gIb",
        "outputId": "e20ecd7b-9c42-40ca-b436-0f4d3e63e727"
      },
      "source": [
        "ticket_data[\"lang_short_desc\"].value_counts()"
      ],
      "execution_count": 45,
      "outputs": [
        {
          "output_type": "execute_result",
          "data": {
            "text/plain": [
              "en    8500\n",
              "Name: lang_short_desc, dtype: int64"
            ]
          },
          "metadata": {
            "tags": []
          },
          "execution_count": 45
        }
      ]
    },
    {
      "cell_type": "code",
      "metadata": {
        "colab": {
          "base_uri": "https://localhost:8080/",
          "height": 410
        },
        "id": "TPPet5FARwpJ",
        "outputId": "3b2f0974-3005-4509-f67b-343098c0380c"
      },
      "source": [
        "x = ticket_data[\"lang_desc\"].value_counts()\n",
        "x=x.sort_index()\n",
        "plt.figure(figsize=(10,6))\n",
        "ax= sns.barplot(x.index, x.values, alpha=0.8)\n",
        "plt.title(\"Distribution of text by language\")\n",
        "plt.ylabel('number of records')\n",
        "plt.xlabel('Language')\n",
        "rects = ax.patches\n",
        "labels = x.values\n",
        "for rect, label in zip(rects, labels):\n",
        "    height = rect.get_height()\n",
        "    ax.text(rect.get_x() + rect.get_width()/2, height + 5, label, ha='center', va='bottom')\n",
        "plt.show();"
      ],
      "execution_count": 46,
      "outputs": [
        {
          "output_type": "display_data",
          "data": {
            "image/png": "[encoded data removed]",
            "text/plain": [
              "<Figure size 720x432 with 1 Axes>"
            ]
          },
          "metadata": {
            "tags": []
          }
        }
      ]
    },
    {
      "cell_type": "code",
      "metadata": {
        "colab": {
          "base_uri": "https://localhost:8080/",
          "height": 410
        },
        "id": "nqq0iWIH5bYu",
        "outputId": "ecf5d71a-18ef-4563-c834-931aa49cfb45"
      },
      "source": [
        "x = ticket_data[\"lang_short_desc\"].value_counts()\n",
        "x=x.sort_index()\n",
        "plt.figure(figsize=(10,6))\n",
        "ax= sns.barplot(x.index, x.values, alpha=0.8)\n",
        "plt.title(\"Distribution of text by language\")\n",
        "plt.ylabel('number of records')\n",
        "plt.xlabel('Language')\n",
        "rects = ax.patches\n",
        "labels = x.values\n",
        "for rect, label in zip(rects, labels):\n",
        "    height = rect.get_height()\n",
        "    ax.text(rect.get_x() + rect.get_width()/2, height + 5, label, ha='center', va='bottom')\n",
        "plt.show();"
      ],
      "execution_count": 47,
      "outputs": [
        {
          "output_type": "display_data",
          "data": {
            "image/png": "[encoded data removed]",
            "text/plain": [
              "<Figure size 720x432 with 1 Axes>"
            ]
          },
          "metadata": {
            "tags": []
          }
        }
      ]
    },
    {
      "cell_type": "markdown",
      "metadata": {
        "id": "bOD_SIFgkjk-"
      },
      "source": [
        "## Feature Engineering"
      ]
    },
    {
      "cell_type": "code",
      "metadata": {
        "colab": {
          "base_uri": "https://localhost:8080/"
        },
        "id": "UujZQZVkaq1X",
        "outputId": "f02bf714-670b-4551-849d-f01a51b428f2"
      },
      "source": [
        "augmented_data['Description_New'] = augmented_data['Short description'] + augmented_data['Description']\n",
        "augmented_data['num_wds'] = augmented_data['Description_New'].apply(lambda x: len(x.split()))\n",
        "augmented_data['num_wds'].mean()"
      ],
      "execution_count": 48,
      "outputs": [
        {
          "output_type": "execute_result",
          "data": {
            "text/plain": [
              "20.872000976160333"
            ]
          },
          "metadata": {
            "tags": []
          },
          "execution_count": 48
        }
      ]
    },
    {
      "cell_type": "code",
      "metadata": {
        "colab": {
          "base_uri": "https://localhost:8080/"
        },
        "id": "bQpPVzr9bJYv",
        "outputId": "e77f8b84-f93d-4251-e9cb-5c492387ec31"
      },
      "source": [
        "print(augmented_data['num_wds'].max())\n",
        "print(augmented_data['num_wds'].min())"
      ],
      "execution_count": 49,
      "outputs": [
        {
          "output_type": "stream",
          "text": [
            "915\n",
            "0\n"
          ],
          "name": "stdout"
        }
      ]
    },
    {
      "cell_type": "code",
      "metadata": {
        "colab": {
          "base_uri": "https://localhost:8080/"
        },
        "id": "BHPc3RWebOhH",
        "outputId": "5a8e0ef7-17ef-432d-f3f9-5d47337442b6"
      },
      "source": [
        "len(augmented_data[augmented_data['num_wds']==0])"
      ],
      "execution_count": 50,
      "outputs": [
        {
          "output_type": "execute_result",
          "data": {
            "text/plain": [
              "2510"
            ]
          },
          "metadata": {
            "tags": []
          },
          "execution_count": 50
        }
      ]
    },
    {
      "cell_type": "code",
      "metadata": {
        "colab": {
          "base_uri": "https://localhost:8080/"
        },
        "id": "nB7oIhpbbWNW",
        "outputId": "b6cccdb3-46a8-4d9e-f518-998d030bf370"
      },
      "source": [
        "augmented_data['uniq_wds'] = augmented_data['Description_New'].str.split().apply(lambda x: len(set(x)))\n",
        "augmented_data['uniq_wds'].head()"
      ],
      "execution_count": 51,
      "outputs": [
        {
          "output_type": "execute_result",
          "data": {
            "text/plain": [
              "0    17\n",
              "1    12\n",
              "2     5\n",
              "3     5\n",
              "4     3\n",
              "Name: uniq_wds, dtype: int64"
            ]
          },
          "metadata": {
            "tags": []
          },
          "execution_count": 51
        }
      ]
    },
    {
      "cell_type": "code",
      "metadata": {
        "colab": {
          "base_uri": "https://localhost:8080/",
          "height": 703
        },
        "id": "lL6DvrJ0bXka",
        "outputId": "fe57cd76-c3ae-4bb8-9079-2d9b764541a2"
      },
      "source": [
        "assign_grps = augmented_data.groupby('Assignment group')\n",
        "ax=assign_grps['num_wds'].aggregate(np.mean).plot(kind='bar', fontsize=14, figsize=(20,10))\n",
        "ax.set_title('Mean Number of Words in tickets per Assignment Group\\n', fontsize=20)\n",
        "ax.set_ylabel('Mean Number of Words', fontsize=18)\n",
        "ax.set_xlabel('Assignment Group', fontsize=18);"
      ],
      "execution_count": 52,
      "outputs": [
        {
          "output_type": "display_data",
          "data": {
            "image/png": "[encoded data removed]",
            "text/plain": [
              "<Figure size 1440x720 with 1 Axes>"
            ]
          },
          "metadata": {
            "tags": []
          }
        }
      ]
    },
    {
      "cell_type": "code",
      "metadata": {
        "colab": {
          "base_uri": "https://localhost:8080/",
          "height": 703
        },
        "id": "f_yL2NJDbpu5",
        "outputId": "20e00a23-6fa2-46e5-d4d5-a71f663b085e"
      },
      "source": [
        "ax=assign_grps['uniq_wds'].aggregate(np.mean).plot(kind='bar', fontsize=14, figsize=(20,10))\n",
        "ax.set_title('Mean Number of Unique Words per tickets in Assignment Group\\n', fontsize=20)\n",
        "ax.set_ylabel('Mean Number of Unique Words', fontsize=18)\n",
        "ax.set_xlabel('Assignment Group', fontsize=18);"
      ],
      "execution_count": 53,
      "outputs": [
        {
          "output_type": "display_data",
          "data": {
            "image/png": "[encoded data removed]",
            "text/plain": [
              "<Figure size 1440x720 with 1 Axes>"
            ]
          },
          "metadata": {
            "tags": []
          }
        }
      ]
    },
    {
      "cell_type": "code",
      "metadata": {
        "colab": {
          "base_uri": "https://localhost:8080/"
        },
        "id": "a8zbimaYbvs8",
        "outputId": "82d9c7ec-28c8-4fe3-9b61-ca4b7a8e6848"
      },
      "source": [
        "word_counts = Counter()\n",
        "for i, row in augmented_data.iterrows():\n",
        "    word_counts.update(row['Description_New'].split())\n",
        "    \n",
        "word_counts.most_common(20)"
      ],
      "execution_count": 54,
      "outputs": [
        {
          "output_type": "execute_result",
          "data": {
            "text/plain": [
              "[('job', 15518),\n",
              " ('t', 13070),\n",
              " ('erp', 10962),\n",
              " ('user', 9013),\n",
              " ('failed', 8303),\n",
              " ('error', 8255),\n",
              " ('password', 7490),\n",
              " ('issue', 7107),\n",
              " ('access', 6967),\n",
              " ('e', 6843),\n",
              " ('jobscheduler', 6770),\n",
              " ('yesnona', 6744),\n",
              " ('need', 6095),\n",
              " ('company', 6010),\n",
              " ('order', 5828),\n",
              " ('crm', 5777),\n",
              " ('email', 5600),\n",
              " ('system', 5445),\n",
              " ('event', 5197),\n",
              " ('sid', 5195)]"
            ]
          },
          "metadata": {
            "tags": []
          },
          "execution_count": 54
        }
      ]
    },
    {
      "cell_type": "code",
      "metadata": {
        "colab": {
          "base_uri": "https://localhost:8080/"
        },
        "id": "lNZokN0Pb2cr",
        "outputId": "71711f9d-01d2-4dde-b611-b0257ff8750f"
      },
      "source": [
        "tokenizer = nltk.tokenize.RegexpTokenizer(r'\\w+')\n",
        "augmented_data['token_desc'] = augmented_data['Description_New'].apply(lambda x: tokenizer.tokenize(x))\n",
        "augmented_data['token_desc'].head()"
      ],
      "execution_count": 55,
      "outputs": [
        {
          "output_type": "execute_result",
          "data": {
            "text/plain": [
              "0    [login, issueverified, user, detailsemployee, ...\n",
              "1    [outlookhmjdrvpbkomuaywn, team, meetingsskype,...\n",
              "2    [cant, log, vpneylqgodmybqkwiam, cannot, log, ...\n",
              "3    [unable, access, hrtool, pageunable, access, h...\n",
              "4                           [skype, errorskype, error]\n",
              "Name: token_desc, dtype: object"
            ]
          },
          "metadata": {
            "tags": []
          },
          "execution_count": 55
        }
      ]
    },
    {
      "cell_type": "code",
      "metadata": {
        "colab": {
          "base_uri": "https://localhost:8080/",
          "height": 340
        },
        "id": "UB4kGCjFPs0h",
        "outputId": "dca62e46-df24-4e74-8136-70e0e4e496fa"
      },
      "source": [
        "augmented_data.head()"
      ],
      "execution_count": 56,
      "outputs": [
        {
          "output_type": "execute_result",
          "data": {
            "text/html": [
              "<div>\n",
              "<style scoped>\n",
              "    .dataframe tbody tr th:only-of-type {\n",
              "        vertical-align: middle;\n",
              "    }\n",
              "\n",
              "    .dataframe tbody tr th {\n",
              "        vertical-align: top;\n",
              "    }\n",
              "\n",
              "    .dataframe thead th {\n",
              "        text-align: right;\n",
              "    }\n",
              "</style>\n",
              "<table border=\"1\" class=\"dataframe\">\n",
              "  <thead>\n",
              "    <tr style=\"text-align: right;\">\n",
              "      <th></th>\n",
              "      <th>Short description</th>\n",
              "      <th>Description</th>\n",
              "      <th>Caller</th>\n",
              "      <th>Assignment group</th>\n",
              "      <th>lang_desc</th>\n",
              "      <th>lang_short_desc</th>\n",
              "      <th>Description_New</th>\n",
              "      <th>num_wds</th>\n",
              "      <th>uniq_wds</th>\n",
              "      <th>token_desc</th>\n",
              "    </tr>\n",
              "  </thead>\n",
              "  <tbody>\n",
              "    <tr>\n",
              "      <th>0</th>\n",
              "      <td>login issue</td>\n",
              "      <td>verified user detailsemployee manager name che...</td>\n",
              "      <td>spxjnwir pjlcoqds</td>\n",
              "      <td>GRP_0</td>\n",
              "      <td>en</td>\n",
              "      <td>en</td>\n",
              "      <td>login issueverified user detailsemployee manag...</td>\n",
              "      <td>22</td>\n",
              "      <td>17</td>\n",
              "      <td>[login, issueverified, user, detailsemployee, ...</td>\n",
              "    </tr>\n",
              "    <tr>\n",
              "      <th>1</th>\n",
              "      <td>outlook</td>\n",
              "      <td>hmjdrvpbkomuaywn team meetingsskype meeting et...</td>\n",
              "      <td>hmjdrvpb komuaywn</td>\n",
              "      <td>GRP_0</td>\n",
              "      <td>en</td>\n",
              "      <td>en</td>\n",
              "      <td>outlookhmjdrvpbkomuaywn team meetingsskype mee...</td>\n",
              "      <td>12</td>\n",
              "      <td>12</td>\n",
              "      <td>[outlookhmjdrvpbkomuaywn, team, meetingsskype,...</td>\n",
              "    </tr>\n",
              "    <tr>\n",
              "      <th>2</th>\n",
              "      <td>cant log vpn</td>\n",
              "      <td>eylqgodmybqkwiam cannot log vpn</td>\n",
              "      <td>eylqgodm ybqkwiam</td>\n",
              "      <td>GRP_0</td>\n",
              "      <td>en</td>\n",
              "      <td>en</td>\n",
              "      <td>cant log vpneylqgodmybqkwiam cannot log vpn</td>\n",
              "      <td>6</td>\n",
              "      <td>5</td>\n",
              "      <td>[cant, log, vpneylqgodmybqkwiam, cannot, log, ...</td>\n",
              "    </tr>\n",
              "    <tr>\n",
              "      <th>3</th>\n",
              "      <td>unable access hrtool page</td>\n",
              "      <td>unable access hrtool page</td>\n",
              "      <td>xbkucsvz gcpydteq</td>\n",
              "      <td>GRP_0</td>\n",
              "      <td>en</td>\n",
              "      <td>en</td>\n",
              "      <td>unable access hrtool pageunable access hrtool ...</td>\n",
              "      <td>7</td>\n",
              "      <td>5</td>\n",
              "      <td>[unable, access, hrtool, pageunable, access, h...</td>\n",
              "    </tr>\n",
              "    <tr>\n",
              "      <th>4</th>\n",
              "      <td>skype error</td>\n",
              "      <td>skype error</td>\n",
              "      <td>owlgqjme qhcozdfx</td>\n",
              "      <td>GRP_0</td>\n",
              "      <td>en</td>\n",
              "      <td>en</td>\n",
              "      <td>skype errorskype error</td>\n",
              "      <td>3</td>\n",
              "      <td>3</td>\n",
              "      <td>[skype, errorskype, error]</td>\n",
              "    </tr>\n",
              "  </tbody>\n",
              "</table>\n",
              "</div>"
            ],
            "text/plain": [
              "           Short description  ...                                         token_desc\n",
              "0                login issue  ...  [login, issueverified, user, detailsemployee, ...\n",
              "1                    outlook  ...  [outlookhmjdrvpbkomuaywn, team, meetingsskype,...\n",
              "2               cant log vpn  ...  [cant, log, vpneylqgodmybqkwiam, cannot, log, ...\n",
              "3  unable access hrtool page  ...  [unable, access, hrtool, pageunable, access, h...\n",
              "4                skype error  ...                         [skype, errorskype, error]\n",
              "\n",
              "[5 rows x 10 columns]"
            ]
          },
          "metadata": {
            "tags": []
          },
          "execution_count": 56
        }
      ]
    },
    {
      "cell_type": "markdown",
      "metadata": {
        "id": "1Yp9Ky7CkszC"
      },
      "source": [
        "## Splitting the data into rule based and Machine learning based processing"
      ]
    },
    {
      "cell_type": "code",
      "metadata": {
        "id": "MowvH-85eRZj"
      },
      "source": [
        "rule_based_df = \" \"\n",
        "machine_learning_df = \" \"\n",
        "if os.path.exists(folder_path + \"/rule_based_df.pickle\"):\n",
        "  rule_based_df = get_pickle_data(\"rule_based_df.pickle\")\n",
        "else:\n",
        "  rule_based_df = augmented_data[augmented_data[\"Assignment group\"].apply(check_small_group)]\n",
        "\n",
        "if os.path.exists(folder_path + \"/machine_learning_df.pickle\"):\n",
        "  machine_learning_df = get_pickle_data(\"machine_learning_df.pickle\")\n",
        "else:\n",
        "  machine_learning_df = augmented_data[np.logical_not(augmented_data[\"Assignment group\"].apply(check_small_group))]"
      ],
      "execution_count": 57,
      "outputs": []
    },
    {
      "cell_type": "code",
      "metadata": {
        "id": "xq-Wi5u3ltsP"
      },
      "source": [
        "pickle_dump(rule_based_df, \"rule_based_df.pickle\")\n",
        "pickle_dump(machine_learning_df, \"machine_learning_df.pickle\")"
      ],
      "execution_count": 58,
      "outputs": []
    },
    {
      "cell_type": "markdown",
      "metadata": {
        "id": "cOtAcWPckzsw"
      },
      "source": [
        "## Vocabularizing the Deep Learning Df"
      ]
    },
    {
      "cell_type": "code",
      "metadata": {
        "colab": {
          "base_uri": "https://localhost:8080/"
        },
        "id": "pGd2Hw-qq_gW",
        "outputId": "b5ebe733-7139-4f45-98ac-6ed0d8d87905"
      },
      "source": [
        "def vocabularize(text, max_features):\n",
        "  x = text\n",
        "  vocabSize = max_features\n",
        "  tokenizer = Tokenizer(num_words=vocabSize, split=' ')\n",
        "  tokenizer.fit_on_texts(x)\n",
        "  x = tokenizer.texts_to_sequences(x)\n",
        "  x = pad_sequences(x,MAX_LENGTH)\n",
        "  return x\n",
        "x = vocabularize(deep_learning_df[\"Description_New\"], max_features)\n",
        "x"
      ],
      "execution_count": 59,
      "outputs": [
        {
          "output_type": "execute_result",
          "data": {
            "text/plain": [
              "array([[   0,    0,    0, ...,   89,   36, 1087],\n",
              "       [   0,    0,    0, ...,    2,  281,   14],\n",
              "       [   0,    0,    0, ...,    9,    2,  268],\n",
              "       ...,\n",
              "       [   0,    0,    0, ...,  131,   16,   15],\n",
              "       [   0,    0,    0, ...,   27,   22,   88],\n",
              "       [   0,    0,    0, ..., 1304,   93,  845]], dtype=int32)"
            ]
          },
          "metadata": {
            "tags": []
          },
          "execution_count": 59
        }
      ]
    }
  ]
}