{
  "nbformat": 4,
  "nbformat_minor": 0,
  "metadata": {
    "colab": {
      "name": "Capstone_Project_Final_Jan3.ipynb",
      "provenance": [],
      "collapsed_sections": []
    },
    "kernelspec": {
      "display_name": "Python 3",
      "language": "python",
      "name": "python3"
    },
    "language_info": {
      "codemirror_mode": {
        "name": "ipython",
        "version": 3
      },
      "file_extension": ".py",
      "mimetype": "text/x-python",
      "name": "python",
      "nbconvert_exporter": "python",
      "pygments_lexer": "ipython3",
      "version": "3.7.3"
    }
  },
  "cells": [
    {
      "cell_type": "markdown",
      "metadata": {
        "id": "f6oi-KsRq_gU"
      },
      "source": [
        "# **Capstone Project GRP4 NLP B**"
      ]
    },
    {
      "cell_type": "markdown",
      "metadata": {
        "id": "6cX4-a6RipMH"
      },
      "source": [
        "## Installing Packages"
      ]
    },
    {
      "cell_type": "code",
      "metadata": {
        "colab": {
          "base_uri": "https://localhost:8080/"
        },
        "id": "ZpvwcjP0ZqzW",
        "outputId": "267ee12c-cfef-4e72-e68b-d557cb5a2552"
      },
      "source": [
        "!pip install -U textblob\n",
        "!pip install translators\n",
        "!pip install goslate\n",
        "from goslate import Goslate\n",
        "!pip install translate\n",
        "!pip install googletrans==4.0.0-rc1\n",
        "import googletrans\n",
        "from googletrans import Translator\n",
        "!pip install langdetect\n",
        "!pip install ftfy\n",
        "!pip install rpy2\n",
        "!pip install googletrans\n",
        "!pip install -U spacy\n",
        "!pip install spacy-langdetect \n",
        "!python -m spacy validate\n",
        "!python -m spacy download xx_ent_wiki_sm\n",
        "!pip install h5py\n",
        "!pip install lightgbm\n",
        "!pip install lightgbm --install-option=--gpu\n",
        "!pip install catboost"
      ],
      "execution_count": 1,
      "outputs": [
        {
          "output_type": "stream",
          "text": [
            "Requirement already up-to-date: textblob in /usr/local/lib/python3.6/dist-packages (0.15.3)\n",
            "Requirement already satisfied, skipping upgrade: nltk>=3.1 in /usr/local/lib/python3.6/dist-packages (from textblob) (3.2.5)\n",
            "Requirement already satisfied, skipping upgrade: six in /usr/local/lib/python3.6/dist-packages (from nltk>=3.1->textblob) (1.15.0)\n",
            "Collecting translators\n",
            "  Downloading https://files.pythonhosted.org/packages/a8/c5/aeae3a49f8a8e0367d8a88fc371833246ee638b53a9f0ccdf77dc3fa324d/translators-4.7.13-py3-none-any.whl\n",
            "Collecting lxml>=4.5.0\n",
            "\u001b[?25l  Downloading https://files.pythonhosted.org/packages/bd/78/56a7c88a57d0d14945472535d0df9fb4bbad7d34ede658ec7961635c790e/lxml-4.6.2-cp36-cp36m-manylinux1_x86_64.whl (5.5MB)\n",
            "\u001b[K     |████████████████████████████████| 5.5MB 5.8MB/s \n",
            "\u001b[?25hCollecting PyExecJS>=1.5.1\n",
            "  Downloading https://files.pythonhosted.org/packages/ba/8e/aedef81641c8dca6fd0fb7294de5bed9c45f3397d67fddf755c1042c2642/PyExecJS-1.5.1.tar.gz\n",
            "Requirement already satisfied: requests>=2.23.0 in /usr/local/lib/python3.6/dist-packages (from translators) (2.23.0)\n",
            "Collecting loguru>=0.4.1\n",
            "\u001b[?25l  Downloading https://files.pythonhosted.org/packages/6d/48/0a7d5847e3de329f1d0134baf707b689700b53bd3066a5a8cfd94b3c9fc8/loguru-0.5.3-py3-none-any.whl (57kB)\n",
            "\u001b[K     |████████████████████████████████| 61kB 5.7MB/s \n",
            "\u001b[?25hRequirement already satisfied: six>=1.10.0 in /usr/local/lib/python3.6/dist-packages (from PyExecJS>=1.5.1->translators) (1.15.0)\n",
            "Requirement already satisfied: chardet<4,>=3.0.2 in /usr/local/lib/python3.6/dist-packages (from requests>=2.23.0->translators) (3.0.4)\n",
            "Requirement already satisfied: urllib3!=1.25.0,!=1.25.1,<1.26,>=1.21.1 in /usr/local/lib/python3.6/dist-packages (from requests>=2.23.0->translators) (1.24.3)\n",
            "Requirement already satisfied: certifi>=2017.4.17 in /usr/local/lib/python3.6/dist-packages (from requests>=2.23.0->translators) (2020.12.5)\n",
            "Requirement already satisfied: idna<3,>=2.5 in /usr/local/lib/python3.6/dist-packages (from requests>=2.23.0->translators) (2.10)\n",
            "Collecting aiocontextvars>=0.2.0; python_version < \"3.7\"\n",
            "  Downloading https://files.pythonhosted.org/packages/db/c1/7a723e8d988de0a2e623927396e54b6831b68cb80dce468c945b849a9385/aiocontextvars-0.2.2-py2.py3-none-any.whl\n",
            "Collecting contextvars==2.4; python_version < \"3.7\"\n",
            "  Downloading https://files.pythonhosted.org/packages/83/96/55b82d9f13763be9d672622e1b8106c85acb83edd7cc2fa5bc67cd9877e9/contextvars-2.4.tar.gz\n",
            "Collecting immutables>=0.9\n",
            "\u001b[?25l  Downloading https://files.pythonhosted.org/packages/99/e0/ea6fd4697120327d26773b5a84853f897a68e33d3f9376b00a8ff96e4f63/immutables-0.14-cp36-cp36m-manylinux1_x86_64.whl (98kB)\n",
            "\u001b[K     |████████████████████████████████| 102kB 10.6MB/s \n",
            "\u001b[?25hBuilding wheels for collected packages: PyExecJS, contextvars\n",
            "  Building wheel for PyExecJS (setup.py) ... \u001b[?25l\u001b[?25hdone\n",
            "  Created wheel for PyExecJS: filename=PyExecJS-1.5.1-cp36-none-any.whl size=14589 sha256=4d34b33759edfb0260b2b05ff77009df40181c9fb18d3bc8c9642fd07466ba89\n",
            "  Stored in directory: /root/.cache/pip/wheels/43/25/28/52dd7a6c691b1551e3d4482f3f16ef630cc9f59cae99cd33ba\n",
            "  Building wheel for contextvars (setup.py) ... \u001b[?25l\u001b[?25hdone\n",
            "  Created wheel for contextvars: filename=contextvars-2.4-cp36-none-any.whl size=7667 sha256=00ccdf31e3fe25283d29badde9d2749dec6398709b4d73e96caeba7f51afd21b\n",
            "  Stored in directory: /root/.cache/pip/wheels/a5/7d/68/1ebae2668bda2228686e3c1cf16f2c2384cea6e9334ad5f6de\n",
            "Successfully built PyExecJS contextvars\n",
            "Installing collected packages: lxml, PyExecJS, immutables, contextvars, aiocontextvars, loguru, translators\n",
            "  Found existing installation: lxml 4.2.6\n",
            "    Uninstalling lxml-4.2.6:\n",
            "      Successfully uninstalled lxml-4.2.6\n",
            "Successfully installed PyExecJS-1.5.1 aiocontextvars-0.2.2 contextvars-2.4 immutables-0.14 loguru-0.5.3 lxml-4.6.2 translators-4.7.13\n",
            "Collecting goslate\n",
            "  Downloading https://files.pythonhosted.org/packages/39/0b/50af938a1c3d4f4c595b6a22d37af11ebe666246b05a1a97573e8c8944e5/goslate-1.5.1.tar.gz\n",
            "Collecting futures\n",
            "  Downloading https://files.pythonhosted.org/packages/05/80/f41cca0ea1ff69bce7e7a7d76182b47bb4e1a494380a532af3e8ee70b9ec/futures-3.1.1-py3-none-any.whl\n",
            "Building wheels for collected packages: goslate\n",
            "  Building wheel for goslate (setup.py) ... \u001b[?25l\u001b[?25hdone\n",
            "  Created wheel for goslate: filename=goslate-1.5.1-cp36-none-any.whl size=11551 sha256=01a7ab37ea5d41f456819ba94306d8ee4affe4b7b3142727e17544ae942e9aae\n",
            "  Stored in directory: /root/.cache/pip/wheels/4f/7f/28/6f52271012a7649b54b1a7adaae329b4246bbbf9d1e4f6e51a\n",
            "Successfully built goslate\n",
            "Installing collected packages: futures, goslate\n",
            "Successfully installed futures-3.1.1 goslate-1.5.1\n",
            "Collecting translate\n",
            "  Downloading https://files.pythonhosted.org/packages/85/b2/2ea329a07bbc0c7227eef84ca89ffd6895e7ec237d6c0b26574d56103e53/translate-3.5.0-py2.py3-none-any.whl\n",
            "Collecting tox\n",
            "\u001b[?25l  Downloading https://files.pythonhosted.org/packages/e0/79/5915b9dad867e89bb6495456acfe5d4e2287e74dfa29c059f7b127d5480e/tox-3.20.1-py2.py3-none-any.whl (83kB)\n",
            "\u001b[K     |████████████████████████████████| 92kB 3.5MB/s \n",
            "\u001b[?25hCollecting pre-commit\n",
            "\u001b[?25l  Downloading https://files.pythonhosted.org/packages/1e/ab/191c8d1dbd179b6577cd9a5744e56aede754776905b9dc9c524b21607cf6/pre_commit-2.9.3-py2.py3-none-any.whl (184kB)\n",
            "\u001b[K     |████████████████████████████████| 194kB 7.0MB/s \n",
            "\u001b[?25hRequirement already satisfied: requests in /usr/local/lib/python3.6/dist-packages (from translate) (2.23.0)\n",
            "Requirement already satisfied: click in /usr/local/lib/python3.6/dist-packages (from translate) (7.1.2)\n",
            "Requirement already satisfied: lxml in /usr/local/lib/python3.6/dist-packages (from translate) (4.6.2)\n",
            "Collecting pluggy>=0.12.0\n",
            "  Downloading https://files.pythonhosted.org/packages/a0/28/85c7aa31b80d150b772fbe4a229487bc6644da9ccb7e427dd8cc60cb8a62/pluggy-0.13.1-py2.py3-none-any.whl\n",
            "Requirement already satisfied: packaging>=14 in /usr/local/lib/python3.6/dist-packages (from tox->translate) (20.8)\n",
            "Requirement already satisfied: filelock>=3.0.0 in /usr/local/lib/python3.6/dist-packages (from tox->translate) (3.0.12)\n",
            "Requirement already satisfied: six>=1.14.0 in /usr/local/lib/python3.6/dist-packages (from tox->translate) (1.15.0)\n",
            "Requirement already satisfied: py>=1.4.17 in /usr/local/lib/python3.6/dist-packages (from tox->translate) (1.10.0)\n",
            "Requirement already satisfied: toml>=0.9.4 in /usr/local/lib/python3.6/dist-packages (from tox->translate) (0.10.2)\n",
            "Collecting virtualenv!=20.0.0,!=20.0.1,!=20.0.2,!=20.0.3,!=20.0.4,!=20.0.5,!=20.0.6,!=20.0.7,>=16.0.0\n",
            "\u001b[?25l  Downloading https://files.pythonhosted.org/packages/1a/c6/bb564f5eec616d241e85d741f00a07f5f50ea12989022ad49bc66876993c/virtualenv-20.2.2-py2.py3-none-any.whl (5.7MB)\n",
            "\u001b[K     |████████████████████████████████| 5.7MB 7.1MB/s \n",
            "\u001b[?25hCollecting importlib-metadata<3,>=0.12; python_version < \"3.8\"\n",
            "  Downloading https://files.pythonhosted.org/packages/98/b8/8ec57a8ef46fbe7f185318c7ff7df9a06c9df451d9a59a067bfa851bb828/importlib_metadata-2.1.1-py2.py3-none-any.whl\n",
            "Requirement already satisfied: importlib-resources; python_version < \"3.7\" in /usr/local/lib/python3.6/dist-packages (from pre-commit->translate) (3.3.0)\n",
            "Collecting cfgv>=2.0.0\n",
            "  Downloading https://files.pythonhosted.org/packages/45/cd/3878c9248e59e5e2ebd0dc741ab984b18d86e7283ae9b127b05fc287d239/cfgv-3.2.0-py2.py3-none-any.whl\n",
            "Collecting identify>=1.0.0\n",
            "\u001b[?25l  Downloading https://files.pythonhosted.org/packages/af/b2/81d64022f2eedef55376f56db9b0f383545a18713c8a47f1ddc9a774d9e6/identify-1.5.11-py2.py3-none-any.whl (97kB)\n",
            "\u001b[K     |████████████████████████████████| 102kB 10.3MB/s \n",
            "\u001b[?25hCollecting nodeenv>=0.11.1\n",
            "  Downloading https://files.pythonhosted.org/packages/ae/d0/efdf54539948315cc76e5a66b709212963101d002822c3b54369dbf9b5e0/nodeenv-1.5.0-py2.py3-none-any.whl\n",
            "Collecting pyyaml>=5.1\n",
            "\u001b[?25l  Downloading https://files.pythonhosted.org/packages/64/c2/b80047c7ac2478f9501676c988a5411ed5572f35d1beff9cae07d321512c/PyYAML-5.3.1.tar.gz (269kB)\n",
            "\u001b[K     |████████████████████████████████| 276kB 41.8MB/s \n",
            "\u001b[?25hRequirement already satisfied: urllib3!=1.25.0,!=1.25.1,<1.26,>=1.21.1 in /usr/local/lib/python3.6/dist-packages (from requests->translate) (1.24.3)\n",
            "Requirement already satisfied: chardet<4,>=3.0.2 in /usr/local/lib/python3.6/dist-packages (from requests->translate) (3.0.4)\n",
            "Requirement already satisfied: idna<3,>=2.5 in /usr/local/lib/python3.6/dist-packages (from requests->translate) (2.10)\n",
            "Requirement already satisfied: certifi>=2017.4.17 in /usr/local/lib/python3.6/dist-packages (from requests->translate) (2020.12.5)\n",
            "Requirement already satisfied: pyparsing>=2.0.2 in /usr/local/lib/python3.6/dist-packages (from packaging>=14->tox->translate) (2.4.7)\n",
            "Collecting appdirs<2,>=1.4.3\n",
            "  Downloading https://files.pythonhosted.org/packages/3b/00/2344469e2084fb287c2e0b57b72910309874c3245463acd6cf5e3db69324/appdirs-1.4.4-py2.py3-none-any.whl\n",
            "Collecting distlib<1,>=0.3.1\n",
            "\u001b[?25l  Downloading https://files.pythonhosted.org/packages/f5/0a/490fa011d699bb5a5f3a0cf57de82237f52a6db9d40f33c53b2736c9a1f9/distlib-0.3.1-py2.py3-none-any.whl (335kB)\n",
            "\u001b[K     |████████████████████████████████| 337kB 46.2MB/s \n",
            "\u001b[?25hRequirement already satisfied: zipp>=0.5 in /usr/local/lib/python3.6/dist-packages (from importlib-metadata<3,>=0.12; python_version < \"3.8\"->tox->translate) (3.4.0)\n",
            "Building wheels for collected packages: pyyaml\n",
            "  Building wheel for pyyaml (setup.py) ... \u001b[?25l\u001b[?25hdone\n",
            "  Created wheel for pyyaml: filename=PyYAML-5.3.1-cp36-cp36m-linux_x86_64.whl size=44621 sha256=c4bba598647b5ad00e0e49bb9d88be99ad32701e4517b0b09d14c4b56628517d\n",
            "  Stored in directory: /root/.cache/pip/wheels/a7/c1/ea/cf5bd31012e735dc1dfea3131a2d5eae7978b251083d6247bd\n",
            "Successfully built pyyaml\n",
            "\u001b[31mERROR: pytest 3.6.4 has requirement pluggy<0.8,>=0.5, but you'll have pluggy 0.13.1 which is incompatible.\u001b[0m\n",
            "\u001b[31mERROR: datascience 0.10.6 has requirement folium==0.2.1, but you'll have folium 0.8.3 which is incompatible.\u001b[0m\n",
            "Installing collected packages: importlib-metadata, pluggy, appdirs, distlib, virtualenv, tox, cfgv, identify, nodeenv, pyyaml, pre-commit, translate\n",
            "  Found existing installation: importlib-metadata 3.3.0\n",
            "    Uninstalling importlib-metadata-3.3.0:\n",
            "      Successfully uninstalled importlib-metadata-3.3.0\n",
            "  Found existing installation: pluggy 0.7.1\n",
            "    Uninstalling pluggy-0.7.1:\n",
            "      Successfully uninstalled pluggy-0.7.1\n",
            "  Found existing installation: PyYAML 3.13\n",
            "    Uninstalling PyYAML-3.13:\n",
            "      Successfully uninstalled PyYAML-3.13\n",
            "Successfully installed appdirs-1.4.4 cfgv-3.2.0 distlib-0.3.1 identify-1.5.11 importlib-metadata-2.1.1 nodeenv-1.5.0 pluggy-0.13.1 pre-commit-2.9.3 pyyaml-5.3.1 tox-3.20.1 translate-3.5.0 virtualenv-20.2.2\n",
            "Collecting googletrans==4.0.0-rc1\n",
            "  Downloading https://files.pythonhosted.org/packages/fa/0d/a5fe8fb53dbf401f8a34cef9439c4c5b8f5037e20123b3e731397808d839/googletrans-4.0.0rc1.tar.gz\n",
            "Collecting httpx==0.13.3\n",
            "\u001b[?25l  Downloading https://files.pythonhosted.org/packages/54/b4/698b284c6aed4d7c2b4fe3ba5df1fcf6093612423797e76fbb24890dd22f/httpx-0.13.3-py3-none-any.whl (55kB)\n",
            "\u001b[K     |████████████████████████████████| 61kB 3.1MB/s \n",
            "\u001b[?25hRequirement already satisfied: chardet==3.* in /usr/local/lib/python3.6/dist-packages (from httpx==0.13.3->googletrans==4.0.0-rc1) (3.0.4)\n",
            "Collecting sniffio\n",
            "  Downloading https://files.pythonhosted.org/packages/52/b0/7b2e028b63d092804b6794595871f936aafa5e9322dcaaad50ebf67445b3/sniffio-1.2.0-py3-none-any.whl\n",
            "Collecting hstspreload\n",
            "\u001b[?25l  Downloading https://files.pythonhosted.org/packages/dd/50/606213e12fb49c5eb667df0936223dcaf461f94e215ea60244b2b1e9b039/hstspreload-2020.12.22-py3-none-any.whl (994kB)\n",
            "\u001b[K     |████████████████████████████████| 1.0MB 6.2MB/s \n",
            "\u001b[?25hRequirement already satisfied: certifi in /usr/local/lib/python3.6/dist-packages (from httpx==0.13.3->googletrans==4.0.0-rc1) (2020.12.5)\n",
            "Collecting rfc3986<2,>=1.3\n",
            "  Downloading https://files.pythonhosted.org/packages/78/be/7b8b99fd74ff5684225f50dd0e865393d2265656ef3b4ba9eaaaffe622b8/rfc3986-1.4.0-py2.py3-none-any.whl\n",
            "Requirement already satisfied: idna==2.* in /usr/local/lib/python3.6/dist-packages (from httpx==0.13.3->googletrans==4.0.0-rc1) (2.10)\n",
            "Collecting httpcore==0.9.*\n",
            "\u001b[?25l  Downloading https://files.pythonhosted.org/packages/dd/d5/e4ff9318693ac6101a2095e580908b591838c6f33df8d3ee8dd953ba96a8/httpcore-0.9.1-py3-none-any.whl (42kB)\n",
            "\u001b[K     |████████████████████████████████| 51kB 6.1MB/s \n",
            "\u001b[?25hRequirement already satisfied: contextvars>=2.1; python_version < \"3.7\" in /usr/local/lib/python3.6/dist-packages (from sniffio->httpx==0.13.3->googletrans==4.0.0-rc1) (2.4)\n",
            "Collecting h2==3.*\n",
            "\u001b[?25l  Downloading https://files.pythonhosted.org/packages/25/de/da019bcc539eeab02f6d45836f23858ac467f584bfec7a526ef200242afe/h2-3.2.0-py2.py3-none-any.whl (65kB)\n",
            "\u001b[K     |████████████████████████████████| 71kB 7.8MB/s \n",
            "\u001b[?25hCollecting h11<0.10,>=0.8\n",
            "\u001b[?25l  Downloading https://files.pythonhosted.org/packages/5a/fd/3dad730b0f95e78aeeb742f96fa7bbecbdd56a58e405d3da440d5bfb90c6/h11-0.9.0-py2.py3-none-any.whl (53kB)\n",
            "\u001b[K     |████████████████████████████████| 61kB 6.5MB/s \n",
            "\u001b[?25hRequirement already satisfied: immutables>=0.9 in /usr/local/lib/python3.6/dist-packages (from contextvars>=2.1; python_version < \"3.7\"->sniffio->httpx==0.13.3->googletrans==4.0.0-rc1) (0.14)\n",
            "Collecting hyperframe<6,>=5.2.0\n",
            "  Downloading https://files.pythonhosted.org/packages/19/0c/bf88182bcb5dce3094e2f3e4fe20db28a9928cb7bd5b08024030e4b140db/hyperframe-5.2.0-py2.py3-none-any.whl\n",
            "Collecting hpack<4,>=3.0\n",
            "  Downloading https://files.pythonhosted.org/packages/8a/cc/e53517f4a1e13f74776ca93271caef378dadec14d71c61c949d759d3db69/hpack-3.0.0-py2.py3-none-any.whl\n",
            "Building wheels for collected packages: googletrans\n",
            "  Building wheel for googletrans (setup.py) ... \u001b[?25l\u001b[?25hdone\n",
            "  Created wheel for googletrans: filename=googletrans-4.0.0rc1-cp36-none-any.whl size=17417 sha256=52924d1946653ecf1a22a638a3e5cd72e25ef488bed4378dfdde15170fb3360b\n",
            "  Stored in directory: /root/.cache/pip/wheels/09/32/56/fd8940f1b3c1d77c9f91b55597c52a4d4833b000a980bb0740\n",
            "Successfully built googletrans\n",
            "Installing collected packages: sniffio, hstspreload, rfc3986, hyperframe, hpack, h2, h11, httpcore, httpx, googletrans\n",
            "Successfully installed googletrans-4.0.0rc1 h11-0.9.0 h2-3.2.0 hpack-3.0.0 hstspreload-2020.12.22 httpcore-0.9.1 httpx-0.13.3 hyperframe-5.2.0 rfc3986-1.4.0 sniffio-1.2.0\n",
            "Collecting langdetect\n",
            "\u001b[?25l  Downloading https://files.pythonhosted.org/packages/56/a3/8407c1e62d5980188b4acc45ef3d94b933d14a2ebc9ef3505f22cf772570/langdetect-1.0.8.tar.gz (981kB)\n",
            "\u001b[K     |████████████████████████████████| 983kB 5.4MB/s \n",
            "\u001b[?25hRequirement already satisfied: six in /usr/local/lib/python3.6/dist-packages (from langdetect) (1.15.0)\n",
            "Building wheels for collected packages: langdetect\n",
            "  Building wheel for langdetect (setup.py) ... \u001b[?25l\u001b[?25hdone\n",
            "  Created wheel for langdetect: filename=langdetect-1.0.8-cp36-none-any.whl size=993194 sha256=015d7b1c5099fb09910b7acf621924475d7279181302147db05b563c72c46408\n",
            "  Stored in directory: /root/.cache/pip/wheels/8d/b3/aa/6d99de9f3841d7d3d40a60ea06e6d669e8e5012e6c8b947a57\n",
            "Successfully built langdetect\n",
            "Installing collected packages: langdetect\n",
            "Successfully installed langdetect-1.0.8\n",
            "Collecting ftfy\n",
            "\u001b[?25l  Downloading https://files.pythonhosted.org/packages/ff/e2/3b51c53dffb1e52d9210ebc01f1fb9f2f6eba9b3201fa971fd3946643c71/ftfy-5.8.tar.gz (64kB)\n",
            "\u001b[K     |████████████████████████████████| 71kB 3.5MB/s \n",
            "\u001b[?25hRequirement already satisfied: wcwidth in /usr/local/lib/python3.6/dist-packages (from ftfy) (0.2.5)\n",
            "Building wheels for collected packages: ftfy\n",
            "  Building wheel for ftfy (setup.py) ... \u001b[?25l\u001b[?25hdone\n",
            "  Created wheel for ftfy: filename=ftfy-5.8-cp36-none-any.whl size=45613 sha256=8112ccccb6c123e351315fe7c616dec344322b97872d9b54c232fc3aa67eaac0\n",
            "  Stored in directory: /root/.cache/pip/wheels/ba/c0/ef/f28c4da5ac84a4e06ac256ca9182fc34fa57fefffdbc68425b\n",
            "Successfully built ftfy\n",
            "Installing collected packages: ftfy\n",
            "Successfully installed ftfy-5.8\n",
            "Requirement already satisfied: rpy2 in /usr/local/lib/python3.6/dist-packages (3.2.7)\n",
            "Requirement already satisfied: jinja2 in /usr/local/lib/python3.6/dist-packages (from rpy2) (2.11.2)\n",
            "Requirement already satisfied: cffi>=1.13.1 in /usr/local/lib/python3.6/dist-packages (from rpy2) (1.14.4)\n",
            "Requirement already satisfied: pytz in /usr/local/lib/python3.6/dist-packages (from rpy2) (2018.9)\n",
            "Requirement already satisfied: simplegeneric in /usr/local/lib/python3.6/dist-packages (from rpy2) (0.8.1)\n",
            "Requirement already satisfied: tzlocal in /usr/local/lib/python3.6/dist-packages (from rpy2) (1.5.1)\n",
            "Requirement already satisfied: pytest in /usr/local/lib/python3.6/dist-packages (from rpy2) (3.6.4)\n",
            "Requirement already satisfied: MarkupSafe>=0.23 in /usr/local/lib/python3.6/dist-packages (from jinja2->rpy2) (1.1.1)\n",
            "Requirement already satisfied: pycparser in /usr/local/lib/python3.6/dist-packages (from cffi>=1.13.1->rpy2) (2.20)\n",
            "Collecting pluggy<0.8,>=0.5\n",
            "  Downloading https://files.pythonhosted.org/packages/f5/f1/5a93c118663896d83f7bcbfb7f657ce1d0c0d617e6b4a443a53abcc658ca/pluggy-0.7.1-py2.py3-none-any.whl\n",
            "Requirement already satisfied: setuptools in /usr/local/lib/python3.6/dist-packages (from pytest->rpy2) (51.0.0)\n",
            "Requirement already satisfied: atomicwrites>=1.0 in /usr/local/lib/python3.6/dist-packages (from pytest->rpy2) (1.4.0)\n",
            "Requirement already satisfied: six>=1.10.0 in /usr/local/lib/python3.6/dist-packages (from pytest->rpy2) (1.15.0)\n",
            "Requirement already satisfied: attrs>=17.4.0 in /usr/local/lib/python3.6/dist-packages (from pytest->rpy2) (20.3.0)\n",
            "Requirement already satisfied: more-itertools>=4.0.0 in /usr/local/lib/python3.6/dist-packages (from pytest->rpy2) (8.6.0)\n",
            "Requirement already satisfied: py>=1.5.0 in /usr/local/lib/python3.6/dist-packages (from pytest->rpy2) (1.10.0)\n",
            "\u001b[31mERROR: tox 3.20.1 has requirement pluggy>=0.12.0, but you'll have pluggy 0.7.1 which is incompatible.\u001b[0m\n",
            "\u001b[31mERROR: datascience 0.10.6 has requirement folium==0.2.1, but you'll have folium 0.8.3 which is incompatible.\u001b[0m\n",
            "Installing collected packages: pluggy\n",
            "  Found existing installation: pluggy 0.13.1\n",
            "    Uninstalling pluggy-0.13.1:\n",
            "      Successfully uninstalled pluggy-0.13.1\n",
            "Successfully installed pluggy-0.7.1\n",
            "Requirement already satisfied: googletrans in /usr/local/lib/python3.6/dist-packages (4.0.0rc1)\n",
            "Requirement already satisfied: httpx==0.13.3 in /usr/local/lib/python3.6/dist-packages (from googletrans) (0.13.3)\n",
            "Requirement already satisfied: hstspreload in /usr/local/lib/python3.6/dist-packages (from httpx==0.13.3->googletrans) (2020.12.22)\n",
            "Requirement already satisfied: httpcore==0.9.* in /usr/local/lib/python3.6/dist-packages (from httpx==0.13.3->googletrans) (0.9.1)\n",
            "Requirement already satisfied: certifi in /usr/local/lib/python3.6/dist-packages (from httpx==0.13.3->googletrans) (2020.12.5)\n",
            "Requirement already satisfied: sniffio in /usr/local/lib/python3.6/dist-packages (from httpx==0.13.3->googletrans) (1.2.0)\n",
            "Requirement already satisfied: chardet==3.* in /usr/local/lib/python3.6/dist-packages (from httpx==0.13.3->googletrans) (3.0.4)\n",
            "Requirement already satisfied: rfc3986<2,>=1.3 in /usr/local/lib/python3.6/dist-packages (from httpx==0.13.3->googletrans) (1.4.0)\n",
            "Requirement already satisfied: idna==2.* in /usr/local/lib/python3.6/dist-packages (from httpx==0.13.3->googletrans) (2.10)\n",
            "Requirement already satisfied: h2==3.* in /usr/local/lib/python3.6/dist-packages (from httpcore==0.9.*->httpx==0.13.3->googletrans) (3.2.0)\n",
            "Requirement already satisfied: h11<0.10,>=0.8 in /usr/local/lib/python3.6/dist-packages (from httpcore==0.9.*->httpx==0.13.3->googletrans) (0.9.0)\n",
            "Requirement already satisfied: contextvars>=2.1; python_version < \"3.7\" in /usr/local/lib/python3.6/dist-packages (from sniffio->httpx==0.13.3->googletrans) (2.4)\n",
            "Requirement already satisfied: hyperframe<6,>=5.2.0 in /usr/local/lib/python3.6/dist-packages (from h2==3.*->httpcore==0.9.*->httpx==0.13.3->googletrans) (5.2.0)\n",
            "Requirement already satisfied: hpack<4,>=3.0 in /usr/local/lib/python3.6/dist-packages (from h2==3.*->httpcore==0.9.*->httpx==0.13.3->googletrans) (3.0.0)\n",
            "Requirement already satisfied: immutables>=0.9 in /usr/local/lib/python3.6/dist-packages (from contextvars>=2.1; python_version < \"3.7\"->sniffio->httpx==0.13.3->googletrans) (0.14)\n",
            "Collecting spacy\n",
            "\u001b[?25l  Downloading https://files.pythonhosted.org/packages/e5/bf/ca7bb25edd21f1cf9d498d0023808279672a664a70585e1962617ca2740c/spacy-2.3.5-cp36-cp36m-manylinux2014_x86_64.whl (10.4MB)\n",
            "\u001b[K     |████████████████████████████████| 10.4MB 4.0MB/s \n",
            "\u001b[?25hRequirement already satisfied, skipping upgrade: requests<3.0.0,>=2.13.0 in /usr/local/lib/python3.6/dist-packages (from spacy) (2.23.0)\n",
            "Requirement already satisfied, skipping upgrade: setuptools in /usr/local/lib/python3.6/dist-packages (from spacy) (51.0.0)\n",
            "Collecting thinc<7.5.0,>=7.4.1\n",
            "\u001b[?25l  Downloading https://files.pythonhosted.org/packages/c0/1a/c3e4ab982214c63d743fad57c45c5e68ee49e4ea4384d27b28595a26ad26/thinc-7.4.5-cp36-cp36m-manylinux2014_x86_64.whl (1.1MB)\n",
            "\u001b[K     |████████████████████████████████| 1.1MB 50.9MB/s \n",
            "\u001b[?25hRequirement already satisfied, skipping upgrade: wasabi<1.1.0,>=0.4.0 in /usr/local/lib/python3.6/dist-packages (from spacy) (0.8.0)\n",
            "Requirement already satisfied, skipping upgrade: srsly<1.1.0,>=1.0.2 in /usr/local/lib/python3.6/dist-packages (from spacy) (1.0.5)\n",
            "Requirement already satisfied, skipping upgrade: catalogue<1.1.0,>=0.0.7 in /usr/local/lib/python3.6/dist-packages (from spacy) (1.0.0)\n",
            "Requirement already satisfied, skipping upgrade: cymem<2.1.0,>=2.0.2 in /usr/local/lib/python3.6/dist-packages (from spacy) (2.0.5)\n",
            "Requirement already satisfied, skipping upgrade: preshed<3.1.0,>=3.0.2 in /usr/local/lib/python3.6/dist-packages (from spacy) (3.0.5)\n",
            "Requirement already satisfied, skipping upgrade: tqdm<5.0.0,>=4.38.0 in /usr/local/lib/python3.6/dist-packages (from spacy) (4.41.1)\n",
            "Requirement already satisfied, skipping upgrade: murmurhash<1.1.0,>=0.28.0 in /usr/local/lib/python3.6/dist-packages (from spacy) (1.0.5)\n",
            "Requirement already satisfied, skipping upgrade: blis<0.8.0,>=0.4.0 in /usr/local/lib/python3.6/dist-packages (from spacy) (0.4.1)\n",
            "Requirement already satisfied, skipping upgrade: plac<1.2.0,>=0.9.6 in /usr/local/lib/python3.6/dist-packages (from spacy) (1.1.3)\n",
            "Requirement already satisfied, skipping upgrade: numpy>=1.15.0 in /usr/local/lib/python3.6/dist-packages (from spacy) (1.19.4)\n",
            "Requirement already satisfied, skipping upgrade: certifi>=2017.4.17 in /usr/local/lib/python3.6/dist-packages (from requests<3.0.0,>=2.13.0->spacy) (2020.12.5)\n",
            "Requirement already satisfied, skipping upgrade: idna<3,>=2.5 in /usr/local/lib/python3.6/dist-packages (from requests<3.0.0,>=2.13.0->spacy) (2.10)\n",
            "Requirement already satisfied, skipping upgrade: chardet<4,>=3.0.2 in /usr/local/lib/python3.6/dist-packages (from requests<3.0.0,>=2.13.0->spacy) (3.0.4)\n",
            "Requirement already satisfied, skipping upgrade: urllib3!=1.25.0,!=1.25.1,<1.26,>=1.21.1 in /usr/local/lib/python3.6/dist-packages (from requests<3.0.0,>=2.13.0->spacy) (1.24.3)\n",
            "Requirement already satisfied, skipping upgrade: importlib-metadata>=0.20; python_version < \"3.8\" in /usr/local/lib/python3.6/dist-packages (from catalogue<1.1.0,>=0.0.7->spacy) (2.1.1)\n",
            "Requirement already satisfied, skipping upgrade: zipp>=0.5 in /usr/local/lib/python3.6/dist-packages (from importlib-metadata>=0.20; python_version < \"3.8\"->catalogue<1.1.0,>=0.0.7->spacy) (3.4.0)\n",
            "Installing collected packages: thinc, spacy\n",
            "  Found existing installation: thinc 7.4.0\n",
            "    Uninstalling thinc-7.4.0:\n",
            "      Successfully uninstalled thinc-7.4.0\n",
            "  Found existing installation: spacy 2.2.4\n",
            "    Uninstalling spacy-2.2.4:\n",
            "      Successfully uninstalled spacy-2.2.4\n",
            "Successfully installed spacy-2.3.5 thinc-7.4.5\n",
            "Collecting spacy-langdetect\n",
            "  Downloading https://files.pythonhosted.org/packages/29/70/72dad19abe81ca8e85ff951da170915211d42d705a001d7e353af349a704/spacy_langdetect-0.1.2-py3-none-any.whl\n",
            "Collecting langdetect==1.0.7\n",
            "\u001b[?25l  Downloading https://files.pythonhosted.org/packages/59/59/4bc44158a767a6d66de18c4136c8aa90491d56cc951c10b74dd1e13213c9/langdetect-1.0.7.zip (998kB)\n",
            "\u001b[K     |████████████████████████████████| 1.0MB 4.2MB/s \n",
            "\u001b[?25hRequirement already satisfied: pytest in /usr/local/lib/python3.6/dist-packages (from spacy-langdetect) (3.6.4)\n",
            "Requirement already satisfied: six in /usr/local/lib/python3.6/dist-packages (from langdetect==1.0.7->spacy-langdetect) (1.15.0)\n",
            "Requirement already satisfied: attrs>=17.4.0 in /usr/local/lib/python3.6/dist-packages (from pytest->spacy-langdetect) (20.3.0)\n",
            "Requirement already satisfied: py>=1.5.0 in /usr/local/lib/python3.6/dist-packages (from pytest->spacy-langdetect) (1.10.0)\n",
            "Requirement already satisfied: more-itertools>=4.0.0 in /usr/local/lib/python3.6/dist-packages (from pytest->spacy-langdetect) (8.6.0)\n",
            "Requirement already satisfied: pluggy<0.8,>=0.5 in /usr/local/lib/python3.6/dist-packages (from pytest->spacy-langdetect) (0.7.1)\n",
            "Requirement already satisfied: setuptools in /usr/local/lib/python3.6/dist-packages (from pytest->spacy-langdetect) (51.0.0)\n",
            "Requirement already satisfied: atomicwrites>=1.0 in /usr/local/lib/python3.6/dist-packages (from pytest->spacy-langdetect) (1.4.0)\n",
            "Building wheels for collected packages: langdetect\n",
            "  Building wheel for langdetect (setup.py) ... \u001b[?25l\u001b[?25hdone\n",
            "  Created wheel for langdetect: filename=langdetect-1.0.7-cp36-none-any.whl size=993460 sha256=8178d3b01cfaf13a0634a7eb6c9167b6f05e7bb0b274b24c80306f2b923a46bd\n",
            "  Stored in directory: /root/.cache/pip/wheels/ec/0c/a9/1647275e7ef5014e7b83ff30105180e332867d65e7617ddafe\n",
            "Successfully built langdetect\n",
            "Installing collected packages: langdetect, spacy-langdetect\n",
            "  Found existing installation: langdetect 1.0.8\n",
            "    Uninstalling langdetect-1.0.8:\n",
            "      Successfully uninstalled langdetect-1.0.8\n",
            "Successfully installed langdetect-1.0.7 spacy-langdetect-0.1.2\n",
            "\u001b[2K\u001b[38;5;2m✔ Loaded compatibility table\u001b[0m\n",
            "\u001b[1m\n",
            "====================== Installed models (spaCy v2.3.5) ======================\u001b[0m\n",
            "\u001b[38;5;4mℹ spaCy installation: /usr/local/lib/python3.6/dist-packages/spacy\u001b[0m\n",
            "\n",
            "TYPE      NAME             MODEL            VERSION                       \n",
            "package   en-core-web-sm   en_core_web_sm   \u001b[38;5;1m2.2.5\u001b[0m   --> 2.3.1\n",
            "\n",
            "\u001b[1m\n",
            "============================== Install updates ==============================\u001b[0m\n",
            "Use the following commands to update the model packages:\n",
            "python -m spacy download en_core_web_sm\n",
            "\n",
            "Collecting xx_ent_wiki_sm==2.3.0\n",
            "\u001b[?25l  Downloading https://github.com/explosion/spacy-models/releases/download/xx_ent_wiki_sm-2.3.0/xx_ent_wiki_sm-2.3.0.tar.gz (3.7MB)\n",
            "\u001b[K     |████████████████████████████████| 3.7MB 290kB/s \n",
            "\u001b[?25hRequirement already satisfied: spacy<2.4.0,>=2.3.0 in /usr/local/lib/python3.6/dist-packages (from xx_ent_wiki_sm==2.3.0) (2.3.5)\n",
            "Requirement already satisfied: cymem<2.1.0,>=2.0.2 in /usr/local/lib/python3.6/dist-packages (from spacy<2.4.0,>=2.3.0->xx_ent_wiki_sm==2.3.0) (2.0.5)\n",
            "Requirement already satisfied: preshed<3.1.0,>=3.0.2 in /usr/local/lib/python3.6/dist-packages (from spacy<2.4.0,>=2.3.0->xx_ent_wiki_sm==2.3.0) (3.0.5)\n",
            "Requirement already satisfied: wasabi<1.1.0,>=0.4.0 in /usr/local/lib/python3.6/dist-packages (from spacy<2.4.0,>=2.3.0->xx_ent_wiki_sm==2.3.0) (0.8.0)\n",
            "Requirement already satisfied: numpy>=1.15.0 in /usr/local/lib/python3.6/dist-packages (from spacy<2.4.0,>=2.3.0->xx_ent_wiki_sm==2.3.0) (1.19.4)\n",
            "Requirement already satisfied: catalogue<1.1.0,>=0.0.7 in /usr/local/lib/python3.6/dist-packages (from spacy<2.4.0,>=2.3.0->xx_ent_wiki_sm==2.3.0) (1.0.0)\n",
            "Requirement already satisfied: thinc<7.5.0,>=7.4.1 in /usr/local/lib/python3.6/dist-packages (from spacy<2.4.0,>=2.3.0->xx_ent_wiki_sm==2.3.0) (7.4.5)\n",
            "Requirement already satisfied: blis<0.8.0,>=0.4.0 in /usr/local/lib/python3.6/dist-packages (from spacy<2.4.0,>=2.3.0->xx_ent_wiki_sm==2.3.0) (0.4.1)\n",
            "Requirement already satisfied: murmurhash<1.1.0,>=0.28.0 in /usr/local/lib/python3.6/dist-packages (from spacy<2.4.0,>=2.3.0->xx_ent_wiki_sm==2.3.0) (1.0.5)\n",
            "Requirement already satisfied: srsly<1.1.0,>=1.0.2 in /usr/local/lib/python3.6/dist-packages (from spacy<2.4.0,>=2.3.0->xx_ent_wiki_sm==2.3.0) (1.0.5)\n",
            "Requirement already satisfied: tqdm<5.0.0,>=4.38.0 in /usr/local/lib/python3.6/dist-packages (from spacy<2.4.0,>=2.3.0->xx_ent_wiki_sm==2.3.0) (4.41.1)\n",
            "Requirement already satisfied: setuptools in /usr/local/lib/python3.6/dist-packages (from spacy<2.4.0,>=2.3.0->xx_ent_wiki_sm==2.3.0) (51.0.0)\n",
            "Requirement already satisfied: requests<3.0.0,>=2.13.0 in /usr/local/lib/python3.6/dist-packages (from spacy<2.4.0,>=2.3.0->xx_ent_wiki_sm==2.3.0) (2.23.0)\n",
            "Requirement already satisfied: plac<1.2.0,>=0.9.6 in /usr/local/lib/python3.6/dist-packages (from spacy<2.4.0,>=2.3.0->xx_ent_wiki_sm==2.3.0) (1.1.3)\n",
            "Requirement already satisfied: importlib-metadata>=0.20; python_version < \"3.8\" in /usr/local/lib/python3.6/dist-packages (from catalogue<1.1.0,>=0.0.7->spacy<2.4.0,>=2.3.0->xx_ent_wiki_sm==2.3.0) (2.1.1)\n",
            "Requirement already satisfied: urllib3!=1.25.0,!=1.25.1,<1.26,>=1.21.1 in /usr/local/lib/python3.6/dist-packages (from requests<3.0.0,>=2.13.0->spacy<2.4.0,>=2.3.0->xx_ent_wiki_sm==2.3.0) (1.24.3)\n",
            "Requirement already satisfied: chardet<4,>=3.0.2 in /usr/local/lib/python3.6/dist-packages (from requests<3.0.0,>=2.13.0->spacy<2.4.0,>=2.3.0->xx_ent_wiki_sm==2.3.0) (3.0.4)\n",
            "Requirement already satisfied: idna<3,>=2.5 in /usr/local/lib/python3.6/dist-packages (from requests<3.0.0,>=2.13.0->spacy<2.4.0,>=2.3.0->xx_ent_wiki_sm==2.3.0) (2.10)\n",
            "Requirement already satisfied: certifi>=2017.4.17 in /usr/local/lib/python3.6/dist-packages (from requests<3.0.0,>=2.13.0->spacy<2.4.0,>=2.3.0->xx_ent_wiki_sm==2.3.0) (2020.12.5)\n",
            "Requirement already satisfied: zipp>=0.5 in /usr/local/lib/python3.6/dist-packages (from importlib-metadata>=0.20; python_version < \"3.8\"->catalogue<1.1.0,>=0.0.7->spacy<2.4.0,>=2.3.0->xx_ent_wiki_sm==2.3.0) (3.4.0)\n",
            "Building wheels for collected packages: xx-ent-wiki-sm\n",
            "  Building wheel for xx-ent-wiki-sm (setup.py) ... \u001b[?25l\u001b[?25hdone\n",
            "  Created wheel for xx-ent-wiki-sm: filename=xx_ent_wiki_sm-2.3.0-cp36-none-any.whl size=3741309 sha256=11ba134214b4b0edd7f9cebb8276b47da999f1b1c1cbd4b100ad85f4ba6192b6\n",
            "  Stored in directory: /tmp/pip-ephem-wheel-cache-rreipmjl/wheels/e7/ee/67/1df86689938eeaea2763a7b23b1976e850a18b5b10389930b0\n",
            "Successfully built xx-ent-wiki-sm\n",
            "Installing collected packages: xx-ent-wiki-sm\n",
            "Successfully installed xx-ent-wiki-sm-2.3.0\n",
            "\u001b[38;5;2m✔ Download and installation successful\u001b[0m\n",
            "You can now load the model via spacy.load('xx_ent_wiki_sm')\n",
            "Requirement already satisfied: h5py in /usr/local/lib/python3.6/dist-packages (2.10.0)\n",
            "Requirement already satisfied: numpy>=1.7 in /usr/local/lib/python3.6/dist-packages (from h5py) (1.19.4)\n",
            "Requirement already satisfied: six in /usr/local/lib/python3.6/dist-packages (from h5py) (1.15.0)\n",
            "Requirement already satisfied: lightgbm in /usr/local/lib/python3.6/dist-packages (2.2.3)\n",
            "Requirement already satisfied: numpy in /usr/local/lib/python3.6/dist-packages (from lightgbm) (1.19.4)\n",
            "Requirement already satisfied: scikit-learn in /usr/local/lib/python3.6/dist-packages (from lightgbm) (0.22.2.post1)\n",
            "Requirement already satisfied: scipy in /usr/local/lib/python3.6/dist-packages (from lightgbm) (1.4.1)\n",
            "Requirement already satisfied: joblib>=0.11 in /usr/local/lib/python3.6/dist-packages (from scikit-learn->lightgbm) (1.0.0)\n",
            "/usr/local/lib/python3.6/dist-packages/pip/_internal/commands/install.py:283: UserWarning: Disabling all use of wheels due to the use of --build-options / --global-options / --install-options.\n",
            "  cmdoptions.check_install_build_global(options)\n",
            "Requirement already satisfied: lightgbm in /usr/local/lib/python3.6/dist-packages (2.2.3)\n",
            "Requirement already satisfied: scipy in /usr/local/lib/python3.6/dist-packages (from lightgbm) (1.4.1)\n",
            "Requirement already satisfied: numpy in /usr/local/lib/python3.6/dist-packages (from lightgbm) (1.19.4)\n",
            "Requirement already satisfied: scikit-learn in /usr/local/lib/python3.6/dist-packages (from lightgbm) (0.22.2.post1)\n",
            "Requirement already satisfied: joblib>=0.11 in /usr/local/lib/python3.6/dist-packages (from scikit-learn->lightgbm) (1.0.0)\n",
            "Collecting catboost\n",
            "\u001b[?25l  Downloading https://files.pythonhosted.org/packages/20/37/bc4e0ddc30c07a96482abf1de7ed1ca54e59bba2026a33bca6d2ef286e5b/catboost-0.24.4-cp36-none-manylinux1_x86_64.whl (65.7MB)\n",
            "\u001b[K     |████████████████████████████████| 65.8MB 64kB/s \n",
            "\u001b[?25hRequirement already satisfied: graphviz in /usr/local/lib/python3.6/dist-packages (from catboost) (0.10.1)\n",
            "Requirement already satisfied: six in /usr/local/lib/python3.6/dist-packages (from catboost) (1.15.0)\n",
            "Requirement already satisfied: numpy>=1.16.0 in /usr/local/lib/python3.6/dist-packages (from catboost) (1.19.4)\n",
            "Requirement already satisfied: scipy in /usr/local/lib/python3.6/dist-packages (from catboost) (1.4.1)\n",
            "Requirement already satisfied: pandas>=0.24.0 in /usr/local/lib/python3.6/dist-packages (from catboost) (1.1.5)\n",
            "Requirement already satisfied: plotly in /usr/local/lib/python3.6/dist-packages (from catboost) (4.4.1)\n",
            "Requirement already satisfied: matplotlib in /usr/local/lib/python3.6/dist-packages (from catboost) (3.2.2)\n",
            "Requirement already satisfied: python-dateutil>=2.7.3 in /usr/local/lib/python3.6/dist-packages (from pandas>=0.24.0->catboost) (2.8.1)\n",
            "Requirement already satisfied: pytz>=2017.2 in /usr/local/lib/python3.6/dist-packages (from pandas>=0.24.0->catboost) (2018.9)\n",
            "Requirement already satisfied: retrying>=1.3.3 in /usr/local/lib/python3.6/dist-packages (from plotly->catboost) (1.3.3)\n",
            "Requirement already satisfied: cycler>=0.10 in /usr/local/lib/python3.6/dist-packages (from matplotlib->catboost) (0.10.0)\n",
            "Requirement already satisfied: pyparsing!=2.0.4,!=2.1.2,!=2.1.6,>=2.0.1 in /usr/local/lib/python3.6/dist-packages (from matplotlib->catboost) (2.4.7)\n",
            "Requirement already satisfied: kiwisolver>=1.0.1 in /usr/local/lib/python3.6/dist-packages (from matplotlib->catboost) (1.3.1)\n",
            "Installing collected packages: catboost\n",
            "Successfully installed catboost-0.24.4\n"
          ],
          "name": "stdout"
        }
      ]
    },
    {
      "cell_type": "markdown",
      "metadata": {
        "id": "Nlm1nNrSiu7d"
      },
      "source": [
        "## Importing libraries"
      ]
    },
    {
      "cell_type": "code",
      "metadata": {
        "id": "OFTNmGjVq_gU"
      },
      "source": [
        "from google.colab import drive\n",
        "import gc \n",
        "from google.colab import drive\n",
        "\n",
        "import tensorflow as tf\n",
        "\n",
        "from tensorflow.keras.preprocessing.text import Tokenizer\n",
        "from tensorflow.keras.preprocessing.sequence import pad_sequences\n",
        "from tensorflow.keras.utils import to_categorical\n",
        "from tensorflow.keras.models import Model, Sequential\n",
        "from tensorflow.keras.layers import Embedding, Dense, Dropout, Input, Flatten, GlobalMaxPool1D, SpatialDropout1D, Conv1D,MaxPooling1D, Concatenate\n",
        "from tensorflow.keras.layers import GRU, RNN, LSTM, TimeDistributed, Bidirectional\n",
        "from keras.preprocessing import sequence\n",
        "from keras.callbacks import EarlyStopping\n",
        "\n",
        "from gensim.test.utils import datapath, get_tmpfile\n",
        "from gensim.models import KeyedVectors # Gensim contains word2vec models and processing tools\n",
        "from gensim.scripts.glove2word2vec import glove2word2vec\n",
        "\n",
        "from sklearn.model_selection import train_test_split\n",
        "from sklearn.preprocessing import binarize\n",
        "from sklearn.model_selection import train_test_split\n",
        "from sklearn.model_selection import StratifiedShuffleSplit\n",
        "\n",
        "from nltk import word_tokenize\n",
        "from nltk.corpus import wordnet \n",
        "from keras.models import model_from_json\n",
        "import os\n",
        "import nltk\n",
        "import string\n",
        "import re\n",
        "\n",
        "import spacy\n",
        "from translate import Translator\n",
        "from spacy_langdetect import LanguageDetector\n",
        "\n",
        "from collections import Counter\n",
        "from nltk.corpus import stopwords\n",
        "from translate import Translator\n",
        "from langdetect import detect\n",
        "from langdetect import detect_langs\n",
        "from langdetect import DetectorFactory\n",
        "DetectorFactory.seed = 0\n",
        "\n",
        "from scipy.stats import uniform\n",
        "from sklearn.model_selection import RandomizedSearchCV\n",
        "from sklearn.model_selection import GridSearchCV\n",
        "\n",
        "import random\n",
        "random.seed(0)\n",
        "import warnings\n",
        "warnings.filterwarnings(\"ignore\")\n",
        "%load_ext rpy2.ipython\n",
        "import random as rnd\n",
        "import pandas as pd\n",
        "import matplotlib.pyplot as plt\n",
        "import seaborn as sns\n",
        "import numpy as np\n",
        "from IPython.display import display\n",
        "\n",
        "from textblob import Word\n",
        "from ftfy import fix_text\n",
        "tf.__version__\n",
        "from googletrans import Translator\n",
        "from sklearn.utils import class_weight\n",
        "from sklearn.metrics import mean_squared_error\n",
        "from sklearn.ensemble import BaggingClassifier, RandomForestClassifier\n",
        "from sklearn import datasets\n",
        "from sklearn.multiclass import OneVsRestClassifier\n",
        "from sklearn.svm import SVC\n",
        "from tensorflow.keras.optimizers import Adam\n",
        "from sklearn.model_selection import GridSearchCV\n",
        "from xgboost import plot_importance\n",
        "import xgboost\n",
        "from xgboost import XGBClassifier\n",
        "from sklearn.linear_model import LogisticRegression\n",
        "from sklearn import metrics\n",
        "from sklearn.feature_extraction.text import TfidfVectorizer\n",
        "from string import punctuation\n",
        "from nltk import word_tokenize\n",
        "from googletrans import Translator\n",
        "import pickle\n",
        "import time\n",
        "from sklearn.metrics import confusion_matrix, classification_report, roc_auc_score, roc_curve,accuracy_score,auc\n",
        "import lightgbm as lgb\n",
        "from catboost import CatBoostClassifier, Pool, cv"
      ],
      "execution_count": 2,
      "outputs": []
    },
    {
      "cell_type": "markdown",
      "metadata": {
        "id": "_tJsiIAXiyhw"
      },
      "source": [
        "## Downloading NLTK data"
      ]
    },
    {
      "cell_type": "code",
      "metadata": {
        "colab": {
          "base_uri": "https://localhost:8080/"
        },
        "id": "qoWxoxmSjAVw",
        "outputId": "d9e4b0d7-5ebd-4de8-d38c-cbe487dcdd22"
      },
      "source": [
        "nltk.download('stopwords')\n",
        "nltk.download('wordnet')\n",
        "nltk.download('punkt')"
      ],
      "execution_count": 3,
      "outputs": [
        {
          "output_type": "stream",
          "text": [
            "[nltk_data] Downloading package stopwords to /root/nltk_data...\n",
            "[nltk_data]   Unzipping corpora/stopwords.zip.\n",
            "[nltk_data] Downloading package wordnet to /root/nltk_data...\n",
            "[nltk_data]   Unzipping corpora/wordnet.zip.\n",
            "[nltk_data] Downloading package punkt to /root/nltk_data...\n",
            "[nltk_data]   Unzipping tokenizers/punkt.zip.\n"
          ],
          "name": "stdout"
        },
        {
          "output_type": "execute_result",
          "data": {
            "text/plain": [
              "True"
            ]
          },
          "metadata": {
            "tags": []
          },
          "execution_count": 3
        }
      ]
    },
    {
      "cell_type": "markdown",
      "metadata": {
        "id": "8VaziMJji2D7"
      },
      "source": [
        "## Mount your Google Drive"
      ]
    },
    {
      "cell_type": "code",
      "metadata": {
        "id": "2G1xZ16YKXzg",
        "colab": {
          "base_uri": "https://localhost:8080/"
        },
        "outputId": "4f4d2652-70fd-429b-ddcc-9e67e4d11d0e"
      },
      "source": [
        "#### mounting google drive ####\r\n",
        "drive.mount(\"/content/drive/\")\r\n",
        "folder_path = (\"/content/drive/MyDrive/Capstone Project - Ticket Routing NLP\")"
      ],
      "execution_count": 4,
      "outputs": [
        {
          "output_type": "stream",
          "text": [
            "Mounted at /content/drive/\n"
          ],
          "name": "stdout"
        }
      ]
    },
    {
      "cell_type": "markdown",
      "metadata": {
        "id": "DP8ALe3ri6sP"
      },
      "source": [
        "## Loading data and creating a pickle function"
      ]
    },
    {
      "cell_type": "code",
      "metadata": {
        "id": "CtKETyHxq_gW",
        "colab": {
          "base_uri": "https://localhost:8080/"
        },
        "outputId": "25c3ce12-3220-4e47-a7fb-0e9eb0663ac1"
      },
      "source": [
        "ticket_data = \"\"\n",
        "\n",
        "pickle_flag = False\n",
        "\n",
        "## Get Pickle Data\n",
        "def get_pickle_data(filename):\n",
        "  pickle_data = open(folder_path + \"/\" + filename,'rb')\n",
        "  return pickle.load(pickle_data)\n",
        "\n",
        "## Dump Pickle Data\n",
        "def pickle_dump(data_to_dump, filename):\n",
        "  filehandler = open((folder_path+ \"/\" + filename),\"wb\")\n",
        "  pickle.dump(data_to_dump,filehandler)\n",
        "\n",
        "if not os.path.exists(folder_path + \"/input_data.pickle\"):\n",
        "  ticket_data = pd.read_excel(folder_path + \"/input_data.xlsx\")\n",
        "  print(\"picking from excel\")\n",
        "else:\n",
        "  ticket_data = get_pickle_data(\"input_data.pickle\")\n",
        "  print(\"picking from pickle\")\n",
        "  print(len(ticket_data))\n",
        "\n",
        "pickle_dump(ticket_data, \"input_data.pickle\")"
      ],
      "execution_count": 5,
      "outputs": [
        {
          "output_type": "stream",
          "text": [
            "picking from pickle\n",
            "8500\n"
          ],
          "name": "stdout"
        }
      ]
    },
    {
      "cell_type": "markdown",
      "metadata": {
        "id": "3e_YqAw4jISk"
      },
      "source": [
        "## Data Analysis Begins"
      ]
    },
    {
      "cell_type": "code",
      "metadata": {
        "id": "EsoD9CbFNAvV",
        "colab": {
          "base_uri": "https://localhost:8080/"
        },
        "outputId": "33a708b7-957c-405a-96bb-dffcb25333cf"
      },
      "source": [
        "ticket_data.info()"
      ],
      "execution_count": 6,
      "outputs": [
        {
          "output_type": "stream",
          "text": [
            "<class 'pandas.core.frame.DataFrame'>\n",
            "RangeIndex: 8500 entries, 0 to 8499\n",
            "Data columns (total 4 columns):\n",
            " #   Column             Non-Null Count  Dtype \n",
            "---  ------             --------------  ----- \n",
            " 0   Short description  8492 non-null   object\n",
            " 1   Description        8499 non-null   object\n",
            " 2   Caller             8500 non-null   object\n",
            " 3   Assignment group   8500 non-null   object\n",
            "dtypes: object(4)\n",
            "memory usage: 265.8+ KB\n"
          ],
          "name": "stdout"
        }
      ]
    },
    {
      "cell_type": "code",
      "metadata": {
        "id": "WW4oJJbVq_gW",
        "colab": {
          "base_uri": "https://localhost:8080/",
          "height": 204
        },
        "outputId": "5fc5fc1e-05d0-4da8-98f6-3276e34ec251"
      },
      "source": [
        "ticket_data.head()"
      ],
      "execution_count": 7,
      "outputs": [
        {
          "output_type": "execute_result",
          "data": {
            "text/html": [
              "<div>\n",
              "<style scoped>\n",
              "    .dataframe tbody tr th:only-of-type {\n",
              "        vertical-align: middle;\n",
              "    }\n",
              "\n",
              "    .dataframe tbody tr th {\n",
              "        vertical-align: top;\n",
              "    }\n",
              "\n",
              "    .dataframe thead th {\n",
              "        text-align: right;\n",
              "    }\n",
              "</style>\n",
              "<table border=\"1\" class=\"dataframe\">\n",
              "  <thead>\n",
              "    <tr style=\"text-align: right;\">\n",
              "      <th></th>\n",
              "      <th>Short description</th>\n",
              "      <th>Description</th>\n",
              "      <th>Caller</th>\n",
              "      <th>Assignment group</th>\n",
              "    </tr>\n",
              "  </thead>\n",
              "  <tbody>\n",
              "    <tr>\n",
              "      <th>0</th>\n",
              "      <td>login issue</td>\n",
              "      <td>-verified user details.(employee# &amp; manager na...</td>\n",
              "      <td>spxjnwir pjlcoqds</td>\n",
              "      <td>GRP_0</td>\n",
              "    </tr>\n",
              "    <tr>\n",
              "      <th>1</th>\n",
              "      <td>outlook</td>\n",
              "      <td>\\r\\n\\r\\nreceived from: hmjdrvpb.komuaywn@gmail...</td>\n",
              "      <td>hmjdrvpb komuaywn</td>\n",
              "      <td>GRP_0</td>\n",
              "    </tr>\n",
              "    <tr>\n",
              "      <th>2</th>\n",
              "      <td>cant log in to vpn</td>\n",
              "      <td>\\r\\n\\r\\nreceived from: eylqgodm.ybqkwiam@gmail...</td>\n",
              "      <td>eylqgodm ybqkwiam</td>\n",
              "      <td>GRP_0</td>\n",
              "    </tr>\n",
              "    <tr>\n",
              "      <th>3</th>\n",
              "      <td>unable to access hr_tool page</td>\n",
              "      <td>unable to access hr_tool page</td>\n",
              "      <td>xbkucsvz gcpydteq</td>\n",
              "      <td>GRP_0</td>\n",
              "    </tr>\n",
              "    <tr>\n",
              "      <th>4</th>\n",
              "      <td>skype error</td>\n",
              "      <td>skype error</td>\n",
              "      <td>owlgqjme qhcozdfx</td>\n",
              "      <td>GRP_0</td>\n",
              "    </tr>\n",
              "  </tbody>\n",
              "</table>\n",
              "</div>"
            ],
            "text/plain": [
              "               Short description  ... Assignment group\n",
              "0                    login issue  ...            GRP_0\n",
              "1                        outlook  ...            GRP_0\n",
              "2             cant log in to vpn  ...            GRP_0\n",
              "3  unable to access hr_tool page  ...            GRP_0\n",
              "4                   skype error   ...            GRP_0\n",
              "\n",
              "[5 rows x 4 columns]"
            ]
          },
          "metadata": {
            "tags": []
          },
          "execution_count": 7
        }
      ]
    },
    {
      "cell_type": "code",
      "metadata": {
        "id": "nbaDXIl2ob3L",
        "colab": {
          "base_uri": "https://localhost:8080/"
        },
        "outputId": "c40552cc-d4e8-4a39-8e41-427ce6dd06df"
      },
      "source": [
        "unique_callers = ticket_data['Caller'].unique()\n",
        "unique_callers.shape"
      ],
      "execution_count": 8,
      "outputs": [
        {
          "output_type": "execute_result",
          "data": {
            "text/plain": [
              "(2950,)"
            ]
          },
          "metadata": {
            "tags": []
          },
          "execution_count": 8
        }
      ]
    },
    {
      "cell_type": "code",
      "metadata": {
        "id": "xtbjKO-6odK4",
        "colab": {
          "base_uri": "https://localhost:8080/"
        },
        "outputId": "f576f76a-7559-4b24-cd7c-133617989470"
      },
      "source": [
        "Func_group = ticket_data['Assignment group'].unique()\n",
        "Func_group.shape"
      ],
      "execution_count": 9,
      "outputs": [
        {
          "output_type": "execute_result",
          "data": {
            "text/plain": [
              "(74,)"
            ]
          },
          "metadata": {
            "tags": []
          },
          "execution_count": 9
        }
      ]
    },
    {
      "cell_type": "code",
      "metadata": {
        "id": "MpnNzVVTogt-",
        "colab": {
          "base_uri": "https://localhost:8080/"
        },
        "outputId": "32998872-9c0f-4828-89ae-a8e13d0fc810"
      },
      "source": [
        "TargetGroupCnt=ticket_data['Assignment group'].value_counts()\n",
        "TargetGroupCnt.describe()"
      ],
      "execution_count": 10,
      "outputs": [
        {
          "output_type": "execute_result",
          "data": {
            "text/plain": [
              "count      74.000000\n",
              "mean      114.864865\n",
              "std       465.747516\n",
              "min         1.000000\n",
              "25%         5.250000\n",
              "50%        26.000000\n",
              "75%        84.000000\n",
              "max      3976.000000\n",
              "Name: Assignment group, dtype: float64"
            ]
          },
          "metadata": {
            "tags": []
          },
          "execution_count": 10
        }
      ]
    },
    {
      "cell_type": "code",
      "metadata": {
        "id": "T97JvIZmoji9",
        "colab": {
          "base_uri": "https://localhost:8080/"
        },
        "outputId": "aee662b3-a10a-4887-aadb-3696bcf8d34e"
      },
      "source": [
        "ticket_data.Caller.value_counts()"
      ],
      "execution_count": 11,
      "outputs": [
        {
          "output_type": "execute_result",
          "data": {
            "text/plain": [
              "bpctwhsn kzqsbmtp    810\n",
              "ZkBogxib QsEJzdZO    151\n",
              "fumkcsji sarmtlhy    134\n",
              "rbozivdq gmlhrtvp     87\n",
              "rkupnshb gsmzfojw     71\n",
              "                    ... \n",
              "xekdljqh cuqbgtlf      1\n",
              "zcyueotq ehvpaqnf      1\n",
              "azmbnwgp qbrucnpm      1\n",
              "czwgmjhn rdnyckft      1\n",
              "snxlwqzo uxkgdiov      1\n",
              "Name: Caller, Length: 2950, dtype: int64"
            ]
          },
          "metadata": {
            "tags": []
          },
          "execution_count": 11
        }
      ]
    },
    {
      "cell_type": "code",
      "metadata": {
        "id": "4XViJaFLvKiB",
        "colab": {
          "base_uri": "https://localhost:8080/"
        },
        "outputId": "250267ae-3495-4f4f-f435-ee003b9c90fc"
      },
      "source": [
        "    mean = np.round(np.mean(ticket_data['Assignment group'].value_counts()), 2)\r\n",
        "    #median = np.round(np.median(ticket_data['Assignment group'].value_counts()), 5)\r\n",
        "    min_value = np.round(ticket_data['Assignment group'].value_counts().min(), 2)\r\n",
        "    max_value = np.round(ticket_data['Assignment group'].value_counts().max(), 2)\r\n",
        "    quartile_1 = np.round(ticket_data['Assignment group'].value_counts().quantile(0.25), 2)\r\n",
        "    quartile_3 = np.round(ticket_data['Assignment group'].value_counts().quantile(0.75), 2)\r\n",
        "    # Interquartile range\r\n",
        "    iqr = np.round(quartile_3 - quartile_1, 2)\r\n",
        "    print('Interquartile range (IQR): %s' % iqr)\r\n"
      ],
      "execution_count": 12,
      "outputs": [
        {
          "output_type": "stream",
          "text": [
            "Interquartile range (IQR): 78.75\n"
          ],
          "name": "stdout"
        }
      ]
    },
    {
      "cell_type": "code",
      "metadata": {
        "id": "9g5AD8UHXSRB"
      },
      "source": [
        "filter = (ticket_data['Assignment group'].value_counts() >= quartile_1 - 1.5 * iqr) & (ticket_data['Assignment group'].value_counts() <= quartile_3 + 1.5 *iqr)\r\n",
        "df_filter_ticket_iqr = ticket_data['Assignment group'].value_counts().loc[filter] "
      ],
      "execution_count": 13,
      "outputs": []
    },
    {
      "cell_type": "code",
      "metadata": {
        "id": "Pre3jZ1sYLKV",
        "colab": {
          "base_uri": "https://localhost:8080/",
          "height": 405
        },
        "outputId": "2b59cd6a-69f5-4793-d347-8108ea04a61e"
      },
      "source": [
        "plt.figure(figsize=(10,6))\r\n",
        "sns.boxplot(df_filter_ticket_iqr)"
      ],
      "execution_count": 14,
      "outputs": [
        {
          "output_type": "execute_result",
          "data": {
            "text/plain": [
              "<matplotlib.axes._subplots.AxesSubplot at 0x7fd2262df668>"
            ]
          },
          "metadata": {
            "tags": []
          },
          "execution_count": 14
        },
        {
          "output_type": "display_data",
          "data": {
            "image/png": "[encoded data removed]",
            "text/plain": [
              "<Figure size 720x432 with 1 Axes>"
            ]
          },
          "metadata": {
            "tags": [],
            "needs_background": "light"
          }
        }
      ]
    },
    {
      "cell_type": "code",
      "metadata": {
        "id": "SIlX4Xu9o3FM",
        "colab": {
          "base_uri": "https://localhost:8080/"
        },
        "outputId": "b58d8ffc-afc8-4be9-e4f2-728c6c83dca9"
      },
      "source": [
        "ticket_data.isnull().values.any()"
      ],
      "execution_count": 15,
      "outputs": [
        {
          "output_type": "execute_result",
          "data": {
            "text/plain": [
              "True"
            ]
          },
          "metadata": {
            "tags": []
          },
          "execution_count": 15
        }
      ]
    },
    {
      "cell_type": "code",
      "metadata": {
        "id": "cnsE0yU_o9Am",
        "colab": {
          "base_uri": "https://localhost:8080/"
        },
        "outputId": "d9fea0e5-bbdd-4404-fd44-2e00ae4e386b"
      },
      "source": [
        "ticket_data['Description'].fillna(value=' ', inplace=True)\n",
        "ticket_data['Short description'].fillna(value=' ', inplace=True)\n",
        "ticket_data.isnull().values.any()"
      ],
      "execution_count": 16,
      "outputs": [
        {
          "output_type": "execute_result",
          "data": {
            "text/plain": [
              "False"
            ]
          },
          "metadata": {
            "tags": []
          },
          "execution_count": 16
        }
      ]
    },
    {
      "cell_type": "markdown",
      "metadata": {
        "id": "H2DaUppJq_gW"
      },
      "source": [
        "## TODO: Somewhere in the initial EDA, We must remove the records where both Short desc and Desc are blank. While there is no such record in the data, we should still have this"
      ]
    },
    {
      "cell_type": "code",
      "metadata": {
        "id": "CKmCCbhOq_gW",
        "colab": {
          "base_uri": "https://localhost:8080/",
          "height": 196
        },
        "outputId": "f0ebcbfd-e801-4a03-ccd8-94b65af8b2ed"
      },
      "source": [
        "summary_data=ticket_data.pivot_table(columns = \"Assignment group\",aggfunc='count')\n",
        "summary_data"
      ],
      "execution_count": 17,
      "outputs": [
        {
          "output_type": "execute_result",
          "data": {
            "text/html": [
              "<div>\n",
              "<style scoped>\n",
              "    .dataframe tbody tr th:only-of-type {\n",
              "        vertical-align: middle;\n",
              "    }\n",
              "\n",
              "    .dataframe tbody tr th {\n",
              "        vertical-align: top;\n",
              "    }\n",
              "\n",
              "    .dataframe thead th {\n",
              "        text-align: right;\n",
              "    }\n",
              "</style>\n",
              "<table border=\"1\" class=\"dataframe\">\n",
              "  <thead>\n",
              "    <tr style=\"text-align: right;\">\n",
              "      <th>Assignment group</th>\n",
              "      <th>GRP_0</th>\n",
              "      <th>GRP_1</th>\n",
              "      <th>GRP_10</th>\n",
              "      <th>GRP_11</th>\n",
              "      <th>GRP_12</th>\n",
              "      <th>GRP_13</th>\n",
              "      <th>GRP_14</th>\n",
              "      <th>GRP_15</th>\n",
              "      <th>GRP_16</th>\n",
              "      <th>GRP_17</th>\n",
              "      <th>GRP_18</th>\n",
              "      <th>GRP_19</th>\n",
              "      <th>GRP_2</th>\n",
              "      <th>GRP_20</th>\n",
              "      <th>GRP_21</th>\n",
              "      <th>GRP_22</th>\n",
              "      <th>GRP_23</th>\n",
              "      <th>GRP_24</th>\n",
              "      <th>GRP_25</th>\n",
              "      <th>GRP_26</th>\n",
              "      <th>GRP_27</th>\n",
              "      <th>GRP_28</th>\n",
              "      <th>GRP_29</th>\n",
              "      <th>GRP_3</th>\n",
              "      <th>GRP_30</th>\n",
              "      <th>GRP_31</th>\n",
              "      <th>GRP_32</th>\n",
              "      <th>GRP_33</th>\n",
              "      <th>GRP_34</th>\n",
              "      <th>GRP_35</th>\n",
              "      <th>GRP_36</th>\n",
              "      <th>GRP_37</th>\n",
              "      <th>GRP_38</th>\n",
              "      <th>GRP_39</th>\n",
              "      <th>GRP_4</th>\n",
              "      <th>GRP_40</th>\n",
              "      <th>GRP_41</th>\n",
              "      <th>GRP_42</th>\n",
              "      <th>GRP_43</th>\n",
              "      <th>GRP_44</th>\n",
              "      <th>GRP_45</th>\n",
              "      <th>GRP_46</th>\n",
              "      <th>GRP_47</th>\n",
              "      <th>GRP_48</th>\n",
              "      <th>GRP_49</th>\n",
              "      <th>GRP_5</th>\n",
              "      <th>GRP_50</th>\n",
              "      <th>GRP_51</th>\n",
              "      <th>GRP_52</th>\n",
              "      <th>GRP_53</th>\n",
              "      <th>GRP_54</th>\n",
              "      <th>GRP_55</th>\n",
              "      <th>GRP_56</th>\n",
              "      <th>GRP_57</th>\n",
              "      <th>GRP_58</th>\n",
              "      <th>GRP_59</th>\n",
              "      <th>GRP_6</th>\n",
              "      <th>GRP_60</th>\n",
              "      <th>GRP_61</th>\n",
              "      <th>GRP_62</th>\n",
              "      <th>GRP_63</th>\n",
              "      <th>GRP_64</th>\n",
              "      <th>GRP_65</th>\n",
              "      <th>GRP_66</th>\n",
              "      <th>GRP_67</th>\n",
              "      <th>GRP_68</th>\n",
              "      <th>GRP_69</th>\n",
              "      <th>GRP_7</th>\n",
              "      <th>GRP_70</th>\n",
              "      <th>GRP_71</th>\n",
              "      <th>GRP_72</th>\n",
              "      <th>GRP_73</th>\n",
              "      <th>GRP_8</th>\n",
              "      <th>GRP_9</th>\n",
              "    </tr>\n",
              "  </thead>\n",
              "  <tbody>\n",
              "    <tr>\n",
              "      <th>Caller</th>\n",
              "      <td>3976</td>\n",
              "      <td>31</td>\n",
              "      <td>140</td>\n",
              "      <td>30</td>\n",
              "      <td>257</td>\n",
              "      <td>145</td>\n",
              "      <td>118</td>\n",
              "      <td>39</td>\n",
              "      <td>85</td>\n",
              "      <td>81</td>\n",
              "      <td>88</td>\n",
              "      <td>215</td>\n",
              "      <td>241</td>\n",
              "      <td>36</td>\n",
              "      <td>29</td>\n",
              "      <td>31</td>\n",
              "      <td>25</td>\n",
              "      <td>289</td>\n",
              "      <td>116</td>\n",
              "      <td>56</td>\n",
              "      <td>18</td>\n",
              "      <td>44</td>\n",
              "      <td>97</td>\n",
              "      <td>200</td>\n",
              "      <td>39</td>\n",
              "      <td>69</td>\n",
              "      <td>4</td>\n",
              "      <td>107</td>\n",
              "      <td>62</td>\n",
              "      <td>1</td>\n",
              "      <td>15</td>\n",
              "      <td>16</td>\n",
              "      <td>3</td>\n",
              "      <td>19</td>\n",
              "      <td>100</td>\n",
              "      <td>45</td>\n",
              "      <td>40</td>\n",
              "      <td>37</td>\n",
              "      <td>5</td>\n",
              "      <td>15</td>\n",
              "      <td>35</td>\n",
              "      <td>6</td>\n",
              "      <td>27</td>\n",
              "      <td>25</td>\n",
              "      <td>6</td>\n",
              "      <td>129</td>\n",
              "      <td>14</td>\n",
              "      <td>8</td>\n",
              "      <td>9</td>\n",
              "      <td>11</td>\n",
              "      <td>2</td>\n",
              "      <td>8</td>\n",
              "      <td>3</td>\n",
              "      <td>2</td>\n",
              "      <td>3</td>\n",
              "      <td>6</td>\n",
              "      <td>184</td>\n",
              "      <td>20</td>\n",
              "      <td>1</td>\n",
              "      <td>25</td>\n",
              "      <td>3</td>\n",
              "      <td>1</td>\n",
              "      <td>11</td>\n",
              "      <td>4</td>\n",
              "      <td>1</td>\n",
              "      <td>3</td>\n",
              "      <td>2</td>\n",
              "      <td>68</td>\n",
              "      <td>1</td>\n",
              "      <td>2</td>\n",
              "      <td>2</td>\n",
              "      <td>1</td>\n",
              "      <td>661</td>\n",
              "      <td>252</td>\n",
              "    </tr>\n",
              "    <tr>\n",
              "      <th>Description</th>\n",
              "      <td>3976</td>\n",
              "      <td>31</td>\n",
              "      <td>140</td>\n",
              "      <td>30</td>\n",
              "      <td>257</td>\n",
              "      <td>145</td>\n",
              "      <td>118</td>\n",
              "      <td>39</td>\n",
              "      <td>85</td>\n",
              "      <td>81</td>\n",
              "      <td>88</td>\n",
              "      <td>215</td>\n",
              "      <td>241</td>\n",
              "      <td>36</td>\n",
              "      <td>29</td>\n",
              "      <td>31</td>\n",
              "      <td>25</td>\n",
              "      <td>289</td>\n",
              "      <td>116</td>\n",
              "      <td>56</td>\n",
              "      <td>18</td>\n",
              "      <td>44</td>\n",
              "      <td>97</td>\n",
              "      <td>200</td>\n",
              "      <td>39</td>\n",
              "      <td>69</td>\n",
              "      <td>4</td>\n",
              "      <td>107</td>\n",
              "      <td>62</td>\n",
              "      <td>1</td>\n",
              "      <td>15</td>\n",
              "      <td>16</td>\n",
              "      <td>3</td>\n",
              "      <td>19</td>\n",
              "      <td>100</td>\n",
              "      <td>45</td>\n",
              "      <td>40</td>\n",
              "      <td>37</td>\n",
              "      <td>5</td>\n",
              "      <td>15</td>\n",
              "      <td>35</td>\n",
              "      <td>6</td>\n",
              "      <td>27</td>\n",
              "      <td>25</td>\n",
              "      <td>6</td>\n",
              "      <td>129</td>\n",
              "      <td>14</td>\n",
              "      <td>8</td>\n",
              "      <td>9</td>\n",
              "      <td>11</td>\n",
              "      <td>2</td>\n",
              "      <td>8</td>\n",
              "      <td>3</td>\n",
              "      <td>2</td>\n",
              "      <td>3</td>\n",
              "      <td>6</td>\n",
              "      <td>184</td>\n",
              "      <td>20</td>\n",
              "      <td>1</td>\n",
              "      <td>25</td>\n",
              "      <td>3</td>\n",
              "      <td>1</td>\n",
              "      <td>11</td>\n",
              "      <td>4</td>\n",
              "      <td>1</td>\n",
              "      <td>3</td>\n",
              "      <td>2</td>\n",
              "      <td>68</td>\n",
              "      <td>1</td>\n",
              "      <td>2</td>\n",
              "      <td>2</td>\n",
              "      <td>1</td>\n",
              "      <td>661</td>\n",
              "      <td>252</td>\n",
              "    </tr>\n",
              "    <tr>\n",
              "      <th>Short description</th>\n",
              "      <td>3976</td>\n",
              "      <td>31</td>\n",
              "      <td>140</td>\n",
              "      <td>30</td>\n",
              "      <td>257</td>\n",
              "      <td>145</td>\n",
              "      <td>118</td>\n",
              "      <td>39</td>\n",
              "      <td>85</td>\n",
              "      <td>81</td>\n",
              "      <td>88</td>\n",
              "      <td>215</td>\n",
              "      <td>241</td>\n",
              "      <td>36</td>\n",
              "      <td>29</td>\n",
              "      <td>31</td>\n",
              "      <td>25</td>\n",
              "      <td>289</td>\n",
              "      <td>116</td>\n",
              "      <td>56</td>\n",
              "      <td>18</td>\n",
              "      <td>44</td>\n",
              "      <td>97</td>\n",
              "      <td>200</td>\n",
              "      <td>39</td>\n",
              "      <td>69</td>\n",
              "      <td>4</td>\n",
              "      <td>107</td>\n",
              "      <td>62</td>\n",
              "      <td>1</td>\n",
              "      <td>15</td>\n",
              "      <td>16</td>\n",
              "      <td>3</td>\n",
              "      <td>19</td>\n",
              "      <td>100</td>\n",
              "      <td>45</td>\n",
              "      <td>40</td>\n",
              "      <td>37</td>\n",
              "      <td>5</td>\n",
              "      <td>15</td>\n",
              "      <td>35</td>\n",
              "      <td>6</td>\n",
              "      <td>27</td>\n",
              "      <td>25</td>\n",
              "      <td>6</td>\n",
              "      <td>129</td>\n",
              "      <td>14</td>\n",
              "      <td>8</td>\n",
              "      <td>9</td>\n",
              "      <td>11</td>\n",
              "      <td>2</td>\n",
              "      <td>8</td>\n",
              "      <td>3</td>\n",
              "      <td>2</td>\n",
              "      <td>3</td>\n",
              "      <td>6</td>\n",
              "      <td>184</td>\n",
              "      <td>20</td>\n",
              "      <td>1</td>\n",
              "      <td>25</td>\n",
              "      <td>3</td>\n",
              "      <td>1</td>\n",
              "      <td>11</td>\n",
              "      <td>4</td>\n",
              "      <td>1</td>\n",
              "      <td>3</td>\n",
              "      <td>2</td>\n",
              "      <td>68</td>\n",
              "      <td>1</td>\n",
              "      <td>2</td>\n",
              "      <td>2</td>\n",
              "      <td>1</td>\n",
              "      <td>661</td>\n",
              "      <td>252</td>\n",
              "    </tr>\n",
              "  </tbody>\n",
              "</table>\n",
              "</div>"
            ],
            "text/plain": [
              "Assignment group   GRP_0  GRP_1  GRP_10  GRP_11  ...  GRP_72  GRP_73  GRP_8  GRP_9\n",
              "Caller              3976     31     140      30  ...       2       1    661    252\n",
              "Description         3976     31     140      30  ...       2       1    661    252\n",
              "Short description   3976     31     140      30  ...       2       1    661    252\n",
              "\n",
              "[3 rows x 74 columns]"
            ]
          },
          "metadata": {
            "tags": []
          },
          "execution_count": 17
        }
      ]
    },
    {
      "cell_type": "code",
      "metadata": {
        "id": "G85yq5Gyq_gW",
        "colab": {
          "base_uri": "https://localhost:8080/"
        },
        "outputId": "eb295f9c-8d19-45bf-9b56-fc87c098de92"
      },
      "source": [
        "ticket_data['Assignment group'].unique()"
      ],
      "execution_count": 18,
      "outputs": [
        {
          "output_type": "execute_result",
          "data": {
            "text/plain": [
              "array(['GRP_0', 'GRP_1', 'GRP_3', 'GRP_4', 'GRP_5', 'GRP_6', 'GRP_7',\n",
              "       'GRP_8', 'GRP_9', 'GRP_10', 'GRP_11', 'GRP_12', 'GRP_13', 'GRP_14',\n",
              "       'GRP_15', 'GRP_16', 'GRP_17', 'GRP_18', 'GRP_19', 'GRP_2',\n",
              "       'GRP_20', 'GRP_21', 'GRP_22', 'GRP_23', 'GRP_24', 'GRP_25',\n",
              "       'GRP_26', 'GRP_27', 'GRP_28', 'GRP_29', 'GRP_30', 'GRP_31',\n",
              "       'GRP_33', 'GRP_34', 'GRP_35', 'GRP_36', 'GRP_37', 'GRP_38',\n",
              "       'GRP_39', 'GRP_40', 'GRP_41', 'GRP_42', 'GRP_43', 'GRP_44',\n",
              "       'GRP_45', 'GRP_46', 'GRP_47', 'GRP_48', 'GRP_49', 'GRP_50',\n",
              "       'GRP_51', 'GRP_52', 'GRP_53', 'GRP_54', 'GRP_55', 'GRP_56',\n",
              "       'GRP_57', 'GRP_58', 'GRP_59', 'GRP_60', 'GRP_61', 'GRP_32',\n",
              "       'GRP_62', 'GRP_63', 'GRP_64', 'GRP_65', 'GRP_66', 'GRP_67',\n",
              "       'GRP_68', 'GRP_69', 'GRP_70', 'GRP_71', 'GRP_72', 'GRP_73'],\n",
              "      dtype=object)"
            ]
          },
          "metadata": {
            "tags": []
          },
          "execution_count": 18
        }
      ]
    },
    {
      "cell_type": "code",
      "metadata": {
        "id": "y8a25a1vNNb1",
        "colab": {
          "base_uri": "https://localhost:8080/"
        },
        "outputId": "6975b144-c691-44f6-cd54-52e4fb3039fd"
      },
      "source": [
        "len(ticket_data['Assignment group'].unique())"
      ],
      "execution_count": 19,
      "outputs": [
        {
          "output_type": "execute_result",
          "data": {
            "text/plain": [
              "74"
            ]
          },
          "metadata": {
            "tags": []
          },
          "execution_count": 19
        }
      ]
    },
    {
      "cell_type": "code",
      "metadata": {
        "id": "7XpZJeumNP0e",
        "colab": {
          "base_uri": "https://localhost:8080/",
          "height": 204
        },
        "outputId": "c5d73403-19c2-4cd4-c2f1-96bdea748be5"
      },
      "source": [
        "df_assg = ticket_data['Assignment group'].value_counts().reset_index()\n",
        "df_assg['percentage'] = (df_assg['Assignment group']/df_assg['Assignment group'].sum())*100\n",
        "df_assg.head()"
      ],
      "execution_count": 20,
      "outputs": [
        {
          "output_type": "execute_result",
          "data": {
            "text/html": [
              "<div>\n",
              "<style scoped>\n",
              "    .dataframe tbody tr th:only-of-type {\n",
              "        vertical-align: middle;\n",
              "    }\n",
              "\n",
              "    .dataframe tbody tr th {\n",
              "        vertical-align: top;\n",
              "    }\n",
              "\n",
              "    .dataframe thead th {\n",
              "        text-align: right;\n",
              "    }\n",
              "</style>\n",
              "<table border=\"1\" class=\"dataframe\">\n",
              "  <thead>\n",
              "    <tr style=\"text-align: right;\">\n",
              "      <th></th>\n",
              "      <th>index</th>\n",
              "      <th>Assignment group</th>\n",
              "      <th>percentage</th>\n",
              "    </tr>\n",
              "  </thead>\n",
              "  <tbody>\n",
              "    <tr>\n",
              "      <th>0</th>\n",
              "      <td>GRP_0</td>\n",
              "      <td>3976</td>\n",
              "      <td>46.776471</td>\n",
              "    </tr>\n",
              "    <tr>\n",
              "      <th>1</th>\n",
              "      <td>GRP_8</td>\n",
              "      <td>661</td>\n",
              "      <td>7.776471</td>\n",
              "    </tr>\n",
              "    <tr>\n",
              "      <th>2</th>\n",
              "      <td>GRP_24</td>\n",
              "      <td>289</td>\n",
              "      <td>3.400000</td>\n",
              "    </tr>\n",
              "    <tr>\n",
              "      <th>3</th>\n",
              "      <td>GRP_12</td>\n",
              "      <td>257</td>\n",
              "      <td>3.023529</td>\n",
              "    </tr>\n",
              "    <tr>\n",
              "      <th>4</th>\n",
              "      <td>GRP_9</td>\n",
              "      <td>252</td>\n",
              "      <td>2.964706</td>\n",
              "    </tr>\n",
              "  </tbody>\n",
              "</table>\n",
              "</div>"
            ],
            "text/plain": [
              "    index  Assignment group  percentage\n",
              "0   GRP_0              3976   46.776471\n",
              "1   GRP_8               661    7.776471\n",
              "2  GRP_24               289    3.400000\n",
              "3  GRP_12               257    3.023529\n",
              "4   GRP_9               252    2.964706"
            ]
          },
          "metadata": {
            "tags": []
          },
          "execution_count": 20
        }
      ]
    },
    {
      "cell_type": "code",
      "metadata": {
        "id": "mipLZ-dGNUK-",
        "colab": {
          "base_uri": "https://localhost:8080/",
          "height": 414
        },
        "outputId": "2d0fc590-9ad1-4920-ee77-9306861c3812"
      },
      "source": [
        "sns.set(style=\"whitegrid\")\n",
        "plt.figure(figsize=(20,5))\n",
        "ax = sns.countplot(x=\"Assignment group\", data=ticket_data, order=ticket_data[\"Assignment group\"].value_counts().index)\n",
        "ax.set_xticklabels(ax.get_xticklabels(), rotation=90)\n",
        "for p in ax.patches:\n",
        "    ax.annotate(str(format(p.get_height()/len(ticket_data.index)*100, '.2f')+\"%\"), (p.get_x() + p.get_width() / 2., p.get_height()), ha = 'center', va = 'bottom', rotation=90, xytext = (0, 10), textcoords = 'offset points')"
      ],
      "execution_count": 21,
      "outputs": [
        {
          "output_type": "display_data",
          "data": {
            "image/png": "[encoded data removed]",
            "text/plain": [
              "<Figure size 1440x360 with 1 Axes>"
            ]
          },
          "metadata": {
            "tags": []
          }
        }
      ]
    },
    {
      "cell_type": "markdown",
      "metadata": {
        "id": "62046fzVNbAW"
      },
      "source": [
        "#### Assignment group with tickets greater than 30"
      ]
    },
    {
      "cell_type": "code",
      "metadata": {
        "id": "28NsQ8VVy46b",
        "colab": {
          "base_uri": "https://localhost:8080/",
          "height": 419
        },
        "outputId": "ba8a7664-dcaa-43bb-c08d-75a9bd542a10"
      },
      "source": [
        "df_large_grp = pd.DataFrame(ticket_data['Assignment group'].value_counts().transpose())\r\n",
        "df_large_grp.reset_index(inplace=True)\r\n",
        "df_large_grp"
      ],
      "execution_count": 22,
      "outputs": [
        {
          "output_type": "execute_result",
          "data": {
            "text/html": [
              "<div>\n",
              "<style scoped>\n",
              "    .dataframe tbody tr th:only-of-type {\n",
              "        vertical-align: middle;\n",
              "    }\n",
              "\n",
              "    .dataframe tbody tr th {\n",
              "        vertical-align: top;\n",
              "    }\n",
              "\n",
              "    .dataframe thead th {\n",
              "        text-align: right;\n",
              "    }\n",
              "</style>\n",
              "<table border=\"1\" class=\"dataframe\">\n",
              "  <thead>\n",
              "    <tr style=\"text-align: right;\">\n",
              "      <th></th>\n",
              "      <th>index</th>\n",
              "      <th>Assignment group</th>\n",
              "    </tr>\n",
              "  </thead>\n",
              "  <tbody>\n",
              "    <tr>\n",
              "      <th>0</th>\n",
              "      <td>GRP_0</td>\n",
              "      <td>3976</td>\n",
              "    </tr>\n",
              "    <tr>\n",
              "      <th>1</th>\n",
              "      <td>GRP_8</td>\n",
              "      <td>661</td>\n",
              "    </tr>\n",
              "    <tr>\n",
              "      <th>2</th>\n",
              "      <td>GRP_24</td>\n",
              "      <td>289</td>\n",
              "    </tr>\n",
              "    <tr>\n",
              "      <th>3</th>\n",
              "      <td>GRP_12</td>\n",
              "      <td>257</td>\n",
              "    </tr>\n",
              "    <tr>\n",
              "      <th>4</th>\n",
              "      <td>GRP_9</td>\n",
              "      <td>252</td>\n",
              "    </tr>\n",
              "    <tr>\n",
              "      <th>...</th>\n",
              "      <td>...</td>\n",
              "      <td>...</td>\n",
              "    </tr>\n",
              "    <tr>\n",
              "      <th>69</th>\n",
              "      <td>GRP_61</td>\n",
              "      <td>1</td>\n",
              "    </tr>\n",
              "    <tr>\n",
              "      <th>70</th>\n",
              "      <td>GRP_73</td>\n",
              "      <td>1</td>\n",
              "    </tr>\n",
              "    <tr>\n",
              "      <th>71</th>\n",
              "      <td>GRP_64</td>\n",
              "      <td>1</td>\n",
              "    </tr>\n",
              "    <tr>\n",
              "      <th>72</th>\n",
              "      <td>GRP_35</td>\n",
              "      <td>1</td>\n",
              "    </tr>\n",
              "    <tr>\n",
              "      <th>73</th>\n",
              "      <td>GRP_67</td>\n",
              "      <td>1</td>\n",
              "    </tr>\n",
              "  </tbody>\n",
              "</table>\n",
              "<p>74 rows × 2 columns</p>\n",
              "</div>"
            ],
            "text/plain": [
              "     index  Assignment group\n",
              "0    GRP_0              3976\n",
              "1    GRP_8               661\n",
              "2   GRP_24               289\n",
              "3   GRP_12               257\n",
              "4    GRP_9               252\n",
              "..     ...               ...\n",
              "69  GRP_61                 1\n",
              "70  GRP_73                 1\n",
              "71  GRP_64                 1\n",
              "72  GRP_35                 1\n",
              "73  GRP_67                 1\n",
              "\n",
              "[74 rows x 2 columns]"
            ]
          },
          "metadata": {
            "tags": []
          },
          "execution_count": 22
        }
      ]
    },
    {
      "cell_type": "code",
      "metadata": {
        "id": "EFDIcoPNzJpU",
        "colab": {
          "base_uri": "https://localhost:8080/"
        },
        "outputId": "91204cd6-c339-4981-822a-414e35a6257a"
      },
      "source": [
        "len(df_large_grp[df_large_grp[\"Assignment group\"]>30])"
      ],
      "execution_count": 23,
      "outputs": [
        {
          "output_type": "execute_result",
          "data": {
            "text/plain": [
              "34"
            ]
          },
          "metadata": {
            "tags": []
          },
          "execution_count": 23
        }
      ]
    },
    {
      "cell_type": "code",
      "metadata": {
        "id": "CZZ95Jctzh8s",
        "colab": {
          "base_uri": "https://localhost:8080/",
          "height": 1000
        },
        "outputId": "a96f0093-f21c-481e-bea5-217b5ba648f4"
      },
      "source": [
        "df_top_assg = df_large_grp[df_large_grp[\"Assignment group\"]>30]\r\n",
        "df_top_assg"
      ],
      "execution_count": 24,
      "outputs": [
        {
          "output_type": "execute_result",
          "data": {
            "text/html": [
              "<div>\n",
              "<style scoped>\n",
              "    .dataframe tbody tr th:only-of-type {\n",
              "        vertical-align: middle;\n",
              "    }\n",
              "\n",
              "    .dataframe tbody tr th {\n",
              "        vertical-align: top;\n",
              "    }\n",
              "\n",
              "    .dataframe thead th {\n",
              "        text-align: right;\n",
              "    }\n",
              "</style>\n",
              "<table border=\"1\" class=\"dataframe\">\n",
              "  <thead>\n",
              "    <tr style=\"text-align: right;\">\n",
              "      <th></th>\n",
              "      <th>index</th>\n",
              "      <th>Assignment group</th>\n",
              "    </tr>\n",
              "  </thead>\n",
              "  <tbody>\n",
              "    <tr>\n",
              "      <th>0</th>\n",
              "      <td>GRP_0</td>\n",
              "      <td>3976</td>\n",
              "    </tr>\n",
              "    <tr>\n",
              "      <th>1</th>\n",
              "      <td>GRP_8</td>\n",
              "      <td>661</td>\n",
              "    </tr>\n",
              "    <tr>\n",
              "      <th>2</th>\n",
              "      <td>GRP_24</td>\n",
              "      <td>289</td>\n",
              "    </tr>\n",
              "    <tr>\n",
              "      <th>3</th>\n",
              "      <td>GRP_12</td>\n",
              "      <td>257</td>\n",
              "    </tr>\n",
              "    <tr>\n",
              "      <th>4</th>\n",
              "      <td>GRP_9</td>\n",
              "      <td>252</td>\n",
              "    </tr>\n",
              "    <tr>\n",
              "      <th>5</th>\n",
              "      <td>GRP_2</td>\n",
              "      <td>241</td>\n",
              "    </tr>\n",
              "    <tr>\n",
              "      <th>6</th>\n",
              "      <td>GRP_19</td>\n",
              "      <td>215</td>\n",
              "    </tr>\n",
              "    <tr>\n",
              "      <th>7</th>\n",
              "      <td>GRP_3</td>\n",
              "      <td>200</td>\n",
              "    </tr>\n",
              "    <tr>\n",
              "      <th>8</th>\n",
              "      <td>GRP_6</td>\n",
              "      <td>184</td>\n",
              "    </tr>\n",
              "    <tr>\n",
              "      <th>9</th>\n",
              "      <td>GRP_13</td>\n",
              "      <td>145</td>\n",
              "    </tr>\n",
              "    <tr>\n",
              "      <th>10</th>\n",
              "      <td>GRP_10</td>\n",
              "      <td>140</td>\n",
              "    </tr>\n",
              "    <tr>\n",
              "      <th>11</th>\n",
              "      <td>GRP_5</td>\n",
              "      <td>129</td>\n",
              "    </tr>\n",
              "    <tr>\n",
              "      <th>12</th>\n",
              "      <td>GRP_14</td>\n",
              "      <td>118</td>\n",
              "    </tr>\n",
              "    <tr>\n",
              "      <th>13</th>\n",
              "      <td>GRP_25</td>\n",
              "      <td>116</td>\n",
              "    </tr>\n",
              "    <tr>\n",
              "      <th>14</th>\n",
              "      <td>GRP_33</td>\n",
              "      <td>107</td>\n",
              "    </tr>\n",
              "    <tr>\n",
              "      <th>15</th>\n",
              "      <td>GRP_4</td>\n",
              "      <td>100</td>\n",
              "    </tr>\n",
              "    <tr>\n",
              "      <th>16</th>\n",
              "      <td>GRP_29</td>\n",
              "      <td>97</td>\n",
              "    </tr>\n",
              "    <tr>\n",
              "      <th>17</th>\n",
              "      <td>GRP_18</td>\n",
              "      <td>88</td>\n",
              "    </tr>\n",
              "    <tr>\n",
              "      <th>18</th>\n",
              "      <td>GRP_16</td>\n",
              "      <td>85</td>\n",
              "    </tr>\n",
              "    <tr>\n",
              "      <th>19</th>\n",
              "      <td>GRP_17</td>\n",
              "      <td>81</td>\n",
              "    </tr>\n",
              "    <tr>\n",
              "      <th>20</th>\n",
              "      <td>GRP_31</td>\n",
              "      <td>69</td>\n",
              "    </tr>\n",
              "    <tr>\n",
              "      <th>21</th>\n",
              "      <td>GRP_7</td>\n",
              "      <td>68</td>\n",
              "    </tr>\n",
              "    <tr>\n",
              "      <th>22</th>\n",
              "      <td>GRP_34</td>\n",
              "      <td>62</td>\n",
              "    </tr>\n",
              "    <tr>\n",
              "      <th>23</th>\n",
              "      <td>GRP_26</td>\n",
              "      <td>56</td>\n",
              "    </tr>\n",
              "    <tr>\n",
              "      <th>24</th>\n",
              "      <td>GRP_40</td>\n",
              "      <td>45</td>\n",
              "    </tr>\n",
              "    <tr>\n",
              "      <th>25</th>\n",
              "      <td>GRP_28</td>\n",
              "      <td>44</td>\n",
              "    </tr>\n",
              "    <tr>\n",
              "      <th>26</th>\n",
              "      <td>GRP_41</td>\n",
              "      <td>40</td>\n",
              "    </tr>\n",
              "    <tr>\n",
              "      <th>27</th>\n",
              "      <td>GRP_30</td>\n",
              "      <td>39</td>\n",
              "    </tr>\n",
              "    <tr>\n",
              "      <th>28</th>\n",
              "      <td>GRP_15</td>\n",
              "      <td>39</td>\n",
              "    </tr>\n",
              "    <tr>\n",
              "      <th>29</th>\n",
              "      <td>GRP_42</td>\n",
              "      <td>37</td>\n",
              "    </tr>\n",
              "    <tr>\n",
              "      <th>30</th>\n",
              "      <td>GRP_20</td>\n",
              "      <td>36</td>\n",
              "    </tr>\n",
              "    <tr>\n",
              "      <th>31</th>\n",
              "      <td>GRP_45</td>\n",
              "      <td>35</td>\n",
              "    </tr>\n",
              "    <tr>\n",
              "      <th>32</th>\n",
              "      <td>GRP_22</td>\n",
              "      <td>31</td>\n",
              "    </tr>\n",
              "    <tr>\n",
              "      <th>33</th>\n",
              "      <td>GRP_1</td>\n",
              "      <td>31</td>\n",
              "    </tr>\n",
              "  </tbody>\n",
              "</table>\n",
              "</div>"
            ],
            "text/plain": [
              "     index  Assignment group\n",
              "0    GRP_0              3976\n",
              "1    GRP_8               661\n",
              "2   GRP_24               289\n",
              "3   GRP_12               257\n",
              "4    GRP_9               252\n",
              "5    GRP_2               241\n",
              "6   GRP_19               215\n",
              "7    GRP_3               200\n",
              "8    GRP_6               184\n",
              "9   GRP_13               145\n",
              "10  GRP_10               140\n",
              "11   GRP_5               129\n",
              "12  GRP_14               118\n",
              "13  GRP_25               116\n",
              "14  GRP_33               107\n",
              "15   GRP_4               100\n",
              "16  GRP_29                97\n",
              "17  GRP_18                88\n",
              "18  GRP_16                85\n",
              "19  GRP_17                81\n",
              "20  GRP_31                69\n",
              "21   GRP_7                68\n",
              "22  GRP_34                62\n",
              "23  GRP_26                56\n",
              "24  GRP_40                45\n",
              "25  GRP_28                44\n",
              "26  GRP_41                40\n",
              "27  GRP_30                39\n",
              "28  GRP_15                39\n",
              "29  GRP_42                37\n",
              "30  GRP_20                36\n",
              "31  GRP_45                35\n",
              "32  GRP_22                31\n",
              "33   GRP_1                31"
            ]
          },
          "metadata": {
            "tags": []
          },
          "execution_count": 24
        }
      ]
    },
    {
      "cell_type": "code",
      "metadata": {
        "id": "wC2bA7DqNmwG",
        "colab": {
          "base_uri": "https://localhost:8080/",
          "height": 437
        },
        "outputId": "8869c810-2ece-43a1-a6ad-18a93d47f519"
      },
      "source": [
        "plt.figure(figsize=(12,6))\n",
        "bars = plt.bar(df_top_assg['index'],df_top_assg['Assignment group'])\n",
        "plt.title('Assignment group with tickets greater than 30')\n",
        "plt.xlabel('Assignment Group')\n",
        "plt.xticks(rotation=90)\n",
        "plt.ylabel('Number of Tickets')\n",
        "\n",
        "for bar in bars:\n",
        "    yval = bar.get_height()\n",
        "    plt.text(bar.get_x(), yval + .005, yval)\n",
        "plt.tight_layout()\n",
        "plt.show()"
      ],
      "execution_count": 25,
      "outputs": [
        {
          "output_type": "display_data",
          "data": {
            "image/png": "[encoded data removed]",
            "text/plain": [
              "<Figure size 864x432 with 1 Axes>"
            ]
          },
          "metadata": {
            "tags": []
          }
        }
      ]
    },
    {
      "cell_type": "markdown",
      "metadata": {
        "id": "tm87CX3zNfo1"
      },
      "source": [
        "#### Assignment group with tickets lesser than 30\r\n",
        "\r\n"
      ]
    },
    {
      "cell_type": "code",
      "metadata": {
        "id": "EETA5iiRWWvu",
        "colab": {
          "base_uri": "https://localhost:8080/",
          "height": 1000
        },
        "outputId": "6aa7e671-8e35-456f-e834-3c331d40919a"
      },
      "source": [
        "df_bot_assg = df_large_grp[df_large_grp[\"Assignment group\"]<30]\r\n",
        "df_bot_assg"
      ],
      "execution_count": 26,
      "outputs": [
        {
          "output_type": "execute_result",
          "data": {
            "text/html": [
              "<div>\n",
              "<style scoped>\n",
              "    .dataframe tbody tr th:only-of-type {\n",
              "        vertical-align: middle;\n",
              "    }\n",
              "\n",
              "    .dataframe tbody tr th {\n",
              "        vertical-align: top;\n",
              "    }\n",
              "\n",
              "    .dataframe thead th {\n",
              "        text-align: right;\n",
              "    }\n",
              "</style>\n",
              "<table border=\"1\" class=\"dataframe\">\n",
              "  <thead>\n",
              "    <tr style=\"text-align: right;\">\n",
              "      <th></th>\n",
              "      <th>index</th>\n",
              "      <th>Assignment group</th>\n",
              "    </tr>\n",
              "  </thead>\n",
              "  <tbody>\n",
              "    <tr>\n",
              "      <th>35</th>\n",
              "      <td>GRP_21</td>\n",
              "      <td>29</td>\n",
              "    </tr>\n",
              "    <tr>\n",
              "      <th>36</th>\n",
              "      <td>GRP_47</td>\n",
              "      <td>27</td>\n",
              "    </tr>\n",
              "    <tr>\n",
              "      <th>37</th>\n",
              "      <td>GRP_48</td>\n",
              "      <td>25</td>\n",
              "    </tr>\n",
              "    <tr>\n",
              "      <th>38</th>\n",
              "      <td>GRP_23</td>\n",
              "      <td>25</td>\n",
              "    </tr>\n",
              "    <tr>\n",
              "      <th>39</th>\n",
              "      <td>GRP_62</td>\n",
              "      <td>25</td>\n",
              "    </tr>\n",
              "    <tr>\n",
              "      <th>40</th>\n",
              "      <td>GRP_60</td>\n",
              "      <td>20</td>\n",
              "    </tr>\n",
              "    <tr>\n",
              "      <th>41</th>\n",
              "      <td>GRP_39</td>\n",
              "      <td>19</td>\n",
              "    </tr>\n",
              "    <tr>\n",
              "      <th>42</th>\n",
              "      <td>GRP_27</td>\n",
              "      <td>18</td>\n",
              "    </tr>\n",
              "    <tr>\n",
              "      <th>43</th>\n",
              "      <td>GRP_37</td>\n",
              "      <td>16</td>\n",
              "    </tr>\n",
              "    <tr>\n",
              "      <th>44</th>\n",
              "      <td>GRP_44</td>\n",
              "      <td>15</td>\n",
              "    </tr>\n",
              "    <tr>\n",
              "      <th>45</th>\n",
              "      <td>GRP_36</td>\n",
              "      <td>15</td>\n",
              "    </tr>\n",
              "    <tr>\n",
              "      <th>46</th>\n",
              "      <td>GRP_50</td>\n",
              "      <td>14</td>\n",
              "    </tr>\n",
              "    <tr>\n",
              "      <th>47</th>\n",
              "      <td>GRP_65</td>\n",
              "      <td>11</td>\n",
              "    </tr>\n",
              "    <tr>\n",
              "      <th>48</th>\n",
              "      <td>GRP_53</td>\n",
              "      <td>11</td>\n",
              "    </tr>\n",
              "    <tr>\n",
              "      <th>49</th>\n",
              "      <td>GRP_52</td>\n",
              "      <td>9</td>\n",
              "    </tr>\n",
              "    <tr>\n",
              "      <th>50</th>\n",
              "      <td>GRP_55</td>\n",
              "      <td>8</td>\n",
              "    </tr>\n",
              "    <tr>\n",
              "      <th>51</th>\n",
              "      <td>GRP_51</td>\n",
              "      <td>8</td>\n",
              "    </tr>\n",
              "    <tr>\n",
              "      <th>52</th>\n",
              "      <td>GRP_46</td>\n",
              "      <td>6</td>\n",
              "    </tr>\n",
              "    <tr>\n",
              "      <th>53</th>\n",
              "      <td>GRP_59</td>\n",
              "      <td>6</td>\n",
              "    </tr>\n",
              "    <tr>\n",
              "      <th>54</th>\n",
              "      <td>GRP_49</td>\n",
              "      <td>6</td>\n",
              "    </tr>\n",
              "    <tr>\n",
              "      <th>55</th>\n",
              "      <td>GRP_43</td>\n",
              "      <td>5</td>\n",
              "    </tr>\n",
              "    <tr>\n",
              "      <th>56</th>\n",
              "      <td>GRP_66</td>\n",
              "      <td>4</td>\n",
              "    </tr>\n",
              "    <tr>\n",
              "      <th>57</th>\n",
              "      <td>GRP_32</td>\n",
              "      <td>4</td>\n",
              "    </tr>\n",
              "    <tr>\n",
              "      <th>58</th>\n",
              "      <td>GRP_56</td>\n",
              "      <td>3</td>\n",
              "    </tr>\n",
              "    <tr>\n",
              "      <th>59</th>\n",
              "      <td>GRP_58</td>\n",
              "      <td>3</td>\n",
              "    </tr>\n",
              "    <tr>\n",
              "      <th>60</th>\n",
              "      <td>GRP_38</td>\n",
              "      <td>3</td>\n",
              "    </tr>\n",
              "    <tr>\n",
              "      <th>61</th>\n",
              "      <td>GRP_63</td>\n",
              "      <td>3</td>\n",
              "    </tr>\n",
              "    <tr>\n",
              "      <th>62</th>\n",
              "      <td>GRP_68</td>\n",
              "      <td>3</td>\n",
              "    </tr>\n",
              "    <tr>\n",
              "      <th>63</th>\n",
              "      <td>GRP_72</td>\n",
              "      <td>2</td>\n",
              "    </tr>\n",
              "    <tr>\n",
              "      <th>64</th>\n",
              "      <td>GRP_57</td>\n",
              "      <td>2</td>\n",
              "    </tr>\n",
              "    <tr>\n",
              "      <th>65</th>\n",
              "      <td>GRP_69</td>\n",
              "      <td>2</td>\n",
              "    </tr>\n",
              "    <tr>\n",
              "      <th>66</th>\n",
              "      <td>GRP_54</td>\n",
              "      <td>2</td>\n",
              "    </tr>\n",
              "    <tr>\n",
              "      <th>67</th>\n",
              "      <td>GRP_71</td>\n",
              "      <td>2</td>\n",
              "    </tr>\n",
              "    <tr>\n",
              "      <th>68</th>\n",
              "      <td>GRP_70</td>\n",
              "      <td>1</td>\n",
              "    </tr>\n",
              "    <tr>\n",
              "      <th>69</th>\n",
              "      <td>GRP_61</td>\n",
              "      <td>1</td>\n",
              "    </tr>\n",
              "    <tr>\n",
              "      <th>70</th>\n",
              "      <td>GRP_73</td>\n",
              "      <td>1</td>\n",
              "    </tr>\n",
              "    <tr>\n",
              "      <th>71</th>\n",
              "      <td>GRP_64</td>\n",
              "      <td>1</td>\n",
              "    </tr>\n",
              "    <tr>\n",
              "      <th>72</th>\n",
              "      <td>GRP_35</td>\n",
              "      <td>1</td>\n",
              "    </tr>\n",
              "    <tr>\n",
              "      <th>73</th>\n",
              "      <td>GRP_67</td>\n",
              "      <td>1</td>\n",
              "    </tr>\n",
              "  </tbody>\n",
              "</table>\n",
              "</div>"
            ],
            "text/plain": [
              "     index  Assignment group\n",
              "35  GRP_21                29\n",
              "36  GRP_47                27\n",
              "37  GRP_48                25\n",
              "38  GRP_23                25\n",
              "39  GRP_62                25\n",
              "40  GRP_60                20\n",
              "41  GRP_39                19\n",
              "42  GRP_27                18\n",
              "43  GRP_37                16\n",
              "44  GRP_44                15\n",
              "45  GRP_36                15\n",
              "46  GRP_50                14\n",
              "47  GRP_65                11\n",
              "48  GRP_53                11\n",
              "49  GRP_52                 9\n",
              "50  GRP_55                 8\n",
              "51  GRP_51                 8\n",
              "52  GRP_46                 6\n",
              "53  GRP_59                 6\n",
              "54  GRP_49                 6\n",
              "55  GRP_43                 5\n",
              "56  GRP_66                 4\n",
              "57  GRP_32                 4\n",
              "58  GRP_56                 3\n",
              "59  GRP_58                 3\n",
              "60  GRP_38                 3\n",
              "61  GRP_63                 3\n",
              "62  GRP_68                 3\n",
              "63  GRP_72                 2\n",
              "64  GRP_57                 2\n",
              "65  GRP_69                 2\n",
              "66  GRP_54                 2\n",
              "67  GRP_71                 2\n",
              "68  GRP_70                 1\n",
              "69  GRP_61                 1\n",
              "70  GRP_73                 1\n",
              "71  GRP_64                 1\n",
              "72  GRP_35                 1\n",
              "73  GRP_67                 1"
            ]
          },
          "metadata": {
            "tags": []
          },
          "execution_count": 26
        }
      ]
    },
    {
      "cell_type": "code",
      "metadata": {
        "id": "2y-Tsu2_N0iU",
        "colab": {
          "base_uri": "https://localhost:8080/",
          "height": 1000
        },
        "outputId": "b0d94be9-4dd5-4b46-fcab-fad7e318e734"
      },
      "source": [
        "df_bot_assg = df_large_grp[df_large_grp[\"Assignment group\"]<30]\n",
        "df_bot_assg"
      ],
      "execution_count": 27,
      "outputs": [
        {
          "output_type": "execute_result",
          "data": {
            "text/html": [
              "<div>\n",
              "<style scoped>\n",
              "    .dataframe tbody tr th:only-of-type {\n",
              "        vertical-align: middle;\n",
              "    }\n",
              "\n",
              "    .dataframe tbody tr th {\n",
              "        vertical-align: top;\n",
              "    }\n",
              "\n",
              "    .dataframe thead th {\n",
              "        text-align: right;\n",
              "    }\n",
              "</style>\n",
              "<table border=\"1\" class=\"dataframe\">\n",
              "  <thead>\n",
              "    <tr style=\"text-align: right;\">\n",
              "      <th></th>\n",
              "      <th>index</th>\n",
              "      <th>Assignment group</th>\n",
              "    </tr>\n",
              "  </thead>\n",
              "  <tbody>\n",
              "    <tr>\n",
              "      <th>35</th>\n",
              "      <td>GRP_21</td>\n",
              "      <td>29</td>\n",
              "    </tr>\n",
              "    <tr>\n",
              "      <th>36</th>\n",
              "      <td>GRP_47</td>\n",
              "      <td>27</td>\n",
              "    </tr>\n",
              "    <tr>\n",
              "      <th>37</th>\n",
              "      <td>GRP_48</td>\n",
              "      <td>25</td>\n",
              "    </tr>\n",
              "    <tr>\n",
              "      <th>38</th>\n",
              "      <td>GRP_23</td>\n",
              "      <td>25</td>\n",
              "    </tr>\n",
              "    <tr>\n",
              "      <th>39</th>\n",
              "      <td>GRP_62</td>\n",
              "      <td>25</td>\n",
              "    </tr>\n",
              "    <tr>\n",
              "      <th>40</th>\n",
              "      <td>GRP_60</td>\n",
              "      <td>20</td>\n",
              "    </tr>\n",
              "    <tr>\n",
              "      <th>41</th>\n",
              "      <td>GRP_39</td>\n",
              "      <td>19</td>\n",
              "    </tr>\n",
              "    <tr>\n",
              "      <th>42</th>\n",
              "      <td>GRP_27</td>\n",
              "      <td>18</td>\n",
              "    </tr>\n",
              "    <tr>\n",
              "      <th>43</th>\n",
              "      <td>GRP_37</td>\n",
              "      <td>16</td>\n",
              "    </tr>\n",
              "    <tr>\n",
              "      <th>44</th>\n",
              "      <td>GRP_44</td>\n",
              "      <td>15</td>\n",
              "    </tr>\n",
              "    <tr>\n",
              "      <th>45</th>\n",
              "      <td>GRP_36</td>\n",
              "      <td>15</td>\n",
              "    </tr>\n",
              "    <tr>\n",
              "      <th>46</th>\n",
              "      <td>GRP_50</td>\n",
              "      <td>14</td>\n",
              "    </tr>\n",
              "    <tr>\n",
              "      <th>47</th>\n",
              "      <td>GRP_65</td>\n",
              "      <td>11</td>\n",
              "    </tr>\n",
              "    <tr>\n",
              "      <th>48</th>\n",
              "      <td>GRP_53</td>\n",
              "      <td>11</td>\n",
              "    </tr>\n",
              "    <tr>\n",
              "      <th>49</th>\n",
              "      <td>GRP_52</td>\n",
              "      <td>9</td>\n",
              "    </tr>\n",
              "    <tr>\n",
              "      <th>50</th>\n",
              "      <td>GRP_55</td>\n",
              "      <td>8</td>\n",
              "    </tr>\n",
              "    <tr>\n",
              "      <th>51</th>\n",
              "      <td>GRP_51</td>\n",
              "      <td>8</td>\n",
              "    </tr>\n",
              "    <tr>\n",
              "      <th>52</th>\n",
              "      <td>GRP_46</td>\n",
              "      <td>6</td>\n",
              "    </tr>\n",
              "    <tr>\n",
              "      <th>53</th>\n",
              "      <td>GRP_59</td>\n",
              "      <td>6</td>\n",
              "    </tr>\n",
              "    <tr>\n",
              "      <th>54</th>\n",
              "      <td>GRP_49</td>\n",
              "      <td>6</td>\n",
              "    </tr>\n",
              "    <tr>\n",
              "      <th>55</th>\n",
              "      <td>GRP_43</td>\n",
              "      <td>5</td>\n",
              "    </tr>\n",
              "    <tr>\n",
              "      <th>56</th>\n",
              "      <td>GRP_66</td>\n",
              "      <td>4</td>\n",
              "    </tr>\n",
              "    <tr>\n",
              "      <th>57</th>\n",
              "      <td>GRP_32</td>\n",
              "      <td>4</td>\n",
              "    </tr>\n",
              "    <tr>\n",
              "      <th>58</th>\n",
              "      <td>GRP_56</td>\n",
              "      <td>3</td>\n",
              "    </tr>\n",
              "    <tr>\n",
              "      <th>59</th>\n",
              "      <td>GRP_58</td>\n",
              "      <td>3</td>\n",
              "    </tr>\n",
              "    <tr>\n",
              "      <th>60</th>\n",
              "      <td>GRP_38</td>\n",
              "      <td>3</td>\n",
              "    </tr>\n",
              "    <tr>\n",
              "      <th>61</th>\n",
              "      <td>GRP_63</td>\n",
              "      <td>3</td>\n",
              "    </tr>\n",
              "    <tr>\n",
              "      <th>62</th>\n",
              "      <td>GRP_68</td>\n",
              "      <td>3</td>\n",
              "    </tr>\n",
              "    <tr>\n",
              "      <th>63</th>\n",
              "      <td>GRP_72</td>\n",
              "      <td>2</td>\n",
              "    </tr>\n",
              "    <tr>\n",
              "      <th>64</th>\n",
              "      <td>GRP_57</td>\n",
              "      <td>2</td>\n",
              "    </tr>\n",
              "    <tr>\n",
              "      <th>65</th>\n",
              "      <td>GRP_69</td>\n",
              "      <td>2</td>\n",
              "    </tr>\n",
              "    <tr>\n",
              "      <th>66</th>\n",
              "      <td>GRP_54</td>\n",
              "      <td>2</td>\n",
              "    </tr>\n",
              "    <tr>\n",
              "      <th>67</th>\n",
              "      <td>GRP_71</td>\n",
              "      <td>2</td>\n",
              "    </tr>\n",
              "    <tr>\n",
              "      <th>68</th>\n",
              "      <td>GRP_70</td>\n",
              "      <td>1</td>\n",
              "    </tr>\n",
              "    <tr>\n",
              "      <th>69</th>\n",
              "      <td>GRP_61</td>\n",
              "      <td>1</td>\n",
              "    </tr>\n",
              "    <tr>\n",
              "      <th>70</th>\n",
              "      <td>GRP_73</td>\n",
              "      <td>1</td>\n",
              "    </tr>\n",
              "    <tr>\n",
              "      <th>71</th>\n",
              "      <td>GRP_64</td>\n",
              "      <td>1</td>\n",
              "    </tr>\n",
              "    <tr>\n",
              "      <th>72</th>\n",
              "      <td>GRP_35</td>\n",
              "      <td>1</td>\n",
              "    </tr>\n",
              "    <tr>\n",
              "      <th>73</th>\n",
              "      <td>GRP_67</td>\n",
              "      <td>1</td>\n",
              "    </tr>\n",
              "  </tbody>\n",
              "</table>\n",
              "</div>"
            ],
            "text/plain": [
              "     index  Assignment group\n",
              "35  GRP_21                29\n",
              "36  GRP_47                27\n",
              "37  GRP_48                25\n",
              "38  GRP_23                25\n",
              "39  GRP_62                25\n",
              "40  GRP_60                20\n",
              "41  GRP_39                19\n",
              "42  GRP_27                18\n",
              "43  GRP_37                16\n",
              "44  GRP_44                15\n",
              "45  GRP_36                15\n",
              "46  GRP_50                14\n",
              "47  GRP_65                11\n",
              "48  GRP_53                11\n",
              "49  GRP_52                 9\n",
              "50  GRP_55                 8\n",
              "51  GRP_51                 8\n",
              "52  GRP_46                 6\n",
              "53  GRP_59                 6\n",
              "54  GRP_49                 6\n",
              "55  GRP_43                 5\n",
              "56  GRP_66                 4\n",
              "57  GRP_32                 4\n",
              "58  GRP_56                 3\n",
              "59  GRP_58                 3\n",
              "60  GRP_38                 3\n",
              "61  GRP_63                 3\n",
              "62  GRP_68                 3\n",
              "63  GRP_72                 2\n",
              "64  GRP_57                 2\n",
              "65  GRP_69                 2\n",
              "66  GRP_54                 2\n",
              "67  GRP_71                 2\n",
              "68  GRP_70                 1\n",
              "69  GRP_61                 1\n",
              "70  GRP_73                 1\n",
              "71  GRP_64                 1\n",
              "72  GRP_35                 1\n",
              "73  GRP_67                 1"
            ]
          },
          "metadata": {
            "tags": []
          },
          "execution_count": 27
        }
      ]
    },
    {
      "cell_type": "code",
      "metadata": {
        "id": "Ce58DZ33N2OJ",
        "colab": {
          "base_uri": "https://localhost:8080/",
          "height": 437
        },
        "outputId": "c56eb61a-8296-4a92-fcb4-bab24ab898f1"
      },
      "source": [
        "plt.figure(figsize=(12,6))\n",
        "bars = plt.bar(df_bot_assg['index'],df_bot_assg['Assignment group'])\n",
        "plt.title('Assignment group with tickets less than 30')\n",
        "plt.xlabel('Assignment Group')\n",
        "plt.xticks(rotation=90)\n",
        "plt.ylabel('Number of Tickets')\n",
        "for bar in bars:\n",
        "    yval = bar.get_height()\n",
        "    plt.text(bar.get_x(), yval + .005, yval)\n",
        "plt.tight_layout()\n",
        "plt.show()"
      ],
      "execution_count": 28,
      "outputs": [
        {
          "output_type": "display_data",
          "data": {
            "image/png": "[encoded data removed]",
            "text/plain": [
              "<Figure size 864x432 with 1 Axes>"
            ]
          },
          "metadata": {
            "tags": []
          }
        }
      ]
    },
    {
      "cell_type": "code",
      "metadata": {
        "id": "ZZaNCaUY_pj1",
        "colab": {
          "base_uri": "https://localhost:8080/",
          "height": 204
        },
        "outputId": "ba8800ef-5914-4b2d-bfc3-51e67efc5f9c"
      },
      "source": [
        "df_assg = ticket_data['Assignment group'].value_counts().reset_index()\r\n",
        "df_assg['percentage'] = (df_assg['Assignment group']/df_assg['Assignment group'].sum())*100\r\n",
        "df_assg.head()"
      ],
      "execution_count": 29,
      "outputs": [
        {
          "output_type": "execute_result",
          "data": {
            "text/html": [
              "<div>\n",
              "<style scoped>\n",
              "    .dataframe tbody tr th:only-of-type {\n",
              "        vertical-align: middle;\n",
              "    }\n",
              "\n",
              "    .dataframe tbody tr th {\n",
              "        vertical-align: top;\n",
              "    }\n",
              "\n",
              "    .dataframe thead th {\n",
              "        text-align: right;\n",
              "    }\n",
              "</style>\n",
              "<table border=\"1\" class=\"dataframe\">\n",
              "  <thead>\n",
              "    <tr style=\"text-align: right;\">\n",
              "      <th></th>\n",
              "      <th>index</th>\n",
              "      <th>Assignment group</th>\n",
              "      <th>percentage</th>\n",
              "    </tr>\n",
              "  </thead>\n",
              "  <tbody>\n",
              "    <tr>\n",
              "      <th>0</th>\n",
              "      <td>GRP_0</td>\n",
              "      <td>3976</td>\n",
              "      <td>46.776471</td>\n",
              "    </tr>\n",
              "    <tr>\n",
              "      <th>1</th>\n",
              "      <td>GRP_8</td>\n",
              "      <td>661</td>\n",
              "      <td>7.776471</td>\n",
              "    </tr>\n",
              "    <tr>\n",
              "      <th>2</th>\n",
              "      <td>GRP_24</td>\n",
              "      <td>289</td>\n",
              "      <td>3.400000</td>\n",
              "    </tr>\n",
              "    <tr>\n",
              "      <th>3</th>\n",
              "      <td>GRP_12</td>\n",
              "      <td>257</td>\n",
              "      <td>3.023529</td>\n",
              "    </tr>\n",
              "    <tr>\n",
              "      <th>4</th>\n",
              "      <td>GRP_9</td>\n",
              "      <td>252</td>\n",
              "      <td>2.964706</td>\n",
              "    </tr>\n",
              "  </tbody>\n",
              "</table>\n",
              "</div>"
            ],
            "text/plain": [
              "    index  Assignment group  percentage\n",
              "0   GRP_0              3976   46.776471\n",
              "1   GRP_8               661    7.776471\n",
              "2  GRP_24               289    3.400000\n",
              "3  GRP_12               257    3.023529\n",
              "4   GRP_9               252    2.964706"
            ]
          },
          "metadata": {
            "tags": []
          },
          "execution_count": 29
        }
      ]
    },
    {
      "cell_type": "code",
      "metadata": {
        "id": "LQHy7WYcPc8q",
        "colab": {
          "base_uri": "https://localhost:8080/",
          "height": 266
        },
        "outputId": "70ca0093-f6be-4c0c-a22d-6a14df6d3ac3"
      },
      "source": [
        "df_tickets = pd.DataFrame(columns=['Description','Ticket Count'])\n",
        "one_ticket = {'Description':'1','Ticket Count':len(df_assg[df_assg['Assignment group'] < 2])}\n",
        "_2_5_ticket = {'Description':'2-5',\n",
        "              'Ticket Count':len(df_assg[(df_assg['Assignment group'] > 1)& (df_assg['Assignment group'] < 6) ])}\n",
        "_10_ticket = {'Description':' 6-10',\n",
        "              'Ticket Count':len(df_assg[(df_assg['Assignment group'] > 5)& (df_assg['Assignment group'] < 11)])}\n",
        "_10_20_ticket = {'Description':' 11-20',\n",
        "              'Ticket Count':len(df_assg[(df_assg['Assignment group'] > 10)& (df_assg['Assignment group'] < 21)])}\n",
        "_20_50_ticket = {'Description':' 21-50',\n",
        "              'Ticket Count':len(df_assg[(df_assg['Assignment group'] > 20)& (df_assg['Assignment group'] < 51)])}\n",
        "_51_100_ticket = {'Description':' 51-100',\n",
        "              'Ticket Count':len(df_assg[(df_assg['Assignment group'] > 50)& (df_assg['Assignment group'] < 101)])}\n",
        "_100_ticket = {'Description':' >100',\n",
        "              'Ticket Count':len(df_assg[(df_assg['Assignment group'] > 100)])}\n",
        "#append row to the dataframe\n",
        "df_tickets = df_tickets.append([one_ticket,_2_5_ticket,_10_ticket,\n",
        "                          _10_20_ticket,_20_50_ticket,_51_100_ticket,_100_ticket], ignore_index=True)\n",
        "\n",
        "df_tickets"
      ],
      "execution_count": 30,
      "outputs": [
        {
          "output_type": "execute_result",
          "data": {
            "text/html": [
              "<div>\n",
              "<style scoped>\n",
              "    .dataframe tbody tr th:only-of-type {\n",
              "        vertical-align: middle;\n",
              "    }\n",
              "\n",
              "    .dataframe tbody tr th {\n",
              "        vertical-align: top;\n",
              "    }\n",
              "\n",
              "    .dataframe thead th {\n",
              "        text-align: right;\n",
              "    }\n",
              "</style>\n",
              "<table border=\"1\" class=\"dataframe\">\n",
              "  <thead>\n",
              "    <tr style=\"text-align: right;\">\n",
              "      <th></th>\n",
              "      <th>Description</th>\n",
              "      <th>Ticket Count</th>\n",
              "    </tr>\n",
              "  </thead>\n",
              "  <tbody>\n",
              "    <tr>\n",
              "      <th>0</th>\n",
              "      <td>1</td>\n",
              "      <td>6</td>\n",
              "    </tr>\n",
              "    <tr>\n",
              "      <th>1</th>\n",
              "      <td>2-5</td>\n",
              "      <td>13</td>\n",
              "    </tr>\n",
              "    <tr>\n",
              "      <th>2</th>\n",
              "      <td>6-10</td>\n",
              "      <td>6</td>\n",
              "    </tr>\n",
              "    <tr>\n",
              "      <th>3</th>\n",
              "      <td>11-20</td>\n",
              "      <td>9</td>\n",
              "    </tr>\n",
              "    <tr>\n",
              "      <th>4</th>\n",
              "      <td>21-50</td>\n",
              "      <td>16</td>\n",
              "    </tr>\n",
              "    <tr>\n",
              "      <th>5</th>\n",
              "      <td>51-100</td>\n",
              "      <td>9</td>\n",
              "    </tr>\n",
              "    <tr>\n",
              "      <th>6</th>\n",
              "      <td>&gt;100</td>\n",
              "      <td>15</td>\n",
              "    </tr>\n",
              "  </tbody>\n",
              "</table>\n",
              "</div>"
            ],
            "text/plain": [
              "  Description Ticket Count\n",
              "0           1            6\n",
              "1         2-5           13\n",
              "2        6-10            6\n",
              "3       11-20            9\n",
              "4       21-50           16\n",
              "5      51-100            9\n",
              "6        >100           15"
            ]
          },
          "metadata": {
            "tags": []
          },
          "execution_count": 30
        }
      ]
    },
    {
      "cell_type": "code",
      "metadata": {
        "id": "wXwo2grYQAhk",
        "colab": {
          "base_uri": "https://localhost:8080/",
          "height": 550
        },
        "outputId": "d0252b62-1ac5-4375-8dc5-57ff90ac8814"
      },
      "source": [
        "plt.figure(figsize=(10, 8))\n",
        "plt.pie(df_tickets['Ticket Count'],labels=df_tickets['Description'],autopct='%1.1f%%', startangle=15, shadow = True);\n",
        "plt.title('Assignment Groups Distribution')\n",
        "plt.axis('equal')"
      ],
      "execution_count": 31,
      "outputs": [
        {
          "output_type": "execute_result",
          "data": {
            "text/plain": [
              "(-1.1019890551483629,\n",
              " 1.1224353061977401,\n",
              " -1.1079626168723997,\n",
              " 1.1159579389457492)"
            ]
          },
          "metadata": {
            "tags": []
          },
          "execution_count": 31
        },
        {
          "output_type": "display_data",
          "data": {
            "image/png": "[encoded data removed]",
            "text/plain": [
              "<Figure size 720x576 with 1 Axes>"
            ]
          },
          "metadata": {
            "tags": []
          }
        }
      ]
    },
    {
      "cell_type": "code",
      "metadata": {
        "id": "omvC15x2QG5v",
        "colab": {
          "base_uri": "https://localhost:8080/",
          "height": 49
        },
        "outputId": "bbee8402-86b7-4ad9-a42c-afd5e11dadfd"
      },
      "source": [
        "ticket_data[ticket_data['Short description'].isnull()]"
      ],
      "execution_count": 32,
      "outputs": [
        {
          "output_type": "execute_result",
          "data": {
            "text/html": [
              "<div>\n",
              "<style scoped>\n",
              "    .dataframe tbody tr th:only-of-type {\n",
              "        vertical-align: middle;\n",
              "    }\n",
              "\n",
              "    .dataframe tbody tr th {\n",
              "        vertical-align: top;\n",
              "    }\n",
              "\n",
              "    .dataframe thead th {\n",
              "        text-align: right;\n",
              "    }\n",
              "</style>\n",
              "<table border=\"1\" class=\"dataframe\">\n",
              "  <thead>\n",
              "    <tr style=\"text-align: right;\">\n",
              "      <th></th>\n",
              "      <th>Short description</th>\n",
              "      <th>Description</th>\n",
              "      <th>Caller</th>\n",
              "      <th>Assignment group</th>\n",
              "    </tr>\n",
              "  </thead>\n",
              "  <tbody>\n",
              "  </tbody>\n",
              "</table>\n",
              "</div>"
            ],
            "text/plain": [
              "Empty DataFrame\n",
              "Columns: [Short description, Description, Caller, Assignment group]\n",
              "Index: []"
            ]
          },
          "metadata": {
            "tags": []
          },
          "execution_count": 32
        }
      ]
    },
    {
      "cell_type": "code",
      "metadata": {
        "id": "i1zNPIqGQLHR",
        "colab": {
          "base_uri": "https://localhost:8080/",
          "height": 49
        },
        "outputId": "1e8e1555-1468-4e4e-b7e4-155eec223c4a"
      },
      "source": [
        "ticket_data[ticket_data['Description'].isnull()]"
      ],
      "execution_count": 33,
      "outputs": [
        {
          "output_type": "execute_result",
          "data": {
            "text/html": [
              "<div>\n",
              "<style scoped>\n",
              "    .dataframe tbody tr th:only-of-type {\n",
              "        vertical-align: middle;\n",
              "    }\n",
              "\n",
              "    .dataframe tbody tr th {\n",
              "        vertical-align: top;\n",
              "    }\n",
              "\n",
              "    .dataframe thead th {\n",
              "        text-align: right;\n",
              "    }\n",
              "</style>\n",
              "<table border=\"1\" class=\"dataframe\">\n",
              "  <thead>\n",
              "    <tr style=\"text-align: right;\">\n",
              "      <th></th>\n",
              "      <th>Short description</th>\n",
              "      <th>Description</th>\n",
              "      <th>Caller</th>\n",
              "      <th>Assignment group</th>\n",
              "    </tr>\n",
              "  </thead>\n",
              "  <tbody>\n",
              "  </tbody>\n",
              "</table>\n",
              "</div>"
            ],
            "text/plain": [
              "Empty DataFrame\n",
              "Columns: [Short description, Description, Caller, Assignment group]\n",
              "Index: []"
            ]
          },
          "metadata": {
            "tags": []
          },
          "execution_count": 33
        }
      ]
    },
    {
      "cell_type": "markdown",
      "metadata": {
        "id": "ozH-YaiOjRLc"
      },
      "source": [
        "## Begin Data Cleaning"
      ]
    },
    {
      "cell_type": "markdown",
      "metadata": {
        "id": "qBMtyLPwjRFg"
      },
      "source": [
        "### Replacing NaN"
      ]
    },
    {
      "cell_type": "code",
      "metadata": {
        "id": "9-SpMzDvQZkM"
      },
      "source": [
        "#Replace NaN values in Short Description and Description columns\n",
        "ticket_data['Short description'] = ticket_data['Short description'].replace(np.nan, '', regex=True)\n",
        "ticket_data['Description'] = ticket_data['Description'].replace(np.nan, '', regex=True)"
      ],
      "execution_count": 34,
      "outputs": []
    },
    {
      "cell_type": "markdown",
      "metadata": {
        "id": "1ufXNJhHjYhL"
      },
      "source": [
        "### Decoding the data"
      ]
    },
    {
      "cell_type": "code",
      "metadata": {
        "id": "qDKj9B3eQl_C"
      },
      "source": [
        "#Lets encode the string, to make it easier to be passed to language detection api.\n",
        "#THIS IS USELESS AND COUNTERPRODUCTIVE. COMMENTED\n",
        "#def fn_decode_to_ascii(df):\n",
        "#  text = df.encode().decode('utf-8').encode('ascii', 'ignore')\n",
        "#  return text.decode(\"utf-8\") "
      ],
      "execution_count": 35,
      "outputs": []
    },
    {
      "cell_type": "markdown",
      "metadata": {
        "id": "m_gB5r9IjcoN"
      },
      "source": [
        "### Prepping potential boilerplate text for removal"
      ]
    },
    {
      "cell_type": "code",
      "metadata": {
        "id": "2cmcq-dBm6Iy"
      },
      "source": [
        "#As different lines are of different length. We need to pad the our sequences using the max length\n",
        "contractions = { \n",
        "\"ain't\": \"am not / are not / is not / has not / have not\",\n",
        "\"aren't\": \"are not / am not\",\n",
        "\"can't\": \"cannot\",\n",
        "\"can't've\": \"cannot have\",\n",
        "\"'cause\": \"because\",\n",
        "\"could've\": \"could have\",\n",
        "\"couldn't\": \"could not\",\n",
        "\"couldn't've\": \"could not have\",\n",
        "\"didn't\": \"did not\",\n",
        "\"doesn't\": \"does not\",\n",
        "\"don't\": \"do not\",\n",
        "\"hadn't\": \"had not\",\n",
        "\"hadn't've\": \"had not have\",\n",
        "\"hasn't\": \"has not\",\n",
        "\"haven't\": \"have not\",\n",
        "\"he'd\": \"he had / he would\",\n",
        "\"he'd've\": \"he would have\",\n",
        "\"he'll\": \"he shall / he will\",\n",
        "\"he'll've\": \"he shall have / he will have\",\n",
        "\"he's\": \"he has / he is\",\n",
        "\"how'd\": \"how did\",\n",
        "\"how'd'y\": \"how do you\",\n",
        "\"how'll\": \"how will\",\n",
        "\"how's\": \"how has / how is / how does\",\n",
        "\"I'd\": \"I had / I would\",\n",
        "\"I'd've\": \"I would have\",\n",
        "\"I'll\": \"I shall / I will\",\n",
        "\"I'll've\": \"I shall have / I will have\",\n",
        "\"I'm\": \"I am\",\n",
        "\"I've\": \"I have\",\n",
        "\"isn't\": \"is not\",\n",
        "\"it'd\": \"it had / it would\",\n",
        "\"it'd've\": \"it would have\",\n",
        "\"it'll\": \"it shall / it will\",\n",
        "\"it'll've\": \"it shall have / it will have\",\n",
        "\"it's\": \"it has / it is\",\n",
        "\"let's\": \"let us\",\n",
        "\"ma'am\": \"madam\",\n",
        "\"mayn't\": \"may not\",\n",
        "\"might've\": \"might have\",\n",
        "\"mightn't\": \"might not\",\n",
        "\"mightn't've\": \"might not have\",\n",
        "\"must've\": \"must have\",\n",
        "\"mustn't\": \"must not\",\n",
        "\"mustn't've\": \"must not have\",\n",
        "\"needn't\": \"need not\",\n",
        "\"needn't've\": \"need not have\",\n",
        "\"o'clock\": \"of the clock\",\n",
        "\"oughtn't\": \"ought not\",\n",
        "\"oughtn't've\": \"ought not have\",\n",
        "\"shan't\": \"shall not\",\n",
        "\"sha'n't\": \"shall not\",\n",
        "\"shan't've\": \"shall not have\",\n",
        "\"she'd\": \"she had / she would\",\n",
        "\"she'd've\": \"she would have\",\n",
        "\"she'll\": \"she shall / she will\",\n",
        "\"she'll've\": \"she shall have / she will have\",\n",
        "\"she's\": \"she has / she is\",\n",
        "\"should've\": \"should have\",\n",
        "\"shouldn't\": \"should not\",\n",
        "\"shouldn't've\": \"should not have\",\n",
        "\"so've\": \"so have\",\n",
        "\"so's\": \"so as / so is\",\n",
        "\"that'd\": \"that would / that had\",\n",
        "\"that'd've\": \"that would have\",\n",
        "\"that's\": \"that has / that is\",\n",
        "\"there'd\": \"there had / there would\",\n",
        "\"there'd've\": \"there would have\",\n",
        "\"there's\": \"there has / there is\",\n",
        "\"they'd\": \"they had / they would\",\n",
        "\"they'd've\": \"they would have\",\n",
        "\"they'll\": \"they shall / they will\",\n",
        "\"they'll've\": \"they shall have / they will have\",\n",
        "\"they're\": \"they are\",\n",
        "\"they've\": \"they have\",\n",
        "\"to've\": \"to have\",\n",
        "\"wasn't\": \"was not\",\n",
        "\"we'd\": \"we had / we would\",\n",
        "\"we'd've\": \"we would have\",\n",
        "\"we'll\": \"we will\",\n",
        "\"we'll've\": \"we will have\",\n",
        "\"we're\": \"we are\",\n",
        "\"we've\": \"we have\",\n",
        "\"weren't\": \"were not\",\n",
        "\"what'll\": \"what shall / what will\",\n",
        "\"what'll've\": \"what shall have / what will have\",\n",
        "\"what're\": \"what are\",\n",
        "\"what's\": \"what has / what is\",\n",
        "\"what've\": \"what have\",\n",
        "\"when's\": \"when has / when is\",\n",
        "\"when've\": \"when have\",\n",
        "\"where'd\": \"where did\",\n",
        "\"where's\": \"where has / where is\",\n",
        "\"where've\": \"where have\",\n",
        "\"who'll\": \"who shall / who will\",\n",
        "\"who'll've\": \"who shall have / who will have\",\n",
        "\"who's\": \"who has / who is\",\n",
        "\"who've\": \"who have\",\n",
        "\"why's\": \"why has / why is\",\n",
        "\"why've\": \"why have\",\n",
        "\"will've\": \"will have\",\n",
        "\"won't\": \"will not\",\n",
        "\"won't've\": \"will not have\",\n",
        "\"would've\": \"would have\",\n",
        "\"wouldn't\": \"would not\",\n",
        "\"wouldn't've\": \"would not have\",\n",
        "\"y'all\": \"you all\",\n",
        "\"y'all'd\": \"you all would\",\n",
        "\"y'all'd've\": \"you all would have\",\n",
        "\"y'all're\": \"you all are\",\n",
        "\"y'all've\": \"you all have\",\n",
        "\"you'd\": \"you had / you would\",\n",
        "\"you'd've\": \"you would have\",\n",
        "\"you'll\": \"you shall / you will\",\n",
        "\"you'll've\": \"you shall have / you will have\",\n",
        "\"you're\": \"you are\",\n",
        "\"you've\": \"you have\"\n",
        "}"
      ],
      "execution_count": 36,
      "outputs": []
    },
    {
      "cell_type": "markdown",
      "metadata": {
        "id": "JnI-XmtjJeJD"
      },
      "source": [
        "## Cleaning the encoding"
      ]
    },
    {
      "cell_type": "code",
      "metadata": {
        "id": "yhp4wK31903c"
      },
      "source": [
        "#ticket_data['Description'] = ticket_data['Description'].apply(fn_decode_to_ascii)\r\n",
        "#ticket_data['Short description'] = ticket_data['Short description'].apply(fn_decode_to_ascii)\r\n",
        "ftfy_ShortDescription = []\r\n",
        "for Short_Description in ticket_data['Short description']:\r\n",
        "  ftfy_ShortDescription.append(fix_text(Short_Description))\r\n",
        "ticket_data['Short description']= ftfy_ShortDescription\r\n",
        "ftfy_Description = []\r\n",
        "for Description in ticket_data['Description']:\r\n",
        "  ftfy_Description.append(fix_text(Description))\r\n",
        "ticket_data['Description']= ftfy_Description"
      ],
      "execution_count": 37,
      "outputs": []
    },
    {
      "cell_type": "code",
      "metadata": {
        "id": "Ci0-WWmE9KPh"
      },
      "source": [
        "svc_domains = ['.com','.com.au','.com.ar','.co.kr','.co.in','.co.jp','.at','.de','.ru','.ch','.fr','.es','.ae']\r\n",
        "svc_urls = ['http://translate.google' + domain for domain in svc_domains]"
      ],
      "execution_count": 38,
      "outputs": []
    },
    {
      "cell_type": "markdown",
      "metadata": {
        "id": "kOYu29zjjgwV"
      },
      "source": [
        "### Defining Translation functions"
      ]
    },
    {
      "cell_type": "code",
      "metadata": {
        "id": "xhMeOyYd5HVu"
      },
      "source": [
        "translator = Translator(service_urls=[\n",
        "      'translate.google.com'\n",
        "    ])\n",
        "\n",
        "##Translating word by word using Google and MyMemory\n",
        "def translate_word_by_word(sentence):\n",
        "  words = sentence.split(\" \")\n",
        "  new_words = []\n",
        "  for word in words:\n",
        "    lang = detect(word)\n",
        "    translator = Translator(provider='translate.google.com', to_lang=\"en\", from_lang = lang, secret_access_key=None)\n",
        "    new_word = translator.translate(word)\n",
        "    new_words.append(new_word)\n",
        "  return \" \".join(new_words)\n",
        "\n",
        "def get_lang(para):\n",
        "  para = para.strip()\n",
        "  if para == \"\":\n",
        "    return \"en\"\n",
        "  lang = \"en\"\n",
        "  attempts = 0\n",
        "  while attempts < 2:\n",
        "    try:\n",
        "      lang = translator.detect(para).lang\n",
        "      break\n",
        "    except:\n",
        "      attempts = attempts + 1\n",
        "      time.sleep(1)\n",
        "  if lang == \"\":\n",
        "    lang = \"en\"\n",
        "  return lang\n",
        "\n",
        "## translating using googletranslate\n",
        "def translate_sentence(para, lang, num):\n",
        "  para = para.strip()\n",
        "  if para == \"\":\n",
        "    return para\n",
        "  attempts = 0\n",
        "  while attempts < 3:\n",
        "    try:\n",
        "      if lang != \"en\":\n",
        "        translated_text = translator.translate(str(para), src = lang, dest = \"en\").text\n",
        "        return translated_text\n",
        "      else:\n",
        "        return para\n",
        "    except: \n",
        "      time.sleep(1) #adding a wait\n",
        "      attempts = attempts + 1\n",
        "\n",
        "  print(\"failed\", \" \", lang, \" \", num)\n",
        "  return para\n",
        "\n",
        "def translate_sentence_no_wait(para, lang, num):\n",
        "  para = para.strip()\n",
        "  if para == \"\":\n",
        "    return para\n",
        "  try:\n",
        "    if lang != \"en\":\n",
        "      translated_text = translator.translate(para, src = lang, dest = \"en\").text\n",
        "      return translated_text\n",
        "    else:\n",
        "      return (para)\n",
        "  except: \n",
        "    print(\"failed\", \" \", lang, \" \", num)\n",
        "  return para"
      ],
      "execution_count": 39,
      "outputs": []
    },
    {
      "cell_type": "markdown",
      "metadata": {
        "id": "PnKdnHjzjugu"
      },
      "source": [
        "### Function for cleaning data"
      ]
    },
    {
      "cell_type": "code",
      "metadata": {
        "id": "bSGtwrpxq_gW"
      },
      "source": [
        "max_features = 10000\n",
        "MAX_LENGTH = 303\n",
        "\n",
        "def clean_text(text):\n",
        "    if text != \"\":\n",
        "      text = str(text)\n",
        "      text = re.sub(r'\\<a href', ' ', text)\n",
        "      #print(\"1\", text)\n",
        "      text = re.sub(r'&amp;', '', text)\n",
        "      #print(\"2\", text)\n",
        "      text = re.sub(r'<br />', ' ', text)    \n",
        "      #print(\"3\", text)\n",
        "      text = re.sub(r'\\S+@\\S+', '', text)\n",
        "      #print(\"4\", text)\n",
        "      text = re.sub(r'\\d+','' ,text)\n",
        "      text = re.sub(r'#','', text)\n",
        "      #print(\"5\", text)\n",
        "      text = re.sub(r'&;?', 'and',text)\n",
        "      #print(\"6\", text)\n",
        "      text = re.sub(r'\\&\\w*;', '', text)\n",
        "      #print(\"7\", text)\n",
        "      text = re.sub(r'https?:\\/\\/.*\\/\\w*', '', text)\n",
        "      #print(\"8\", text)\n",
        "      custom_punctuation='!\"#$%&\\'()*+,-./:;<=>?@[\\\\]^`{|}~'\n",
        "      #print(\"9\", text)\n",
        "      #text = re.sub(r'\\w*\\d\\w*', '', text)\n",
        "      text = re.sub(r'\\[.*?\\]', '', text)\n",
        "      #print(\"10\", text)\n",
        "      text = re.sub(r'https?://\\S+|www\\.\\S+', '', text)\n",
        "      #print(\"11\", text)\n",
        "      text = re.sub(r'<.*?>+', '', text)\n",
        "      #print(\"12\", text)\n",
        "      text= ''.join(c for c in text if c <= '\\uFFFF') \n",
        "      #print(\"13\", text)\n",
        "      text = text.strip()      \n",
        "      #print(\"14\", text)\n",
        "      text = re.sub(r'[%s]' % re.escape(string.punctuation), ' ', text)\n",
        "      #print(\"15\", text)\n",
        "      text = re.sub(\" \\d+\", \"\", text)\n",
        "      text = re.sub(\"\\d+\", \"\", text)\n",
        "      #print(\"16\", text)\n",
        "      #text = ' '.join(re.sub(\"[^\\u0030-\\u0039\\u0041-\\u005a\\u0061-\\u007a]\", \" \", text).split())\n",
        "      text = re.sub(r'\\r\\n', ' ', text)\n",
        "      #print(\"17\", text)\n",
        "      text = re.sub(r'\\n', ' ', text)\n",
        "      #print(\"18\", text)\n",
        "      text = re.sub(r'\\S+@\\S+', '', text)\n",
        "      #print(\"19\", text)\n",
        "      text = re.sub(r'_', ' ', text)\n",
        "      #print(\"20\", text)\n",
        "      text = re.sub(r'\\\\', ' ', text)\n",
        "      text = re.sub(r'/', ' ', text)\n",
        "      text = re.sub(r'please specify what type of outage', '', text)\n",
        "      text = re.sub(r'what type of outage', '', text)\n",
        "      text = re.sub(r'yes no na', '', text)\n",
        "      text = re.sub(r'received from', '', text)\n",
        "      text = re.sub(r'failed in job scheduler', '', text)\n",
        "      text = text.lower()\n",
        "    return text"
      ],
      "execution_count": 40,
      "outputs": []
    },
    {
      "cell_type": "markdown",
      "metadata": {
        "id": "8Jfi5zUhkXCB"
      },
      "source": [
        "### Data cleaning, stop word removal and lemmatization"
      ]
    },
    {
      "cell_type": "code",
      "metadata": {
        "id": "3Ep6sprMsFlH"
      },
      "source": [
        "def extract_job_number(text):\r\n",
        "  jobid = \"\"\r\n",
        "  loc = text.lower().find(\"job_\")\r\n",
        "  i = 4\r\n",
        "  str_length = len(text)\r\n",
        "  if (loc!= -1):\r\n",
        "    while(loc+i<str_length and text[loc + i].isdigit()):\r\n",
        "      jobid = jobid + str(text[loc + i])\r\n",
        "      i = i + 1\r\n",
        "  if jobid == \"\":\r\n",
        "    return 0\r\n",
        "  return int(jobid)\r\n",
        "def extract_sid_number(text):\r\n",
        "  sid = \"\"\r\n",
        "  loc = text.lower().find(\"sid_\")\r\n",
        "  i = 4\r\n",
        "  str_length = len(text)\r\n",
        "  if (loc!= -1):\r\n",
        "    while(loc+i<str_length and text[loc + i].isdigit()):\r\n",
        "      sid = sid + str(text[loc + i])\r\n",
        "      i = i + 1\r\n",
        "  if sid == \"\":\r\n",
        "    return 0\r\n",
        "  return int(sid)\r\n",
        "def extract_hostname_number(text):\r\n",
        "  hostname = \"\"\r\n",
        "  loc = text.lower().find(\"hostname_\")\r\n",
        "  i = 4\r\n",
        "  str_length = len(text)\r\n",
        "  if (loc!= -1):\r\n",
        "    while(loc+i<str_length and text[loc + i].isdigit()):\r\n",
        "      hostname = hostname + str(text[loc + i])\r\n",
        "      i = i + 1\r\n",
        "  if hostname == \"\":\r\n",
        "    return 0\r\n",
        "  return int(hostname)"
      ],
      "execution_count": 41,
      "outputs": []
    },
    {
      "cell_type": "code",
      "metadata": {
        "id": "ZrHGC1XQ6Bj9",
        "colab": {
          "base_uri": "https://localhost:8080/"
        },
        "outputId": "7ceba570-2dba-4c98-ccba-1e73d37d9a42"
      },
      "source": [
        "#ticket_data['lang_desc'] = ticket_data['Description'].apply(detect_lang)\n",
        "#ticket_data['lang_short_desc'] = ticket_data['Short description'].apply(detect_lang)\n",
        "#ticket_data['Description'] = ticket_data.apply(lambda x: fn_translate(x['Description']), axis=1)\n",
        "#ticket_data['Short description'] = ticket_data.apply(lambda x: fn_translate(x['Short description']), axis=1)\n",
        "ticket_data[\"Job\"] = (ticket_data[\"Description\"] + ticket_data[\"Short description\"]).apply(extract_job_number)\n",
        "ticket_data[\"SID\"] = (ticket_data[\"Description\"] + ticket_data[\"Short description\"]).apply(extract_sid_number)\n",
        "ticket_data[\"Host\"] = (ticket_data[\"Description\"] + ticket_data[\"Short description\"]).apply(extract_hostname_number)\n",
        "#ticket_data[\"D_translated\"] = ticket_data[\"D_translated\"].apply(clean_text)\n",
        "#ticket_data[\"SD_translated\"] = ticket_data[\"SD_translated\"].apply(clean_text)\n",
        "print(len(ticket_data))"
      ],
      "execution_count": 42,
      "outputs": [
        {
          "output_type": "stream",
          "text": [
            "8500\n"
          ],
          "name": "stdout"
        }
      ]
    },
    {
      "cell_type": "code",
      "metadata": {
        "id": "UU43YvGDsmfV",
        "colab": {
          "base_uri": "https://localhost:8080/"
        },
        "outputId": "3b128a90-7e19-4805-cff8-a28ec4766d29"
      },
      "source": [
        "if os.path.exists(folder_path + \"/\" + \"translated_data.pickle\"):\r\n",
        "  ticket_data = get_pickle_data(\"translated_data.pickle\")\r\n",
        "  print(\"picking from pickle\")\r\n",
        "else:\r\n",
        "  ticket_data[\"lang_short_desc\"] = ticket_data[\"Short description\"].apply(get_lang)\r\n",
        "  ticket_data[\"lang_desc\"] = ticket_data[\"Description\"].apply(get_lang)\r\n",
        "  ticket_data[\"SD_translated_lang\"] = ticket_data[\"lang_short_desc\"]\r\n",
        "  ticket_data[\"D_translated_lang\"] = ticket_data[\"lang_desc\"]\r\n",
        "  ticket_data[\"SD_translated\"] = ticket_data[\"Short description\"]\r\n",
        "  ticket_data[\"D_translated\"] = ticket_data[\"Description\"]\r\n",
        "  j = 0\r\n",
        "  counter = len(ticket_data)\r\n",
        "  while ((np.sum(ticket_data[\"SD_translated_lang\"] != \"en\") != 0) & (np.sum(ticket_data[\"D_translated_lang\"] != \"en\") != 0)):\r\n",
        "    for i in range(counter):\r\n",
        "      if ticket_data[\"SD_translated_lang\"][i] != \"en\":\r\n",
        "        ticket_data[\"SD_translated\"][i] = translate_sentence(ticket_data[\"SD_translated\"][i], ticket_data[\"SD_translated_lang\"][i],i)\r\n",
        "        if ticket_data[\"SD_translated\"][i] != ticket_data[\"Short description\"][i]:\r\n",
        "          ticket_data[\"SD_translated_lang\"][i] = get_lang(ticket_data[\"SD_translated\"][i])\r\n",
        "      if ticket_data[\"D_translated_lang\"][i] != \"en\":\r\n",
        "        ticket_data[\"D_translated\"][i] = translate_sentence(ticket_data[\"D_translated\"][i], ticket_data[\"D_translated_lang\"][i],i)\r\n",
        "        if ticket_data[\"D_translated\"][i] != ticket_data[\"Description\"][i]:\r\n",
        "          ticket_data[\"D_translated_lang\"][i] = get_lang(ticket_data[\"D_translated\"][i])\r\n",
        "    j = j + 1\r\n",
        "    time.sleep(5)\r\n",
        "    print(\"iteration\", j, \" SD remaining: \", np.sum(ticket_data[\"SD_translated_lang\"] != \"en\"), \"D remaining: \", np.sum(ticket_data[\"D_translated_lang\"] != \"en\"))\r\n",
        "    if j == 2:\r\n",
        "      break"
      ],
      "execution_count": 43,
      "outputs": [
        {
          "output_type": "stream",
          "text": [
            "picking from pickle\n"
          ],
          "name": "stdout"
        }
      ]
    },
    {
      "cell_type": "code",
      "metadata": {
        "id": "p9Hu2pzgxA7H"
      },
      "source": [
        "num_records = len(ticket_data)\r\n",
        "for i in range(num_records):\r\n",
        "  if ticket_data[\"lang_desc\"][i] != \"en\":\r\n",
        "    ticket_data[\"D_translated_lang\"][i] = get_lang(ticket_data[\"D_translated\"][i])\r\n",
        "  if ticket_data[\"lang_short_desc\"][i] != \"en\":\r\n",
        "    ticket_data[\"SD_translated_lang\"][i] = get_lang(ticket_data[\"SD_translated\"][i])"
      ],
      "execution_count": null,
      "outputs": []
    },
    {
      "cell_type": "code",
      "metadata": {
        "id": "ozIpMJPLvLu7"
      },
      "source": [
        "ticket_data[\"Description\"] = ticket_data[\"Description\"].apply(clean_text)\r\n",
        "ticket_data[\"Short description\"] = ticket_data[\"Short description\"].apply(clean_text)\r\n",
        "ticket_data[\"D_translated\"] = ticket_data[\"D_translated\"].apply(clean_text)\r\n",
        "ticket_data[\"SD_translated\"] = ticket_data[\"SD_translated\"].apply(clean_text)"
      ],
      "execution_count": null,
      "outputs": []
    },
    {
      "cell_type": "code",
      "metadata": {
        "id": "cV2Kp_B6kpfu"
      },
      "source": [
        "j = 0\r\n",
        "counter = len(ticket_data)\r\n",
        "while ((np.sum(ticket_data[\"SD_translated_lang\"] != \"en\") != 0) & (np.sum(ticket_data[\"D_translated_lang\"] != \"en\") != 0)):\r\n",
        "  for i in range(counter):\r\n",
        "    if ticket_data[\"SD_translated_lang\"][i] != \"en\":\r\n",
        "      ticket_data[\"SD_translated\"][i] = translate_sentence(ticket_data[\"SD_translated\"][i], ticket_data[\"SD_translated_lang\"][i],i)\r\n",
        "      if ticket_data[\"SD_translated\"][i] != ticket_data[\"Short description\"][i]:\r\n",
        "        ticket_data[\"SD_translated_lang\"][i] = get_lang(ticket_data[\"SD_translated\"][i])\r\n",
        "    if ticket_data[\"D_translated_lang\"][i] != \"en\":\r\n",
        "      ticket_data[\"D_translated\"][i] = translate_sentence(ticket_data[\"D_translated\"][i], ticket_data[\"D_translated_lang\"][i],i)\r\n",
        "      if ticket_data[\"D_translated\"][i] != ticket_data[\"Description\"][i]:\r\n",
        "        ticket_data[\"D_translated_lang\"][i] = get_lang(ticket_data[\"D_translated\"][i])\r\n",
        "  j = j + 1\r\n",
        "  time.sleep(5)\r\n",
        "  print(\"iteration\", j, \" SD remaining: \", np.sum(ticket_data[\"SD_translated_lang\"] != \"en\"), \"D remaining: \", np.sum(ticket_data[\"D_translated_lang\"] != \"en\"))\r\n",
        "  if j == 2:\r\n",
        "    break"
      ],
      "execution_count": null,
      "outputs": []
    },
    {
      "cell_type": "code",
      "metadata": {
        "id": "10lf4gztwOTy"
      },
      "source": [
        "lang_translate = translator.detect(str(ticket_data[ticket_data[\"Assignment group\"]==\"GRP_48\"][\"D_translated\"][6534])).lang\r\n",
        "ticket_data[\"D_translated\"][6534] = translator.translate(ticket_data[\"D_translated\"][6534],dest = \"en\", src = lang_translate).text\r\n",
        "lang_translate = translator.detect(str(ticket_data[ticket_data[\"Assignment group\"]==\"GRP_48\"][\"D_translated\"][6535])).lang\r\n",
        "ticket_data[\"D_translated\"][6535] = translator.translate(ticket_data[\"D_translated\"][6535],dest = \"en\", src = lang_translate).text"
      ],
      "execution_count": null,
      "outputs": []
    },
    {
      "cell_type": "code",
      "metadata": {
        "id": "gt71HK0cH_6W"
      },
      "source": [
        "pickle_dump(ticket_data, \"translated_data.pickle\")"
      ],
      "execution_count": null,
      "outputs": []
    },
    {
      "cell_type": "markdown",
      "metadata": {
        "id": "wHkeqw-4aSzT"
      },
      "source": [
        "Adding an Example of Translation"
      ]
    },
    {
      "cell_type": "code",
      "metadata": {
        "id": "5UypDUxeYZ4t"
      },
      "source": [
        "translate_sentence(\"Dies ist ein neues Projekt\", \"de\", 0)"
      ],
      "execution_count": null,
      "outputs": []
    },
    {
      "cell_type": "code",
      "metadata": {
        "id": "Hxc88CwxXknF"
      },
      "source": [
        "x = ticket_data[\"lang_desc\"].value_counts()\r\n",
        "x=x.sort_index()\r\n",
        "plt.figure(figsize=(10,6))\r\n",
        "ax= sns.barplot(x.index, x.values, alpha=0.8)\r\n",
        "plt.title(\"OLD LANG DISTRIBUTION\")\r\n",
        "plt.ylabel('number of records')\r\n",
        "plt.xlabel('Language')\r\n",
        "rects = ax.patches\r\n",
        "labels = x.values\r\n",
        "for rect, label in zip(rects, labels):\r\n",
        "    height = rect.get_height()\r\n",
        "    ax.text(rect.get_x() + rect.get_width()/2, height + 5, label, ha='center', va='bottom')\r\n",
        "plt.show();"
      ],
      "execution_count": null,
      "outputs": []
    },
    {
      "cell_type": "code",
      "metadata": {
        "id": "xYR47FccDrOm"
      },
      "source": [
        "x = ticket_data[ticket_data[\"lang_desc\"] != \"en\"][\"lang_desc\"].value_counts()\r\n",
        "x=x.sort_index()\r\n",
        "plt.figure(figsize=(10,6))\r\n",
        "ax= sns.barplot(x.index, x.values, alpha=0.8)\r\n",
        "plt.title(\"OLD LANG DISTRIBUTION\")\r\n",
        "plt.ylabel('number of records')\r\n",
        "plt.xlabel('Language')\r\n",
        "rects = ax.patches\r\n",
        "labels = x.values\r\n",
        "for rect, label in zip(rects, labels):\r\n",
        "    height = rect.get_height()\r\n",
        "    ax.text(rect.get_x() + rect.get_width()/2, height + 5, label, ha='center', va='bottom')\r\n",
        "plt.show();"
      ],
      "execution_count": null,
      "outputs": []
    },
    {
      "cell_type": "code",
      "metadata": {
        "id": "2lI0mDGID8Ic"
      },
      "source": [
        "x = ticket_data[\"D_translated_lang\"].value_counts()\r\n",
        "x=x.sort_index()\r\n",
        "plt.figure(figsize=(10,6))\r\n",
        "ax= sns.barplot(x.index, x.values, alpha=0.8)\r\n",
        "plt.title(\"POST TRANSLATION - NEW LANG DISTRIBUTION\")\r\n",
        "plt.ylabel('number of records')\r\n",
        "plt.xlabel('Language')\r\n",
        "rects = ax.patches\r\n",
        "labels = x.values\r\n",
        "for rect, label in zip(rects, labels):\r\n",
        "    height = rect.get_height()\r\n",
        "    ax.text(rect.get_x() + rect.get_width()/2, height + 5, label, ha='center', va='bottom')\r\n",
        "plt.show();"
      ],
      "execution_count": null,
      "outputs": []
    },
    {
      "cell_type": "code",
      "metadata": {
        "id": "QUW09mZaYmeq"
      },
      "source": [
        "x = ticket_data[ticket_data[\"D_translated_lang\"] != \"en\"][\"D_translated_lang\"].value_counts()\r\n",
        "x=x.sort_index()\r\n",
        "plt.figure(figsize=(10,6))\r\n",
        "ax= sns.barplot(x.index, x.values, alpha=0.8)\r\n",
        "plt.title(\"POST TRANSLATION - NEW LANG DISTRIBUTION\")\r\n",
        "plt.ylabel('number of records')\r\n",
        "plt.xlabel('Language')\r\n",
        "rects = ax.patches\r\n",
        "labels = x.values\r\n",
        "for rect, label in zip(rects, labels):\r\n",
        "    height = rect.get_height()\r\n",
        "    ax.text(rect.get_x() + rect.get_width()/2, height, label, ha='center', va='bottom')\r\n",
        "plt.show();"
      ],
      "execution_count": null,
      "outputs": []
    },
    {
      "cell_type": "code",
      "metadata": {
        "id": "u4ibnJ7sEzzt"
      },
      "source": [
        "x = ticket_data[\"lang_short_desc\"].value_counts()\r\n",
        "x=x.sort_index()\r\n",
        "plt.figure(figsize=(10,6))\r\n",
        "ax= sns.barplot(x.index, x.values, alpha=0.8)\r\n",
        "plt.title(\"OLD SHORT DESC DISTRIBUTION\")\r\n",
        "plt.ylabel('number of records')\r\n",
        "plt.xlabel('Language')\r\n",
        "rects = ax.patches\r\n",
        "labels = x.values\r\n",
        "for rect, label in zip(rects, labels):\r\n",
        "    height = rect.get_height()\r\n",
        "    ax.text(rect.get_x() + rect.get_width()/2, height + 5, label, ha='center', va='bottom')\r\n",
        "plt.show();"
      ],
      "execution_count": null,
      "outputs": []
    },
    {
      "cell_type": "code",
      "metadata": {
        "id": "GFtMNSdfFPYp"
      },
      "source": [
        "x = ticket_data[ticket_data[\"lang_short_desc\"] != \"en\"][\"lang_short_desc\"].value_counts()\r\n",
        "x=x.sort_index()\r\n",
        "plt.figure(figsize=(10,6))\r\n",
        "ax= sns.barplot(x.index, x.values, alpha=0.8)\r\n",
        "plt.title(\"OLD SHORT DESC DISTRIBUTION\")\r\n",
        "plt.ylabel('number of records')\r\n",
        "plt.xlabel('Language')\r\n",
        "rects = ax.patches\r\n",
        "labels = x.values\r\n",
        "for rect, label in zip(rects, labels):\r\n",
        "    height = rect.get_height()\r\n",
        "    ax.text(rect.get_x() + rect.get_width()/2, height + 5, label, ha='center', va='bottom')\r\n",
        "plt.show();"
      ],
      "execution_count": null,
      "outputs": []
    },
    {
      "cell_type": "code",
      "metadata": {
        "id": "3V8kI9oGFZQT"
      },
      "source": [
        "x = ticket_data[\"SD_translated_lang\"].value_counts()\r\n",
        "x=x.sort_index()\r\n",
        "plt.figure(figsize=(10,6))\r\n",
        "ax= sns.barplot(x.index, x.values, alpha=0.8)\r\n",
        "plt.title(\"NEW SHORT DESC DISTRIBUTION\")\r\n",
        "plt.ylabel('number of records')\r\n",
        "plt.xlabel('Language')\r\n",
        "rects = ax.patches\r\n",
        "labels = x.values\r\n",
        "for rect, label in zip(rects, labels):\r\n",
        "    height = rect.get_height()\r\n",
        "    ax.text(rect.get_x() + rect.get_width()/2, height + 5, label, ha='center', va='bottom')\r\n",
        "plt.show();"
      ],
      "execution_count": null,
      "outputs": []
    },
    {
      "cell_type": "code",
      "metadata": {
        "id": "CfdsxQHVFmNm"
      },
      "source": [
        "x = ticket_data[ticket_data[\"SD_translated_lang\"] != \"en\"][\"SD_translated_lang\"].value_counts()\r\n",
        "x=x.sort_index()\r\n",
        "plt.figure(figsize=(10,6))\r\n",
        "ax= sns.barplot(x.index, x.values, alpha=0.8)\r\n",
        "plt.title(\"NEW SHORT DESC DISTRIBUTION\")\r\n",
        "plt.ylabel('number of records')\r\n",
        "plt.xlabel('Language')\r\n",
        "rects = ax.patches\r\n",
        "labels = x.values\r\n",
        "for rect, label in zip(rects, labels):\r\n",
        "    height = rect.get_height()\r\n",
        "    ax.text(rect.get_x() + rect.get_width()/2, height, label, ha='center', va='bottom')\r\n",
        "plt.show();"
      ],
      "execution_count": null,
      "outputs": []
    },
    {
      "cell_type": "code",
      "metadata": {
        "id": "63vvCfDb6R4-"
      },
      "source": [
        "pickle_dump(ticket_data, \"translated_data.pickle\")"
      ],
      "execution_count": null,
      "outputs": []
    },
    {
      "cell_type": "code",
      "metadata": {
        "id": "kxd288rS6nbJ"
      },
      "source": [
        "ticket_pivot = ticket_data.pivot_table(aggfunc=\"count\",columns =\"Assignment group\", values=\"Caller\")\n",
        "ticket_nums = np.array(ticket_pivot)\n",
        "ticket_cols = ticket_pivot.columns\n",
        "ticket_pivot_df = pd.DataFrame(data = ticket_nums, columns = ticket_cols, index = [\"Number of tickets\"])\n",
        "ticket_pivot_df = ticket_pivot_df.transpose()\n",
        "ticket_pivot_df.reset_index(inplace=True)"
      ],
      "execution_count": null,
      "outputs": []
    },
    {
      "cell_type": "code",
      "metadata": {
        "id": "Fr779NDF3Joz"
      },
      "source": [
        "def filter_group_augment (groupname):\r\n",
        "  if groupname in list(ticket_pivot_df[(ticket_pivot_df[\"Number of tickets\"]>20) & (ticket_pivot_df[\"Number of tickets\"]<1000)][\"Assignment group\"]):\r\n",
        "    return True\r\n",
        "  else:\r\n",
        "    return False\r\n",
        "\r\n",
        "def filter_group_large (groupname):\r\n",
        "  if groupname in list(ticket_pivot_df[(ticket_pivot_df[\"Number of tickets\"]>=1000)][\"Assignment group\"]):\r\n",
        "    return True\r\n",
        "  else:\r\n",
        "    return False\r\n",
        "\r\n",
        "def filter_group_small (groupname):\r\n",
        "  if groupname in list(ticket_pivot_df[(ticket_pivot_df[\"Number of tickets\"]<=20)][\"Assignment group\"]):\r\n",
        "    return True\r\n",
        "  else:\r\n",
        "    return False\r\n",
        "\r\n",
        "def filter_group_AI (groupname):\r\n",
        "  if groupname in list(ticket_pivot_df[(ticket_pivot_df[\"Number of tickets\"]>20)][\"Assignment group\"]):\r\n",
        "    return True\r\n",
        "  else:\r\n",
        "    return False"
      ],
      "execution_count": null,
      "outputs": []
    },
    {
      "cell_type": "code",
      "metadata": {
        "id": "nPgdH7r-81JM"
      },
      "source": [
        "def replace_with_synonym(sentence):\n",
        "  if sentence != \"\":\n",
        "    synonym = \"\"\n",
        "    words = sentence.split(\" \")    \n",
        "    repl_num = 0\n",
        "    syn_idx = 0\n",
        "    for i in range(7):\n",
        "      if len(words) > 1:\n",
        "        repl_num = rnd.randint(0,len(words)-1)\n",
        "      elif len(words) == 1:\n",
        "        repl_num = 0\n",
        "      else:\n",
        "        return sentence\n",
        "      syns = wordnet.synsets(words[repl_num])\n",
        "      if len(syns) > 1:\n",
        "        syn_idx = rnd.randint(0,len(syns)-1)\n",
        "        synonym = syns[syn_idx].lemmas()[0].name()\n",
        "      elif len(syns) == 1:\n",
        "        syn_idx = 0\n",
        "        synonym = syns[syn_idx].lemmas()[0].name()\n",
        "      else:\n",
        "        synonym = \"\"\n",
        "      if synonym != \"\" :\n",
        "        sentence = re.sub(r\"\\b%s\\b\" % words[repl_num] , synonym, sentence)\n",
        "        #sentence = sentence.replace(words[repl_num], synonym)\n",
        "  return sentence\n",
        "\n",
        "def drop_words(sentence):\n",
        "  if sentence != \"\":\n",
        "    words = sentence.split(\" \")    \n",
        "    repl_num = 0\n",
        "    if len(words) > 2:\n",
        "      for i in range(len(words)):\n",
        "        if len(words) > 1:\n",
        "          repl_num = rnd.randint(0,len(words)-1)\n",
        "          repl_prob = rnd.randint(0,100)\n",
        "          if repl_prob > 80:\n",
        "            words.pop(repl_num)\n",
        "        elif len(words) == 1:\n",
        "          repl_num = 0\n",
        "          break\n",
        "        else:\n",
        "          return sentence\n",
        "      sentence = \" \".join(words)\n",
        "  return sentence\n",
        "\n",
        "def scatter_sentences(para):\n",
        "  sentences = para.split(\".\")\n",
        "  i=0\n",
        "  for sentence in sentences:\n",
        "      sentences[i] = sentence.strip()\n",
        "      i = i+1\n",
        "  total = len(sentences)\n",
        "  i = 0\n",
        "  new_order = []\n",
        "  while (len(new_order) < total):\n",
        "      num = rnd.randint(0,total-1)\n",
        "      if num not in new_order:\n",
        "          new_order.append(num)\n",
        "          i = i + 1\n",
        "  new_sentences = [sentences[i] for i in new_order]\n",
        "  total_sentences = len(new_sentences)\n",
        "  return_para = \"\"\n",
        "  for i in range(total_sentences):\n",
        "    if not new_sentences[i] == \"\":\n",
        "      if return_para == \"\":\n",
        "        return_para = new_sentences[i]\n",
        "      else:\n",
        "        return_para = return_para + \".\" + new_sentences[i]\n",
        "  return return_para"
      ],
      "execution_count": null,
      "outputs": []
    },
    {
      "cell_type": "code",
      "metadata": {
        "id": "WCsw40H64Zov"
      },
      "source": [
        "ticket_pivot_df_augment = ticket_pivot_df[(ticket_pivot_df[\"Number of tickets\"]>20) & (ticket_pivot_df[\"Number of tickets\"]<1000)]"
      ],
      "execution_count": null,
      "outputs": []
    },
    {
      "cell_type": "code",
      "metadata": {
        "id": "pkhafUX947VW"
      },
      "source": [
        "ticket_pivot_df_augment = ticket_pivot_df_augment.reset_index()\r\n",
        "ticket_pivot_df_augment.drop([\"index\"], axis = 1, inplace = True)"
      ],
      "execution_count": null,
      "outputs": []
    },
    {
      "cell_type": "code",
      "metadata": {
        "id": "6OzML9Cwq_gX"
      },
      "source": [
        "def augment_data(df):\n",
        "  total_grps = len(ticket_pivot_df_augment)\n",
        "  ticket_data_updated = df.copy()\n",
        "  list_to_add = []\n",
        "  list_df = []\n",
        "  col_names = ticket_data_updated.columns.values.tolist()\n",
        "  for i in range(total_grps):\n",
        "    grpname = ticket_pivot_df_augment[\"Assignment group\"][i]\n",
        "    group_df = ticket_data_updated[ticket_data_updated[\"Assignment group\"]==grpname]\n",
        "    list_df = group_df.values.tolist()\n",
        "    group_df = None\n",
        "    records_added = ticket_pivot_df_augment[\"Number of tickets\"][i]\n",
        "    while records_added < 1000:\n",
        "      list_df = list_df + list_df\n",
        "      records_added = records_added + records_added\n",
        "    list_to_add = list_to_add + list_df\n",
        "    list_df = []\n",
        "    gc.collect()\n",
        "  #ticket_data_updated.info()\n",
        "  #ticket_data_updated = pd.DataFrame(data = final_df, columns= col_names)\n",
        "  df_to_add = pd.DataFrame(data = list_to_add, columns = ticket_data.columns)\n",
        "  df_to_add[\"Description\"] = df_to_add[\"Description\"].apply(replace_with_synonym)\n",
        "  df_to_add[\"Short description\"] = df_to_add[\"Short description\"].apply(replace_with_synonym)\n",
        "  df_to_add[\"Description\"] = df_to_add[\"Description\"].apply(drop_words)\n",
        "  df_to_add[\"Short description\"] = df_to_add[\"Short description\"].apply(drop_words)\n",
        "  ticket_data_updated = pd.concat([ticket_data_updated, df_to_add],axis = 0)\n",
        "  print(\"Garbage Collected\", gc.collect())\n",
        "\n",
        "  '''df_to_add = pd.DataFrame(data = list_to_add, columns = ticket_data.columns)\n",
        "  df_to_add[\"Description\"] = df_to_add[\"Description\"].apply(scatter_sentences)\n",
        "  df_to_add[\"Short description\"] = df_to_add[\"Short description\"].apply(scatter_sentences)\n",
        "  ticket_data_updated = pd.concat([ticket_data_updated, df_to_add],axis = 0) \n",
        "  print(\"second:\", gc.collect())'''\n",
        "\n",
        "  return ticket_data_updated\n",
        "\n",
        "### Augment the data here\n",
        "augmented_data = \"\"\n",
        "if os.path.exists(folder_path + \"/\" + \"augmented_data.pickle\"):\n",
        "  augmented_data = get_pickle_data(\"augmented_data.pickle\")\n",
        "  print(\"picking from pickle\")\n",
        "else:\n",
        "  data_to_be_augmented = ticket_data[ticket_data[\"Assignment group\"].apply(filter_group_augment)]\n",
        "  data_large_tickets = ticket_data[ticket_data[\"Assignment group\"].apply(filter_group_large)]\n",
        "  data_small_tickets = ticket_data[ticket_data[\"Assignment group\"].apply(filter_group_small)]\n",
        "  augmented_data = augment_data(data_to_be_augmented)\n",
        "  print(\"augmented\")\n",
        "  augmented_data = pd.concat([augmented_data,data_large_tickets], axis = 0)\n",
        "  augmented_data = pd.concat([augmented_data,data_small_tickets], axis = 0)\n",
        "\n",
        "augmented_data = augmented_data.reset_index()\n",
        "augmented_data.drop([\"index\"], axis = 1, inplace = True)\n",
        "gc.collect()\n",
        "pickle_dump(augmented_data, \"augmented_data.pickle\")\n",
        "augmented_data.head()"
      ],
      "execution_count": null,
      "outputs": []
    },
    {
      "cell_type": "code",
      "metadata": {
        "id": "wDwB51Y-emGq"
      },
      "source": [
        "replace_with_synonym(\"My computer has stopped working. Seems to be a problem with the hard drive. Can Someone assist me and get this working again?I have important work to complete\")"
      ],
      "execution_count": null,
      "outputs": []
    },
    {
      "cell_type": "code",
      "metadata": {
        "id": "joyg9P_rIEGG"
      },
      "source": [
        "df_large_augment_grp = pd.DataFrame(augmented_data[\"Assignment group\"].value_counts().transpose())\r\n",
        "df_large_augment_grp.reset_index(inplace=True)\r\n",
        "df_large_augment_grp"
      ],
      "execution_count": null,
      "outputs": []
    },
    {
      "cell_type": "code",
      "metadata": {
        "id": "Xs9Z3WaBJIYs"
      },
      "source": [
        "df_top_augment_assg = df_large_augment_grp[df_large_augment_grp[\"Assignment group\"]>50]\r\n",
        "df_top_augment_assg"
      ],
      "execution_count": null,
      "outputs": []
    },
    {
      "cell_type": "code",
      "metadata": {
        "id": "7Z8GLj2DIrja"
      },
      "source": [
        "plt.figure(figsize=(15,6))\r\n",
        "bars = plt.bar(df_top_augment_assg['index'],df_top_augment_assg['Assignment group'])\r\n",
        "plt.title('Assignment group with tickets greater than 50 after Augmentation')\r\n",
        "plt.xlabel('Assignment Group')\r\n",
        "plt.xticks(rotation=90)\r\n",
        "plt.ylabel('Number of Tickets')\r\n",
        "\r\n",
        "for bar in bars:\r\n",
        "    yval = bar.get_height()\r\n",
        "    plt.text(bar.get_x(), yval + .005, yval)\r\n",
        "plt.tight_layout()\r\n",
        "plt.show()"
      ],
      "execution_count": null,
      "outputs": []
    },
    {
      "cell_type": "code",
      "metadata": {
        "id": "iRyb0KAgKSgL"
      },
      "source": [
        "df_bottom_augment_assg = df_large_augment_grp[df_large_augment_grp[\"Assignment group\"]<50]\r\n",
        "df_bottom_augment_assg"
      ],
      "execution_count": null,
      "outputs": []
    },
    {
      "cell_type": "code",
      "metadata": {
        "id": "Dvbp_dccKAIs"
      },
      "source": [
        "plt.figure(figsize=(15,6))\r\n",
        "bars = plt.bar(df_bottom_augment_assg['index'],df_bottom_augment_assg['Assignment group'])\r\n",
        "plt.title('Assignment group with tickets greater than 50 after Augmentation')\r\n",
        "plt.xlabel('Assignment Group')\r\n",
        "plt.xticks(rotation=90)\r\n",
        "plt.ylabel('Number of Tickets')\r\n",
        "\r\n",
        "for bar in bars:\r\n",
        "    yval = bar.get_height()\r\n",
        "    plt.text(bar.get_x(), yval + .005, yval)\r\n",
        "plt.tight_layout()\r\n",
        "plt.show()"
      ],
      "execution_count": null,
      "outputs": []
    },
    {
      "cell_type": "code",
      "metadata": {
        "id": "iiFZvzRyTFLJ"
      },
      "source": [
        "augmented_data.shape"
      ],
      "execution_count": null,
      "outputs": []
    },
    {
      "cell_type": "code",
      "metadata": {
        "id": "WAhcAkjRQ1EH"
      },
      "source": [
        "augmented_data"
      ],
      "execution_count": null,
      "outputs": []
    },
    {
      "cell_type": "code",
      "metadata": {
        "id": "oObVt4pS9js_"
      },
      "source": [
        "deep_learning_df = \" \"\r\n",
        "if os.path.exists(folder_path + \"/deep_learning_df.pickle\"):\r\n",
        "  deep_learning_df = get_pickle_data(\"deep_learning_df.pickle\")\r\n",
        "else:\r\n",
        "  deep_learning_df = augmented_data[augmented_data[\"Assignment group\"].apply(filter_group_AI)]\r\n",
        "deep_learning_df = deep_learning_df.reset_index()\r\n",
        "deep_learning_df.drop([\"index\"], axis = 1, inplace = True)\r\n",
        "num_records = len(deep_learning_df)\r\n",
        "deep_learning_df[\"Description_New\"] = deep_learning_df[\"SD_translated\"] + \" \" + deep_learning_df[\"D_translated\"]\r\n",
        "for i in range(num_records):\r\n",
        "  if deep_learning_df[\"lang_desc\"][i] == \"zh-CN\":\r\n",
        "    deep_learning_df[\"Description_New\"][i] = deep_learning_df[\"Description_New\"][i] + \" \" + deep_learning_df[\"Caller\"][i]\r\n",
        "\r\n",
        "pickle_dump(deep_learning_df, \"deep_learning_df.pickle\")"
      ],
      "execution_count": null,
      "outputs": []
    },
    {
      "cell_type": "code",
      "metadata": {
        "id": "e_tRlKSc70RL"
      },
      "source": [
        "deep_learning_df.shape"
      ],
      "execution_count": null,
      "outputs": []
    },
    {
      "cell_type": "code",
      "metadata": {
        "id": "7gyFRP6d719O"
      },
      "source": [
        "augmented_data.shape"
      ],
      "execution_count": null,
      "outputs": []
    },
    {
      "cell_type": "code",
      "metadata": {
        "id": "e6ZHNucmfuSp"
      },
      "source": [
        "stop = stopwords.words('english')\n",
        "if os.path.exists(folder_path + \"/\" + \"lemmatized_data.pickle\"):\n",
        "  augmented_data = get_pickle_data(\"lemmatized_data.pickle\")\n",
        "  print(\"picking from pickle\")\n",
        "else:\n",
        "  augmented_data[\"D_translated\"] = augmented_data[\"D_translated\"].apply(lambda x: \" \".join(x for x in str(x).split() if x not in stop))\n",
        "  augmented_data[\"SD_translated\"] = augmented_data[\"SD_translated\"].apply(lambda x: \" \".join(x for x in str(x).split() if x not in stop))\n",
        "  augmented_data['SD_translated']= augmented_data['SD_translated'].apply(lambda x: \" \".join([Word(word).lemmatize() for word in str(x).split()]))\n",
        "  augmented_data['D_translated']= augmented_data['D_translated'].apply(lambda x: \" \".join([Word(word).lemmatize() for word in str(x).split()]))\n",
        "\n",
        "pickle_dump(augmented_data, \"lemmatized_data.pickle\")\n",
        "augmented_data.head()"
      ],
      "execution_count": null,
      "outputs": []
    },
    {
      "cell_type": "code",
      "metadata": {
        "id": "IJWPUVRKRuUl"
      },
      "source": [
        "ticket_data[\"D_translated_lang\"].value_counts()"
      ],
      "execution_count": null,
      "outputs": []
    },
    {
      "cell_type": "code",
      "metadata": {
        "id": "JAM6-3XM2gIb"
      },
      "source": [
        "ticket_data[\"SD_translated_lang\"].value_counts()"
      ],
      "execution_count": null,
      "outputs": []
    },
    {
      "cell_type": "code",
      "metadata": {
        "id": "TPPet5FARwpJ"
      },
      "source": [
        "x = ticket_data[\"D_translated_lang\"].value_counts()\n",
        "x=x.sort_index()\n",
        "plt.figure(figsize=(10,6))\n",
        "ax= sns.barplot(x.index, x.values, alpha=0.8)\n",
        "plt.title(\"Distribution of text by language\")\n",
        "plt.ylabel('number of records')\n",
        "plt.xlabel('Language')\n",
        "rects = ax.patches\n",
        "labels = x.values\n",
        "for rect, label in zip(rects, labels):\n",
        "    height = rect.get_height()\n",
        "    ax.text(rect.get_x() + rect.get_width()/2, height + 5, label, ha='center', va='bottom')\n",
        "plt.show();"
      ],
      "execution_count": null,
      "outputs": []
    },
    {
      "cell_type": "code",
      "metadata": {
        "id": "nqq0iWIH5bYu"
      },
      "source": [
        "x = ticket_data[\"SD_translated_lang\"].value_counts()\n",
        "x=x.sort_index()\n",
        "plt.figure(figsize=(10,6))\n",
        "ax= sns.barplot(x.index, x.values, alpha=0.8)\n",
        "plt.title(\"Distribution of text by language\")\n",
        "plt.ylabel('number of records')\n",
        "plt.xlabel('Language')\n",
        "rects = ax.patches\n",
        "labels = x.values\n",
        "for rect, label in zip(rects, labels):\n",
        "    height = rect.get_height()\n",
        "    ax.text(rect.get_x() + rect.get_width()/2, height + 5, label, ha='center', va='bottom')\n",
        "plt.show();"
      ],
      "execution_count": null,
      "outputs": []
    },
    {
      "cell_type": "markdown",
      "metadata": {
        "id": "bOD_SIFgkjk-"
      },
      "source": [
        "## Feature Engineering"
      ]
    },
    {
      "cell_type": "code",
      "metadata": {
        "id": "UujZQZVkaq1X"
      },
      "source": [
        "num_records = len(augmented_data)\n",
        "augmented_data[\"Description_New\"] = augmented_data[\"SD_translated\"] + \" \" + augmented_data[\"D_translated\"]\n",
        "for i in range(num_records):\n",
        "  if augmented_data[\"lang_desc\"][i] == \"zh-CN\":\n",
        "    augmented_data[\"Description_New\"][i] = augmented_data[\"Description_New\"][i] + \" \" + augmented_data[\"Caller\"][i]    \n",
        "#augmented_data['Description_New'] = augmented_data['SD_translated'] + \" \" + augmented_data['D_translated']\n",
        "augmented_data['num_wds'] = augmented_data['Description_New'].apply(lambda x: len(x.split()))\n",
        "augmented_data['num_wds'].mean()"
      ],
      "execution_count": null,
      "outputs": []
    },
    {
      "cell_type": "code",
      "metadata": {
        "id": "bQpPVzr9bJYv"
      },
      "source": [
        "print(augmented_data['num_wds'].max())\n",
        "print(augmented_data['num_wds'].min())"
      ],
      "execution_count": null,
      "outputs": []
    },
    {
      "cell_type": "code",
      "metadata": {
        "id": "BHPc3RWebOhH"
      },
      "source": [
        "augmented_data[augmented_data['num_wds']==0]"
      ],
      "execution_count": null,
      "outputs": []
    },
    {
      "cell_type": "code",
      "metadata": {
        "id": "CULPKDwN6e5S"
      },
      "source": [
        "deep_learning_df['Description_New'][62739]"
      ],
      "execution_count": null,
      "outputs": []
    },
    {
      "cell_type": "code",
      "metadata": {
        "id": "F4Q0tOkY58Jg"
      },
      "source": [
        "for i in range(num_records):\r\n",
        "  if augmented_data[\"num_wds\"][i] == 0:\r\n",
        "    augmented_data[\"Description_New\"][i] = augmented_data[\"Short description\"][i] + augmented_data[\"Description\"][i] + augmented_data[\"Caller\"][i]"
      ],
      "execution_count": null,
      "outputs": []
    },
    {
      "cell_type": "code",
      "metadata": {
        "id": "MuE9c3ph7Rac"
      },
      "source": [
        "augmented_data['num_wds'] = augmented_data['Description_New'].apply(lambda x: len(x.split()))\r\n",
        "augmented_data['num_wds'].mean()"
      ],
      "execution_count": null,
      "outputs": []
    },
    {
      "cell_type": "code",
      "metadata": {
        "id": "nB7oIhpbbWNW"
      },
      "source": [
        "augmented_data['uniq_wds'] = augmented_data['Description_New'].str.split().apply(lambda x: len(set(x)))\n",
        "augmented_data['uniq_wds'].head()"
      ],
      "execution_count": null,
      "outputs": []
    },
    {
      "cell_type": "code",
      "metadata": {
        "id": "lL6DvrJ0bXka"
      },
      "source": [
        "assign_grps = augmented_data.groupby('Assignment group')\n",
        "ax=assign_grps['num_wds'].aggregate(np.mean).plot(kind='bar', fontsize=14, figsize=(20,10))\n",
        "ax.set_title('Mean Number of Words in tickets per Assignment Group\\n', fontsize=20)\n",
        "ax.set_ylabel('Mean Number of Words', fontsize=18)\n",
        "ax.set_xlabel('Assignment Group', fontsize=18);"
      ],
      "execution_count": null,
      "outputs": []
    },
    {
      "cell_type": "code",
      "metadata": {
        "id": "f_yL2NJDbpu5"
      },
      "source": [
        "ax=assign_grps['uniq_wds'].aggregate(np.mean).plot(kind='bar', fontsize=14, figsize=(20,10))\n",
        "ax.set_title('Mean Number of Unique Words per tickets in Assignment Group\\n', fontsize=20)\n",
        "ax.set_ylabel('Mean Number of Unique Words', fontsize=18)\n",
        "ax.set_xlabel('Assignment Group', fontsize=18)"
      ],
      "execution_count": null,
      "outputs": []
    },
    {
      "cell_type": "code",
      "metadata": {
        "id": "a8zbimaYbvs8"
      },
      "source": [
        "word_counts = Counter()\n",
        "for i, row in augmented_data.iterrows():\n",
        "    word_counts.update(row['Description_New'].split())\n",
        "    \n",
        "word_counts.most_common(20)"
      ],
      "execution_count": null,
      "outputs": []
    },
    {
      "cell_type": "code",
      "metadata": {
        "id": "lNZokN0Pb2cr"
      },
      "source": [
        "tokenizer = nltk.tokenize.RegexpTokenizer(r'\\w+')\n",
        "augmented_data['token_desc'] = augmented_data['Description_New'].apply(lambda x: tokenizer.tokenize(x))\n",
        "augmented_data['token_desc'].head()"
      ],
      "execution_count": null,
      "outputs": []
    },
    {
      "cell_type": "code",
      "metadata": {
        "id": "UB4kGCjFPs0h"
      },
      "source": [
        "augmented_data.head()"
      ],
      "execution_count": null,
      "outputs": []
    },
    {
      "cell_type": "markdown",
      "metadata": {
        "id": "1Yp9Ky7CkszC"
      },
      "source": [
        "## Splitting the data into rule based and Machine learning based processing"
      ]
    },
    {
      "cell_type": "code",
      "metadata": {
        "id": "MowvH-85eRZj"
      },
      "source": [
        "rule_based_df = \" \"\n",
        "machine_learning_df = \" \"\n",
        "if os.path.exists(folder_path + \"/rule_based_df.pickle\"):\n",
        "  rule_based_df = get_pickle_data(\"rule_based_df.pickle\")\n",
        "else:\n",
        "  rule_based_df = augmented_data[augmented_data[\"Assignment group\"].apply(filter_group_small)]\n",
        "\n",
        "if os.path.exists(folder_path + \"/machine_learning_df.pickle\"):\n",
        "  machine_learning_df = get_pickle_data(\"machine_learning_df.pickle\")\n",
        "else:\n",
        "  machine_learning_df = augmented_data[augmented_data[\"Assignment group\"].apply(filter_group_AI)]"
      ],
      "execution_count": null,
      "outputs": []
    },
    {
      "cell_type": "code",
      "metadata": {
        "id": "wQF9JolH-4vO"
      },
      "source": [
        "machine_learning_df.shape"
      ],
      "execution_count": null,
      "outputs": []
    },
    {
      "cell_type": "code",
      "metadata": {
        "id": "NULUrR0sDKkW"
      },
      "source": [
        "deep_learning_df.shape"
      ],
      "execution_count": null,
      "outputs": []
    },
    {
      "cell_type": "code",
      "metadata": {
        "id": "vB3C9dP8-5_X"
      },
      "source": [
        "rule_based_df.shape"
      ],
      "execution_count": null,
      "outputs": []
    },
    {
      "cell_type": "code",
      "metadata": {
        "id": "vkZG5na-_KG6"
      },
      "source": [
        "augmented_data.shape"
      ],
      "execution_count": null,
      "outputs": []
    },
    {
      "cell_type": "code",
      "metadata": {
        "id": "xq-Wi5u3ltsP"
      },
      "source": [
        "machine_learning_df = machine_learning_df.reset_index()\n",
        "machine_learning_df.drop([\"index\"], axis = 1, inplace = True)\n",
        "rule_based_df = rule_based_df.reset_index()\n",
        "rule_based_df.drop([\"index\"], axis = 1, inplace = True)\n",
        "pickle_dump(rule_based_df, \"rule_based_df.pickle\")\n",
        "pickle_dump(machine_learning_df, \"machine_learning_df.pickle\")"
      ],
      "execution_count": null,
      "outputs": []
    },
    {
      "cell_type": "code",
      "metadata": {
        "id": "TY9_al-Jk-Zw"
      },
      "source": [
        "# build the vocabulary in one pass\n",
        "stop_words = []\n",
        "vocabulary = set()\n",
        "def tokenize(text):\n",
        "    words = word_tokenize(text)\n",
        "    words = [w.lower() for w in words]\n",
        "    return [w for w in words if w not in stop_words and not w.isdigit()]\n",
        "\n",
        "if os.path.exists(folder_path + \"/vocabulary.pickle\"):\n",
        "  vocabulary = get_pickle_data(\"vocabulary.pickle\")\n",
        "else:\n",
        "  stop_words = stopwords.words('english') + list(punctuation)\n",
        "  counter = len(machine_learning_df[\"token_desc\"])\n",
        "  for  i in range(counter):\n",
        "      words = tokenize(str(machine_learning_df[\"Description_New\"][i]))\n",
        "      vocabulary.update(words)\n",
        "\n",
        "  vocabulary = list(vocabulary) \n",
        "VOCABULARY_SIZE = len(vocabulary)\n",
        "  \n",
        "print(VOCABULARY_SIZE)\n",
        "\n",
        "pickle_dump(vocabulary, \"vocabulary.pickle\")"
      ],
      "execution_count": null,
      "outputs": []
    },
    {
      "cell_type": "code",
      "metadata": {
        "id": "yjnHe8MtcqhY"
      },
      "source": [
        "inc_tfidf = \" \"\n",
        "tfidf = \" \"\n",
        "if os.path.exists(folder_path + \"/\" + \"inc_tfidf.pickle\"):\n",
        "  inc_tfidf = get_pickle_data(\"inc_tfidf.pickle\")\n",
        "  tfidf = get_pickle_data(\"vectorizer.pickle\")\n",
        "else:\n",
        "  tfidf = TfidfVectorizer(stop_words=stop_words, tokenizer=tokenize, max_features = 2400, analyzer = 'word', ngram_range=(1, 1))\n",
        "  inc_tfidf = tfidf.fit_transform(machine_learning_df['Description_New'])\n",
        "  pickle_dump(inc_tfidf,\"inc_tfidf.pickle\")\n",
        "  pickle_dump(tfidf, \"vectorizer.pickle\")"
      ],
      "execution_count": null,
      "outputs": []
    },
    {
      "cell_type": "code",
      "metadata": {
        "id": "X8BT-NBWC4rG"
      },
      "source": [
        "inc_tfidf.shape"
      ],
      "execution_count": null,
      "outputs": []
    },
    {
      "cell_type": "code",
      "metadata": {
        "id": "XjbGc-uKhGwM"
      },
      "source": [
        "# collect the tfid matrix in numpy array\n",
        "array = inc_tfidf.todense()\n",
        "inc_tfidf = None\n",
        "# store the tf-idf array into pandas dataframe\n",
        "df_inc = pd.DataFrame(array)\n",
        "array = None\n",
        "gc.collect()\n",
        "df_inc.head(10)\n",
        "df_inc.shape"
      ],
      "execution_count": null,
      "outputs": []
    },
    {
      "cell_type": "code",
      "metadata": {
        "id": "kw6L6cZgsQzf"
      },
      "source": [
        "from sklearn.preprocessing import MinMaxScaler\r\n",
        "if np.max(machine_learning_df[\"Job\"])>1:\r\n",
        "  min_max = MinMaxScaler()\r\n",
        "  to_transform = machine_learning_df[[\"Job\",\"SID\", \"Host\"]]\r\n",
        "  transformed_ = min_max.fit_transform(to_transform)\r\n",
        "  transformed_df = pd.DataFrame(transformed_, columns = to_transform.columns)\r\n",
        "  to_transform = None \r\n",
        "  gc.collect()\r\n",
        "  machine_learning_df = machine_learning_df.drop([\"Job\", \"SID\", \"Host\"],axis = 1)\r\n",
        "  machine_learning_df = pd.concat([machine_learning_df,transformed_df], axis = 1)\r\n",
        "machine_learning_df.head()"
      ],
      "execution_count": null,
      "outputs": []
    },
    {
      "cell_type": "code",
      "metadata": {
        "id": "BFZjoCH88Ks7"
      },
      "source": [
        "from sklearn.preprocessing import MinMaxScaler\r\n",
        "if np.max(deep_learning_df[\"Job\"])>1:\r\n",
        "  min_max = MinMaxScaler()\r\n",
        "  to_transform = deep_learning_df[[\"Job\",\"SID\", \"Host\"]]\r\n",
        "  transformed_ = min_max.fit_transform(to_transform)\r\n",
        "  transformed_df = pd.DataFrame(transformed_, columns = to_transform.columns)\r\n",
        "  to_transform = None \r\n",
        "  gc.collect()\r\n",
        "  deep_learning_df = deep_learning_df.drop([\"Job\", \"SID\", \"Host\"],axis = 1)\r\n",
        "  deep_learning_df = pd.concat([deep_learning_df,transformed_df], axis = 1)\r\n",
        "deep_learning_df.head()"
      ],
      "execution_count": null,
      "outputs": []
    },
    {
      "cell_type": "code",
      "metadata": {
        "id": "FteSL1XJuUXM"
      },
      "source": [
        "pickle_dump(machine_learning_df, \"machine_learning_df.pickle\")\r\n",
        "pickle_dump(deep_learning_df, \"deep_learning_df.pickle\")"
      ],
      "execution_count": null,
      "outputs": []
    },
    {
      "cell_type": "code",
      "metadata": {
        "id": "utccmJi-eKAt"
      },
      "source": [
        "df_inc = df_inc.reset_index()\n",
        "df_inc.drop(['index'],axis=1, inplace = True)\n",
        "df_inc.head()"
      ],
      "execution_count": null,
      "outputs": []
    },
    {
      "cell_type": "code",
      "metadata": {
        "id": "hXoW-f7nhRAS"
      },
      "source": [
        "df_inc['Job']= machine_learning_df['Job']\n",
        "df_inc['SID']= machine_learning_df['SID']\n",
        "df_inc['Host']= machine_learning_df['Host']\n",
        "df_inc['Assignment group']= machine_learning_df['Assignment group']\n",
        "df_inc.head()"
      ],
      "execution_count": null,
      "outputs": []
    },
    {
      "cell_type": "code",
      "metadata": {
        "id": "6it1AKw1hWR0"
      },
      "source": [
        "features = df_inc.columns.tolist()\n",
        "output = 'Assignment group'\n",
        "# removing the output and the id from features\n",
        "features.remove(output)"
      ],
      "execution_count": null,
      "outputs": []
    },
    {
      "cell_type": "code",
      "metadata": {
        "id": "wIXX7g2Qh8C0"
      },
      "source": [
        "non_eng_text=machine_learning_df.loc[machine_learning_df['Caller']==\"gusyjcer lvbxfimr\"]\n",
        "non_eng_text"
      ],
      "execution_count": null,
      "outputs": []
    },
    {
      "cell_type": "code",
      "metadata": {
        "id": "ef_LNUa0gDOQ"
      },
      "source": [
        "Func_group = df_inc['Assignment group'].unique()\r\n",
        "Func_group"
      ],
      "execution_count": null,
      "outputs": []
    },
    {
      "cell_type": "code",
      "metadata": {
        "id": "ZUqWq17QfRW0"
      },
      "source": [
        "replaceStruct = {\r\n",
        "                \"Assignment group\":{\r\n",
        "                \"GRP_0\":0, \"GRP_1\":1, \"GRP_3\":3, \"GRP_4\":4, \"GRP_5\":5, \"GRP_6\":6, \"GRP_7\":7,\r\n",
        "                \"GRP_8\":8, \"GRP_9\":9, \"GRP_10\":10, \"GRP_11\":11, \"GRP_12\":12, \"GRP_13\":13, \"GRP_14\":14,\r\n",
        "                \"GRP_15\":15, \"GRP_16\":16, \"GRP_17\":17, \"GRP_18\":18, \"GRP_19\":19, \"GRP_2\":2,\r\n",
        "                \"GRP_20\":20, \"GRP_21\":21, \"GRP_22\":22, \"GRP_23\":23, \"GRP_24\":24, \"GRP_25\":25,\r\n",
        "                \"GRP_26\":26, \"GRP_27\":27, \"GRP_28\":28, \"GRP_29\":29, \"GRP_30\":30, \"GRP_31\":31,\r\n",
        "                \"GRP_33\":33, \"GRP_34\":34, \"GRP_35\":35, \"GRP_36\":36, \"GRP_37\":37, \"GRP_38\":38,\r\n",
        "                \"GRP_39\":39, \"GRP_40\":40, \"GRP_41\":41, \"GRP_42\":42, \"GRP_43\":43, \"GRP_44\":44,\r\n",
        "                \"GRP_45\":45, \"GRP_46\":46, \"GRP_47\":47, \"GRP_48\":48, \"GRP_49\":49, \"GRP_50\":50,\r\n",
        "                \"GRP_51\":51, \"GRP_52\":52, \"GRP_53\":53, \"GRP_54\":54, \"GRP_55\":55, \"GRP_56\":56,\r\n",
        "                \"GRP_57\":57, \"GRP_58\":58, \"GRP_59\":59, \"GRP_60\":60, \"GRP_61\":61, \"GRP_32\":32,\r\n",
        "                \"GRP_62\":62, \"GRP_63\":63, \"GRP_64\":64, \"GRP_65\":65, \"GRP_66\":66, \"GRP_67\":67,\r\n",
        "                \"GRP_68\":68, \"GRP_69\":69, \"GRP_70\":70, \"GRP_71\":71, \"GRP_72\":72, \"GRP_73\":73}          \r\n",
        "                 } "
      ],
      "execution_count": null,
      "outputs": []
    },
    {
      "cell_type": "code",
      "metadata": {
        "id": "Lrgc7vEEfUgz"
      },
      "source": [
        "df_inc=df_inc.replace(replaceStruct)\r\n",
        "df_inc.head(10)"
      ],
      "execution_count": null,
      "outputs": []
    },
    {
      "cell_type": "code",
      "metadata": {
        "id": "6QJ4_GLVfW9a"
      },
      "source": [
        "# Split X and y into training and test set in 70:30 ratio\r\n",
        "x = df_inc.drop('Assignment group',axis=1)    \r\n",
        "y = df_inc['Assignment group']   \r\n",
        "def stratifiedSplitting (x1, y1, test_sizing):\r\n",
        "  stratifiedSplitter = StratifiedShuffleSplit(n_splits=5, test_size=test_sizing, random_state=0)\r\n",
        "  train, test = next(stratifiedSplitter.split(x1, y1))\r\n",
        "  y_train = y1.iloc[train]\r\n",
        "  y_test = y1.iloc[test]\r\n",
        "  x_train = x1.iloc[train]\r\n",
        "  x_test = x1.iloc[test]\r\n",
        "  return x_train, x_test, y_train, y_test \r\n",
        "\r\n",
        "x_train, x_test, y_train, y_test = stratifiedSplitting(x, y, 0.3)\r\n",
        "#stratifiedSplitter.get_n_splits(x, y)\r\n",
        "#for train_index, test_index in stratifiedSplitter.split(x, y):\r\n",
        "  #x_train, x_test = x[train_index], x[test_index]\r\n",
        "  #y_train, y_test = y[train_index], y[test_index]\r\n",
        "  #print(train_index)\r\n",
        "\r\n",
        "#x_train, x_test, y_train, y_test = train_test_split(X, Y, test_size=0.3, random_state=10) \r\n",
        "\r\n"
      ],
      "execution_count": null,
      "outputs": []
    },
    {
      "cell_type": "code",
      "metadata": {
        "id": "XCNgEANfe9wc"
      },
      "source": [
        "len(np.unique(y_train))"
      ],
      "execution_count": null,
      "outputs": []
    },
    {
      "cell_type": "code",
      "metadata": {
        "id": "KdHwdEqpfBEM"
      },
      "source": [
        "len(np.unique(y_test))"
      ],
      "execution_count": null,
      "outputs": []
    },
    {
      "cell_type": "code",
      "metadata": {
        "id": "3MAHNAGZFubq"
      },
      "source": [
        "x_train_set = pd.DataFrame(y_train)\r\n",
        "x_train_set[\"Assignment group\"] = x_train_set[\"Assignment group\"].apply(add_grp)\r\n",
        "plt.figure(figsize=(80,6))\r\n",
        "ax = sns.countplot(x_train_set[\"Assignment group\"], alpha=0.8)\r\n",
        "plt.title(\"Distribution of text by Groups\")\r\n",
        "plt.ylabel('Number of records')\r\n",
        "plt.xlabel('Group')\r\n",
        "labels = x_train_set.values\r\n",
        "plt.show()"
      ],
      "execution_count": null,
      "outputs": []
    },
    {
      "cell_type": "code",
      "metadata": {
        "id": "8iDODNCAHNJ2"
      },
      "source": [
        "x_train_set = pd.DataFrame(y_test)\r\n",
        "x_train_set[\"Assignment group\"] = x_train_set[\"Assignment group\"].apply(add_grp)\r\n",
        "plt.figure(figsize=(80,6))\r\n",
        "ax = sns.countplot(x_train_set[\"Assignment group\"], alpha=0.8)\r\n",
        "plt.title(\"Distribution of text by Groups\")\r\n",
        "plt.ylabel('Number of records')\r\n",
        "plt.xlabel('Group')\r\n",
        "labels = x_train_set.values\r\n",
        "plt.show()"
      ],
      "execution_count": null,
      "outputs": []
    },
    {
      "cell_type": "code",
      "metadata": {
        "id": "ZdHMFlup5ZEy"
      },
      "source": [
        "def save_models(model, filename):\r\n",
        "  json_for_model = model.to_json()\r\n",
        "  with open(folder_path+ \"/\" + filename, \"w\") as json_file_writer:\r\n",
        "      json_file_writer.write(json_for_model)\r\n",
        "  # serialize weights to HDF5\r\n",
        "  model.save_weights(folder_path+ \"/\" + filename.split(\".\")[0] + \".h5\")\r\n",
        "\r\n",
        "def load_models(filename):\r\n",
        "  json_for_model = open(folder_path+ \"/\" + filename, 'r')\r\n",
        "  read_json = json_for_model.read()\r\n",
        "  json_for_model.close()\r\n",
        "  json_for_model = None\r\n",
        "  model_loaded = model_from_json(read_json)\r\n",
        "  # load weights into new model\r\n",
        "  model_loaded.load_weights(folder_path+ \"/\" + filename.split(\".\")[0] + \".h5\")\r\n",
        "  gc.collect()\r\n",
        "  return model_loaded"
      ],
      "execution_count": null,
      "outputs": []
    },
    {
      "cell_type": "markdown",
      "metadata": {
        "id": "znHsxPEryiwx"
      },
      "source": [
        "## Logistic"
      ]
    },
    {
      "cell_type": "code",
      "metadata": {
        "id": "s4NCJgr2fW4W"
      },
      "source": [
        "#Logistic Regression\r\n",
        "\r\n",
        "# Fit the model on train\r\n",
        "model = \" \"\r\n",
        "if os.path.exists(folder_path + \"/\" + \"model_Logistic.pickle\"):\r\n",
        "  model = get_pickle_data(\"model_Logistic.pickle\")\r\n",
        "  #plot_data_LSTM = get_pickle_data(\"plot_data_LSTM.pickle\")\r\n",
        "else:\r\n",
        "  model = LogisticRegression(solver=\"liblinear\", class_weight = 'balanced')\r\n",
        "  model.fit(x_train, y_train)\r\n",
        "  pickle_dump(model, \"model_Logistic.pickle\")\r\n",
        "#predict on training data\r\n",
        "y_predict1 = model.predict(x_train)\r\n",
        "\r\n",
        "#predict on test data\r\n",
        "y_predict2 = model.predict(x_test)"
      ],
      "execution_count": null,
      "outputs": []
    },
    {
      "cell_type": "code",
      "metadata": {
        "id": "MZMuJvYDfr4p"
      },
      "source": [
        "# Confusion Matrix for Logistic Regression\r\n",
        "y_predict = model.predict(x_test)\r\n",
        "y_predict_prob = model.predict_proba(x_test)\r\n",
        "cm=metrics.confusion_matrix(y_test, y_predict, labels=[1, 0])\r\n",
        "df_cm = pd.DataFrame(cm, index = [i for i in [\"1\",\"0\"]],columns = [i for i in [\"Predict 1\",\"Predict 0\"]])\r\n",
        "plt.figure(figsize = (10,5))\r\n",
        "sns.set(font_scale=1.8)\r\n",
        "ax=sns.heatmap(df_cm, annot=True)\r\n",
        "bottom,top=ax.get_ylim()\r\n",
        "ax.set_ylim(bottom +0.5, top-0.5)"
      ],
      "execution_count": null,
      "outputs": []
    },
    {
      "cell_type": "code",
      "metadata": {
        "id": "pQAqWz9pLmcz"
      },
      "source": [
        "#Store the accuracy results of each model in a dataframe for final comparison\r\n",
        "Accuracy_Matrix = pd.DataFrame({'Classification Model':['Logistic Regression'], 'Training Accuracy': round(metrics.accuracy_score(y_train, y_predict1)*100,2), 'Test Accuracy': round(metrics.accuracy_score(y_test, y_predict2)*100,2)},index={'1'})\r\n",
        "Accuracy_Matrix = Accuracy_Matrix[['Classification Model', 'Training Accuracy','Test Accuracy']]\r\n",
        "model = None\r\n",
        "gc.collect()"
      ],
      "execution_count": null,
      "outputs": []
    },
    {
      "cell_type": "code",
      "metadata": {
        "id": "jYEM4Rd69K0v"
      },
      "source": [
        "Accuracy_Matrix"
      ],
      "execution_count": null,
      "outputs": []
    },
    {
      "cell_type": "code",
      "metadata": {
        "id": "0b5BYZsMLwC_"
      },
      "source": [
        "best_model = \" \"\r\n",
        "if os.path.exists(folder_path + \"/\" + \"best_model_Logistic.pickle\"):\r\n",
        "  best_model = get_pickle_data(\"best_model_Logistic.pickle\")\r\n",
        "  #plot_data_LSTM = get_pickle_data(\"plot_data_LSTM.pickle\")\r\n",
        "else:\r\n",
        "  model = LogisticRegression(solver = \"liblinear\")\r\n",
        "  penalty = ['l1', 'l2', 'elasticnet']\r\n",
        "  # Create regularization hyperparameter distribution using uniform distribution\r\n",
        "  C = [5, 4, 3, 1.0, 0.1, 0.01]\r\n",
        "  # Create hyperparameter options\r\n",
        "  hyperparameters = dict(C=C, penalty=penalty, class_weight = ['balanced'])\r\n",
        "  clf = RandomizedSearchCV(model, hyperparameters, random_state=1, n_iter=2, cv=2, verbose=1, n_jobs=-1)\r\n",
        "  best_model = clf.fit(x_train, y_train)\r\n",
        "  pickle_dump(best_model, \"best_model_Logistic.pickle\")\r\n",
        "\r\n",
        "best_model.best_params_"
      ],
      "execution_count": null,
      "outputs": []
    },
    {
      "cell_type": "code",
      "metadata": {
        "id": "padVIZZNMfMP"
      },
      "source": [
        "#Predict using the Best logistic regression model based on Hyper Parameter Tuning Results\r\n",
        "Bestpredict_train = best_model.predict(x_train)\r\n",
        "Bestpredict_test = best_model.predict(x_test)\r\n",
        "\r\n",
        "# Use score method to get accuracy of model\r\n",
        "print(\"Best Model Accuracy on Training Data: {0:.4f}\".format(metrics.accuracy_score(y_train, Bestpredict_train)))\r\n",
        "print(\"Best Model Accuracy on Test Data: {0:.4f}\".format(metrics.accuracy_score(y_test, Bestpredict_test)))"
      ],
      "execution_count": null,
      "outputs": []
    },
    {
      "cell_type": "code",
      "metadata": {
        "id": "IW9vxHhZMhs_"
      },
      "source": [
        "#Store the accuracy results of each model in a dataframe for final comparison\r\n",
        "Accuracy_HyperParam_LogisticReg = pd.DataFrame({'Classification Model':['Logistic Regression using Random Search'], 'Training Accuracy': round(metrics.accuracy_score(y_train, Bestpredict_train)*100,2), 'Test Accuracy': round(metrics.accuracy_score(y_test, Bestpredict_test)*100,2)},index={'2'})\r\n",
        "Accuracy_Matrix = pd.concat([Accuracy_Matrix, Accuracy_HyperParam_LogisticReg])\r\n",
        "best_model = None\r\n",
        "gc.collect()\r\n",
        "Accuracy_Matrix"
      ],
      "execution_count": null,
      "outputs": []
    },
    {
      "cell_type": "code",
      "metadata": {
        "id": "7jCRrGbfMs4p"
      },
      "source": [
        "best_model = \" \"\r\n",
        "gc.collect()\r\n",
        "if os.path.exists(folder_path + \"/\" + \"best_model_logistic_grid.pickle\"):\r\n",
        "  best_model = get_pickle_data(\"best_model_logistic_grid.pickle\")\r\n",
        "  #plot_data_LSTM = get_pickle_data(\"plot_data_LSTM.pickle\")\r\n",
        "else:\r\n",
        "  model = LogisticRegression()\r\n",
        "  parameters = [    \r\n",
        "      {'penalty' : ['l2', 'l1'],\r\n",
        "      'C' : [3.7, 3.8, 3.9, 4, 4.1, 4.2, 4.3],\r\n",
        "      'solver' : ['liblinear'],\r\n",
        "      'class_weight': [\"balanced\"]\r\n",
        "      }]\r\n",
        "    # Create grid search using 5-fold cross validation\r\n",
        "  clf1 = GridSearchCV(model,\r\n",
        "      parameters,\r\n",
        "      scoring='accuracy',\r\n",
        "      n_jobs= -1, verbose = 3,\r\n",
        "      cv=2)\r\n",
        "  # Fit grid search\r\n",
        "  best_model = clf1.fit(x_train, y_train)\r\n",
        "  pickle_dump(best_model, \"best_model_logistic_grid.pickle\")"
      ],
      "execution_count": null,
      "outputs": []
    },
    {
      "cell_type": "code",
      "metadata": {
        "id": "pfWNv3wvJY-9"
      },
      "source": [
        "#Store the accuracy results of each model in a dataframe for final comparison\r\n",
        "Accuracy_HyperParam_LogisticReg = pd.DataFrame({'Classification Model':['Logistic Grid Classifier'], 'Training Accuracy': round((best_model.score(x_train,y_train)*100),2), 'Test Accuracy': round((best_model.score(x_test,y_test)*100),2)},index={'3'})\r\n",
        "Accuracy_Matrix = pd.concat([Accuracy_Matrix, Accuracy_HyperParam_LogisticReg])\r\n",
        "print(best_model.best_params_)\r\n",
        "best_model = None\r\n",
        "gc.collect()\r\n",
        "Accuracy_Matrix"
      ],
      "execution_count": null,
      "outputs": []
    },
    {
      "cell_type": "markdown",
      "metadata": {
        "id": "oZJNkLFFyerk"
      },
      "source": [
        "## XGB"
      ]
    },
    {
      "cell_type": "code",
      "metadata": {
        "id": "s8vprdijfzxk"
      },
      "source": [
        "#xgboost\r\n",
        "# Fit the model on train\r\n",
        "model = \" \"\r\n",
        "if os.path.exists(folder_path + \"/\" + \"model_XGB.pickle\"):\r\n",
        "  model = get_pickle_data(\"model_XGB.pickle\")\r\n",
        "  #plot_data_LSTM = get_pickle_data(\"plot_data_LSTM.pickle\")\r\n",
        "else:\r\n",
        "  model = XGBClassifier(objective ='multi:softmax', early_stopping_rounds=10, colsample_bytree = 0.2, learning_rate = 0.03, max_depth = 100, alpha = 5, n_estimators = 5)\r\n",
        "  model.fit(x_train, y_train)\r\n",
        "  pickle_dump(model, \"model_XGB.pickle\")"
      ],
      "execution_count": null,
      "outputs": []
    },
    {
      "cell_type": "code",
      "metadata": {
        "id": "I2MZBVB3OkLf"
      },
      "source": [
        "#Store the accuracy results of each model in a dataframe for final comparison\r\n",
        "Accuracy_XGBC = pd.DataFrame({'Classification Model':['XGBoost Classifier1'], 'Training Accuracy': round((model.score(x_train,y_train)*100),2), 'Test Accuracy': round((model.score(x_test,y_test)*100),2)},index={'4'})\r\n",
        "Accuracy_Matrix = pd.concat([Accuracy_Matrix, Accuracy_XGBC])\r\n",
        "model = None\r\n",
        "gc.collect()\r\n",
        "Accuracy_Matrix"
      ],
      "execution_count": null,
      "outputs": []
    },
    {
      "cell_type": "code",
      "metadata": {
        "id": "2JuA6itjDnFY"
      },
      "source": [
        "#xgboost\r\n",
        "# Fit the model on train\r\n",
        "model = \" \"\r\n",
        "gc.collect()\r\n",
        "if os.path.exists(folder_path + \"/\" + \"model_XGB2.pickle\"):\r\n",
        "  model = get_pickle_data(\"model_XGB2.pickle\")\r\n",
        "  #plot_data_LSTM = get_pickle_data(\"plot_data_LSTM.pickle\")\r\n",
        "else:\r\n",
        "  model = XGBClassifier(objective ='multi:softmax', early_stopping_rounds = 10, colsample_bytree = 0.4, learning_rate = 0.1, max_depth = 200, n_estimators = 5)\r\n",
        "  model.fit(x_train, y_train)\r\n",
        "  pickle_dump(model, \"model_XGB2.pickle\")"
      ],
      "execution_count": null,
      "outputs": []
    },
    {
      "cell_type": "code",
      "metadata": {
        "id": "OGV3M3MIOpBZ"
      },
      "source": [
        "#Store the accuracy results of each model in a dataframe for final comparison\r\n",
        "Accuracy_XGBC = pd.DataFrame({'Classification Model':['XGBoost Classifier2'], 'Training Accuracy': round((model.score(x_train,y_train)*100),2), 'Test Accuracy': round((model.score(x_test,y_test)*100),2)},index={'5'})\r\n",
        "Accuracy_Matrix = pd.concat([Accuracy_Matrix, Accuracy_XGBC])\r\n",
        "model = None\r\n",
        "gc.collect()\r\n",
        "Accuracy_Matrix"
      ],
      "execution_count": null,
      "outputs": []
    },
    {
      "cell_type": "code",
      "metadata": {
        "id": "VxHgu8X8y2Vu"
      },
      "source": [
        "model = XGBClassifier(objective ='multi:softmax', n_estimators = 5) \r\n",
        "gc.collect()\r\n",
        "param_test1 = {\r\n",
        "    'max_depth':[175, 200, 225], #range(3,6,1),\r\n",
        "    'n_estimators': [5],\r\n",
        "    'learning_rate': [0.05],\r\n",
        "    'early_stopping_rounds' : [5]\r\n",
        "    }\r\n",
        "clf = \" \"\r\n",
        "if os.path.exists(folder_path + \"/\" + \"grid_search_xgb.pickle\"):\r\n",
        "  clf = get_pickle_data(\"grid_search_xgb.pickle\")\r\n",
        "  #plot_data_LSTM = get_pickle_data(\"plot_data_LSTM.pickle\")\r\n",
        "else:\r\n",
        "  search1 = GridSearchCV(estimator = model, param_grid = param_test1, scoring='accuracy', cv=2, verbose = True)\r\n",
        "  clf = search1.fit(x_train, y_train)\r\n",
        "  pickle_dump(clf, \"grid_search_xgb.pickle\")\r\n",
        "model = \" \""
      ],
      "execution_count": null,
      "outputs": []
    },
    {
      "cell_type": "code",
      "metadata": {
        "id": "oVuq3noUypPL"
      },
      "source": [
        "#Store the accuracy results of each model in a dataframe for final comparison\r\n",
        "Accuracy_XGBC = pd.DataFrame({'Classification Model':['XGBoost Classifier Grid Search'], 'Training Accuracy': round((clf.score(x_train,y_train)*100),2), 'Test Accuracy': round((clf.score(x_test,y_test)*100),2)},index={'6'})\r\n",
        "Accuracy_Matrix = pd.concat([Accuracy_Matrix, Accuracy_XGBC])\r\n",
        "clf = None\r\n",
        "gc.collect()\r\n",
        "Accuracy_Matrix"
      ],
      "execution_count": null,
      "outputs": []
    },
    {
      "cell_type": "markdown",
      "metadata": {
        "id": "RexyOrhAyZMH"
      },
      "source": [
        "## SVC"
      ]
    },
    {
      "cell_type": "code",
      "metadata": {
        "id": "tS2eJpJiGNb-"
      },
      "source": [
        "classifier = \" \"\r\n",
        "if os.path.exists(folder_path + \"/\" + \"svc1.pickle\"):\r\n",
        "  classifier = get_pickle_data(\"svc1.pickle\")\r\n",
        "else:\r\n",
        "  classifier = SVC(kernel = 'linear', class_weight = \"balanced\", random_state = 0)\r\n",
        "  classifier.fit(x_train, y_train)\r\n",
        "  pickle_dump(classifier, \"svc1.pickle\")\r\n",
        "#predict on training data\r\n",
        "y_predict1 = classifier.predict(x_train)\r\n",
        "\r\n",
        "#predict on test data\r\n",
        "y_predict2 = classifier.predict(x_test)\r\n",
        "\r\n",
        "# Use score method to get accuracy of model\r\n",
        "print(\"Model Accuracy on Training Data: {0:.4f}\".format(metrics.accuracy_score(y_train, y_predict1)))\r\n",
        "print(\"Model Accuracy on Test Data: {0:.4f}\".format(metrics.accuracy_score(y_test, y_predict2)))\r\n",
        "\r\n",
        "cm = confusion_matrix(y_test, y_predict2)\r\n",
        "sns.heatmap(cm)"
      ],
      "execution_count": null,
      "outputs": []
    },
    {
      "cell_type": "code",
      "metadata": {
        "id": "Q_JA9IodGn4-"
      },
      "source": [
        "#Store the accuracy results of each model in a dataframe for final comparison\r\n",
        "Accuracy_SVC = pd.DataFrame({'Classification Model':['Support Vector Classification'], 'Training Accuracy': round(metrics.accuracy_score(y_train, y_predict1)*100,2), 'Test Accuracy': round(metrics.accuracy_score(y_test, y_predict2)*100,2)},index={'7'})\r\n",
        "Accuracy_Matrix = pd.concat([Accuracy_Matrix, Accuracy_SVC])\r\n",
        "classifier = None\r\n",
        "gc.collect()\r\n",
        "Accuracy_Matrix"
      ],
      "execution_count": null,
      "outputs": []
    },
    {
      "cell_type": "code",
      "metadata": {
        "id": "5ODSte_4uFYi"
      },
      "source": [
        "# SVC Grid Search CV\r\n",
        "model_svc_gs = \" \"\r\n",
        "if os.path.exists(folder_path + \"/\" + \"SVC_gscv.pickle\"):\r\n",
        "  model_svc_gs = get_pickle_data(\"SVC_gscv.pickle\")\r\n",
        "else:\r\n",
        "  model_svc_gs = SVC(random_state = 42)\r\n",
        "  param_dist = {\"kernel\": ['rbf'], # 'sigmoid'],\r\n",
        "                'C': [1, 10, 100, 1000],\r\n",
        "                #'degree': [1, 2],\r\n",
        "                'class_weight': [\"balanced\"]\r\n",
        "                }\r\n",
        "  model_svc_gs = GridSearchCV(model_svc_gs, n_jobs=-1, param_grid=param_dist, cv = 2, verbose = True)\r\n",
        "  model_svc_gs.fit(x_train,y_train)\r\n",
        "  pickle_dump(model_svc_gs, \"SVC_gscv.pickle\")\r\n",
        "\r\n",
        "model_svc_gs.best_params_"
      ],
      "execution_count": null,
      "outputs": []
    },
    {
      "cell_type": "code",
      "metadata": {
        "id": "2n47JTVc9FS_"
      },
      "source": [
        "cm = confusion_matrix(y_test, y_predict2)\r\n",
        "sns.heatmap(cm)"
      ],
      "execution_count": null,
      "outputs": []
    },
    {
      "cell_type": "code",
      "metadata": {
        "id": "Nzh2D0G-uPjO"
      },
      "source": [
        "#Store the accuracy results of each model in a dataframe for final comparison\r\n",
        "Accuracy_SVC_GS = pd.DataFrame({'Classification Model':['Support Vector Classification (Grid Search)'], 'Training Accuracy': round(100*(model_svc_gs.score(x_train,y_train)),2), 'Test Accuracy': round(100*(model_svc_gs.score(x_test,y_test)),2)},index={'8'})\r\n",
        "Accuracy_Matrix = pd.concat([Accuracy_Matrix, Accuracy_SVC_GS])\r\n",
        "model_svc_gs = None\r\n",
        "gc.collect()\r\n",
        "Accuracy_Matrix"
      ],
      "execution_count": null,
      "outputs": []
    },
    {
      "cell_type": "markdown",
      "metadata": {
        "id": "NzfvtafCuTbb"
      },
      "source": [
        "## Random Forest"
      ]
    },
    {
      "cell_type": "code",
      "metadata": {
        "id": "Ow3Jzd1BuS7Z"
      },
      "source": [
        "if os.path.exists(folder_path + \"/\" + \"RandomForest1.pickle\"):\r\n",
        "   rf_classifier = get_pickle_data(\"RandomForest1.pickle\")\r\n",
        "else:\r\n",
        "  rf_classifier = RandomForestClassifier(n_estimators = 5, random_state=1)\r\n",
        "  rf_classifier.fit(x_train, y_train)\r\n",
        "  pickle_dump(rf_classifier, \"RandomForest1.pickle\")\r\n",
        "\r\n",
        "#predict on training data\r\n",
        "y_predict1 = rf_classifier.predict(x_train)\r\n",
        "\r\n",
        "#predict on test data\r\n",
        "y_predict2 = rf_classifier.predict(x_test)\r\n",
        "\r\n",
        "# Use score method to get accuracy of model\r\n",
        "print(\"Model Accuracy on Training Data: {0:.4f}\".format(metrics.accuracy_score(y_train, y_predict1)))\r\n",
        "print(\"Model Accuracy on Test Data: {0:.4f}\".format(metrics.accuracy_score(y_test, y_predict2)))\r\n",
        "\r\n",
        "cm = confusion_matrix(y_test, y_predict2)\r\n",
        "sns.heatmap(cm)"
      ],
      "execution_count": null,
      "outputs": []
    },
    {
      "cell_type": "code",
      "metadata": {
        "id": "yw8KaC14xlIu"
      },
      "source": [
        "#Store the accuracy results of each model in a dataframe for final comparison\r\n",
        "Accuracy_rf = pd.DataFrame({'Classification Model':['Random Forest Classifier'], 'Training Accuracy': round(100*metrics.accuracy_score(y_train, y_predict1),2), 'Test Accuracy': round(100*metrics.accuracy_score(y_test, y_predict2),2)},index={'9'})\r\n",
        "Accuracy_Matrix = pd.concat([Accuracy_Matrix, Accuracy_rf])\r\n",
        "Accuracy_Matrix"
      ],
      "execution_count": null,
      "outputs": []
    },
    {
      "cell_type": "code",
      "metadata": {
        "id": "yAFX2ey4ULUM"
      },
      "source": [
        "rf_classifier.get_params(True)"
      ],
      "execution_count": null,
      "outputs": []
    },
    {
      "cell_type": "code",
      "metadata": {
        "id": "6gIaf4qDUlv0"
      },
      "source": [
        "print(classification_report(y_test, y_predict2))"
      ],
      "execution_count": null,
      "outputs": []
    },
    {
      "cell_type": "code",
      "metadata": {
        "id": "SsXglpVtUfsf"
      },
      "source": [
        "rf_classifier = None\r\n",
        "gc.collect()"
      ],
      "execution_count": null,
      "outputs": []
    },
    {
      "cell_type": "code",
      "metadata": {
        "id": "OMreveHy3gRB"
      },
      "source": [
        "rf_grid_search = \" \"\r\n",
        "if os.path.exists(folder_path + \"/\" + \"best_model_rf_grid.pickle\"):\r\n",
        "  rf_grid_search = get_pickle_data(\"best_model_rf_grid.pickle\")\r\n",
        "else:\r\n",
        "  rf_gs = RandomForestClassifier(random_state=1)\r\n",
        "\r\n",
        "  param_grid = { \r\n",
        "      'n_estimators': [5, 25, 50],\r\n",
        "      'max_features': ['sqrt', 'log2'],\r\n",
        "      'max_depth' : [None],\r\n",
        "      'criterion' : ['entropy']\r\n",
        "  }\r\n",
        "\r\n",
        "  rf_grid_search = GridSearchCV(estimator=rf_gs, param_grid=param_grid, cv = 3)\r\n",
        "  rf_grid_search = rf_grid_search.fit(x_train, y_train)\r\n",
        "\r\n",
        "  pickle_dump(rf_grid_search, \"best_model_rf_grid.pickle\")\r\n",
        "print(rf_grid_search.best_params_)"
      ],
      "execution_count": null,
      "outputs": []
    },
    {
      "cell_type": "code",
      "metadata": {
        "id": "cnQh0YfK3tdw"
      },
      "source": [
        "rf_gs=RandomForestClassifier(random_state=1, max_features='log2', n_estimators= 50,  criterion='entropy')\r\n",
        "rf_gs.fit(x_train, y_train)\r\n",
        "pred1=rf_gs.predict(x_train)\r\n",
        "pred2=rf_gs.predict(x_test)"
      ],
      "execution_count": null,
      "outputs": []
    },
    {
      "cell_type": "code",
      "metadata": {
        "id": "Il6UKNjM3wMv"
      },
      "source": [
        "print('Accuracy Ensemble Model - RandomForest Classifier: ',accuracy_score(y_test,pred2))\r\n",
        "print('Confusion Matrix Ensemble Model - RandomForest Classifier: \\n',metrics.confusion_matrix(y_test, pred2))\r\n",
        "print('Classification report  Ensemble Model - RandomForest Classifier: \\n',metrics.classification_report(y_test, pred2))"
      ],
      "execution_count": null,
      "outputs": []
    },
    {
      "cell_type": "code",
      "metadata": {
        "id": "qLbmWO-f3yhl"
      },
      "source": [
        "#Store the accuracy results of each model in a dataframe for final comparison\r\n",
        "Accuracy_rfgs = pd.DataFrame({'Classification Model':['Random Forest Classifier (Grid Search)'], 'Training Accuracy': round(100*metrics.accuracy_score(y_train,pred1),2), 'Test Accuracy': round(100*metrics.accuracy_score(y_test,pred2),2)},index={'10'})\r\n",
        "Accuracy_Matrix = pd.concat([Accuracy_Matrix, Accuracy_rfgs])\r\n",
        "Accuracy_Matrix"
      ],
      "execution_count": null,
      "outputs": []
    },
    {
      "cell_type": "code",
      "metadata": {
        "id": "-VZEgPef4CaQ"
      },
      "source": [
        "# build the lightgbm model\r\n",
        "if os.path.exists(folder_path + \"/\" + \"light_gbm1.pickle\"):\r\n",
        "  model_lgb = get_pickle_data(\"light_gbm1.pickle\")\r\n",
        "else:\r\n",
        "  model_lgb = lgb.LGBMClassifier(iterations=50, random_seed=42, loss_function='MultiClass')\r\n",
        "  model_lgb.fit(x_train, y_train)\r\n",
        "  pickle_dump(model_lgb, \"light_gbm1.pickle\")"
      ],
      "execution_count": null,
      "outputs": []
    },
    {
      "cell_type": "code",
      "metadata": {
        "id": "IHkwf9C64OQs"
      },
      "source": [
        "pred1=model_lgb.predict(x_train)\r\n",
        "pred2=model_lgb.predict(x_test)"
      ],
      "execution_count": null,
      "outputs": []
    },
    {
      "cell_type": "code",
      "metadata": {
        "id": "r1JH0HeH4QFR"
      },
      "source": [
        "print('Accuracy LightGBM: ',accuracy_score(y_test,pred2))\r\n",
        "print('Confusion Matrix LightGBM: \\n',metrics.confusion_matrix(y_test, pred2))\r\n",
        "print('Classification report LightGBM: \\n',metrics.classification_report(y_test, pred2))"
      ],
      "execution_count": null,
      "outputs": []
    },
    {
      "cell_type": "code",
      "metadata": {
        "id": "AVTgmAI34TjJ"
      },
      "source": [
        "#Store the accuracy results of each model in a dataframe for final comparison\r\n",
        "Accuracy_lgbm = pd.DataFrame({'Classification Model':['LightGBM'], 'Training Accuracy': round(100*metrics.accuracy_score(y_train,pred1),2), 'Test Accuracy': round(100*metrics.accuracy_score(y_test,pred2),2)},index={'11'})\r\n",
        "Accuracy_Matrix = pd.concat([Accuracy_Matrix, Accuracy_lgbm])\r\n",
        "Accuracy_Matrix"
      ],
      "execution_count": null,
      "outputs": []
    },
    {
      "cell_type": "code",
      "metadata": {
        "id": "PxNkENFXeDLt"
      },
      "source": [
        "Accuracy_Matrix = Accuracy_Matrix.reset_index()\r\n",
        "Accuracy_Matrix = Accuracy_Matrix.drop([\"index\"], axis = 1)\r\n",
        "Accuracy_Matrix = Accuracy_Matrix.drop(index = 5, axis = 0)"
      ],
      "execution_count": null,
      "outputs": []
    },
    {
      "cell_type": "code",
      "metadata": {
        "id": "aMYJ-ZcEesVT"
      },
      "source": [
        "model_lgb.get_params"
      ],
      "execution_count": null,
      "outputs": []
    },
    {
      "cell_type": "code",
      "metadata": {
        "id": "WwftgCud4X_h"
      },
      "source": [
        "# Light GBM Grid Search CV\r\n",
        "if os.path.exists(folder_path + \"/\" + \"light_gbm_gscv.pickle\"):\r\n",
        "  model_lgb = get_pickle_data(\"light_gbm_gscv.pickle\")\r\n",
        "else:\r\n",
        "  model_lgb = lgb.LGBMClassifier(iterations=100, random_seed=42, loss_function='MultiClass')\r\n",
        "  param_dist = {\"max_depth\": [-1],\r\n",
        "                #\"learning_rate\" : [0.05,0.1,0.2],\r\n",
        "                #\"num_leaves\": [26,31,36],\r\n",
        "                \"n_estimators\": [75, 100, 125]\r\n",
        "              }\r\n",
        "  model_lgb = GridSearchCV(model_lgb, n_jobs=-1, param_grid=param_dist, cv = 2) #, scoring=\"roc_auc\", verbose=5)\r\n",
        "  model_lgb.fit(x_train,y_train)\r\n",
        "  pickle_dump(model_lgb, \"light_gbm_gscv.pickle\")\r\n",
        "print(model_lgb.best_params_)"
      ],
      "execution_count": null,
      "outputs": []
    },
    {
      "cell_type": "code",
      "metadata": {
        "id": "TsbuMd254wF-"
      },
      "source": [
        "#Store the accuracy results of each model in a dataframe for final comparison\r\n",
        "Accuracy_LGBM = pd.DataFrame({'Classification Model':['LightGBM (Grid Search)'], 'Training Accuracy': round((100*model_lgb.score(x_train,y_train)),2), 'Test Accuracy': round((100*model_lgb.score(x_test,y_test)),2)},index={'12'})\r\n",
        "Accuracy_Matrix = pd.concat([Accuracy_Matrix, Accuracy_LGBM])\r\n",
        "Accuracy_Matrix"
      ],
      "execution_count": null,
      "outputs": []
    },
    {
      "cell_type": "code",
      "metadata": {
        "id": "ELlNY3IHEUyC"
      },
      "source": [
        "class_weights = class_weight.compute_class_weight('balanced',\r\n",
        "                                                 np.unique(y_train),\r\n",
        "                                                 y_train)\r\n",
        "classes = np.unique(y_train)\r\n",
        "mapping = dict(zip([i for i in range(40)],np.unique(y_train)))\r\n",
        "class_weights = dict(zip([i for i in classes],class_weights))\r\n",
        "class_weights"
      ],
      "execution_count": null,
      "outputs": []
    },
    {
      "cell_type": "markdown",
      "metadata": {
        "id": "VpmSMyrJZ812"
      },
      "source": [
        "##Catboost Classifier"
      ]
    },
    {
      "cell_type": "code",
      "metadata": {
        "id": "UP24or1b43l8"
      },
      "source": [
        "from catboost import CatBoostClassifier, Pool, cv\r\n",
        "\r\n",
        "categorical_features_indices = np.where(x_train.dtypes != np.float)[0]\r\n",
        "cat_boost = \" \"\r\n",
        "\r\n",
        "if os.path.exists(folder_path + \"/\" + \"cat_boost1.pickle\"):\r\n",
        "  cat_boost = get_pickle_data(\"cat_boost1.pickle\")\r\n",
        "\r\n",
        "else:\r\n",
        "\r\n",
        "  cat_boost = CatBoostClassifier(iterations=300, learning_rate=0.3, depth=5, random_seed=42, loss_function='MultiClass')\r\n",
        "\r\n",
        "  cat_boost = cat_boost.fit(\r\n",
        "                            x_train, y_train,\r\n",
        "                            cat_features=categorical_features_indices,\r\n",
        "                            eval_set=(x_test, y_test),\r\n",
        "                            logging_level='Verbose', \r\n",
        "                            plot=True\r\n",
        "                            )\r\n",
        "  pickle_dump(cat_boost, \"cat_boost1.pickle\")"
      ],
      "execution_count": null,
      "outputs": []
    },
    {
      "cell_type": "code",
      "metadata": {
        "id": "UGRUJOzV5PQD"
      },
      "source": [
        "#Store the accuracy results of each model in a dataframe for final comparison\r\n",
        "Accuracy_cb = pd.DataFrame({'Classification Model':['CatBoost Classifier'], 'Training Accuracy': round(accuracy_score(y_train, cat_boost.predict(x_train)),2), 'Test Accuracy': round(accuracy_score(y_test, cat_boost.predict(x_test)),2)},index={'13'})\r\n",
        "Accuracy_Matrix = pd.concat([Accuracy_Matrix, Accuracy_cb])\r\n",
        "Accuracy_Matrix"
      ],
      "execution_count": null,
      "outputs": []
    },
    {
      "cell_type": "code",
      "metadata": {
        "id": "roezs9d4WNQe"
      },
      "source": [
        "cat_gs = CatBoostClassifier(random_seed=42, loss_function='MultiClass')\r\n",
        "param_test2 = {\r\n",
        "    'depth':[4,8],\r\n",
        "    'iterations': [100, 200],\r\n",
        "    'learning_rate': [0.2, 0.3]\r\n",
        "    }\r\n",
        "cat_boost_gs = \" \"\r\n",
        "if os.path.exists(folder_path + \"/\" + \"grid_search_cb.pickle\"):\r\n",
        "  cat_boost_gs = get_pickle_data(\"grid_search_cb.pickle\")\r\n",
        "\r\n",
        "else:\r\n",
        "  cat_boost_gs = GridSearchCV(estimator = cat_gs, param_grid = param_test2, cv=3)\r\n",
        "  cat_boost_gs = cat_boost_gs.fit(\r\n",
        "                          x_train, y_train,\r\n",
        "                          cat_features=categorical_features_indices,\r\n",
        "                          eval_set=(x_test, y_test),\r\n",
        "                          logging_level='Verbose', \r\n",
        "                          plot=True\r\n",
        "                          )\r\n",
        "  pickle_dump(cat_boost_gs, \"grid_search_cb.pickle\")"
      ],
      "execution_count": null,
      "outputs": []
    },
    {
      "cell_type": "code",
      "metadata": {
        "id": "Qkme2HUqWOcA"
      },
      "source": [
        "cat_boost_gs.best_params_"
      ],
      "execution_count": null,
      "outputs": []
    },
    {
      "cell_type": "code",
      "metadata": {
        "id": "r-PddgrPWOWs"
      },
      "source": [
        "cat_boost_bestmodel = \" \"\r\n",
        "\r\n",
        "if os.path.exists(folder_path + \"/\" + \"cat_boost_bestmodel.pickle\"):\r\n",
        "  cat_boost_bestmodel = get_pickle_data(\"cat_boost_bestmodel.pickle\")\r\n",
        "\r\n",
        "else:\r\n",
        "#  cat_boost_bestmodel=RandomForestClassifier(random_state=1, max_features='log2', n_estimators= 30, max_depth=300, criterion='entropy')\r\n",
        "  cat_boost_bestmodel.fit(x_train, y_train)\r\n",
        "  pred1=cat_boost_bestmodel.predict(x_train)\r\n",
        "  pred2=cat_boost_bestmodel.predict(x_test)\r\n",
        "  pickle_dump(cat_boost_bestmodel, \"cat_boost_bestmodel.pickle\")"
      ],
      "execution_count": null,
      "outputs": []
    },
    {
      "cell_type": "markdown",
      "metadata": {
        "id": "cOtAcWPckzsw"
      },
      "source": [
        "## Vocabularizing the Deep Learning Df"
      ]
    },
    {
      "cell_type": "code",
      "metadata": {
        "id": "IwEOG-fRVF0X"
      },
      "source": [
        "deep_learning_df.shape"
      ],
      "execution_count": null,
      "outputs": []
    },
    {
      "cell_type": "code",
      "metadata": {
        "id": "pGd2Hw-qq_gW"
      },
      "source": [
        "def vocabularize(text, max_features):\n",
        "  x = text\n",
        "  vocabSize = max_features\n",
        "  tokenizer = Tokenizer(num_words=vocabSize, split=' ')\n",
        "  tokenizer.fit_on_texts(x)\n",
        "  x = tokenizer.texts_to_sequences(x)\n",
        "  x = pad_sequences(x,300)\n",
        "  return x\n",
        "x = vocabularize(deep_learning_df[\"Description_New\"], max_features)\n",
        "x"
      ],
      "execution_count": null,
      "outputs": []
    },
    {
      "cell_type": "code",
      "metadata": {
        "id": "ZmC9JfE-gWzF"
      },
      "source": [
        "x2 = deep_learning_df[[\"Job\",\"SID\",\"Host\"]]\r\n",
        "x = pd.DataFrame(x)\r\n",
        "x = pd.concat([x,x2], axis = 1)\r\n",
        "x = np.array(x)\r\n",
        "x"
      ],
      "execution_count": null,
      "outputs": []
    },
    {
      "cell_type": "code",
      "metadata": {
        "id": "2d56Pd5Rs9fS"
      },
      "source": [
        "updated_deep_learning_df = deep_learning_df.replace(replaceStruct)\r\n",
        "y = updated_deep_learning_df[\"Assignment group\"]\r\n",
        "y = np.array(y)\r\n",
        "stratifiedSplitter = StratifiedShuffleSplit(n_splits=5, test_size=0.3, random_state=0)\r\n",
        "train, test = next(stratifiedSplitter.split(x, y))\r\n",
        "y_train = y[train]\r\n",
        "y_test = y[test]\r\n",
        "x_train = x[train]\r\n",
        "x_test = x[test]"
      ],
      "execution_count": null,
      "outputs": []
    },
    {
      "cell_type": "code",
      "metadata": {
        "id": "W5eWhFpnkOaR"
      },
      "source": [
        "plt.figure(figsize=(20,6))\r\n",
        "ax= sns.countplot(y_train, alpha=0.8)\r\n",
        "plt.title(\"Distribution of text by Assignment Group\")\r\n",
        "plt.ylabel('number of records')\r\n",
        "plt.xlabel('Language')\r\n",
        "rects = ax.patches\r\n",
        "plt.show();"
      ],
      "execution_count": null,
      "outputs": []
    },
    {
      "cell_type": "code",
      "metadata": {
        "id": "B55lMw_y0Ucr"
      },
      "source": [
        "class_weights = class_weight.compute_class_weight('balanced',\r\n",
        "                                                 np.unique(y_train),\r\n",
        "                                                 y_train)"
      ],
      "execution_count": null,
      "outputs": []
    },
    {
      "cell_type": "code",
      "metadata": {
        "id": "5uOwD8us6kjy"
      },
      "source": [
        "len(np.unique(y_train))\r\n",
        "mapping = dict(zip([i for i in range(40)],np.unique(y_train)))\r\n",
        "class_weights = dict(zip([i for i in range(40)],class_weights))\r\n",
        "class_weights"
      ],
      "execution_count": null,
      "outputs": []
    },
    {
      "cell_type": "code",
      "metadata": {
        "id": "GgRtTXxg_LJb"
      },
      "source": [
        "mapping"
      ],
      "execution_count": null,
      "outputs": []
    },
    {
      "cell_type": "code",
      "metadata": {
        "id": "t_3aaEmV_UEB"
      },
      "source": [
        "reversemapping = dict(zip([mapping[i] for i in mapping], [i for i in mapping]))\r\n",
        "reversemapping"
      ],
      "execution_count": null,
      "outputs": []
    },
    {
      "cell_type": "code",
      "metadata": {
        "id": "TQxBQeiexMvU"
      },
      "source": [
        "y_train"
      ],
      "execution_count": null,
      "outputs": []
    },
    {
      "cell_type": "code",
      "metadata": {
        "id": "F2XfqZlACRm9"
      },
      "source": [
        "count = len(y_train)\r\n",
        "y_train_new = []\r\n",
        "for i in range(count):\r\n",
        "  y_train_new.append(reversemapping[y_train[i]])\r\n",
        "\r\n",
        "count = len(y_test)\r\n",
        "y_test_new = []\r\n",
        "for i in range(count):\r\n",
        "  y_test_new.append(reversemapping[y_test[i]])\r\n",
        "\r\n",
        "y_train_new = np.array(y_train_new)\r\n",
        "y_test_new = np.array(y_test_new)"
      ],
      "execution_count": null,
      "outputs": []
    },
    {
      "cell_type": "code",
      "metadata": {
        "id": "_L2mdjrQNfhV"
      },
      "source": [
        "y_train_final = np.zeros((y_train_new.size, y_train_new.max()+1))\r\n",
        "y_train_final[np.arange(y_train_new.size),y_train_new] = 1\r\n",
        "y_test_final = np.zeros((y_test_new.size, y_test_new.max()+1))\r\n",
        "y_test_final[np.arange(y_test_new.size),y_test_new] = 1"
      ],
      "execution_count": null,
      "outputs": []
    },
    {
      "cell_type": "code",
      "metadata": {
        "id": "JwSn4u07Ng6G"
      },
      "source": [
        "y_train_final"
      ],
      "execution_count": null,
      "outputs": []
    },
    {
      "cell_type": "code",
      "metadata": {
        "id": "TVs-FwDJO2Sm"
      },
      "source": [
        "y_train_final.shape"
      ],
      "execution_count": null,
      "outputs": []
    },
    {
      "cell_type": "code",
      "metadata": {
        "id": "_p3dDdPRNsnH"
      },
      "source": [
        "y_test_final"
      ],
      "execution_count": null,
      "outputs": []
    },
    {
      "cell_type": "code",
      "metadata": {
        "id": "Dm2lfqOdN3VU"
      },
      "source": [
        "y_test_final.shape"
      ],
      "execution_count": null,
      "outputs": []
    },
    {
      "cell_type": "code",
      "metadata": {
        "id": "ROPKZu76cjTT"
      },
      "source": [
        "es = EarlyStopping(monitor='val_accuracy', mode='auto', verbose=1, patience = 5)"
      ],
      "execution_count": null,
      "outputs": []
    },
    {
      "cell_type": "code",
      "metadata": {
        "id": "DD8lXQe1M-ja"
      },
      "source": [
        "x[:,:300]"
      ],
      "execution_count": null,
      "outputs": []
    },
    {
      "cell_type": "code",
      "metadata": {
        "id": "TdBVxRXmOJvx"
      },
      "source": [
        "x[:,300:]"
      ],
      "execution_count": null,
      "outputs": []
    },
    {
      "cell_type": "code",
      "metadata": {
        "id": "zgDUvOMswox-",
        "colab": {
          "base_uri": "https://localhost:8080/"
        },
        "outputId": "1034151c-4e9d-4bb4-b4ea-bb9996336ca2"
      },
      "source": [
        "#### Add your code here ####\r\n",
        "VOCAB_SIZE = max_features\r\n",
        "model_final = \" \"\r\n",
        "fitted_model = \" \"\r\n",
        "plot_data_LSTM = \" \"\r\n",
        "if os.path.exists(folder_path + \"/\" + \"model_LSTM_trained.json\"):\r\n",
        "  model_final = load_models(\"model_LSTM_trained.json\")\r\n",
        "  model_final.load_weights(folder_path + \"/\" + \"model_LSTM_trained.h5\")\r\n",
        "  model_final.compile(optimizer= \"adam\", loss =\"binary_crossentropy\",metrics =[\"accuracy\"])\r\n",
        "  plot_data_LSTM = get_pickle_data(\"plot_data_LSTM.pickle\")\r\n",
        "else:\r\n",
        "  model = Sequential() #creating sequential model\r\n",
        "  model.add(Input(shape=(300,)))\r\n",
        "  model.add(Embedding(input_dim = VOCAB_SIZE, output_dim = 300, input_length = 300)) #adding embedding layer\r\n",
        "  model.add(SpatialDropout1D(0.2)) #added for robustness\r\n",
        "  model.add(LSTM(units = MAX_LENGTH, return_sequences = True, recurrent_dropout = 0.1)) #adding LSTM layer\r\n",
        "  #model.add(TimeDistributed(Dense(100, activation = \"relu\"))) # timedistributed layer\r\n",
        "  model.add(Flatten())\r\n",
        "  model_others = Sequential()\r\n",
        "  model_others.add(Input(shape=(3,)))\r\n",
        "  model_others.add(Dense(3, activation=\"relu\"))\r\n",
        "  model_others.add(Flatten())\r\n",
        "  merged_layer = Concatenate()([model.get_layer(index = 3).output, model_others.get_layer(index = 1).output])\r\n",
        "  merged_layer = Flatten() (merged_layer)\r\n",
        "  merged_layer = Dense(len(np.unique(y)),activation=\"softmax\")(merged_layer)\r\n",
        "  model_final = Model(inputs=[model.input, model_others.input], outputs=[merged_layer])\r\n",
        "  opt = Adam()\r\n",
        "  accuracy_array = []\r\n",
        "  val_accuracy_array = []\r\n",
        "  for i in range(7):\r\n",
        "    model_final.compile(optimizer = opt, loss =\"binary_crossentropy\",metrics =[\"accuracy\"])\r\n",
        "    fitted_model = model_final.fit([x_train[:,:300], x_train[:,300:]], y_train_final, batch_size = 512, epochs=2, verbose=1, validation_split=0.2, class_weight = class_weights,callbacks = [es])\r\n",
        "    accuracy_array = accuracy_array + fitted_model.history[\"accuracy\"]\r\n",
        "    val_accuracy_array = val_accuracy_array + fitted_model.history[\"val_accuracy\"]\r\n",
        "    lr = opt.learning_rate * 0.75\r\n",
        "    opt = Adam(learning_rate=lr)\r\n",
        "    gc.collect()\r\n",
        "    print(\"************************LOOP*****************************\", i, \"LEARNING RATE\", lr)\r\n",
        "    time.sleep(1)\r\n",
        "  save_models(model_final, \"model_LSTM_trained.json\")\r\n",
        "  plot_data_LSTM = pd.DataFrame([accuracy_array,val_accuracy_array]).transpose()\r\n",
        "  plot_data_LSTM.columns = [\"accuracy\",\"val_accuracy\"]\r\n",
        "  pickle_dump(plot_data_LSTM, \"plot_data_LSTM.pickle\")"
      ],
      "execution_count": null,
      "outputs": [
        {
          "output_type": "stream",
          "text": [
            "Epoch 1/2\n",
            "72/72 [==============================] - 1251s 17s/step - loss: 0.1777 - accuracy: 0.0632 - val_loss: 0.0968 - val_accuracy: 0.3132\n",
            "Epoch 2/2\n",
            "72/72 [==============================] - 1271s 18s/step - loss: 0.0791 - accuracy: 0.4632 - val_loss: 0.0323 - val_accuracy: 0.7813\n",
            "************************LOOP***************************** 0 LEARNING RATE tf.Tensor(0.00075, shape=(), dtype=float32)\n",
            "Epoch 1/2\n",
            "72/72 [==============================] - 1282s 18s/step - loss: 0.0307 - accuracy: 0.8098 - val_loss: 0.0197 - val_accuracy: 0.8644\n",
            "Epoch 2/2\n",
            "72/72 [==============================] - 1296s 18s/step - loss: 0.0157 - accuracy: 0.8831 - val_loss: 0.0142 - val_accuracy: 0.9021\n",
            "************************LOOP***************************** 1 LEARNING RATE tf.Tensor(0.0005625, shape=(), dtype=float32)\n",
            "Epoch 1/2\n",
            "72/72 [==============================] - 1310s 18s/step - loss: 0.0119 - accuracy: 0.9102 - val_loss: 0.0120 - val_accuracy: 0.9148\n",
            "Epoch 2/2\n",
            "72/72 [==============================] - 1312s 18s/step - loss: 0.0095 - accuracy: 0.9255 - val_loss: 0.0109 - val_accuracy: 0.9236\n",
            "************************LOOP***************************** 2 LEARNING RATE tf.Tensor(0.00042187498, shape=(), dtype=float32)\n",
            "Epoch 1/2\n",
            "72/72 [==============================] - 1337s 19s/step - loss: 0.0082 - accuracy: 0.9319 - val_loss: 0.0094 - val_accuracy: 0.9326\n",
            "Epoch 2/2\n",
            "72/72 [==============================] - 1267s 18s/step - loss: 0.0073 - accuracy: 0.9400 - val_loss: 0.0088 - val_accuracy: 0.9362\n",
            "************************LOOP***************************** 3 LEARNING RATE tf.Tensor(0.00031640625, shape=(), dtype=float32)\n",
            "Epoch 1/2\n",
            "72/72 [==============================] - 1279s 18s/step - loss: 0.0067 - accuracy: 0.9454 - val_loss: 0.0086 - val_accuracy: 0.9347\n",
            "Epoch 2/2\n",
            "72/72 [==============================] - 1307s 18s/step - loss: 0.0063 - accuracy: 0.9476 - val_loss: 0.0082 - val_accuracy: 0.9403\n",
            "************************LOOP***************************** 4 LEARNING RATE tf.Tensor(0.00023730469, shape=(), dtype=float32)\n",
            "Epoch 1/2\n",
            "72/72 [==============================] - 1303s 18s/step - loss: 0.0062 - accuracy: 0.9470 - val_loss: 0.0081 - val_accuracy: 0.9381\n",
            "Epoch 2/2\n",
            "72/72 [==============================] - 1329s 18s/step - loss: 0.0058 - accuracy: 0.9501 - val_loss: 0.0075 - val_accuracy: 0.9422\n",
            "************************LOOP***************************** 5 LEARNING RATE tf.Tensor(0.00017797851, shape=(), dtype=float32)\n",
            "Epoch 1/2\n",
            "72/72 [==============================] - 1332s 18s/step - loss: 0.0057 - accuracy: 0.9498 - val_loss: 0.0078 - val_accuracy: 0.9410\n",
            "Epoch 2/2\n",
            "72/72 [==============================] - 1323s 18s/step - loss: 0.0058 - accuracy: 0.9505 - val_loss: 0.0074 - val_accuracy: 0.9418\n",
            "************************LOOP***************************** 6 LEARNING RATE tf.Tensor(0.00013348387, shape=(), dtype=float32)\n"
          ],
          "name": "stdout"
        }
      ]
    },
    {
      "cell_type": "code",
      "metadata": {
        "colab": {
          "base_uri": "https://localhost:8080/",
          "height": 207
        },
        "id": "EYbb2qlwJqR4",
        "outputId": "9524b858-94ad-4f92-fccc-268d36add08e"
      },
      "source": [
        "#Store the accuracy results of each model in a dataframe for final comparison\r\n",
        "train_score, train_acc = model_final.evaluate([x_train[:,:300], x_train[:,300:]], y_train_final,verbose = 1)\r\n",
        "test_score, test_acc = model_final.evaluate([x_test[:,:300], x_test[:,300:]], y_test_final,verbose = 1)\r\n",
        "Accuracy_LSTM = pd.DataFrame({'Classification Model':['LSTM'], 'Training Accuracy': round(train_acc*100,2), 'Test Accuracy': round(test_acc*100,2)},index={'15'})\r\n",
        "Accuracy_Matrix = pd.concat([Accuracy_Matrix, Accuracy_LSTM])\r\n",
        "Accuracy_Matrix"
      ],
      "execution_count": null,
      "outputs": [
        {
          "output_type": "stream",
          "text": [
            "1440/1440 [==============================] - 672s 467ms/step - loss: 0.0058 - accuracy: 0.9499\n",
            "617/617 [==============================] - 269s 436ms/step - loss: 0.0073 - accuracy: 0.9426\n"
          ],
          "name": "stdout"
        },
        {
          "output_type": "execute_result",
          "data": {
            "text/html": [
              "<div>\n",
              "<style scoped>\n",
              "    .dataframe tbody tr th:only-of-type {\n",
              "        vertical-align: middle;\n",
              "    }\n",
              "\n",
              "    .dataframe tbody tr th {\n",
              "        vertical-align: top;\n",
              "    }\n",
              "\n",
              "    .dataframe thead th {\n",
              "        text-align: right;\n",
              "    }\n",
              "</style>\n",
              "<table border=\"1\" class=\"dataframe\">\n",
              "  <thead>\n",
              "    <tr style=\"text-align: right;\">\n",
              "      <th></th>\n",
              "      <th>Classification Model</th>\n",
              "      <th>Training Accuracy</th>\n",
              "      <th>Test Accuracy</th>\n",
              "    </tr>\n",
              "  </thead>\n",
              "  <tbody>\n",
              "    <tr>\n",
              "      <th>1</th>\n",
              "      <td>Logistic Regression</td>\n",
              "      <td>90.74</td>\n",
              "      <td>89.62</td>\n",
              "    </tr>\n",
              "    <tr>\n",
              "      <th>2</th>\n",
              "      <td>Logistic Regression using Random Search</td>\n",
              "      <td>94.32</td>\n",
              "      <td>93.57</td>\n",
              "    </tr>\n",
              "    <tr>\n",
              "      <th>3</th>\n",
              "      <td>Logistic Grid Classifier</td>\n",
              "      <td>94.41</td>\n",
              "      <td>93.64</td>\n",
              "    </tr>\n",
              "    <tr>\n",
              "      <th>15</th>\n",
              "      <td>LSTM</td>\n",
              "      <td>94.99</td>\n",
              "      <td>94.26</td>\n",
              "    </tr>\n",
              "  </tbody>\n",
              "</table>\n",
              "</div>"
            ],
            "text/plain": [
              "                       Classification Model  Training Accuracy  Test Accuracy\n",
              "1                       Logistic Regression              90.74          89.62\n",
              "2   Logistic Regression using Random Search              94.32          93.57\n",
              "3                  Logistic Grid Classifier              94.41          93.64\n",
              "15                                     LSTM              94.99          94.26"
            ]
          },
          "metadata": {
            "tags": []
          },
          "execution_count": 206
        }
      ]
    },
    {
      "cell_type": "code",
      "metadata": {
        "id": "GTVo6e7vbd9F",
        "colab": {
          "base_uri": "https://localhost:8080/",
          "height": 318
        },
        "outputId": "5909a6ed-a021-45b6-8ca8-c91a02a40d8d"
      },
      "source": [
        "plt.xlabel(\"accuracy\")\r\n",
        "plt.ylabel(\"val_accuracy\")\r\n",
        "plt.plot(plot_data_LSTM[\"accuracy\"],plot_data_LSTM[\"val_accuracy\"], ls = \"-\", marker = \".\", markersize = \"10\")"
      ],
      "execution_count": null,
      "outputs": [
        {
          "output_type": "execute_result",
          "data": {
            "text/plain": [
              "[<matplotlib.lines.Line2D at 0x7ff4c1b0a438>]"
            ]
          },
          "metadata": {
            "tags": []
          },
          "execution_count": 207
        },
        {
          "output_type": "display_data",
          "data": {
            "image/png": "[encoded data removed]",
            "text/plain": [
              "<Figure size 432x288 with 1 Axes>"
            ]
          },
          "metadata": {
            "tags": []
          }
        }
      ]
    },
    {
      "cell_type": "code",
      "metadata": {
        "colab": {
          "base_uri": "https://localhost:8080/"
        },
        "id": "8zRHv52QLtiv",
        "outputId": "17521e3a-b3ac-4772-8ea3-bee1307a413c"
      },
      "source": [
        "y_predicted = model.predict([x_test[:,:300], x_test[:,300:]])\r\n",
        "y_predicted_indexes = np.argmax(y_predicted, axis = 1)\r\n",
        "y_predicted_mapping = [mapping[i] for i in y_predicted_indexes]\r\n",
        "print(classification_report(y_test, y_predicted_mapping))"
      ],
      "execution_count": null,
      "outputs": [
        {
          "output_type": "stream",
          "text": [
            "WARNING:tensorflow:Model was constructed with shape (None, 300) for input KerasTensor(type_spec=TensorSpec(shape=(None, 300), dtype=tf.float32, name='input_17'), name='input_17', description=\"created by layer 'input_17'\"), but it was called on an input with incompatible shape (32, 303).\n"
          ],
          "name": "stdout"
        }
      ]
    },
    {
      "cell_type": "code",
      "metadata": {
        "id": "5saXu4FOgO3q"
      },
      "source": [
        "#### Add your code here ####\r\n",
        "VOCAB_SIZE = max_features\r\n",
        "model = \" \"\r\n",
        "fitted_model = \" \"\r\n",
        "plot_data_LSTM = \" \"\r\n",
        "if os.path.exists(folder_path + \"/\" + \"model_LSTM_trained2.json\"):\r\n",
        "  model = load_models(\"model_LSTM_trained2.json\")\r\n",
        "  model.load_weights(folder_path + \"/\" + \"model_LSTM_trained2.h5\")\r\n",
        "  model.compile(optimizer= \"adam\", loss =\"binary_crossentropy\",metrics =[\"accuracy\"])\r\n",
        "  plot_data_LSTM = get_pickle_data(\"plot_data_LSTM2.pickle\")\r\n",
        "else:\r\n",
        "  model = Sequential() #creating sequential model\r\n",
        "  model.add(Embedding(input_dim = VOCAB_SIZE, output_dim = 303, input_length = 303)) #adding embedding layer\r\n",
        "  model.add(SpatialDropout1D(0.2)) #added for robustness\r\n",
        "  model.add(LSTM(units = 303, return_sequences = True, recurrent_dropout = 0.1)) #adding LSTM layer\r\n",
        "  #model.add(TimeDistributed(Dense(100, activation = \"relu\"))) # timedistributed layer\r\n",
        "  model.add(Flatten())\r\n",
        "  model.add(Dense(len(np.unique(y)),activation=\"softmax\")) #Dense layer\r\n",
        "  opt = Adam()\r\n",
        "  accuracy_array = []\r\n",
        "  val_accuracy_array = []\r\n",
        "  for i in range(7):\r\n",
        "    model.compile(optimizer = opt, loss =\"binary_crossentropy\",metrics =[\"accuracy\"])\r\n",
        "    fitted_model = model.fit(x_train, y_train_final, batch_size = 512, epochs=2, verbose=1, validation_split=0.2, class_weight = class_weights,callbacks = [es])\r\n",
        "    accuracy_array = accuracy_array + fitted_model.history[\"accuracy\"]\r\n",
        "    val_accuracy_array = val_accuracy_array + fitted_model.history[\"val_accuracy\"]\r\n",
        "    lr = opt.learning_rate * 0.85\r\n",
        "    opt = Adam(learning_rate=lr)\r\n",
        "    gc.collect()\r\n",
        "    print(\"************************LOOP*****************************\", i, \"LEARNING RATE\", lr)\r\n",
        "    time.sleep(1)\r\n",
        "  save_models(model, \"model_LSTM_trained2.json\")\r\n",
        "  plot_data_LSTM = pd.DataFrame([accuracy_array,val_accuracy_array]).transpose()\r\n",
        "  plot_data_LSTM.columns = [\"accuracy\",\"val_accuracy\"]\r\n",
        "  pickle_dump(plot_data_LSTM, \"plot_data_LSTM2.pickle\")"
      ],
      "execution_count": null,
      "outputs": []
    },
    {
      "cell_type": "code",
      "metadata": {
        "id": "n_NRDfDRgfFu"
      },
      "source": [
        "#Store the accuracy results of each model in a dataframe for final comparison\r\n",
        "train_score, train_acc = model_final.evaluate(x_train, y_train_final,verbose = 1)\r\n",
        "test_score, test_acc = model_final.evaluate(x_test, y_test_final,verbose = 1)\r\n",
        "Accuracy_LSTM = pd.DataFrame({'Classification Model':['LSTM'], 'Training Accuracy': round(train_acc*100,2), 'Test Accuracy': round(test_acc*100,2)},index={'16'})\r\n",
        "Accuracy_Matrix = pd.concat([Accuracy_Matrix, Accuracy_LSTM])\r\n",
        "Accuracy_Matrix"
      ],
      "execution_count": null,
      "outputs": []
    },
    {
      "cell_type": "code",
      "metadata": {
        "id": "VkZIOoMfhUPh"
      },
      "source": [
        "plt.xlabel(\"accuracy\")\r\n",
        "plt.ylabel(\"val_accuracy\")\r\n",
        "plt.plot(plot_data_LSTM[\"accuracy\"],plot_data_LSTM[\"val_accuracy\"], ls = \"-\", marker = \".\", markersize = \"10\")"
      ],
      "execution_count": null,
      "outputs": []
    },
    {
      "cell_type": "code",
      "metadata": {
        "id": "lr7AtQgHhVAY"
      },
      "source": [
        "y_predicted = model.predict(x_test)\r\n",
        "y_predicted_indexes = np.argmax(y_predicted, axis = 1)\r\n",
        "y_predicted_mapping = [mapping[i] for i in y_predicted_indexes]\r\n",
        "print(classification_report(y_test, y_predicted_mapping))"
      ],
      "execution_count": null,
      "outputs": []
    },
    {
      "cell_type": "code",
      "metadata": {
        "id": "kGjKNH8Z57UZ"
      },
      "source": [
        "#### Add your code here ####\r\n",
        "VOCAB_SIZE = max_features\r\n",
        "model_GRU = \" \"\r\n",
        "fitted_model = \" \"\r\n",
        "plot_data_GRU = \" \"\r\n",
        "if os.path.exists(folder_path + \"/\" + \"model_GRU_trained.json\"):\r\n",
        "  model_GRU = load_models(\"model_GRU_trained.json\")\r\n",
        "  model_GRU.load_weights(folder_path + \"/\" + \"model_GRU_trained.h5\")\r\n",
        "  model_GRU.compile(optimizer= \"adam\", loss =\"binary_crossentropy\",metrics =[\"accuracy\"])\r\n",
        "  plot_data_GRU = get_pickle_data(\"plot_data_GRU.pickle\")\r\n",
        "else:\r\n",
        "  model_GRU = Sequential() #creating sequential model\r\n",
        "  model_GRU.add(Embedding(input_dim = VOCAB_SIZE, output_dim = MAX_LENGTH, input_length = MAX_LENGTH)) #adding embedding layer\r\n",
        "  model_GRU.add(SpatialDropout1D(0.2)) #added for robustness\r\n",
        "  model_GRU.add(GRU(units=MAX_LENGTH, return_sequences=True, input_shape=(MAX_LENGTH,1), activation='tanh'))\r\n",
        "  #model_GRU.add(TimeDistributed(Dense(100, activation = \"relu\"))) # timedistributed layer\r\n",
        "  model_GRU.add(Flatten())\r\n",
        "  model_GRU.add(Dense(len(np.unique(y)),activation=\"softmax\")) #Dense layer\r\n",
        "  opt = Adam()\r\n",
        "  accuracy_array = []\r\n",
        "  val_accuracy_array = []\r\n",
        "  for i in range(6):\r\n",
        "    model_GRU.compile(optimizer = opt, loss =\"binary_crossentropy\",metrics =[\"accuracy\"])\r\n",
        "    fitted_model = model_GRU.fit(x_train, y_train_final, batch_size = 512, epochs=2, verbose=1, validation_split=0.2, class_weight = class_weights,callbacks = [es])\r\n",
        "    accuracy_array = accuracy_array + fitted_model.history[\"accuracy\"]\r\n",
        "    val_accuracy_array = val_accuracy_array + fitted_model.history[\"val_accuracy\"]\r\n",
        "    lr = opt.learning_rate * 0.75\r\n",
        "    opt = Adam(learning_rate=lr)\r\n",
        "    gc.collect()\r\n",
        "    print(\"************************LOOP*****************************\", i, \"LEARNING RATE\", lr)\r\n",
        "    time.sleep(1)\r\n",
        "  save_models(model_GRU, \"model_GRU_trained.json\")\r\n",
        "  plot_data_GRU = pd.DataFrame([accuracy_array,val_accuracy_array]).transpose()\r\n",
        "  plot_data_GRU.columns = [\"accuracy\",\"val_accuracy\"]\r\n",
        "  pickle_dump(plot_data_GRU, \"plot_data_GRU.pickle\")"
      ],
      "execution_count": null,
      "outputs": []
    },
    {
      "cell_type": "code",
      "metadata": {
        "id": "iLMiBESoKFVk"
      },
      "source": [
        "#Store the accuracy results of each model in a dataframe for final comparison\r\n",
        "train_score, train_acc = model_GRU.evaluate(x_train, y_train_final,verbose = 1)\r\n",
        "test_score, test_acc = model_GRU.evaluate(x_test, y_test_final,verbose = 1)\r\n",
        "Accuracy_GRU = pd.DataFrame({'Classification Model':['GRU'], 'Training Accuracy': round(train_acc*100,2), 'Test Accuracy': round(test_acc*100,2)},index={'17'})\r\n",
        "Accuracy_Matrix = pd.concat([Accuracy_Matrix, Accuracy_GRU])\r\n",
        "Accuracy_Matrix"
      ],
      "execution_count": null,
      "outputs": []
    },
    {
      "cell_type": "code",
      "metadata": {
        "id": "RnltF3zf-LLS"
      },
      "source": [
        "plt.xlabel(\"accuracy\")\r\n",
        "plt.ylabel(\"val_accuracy\")\r\n",
        "plt.plot(plot_data_GRU[\"accuracy\"],plot_data_GRU[\"val_accuracy\"], ls = \"-\", marker = \".\", markersize = \"10\")"
      ],
      "execution_count": null,
      "outputs": []
    },
    {
      "cell_type": "code",
      "metadata": {
        "id": "Th5wG4TC4MgB"
      },
      "source": [
        "y_predicted = model_GRU.predict(x_test)\r\n",
        "y_predicted_indexes = np.argmax(y_predicted, axis = 1)\r\n",
        "y_predicted_mapping = [mapping[i] for i in y_predicted_indexes]\r\n",
        "print(classification_report(y_test, y_predicted_mapping))"
      ],
      "execution_count": null,
      "outputs": []
    },
    {
      "cell_type": "code",
      "metadata": {
        "id": "O7gxGTMTeK1T"
      },
      "source": [
        "#### Add your code here ####\r\n",
        "VOCAB_SIZE = max_features\r\n",
        "fitted_model = \" \"\r\n",
        "model_bi_LSTM = \" \"\r\n",
        "plot_data_bi_LSTM = \" \"\r\n",
        "if os.path.exists(folder_path + \"/\" + \"model_bi_LSTM_trained.json\"):\r\n",
        "  model_bi_LSTM = load_models(\"model_bi_LSTM_trained.json\")\r\n",
        "  model_bi_LSTM.load_weights(folder_path + \"/\" + \"model_bi_LSTM_trained.h5\")\r\n",
        "  model_bi_LSTM.compile(optimizer= \"adam\", loss =\"binary_crossentropy\",metrics =[\"accuracy\"])\r\n",
        "  plot_data_bi_LSTM = get_pickle_data(\"plot_data_bi_LSTM.pickle\")\r\n",
        "else:\r\n",
        "  model_bi_LSTM = Sequential() #creating sequential model\r\n",
        "  model_bi_LSTM.add(Embedding(input_dim = VOCAB_SIZE, output_dim = MAX_LENGTH, input_length = MAX_LENGTH)) #adding embedding layer\r\n",
        "  model_bi_LSTM.add(SpatialDropout1D(0.2)) #added for robustness\r\n",
        "  model_bi_LSTM.add(Bidirectional(LSTM(units = MAX_LENGTH, return_sequences = True, recurrent_dropout = 0.1))) #adding LSTM layer\r\n",
        "  #model.add(TimeDistributed(Dense(100, activation = \"relu\"))) # timedistributed layer\r\n",
        "  model_bi_LSTM.add(Flatten())\r\n",
        "  model_bi_LSTM.add(Dense(len(np.unique(y)),activation=\"softmax\")) #Dense layer\r\n",
        "  opt = Adam()\r\n",
        "  accuracy_array = []\r\n",
        "  val_accuracy_array = []\r\n",
        "  for i in range(8):\r\n",
        "    model_bi_LSTM.compile(optimizer = opt, loss =\"binary_crossentropy\",metrics =[\"accuracy\"])\r\n",
        "    fitted_model = model_bi_LSTM.fit(x_train, y_train_final, batch_size = 128, epochs=1, verbose=1, validation_split=0.2, class_weight = class_weights,callbacks = [es])\r\n",
        "    accuracy_array = accuracy_array + fitted_model.history[\"accuracy\"]\r\n",
        "    val_accuracy_array = val_accuracy_array + fitted_model.history[\"val_accuracy\"]\r\n",
        "    lr = opt.learning_rate * 0.75\r\n",
        "    opt = Adam(learning_rate=lr)\r\n",
        "    gc.collect()\r\n",
        "    print(\"************************LOOP*****************************\", i, \"LEARNING RATE\", lr)\r\n",
        "    time.sleep(1)\r\n",
        "  save_models(model_bi_LSTM, \"model_bi_LSTM_trained.json\")\r\n",
        "  plot_data_bi_LSTM = pd.DataFrame([accuracy_array,val_accuracy_array]).transpose()\r\n",
        "  plot_data_bi_LSTM.columns = [\"accuracy\",\"val_accuracy\"]\r\n",
        "  pickle_dump(plot_data_bi_LSTM, \"plot_data_bi_LSTM.pickle\")"
      ],
      "execution_count": null,
      "outputs": []
    },
    {
      "cell_type": "code",
      "metadata": {
        "id": "uhxbVV3hKK6S"
      },
      "source": [
        "#Store the accuracy results of each model in a dataframe for final comparison\r\n",
        "train_score, train_acc = model_bi_LSTM.evaluate(x_train, y_train_final,verbose = 1)\r\n",
        "test_score, test_acc = model_bi_LSTM.evaluate(x_test, y_test_final,verbose = 1)\r\n",
        "Accuracy_Bi_LSTM = pd.DataFrame({'Classification Model':['Bi Directional LSTM'], 'Training Accuracy': round(train_acc*100,2), 'Test Accuracy': round(test_acc*100,2)},index={'18'})\r\n",
        "Accuracy_Matrix = pd.concat([Accuracy_Matrix, Accuracy_Bi_LSTM])\r\n",
        "Accuracy_Matrix"
      ],
      "execution_count": null,
      "outputs": []
    },
    {
      "cell_type": "code",
      "metadata": {
        "id": "TtbC_9oaeq4Z"
      },
      "source": [
        "plt.xlabel(\"accuracy\")\r\n",
        "plt.ylabel(\"val_accuracy\")\r\n",
        "plt.plot(plot_data_bi_LSTM[\"accuracy\"],plot_data_bi_LSTM[\"val_accuracy\"], ls = \"-\", marker = \".\", markersize = \"10\")"
      ],
      "execution_count": null,
      "outputs": []
    },
    {
      "cell_type": "code",
      "metadata": {
        "id": "RXZybNVC3_TV"
      },
      "source": [
        "y_predicted = model_bi_LSTM.predict(x_test)\r\n",
        "y_predicted_indexes = np.argmax(y_predicted, axis = 1)\r\n",
        "y_predicted_mapping = [mapping[i] for i in y_predicted_indexes]\r\n",
        "print(classification_report(y_test, y_predicted_mapping))"
      ],
      "execution_count": null,
      "outputs": []
    },
    {
      "cell_type": "code",
      "metadata": {
        "id": "yLw3TNMqAL-B",
        "colab": {
          "base_uri": "https://localhost:8080/"
        },
        "outputId": "039dfc58-c304-4ddb-e63f-a19c0636ceac"
      },
      "source": [
        "#### Add your code here ####\r\n",
        "VOCAB_SIZE = max_features\r\n",
        "model_GRU_attn = \" \"\r\n",
        "fitted_model = \" \"\r\n",
        "plot_data_GRU_attn = \" \"\r\n",
        "if os.path.exists(folder_path + \"/\" + \"model_GRU_attn_trained.json\"):\r\n",
        "  model_GRU_attn = load_models(\"model_GRU_attn_trained.json\")\r\n",
        "  model_GRU_attn.load_weights(folder_path + \"/\" + \"model_GRU_attn_trained.h5\")\r\n",
        "  model_GRU_attn.compile(optimizer= \"adam\", loss =\"binary_crossentropy\",metrics =[\"accuracy\"])\r\n",
        "  plot_data_GRU_attn = get_pickle_data(\"plot_data_GRU_attn.pickle\")\r\n",
        "else:\r\n",
        "  model_GRU_attn = Sequential() #creating sequential model\r\n",
        "  model_GRU_attn.add(Input(shape=(300,)))\r\n",
        "  embeddings = Embedding(input_dim = VOCAB_SIZE, output_dim = MAX_LENGTH, input_length = MAX_LENGTH) #adding embedding layer\r\n",
        "  model_GRU_attn.add(embeddings)\r\n",
        "  model_GRU_attn.add(SpatialDropout1D(0.2)) #added for robustness\r\n",
        "  activations = GRU(units=MAX_LENGTH, return_sequences=True, input_shape=(MAX_LENGTH,1), activation='tanh')\r\n",
        "  model_GRU_attn.add(activations)\r\n",
        "  #model_GRU_attn.add(TimeDistributed(Dense(100, activation = \"relu\"))) # timedistributed layer\r\n",
        "  #model_GRU_attn.add(Model(inputs = Concatenate([embeddings.output, activations.output]).output))\r\n",
        "  model_GRU_attn.add(Flatten())\r\n",
        "  model_GRU_attn.add(Dense(len(np.unique(y)),activation=\"softmax\"))\r\n",
        "\r\n",
        "  model_others = Sequential()\r\n",
        "  model_others.add(Input(shape=(3,)))\r\n",
        "  model_others.add(Dense(3, activation=\"relu\"))\r\n",
        "  model_others.add(Flatten())\r\n",
        "  #model_GRU_attn_final = Model(inputs = model_GRU_attn.inputs, outputs = merged_layer)\r\n",
        "  #model_GRU_attn.add(Dense(len(np.unique(y)),activation=\"softmax\")) #Dense layer\r\n",
        "  merged_layer = model_GRU_attn.get_layer(index = 0).output\r\n",
        "  merged_layer = Concatenate()([model_GRU_attn.get_layer(index=0).output,  model_GRU_attn.get_layer(index=2).output])\r\n",
        "  merged_layer = Flatten()(merged_layer)\r\n",
        "  merged_layer = Concatenate()([merged_layer,  model_others.get_layer(index=1).output])\r\n",
        "  merged_layer = Flatten()(merged_layer)\r\n",
        "  merged_layer = Dense(len(np.unique(y)),activation=\"softmax\")(merged_layer)\r\n",
        "  model_GRU_attn = Model(inputs = [model_GRU_attn.input, model_others.input], outputs = merged_layer) \r\n",
        "  opt = Adam()\r\n",
        "  accuracy_array = []\r\n",
        "  val_accuracy_array = []\r\n",
        "  model_GRU_attn.compile(optimizer = opt, loss =\"binary_crossentropy\",metrics =[\"accuracy\"])\r\n",
        "  fitted_model = model_GRU_attn.fit([x_train[:,:300], x_train[:,300:]], y_train_final, batch_size = 512, epochs=3, verbose=1, validation_split=0.2, class_weight = class_weights,callbacks = [es])\r\n",
        "  accuracy_array = accuracy_array + fitted_model.history[\"accuracy\"]\r\n",
        "  val_accuracy_array = val_accuracy_array + fitted_model.history[\"val_accuracy\"]\r\n",
        "  lr = opt.learning_rate * 0.7\r\n",
        "  opt = Adam(learning_rate=lr)\r\n",
        "  gc.collect()\r\n",
        "  model_GRU_attn.compile(optimizer = opt, loss =\"binary_crossentropy\",metrics =[\"accuracy\"])\r\n",
        "  fitted_model = model_GRU_attn.fit([x_train[:,:300], x_train[:,300:]], y_train_final, batch_size = 512, epochs=3, verbose=1, validation_split=0.2, class_weight = class_weights,callbacks = [es])\r\n",
        "  accuracy_array = accuracy_array + fitted_model.history[\"accuracy\"]\r\n",
        "  val_accuracy_array = val_accuracy_array + fitted_model.history[\"val_accuracy\"]\r\n",
        "  lr = opt.learning_rate * 0.7\r\n",
        "  opt = Adam(learning_rate=lr)\r\n",
        "  gc.collect()\r\n",
        "  model_GRU_attn.compile(optimizer = opt, loss =\"binary_crossentropy\",metrics =[\"accuracy\"])\r\n",
        "  fitted_model = model_GRU_attn.fit([x_train[:,:300], x_train[:,300:]], y_train_final, batch_size = 512, epochs=3, verbose=1, validation_split=0.2, class_weight = class_weights,callbacks = [es])\r\n",
        "  accuracy_array = accuracy_array + fitted_model.history[\"accuracy\"]\r\n",
        "  val_accuracy_array = val_accuracy_array + fitted_model.history[\"val_accuracy\"]\r\n",
        "  lr = opt.learning_rate * 0.7\r\n",
        "  opt = Adam(learning_rate=lr)\r\n",
        "  gc.collect()\r\n",
        "  model_GRU_attn.compile(optimizer = opt, loss =\"binary_crossentropy\",metrics =[\"accuracy\"])\r\n",
        "  fitted_model = model_GRU_attn.fit([x_train[:,:300], x_train[:,300:]], y_train_final, batch_size = 512, epochs=3, verbose=1, validation_split=0.2, class_weight = class_weights,callbacks = [es])\r\n",
        "  accuracy_array = accuracy_array + fitted_model.history[\"accuracy\"]\r\n",
        "  val_accuracy_array = val_accuracy_array + fitted_model.history[\"val_accuracy\"]\r\n",
        "  lr = opt.learning_rate * 0.5\r\n",
        "  opt = Adam(learning_rate=lr)\r\n",
        "  gc.collect()\r\n",
        "  model_GRU_attn.compile(optimizer = opt, loss =\"binary_crossentropy\",metrics =[\"accuracy\"])\r\n",
        "  fitted_model = model_GRU_attn.fit([x_train[:,:300], x_train[:,300:]], y_train_final, batch_size = 512, epochs=3, verbose=1, validation_split=0.2, class_weight = class_weights,callbacks = [es])\r\n",
        "  accuracy_array = accuracy_array + fitted_model.history[\"accuracy\"]\r\n",
        "  val_accuracy_array = val_accuracy_array + fitted_model.history[\"val_accuracy\"]\r\n",
        "  gc.collect()\r\n",
        "  save_models(model_GRU_attn, \"model_GRU_attn_trained.json\")\r\n",
        "  plot_data_GRU_attn = pd.DataFrame([accuracy_array,val_accuracy_array]).transpose()\r\n",
        "  plot_data_GRU_attn.columns = [\"accuracy\",\"val_accuracy\"]\r\n",
        "  pickle_dump(plot_data_GRU_attn, \"plot_data_GRU_attn.pickle\")"
      ],
      "execution_count": null,
      "outputs": [
        {
          "output_type": "stream",
          "text": [
            "Epoch 1/3\n",
            "72/72 [==============================] - 971s 13s/step - loss: 0.1617 - accuracy: 0.2134 - val_loss: 0.0626 - val_accuracy: 0.7388\n",
            "Epoch 2/3\n",
            "72/72 [==============================] - 970s 13s/step - loss: 0.0440 - accuracy: 0.8167 - val_loss: 0.0190 - val_accuracy: 0.8969\n",
            "Epoch 3/3\n",
            "72/72 [==============================] - 972s 14s/step - loss: 0.0137 - accuracy: 0.9176 - val_loss: 0.0112 - val_accuracy: 0.9304\n",
            "Epoch 1/3\n",
            "72/72 [==============================] - 971s 13s/step - loss: 0.0094 - accuracy: 0.9356 - val_loss: 0.0099 - val_accuracy: 0.9364\n",
            "Epoch 2/3\n",
            "72/72 [==============================] - 967s 13s/step - loss: 0.0071 - accuracy: 0.9471 - val_loss: 0.0086 - val_accuracy: 0.9398\n",
            "Epoch 3/3\n",
            "72/72 [==============================] - 967s 13s/step - loss: 0.0066 - accuracy: 0.9486 - val_loss: 0.0080 - val_accuracy: 0.9425\n",
            "Epoch 1/3\n",
            "72/72 [==============================] - 958s 13s/step - loss: 0.0058 - accuracy: 0.9515 - val_loss: 0.0073 - val_accuracy: 0.9473\n",
            "Epoch 2/3\n",
            "72/72 [==============================] - 947s 13s/step - loss: 0.0055 - accuracy: 0.9525 - val_loss: 0.0070 - val_accuracy: 0.9494\n",
            "Epoch 3/3\n",
            "72/72 [==============================] - 946s 13s/step - loss: 0.0053 - accuracy: 0.9562 - val_loss: 0.0070 - val_accuracy: 0.9530\n",
            "Epoch 1/3\n",
            "72/72 [==============================] - 950s 13s/step - loss: 0.0051 - accuracy: 0.9563 - val_loss: 0.0068 - val_accuracy: 0.9467\n",
            "Epoch 2/3\n",
            "72/72 [==============================] - 944s 13s/step - loss: 0.0050 - accuracy: 0.9551 - val_loss: 0.0072 - val_accuracy: 0.9469\n",
            "Epoch 3/3\n",
            "72/72 [==============================] - 941s 13s/step - loss: 0.0053 - accuracy: 0.9528 - val_loss: 0.0068 - val_accuracy: 0.9471\n"
          ],
          "name": "stdout"
        }
      ]
    },
    {
      "cell_type": "code",
      "metadata": {
        "colab": {
          "base_uri": "https://localhost:8080/",
          "height": 300
        },
        "id": "B9UQIV7lKqhB",
        "outputId": "c7c062b2-ccb6-49c0-eb69-1a937761eeff"
      },
      "source": [
        "#Store the accuracy results of each model in a dataframe for final comparison\r\n",
        "train_score, train_acc = model_GRU_attn.evaluate([x_train[:,:300], x_train[:,300:]], y_train_final,verbose = 1)\r\n",
        "test_score, test_acc = model_GRU_attn.evaluate([x_test[:,:300], x_test[:,300:]], y_test_final,verbose = 1)\r\n",
        "Accuracy_GRU_Skip = pd.DataFrame({'Classification Model':['GRU Skip Connection'], 'Training Accuracy': round(train_acc*100,2), 'Test Accuracy': round(test_acc\r\n",
        "*100,2)},index={'19'})\r\n",
        "Accuracy_Matrix = pd.concat([Accuracy_Matrix, Accuracy_GRU_Skip])\r\n",
        "Accuracy_Matrix"
      ],
      "execution_count": null,
      "outputs": [
        {
          "output_type": "stream",
          "text": [
            "1440/1440 [==============================] - 557s 387ms/step - loss: 0.0049 - accuracy: 0.9557\n",
            "617/617 [==============================] - 239s 387ms/step - loss: 0.0067 - accuracy: 0.9517\n"
          ],
          "name": "stdout"
        },
        {
          "output_type": "execute_result",
          "data": {
            "text/html": [
              "<div>\n",
              "<style scoped>\n",
              "    .dataframe tbody tr th:only-of-type {\n",
              "        vertical-align: middle;\n",
              "    }\n",
              "\n",
              "    .dataframe tbody tr th {\n",
              "        vertical-align: top;\n",
              "    }\n",
              "\n",
              "    .dataframe thead th {\n",
              "        text-align: right;\n",
              "    }\n",
              "</style>\n",
              "<table border=\"1\" class=\"dataframe\">\n",
              "  <thead>\n",
              "    <tr style=\"text-align: right;\">\n",
              "      <th></th>\n",
              "      <th>Classification Model</th>\n",
              "      <th>Training Accuracy</th>\n",
              "      <th>Test Accuracy</th>\n",
              "    </tr>\n",
              "  </thead>\n",
              "  <tbody>\n",
              "    <tr>\n",
              "      <th>1</th>\n",
              "      <td>Logistic Regression</td>\n",
              "      <td>90.74</td>\n",
              "      <td>89.62</td>\n",
              "    </tr>\n",
              "    <tr>\n",
              "      <th>2</th>\n",
              "      <td>Logistic Regression using Random Search</td>\n",
              "      <td>94.32</td>\n",
              "      <td>93.57</td>\n",
              "    </tr>\n",
              "    <tr>\n",
              "      <th>3</th>\n",
              "      <td>Logistic Grid Classifier</td>\n",
              "      <td>94.41</td>\n",
              "      <td>93.64</td>\n",
              "    </tr>\n",
              "    <tr>\n",
              "      <th>4</th>\n",
              "      <td>XGBoost Classifier1</td>\n",
              "      <td>91.68</td>\n",
              "      <td>90.08</td>\n",
              "    </tr>\n",
              "    <tr>\n",
              "      <th>5</th>\n",
              "      <td>XGBoost Classifier2</td>\n",
              "      <td>95.78</td>\n",
              "      <td>94.42</td>\n",
              "    </tr>\n",
              "    <tr>\n",
              "      <th>6</th>\n",
              "      <td>XGBoost Classifier Grid Search</td>\n",
              "      <td>96.60</td>\n",
              "      <td>95.52</td>\n",
              "    </tr>\n",
              "    <tr>\n",
              "      <th>19</th>\n",
              "      <td>GRU Skip Connection</td>\n",
              "      <td>95.57</td>\n",
              "      <td>95.17</td>\n",
              "    </tr>\n",
              "  </tbody>\n",
              "</table>\n",
              "</div>"
            ],
            "text/plain": [
              "                       Classification Model  Training Accuracy  Test Accuracy\n",
              "1                       Logistic Regression              90.74          89.62\n",
              "2   Logistic Regression using Random Search              94.32          93.57\n",
              "3                  Logistic Grid Classifier              94.41          93.64\n",
              "4                       XGBoost Classifier1              91.68          90.08\n",
              "5                       XGBoost Classifier2              95.78          94.42\n",
              "6            XGBoost Classifier Grid Search              96.60          95.52\n",
              "19                      GRU Skip Connection              95.57          95.17"
            ]
          },
          "metadata": {
            "tags": []
          },
          "execution_count": 150
        }
      ]
    },
    {
      "cell_type": "code",
      "metadata": {
        "id": "2Ch8I59OLLIx"
      },
      "source": [
        "plt.xlabel(\"accuracy\")\r\n",
        "plt.ylabel(\"val_accuracy\")\r\n",
        "plt.plot(plot_data_GRU_attn[\"accuracy\"],plot_data_GRU_attn[\"val_accuracy\"], ls = \"-\", marker = \".\", markersize = \"10\")"
      ],
      "execution_count": null,
      "outputs": []
    },
    {
      "cell_type": "code",
      "metadata": {
        "id": "ZY9OjQZ2LlaU"
      },
      "source": [
        "y_predicted = model_GRU_attn.predict([x_test[:,:300],x_test[:,300:]])\r\n",
        "y_predicted_indexes = np.argmax(y_predicted, axis = 1)\r\n",
        "y_predicted_mapping = [mapping[i] for i in y_predicted_indexes]\r\n",
        "print(classification_report(y_test, y_predicted_mapping))"
      ],
      "execution_count": null,
      "outputs": []
    },
    {
      "cell_type": "code",
      "metadata": {
        "id": "8S7iHAgXiqjH"
      },
      "source": [
        "exclude_data_df = ticket_data[ticket_data[\"Assignment group\"].apply(filter_group_small)]\r\n",
        "exclude_list = list(np.unique(exclude_data_df[\"Assignment group\"]))\r\n",
        "def exclude(text):\r\n",
        "  if text in exclude_list:\r\n",
        "    return False\r\n",
        "  else:\r\n",
        "    return True"
      ],
      "execution_count": null,
      "outputs": []
    },
    {
      "cell_type": "code",
      "metadata": {
        "id": "X5NVepw3uBWA"
      },
      "source": [
        "base_data_df = \" \"\r\n",
        "base_data_df = ticket_data[ticket_data[\"Assignment group\"].apply(exclude)]\r\n",
        "base_data_df.reset_index(inplace = True)\r\n",
        "base_data_df.drop([\"index\"], axis = 1)\r\n",
        "pickle_dump(base_data_df, \"base_data_df.pickle\")"
      ],
      "execution_count": null,
      "outputs": []
    },
    {
      "cell_type": "code",
      "metadata": {
        "colab": {
          "base_uri": "https://localhost:8080/"
        },
        "id": "kI_PL6XQi5ZD",
        "outputId": "db3a2b4a-8808-4fec-e0f8-f113664eaae2"
      },
      "source": [
        "base_data_df.shape"
      ],
      "execution_count": null,
      "outputs": [
        {
          "output_type": "execute_result",
          "data": {
            "text/plain": [
              "(8274, 14)"
            ]
          },
          "metadata": {
            "tags": []
          },
          "execution_count": 211
        }
      ]
    },
    {
      "cell_type": "code",
      "metadata": {
        "id": "fbip32EXuSzx"
      },
      "source": [
        "num_records = len(base_data_df)\r\n",
        "base_data_df[\"Description_New\"] = base_data_df[\"SD_translated\"] + \" \" + base_data_df[\"D_translated\"]\r\n",
        "for i in range(num_records):\r\n",
        "  if base_data_df[\"lang_desc\"][i] == \"zh-CN\":\r\n",
        "    base_data_df[\"Description_New\"][i] = base_data_df[\"Description_New\"][i] + \" \" + base_data_df[\"Caller\"][i]"
      ],
      "execution_count": null,
      "outputs": []
    },
    {
      "cell_type": "code",
      "metadata": {
        "id": "Y5uZ4tWvuSfu"
      },
      "source": [
        "inc_tfidf_1 = \" \"\r\n",
        "tfidf_1 = \" \"\r\n",
        "tfidf_1 = TfidfVectorizer(stop_words=stop_words, tokenizer=tokenize, max_features = 2400, analyzer = 'word', ngram_range=(1, 1))\r\n",
        "inc_tfidf_1 = tfidf_1.fit_transform(base_data_df['Description_New'])\r\n",
        "pickle_dump(inc_tfidf_1,\"inc_tfidf1.pickle\")\r\n",
        "pickle_dump(tfidf_1, \"vectorizer1.pickle\")"
      ],
      "execution_count": null,
      "outputs": []
    },
    {
      "cell_type": "code",
      "metadata": {
        "colab": {
          "base_uri": "https://localhost:8080/"
        },
        "id": "hWD2s2GKuSOo",
        "outputId": "78469cc9-256b-4aa7-fe89-0efc60c5f8ea"
      },
      "source": [
        "# collect the tfid matrix in numpy array\r\n",
        "array = inc_tfidf_1.todense()\r\n",
        "inc_tfidf_1 = None\r\n",
        "# store the tf-idf array into pandas dataframe\r\n",
        "df_inc1 = pd.DataFrame(array)\r\n",
        "array = None\r\n",
        "gc.collect()\r\n",
        "df_inc1.head(10)\r\n",
        "df_inc1.shape"
      ],
      "execution_count": null,
      "outputs": [
        {
          "output_type": "execute_result",
          "data": {
            "text/plain": [
              "(8274, 2400)"
            ]
          },
          "metadata": {
            "tags": []
          },
          "execution_count": 214
        }
      ]
    },
    {
      "cell_type": "code",
      "metadata": {
        "colab": {
          "base_uri": "https://localhost:8080/",
          "height": 479
        },
        "id": "CY5xslZBuR-a",
        "outputId": "e6322333-7d74-4201-db01-f6bcf39894bd"
      },
      "source": [
        "from sklearn.preprocessing import MinMaxScaler\r\n",
        "if np.max(base_data_df[\"Job\"])>1:\r\n",
        "  min_max = MinMaxScaler()\r\n",
        "  to_transform = base_data_df[[\"Job\",\"SID\", \"Host\"]]\r\n",
        "  transformed_ = min_max.fit_transform(to_transform)\r\n",
        "  transformed_df = pd.DataFrame(transformed_, columns = to_transform.columns)\r\n",
        "  to_transform = None \r\n",
        "  gc.collect()\r\n",
        "  base_data_df = base_data_df.drop([\"Job\", \"SID\", \"Host\"],axis = 1)\r\n",
        "  base_data_df = pd.concat([base_data_df,transformed_df], axis = 1)\r\n",
        "base_data_df.head()"
      ],
      "execution_count": null,
      "outputs": [
        {
          "output_type": "execute_result",
          "data": {
            "text/html": [
              "<div>\n",
              "<style scoped>\n",
              "    .dataframe tbody tr th:only-of-type {\n",
              "        vertical-align: middle;\n",
              "    }\n",
              "\n",
              "    .dataframe tbody tr th {\n",
              "        vertical-align: top;\n",
              "    }\n",
              "\n",
              "    .dataframe thead th {\n",
              "        text-align: right;\n",
              "    }\n",
              "</style>\n",
              "<table border=\"1\" class=\"dataframe\">\n",
              "  <thead>\n",
              "    <tr style=\"text-align: right;\">\n",
              "      <th></th>\n",
              "      <th>index</th>\n",
              "      <th>Short description</th>\n",
              "      <th>Description</th>\n",
              "      <th>Caller</th>\n",
              "      <th>Assignment group</th>\n",
              "      <th>lang_short_desc</th>\n",
              "      <th>lang_desc</th>\n",
              "      <th>SD_translated_lang</th>\n",
              "      <th>D_translated_lang</th>\n",
              "      <th>SD_translated</th>\n",
              "      <th>D_translated</th>\n",
              "      <th>Description_New</th>\n",
              "      <th>Job</th>\n",
              "      <th>SID</th>\n",
              "      <th>Host</th>\n",
              "    </tr>\n",
              "  </thead>\n",
              "  <tbody>\n",
              "    <tr>\n",
              "      <th>0</th>\n",
              "      <td>0</td>\n",
              "      <td>login issue</td>\n",
              "      <td>verified user details  employee and manager na...</td>\n",
              "      <td>spxjnwir pjlcoqds</td>\n",
              "      <td>GRP_0</td>\n",
              "      <td>en</td>\n",
              "      <td>en</td>\n",
              "      <td>en</td>\n",
              "      <td>en</td>\n",
              "      <td>login issue</td>\n",
              "      <td>verified user details  employee and manager na...</td>\n",
              "      <td>login issue verified user details  employee an...</td>\n",
              "      <td>0.0</td>\n",
              "      <td>0.0</td>\n",
              "      <td>0.0</td>\n",
              "    </tr>\n",
              "    <tr>\n",
              "      <th>1</th>\n",
              "      <td>1</td>\n",
              "      <td>outlook</td>\n",
              "      <td>hello team   my meetings skype meetings etc ar...</td>\n",
              "      <td>hmjdrvpb komuaywn</td>\n",
              "      <td>GRP_0</td>\n",
              "      <td>en</td>\n",
              "      <td>en</td>\n",
              "      <td>en</td>\n",
              "      <td>en</td>\n",
              "      <td>outlook</td>\n",
              "      <td>hello team   my meetings skype meetings etc ar...</td>\n",
              "      <td>outlook hello team   my meetings skype meeting...</td>\n",
              "      <td>0.0</td>\n",
              "      <td>0.0</td>\n",
              "      <td>0.0</td>\n",
              "    </tr>\n",
              "    <tr>\n",
              "      <th>2</th>\n",
              "      <td>2</td>\n",
              "      <td>cant log in to vpn</td>\n",
              "      <td>hi  i cannot log on to vpn  best</td>\n",
              "      <td>eylqgodm ybqkwiam</td>\n",
              "      <td>GRP_0</td>\n",
              "      <td>en</td>\n",
              "      <td>en</td>\n",
              "      <td>en</td>\n",
              "      <td>en</td>\n",
              "      <td>cant log in to vpn</td>\n",
              "      <td>hi  i cannot log on to vpn  best</td>\n",
              "      <td>cant log in to vpn hi  i cannot log on to vpn ...</td>\n",
              "      <td>0.0</td>\n",
              "      <td>0.0</td>\n",
              "      <td>0.0</td>\n",
              "    </tr>\n",
              "    <tr>\n",
              "      <th>3</th>\n",
              "      <td>3</td>\n",
              "      <td>unable to access hr tool page</td>\n",
              "      <td>unable to access hr tool page</td>\n",
              "      <td>xbkucsvz gcpydteq</td>\n",
              "      <td>GRP_0</td>\n",
              "      <td>en</td>\n",
              "      <td>en</td>\n",
              "      <td>en</td>\n",
              "      <td>en</td>\n",
              "      <td>unable to access hr tool page</td>\n",
              "      <td>unable to access hr tool page</td>\n",
              "      <td>unable to access hr tool page unable to access...</td>\n",
              "      <td>0.0</td>\n",
              "      <td>0.0</td>\n",
              "      <td>0.0</td>\n",
              "    </tr>\n",
              "    <tr>\n",
              "      <th>4</th>\n",
              "      <td>4</td>\n",
              "      <td>skype error</td>\n",
              "      <td>skype error</td>\n",
              "      <td>owlgqjme qhcozdfx</td>\n",
              "      <td>GRP_0</td>\n",
              "      <td>en</td>\n",
              "      <td>en</td>\n",
              "      <td>en</td>\n",
              "      <td>en</td>\n",
              "      <td>skype error</td>\n",
              "      <td>skype error</td>\n",
              "      <td>skype error skype error</td>\n",
              "      <td>0.0</td>\n",
              "      <td>0.0</td>\n",
              "      <td>0.0</td>\n",
              "    </tr>\n",
              "  </tbody>\n",
              "</table>\n",
              "</div>"
            ],
            "text/plain": [
              "   index              Short description  ...  SID Host\n",
              "0      0                    login issue  ...  0.0  0.0\n",
              "1      1                        outlook  ...  0.0  0.0\n",
              "2      2             cant log in to vpn  ...  0.0  0.0\n",
              "3      3  unable to access hr tool page  ...  0.0  0.0\n",
              "4      4                    skype error  ...  0.0  0.0\n",
              "\n",
              "[5 rows x 15 columns]"
            ]
          },
          "metadata": {
            "tags": []
          },
          "execution_count": 216
        }
      ]
    },
    {
      "cell_type": "code",
      "metadata": {
        "colab": {
          "base_uri": "https://localhost:8080/",
          "height": 253
        },
        "id": "hNduHdl_uRtH",
        "outputId": "df035759-13f7-4d99-cc7e-e9802afe11ac"
      },
      "source": [
        "df_inc1 = df_inc1.reset_index()\r\n",
        "df_inc1.drop(['index'],axis=1, inplace = True)\r\n",
        "df_inc1.head()"
      ],
      "execution_count": null,
      "outputs": [
        {
          "output_type": "execute_result",
          "data": {
            "text/html": [
              "<div>\n",
              "<style scoped>\n",
              "    .dataframe tbody tr th:only-of-type {\n",
              "        vertical-align: middle;\n",
              "    }\n",
              "\n",
              "    .dataframe tbody tr th {\n",
              "        vertical-align: top;\n",
              "    }\n",
              "\n",
              "    .dataframe thead th {\n",
              "        text-align: right;\n",
              "    }\n",
              "</style>\n",
              "<table border=\"1\" class=\"dataframe\">\n",
              "  <thead>\n",
              "    <tr style=\"text-align: right;\">\n",
              "      <th></th>\n",
              "      <th>0</th>\n",
              "      <th>1</th>\n",
              "      <th>2</th>\n",
              "      <th>3</th>\n",
              "      <th>4</th>\n",
              "      <th>5</th>\n",
              "      <th>6</th>\n",
              "      <th>7</th>\n",
              "      <th>8</th>\n",
              "      <th>9</th>\n",
              "      <th>10</th>\n",
              "      <th>11</th>\n",
              "      <th>12</th>\n",
              "      <th>13</th>\n",
              "      <th>14</th>\n",
              "      <th>15</th>\n",
              "      <th>16</th>\n",
              "      <th>17</th>\n",
              "      <th>18</th>\n",
              "      <th>19</th>\n",
              "      <th>20</th>\n",
              "      <th>21</th>\n",
              "      <th>22</th>\n",
              "      <th>23</th>\n",
              "      <th>24</th>\n",
              "      <th>25</th>\n",
              "      <th>26</th>\n",
              "      <th>27</th>\n",
              "      <th>28</th>\n",
              "      <th>29</th>\n",
              "      <th>30</th>\n",
              "      <th>31</th>\n",
              "      <th>32</th>\n",
              "      <th>33</th>\n",
              "      <th>34</th>\n",
              "      <th>35</th>\n",
              "      <th>36</th>\n",
              "      <th>37</th>\n",
              "      <th>38</th>\n",
              "      <th>39</th>\n",
              "      <th>...</th>\n",
              "      <th>2360</th>\n",
              "      <th>2361</th>\n",
              "      <th>2362</th>\n",
              "      <th>2363</th>\n",
              "      <th>2364</th>\n",
              "      <th>2365</th>\n",
              "      <th>2366</th>\n",
              "      <th>2367</th>\n",
              "      <th>2368</th>\n",
              "      <th>2369</th>\n",
              "      <th>2370</th>\n",
              "      <th>2371</th>\n",
              "      <th>2372</th>\n",
              "      <th>2373</th>\n",
              "      <th>2374</th>\n",
              "      <th>2375</th>\n",
              "      <th>2376</th>\n",
              "      <th>2377</th>\n",
              "      <th>2378</th>\n",
              "      <th>2379</th>\n",
              "      <th>2380</th>\n",
              "      <th>2381</th>\n",
              "      <th>2382</th>\n",
              "      <th>2383</th>\n",
              "      <th>2384</th>\n",
              "      <th>2385</th>\n",
              "      <th>2386</th>\n",
              "      <th>2387</th>\n",
              "      <th>2388</th>\n",
              "      <th>2389</th>\n",
              "      <th>2390</th>\n",
              "      <th>2391</th>\n",
              "      <th>2392</th>\n",
              "      <th>2393</th>\n",
              "      <th>2394</th>\n",
              "      <th>2395</th>\n",
              "      <th>2396</th>\n",
              "      <th>2397</th>\n",
              "      <th>2398</th>\n",
              "      <th>2399</th>\n",
              "    </tr>\n",
              "  </thead>\n",
              "  <tbody>\n",
              "    <tr>\n",
              "      <th>0</th>\n",
              "      <td>0.0</td>\n",
              "      <td>0.0</td>\n",
              "      <td>0.0</td>\n",
              "      <td>0.0</td>\n",
              "      <td>0.0</td>\n",
              "      <td>0.0</td>\n",
              "      <td>0.140059</td>\n",
              "      <td>0.0</td>\n",
              "      <td>0.0</td>\n",
              "      <td>0.0</td>\n",
              "      <td>0.0</td>\n",
              "      <td>0.0</td>\n",
              "      <td>0.0</td>\n",
              "      <td>0.0</td>\n",
              "      <td>0.000000</td>\n",
              "      <td>0.0</td>\n",
              "      <td>0.0</td>\n",
              "      <td>0.0</td>\n",
              "      <td>0.0</td>\n",
              "      <td>0.0</td>\n",
              "      <td>0.0</td>\n",
              "      <td>0.0</td>\n",
              "      <td>0.0</td>\n",
              "      <td>0.0</td>\n",
              "      <td>0.0</td>\n",
              "      <td>0.0</td>\n",
              "      <td>0.0</td>\n",
              "      <td>0.0</td>\n",
              "      <td>0.0</td>\n",
              "      <td>0.0</td>\n",
              "      <td>0.0</td>\n",
              "      <td>0.0</td>\n",
              "      <td>0.0</td>\n",
              "      <td>0.179514</td>\n",
              "      <td>0.0</td>\n",
              "      <td>0.0</td>\n",
              "      <td>0.0</td>\n",
              "      <td>0.0</td>\n",
              "      <td>0.0</td>\n",
              "      <td>0.0</td>\n",
              "      <td>...</td>\n",
              "      <td>0.0</td>\n",
              "      <td>0.0</td>\n",
              "      <td>0.0</td>\n",
              "      <td>0.0</td>\n",
              "      <td>0.0</td>\n",
              "      <td>0.0</td>\n",
              "      <td>0.0</td>\n",
              "      <td>0.0</td>\n",
              "      <td>0.0</td>\n",
              "      <td>0.0</td>\n",
              "      <td>0.0</td>\n",
              "      <td>0.0</td>\n",
              "      <td>0.0</td>\n",
              "      <td>0.0</td>\n",
              "      <td>0.0</td>\n",
              "      <td>0.0</td>\n",
              "      <td>0.0</td>\n",
              "      <td>0.0</td>\n",
              "      <td>0.0</td>\n",
              "      <td>0.0</td>\n",
              "      <td>0.0</td>\n",
              "      <td>0.0</td>\n",
              "      <td>0.0</td>\n",
              "      <td>0.0</td>\n",
              "      <td>0.0</td>\n",
              "      <td>0.0</td>\n",
              "      <td>0.0</td>\n",
              "      <td>0.0</td>\n",
              "      <td>0.0</td>\n",
              "      <td>0.0</td>\n",
              "      <td>0.0</td>\n",
              "      <td>0.0</td>\n",
              "      <td>0.0</td>\n",
              "      <td>0.0</td>\n",
              "      <td>0.0</td>\n",
              "      <td>0.0</td>\n",
              "      <td>0.0</td>\n",
              "      <td>0.0</td>\n",
              "      <td>0.0</td>\n",
              "      <td>0.0</td>\n",
              "    </tr>\n",
              "    <tr>\n",
              "      <th>1</th>\n",
              "      <td>0.0</td>\n",
              "      <td>0.0</td>\n",
              "      <td>0.0</td>\n",
              "      <td>0.0</td>\n",
              "      <td>0.0</td>\n",
              "      <td>0.0</td>\n",
              "      <td>0.000000</td>\n",
              "      <td>0.0</td>\n",
              "      <td>0.0</td>\n",
              "      <td>0.0</td>\n",
              "      <td>0.0</td>\n",
              "      <td>0.0</td>\n",
              "      <td>0.0</td>\n",
              "      <td>0.0</td>\n",
              "      <td>0.000000</td>\n",
              "      <td>0.0</td>\n",
              "      <td>0.0</td>\n",
              "      <td>0.0</td>\n",
              "      <td>0.0</td>\n",
              "      <td>0.0</td>\n",
              "      <td>0.0</td>\n",
              "      <td>0.0</td>\n",
              "      <td>0.0</td>\n",
              "      <td>0.0</td>\n",
              "      <td>0.0</td>\n",
              "      <td>0.0</td>\n",
              "      <td>0.0</td>\n",
              "      <td>0.0</td>\n",
              "      <td>0.0</td>\n",
              "      <td>0.0</td>\n",
              "      <td>0.0</td>\n",
              "      <td>0.0</td>\n",
              "      <td>0.0</td>\n",
              "      <td>0.000000</td>\n",
              "      <td>0.0</td>\n",
              "      <td>0.0</td>\n",
              "      <td>0.0</td>\n",
              "      <td>0.0</td>\n",
              "      <td>0.0</td>\n",
              "      <td>0.0</td>\n",
              "      <td>...</td>\n",
              "      <td>0.0</td>\n",
              "      <td>0.0</td>\n",
              "      <td>0.0</td>\n",
              "      <td>0.0</td>\n",
              "      <td>0.0</td>\n",
              "      <td>0.0</td>\n",
              "      <td>0.0</td>\n",
              "      <td>0.0</td>\n",
              "      <td>0.0</td>\n",
              "      <td>0.0</td>\n",
              "      <td>0.0</td>\n",
              "      <td>0.0</td>\n",
              "      <td>0.0</td>\n",
              "      <td>0.0</td>\n",
              "      <td>0.0</td>\n",
              "      <td>0.0</td>\n",
              "      <td>0.0</td>\n",
              "      <td>0.0</td>\n",
              "      <td>0.0</td>\n",
              "      <td>0.0</td>\n",
              "      <td>0.0</td>\n",
              "      <td>0.0</td>\n",
              "      <td>0.0</td>\n",
              "      <td>0.0</td>\n",
              "      <td>0.0</td>\n",
              "      <td>0.0</td>\n",
              "      <td>0.0</td>\n",
              "      <td>0.0</td>\n",
              "      <td>0.0</td>\n",
              "      <td>0.0</td>\n",
              "      <td>0.0</td>\n",
              "      <td>0.0</td>\n",
              "      <td>0.0</td>\n",
              "      <td>0.0</td>\n",
              "      <td>0.0</td>\n",
              "      <td>0.0</td>\n",
              "      <td>0.0</td>\n",
              "      <td>0.0</td>\n",
              "      <td>0.0</td>\n",
              "      <td>0.0</td>\n",
              "    </tr>\n",
              "    <tr>\n",
              "      <th>2</th>\n",
              "      <td>0.0</td>\n",
              "      <td>0.0</td>\n",
              "      <td>0.0</td>\n",
              "      <td>0.0</td>\n",
              "      <td>0.0</td>\n",
              "      <td>0.0</td>\n",
              "      <td>0.000000</td>\n",
              "      <td>0.0</td>\n",
              "      <td>0.0</td>\n",
              "      <td>0.0</td>\n",
              "      <td>0.0</td>\n",
              "      <td>0.0</td>\n",
              "      <td>0.0</td>\n",
              "      <td>0.0</td>\n",
              "      <td>0.000000</td>\n",
              "      <td>0.0</td>\n",
              "      <td>0.0</td>\n",
              "      <td>0.0</td>\n",
              "      <td>0.0</td>\n",
              "      <td>0.0</td>\n",
              "      <td>0.0</td>\n",
              "      <td>0.0</td>\n",
              "      <td>0.0</td>\n",
              "      <td>0.0</td>\n",
              "      <td>0.0</td>\n",
              "      <td>0.0</td>\n",
              "      <td>0.0</td>\n",
              "      <td>0.0</td>\n",
              "      <td>0.0</td>\n",
              "      <td>0.0</td>\n",
              "      <td>0.0</td>\n",
              "      <td>0.0</td>\n",
              "      <td>0.0</td>\n",
              "      <td>0.000000</td>\n",
              "      <td>0.0</td>\n",
              "      <td>0.0</td>\n",
              "      <td>0.0</td>\n",
              "      <td>0.0</td>\n",
              "      <td>0.0</td>\n",
              "      <td>0.0</td>\n",
              "      <td>...</td>\n",
              "      <td>0.0</td>\n",
              "      <td>0.0</td>\n",
              "      <td>0.0</td>\n",
              "      <td>0.0</td>\n",
              "      <td>0.0</td>\n",
              "      <td>0.0</td>\n",
              "      <td>0.0</td>\n",
              "      <td>0.0</td>\n",
              "      <td>0.0</td>\n",
              "      <td>0.0</td>\n",
              "      <td>0.0</td>\n",
              "      <td>0.0</td>\n",
              "      <td>0.0</td>\n",
              "      <td>0.0</td>\n",
              "      <td>0.0</td>\n",
              "      <td>0.0</td>\n",
              "      <td>0.0</td>\n",
              "      <td>0.0</td>\n",
              "      <td>0.0</td>\n",
              "      <td>0.0</td>\n",
              "      <td>0.0</td>\n",
              "      <td>0.0</td>\n",
              "      <td>0.0</td>\n",
              "      <td>0.0</td>\n",
              "      <td>0.0</td>\n",
              "      <td>0.0</td>\n",
              "      <td>0.0</td>\n",
              "      <td>0.0</td>\n",
              "      <td>0.0</td>\n",
              "      <td>0.0</td>\n",
              "      <td>0.0</td>\n",
              "      <td>0.0</td>\n",
              "      <td>0.0</td>\n",
              "      <td>0.0</td>\n",
              "      <td>0.0</td>\n",
              "      <td>0.0</td>\n",
              "      <td>0.0</td>\n",
              "      <td>0.0</td>\n",
              "      <td>0.0</td>\n",
              "      <td>0.0</td>\n",
              "    </tr>\n",
              "    <tr>\n",
              "      <th>3</th>\n",
              "      <td>0.0</td>\n",
              "      <td>0.0</td>\n",
              "      <td>0.0</td>\n",
              "      <td>0.0</td>\n",
              "      <td>0.0</td>\n",
              "      <td>0.0</td>\n",
              "      <td>0.000000</td>\n",
              "      <td>0.0</td>\n",
              "      <td>0.0</td>\n",
              "      <td>0.0</td>\n",
              "      <td>0.0</td>\n",
              "      <td>0.0</td>\n",
              "      <td>0.0</td>\n",
              "      <td>0.0</td>\n",
              "      <td>0.357918</td>\n",
              "      <td>0.0</td>\n",
              "      <td>0.0</td>\n",
              "      <td>0.0</td>\n",
              "      <td>0.0</td>\n",
              "      <td>0.0</td>\n",
              "      <td>0.0</td>\n",
              "      <td>0.0</td>\n",
              "      <td>0.0</td>\n",
              "      <td>0.0</td>\n",
              "      <td>0.0</td>\n",
              "      <td>0.0</td>\n",
              "      <td>0.0</td>\n",
              "      <td>0.0</td>\n",
              "      <td>0.0</td>\n",
              "      <td>0.0</td>\n",
              "      <td>0.0</td>\n",
              "      <td>0.0</td>\n",
              "      <td>0.0</td>\n",
              "      <td>0.000000</td>\n",
              "      <td>0.0</td>\n",
              "      <td>0.0</td>\n",
              "      <td>0.0</td>\n",
              "      <td>0.0</td>\n",
              "      <td>0.0</td>\n",
              "      <td>0.0</td>\n",
              "      <td>...</td>\n",
              "      <td>0.0</td>\n",
              "      <td>0.0</td>\n",
              "      <td>0.0</td>\n",
              "      <td>0.0</td>\n",
              "      <td>0.0</td>\n",
              "      <td>0.0</td>\n",
              "      <td>0.0</td>\n",
              "      <td>0.0</td>\n",
              "      <td>0.0</td>\n",
              "      <td>0.0</td>\n",
              "      <td>0.0</td>\n",
              "      <td>0.0</td>\n",
              "      <td>0.0</td>\n",
              "      <td>0.0</td>\n",
              "      <td>0.0</td>\n",
              "      <td>0.0</td>\n",
              "      <td>0.0</td>\n",
              "      <td>0.0</td>\n",
              "      <td>0.0</td>\n",
              "      <td>0.0</td>\n",
              "      <td>0.0</td>\n",
              "      <td>0.0</td>\n",
              "      <td>0.0</td>\n",
              "      <td>0.0</td>\n",
              "      <td>0.0</td>\n",
              "      <td>0.0</td>\n",
              "      <td>0.0</td>\n",
              "      <td>0.0</td>\n",
              "      <td>0.0</td>\n",
              "      <td>0.0</td>\n",
              "      <td>0.0</td>\n",
              "      <td>0.0</td>\n",
              "      <td>0.0</td>\n",
              "      <td>0.0</td>\n",
              "      <td>0.0</td>\n",
              "      <td>0.0</td>\n",
              "      <td>0.0</td>\n",
              "      <td>0.0</td>\n",
              "      <td>0.0</td>\n",
              "      <td>0.0</td>\n",
              "    </tr>\n",
              "    <tr>\n",
              "      <th>4</th>\n",
              "      <td>0.0</td>\n",
              "      <td>0.0</td>\n",
              "      <td>0.0</td>\n",
              "      <td>0.0</td>\n",
              "      <td>0.0</td>\n",
              "      <td>0.0</td>\n",
              "      <td>0.000000</td>\n",
              "      <td>0.0</td>\n",
              "      <td>0.0</td>\n",
              "      <td>0.0</td>\n",
              "      <td>0.0</td>\n",
              "      <td>0.0</td>\n",
              "      <td>0.0</td>\n",
              "      <td>0.0</td>\n",
              "      <td>0.000000</td>\n",
              "      <td>0.0</td>\n",
              "      <td>0.0</td>\n",
              "      <td>0.0</td>\n",
              "      <td>0.0</td>\n",
              "      <td>0.0</td>\n",
              "      <td>0.0</td>\n",
              "      <td>0.0</td>\n",
              "      <td>0.0</td>\n",
              "      <td>0.0</td>\n",
              "      <td>0.0</td>\n",
              "      <td>0.0</td>\n",
              "      <td>0.0</td>\n",
              "      <td>0.0</td>\n",
              "      <td>0.0</td>\n",
              "      <td>0.0</td>\n",
              "      <td>0.0</td>\n",
              "      <td>0.0</td>\n",
              "      <td>0.0</td>\n",
              "      <td>0.000000</td>\n",
              "      <td>0.0</td>\n",
              "      <td>0.0</td>\n",
              "      <td>0.0</td>\n",
              "      <td>0.0</td>\n",
              "      <td>0.0</td>\n",
              "      <td>0.0</td>\n",
              "      <td>...</td>\n",
              "      <td>0.0</td>\n",
              "      <td>0.0</td>\n",
              "      <td>0.0</td>\n",
              "      <td>0.0</td>\n",
              "      <td>0.0</td>\n",
              "      <td>0.0</td>\n",
              "      <td>0.0</td>\n",
              "      <td>0.0</td>\n",
              "      <td>0.0</td>\n",
              "      <td>0.0</td>\n",
              "      <td>0.0</td>\n",
              "      <td>0.0</td>\n",
              "      <td>0.0</td>\n",
              "      <td>0.0</td>\n",
              "      <td>0.0</td>\n",
              "      <td>0.0</td>\n",
              "      <td>0.0</td>\n",
              "      <td>0.0</td>\n",
              "      <td>0.0</td>\n",
              "      <td>0.0</td>\n",
              "      <td>0.0</td>\n",
              "      <td>0.0</td>\n",
              "      <td>0.0</td>\n",
              "      <td>0.0</td>\n",
              "      <td>0.0</td>\n",
              "      <td>0.0</td>\n",
              "      <td>0.0</td>\n",
              "      <td>0.0</td>\n",
              "      <td>0.0</td>\n",
              "      <td>0.0</td>\n",
              "      <td>0.0</td>\n",
              "      <td>0.0</td>\n",
              "      <td>0.0</td>\n",
              "      <td>0.0</td>\n",
              "      <td>0.0</td>\n",
              "      <td>0.0</td>\n",
              "      <td>0.0</td>\n",
              "      <td>0.0</td>\n",
              "      <td>0.0</td>\n",
              "      <td>0.0</td>\n",
              "    </tr>\n",
              "  </tbody>\n",
              "</table>\n",
              "<p>5 rows × 2400 columns</p>\n",
              "</div>"
            ],
            "text/plain": [
              "   0     1     2     3     4     5     ...  2394  2395  2396  2397  2398  2399\n",
              "0   0.0   0.0   0.0   0.0   0.0   0.0  ...   0.0   0.0   0.0   0.0   0.0   0.0\n",
              "1   0.0   0.0   0.0   0.0   0.0   0.0  ...   0.0   0.0   0.0   0.0   0.0   0.0\n",
              "2   0.0   0.0   0.0   0.0   0.0   0.0  ...   0.0   0.0   0.0   0.0   0.0   0.0\n",
              "3   0.0   0.0   0.0   0.0   0.0   0.0  ...   0.0   0.0   0.0   0.0   0.0   0.0\n",
              "4   0.0   0.0   0.0   0.0   0.0   0.0  ...   0.0   0.0   0.0   0.0   0.0   0.0\n",
              "\n",
              "[5 rows x 2400 columns]"
            ]
          },
          "metadata": {
            "tags": []
          },
          "execution_count": 217
        }
      ]
    },
    {
      "cell_type": "code",
      "metadata": {
        "colab": {
          "base_uri": "https://localhost:8080/",
          "height": 270
        },
        "id": "mtbyIyEJuRaU",
        "outputId": "898c5dfa-5be7-4130-e540-48937ddbd2b8"
      },
      "source": [
        "df_inc1['Job']= base_data_df['Job']\r\n",
        "df_inc1['SID']= base_data_df['SID']\r\n",
        "df_inc1['Host']= base_data_df['Host']\r\n",
        "df_inc1['Assignment group']= base_data_df['Assignment group']\r\n",
        "df_inc1.head()"
      ],
      "execution_count": null,
      "outputs": [
        {
          "output_type": "execute_result",
          "data": {
            "text/html": [
              "<div>\n",
              "<style scoped>\n",
              "    .dataframe tbody tr th:only-of-type {\n",
              "        vertical-align: middle;\n",
              "    }\n",
              "\n",
              "    .dataframe tbody tr th {\n",
              "        vertical-align: top;\n",
              "    }\n",
              "\n",
              "    .dataframe thead th {\n",
              "        text-align: right;\n",
              "    }\n",
              "</style>\n",
              "<table border=\"1\" class=\"dataframe\">\n",
              "  <thead>\n",
              "    <tr style=\"text-align: right;\">\n",
              "      <th></th>\n",
              "      <th>0</th>\n",
              "      <th>1</th>\n",
              "      <th>2</th>\n",
              "      <th>3</th>\n",
              "      <th>4</th>\n",
              "      <th>5</th>\n",
              "      <th>6</th>\n",
              "      <th>7</th>\n",
              "      <th>8</th>\n",
              "      <th>9</th>\n",
              "      <th>10</th>\n",
              "      <th>11</th>\n",
              "      <th>12</th>\n",
              "      <th>13</th>\n",
              "      <th>14</th>\n",
              "      <th>15</th>\n",
              "      <th>16</th>\n",
              "      <th>17</th>\n",
              "      <th>18</th>\n",
              "      <th>19</th>\n",
              "      <th>20</th>\n",
              "      <th>21</th>\n",
              "      <th>22</th>\n",
              "      <th>23</th>\n",
              "      <th>24</th>\n",
              "      <th>25</th>\n",
              "      <th>26</th>\n",
              "      <th>27</th>\n",
              "      <th>28</th>\n",
              "      <th>29</th>\n",
              "      <th>30</th>\n",
              "      <th>31</th>\n",
              "      <th>32</th>\n",
              "      <th>33</th>\n",
              "      <th>34</th>\n",
              "      <th>35</th>\n",
              "      <th>36</th>\n",
              "      <th>37</th>\n",
              "      <th>38</th>\n",
              "      <th>39</th>\n",
              "      <th>...</th>\n",
              "      <th>2364</th>\n",
              "      <th>2365</th>\n",
              "      <th>2366</th>\n",
              "      <th>2367</th>\n",
              "      <th>2368</th>\n",
              "      <th>2369</th>\n",
              "      <th>2370</th>\n",
              "      <th>2371</th>\n",
              "      <th>2372</th>\n",
              "      <th>2373</th>\n",
              "      <th>2374</th>\n",
              "      <th>2375</th>\n",
              "      <th>2376</th>\n",
              "      <th>2377</th>\n",
              "      <th>2378</th>\n",
              "      <th>2379</th>\n",
              "      <th>2380</th>\n",
              "      <th>2381</th>\n",
              "      <th>2382</th>\n",
              "      <th>2383</th>\n",
              "      <th>2384</th>\n",
              "      <th>2385</th>\n",
              "      <th>2386</th>\n",
              "      <th>2387</th>\n",
              "      <th>2388</th>\n",
              "      <th>2389</th>\n",
              "      <th>2390</th>\n",
              "      <th>2391</th>\n",
              "      <th>2392</th>\n",
              "      <th>2393</th>\n",
              "      <th>2394</th>\n",
              "      <th>2395</th>\n",
              "      <th>2396</th>\n",
              "      <th>2397</th>\n",
              "      <th>2398</th>\n",
              "      <th>2399</th>\n",
              "      <th>Job</th>\n",
              "      <th>SID</th>\n",
              "      <th>Host</th>\n",
              "      <th>Assignment group</th>\n",
              "    </tr>\n",
              "  </thead>\n",
              "  <tbody>\n",
              "    <tr>\n",
              "      <th>0</th>\n",
              "      <td>0.0</td>\n",
              "      <td>0.0</td>\n",
              "      <td>0.0</td>\n",
              "      <td>0.0</td>\n",
              "      <td>0.0</td>\n",
              "      <td>0.0</td>\n",
              "      <td>0.140059</td>\n",
              "      <td>0.0</td>\n",
              "      <td>0.0</td>\n",
              "      <td>0.0</td>\n",
              "      <td>0.0</td>\n",
              "      <td>0.0</td>\n",
              "      <td>0.0</td>\n",
              "      <td>0.0</td>\n",
              "      <td>0.000000</td>\n",
              "      <td>0.0</td>\n",
              "      <td>0.0</td>\n",
              "      <td>0.0</td>\n",
              "      <td>0.0</td>\n",
              "      <td>0.0</td>\n",
              "      <td>0.0</td>\n",
              "      <td>0.0</td>\n",
              "      <td>0.0</td>\n",
              "      <td>0.0</td>\n",
              "      <td>0.0</td>\n",
              "      <td>0.0</td>\n",
              "      <td>0.0</td>\n",
              "      <td>0.0</td>\n",
              "      <td>0.0</td>\n",
              "      <td>0.0</td>\n",
              "      <td>0.0</td>\n",
              "      <td>0.0</td>\n",
              "      <td>0.0</td>\n",
              "      <td>0.179514</td>\n",
              "      <td>0.0</td>\n",
              "      <td>0.0</td>\n",
              "      <td>0.0</td>\n",
              "      <td>0.0</td>\n",
              "      <td>0.0</td>\n",
              "      <td>0.0</td>\n",
              "      <td>...</td>\n",
              "      <td>0.0</td>\n",
              "      <td>0.0</td>\n",
              "      <td>0.0</td>\n",
              "      <td>0.0</td>\n",
              "      <td>0.0</td>\n",
              "      <td>0.0</td>\n",
              "      <td>0.0</td>\n",
              "      <td>0.0</td>\n",
              "      <td>0.0</td>\n",
              "      <td>0.0</td>\n",
              "      <td>0.0</td>\n",
              "      <td>0.0</td>\n",
              "      <td>0.0</td>\n",
              "      <td>0.0</td>\n",
              "      <td>0.0</td>\n",
              "      <td>0.0</td>\n",
              "      <td>0.0</td>\n",
              "      <td>0.0</td>\n",
              "      <td>0.0</td>\n",
              "      <td>0.0</td>\n",
              "      <td>0.0</td>\n",
              "      <td>0.0</td>\n",
              "      <td>0.0</td>\n",
              "      <td>0.0</td>\n",
              "      <td>0.0</td>\n",
              "      <td>0.0</td>\n",
              "      <td>0.0</td>\n",
              "      <td>0.0</td>\n",
              "      <td>0.0</td>\n",
              "      <td>0.0</td>\n",
              "      <td>0.0</td>\n",
              "      <td>0.0</td>\n",
              "      <td>0.0</td>\n",
              "      <td>0.0</td>\n",
              "      <td>0.0</td>\n",
              "      <td>0.0</td>\n",
              "      <td>0.0</td>\n",
              "      <td>0.0</td>\n",
              "      <td>0.0</td>\n",
              "      <td>GRP_0</td>\n",
              "    </tr>\n",
              "    <tr>\n",
              "      <th>1</th>\n",
              "      <td>0.0</td>\n",
              "      <td>0.0</td>\n",
              "      <td>0.0</td>\n",
              "      <td>0.0</td>\n",
              "      <td>0.0</td>\n",
              "      <td>0.0</td>\n",
              "      <td>0.000000</td>\n",
              "      <td>0.0</td>\n",
              "      <td>0.0</td>\n",
              "      <td>0.0</td>\n",
              "      <td>0.0</td>\n",
              "      <td>0.0</td>\n",
              "      <td>0.0</td>\n",
              "      <td>0.0</td>\n",
              "      <td>0.000000</td>\n",
              "      <td>0.0</td>\n",
              "      <td>0.0</td>\n",
              "      <td>0.0</td>\n",
              "      <td>0.0</td>\n",
              "      <td>0.0</td>\n",
              "      <td>0.0</td>\n",
              "      <td>0.0</td>\n",
              "      <td>0.0</td>\n",
              "      <td>0.0</td>\n",
              "      <td>0.0</td>\n",
              "      <td>0.0</td>\n",
              "      <td>0.0</td>\n",
              "      <td>0.0</td>\n",
              "      <td>0.0</td>\n",
              "      <td>0.0</td>\n",
              "      <td>0.0</td>\n",
              "      <td>0.0</td>\n",
              "      <td>0.0</td>\n",
              "      <td>0.000000</td>\n",
              "      <td>0.0</td>\n",
              "      <td>0.0</td>\n",
              "      <td>0.0</td>\n",
              "      <td>0.0</td>\n",
              "      <td>0.0</td>\n",
              "      <td>0.0</td>\n",
              "      <td>...</td>\n",
              "      <td>0.0</td>\n",
              "      <td>0.0</td>\n",
              "      <td>0.0</td>\n",
              "      <td>0.0</td>\n",
              "      <td>0.0</td>\n",
              "      <td>0.0</td>\n",
              "      <td>0.0</td>\n",
              "      <td>0.0</td>\n",
              "      <td>0.0</td>\n",
              "      <td>0.0</td>\n",
              "      <td>0.0</td>\n",
              "      <td>0.0</td>\n",
              "      <td>0.0</td>\n",
              "      <td>0.0</td>\n",
              "      <td>0.0</td>\n",
              "      <td>0.0</td>\n",
              "      <td>0.0</td>\n",
              "      <td>0.0</td>\n",
              "      <td>0.0</td>\n",
              "      <td>0.0</td>\n",
              "      <td>0.0</td>\n",
              "      <td>0.0</td>\n",
              "      <td>0.0</td>\n",
              "      <td>0.0</td>\n",
              "      <td>0.0</td>\n",
              "      <td>0.0</td>\n",
              "      <td>0.0</td>\n",
              "      <td>0.0</td>\n",
              "      <td>0.0</td>\n",
              "      <td>0.0</td>\n",
              "      <td>0.0</td>\n",
              "      <td>0.0</td>\n",
              "      <td>0.0</td>\n",
              "      <td>0.0</td>\n",
              "      <td>0.0</td>\n",
              "      <td>0.0</td>\n",
              "      <td>0.0</td>\n",
              "      <td>0.0</td>\n",
              "      <td>0.0</td>\n",
              "      <td>GRP_0</td>\n",
              "    </tr>\n",
              "    <tr>\n",
              "      <th>2</th>\n",
              "      <td>0.0</td>\n",
              "      <td>0.0</td>\n",
              "      <td>0.0</td>\n",
              "      <td>0.0</td>\n",
              "      <td>0.0</td>\n",
              "      <td>0.0</td>\n",
              "      <td>0.000000</td>\n",
              "      <td>0.0</td>\n",
              "      <td>0.0</td>\n",
              "      <td>0.0</td>\n",
              "      <td>0.0</td>\n",
              "      <td>0.0</td>\n",
              "      <td>0.0</td>\n",
              "      <td>0.0</td>\n",
              "      <td>0.000000</td>\n",
              "      <td>0.0</td>\n",
              "      <td>0.0</td>\n",
              "      <td>0.0</td>\n",
              "      <td>0.0</td>\n",
              "      <td>0.0</td>\n",
              "      <td>0.0</td>\n",
              "      <td>0.0</td>\n",
              "      <td>0.0</td>\n",
              "      <td>0.0</td>\n",
              "      <td>0.0</td>\n",
              "      <td>0.0</td>\n",
              "      <td>0.0</td>\n",
              "      <td>0.0</td>\n",
              "      <td>0.0</td>\n",
              "      <td>0.0</td>\n",
              "      <td>0.0</td>\n",
              "      <td>0.0</td>\n",
              "      <td>0.0</td>\n",
              "      <td>0.000000</td>\n",
              "      <td>0.0</td>\n",
              "      <td>0.0</td>\n",
              "      <td>0.0</td>\n",
              "      <td>0.0</td>\n",
              "      <td>0.0</td>\n",
              "      <td>0.0</td>\n",
              "      <td>...</td>\n",
              "      <td>0.0</td>\n",
              "      <td>0.0</td>\n",
              "      <td>0.0</td>\n",
              "      <td>0.0</td>\n",
              "      <td>0.0</td>\n",
              "      <td>0.0</td>\n",
              "      <td>0.0</td>\n",
              "      <td>0.0</td>\n",
              "      <td>0.0</td>\n",
              "      <td>0.0</td>\n",
              "      <td>0.0</td>\n",
              "      <td>0.0</td>\n",
              "      <td>0.0</td>\n",
              "      <td>0.0</td>\n",
              "      <td>0.0</td>\n",
              "      <td>0.0</td>\n",
              "      <td>0.0</td>\n",
              "      <td>0.0</td>\n",
              "      <td>0.0</td>\n",
              "      <td>0.0</td>\n",
              "      <td>0.0</td>\n",
              "      <td>0.0</td>\n",
              "      <td>0.0</td>\n",
              "      <td>0.0</td>\n",
              "      <td>0.0</td>\n",
              "      <td>0.0</td>\n",
              "      <td>0.0</td>\n",
              "      <td>0.0</td>\n",
              "      <td>0.0</td>\n",
              "      <td>0.0</td>\n",
              "      <td>0.0</td>\n",
              "      <td>0.0</td>\n",
              "      <td>0.0</td>\n",
              "      <td>0.0</td>\n",
              "      <td>0.0</td>\n",
              "      <td>0.0</td>\n",
              "      <td>0.0</td>\n",
              "      <td>0.0</td>\n",
              "      <td>0.0</td>\n",
              "      <td>GRP_0</td>\n",
              "    </tr>\n",
              "    <tr>\n",
              "      <th>3</th>\n",
              "      <td>0.0</td>\n",
              "      <td>0.0</td>\n",
              "      <td>0.0</td>\n",
              "      <td>0.0</td>\n",
              "      <td>0.0</td>\n",
              "      <td>0.0</td>\n",
              "      <td>0.000000</td>\n",
              "      <td>0.0</td>\n",
              "      <td>0.0</td>\n",
              "      <td>0.0</td>\n",
              "      <td>0.0</td>\n",
              "      <td>0.0</td>\n",
              "      <td>0.0</td>\n",
              "      <td>0.0</td>\n",
              "      <td>0.357918</td>\n",
              "      <td>0.0</td>\n",
              "      <td>0.0</td>\n",
              "      <td>0.0</td>\n",
              "      <td>0.0</td>\n",
              "      <td>0.0</td>\n",
              "      <td>0.0</td>\n",
              "      <td>0.0</td>\n",
              "      <td>0.0</td>\n",
              "      <td>0.0</td>\n",
              "      <td>0.0</td>\n",
              "      <td>0.0</td>\n",
              "      <td>0.0</td>\n",
              "      <td>0.0</td>\n",
              "      <td>0.0</td>\n",
              "      <td>0.0</td>\n",
              "      <td>0.0</td>\n",
              "      <td>0.0</td>\n",
              "      <td>0.0</td>\n",
              "      <td>0.000000</td>\n",
              "      <td>0.0</td>\n",
              "      <td>0.0</td>\n",
              "      <td>0.0</td>\n",
              "      <td>0.0</td>\n",
              "      <td>0.0</td>\n",
              "      <td>0.0</td>\n",
              "      <td>...</td>\n",
              "      <td>0.0</td>\n",
              "      <td>0.0</td>\n",
              "      <td>0.0</td>\n",
              "      <td>0.0</td>\n",
              "      <td>0.0</td>\n",
              "      <td>0.0</td>\n",
              "      <td>0.0</td>\n",
              "      <td>0.0</td>\n",
              "      <td>0.0</td>\n",
              "      <td>0.0</td>\n",
              "      <td>0.0</td>\n",
              "      <td>0.0</td>\n",
              "      <td>0.0</td>\n",
              "      <td>0.0</td>\n",
              "      <td>0.0</td>\n",
              "      <td>0.0</td>\n",
              "      <td>0.0</td>\n",
              "      <td>0.0</td>\n",
              "      <td>0.0</td>\n",
              "      <td>0.0</td>\n",
              "      <td>0.0</td>\n",
              "      <td>0.0</td>\n",
              "      <td>0.0</td>\n",
              "      <td>0.0</td>\n",
              "      <td>0.0</td>\n",
              "      <td>0.0</td>\n",
              "      <td>0.0</td>\n",
              "      <td>0.0</td>\n",
              "      <td>0.0</td>\n",
              "      <td>0.0</td>\n",
              "      <td>0.0</td>\n",
              "      <td>0.0</td>\n",
              "      <td>0.0</td>\n",
              "      <td>0.0</td>\n",
              "      <td>0.0</td>\n",
              "      <td>0.0</td>\n",
              "      <td>0.0</td>\n",
              "      <td>0.0</td>\n",
              "      <td>0.0</td>\n",
              "      <td>GRP_0</td>\n",
              "    </tr>\n",
              "    <tr>\n",
              "      <th>4</th>\n",
              "      <td>0.0</td>\n",
              "      <td>0.0</td>\n",
              "      <td>0.0</td>\n",
              "      <td>0.0</td>\n",
              "      <td>0.0</td>\n",
              "      <td>0.0</td>\n",
              "      <td>0.000000</td>\n",
              "      <td>0.0</td>\n",
              "      <td>0.0</td>\n",
              "      <td>0.0</td>\n",
              "      <td>0.0</td>\n",
              "      <td>0.0</td>\n",
              "      <td>0.0</td>\n",
              "      <td>0.0</td>\n",
              "      <td>0.000000</td>\n",
              "      <td>0.0</td>\n",
              "      <td>0.0</td>\n",
              "      <td>0.0</td>\n",
              "      <td>0.0</td>\n",
              "      <td>0.0</td>\n",
              "      <td>0.0</td>\n",
              "      <td>0.0</td>\n",
              "      <td>0.0</td>\n",
              "      <td>0.0</td>\n",
              "      <td>0.0</td>\n",
              "      <td>0.0</td>\n",
              "      <td>0.0</td>\n",
              "      <td>0.0</td>\n",
              "      <td>0.0</td>\n",
              "      <td>0.0</td>\n",
              "      <td>0.0</td>\n",
              "      <td>0.0</td>\n",
              "      <td>0.0</td>\n",
              "      <td>0.000000</td>\n",
              "      <td>0.0</td>\n",
              "      <td>0.0</td>\n",
              "      <td>0.0</td>\n",
              "      <td>0.0</td>\n",
              "      <td>0.0</td>\n",
              "      <td>0.0</td>\n",
              "      <td>...</td>\n",
              "      <td>0.0</td>\n",
              "      <td>0.0</td>\n",
              "      <td>0.0</td>\n",
              "      <td>0.0</td>\n",
              "      <td>0.0</td>\n",
              "      <td>0.0</td>\n",
              "      <td>0.0</td>\n",
              "      <td>0.0</td>\n",
              "      <td>0.0</td>\n",
              "      <td>0.0</td>\n",
              "      <td>0.0</td>\n",
              "      <td>0.0</td>\n",
              "      <td>0.0</td>\n",
              "      <td>0.0</td>\n",
              "      <td>0.0</td>\n",
              "      <td>0.0</td>\n",
              "      <td>0.0</td>\n",
              "      <td>0.0</td>\n",
              "      <td>0.0</td>\n",
              "      <td>0.0</td>\n",
              "      <td>0.0</td>\n",
              "      <td>0.0</td>\n",
              "      <td>0.0</td>\n",
              "      <td>0.0</td>\n",
              "      <td>0.0</td>\n",
              "      <td>0.0</td>\n",
              "      <td>0.0</td>\n",
              "      <td>0.0</td>\n",
              "      <td>0.0</td>\n",
              "      <td>0.0</td>\n",
              "      <td>0.0</td>\n",
              "      <td>0.0</td>\n",
              "      <td>0.0</td>\n",
              "      <td>0.0</td>\n",
              "      <td>0.0</td>\n",
              "      <td>0.0</td>\n",
              "      <td>0.0</td>\n",
              "      <td>0.0</td>\n",
              "      <td>0.0</td>\n",
              "      <td>GRP_0</td>\n",
              "    </tr>\n",
              "  </tbody>\n",
              "</table>\n",
              "<p>5 rows × 2404 columns</p>\n",
              "</div>"
            ],
            "text/plain": [
              "     0    1    2    3    4    5  ...  2398  2399  Job  SID  Host  Assignment group\n",
              "0  0.0  0.0  0.0  0.0  0.0  0.0  ...   0.0   0.0  0.0  0.0   0.0             GRP_0\n",
              "1  0.0  0.0  0.0  0.0  0.0  0.0  ...   0.0   0.0  0.0  0.0   0.0             GRP_0\n",
              "2  0.0  0.0  0.0  0.0  0.0  0.0  ...   0.0   0.0  0.0  0.0   0.0             GRP_0\n",
              "3  0.0  0.0  0.0  0.0  0.0  0.0  ...   0.0   0.0  0.0  0.0   0.0             GRP_0\n",
              "4  0.0  0.0  0.0  0.0  0.0  0.0  ...   0.0   0.0  0.0  0.0   0.0             GRP_0\n",
              "\n",
              "[5 rows x 2404 columns]"
            ]
          },
          "metadata": {
            "tags": []
          },
          "execution_count": 218
        }
      ]
    },
    {
      "cell_type": "code",
      "metadata": {
        "id": "AbFmAncbysO6"
      },
      "source": [
        "# Split X and y into training and test set in 70:30 ratio\r\n",
        "x1 = df_inc1.drop('Assignment group',axis=1)    \r\n",
        "y1 = df_inc1['Assignment group']   \r\n",
        "def stratifiedSplitting (x1, y1, test_sizing):\r\n",
        "  stratifiedSplitter = StratifiedShuffleSplit(n_splits=5, test_size=test_sizing, random_state=0)\r\n",
        "  train, test = next(stratifiedSplitter.split(x1, y1))\r\n",
        "  y_train = y1.iloc[train]\r\n",
        "  y_test = y1.iloc[test]\r\n",
        "  x_train = x1.iloc[train]\r\n",
        "  x_test = x1.iloc[test]\r\n",
        "  return x_train, x_test, y_train, y_test \r\n",
        "\r\n",
        "x_train_1, x_test_1, y_train_1, y_test_1 = stratifiedSplitting(x1, y1, 0.3)\r\n",
        "#stratifiedSplitter.get_n_splits(x, y)\r\n",
        "#for train_index, test_index in stratifiedSplitter.split(x, y):\r\n",
        "  #x_train, x_test = x[train_index], x[test_index]\r\n",
        "  #y_train, y_test = y[train_index], y[test_index]\r\n",
        "  #print(train_index)\r\n",
        "\r\n",
        "#x_train, x_test, y_train, y_test = train_test_split(X, Y, test_size=0.3, random_state=10) \r\n",
        "\r\n"
      ],
      "execution_count": null,
      "outputs": []
    },
    {
      "cell_type": "code",
      "metadata": {
        "colab": {
          "base_uri": "https://localhost:8080/",
          "height": 299
        },
        "id": "x787DkKytxML",
        "outputId": "5bccf029-0bf3-4067-b231-b377182cc2a7"
      },
      "source": [
        "rf_gs_2=RandomForestClassifier(random_state=1, max_features='log2', n_estimators= 50,  criterion='entropy', class_weights = \"balanced\")\r\n",
        "rf_gs_2.fit(x_train_1, y_train_1)\r\n",
        "pred1=rf_gs_2.predict(x_train_1)\r\n",
        "pred2=rf_gs_2.predict(x_test_1)\r\n",
        "\r\n",
        "cm = confusion_matrix(y_test_1, pred2)\r\n",
        "sns.heatmap(cm)"
      ],
      "execution_count": null,
      "outputs": [
        {
          "output_type": "execute_result",
          "data": {
            "text/plain": [
              "<matplotlib.axes._subplots.AxesSubplot at 0x7f1ff20286a0>"
            ]
          },
          "metadata": {
            "tags": []
          },
          "execution_count": 221
        },
        {
          "output_type": "display_data",
          "data": {
            "image/png": "[encoded data removed]",
            "text/plain": [
              "<Figure size 432x288 with 2 Axes>"
            ]
          },
          "metadata": {
            "tags": []
          }
        }
      ]
    },
    {
      "cell_type": "code",
      "metadata": {
        "colab": {
          "base_uri": "https://localhost:8080/",
          "height": 421
        },
        "id": "RCZjtzk5zG7o",
        "outputId": "acbeddb1-f2ae-4401-bb73-8ca1543ce875"
      },
      "source": [
        "#Store the accuracy results of each model in a dataframe for final comparison\r\n",
        "Accuracy_rf = pd.DataFrame({'Classification Model':['Random Forest Classifier Base Data'], 'Training Accuracy': round(100*metrics.accuracy_score(y_train_1, pred1),2), 'Test Accuracy': round(100*metrics.accuracy_score(y_test_1, pred2),2)},index={'20'})\r\n",
        "Accuracy_Matrix = pd.concat([Accuracy_Matrix, Accuracy_rf])\r\n",
        "Accuracy_Matrix"
      ],
      "execution_count": null,
      "outputs": [
        {
          "output_type": "execute_result",
          "data": {
            "text/html": [
              "<div>\n",
              "<style scoped>\n",
              "    .dataframe tbody tr th:only-of-type {\n",
              "        vertical-align: middle;\n",
              "    }\n",
              "\n",
              "    .dataframe tbody tr th {\n",
              "        vertical-align: top;\n",
              "    }\n",
              "\n",
              "    .dataframe thead th {\n",
              "        text-align: right;\n",
              "    }\n",
              "</style>\n",
              "<table border=\"1\" class=\"dataframe\">\n",
              "  <thead>\n",
              "    <tr style=\"text-align: right;\">\n",
              "      <th></th>\n",
              "      <th>Classification Model</th>\n",
              "      <th>Training Accuracy</th>\n",
              "      <th>Test Accuracy</th>\n",
              "    </tr>\n",
              "  </thead>\n",
              "  <tbody>\n",
              "    <tr>\n",
              "      <th>0</th>\n",
              "      <td>Logistic Regression</td>\n",
              "      <td>90.74</td>\n",
              "      <td>89.62</td>\n",
              "    </tr>\n",
              "    <tr>\n",
              "      <th>1</th>\n",
              "      <td>Logistic Regression using Random Search</td>\n",
              "      <td>94.32</td>\n",
              "      <td>93.57</td>\n",
              "    </tr>\n",
              "    <tr>\n",
              "      <th>2</th>\n",
              "      <td>Logistic Grid Classifier</td>\n",
              "      <td>94.41</td>\n",
              "      <td>93.64</td>\n",
              "    </tr>\n",
              "    <tr>\n",
              "      <th>3</th>\n",
              "      <td>XGBoost Classifier1</td>\n",
              "      <td>91.68</td>\n",
              "      <td>90.08</td>\n",
              "    </tr>\n",
              "    <tr>\n",
              "      <th>4</th>\n",
              "      <td>XGBoost Classifier2</td>\n",
              "      <td>95.78</td>\n",
              "      <td>94.42</td>\n",
              "    </tr>\n",
              "    <tr>\n",
              "      <th>6</th>\n",
              "      <td>Support Vector Classification</td>\n",
              "      <td>94.03</td>\n",
              "      <td>93.45</td>\n",
              "    </tr>\n",
              "    <tr>\n",
              "      <th>7</th>\n",
              "      <td>Support Vector Classification (Grid Search)</td>\n",
              "      <td>96.98</td>\n",
              "      <td>96.91</td>\n",
              "    </tr>\n",
              "    <tr>\n",
              "      <th>8</th>\n",
              "      <td>Random Forest Classifier</td>\n",
              "      <td>98.41</td>\n",
              "      <td>97.78</td>\n",
              "    </tr>\n",
              "    <tr>\n",
              "      <th>9</th>\n",
              "      <td>Random Forest Classifier (Grid Search)</td>\n",
              "      <td>98.46</td>\n",
              "      <td>98.31</td>\n",
              "    </tr>\n",
              "    <tr>\n",
              "      <th>10</th>\n",
              "      <td>LightGBM</td>\n",
              "      <td>98.28</td>\n",
              "      <td>97.52</td>\n",
              "    </tr>\n",
              "    <tr>\n",
              "      <th>12</th>\n",
              "      <td>LightGBM (Grid Search)</td>\n",
              "      <td>98.35</td>\n",
              "      <td>97.62</td>\n",
              "    </tr>\n",
              "    <tr>\n",
              "      <th>20</th>\n",
              "      <td>Random Forest Classifier Base Data</td>\n",
              "      <td>98.46</td>\n",
              "      <td>65.61</td>\n",
              "    </tr>\n",
              "  </tbody>\n",
              "</table>\n",
              "</div>"
            ],
            "text/plain": [
              "                           Classification Model  ...  Test Accuracy\n",
              "0                           Logistic Regression  ...          89.62\n",
              "1       Logistic Regression using Random Search  ...          93.57\n",
              "2                      Logistic Grid Classifier  ...          93.64\n",
              "3                           XGBoost Classifier1  ...          90.08\n",
              "4                           XGBoost Classifier2  ...          94.42\n",
              "6                 Support Vector Classification  ...          93.45\n",
              "7   Support Vector Classification (Grid Search)  ...          96.91\n",
              "8                      Random Forest Classifier  ...          97.78\n",
              "9        Random Forest Classifier (Grid Search)  ...          98.31\n",
              "10                                     LightGBM  ...          97.52\n",
              "12                       LightGBM (Grid Search)  ...          97.62\n",
              "20           Random Forest Classifier Base Data  ...          65.61\n",
              "\n",
              "[12 rows x 3 columns]"
            ]
          },
          "metadata": {
            "tags": []
          },
          "execution_count": 222
        }
      ]
    },
    {
      "cell_type": "code",
      "metadata": {
        "colab": {
          "base_uri": "https://localhost:8080/"
        },
        "id": "-vnmAFmXzIRN",
        "outputId": "05082364-a1ca-4c26-cdd2-0653af503a4d"
      },
      "source": [
        "model_lgb = lgb.LGBMClassifier(iterations=100, random_seed=42, loss_function='MultiClass')\r\n",
        "model_lgb.fit(x_train_1, y_train_1)"
      ],
      "execution_count": null,
      "outputs": [
        {
          "output_type": "execute_result",
          "data": {
            "text/plain": [
              "LGBMClassifier(boosting_type='gbdt', class_weight=None, colsample_bytree=1.0,\n",
              "               importance_type='split', iterations=100, learning_rate=0.1,\n",
              "               loss_function='MultiClass', max_depth=-1, min_child_samples=20,\n",
              "               min_child_weight=0.001, min_split_gain=0.0, n_estimators=100,\n",
              "               n_jobs=-1, num_leaves=31, objective=None, random_seed=42,\n",
              "               random_state=None, reg_alpha=0.0, reg_lambda=0.0, silent=True,\n",
              "               subsample=1.0, subsample_for_bin=200000, subsample_freq=0)"
            ]
          },
          "metadata": {
            "tags": []
          },
          "execution_count": 223
        }
      ]
    },
    {
      "cell_type": "code",
      "metadata": {
        "colab": {
          "base_uri": "https://localhost:8080/",
          "height": 452
        },
        "id": "-Mz_Y86szIJt",
        "outputId": "e7de2c14-e2de-4349-cac1-00b223de7257"
      },
      "source": [
        "#Store the accuracy results of each model in a dataframe for final comparison\r\n",
        "Accuracy_LGBM = pd.DataFrame({'Classification Model':['LightGBM Base Data'], 'Training Accuracy': round((100*model_lgb.score(x_train_1, y_train_1)),2), 'Test Accuracy': round((100*model_lgb.score(x_test_1,y_test_1)),2)},index={'21'})\r\n",
        "Accuracy_Matrix = pd.concat([Accuracy_Matrix, Accuracy_LGBM])\r\n",
        "Accuracy_Matrix"
      ],
      "execution_count": null,
      "outputs": [
        {
          "output_type": "execute_result",
          "data": {
            "text/html": [
              "<div>\n",
              "<style scoped>\n",
              "    .dataframe tbody tr th:only-of-type {\n",
              "        vertical-align: middle;\n",
              "    }\n",
              "\n",
              "    .dataframe tbody tr th {\n",
              "        vertical-align: top;\n",
              "    }\n",
              "\n",
              "    .dataframe thead th {\n",
              "        text-align: right;\n",
              "    }\n",
              "</style>\n",
              "<table border=\"1\" class=\"dataframe\">\n",
              "  <thead>\n",
              "    <tr style=\"text-align: right;\">\n",
              "      <th></th>\n",
              "      <th>Classification Model</th>\n",
              "      <th>Training Accuracy</th>\n",
              "      <th>Test Accuracy</th>\n",
              "    </tr>\n",
              "  </thead>\n",
              "  <tbody>\n",
              "    <tr>\n",
              "      <th>0</th>\n",
              "      <td>Logistic Regression</td>\n",
              "      <td>90.74</td>\n",
              "      <td>89.62</td>\n",
              "    </tr>\n",
              "    <tr>\n",
              "      <th>1</th>\n",
              "      <td>Logistic Regression using Random Search</td>\n",
              "      <td>94.32</td>\n",
              "      <td>93.57</td>\n",
              "    </tr>\n",
              "    <tr>\n",
              "      <th>2</th>\n",
              "      <td>Logistic Grid Classifier</td>\n",
              "      <td>94.41</td>\n",
              "      <td>93.64</td>\n",
              "    </tr>\n",
              "    <tr>\n",
              "      <th>3</th>\n",
              "      <td>XGBoost Classifier1</td>\n",
              "      <td>91.68</td>\n",
              "      <td>90.08</td>\n",
              "    </tr>\n",
              "    <tr>\n",
              "      <th>4</th>\n",
              "      <td>XGBoost Classifier2</td>\n",
              "      <td>95.78</td>\n",
              "      <td>94.42</td>\n",
              "    </tr>\n",
              "    <tr>\n",
              "      <th>6</th>\n",
              "      <td>Support Vector Classification</td>\n",
              "      <td>94.03</td>\n",
              "      <td>93.45</td>\n",
              "    </tr>\n",
              "    <tr>\n",
              "      <th>7</th>\n",
              "      <td>Support Vector Classification (Grid Search)</td>\n",
              "      <td>96.98</td>\n",
              "      <td>96.91</td>\n",
              "    </tr>\n",
              "    <tr>\n",
              "      <th>8</th>\n",
              "      <td>Random Forest Classifier</td>\n",
              "      <td>98.41</td>\n",
              "      <td>97.78</td>\n",
              "    </tr>\n",
              "    <tr>\n",
              "      <th>9</th>\n",
              "      <td>Random Forest Classifier (Grid Search)</td>\n",
              "      <td>98.46</td>\n",
              "      <td>98.31</td>\n",
              "    </tr>\n",
              "    <tr>\n",
              "      <th>10</th>\n",
              "      <td>LightGBM</td>\n",
              "      <td>98.28</td>\n",
              "      <td>97.52</td>\n",
              "    </tr>\n",
              "    <tr>\n",
              "      <th>12</th>\n",
              "      <td>LightGBM (Grid Search)</td>\n",
              "      <td>98.35</td>\n",
              "      <td>97.62</td>\n",
              "    </tr>\n",
              "    <tr>\n",
              "      <th>20</th>\n",
              "      <td>Random Forest Classifier Base Data</td>\n",
              "      <td>98.46</td>\n",
              "      <td>65.61</td>\n",
              "    </tr>\n",
              "    <tr>\n",
              "      <th>21</th>\n",
              "      <td>LightGBM Base Data</td>\n",
              "      <td>97.89</td>\n",
              "      <td>68.18</td>\n",
              "    </tr>\n",
              "  </tbody>\n",
              "</table>\n",
              "</div>"
            ],
            "text/plain": [
              "                           Classification Model  ...  Test Accuracy\n",
              "0                           Logistic Regression  ...          89.62\n",
              "1       Logistic Regression using Random Search  ...          93.57\n",
              "2                      Logistic Grid Classifier  ...          93.64\n",
              "3                           XGBoost Classifier1  ...          90.08\n",
              "4                           XGBoost Classifier2  ...          94.42\n",
              "6                 Support Vector Classification  ...          93.45\n",
              "7   Support Vector Classification (Grid Search)  ...          96.91\n",
              "8                      Random Forest Classifier  ...          97.78\n",
              "9        Random Forest Classifier (Grid Search)  ...          98.31\n",
              "10                                     LightGBM  ...          97.52\n",
              "12                       LightGBM (Grid Search)  ...          97.62\n",
              "20           Random Forest Classifier Base Data  ...          65.61\n",
              "21                           LightGBM Base Data  ...          68.18\n",
              "\n",
              "[13 rows x 3 columns]"
            ]
          },
          "metadata": {
            "tags": []
          },
          "execution_count": 224
        }
      ]
    },
    {
      "cell_type": "code",
      "metadata": {
        "colab": {
          "base_uri": "https://localhost:8080/"
        },
        "id": "Mh8WyPk5zIA_",
        "outputId": "ec7f6501-7765-473f-8a31-ff357293e41c"
      },
      "source": [
        "log_regressor = LogisticRegression(C = 4.3, class_weight= 'balanced', penalty= 'l1', solver= 'liblinear')\r\n",
        "log_regressor.fit(x_train_1, y_train_1)"
      ],
      "execution_count": null,
      "outputs": [
        {
          "output_type": "execute_result",
          "data": {
            "text/plain": [
              "LogisticRegression(C=4.3, class_weight='balanced', dual=False,\n",
              "                   fit_intercept=True, intercept_scaling=1, l1_ratio=None,\n",
              "                   max_iter=100, multi_class='auto', n_jobs=None, penalty='l1',\n",
              "                   random_state=None, solver='liblinear', tol=0.0001, verbose=0,\n",
              "                   warm_start=False)"
            ]
          },
          "metadata": {
            "tags": []
          },
          "execution_count": 226
        }
      ]
    },
    {
      "cell_type": "code",
      "metadata": {
        "colab": {
          "base_uri": "https://localhost:8080/",
          "height": 483
        },
        "id": "hBVejIQGzH36",
        "outputId": "c9cf3764-a466-4f21-f5c0-2f9f9cbeac46"
      },
      "source": [
        "#Store the accuracy results of each model in a dataframe for final comparison\r\n",
        "Accuracy_LR = pd.DataFrame({'Classification Model':['Logistic Regression'], 'Training Accuracy': round((100*log_regressor.score(x_train_1, y_train_1)),2), 'Test Accuracy': round((100*log_regressor.score(x_test_1,y_test_1)),2)},index={'22'})\r\n",
        "Accuracy_Matrix = pd.concat([Accuracy_Matrix, Accuracy_LR])\r\n",
        "Accuracy_Matrix"
      ],
      "execution_count": null,
      "outputs": [
        {
          "output_type": "execute_result",
          "data": {
            "text/html": [
              "<div>\n",
              "<style scoped>\n",
              "    .dataframe tbody tr th:only-of-type {\n",
              "        vertical-align: middle;\n",
              "    }\n",
              "\n",
              "    .dataframe tbody tr th {\n",
              "        vertical-align: top;\n",
              "    }\n",
              "\n",
              "    .dataframe thead th {\n",
              "        text-align: right;\n",
              "    }\n",
              "</style>\n",
              "<table border=\"1\" class=\"dataframe\">\n",
              "  <thead>\n",
              "    <tr style=\"text-align: right;\">\n",
              "      <th></th>\n",
              "      <th>Classification Model</th>\n",
              "      <th>Training Accuracy</th>\n",
              "      <th>Test Accuracy</th>\n",
              "    </tr>\n",
              "  </thead>\n",
              "  <tbody>\n",
              "    <tr>\n",
              "      <th>0</th>\n",
              "      <td>Logistic Regression</td>\n",
              "      <td>90.74</td>\n",
              "      <td>89.62</td>\n",
              "    </tr>\n",
              "    <tr>\n",
              "      <th>1</th>\n",
              "      <td>Logistic Regression using Random Search</td>\n",
              "      <td>94.32</td>\n",
              "      <td>93.57</td>\n",
              "    </tr>\n",
              "    <tr>\n",
              "      <th>2</th>\n",
              "      <td>Logistic Grid Classifier</td>\n",
              "      <td>94.41</td>\n",
              "      <td>93.64</td>\n",
              "    </tr>\n",
              "    <tr>\n",
              "      <th>3</th>\n",
              "      <td>XGBoost Classifier1</td>\n",
              "      <td>91.68</td>\n",
              "      <td>90.08</td>\n",
              "    </tr>\n",
              "    <tr>\n",
              "      <th>4</th>\n",
              "      <td>XGBoost Classifier2</td>\n",
              "      <td>95.78</td>\n",
              "      <td>94.42</td>\n",
              "    </tr>\n",
              "    <tr>\n",
              "      <th>6</th>\n",
              "      <td>Support Vector Classification</td>\n",
              "      <td>94.03</td>\n",
              "      <td>93.45</td>\n",
              "    </tr>\n",
              "    <tr>\n",
              "      <th>7</th>\n",
              "      <td>Support Vector Classification (Grid Search)</td>\n",
              "      <td>96.98</td>\n",
              "      <td>96.91</td>\n",
              "    </tr>\n",
              "    <tr>\n",
              "      <th>8</th>\n",
              "      <td>Random Forest Classifier</td>\n",
              "      <td>98.41</td>\n",
              "      <td>97.78</td>\n",
              "    </tr>\n",
              "    <tr>\n",
              "      <th>9</th>\n",
              "      <td>Random Forest Classifier (Grid Search)</td>\n",
              "      <td>98.46</td>\n",
              "      <td>98.31</td>\n",
              "    </tr>\n",
              "    <tr>\n",
              "      <th>10</th>\n",
              "      <td>LightGBM</td>\n",
              "      <td>98.28</td>\n",
              "      <td>97.52</td>\n",
              "    </tr>\n",
              "    <tr>\n",
              "      <th>12</th>\n",
              "      <td>LightGBM (Grid Search)</td>\n",
              "      <td>98.35</td>\n",
              "      <td>97.62</td>\n",
              "    </tr>\n",
              "    <tr>\n",
              "      <th>20</th>\n",
              "      <td>Random Forest Classifier Base Data</td>\n",
              "      <td>98.46</td>\n",
              "      <td>65.61</td>\n",
              "    </tr>\n",
              "    <tr>\n",
              "      <th>21</th>\n",
              "      <td>LightGBM Base Data</td>\n",
              "      <td>97.89</td>\n",
              "      <td>68.18</td>\n",
              "    </tr>\n",
              "    <tr>\n",
              "      <th>22</th>\n",
              "      <td>Logistic Regression</td>\n",
              "      <td>82.18</td>\n",
              "      <td>60.29</td>\n",
              "    </tr>\n",
              "  </tbody>\n",
              "</table>\n",
              "</div>"
            ],
            "text/plain": [
              "                           Classification Model  ...  Test Accuracy\n",
              "0                           Logistic Regression  ...          89.62\n",
              "1       Logistic Regression using Random Search  ...          93.57\n",
              "2                      Logistic Grid Classifier  ...          93.64\n",
              "3                           XGBoost Classifier1  ...          90.08\n",
              "4                           XGBoost Classifier2  ...          94.42\n",
              "6                 Support Vector Classification  ...          93.45\n",
              "7   Support Vector Classification (Grid Search)  ...          96.91\n",
              "8                      Random Forest Classifier  ...          97.78\n",
              "9        Random Forest Classifier (Grid Search)  ...          98.31\n",
              "10                                     LightGBM  ...          97.52\n",
              "12                       LightGBM (Grid Search)  ...          97.62\n",
              "20           Random Forest Classifier Base Data  ...          65.61\n",
              "21                           LightGBM Base Data  ...          68.18\n",
              "22                          Logistic Regression  ...          60.29\n",
              "\n",
              "[14 rows x 3 columns]"
            ]
          },
          "metadata": {
            "tags": []
          },
          "execution_count": 227
        }
      ]
    },
    {
      "cell_type": "code",
      "metadata": {
        "id": "Hg9Jv-Klsgl-"
      },
      "source": [
        "rule_df = ticket_data[ticket_data[\"Assignment group\"].apply(filter_group_small)]\r\n",
        "stop = stopwords.words('english')\r\n",
        "tokenizer = nltk.tokenize.RegexpTokenizer(r'\\w+')\r\n",
        "rule_df[\"D_translated\"] = rule_df[\"D_translated\"].apply(lambda x: \" \".join(x for x in str(x).split() if x not in stop))\r\n",
        "rule_df[\"SD_translated\"] = rule_df[\"SD_translated\"].apply(lambda x: \" \".join(x for x in str(x).split() if x not in stop))\r\n",
        "rule_df[\"Description_New\"] = rule_df[\"SD_translated\"] + \" \" + rule_df[\"D_translated\"]\r\n",
        "#rule_df['token_desc'] = rule_df['Description_New'].apply(lambda x: tokenizer.tokenize(x))\r\n",
        "rule_df['Description_New'].head()"
      ],
      "execution_count": null,
      "outputs": []
    },
    {
      "cell_type": "code",
      "metadata": {
        "id": "TjE3A9Cm41ss"
      },
      "source": [
        "rule_df = rule_df.reset_index()\r\n",
        "rule_df = rule_df.drop([\"index\"], axis = 1)"
      ],
      "execution_count": null,
      "outputs": []
    },
    {
      "cell_type": "code",
      "metadata": {
        "id": "NNTwthles2Ba"
      },
      "source": [
        "def rule_matching (text, df_to_search):\r\n",
        "  text_to_find = str(text).split()\r\n",
        "  counter = 0 \r\n",
        "  for word in text_to_find:\r\n",
        "    for sentence in df_to_search:\r\n",
        "      if word in sentence.split(\" \"):\r\n",
        "        counter = counter + 1\r\n",
        "        break\r\n",
        "  return counter/len(text_to_find)"
      ],
      "execution_count": null,
      "outputs": []
    },
    {
      "cell_type": "code",
      "metadata": {
        "id": "YG8G6bZBswu3"
      },
      "source": [
        "groups_to_search = pd.DataFrame(rule_df[\"Assignment group\"].value_counts())\r\n",
        "groups_to_search = groups_to_search.reset_index()\r\n",
        "groups_to_search.columns = [\"Assignment group\", \"Count\"]"
      ],
      "execution_count": null,
      "outputs": []
    },
    {
      "cell_type": "code",
      "metadata": {
        "id": "AOzaskZesyWa"
      },
      "source": [
        "def detect_rule_based_percentages(text_to_match):\r\n",
        "  total_groups = len(groups_to_search)\r\n",
        "  percentages = []\r\n",
        "  for i in range(total_groups):\r\n",
        "    percentages.append(rule_matching(text_to_match, list(rule_df[rule_df[\"Assignment group\"] == groups_to_search[\"Assignment group\"][i]][\"Description_New\"])))\r\n",
        "  return percentages"
      ],
      "execution_count": null,
      "outputs": []
    },
    {
      "cell_type": "markdown",
      "metadata": {
        "id": "oTTOhKn8xbu7"
      },
      "source": [
        "Plug in your testing variable here"
      ]
    },
    {
      "cell_type": "code",
      "metadata": {
        "id": "PPJLgiz3xZXP"
      },
      "source": [
        "text_to_detect = deep_learning_df[\"Description_New\"][3000]"
      ],
      "execution_count": null,
      "outputs": []
    },
    {
      "cell_type": "code",
      "metadata": {
        "id": "TdXBZxKmtFDR"
      },
      "source": [
        "def check_text(text_to_detect):\r\n",
        "  rule_based_result = detect_rule_based_percentages(text_to_detect)\r\n",
        "  count_rule_based_groups = len(rule_based_result)\r\n",
        "  max_prob = 0.7\r\n",
        "  group_id = \"Failed to assign group\"\r\n",
        "  text_to_detect = \" \".join([x for x in str(text_to_detect).split() if x not in stop])\r\n",
        "  for i in range(count_rule_based_groups):\r\n",
        "    if rule_based_result[i] > max_prob:\r\n",
        "      max_prob = rule_based_result[i]\r\n",
        "      group_id = groups_to_search[\"Assignment group\"][i]\r\n",
        "  if group_id == \"Failed to assign group\":\r\n",
        "    print(\"could not match through rules, will try machine learning\")\r\n",
        "    iterable_list = []\r\n",
        "    best_model = get_pickle_data(\"best_model_logistic_grid.pickle\")\r\n",
        "    text_to_detect = clean_text(text_to_detect)\r\n",
        "    iterable_list = [text_to_detect]\r\n",
        "    inc_tfidf_predict = tfidf.transform(iterable_list)\r\n",
        "    array = inc_tfidf_predict.todense()\r\n",
        "    inc_tfidf_predict = None\r\n",
        "    # store the tf-idf array into pandas dataframe\r\n",
        "    df_inc_predict = pd.DataFrame(array)\r\n",
        "    array = None\r\n",
        "    gc.collect()\r\n",
        "    return (\"GRP_\" + \"\".join(str(best_model.predict(df_inc_predict))))\r\n",
        "  else:\r\n",
        "    return (group_id)"
      ],
      "execution_count": null,
      "outputs": []
    },
    {
      "cell_type": "code",
      "metadata": {
        "id": "ExhHT7M01p19"
      },
      "source": [
        "machine_learning_df[\"Assignment group\"][3000]"
      ],
      "execution_count": null,
      "outputs": []
    },
    {
      "cell_type": "code",
      "metadata": {
        "id": "3rWkfOvI36hK"
      },
      "source": [
        "check_text(machine_learning_df[\"Description_New\"][3000])"
      ],
      "execution_count": null,
      "outputs": []
    },
    {
      "cell_type": "code",
      "metadata": {
        "id": "o5WILV3738eO"
      },
      "source": [
        "check_text(rule_df[\"Description_New\"][200])"
      ],
      "execution_count": null,
      "outputs": []
    },
    {
      "cell_type": "code",
      "metadata": {
        "id": "r5hIVBrY4lww"
      },
      "source": [
        "rule_df[\"Assignment group\"][200]"
      ],
      "execution_count": null,
      "outputs": []
    },
    {
      "cell_type": "markdown",
      "metadata": {
        "id": "xs1RhuCr63zC"
      },
      "source": [
        "Similarly we can invoke deep learning instead of machine learning model also. "
      ]
    },
    {
      "cell_type": "code",
      "metadata": {
        "id": "vaoI1B1jo7L8"
      },
      "source": [
        "ticket_data_translated = \" \"\r\n",
        "ticket_data_not_translated = \" \"\r\n",
        "if os.path.exists(folder_path + \"/\" + \"translated_data.pickle\"):\r\n",
        "  ticket_data_translated = get_pickle_data(\"translated_data.pickle\")\r\n",
        "  ticket_data_not_translated = ticket_data_translated[(ticket_data_translated[\"SD_translated_lang\"] != \"en\") \r\n",
        "  | (ticket_data_translated[\"D_translated_lang\"] != \"en\")]"
      ],
      "execution_count": null,
      "outputs": []
    },
    {
      "cell_type": "code",
      "metadata": {
        "id": "wIM28zhyqQhq"
      },
      "source": [
        "print(ticket_data_not_translated[\"D_translated\"][1])"
      ],
      "execution_count": null,
      "outputs": []
    },
    {
      "cell_type": "code",
      "metadata": {
        "id": "dxEXoDNiqYZC"
      },
      "source": [
        "try:\r\n",
        "  # %tensorflow_version only exists in Colab.\r\n",
        "  %tensorflow_version 2.x\r\n",
        "except Exception:\r\n",
        "  pass\r\n",
        "\r\n",
        "%load_ext tensorboard\r\n",
        "\r\n",
        "import os\r\n",
        "import tensorflow as tf\r\n",
        "import tensorflow_datasets as tfds\r\n",
        "from tensorboard.plugins import projector\r\n",
        "\r\n",
        "# Set up a logs directory, so Tensorboard knows where to look for files\r\n",
        "log_dir='/logs/'\r\n",
        "if not os.path.exists(log_dir):\r\n",
        "    os.makedirs(log_dir)\r\n",
        "\r\n",
        "# Save Labels separately on a line-by-line manner.\r\n",
        "with open(os.path.join(log_dir, 'metadata.tsv'), \"w\") as f:\r\n",
        "  for subwords in encoder.subwords:\r\n",
        "    f.write(\"{}\\n\".format(subwords))\r\n",
        "  # Fill in the rest of the labels with \"unknown\"\r\n",
        "  for unknown in range(1, encoder.vocab_size - len(encoder.subwords)):\r\n",
        "    f.write(\"unknown #{}\\n\".format(unknown))\r\n",
        "\r\n",
        "\r\n",
        "# Save the weights we want to analyse as a variable. Note that the first\r\n",
        "# value represents any unknown word, which is not in the metadata, so\r\n",
        "# we will remove that value.\r\n",
        "weights = tf.Variable(model.layers[0].get_weights()[0][1:])\r\n",
        "# Create a checkpoint from embedding, the filename and key are\r\n",
        "# name of the tensor.\r\n",
        "checkpoint = tf.train.Checkpoint(embedding=weights)\r\n",
        "checkpoint.save(os.path.join(log_dir, \"embedding.ckpt\"))\r\n",
        "\r\n",
        "# Set up config\r\n",
        "config = projector.ProjectorConfig()\r\n",
        "embedding = config.embeddings.add()\r\n",
        "# The name of the tensor will be suffixed by `/.ATTRIBUTES/VARIABLE_VALUE`\r\n",
        "embedding.tensor_name = \"embedding/.ATTRIBUTES/VARIABLE_VALUE\"\r\n",
        "embedding.metadata_path = 'metadata.tsv'\r\n",
        "projector.visualize_embeddings(log_dir, config)"
      ],
      "execution_count": null,
      "outputs": []
    }
  ]
}